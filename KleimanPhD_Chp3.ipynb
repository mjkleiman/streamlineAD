{
  "nbformat": 4,
  "nbformat_minor": 0,
  "metadata": {
    "colab": {
      "name": "KleimanPhD Chp3",
      "version": "0.3.2",
      "provenance": [],
      "collapsed_sections": [
        "FjJMxUDJfF7Q",
        "iJctVw-ifIaN",
        "eGKfLXFKfDwr",
        "Hd0D1NLg4Bxj",
        "lqQY7EEj3iUK"
      ],
      "include_colab_link": true
    },
    "kernelspec": {
      "name": "python3",
      "display_name": "Python 3"
    },
    "accelerator": "TPU"
  },
  "cells": [
    {
      "cell_type": "markdown",
      "metadata": {
        "id": "view-in-github",
        "colab_type": "text"
      },
      "source": [
        "<a href=\"https://colab.research.google.com/github/mjkleiman/streamlineAD/blob/master/KleimanPhD_Chp3.ipynb\" target=\"_parent\"><img src=\"https://colab.research.google.com/assets/colab-badge.svg\" alt=\"Open In Colab\"/></a>"
      ]
    },
    {
      "cell_type": "code",
      "metadata": {
        "id": "aMSvyhqBweVD",
        "colab_type": "code",
        "outputId": "8ddc2775-e998-4d79-d6be-3f7d2e477f94",
        "colab": {
          "base_uri": "https://localhost:8080/",
          "height": 128
        }
      },
      "source": [
        "import numpy as np\n",
        "import pandas as pd\n",
        "\n",
        "from google.colab import drive\n",
        "drive.mount('/content/gdrive')\n",
        "dir='/content/gdrive/My Drive/Dissertation/'\n"
      ],
      "execution_count": 0,
      "outputs": [
        {
          "output_type": "stream",
          "text": [
            "Go to this URL in a browser: https://accounts.google.com/o/oauth2/auth?client_id=947318989803-6bn6qk8qdgf4n4g3pfee6491hc0brc4i.apps.googleusercontent.com&redirect_uri=urn%3Aietf%3Awg%3Aoauth%3A2.0%3Aoob&scope=email%20https%3A%2F%2Fwww.googleapis.com%2Fauth%2Fdocs.test%20https%3A%2F%2Fwww.googleapis.com%2Fauth%2Fdrive%20https%3A%2F%2Fwww.googleapis.com%2Fauth%2Fdrive.photos.readonly%20https%3A%2F%2Fwww.googleapis.com%2Fauth%2Fpeopleapi.readonly&response_type=code\n",
            "\n",
            "Enter your authorization code:\n",
            "··········\n",
            "Mounted at /content/gdrive\n"
          ],
          "name": "stdout"
        }
      ]
    },
    {
      "cell_type": "markdown",
      "metadata": {
        "id": "B0fF3sjv3SnK",
        "colab_type": "text"
      },
      "source": [
        "# Cost-Sum Feature Selection"
      ]
    },
    {
      "cell_type": "code",
      "metadata": {
        "id": "DMz8jWHe3T2L",
        "colab_type": "code",
        "colab": {}
      },
      "source": [
        "adni_pair_X = pd.read_csv(f'{dir}/Data/adni_pair_X.csv')\n",
        "adni_pair_y2 = pd.read_csv(f'{dir}/Data/adni_pair_y2.csv')\n",
        "adni_pair_y3 = pd.read_csv(f'{dir}/Data/adni_pair_y3.csv')\n",
        "\n",
        "features = pd.read_csv(f'{dir}/features_paired.csv')"
      ],
      "execution_count": 0,
      "outputs": []
    },
    {
      "cell_type": "markdown",
      "metadata": {
        "id": "Hd0D1NLg4Bxj",
        "colab_type": "text"
      },
      "source": [
        "## Efficiency Costs"
      ]
    },
    {
      "cell_type": "markdown",
      "metadata": {
        "id": "dOl02ZZ48i8L",
        "colab_type": "text"
      },
      "source": [
        "### Time\n",
        "\n",
        "Must be considered on its own. Any required delay is counted\n",
        "\n",
        "- 1 = Less than a minute\n",
        "- 2 = 1 min to 5 minutes\n",
        "- 3 = 5 minutes to 20 minutes\n",
        "- 4 = 20 minutes to 45 mins\n",
        "- 5 = over 45 mins"
      ]
    },
    {
      "cell_type": "code",
      "metadata": {
        "id": "d2fRrm6V3_2i",
        "colab_type": "code",
        "colab": {}
      },
      "source": [
        "df = pd.DataFrame(columns=adni_pair_X.columns.values)"
      ],
      "execution_count": 0,
      "outputs": []
    },
    {
      "cell_type": "code",
      "metadata": {
        "colab_type": "code",
        "id": "PD6RdYXk8nII",
        "colab": {}
      },
      "source": [
        "df.loc['time',['moca_visuo_exec', 'moca_clock']]=2\n",
        "df.loc['time',['moca_naming']]=1\n",
        "df.loc['time',['moca_digits']]=2\n",
        "df.loc['time',['moca_letters']]=2\n",
        "df.loc['time',['moca_serial7']]=2\n",
        "df.loc['time',['moca_repeat']]=1\n",
        "df.loc['time',['moca_fluency']]=2\n",
        "df.loc['time',['moca_recall']]=1\n",
        "df.loc['time',['moca_similarities', 'moca_orient']]=1\n",
        "df.loc['time',['faq1', 'faq2', 'faq3', 'faq4',\n",
        "       'faq5', 'faq6', 'faq7', 'faq8', 'faq9', 'faq10']]=1\n",
        "df.loc['time',['MMNAME']]=1\n",
        "df.loc['time',['MMREPEAT']]=1\n",
        "df.loc['time',['MMREAD']]=2\n",
        "df.loc['time',['hach1', 'hach2', 'hach3', 'hach4', 'hach5', 'hach6', 'hach7',\n",
        "       'hach8']]=1\n",
        "df.loc['time',['PXHEADEY', 'PXNECK', 'PXHEART']]=2\n",
        "df.loc['time',['CDR_orient', 'CDR_judge', 'CDR_comm',\n",
        "       'CDR_home', 'CDR_care']]=2\n",
        "df.loc['time',['vlt_recogn']]=2\n",
        "df.loc['time',['vlt_delay']]=4\n",
        "df.loc['time',['nbspan_forward', 'nbspan_backward']]=3\n",
        "df.loc['time',['verbal_fluency']]=2\n",
        "df.loc['time',['tma_time', 'tmb_time','tmb_mistakes']]=2\n",
        "df.loc['time',['vlt_recall']]=2\n",
        "df.loc['time',['npi1_sev', 'npi2_sev', 'npi3_sev', 'npi4_sev',\n",
        "       'npi5_sev', 'npi6_sev', 'npi7_sev', 'npi8_sev', 'npi9_sev',\n",
        "       'npi10_sev', 'npi11_sev', 'npi12_sev']]=1\n",
        "df.loc['time',['PTGENDER', 'PTHAND',\n",
        "       'PTEDUCAT', 'PTRETIRED', 'PTHOME', 'PTRACE']]=1\n",
        "df.loc['time',['FAMHISTAD', 'FAMHISTDEM']]=1\n",
        "df.loc['time',['q_memory_pt', 'q_orient_pt',\n",
        "       'q_judgmt_pt', 'q_outsideact_pt', 'q_homeact_pt', 'q_language_pt',\n",
        "       'q_attention_pt', 'q_memory_cg', 'q_orient_cg',\n",
        "       'q_judgmt_cg', 'q_outsideact_cg', 'q_homeact_cg', 'q_language_cg',\n",
        "       'q_attention_cg']]=1"
      ],
      "execution_count": 0,
      "outputs": []
    },
    {
      "cell_type": "markdown",
      "metadata": {
        "colab_type": "text",
        "id": "TkGl87yY8nIJ"
      },
      "source": [
        "### Difficulty\n",
        "\n",
        "- 1 = Minimal/neglible effort/doctor not required\n",
        "- 2 = Some effort required to analyze/administer (30 seconds or less to analyze), minimal focus\n",
        "- 3 = Up to a few minutes required to analyze / requires focus or effort (cannot analyze with patient present) (minimum for needing specialist)\n",
        "- 4 = Up to 5 minutes to analyze per question / requires significant focus or effort\n",
        "- 5 = More than 5 minutes to analyze, extreme focus/effort required"
      ]
    },
    {
      "cell_type": "code",
      "metadata": {
        "id": "gSrpfou3-FKS",
        "colab_type": "code",
        "colab": {}
      },
      "source": [
        "df.loc['diff',['moca_visuo_exec', 'moca_clock']]=2\n",
        "df.loc['diff',['moca_naming']]=2\n",
        "df.loc['diff',['moca_digits']]=3\n",
        "df.loc['diff',['moca_letters']]=3\n",
        "df.loc['diff',['moca_serial7']]=3\n",
        "df.loc['diff',['moca_repeat']]=2\n",
        "df.loc['diff',['moca_fluency']]=3\n",
        "df.loc['diff',['moca_recall']]=2\n",
        "df.loc['diff',['moca_similarities', 'moca_orient']]=1\n",
        "df.loc['diff',['faq1', 'faq2', 'faq3', 'faq4',\n",
        "       'faq5', 'faq6', 'faq7', 'faq8', 'faq9', 'faq10']]=2\n",
        "df.loc['diff',['MMNAME']]=1\n",
        "df.loc['diff',['MMREPEAT']]=1\n",
        "df.loc['diff',['MMREAD']]=2\n",
        "df.loc['diff',['hach1', 'hach2', 'hach3', 'hach4', 'hach5', 'hach6', 'hach7',\n",
        "       'hach8']]=2\n",
        "df.loc['diff',['PXHEADEY', 'PXNECK', 'PXHEART']]=3\n",
        "df.loc['diff',['CDR_orient', 'CDR_judge', 'CDR_comm',\n",
        "       'CDR_home', 'CDR_care']]=4\n",
        "df.loc['diff',['vlt_recogn']]=2\n",
        "df.loc['diff',['vlt_delay']]=2\n",
        "df.loc['diff',['nbspan_forward', 'nbspan_backward']]=2\n",
        "df.loc['diff',['verbal_fluency']]=1\n",
        "df.loc['diff',['tma_time', 'tmb_time','tmb_mistakes']]=3\n",
        "df.loc['diff',['vlt_recall']]=2\n",
        "df.loc['diff',['npi1_sev', 'npi2_sev', 'npi3_sev', 'npi4_sev',\n",
        "       'npi5_sev', 'npi6_sev', 'npi7_sev', 'npi8_sev', 'npi9_sev',\n",
        "       'npi10_sev', 'npi11_sev', 'npi12_sev']]=3\n",
        "df.loc['diff',['PTGENDER', 'PTHAND',\n",
        "       'PTEDUCAT', 'PTRETIRED', 'PTHOME', 'PTRACE']]=1\n",
        "df.loc['diff',['FAMHISTAD', 'FAMHISTDEM']]=1\n",
        "df.loc['diff',['q_memory_pt', 'q_orient_pt',\n",
        "       'q_judgmt_pt', 'q_outsideact_pt', 'q_homeact_pt', 'q_language_pt',\n",
        "       'q_attention_pt', 'q_memory_cg', 'q_orient_cg',\n",
        "       'q_judgmt_cg', 'q_outsideact_cg', 'q_homeact_cg', 'q_language_cg',\n",
        "       'q_attention_cg']]=1"
      ],
      "execution_count": 0,
      "outputs": []
    },
    {
      "cell_type": "markdown",
      "metadata": {
        "colab_type": "text",
        "id": "xrVZC8Nl8dDr"
      },
      "source": [
        "### Parsing"
      ]
    },
    {
      "cell_type": "code",
      "metadata": {
        "colab_type": "code",
        "id": "BbYZQfih8dDr",
        "colab": {}
      },
      "source": [
        "df = df.transpose()\n",
        "df.dropna(inplace=True)\n",
        "\n",
        "df['cost'] = df['time']+df['diff']\n",
        "df['cost_reverse'] = df['cost']/10\n",
        "\n",
        "'''Need to reverse sort cost, so that we can maximize both avg_score and\n",
        "efficiency, instead of needing to maximize one and minimize the other'''\n",
        "features['cost_reverse'] = 1 - features['cost_reverse']\n",
        "\n",
        "df.sort_values('cost_reverse', ascending=False, inplace=True)\n",
        "df = df.reset_index().rename({'index':'feature'}, axis=1)\n",
        "\n",
        "df.to_csv(f'{dir}/features_costs_pair.csv', index=False)"
      ],
      "execution_count": 0,
      "outputs": []
    },
    {
      "cell_type": "markdown",
      "metadata": {
        "id": "eFNrLhEPBY9a",
        "colab_type": "text"
      },
      "source": [
        ""
      ]
    },
    {
      "cell_type": "markdown",
      "metadata": {
        "colab_type": "text",
        "id": "lqQY7EEj3iUK"
      },
      "source": [
        "## Feature importances"
      ]
    },
    {
      "cell_type": "code",
      "metadata": {
        "id": "eso40DlF57XY",
        "colab_type": "code",
        "colab": {}
      },
      "source": [
        "# features = pd.read_csv(f'{dir}/features_costs_pair.csv')\n",
        "features = df\n",
        "features.set_index('feature', inplace=True)\n",
        "features = features.loc[adni_pair_X.columns.values]\n",
        "features.reset_index(inplace=True)"
      ],
      "execution_count": 0,
      "outputs": []
    },
    {
      "cell_type": "code",
      "metadata": {
        "colab_type": "code",
        "outputId": "9d1c7f02-5ea5-4a81-ae05-945e0aae04ec",
        "id": "9n50UcHW3iUM",
        "colab": {
          "base_uri": "https://localhost:8080/",
          "height": 35
        }
      },
      "source": [
        "from sklearn.ensemble import RandomForestClassifier\n",
        "from sklearn.model_selection import cross_val_score, StratifiedKFold\n",
        "\n",
        "cv = StratifiedKFold(n_splits=5)\n",
        "\n",
        "clf = RandomForestClassifier(n_estimators=100, max_features=.5)\n",
        "\n",
        "from mlxtend.feature_selection import ExhaustiveFeatureSelector\n",
        "\n",
        "efs = ExhaustiveFeatureSelector(clf, \n",
        "                                min_features=1, \n",
        "                                max_features=1, \n",
        "                                print_progress=True,\n",
        "                                scoring='accuracy',\n",
        "                                cv=5,\n",
        "                                n_jobs=-1)\n",
        "efs = efs.fit(adni_pair_X, adni_pair_y2.values.ravel())"
      ],
      "execution_count": 375,
      "outputs": [
        {
          "output_type": "stream",
          "text": [
            "Features: 83/83"
          ],
          "name": "stderr"
        }
      ]
    },
    {
      "cell_type": "code",
      "metadata": {
        "colab_type": "code",
        "id": "pE0nytYB3iUU",
        "colab": {}
      },
      "source": [
        "f_imp = pd.DataFrame.from_dict(efs.subsets_)\n",
        "f_imp = f_imp.transpose()\n",
        "f_imp['feature']=adni_pair_X.columns.values\n",
        "f_imp = f_imp.sort_values('avg_score', ascending=False)\n",
        "f_imp.drop(labels=['cv_scores','feature_idx','feature_names'], axis=1, inplace=True)\n",
        "\n",
        "features = f_imp.merge(features, on='feature', how='left')"
      ],
      "execution_count": 0,
      "outputs": []
    },
    {
      "cell_type": "code",
      "metadata": {
        "colab_type": "code",
        "id": "ppcEDJvP3iUe",
        "colab": {}
      },
      "source": [
        "\n",
        "\n",
        "features.to_csv(f'{dir}/features_paired.csv', index=False)"
      ],
      "execution_count": 0,
      "outputs": []
    },
    {
      "cell_type": "markdown",
      "metadata": {
        "colab_type": "text",
        "id": "MX034en93iUc"
      },
      "source": [
        "## Select features"
      ]
    },
    {
      "cell_type": "code",
      "metadata": {
        "id": "yt4ztwn8O2S6",
        "colab_type": "code",
        "colab": {}
      },
      "source": [
        "def cost_sum(feature_row):\n",
        "  feature_row_index = feature_row - 1\n",
        "  print(feature_row, ' features.')\n",
        "  print('Accuracy: ', f_costs.iloc[feature_row_index,0])\n",
        "  print('Features: ', f_costs.iloc[feature_row_index,3])\n",
        "  ilocs = list([int(s) for s in f_costs.iloc[feature_row_index,2].split(',')])\n",
        "  print('Cost Sum: ', features.iloc[ilocs,4].sum(), ' Avg: ', features.iloc[ilocs,4].sum() / feature_row)\n",
        "  print('Cost Time: ', features.iloc[ilocs,2].sum(), ' Avg: ', features.iloc[ilocs,2].sum() / feature_row)\n",
        "  print('Cost Diff: ', features.iloc[ilocs,3].sum(), ' Avg: ', features.iloc[ilocs,3].sum() / feature_row)\n"
      ],
      "execution_count": 0,
      "outputs": []
    },
    {
      "cell_type": "markdown",
      "metadata": {
        "id": "2cWe3jx53T34",
        "colab_type": "text"
      },
      "source": [
        "### Even weights"
      ]
    },
    {
      "cell_type": "code",
      "metadata": {
        "id": "vQax1b4QO6mc",
        "colab_type": "code",
        "colab": {}
      },
      "source": [
        ""
      ],
      "execution_count": 0,
      "outputs": []
    },
    {
      "cell_type": "markdown",
      "metadata": {
        "colab_type": "text",
        "id": "62a59w6NOnXW"
      },
      "source": [
        "#### 50 starting features"
      ]
    },
    {
      "cell_type": "code",
      "metadata": {
        "colab_type": "code",
        "id": "zdOq-Np9OnXS",
        "colab": {}
      },
      "source": [
        "features = pd.read_csv(f'{dir}/features_paired.csv')\n",
        "features['weight'] = (features['avg_score'] + (features['cost_reverse']))/2\n",
        "features.sort_values('weight', ascending=False, inplace=True)\n",
        "features = features.head(50)"
      ],
      "execution_count": 0,
      "outputs": []
    },
    {
      "cell_type": "code",
      "metadata": {
        "colab_type": "code",
        "id": "jDWWyxfROnXX",
        "colab": {}
      },
      "source": [
        "from sklearn.ensemble import RandomForestClassifier\n",
        "from sklearn.model_selection import cross_val_score, StratifiedKFold\n",
        "\n",
        "cv = StratifiedKFold(n_splits=5)\n",
        "\n",
        "clf = RandomForestClassifier(n_estimators=100, max_features=.5)\n",
        "\n",
        "adni_pair_i_X = adni_pair_X.loc[:,features['feature']]"
      ],
      "execution_count": 0,
      "outputs": []
    },
    {
      "cell_type": "code",
      "metadata": {
        "colab_type": "code",
        "id": "vHQzSKxCOnXZ",
        "colab": {}
      },
      "source": [
        "from mlxtend.feature_selection import SequentialFeatureSelector as SFS\n",
        "\n",
        "sfs1 = SFS(clf, \n",
        "           k_features=(30), \n",
        "           forward=True, \n",
        "           floating=False, \n",
        "           verbose=2,\n",
        "           scoring='accuracy',\n",
        "           cv=cv,\n",
        "           n_jobs=-1)\n",
        "\n",
        "sfs1 = sfs1.fit(adni_pair_i_X, adni_pair_y2.values.ravel())"
      ],
      "execution_count": 0,
      "outputs": []
    },
    {
      "cell_type": "code",
      "metadata": {
        "id": "1wsS7pz_PoXh",
        "colab_type": "code",
        "colab": {}
      },
      "source": [
        "f_costs = pd.DataFrame.from_dict(sfs1.subsets_)\n",
        "f_costs = f_costs.transpose()\n",
        "f_costs['feature_idx'] = f_costs['feature_idx'].apply(str).str.replace('(','').str.replace(')','')\n",
        "f_costs.to_csv(f'{dir}/Output/eff_features_paired_even50.csv', index=False)\n",
        "\n"
      ],
      "execution_count": 0,
      "outputs": []
    },
    {
      "cell_type": "code",
      "metadata": {
        "id": "CGo7ZXM0n1hS",
        "colab_type": "code",
        "colab": {
          "base_uri": "https://localhost:8080/",
          "height": 948
        },
        "outputId": "6f076dd3-11a1-4b86-d80a-a94757201d1b"
      },
      "source": [
        "f_costs"
      ],
      "execution_count": 388,
      "outputs": [
        {
          "output_type": "execute_result",
          "data": {
            "text/html": [
              "<div>\n",
              "<style scoped>\n",
              "    .dataframe tbody tr th:only-of-type {\n",
              "        vertical-align: middle;\n",
              "    }\n",
              "\n",
              "    .dataframe tbody tr th {\n",
              "        vertical-align: top;\n",
              "    }\n",
              "\n",
              "    .dataframe thead th {\n",
              "        text-align: right;\n",
              "    }\n",
              "</style>\n",
              "<table border=\"1\" class=\"dataframe\">\n",
              "  <thead>\n",
              "    <tr style=\"text-align: right;\">\n",
              "      <th></th>\n",
              "      <th>avg_score</th>\n",
              "      <th>cv_scores</th>\n",
              "      <th>feature_idx</th>\n",
              "      <th>feature_names</th>\n",
              "    </tr>\n",
              "  </thead>\n",
              "  <tbody>\n",
              "    <tr>\n",
              "      <th>1</th>\n",
              "      <td>0.803048</td>\n",
              "      <td>[0.8721461187214612, 0.730593607305936, 0.8401...</td>\n",
              "      <td>0,</td>\n",
              "      <td>(q_memory_cg,)</td>\n",
              "    </tr>\n",
              "    <tr>\n",
              "      <th>2</th>\n",
              "      <td>0.814049</td>\n",
              "      <td>[0.8812785388127854, 0.7442922374429224, 0.844...</td>\n",
              "      <td>0, 6</td>\n",
              "      <td>(q_memory_cg, moca_orient)</td>\n",
              "    </tr>\n",
              "    <tr>\n",
              "      <th>3</th>\n",
              "      <td>0.819549</td>\n",
              "      <td>[0.8767123287671232, 0.7534246575342466, 0.853...</td>\n",
              "      <td>0, 3, 6</td>\n",
              "      <td>(q_memory_cg, q_language_cg, moca_orient)</td>\n",
              "    </tr>\n",
              "    <tr>\n",
              "      <th>4</th>\n",
              "      <td>0.824132</td>\n",
              "      <td>[0.8767123287671232, 0.7579908675799086, 0.858...</td>\n",
              "      <td>0, 3, 6, 7</td>\n",
              "      <td>(q_memory_cg, q_language_cg, moca_orient, q_ou...</td>\n",
              "    </tr>\n",
              "    <tr>\n",
              "      <th>5</th>\n",
              "      <td>0.827798</td>\n",
              "      <td>[0.8858447488584474, 0.7579908675799086, 0.858...</td>\n",
              "      <td>0, 3, 6, 7, 31</td>\n",
              "      <td>(q_memory_cg, q_language_cg, moca_orient, q_ou...</td>\n",
              "    </tr>\n",
              "    <tr>\n",
              "      <th>6</th>\n",
              "      <td>0.831455</td>\n",
              "      <td>[0.8858447488584474, 0.7625570776255708, 0.867...</td>\n",
              "      <td>0, 3, 6, 7, 31, 41</td>\n",
              "      <td>(q_memory_cg, q_language_cg, moca_orient, q_ou...</td>\n",
              "    </tr>\n",
              "    <tr>\n",
              "      <th>7</th>\n",
              "      <td>0.831455</td>\n",
              "      <td>[0.8858447488584474, 0.7625570776255708, 0.867...</td>\n",
              "      <td>0, 3, 4, 6, 7, 31, 41</td>\n",
              "      <td>(q_memory_cg, q_language_cg, MMNAME, moca_orie...</td>\n",
              "    </tr>\n",
              "    <tr>\n",
              "      <th>8</th>\n",
              "      <td>0.831455</td>\n",
              "      <td>[0.8858447488584474, 0.7625570776255708, 0.867...</td>\n",
              "      <td>0, 3, 4, 6, 7, 31, 36, 41</td>\n",
              "      <td>(q_memory_cg, q_language_cg, MMNAME, moca_orie...</td>\n",
              "    </tr>\n",
              "    <tr>\n",
              "      <th>9</th>\n",
              "      <td>0.831455</td>\n",
              "      <td>[0.8858447488584474, 0.7625570776255708, 0.867...</td>\n",
              "      <td>0, 3, 4, 6, 7, 31, 36, 40, 41</td>\n",
              "      <td>(q_memory_cg, q_language_cg, MMNAME, moca_orie...</td>\n",
              "    </tr>\n",
              "    <tr>\n",
              "      <th>10</th>\n",
              "      <td>0.829628</td>\n",
              "      <td>[0.8767123287671232, 0.7625570776255708, 0.867...</td>\n",
              "      <td>0, 3, 4, 6, 7, 31, 36, 38, 40, 41</td>\n",
              "      <td>(q_memory_cg, q_language_cg, MMNAME, moca_orie...</td>\n",
              "    </tr>\n",
              "    <tr>\n",
              "      <th>11</th>\n",
              "      <td>0.831455</td>\n",
              "      <td>[0.8858447488584474, 0.7625570776255708, 0.867...</td>\n",
              "      <td>0, 3, 4, 6, 7, 31, 36, 38, 40, 41, 45</td>\n",
              "      <td>(q_memory_cg, q_language_cg, MMNAME, moca_orie...</td>\n",
              "    </tr>\n",
              "    <tr>\n",
              "      <th>12</th>\n",
              "      <td>0.830554</td>\n",
              "      <td>[0.8812785388127854, 0.7534246575342466, 0.867...</td>\n",
              "      <td>0, 3, 4, 6, 7, 21, 31, 36, 38, 40, 41, 45</td>\n",
              "      <td>(q_memory_cg, q_language_cg, MMNAME, moca_orie...</td>\n",
              "    </tr>\n",
              "    <tr>\n",
              "      <th>13</th>\n",
              "      <td>0.828728</td>\n",
              "      <td>[0.8812785388127854, 0.7488584474885844, 0.863...</td>\n",
              "      <td>0, 3, 4, 6, 7, 21, 31, 35, 36, 38, 40, 41, 45</td>\n",
              "      <td>(q_memory_cg, q_language_cg, MMNAME, moca_orie...</td>\n",
              "    </tr>\n",
              "    <tr>\n",
              "      <th>14</th>\n",
              "      <td>0.827815</td>\n",
              "      <td>[0.8767123287671232, 0.7488584474885844, 0.863...</td>\n",
              "      <td>0, 3, 4, 6, 7, 21, 31, 35, 36, 38, 40, 41, 42, 45</td>\n",
              "      <td>(q_memory_cg, q_language_cg, MMNAME, moca_orie...</td>\n",
              "    </tr>\n",
              "    <tr>\n",
              "      <th>15</th>\n",
              "      <td>0.826884</td>\n",
              "      <td>[0.8767123287671232, 0.7488584474885844, 0.867...</td>\n",
              "      <td>0, 3, 4, 6, 7, 12, 21, 31, 35, 36, 38, 40, 41,...</td>\n",
              "      <td>(q_memory_cg, q_language_cg, MMNAME, moca_orie...</td>\n",
              "    </tr>\n",
              "    <tr>\n",
              "      <th>16</th>\n",
              "      <td>0.823227</td>\n",
              "      <td>[0.8767123287671232, 0.7397260273972602, 0.863...</td>\n",
              "      <td>0, 3, 4, 6, 7, 12, 21, 31, 35, 36, 38, 40, 41,...</td>\n",
              "      <td>(q_memory_cg, q_language_cg, MMNAME, moca_orie...</td>\n",
              "    </tr>\n",
              "    <tr>\n",
              "      <th>17</th>\n",
              "      <td>0.820488</td>\n",
              "      <td>[0.867579908675799, 0.7442922374429224, 0.8538...</td>\n",
              "      <td>0, 3, 4, 6, 7, 12, 21, 31, 33, 35, 36, 38, 40,...</td>\n",
              "      <td>(q_memory_cg, q_language_cg, MMNAME, moca_orie...</td>\n",
              "    </tr>\n",
              "    <tr>\n",
              "      <th>18</th>\n",
              "      <td>0.823248</td>\n",
              "      <td>[0.867579908675799, 0.7397260273972602, 0.8584...</td>\n",
              "      <td>0, 3, 4, 6, 7, 12, 21, 29, 31, 33, 35, 36, 38,...</td>\n",
              "      <td>(q_memory_cg, q_language_cg, MMNAME, moca_orie...</td>\n",
              "    </tr>\n",
              "    <tr>\n",
              "      <th>19</th>\n",
              "      <td>0.818682</td>\n",
              "      <td>[0.867579908675799, 0.726027397260274, 0.85844...</td>\n",
              "      <td>0, 3, 4, 6, 7, 12, 21, 26, 29, 31, 33, 35, 36,...</td>\n",
              "      <td>(q_memory_cg, q_language_cg, MMNAME, moca_orie...</td>\n",
              "    </tr>\n",
              "    <tr>\n",
              "      <th>20</th>\n",
              "      <td>0.815921</td>\n",
              "      <td>[0.8858447488584474, 0.7214611872146118, 0.844...</td>\n",
              "      <td>0, 3, 4, 6, 7, 12, 17, 21, 26, 29, 31, 33, 35,...</td>\n",
              "      <td>(q_memory_cg, q_language_cg, MMNAME, moca_orie...</td>\n",
              "    </tr>\n",
              "    <tr>\n",
              "      <th>21</th>\n",
              "      <td>0.817744</td>\n",
              "      <td>[0.8858447488584474, 0.7123287671232876, 0.863...</td>\n",
              "      <td>0, 3, 4, 6, 7, 12, 17, 21, 26, 29, 31, 33, 35,...</td>\n",
              "      <td>(q_memory_cg, q_language_cg, MMNAME, moca_orie...</td>\n",
              "    </tr>\n",
              "    <tr>\n",
              "      <th>22</th>\n",
              "      <td>0.816826</td>\n",
              "      <td>[0.867579908675799, 0.7214611872146118, 0.8675...</td>\n",
              "      <td>0, 3, 4, 6, 7, 12, 17, 19, 21, 26, 29, 31, 33,...</td>\n",
              "      <td>(q_memory_cg, q_language_cg, MMNAME, moca_orie...</td>\n",
              "    </tr>\n",
              "    <tr>\n",
              "      <th>23</th>\n",
              "      <td>0.820488</td>\n",
              "      <td>[0.8538812785388128, 0.7351598173515982, 0.876...</td>\n",
              "      <td>0, 3, 4, 5, 6, 7, 12, 17, 19, 21, 26, 29, 31, ...</td>\n",
              "      <td>(q_memory_cg, q_language_cg, MMNAME, moca_simi...</td>\n",
              "    </tr>\n",
              "    <tr>\n",
              "      <th>24</th>\n",
              "      <td>0.819595</td>\n",
              "      <td>[0.8493150684931506, 0.7397260273972602, 0.863...</td>\n",
              "      <td>0, 3, 4, 5, 6, 7, 12, 17, 19, 21, 26, 29, 31, ...</td>\n",
              "      <td>(q_memory_cg, q_language_cg, MMNAME, moca_simi...</td>\n",
              "    </tr>\n",
              "    <tr>\n",
              "      <th>25</th>\n",
              "      <td>0.81867</td>\n",
              "      <td>[0.8493150684931506, 0.730593607305936, 0.8721...</td>\n",
              "      <td>0, 3, 4, 5, 6, 7, 12, 17, 19, 21, 26, 29, 31, ...</td>\n",
              "      <td>(q_memory_cg, q_language_cg, MMNAME, moca_simi...</td>\n",
              "    </tr>\n",
              "    <tr>\n",
              "      <th>26</th>\n",
              "      <td>0.826931</td>\n",
              "      <td>[0.8538812785388128, 0.7442922374429224, 0.867...</td>\n",
              "      <td>0, 3, 4, 5, 6, 7, 12, 17, 19, 21, 26, 28, 29, ...</td>\n",
              "      <td>(q_memory_cg, q_language_cg, MMNAME, moca_simi...</td>\n",
              "    </tr>\n",
              "    <tr>\n",
              "      <th>27</th>\n",
              "      <td>0.828757</td>\n",
              "      <td>[0.8767123287671232, 0.7442922374429224, 0.853...</td>\n",
              "      <td>0, 3, 4, 5, 6, 7, 12, 17, 18, 19, 21, 26, 28, ...</td>\n",
              "      <td>(q_memory_cg, q_language_cg, MMNAME, moca_simi...</td>\n",
              "    </tr>\n",
              "    <tr>\n",
              "      <th>28</th>\n",
              "      <td>0.824157</td>\n",
              "      <td>[0.863013698630137, 0.7351598173515982, 0.8721...</td>\n",
              "      <td>0, 3, 4, 5, 6, 7, 12, 17, 18, 19, 21, 24, 26, ...</td>\n",
              "      <td>(q_memory_cg, q_language_cg, MMNAME, moca_simi...</td>\n",
              "    </tr>\n",
              "    <tr>\n",
              "      <th>29</th>\n",
              "      <td>0.819604</td>\n",
              "      <td>[0.8493150684931506, 0.7214611872146118, 0.872...</td>\n",
              "      <td>0, 3, 4, 5, 6, 7, 12, 17, 18, 19, 21, 22, 24, ...</td>\n",
              "      <td>(q_memory_cg, q_language_cg, MMNAME, moca_simi...</td>\n",
              "    </tr>\n",
              "    <tr>\n",
              "      <th>30</th>\n",
              "      <td>0.819621</td>\n",
              "      <td>[0.8538812785388128, 0.7214611872146118, 0.858...</td>\n",
              "      <td>0, 3, 4, 5, 6, 7, 12, 17, 18, 19, 21, 22, 24, ...</td>\n",
              "      <td>(q_memory_cg, q_language_cg, MMNAME, moca_simi...</td>\n",
              "    </tr>\n",
              "  </tbody>\n",
              "</table>\n",
              "</div>"
            ],
            "text/plain": [
              "   avg_score  ...                                      feature_names\n",
              "1   0.803048  ...                                     (q_memory_cg,)\n",
              "2   0.814049  ...                         (q_memory_cg, moca_orient)\n",
              "3   0.819549  ...          (q_memory_cg, q_language_cg, moca_orient)\n",
              "4   0.824132  ...  (q_memory_cg, q_language_cg, moca_orient, q_ou...\n",
              "5   0.827798  ...  (q_memory_cg, q_language_cg, moca_orient, q_ou...\n",
              "6   0.831455  ...  (q_memory_cg, q_language_cg, moca_orient, q_ou...\n",
              "7   0.831455  ...  (q_memory_cg, q_language_cg, MMNAME, moca_orie...\n",
              "8   0.831455  ...  (q_memory_cg, q_language_cg, MMNAME, moca_orie...\n",
              "9   0.831455  ...  (q_memory_cg, q_language_cg, MMNAME, moca_orie...\n",
              "10  0.829628  ...  (q_memory_cg, q_language_cg, MMNAME, moca_orie...\n",
              "11  0.831455  ...  (q_memory_cg, q_language_cg, MMNAME, moca_orie...\n",
              "12  0.830554  ...  (q_memory_cg, q_language_cg, MMNAME, moca_orie...\n",
              "13  0.828728  ...  (q_memory_cg, q_language_cg, MMNAME, moca_orie...\n",
              "14  0.827815  ...  (q_memory_cg, q_language_cg, MMNAME, moca_orie...\n",
              "15  0.826884  ...  (q_memory_cg, q_language_cg, MMNAME, moca_orie...\n",
              "16  0.823227  ...  (q_memory_cg, q_language_cg, MMNAME, moca_orie...\n",
              "17  0.820488  ...  (q_memory_cg, q_language_cg, MMNAME, moca_orie...\n",
              "18  0.823248  ...  (q_memory_cg, q_language_cg, MMNAME, moca_orie...\n",
              "19  0.818682  ...  (q_memory_cg, q_language_cg, MMNAME, moca_orie...\n",
              "20  0.815921  ...  (q_memory_cg, q_language_cg, MMNAME, moca_orie...\n",
              "21  0.817744  ...  (q_memory_cg, q_language_cg, MMNAME, moca_orie...\n",
              "22  0.816826  ...  (q_memory_cg, q_language_cg, MMNAME, moca_orie...\n",
              "23  0.820488  ...  (q_memory_cg, q_language_cg, MMNAME, moca_simi...\n",
              "24  0.819595  ...  (q_memory_cg, q_language_cg, MMNAME, moca_simi...\n",
              "25   0.81867  ...  (q_memory_cg, q_language_cg, MMNAME, moca_simi...\n",
              "26  0.826931  ...  (q_memory_cg, q_language_cg, MMNAME, moca_simi...\n",
              "27  0.828757  ...  (q_memory_cg, q_language_cg, MMNAME, moca_simi...\n",
              "28  0.824157  ...  (q_memory_cg, q_language_cg, MMNAME, moca_simi...\n",
              "29  0.819604  ...  (q_memory_cg, q_language_cg, MMNAME, moca_simi...\n",
              "30  0.819621  ...  (q_memory_cg, q_language_cg, MMNAME, moca_simi...\n",
              "\n",
              "[30 rows x 4 columns]"
            ]
          },
          "metadata": {
            "tags": []
          },
          "execution_count": 388
        }
      ]
    },
    {
      "cell_type": "markdown",
      "metadata": {
        "id": "GdupzkOsnuU1",
        "colab_type": "text"
      },
      "source": [
        "#### Cost Sums"
      ]
    },
    {
      "cell_type": "code",
      "metadata": {
        "id": "BrLnIBs8mmrN",
        "colab_type": "code",
        "colab": {
          "base_uri": "https://localhost:8080/",
          "height": 126
        },
        "outputId": "e9dd4947-f4c0-42ca-bb6b-c7bcd970dcc6"
      },
      "source": [
        "cost_sum(6)"
      ],
      "execution_count": 403,
      "outputs": [
        {
          "output_type": "stream",
          "text": [
            "6  features.\n",
            "Accuracy:  0.8314549188833142\n",
            "Features:  ('q_memory_cg', 'q_language_cg', 'moca_orient', 'q_outsideact_pt', 'faq3', 'hach2')\n",
            "Cost Sum:  7.0  Avg:  1.1666666666666667\n",
            "Cost Time:  6.0  Avg:  1.0\n",
            "Cost Diff:  8.0  Avg:  1.3333333333333333\n"
          ],
          "name": "stdout"
        }
      ]
    },
    {
      "cell_type": "code",
      "metadata": {
        "id": "nAGdJHGKiLpU",
        "colab_type": "code",
        "colab": {
          "base_uri": "https://localhost:8080/",
          "height": 126
        },
        "outputId": "5e127b75-929d-448a-ace2-c1c8ac741c8a"
      },
      "source": [
        "cost_sum(12)"
      ],
      "execution_count": 405,
      "outputs": [
        {
          "output_type": "stream",
          "text": [
            "12  features.\n",
            "Accuracy:  0.8305542830347526\n",
            "Features:  ('q_memory_cg', 'q_language_cg', 'MMNAME', 'moca_orient', 'q_outsideact_pt', 'PTRACE', 'faq3', 'hach4', 'hach1', 'hach3', 'hach2', 'hach6')\n",
            "Cost Sum:  15.0  Avg:  1.25\n",
            "Cost Time:  12.0  Avg:  1.0\n",
            "Cost Diff:  18.0  Avg:  1.5\n"
          ],
          "name": "stdout"
        }
      ]
    },
    {
      "cell_type": "markdown",
      "metadata": {
        "id": "KhZQ5tgSSVwd",
        "colab_type": "text"
      },
      "source": [
        "#### 30 starting features"
      ]
    },
    {
      "cell_type": "code",
      "metadata": {
        "colab_type": "code",
        "id": "oh2Sv4ORQiQR",
        "colab": {}
      },
      "source": [
        "features = pd.read_csv(f'{dir}/features_paired.csv')\n",
        "features['weight'] = (features['avg_score'] + (features['cost_reverse']))/2\n",
        "features.sort_values('weight', ascending=False, inplace=True)\n",
        "features = features.head(30)"
      ],
      "execution_count": 0,
      "outputs": []
    },
    {
      "cell_type": "code",
      "metadata": {
        "colab_type": "code",
        "id": "MAONrWgHQiQT",
        "colab": {}
      },
      "source": [
        "from sklearn.ensemble import RandomForestClassifier\n",
        "from sklearn.model_selection import cross_val_score, StratifiedKFold\n",
        "\n",
        "cv = StratifiedKFold(n_splits=5)\n",
        "\n",
        "clf = RandomForestClassifier(n_estimators=100, max_features=.5)\n",
        "\n",
        "adni_pair_i_X = adni_pair_X.loc[:,features['feature']]"
      ],
      "execution_count": 0,
      "outputs": []
    },
    {
      "cell_type": "code",
      "metadata": {
        "colab_type": "code",
        "id": "yrtJpw9jQiQX",
        "colab": {}
      },
      "source": [
        "from mlxtend.feature_selection import SequentialFeatureSelector as SFS\n",
        "\n",
        "sfs1 = SFS(clf, \n",
        "           k_features=(30), \n",
        "           forward=True, \n",
        "           floating=False, \n",
        "           verbose=2,\n",
        "           scoring='accuracy',\n",
        "           cv=cv,\n",
        "           n_jobs=-1)\n",
        "\n",
        "sfs1 = sfs1.fit(adni_pair_i_X, adni_pair_y2.values.ravel())"
      ],
      "execution_count": 0,
      "outputs": []
    },
    {
      "cell_type": "code",
      "metadata": {
        "colab_type": "code",
        "id": "20Tw1DQjQiQc",
        "colab": {}
      },
      "source": [
        "f_costs = pd.DataFrame.from_dict(sfs1.subsets_)\n",
        "f_costs = f_costs.transpose()\n",
        "f_costs['feature_idx'] = f_costs['feature_idx'].apply(str).str.replace('(','').str.replace(')','')\n",
        "f_costs.to_csv(f'{dir}/Output/eff_features_paired_even30.csv', index=False)\n",
        "\n"
      ],
      "execution_count": 0,
      "outputs": []
    },
    {
      "cell_type": "code",
      "metadata": {
        "colab_type": "code",
        "outputId": "8f823e33-33ec-4977-9150-474c10bd03c9",
        "id": "vCNvF9mhQiQh",
        "colab": {
          "base_uri": "https://localhost:8080/",
          "height": 948
        }
      },
      "source": [
        "f_costs"
      ],
      "execution_count": 410,
      "outputs": [
        {
          "output_type": "execute_result",
          "data": {
            "text/html": [
              "<div>\n",
              "<style scoped>\n",
              "    .dataframe tbody tr th:only-of-type {\n",
              "        vertical-align: middle;\n",
              "    }\n",
              "\n",
              "    .dataframe tbody tr th {\n",
              "        vertical-align: top;\n",
              "    }\n",
              "\n",
              "    .dataframe thead th {\n",
              "        text-align: right;\n",
              "    }\n",
              "</style>\n",
              "<table border=\"1\" class=\"dataframe\">\n",
              "  <thead>\n",
              "    <tr style=\"text-align: right;\">\n",
              "      <th></th>\n",
              "      <th>avg_score</th>\n",
              "      <th>cv_scores</th>\n",
              "      <th>feature_idx</th>\n",
              "      <th>feature_names</th>\n",
              "    </tr>\n",
              "  </thead>\n",
              "  <tbody>\n",
              "    <tr>\n",
              "      <th>1</th>\n",
              "      <td>0.803048</td>\n",
              "      <td>[0.8721461187214612, 0.730593607305936, 0.8401...</td>\n",
              "      <td>0,</td>\n",
              "      <td>(q_memory_cg,)</td>\n",
              "    </tr>\n",
              "    <tr>\n",
              "      <th>2</th>\n",
              "      <td>0.814966</td>\n",
              "      <td>[0.8812785388127854, 0.7442922374429224, 0.844...</td>\n",
              "      <td>0, 6</td>\n",
              "      <td>(q_memory_cg, moca_orient)</td>\n",
              "    </tr>\n",
              "    <tr>\n",
              "      <th>3</th>\n",
              "      <td>0.819549</td>\n",
              "      <td>[0.8767123287671232, 0.7534246575342466, 0.853...</td>\n",
              "      <td>0, 3, 6</td>\n",
              "      <td>(q_memory_cg, q_language_cg, moca_orient)</td>\n",
              "    </tr>\n",
              "    <tr>\n",
              "      <th>4</th>\n",
              "      <td>0.822297</td>\n",
              "      <td>[0.8767123287671232, 0.7579908675799086, 0.858...</td>\n",
              "      <td>0, 3, 6, 14</td>\n",
              "      <td>(q_memory_cg, q_language_cg, moca_orient, q_ju...</td>\n",
              "    </tr>\n",
              "    <tr>\n",
              "      <th>5</th>\n",
              "      <td>0.832389</td>\n",
              "      <td>[0.8584474885844748, 0.7671232876712328, 0.876...</td>\n",
              "      <td>0, 2, 3, 6, 14</td>\n",
              "      <td>(q_memory_cg, q_memory_pt, q_language_cg, moca...</td>\n",
              "    </tr>\n",
              "    <tr>\n",
              "      <th>6</th>\n",
              "      <td>0.83055</td>\n",
              "      <td>[0.8538812785388128, 0.776255707762557, 0.8767...</td>\n",
              "      <td>0, 2, 3, 4, 6, 14</td>\n",
              "      <td>(q_memory_cg, q_memory_pt, q_language_cg, MMNA...</td>\n",
              "    </tr>\n",
              "    <tr>\n",
              "      <th>7</th>\n",
              "      <td>0.828736</td>\n",
              "      <td>[0.8401826484018264, 0.7671232876712328, 0.876...</td>\n",
              "      <td>0, 2, 3, 4, 6, 14, 29</td>\n",
              "      <td>(q_memory_cg, q_memory_pt, q_language_cg, MMNA...</td>\n",
              "    </tr>\n",
              "    <tr>\n",
              "      <th>8</th>\n",
              "      <td>0.829641</td>\n",
              "      <td>[0.8447488584474886, 0.7671232876712328, 0.885...</td>\n",
              "      <td>0, 2, 3, 4, 6, 14, 21, 29</td>\n",
              "      <td>(q_memory_cg, q_memory_pt, q_language_cg, MMNA...</td>\n",
              "    </tr>\n",
              "    <tr>\n",
              "      <th>9</th>\n",
              "      <td>0.825996</td>\n",
              "      <td>[0.821917808219178, 0.7671232876712328, 0.8858...</td>\n",
              "      <td>0, 2, 3, 4, 5, 6, 14, 21, 29</td>\n",
              "      <td>(q_memory_cg, q_memory_pt, q_language_cg, MMNA...</td>\n",
              "    </tr>\n",
              "    <tr>\n",
              "      <th>10</th>\n",
              "      <td>0.823269</td>\n",
              "      <td>[0.8401826484018264, 0.7534246575342466, 0.863...</td>\n",
              "      <td>0, 2, 3, 4, 5, 6, 14, 21, 28, 29</td>\n",
              "      <td>(q_memory_cg, q_memory_pt, q_language_cg, MMNA...</td>\n",
              "    </tr>\n",
              "    <tr>\n",
              "      <th>11</th>\n",
              "      <td>0.82053</td>\n",
              "      <td>[0.8264840182648402, 0.7442922374429224, 0.863...</td>\n",
              "      <td>0, 2, 3, 4, 5, 6, 14, 17, 21, 28, 29</td>\n",
              "      <td>(q_memory_cg, q_memory_pt, q_language_cg, MMNA...</td>\n",
              "    </tr>\n",
              "    <tr>\n",
              "      <th>12</th>\n",
              "      <td>0.818644</td>\n",
              "      <td>[0.8447488584474886, 0.7671232876712328, 0.867...</td>\n",
              "      <td>0, 2, 3, 4, 5, 6, 14, 17, 21, 27, 28, 29</td>\n",
              "      <td>(q_memory_cg, q_memory_pt, q_language_cg, MMNA...</td>\n",
              "    </tr>\n",
              "    <tr>\n",
              "      <th>13</th>\n",
              "      <td>0.825024</td>\n",
              "      <td>[0.863013698630137, 0.7899543378995434, 0.8675...</td>\n",
              "      <td>0, 1, 2, 3, 4, 5, 6, 14, 17, 21, 27, 28, 29</td>\n",
              "      <td>(q_memory_cg, q_attention_cg, q_memory_pt, q_l...</td>\n",
              "    </tr>\n",
              "    <tr>\n",
              "      <th>14</th>\n",
              "      <td>0.83055</td>\n",
              "      <td>[0.8447488584474886, 0.7990867579908676, 0.863...</td>\n",
              "      <td>0, 1, 2, 3, 4, 5, 6, 11, 14, 17, 21, 27, 28, 29</td>\n",
              "      <td>(q_memory_cg, q_attention_cg, q_memory_pt, q_l...</td>\n",
              "    </tr>\n",
              "    <tr>\n",
              "      <th>15</th>\n",
              "      <td>0.832372</td>\n",
              "      <td>[0.8538812785388128, 0.7899543378995434, 0.876...</td>\n",
              "      <td>0, 1, 2, 3, 4, 5, 6, 11, 14, 17, 18, 21, 27, 2...</td>\n",
              "      <td>(q_memory_cg, q_attention_cg, q_memory_pt, q_l...</td>\n",
              "    </tr>\n",
              "    <tr>\n",
              "      <th>16</th>\n",
              "      <td>0.829628</td>\n",
              "      <td>[0.863013698630137, 0.776255707762557, 0.87214...</td>\n",
              "      <td>0, 1, 2, 3, 4, 5, 6, 8, 11, 14, 17, 18, 21, 27...</td>\n",
              "      <td>(q_memory_cg, q_attention_cg, q_memory_pt, q_l...</td>\n",
              "    </tr>\n",
              "    <tr>\n",
              "      <th>17</th>\n",
              "      <td>0.840621</td>\n",
              "      <td>[0.8721461187214612, 0.7808219178082192, 0.881...</td>\n",
              "      <td>0, 1, 2, 3, 4, 5, 6, 7, 8, 11, 14, 17, 18, 21,...</td>\n",
              "      <td>(q_memory_cg, q_attention_cg, q_memory_pt, q_l...</td>\n",
              "    </tr>\n",
              "    <tr>\n",
              "      <th>18</th>\n",
              "      <td>0.838778</td>\n",
              "      <td>[0.8767123287671232, 0.7945205479452054, 0.876...</td>\n",
              "      <td>0, 1, 2, 3, 4, 5, 6, 7, 8, 11, 14, 17, 18, 21,...</td>\n",
              "      <td>(q_memory_cg, q_attention_cg, q_memory_pt, q_l...</td>\n",
              "    </tr>\n",
              "    <tr>\n",
              "      <th>19</th>\n",
              "      <td>0.845187</td>\n",
              "      <td>[0.8858447488584474, 0.8082191780821918, 0.863...</td>\n",
              "      <td>0, 1, 2, 3, 4, 5, 6, 7, 8, 11, 14, 17, 18, 19,...</td>\n",
              "      <td>(q_memory_cg, q_attention_cg, q_memory_pt, q_l...</td>\n",
              "    </tr>\n",
              "    <tr>\n",
              "      <th>20</th>\n",
              "      <td>0.849783</td>\n",
              "      <td>[0.8812785388127854, 0.8082191780821918, 0.867...</td>\n",
              "      <td>0, 1, 2, 3, 4, 5, 6, 7, 8, 9, 11, 14, 17, 18, ...</td>\n",
              "      <td>(q_memory_cg, q_attention_cg, q_memory_pt, q_l...</td>\n",
              "    </tr>\n",
              "    <tr>\n",
              "      <th>21</th>\n",
              "      <td>0.840629</td>\n",
              "      <td>[0.8767123287671232, 0.7945205479452054, 0.858...</td>\n",
              "      <td>0, 1, 2, 3, 4, 5, 6, 7, 8, 9, 11, 14, 16, 17, ...</td>\n",
              "      <td>(q_memory_cg, q_attention_cg, q_memory_pt, q_l...</td>\n",
              "    </tr>\n",
              "    <tr>\n",
              "      <th>22</th>\n",
              "      <td>0.841564</td>\n",
              "      <td>[0.8812785388127854, 0.771689497716895, 0.8630...</td>\n",
              "      <td>0, 1, 2, 3, 4, 5, 6, 7, 8, 9, 11, 14, 16, 17, ...</td>\n",
              "      <td>(q_memory_cg, q_attention_cg, q_memory_pt, q_l...</td>\n",
              "    </tr>\n",
              "    <tr>\n",
              "      <th>23</th>\n",
              "      <td>0.839708</td>\n",
              "      <td>[0.8904109589041096, 0.771689497716895, 0.8721...</td>\n",
              "      <td>0, 1, 2, 3, 4, 5, 6, 7, 8, 9, 11, 12, 14, 16, ...</td>\n",
              "      <td>(q_memory_cg, q_attention_cg, q_memory_pt, q_l...</td>\n",
              "    </tr>\n",
              "    <tr>\n",
              "      <th>24</th>\n",
              "      <td>0.83512</td>\n",
              "      <td>[0.8858447488584474, 0.7579908675799086, 0.876...</td>\n",
              "      <td>0, 1, 2, 3, 4, 5, 6, 7, 8, 9, 11, 12, 14, 16, ...</td>\n",
              "      <td>(q_memory_cg, q_attention_cg, q_memory_pt, q_l...</td>\n",
              "    </tr>\n",
              "    <tr>\n",
              "      <th>25</th>\n",
              "      <td>0.838794</td>\n",
              "      <td>[0.8904109589041096, 0.771689497716895, 0.8675...</td>\n",
              "      <td>0, 1, 2, 3, 4, 5, 6, 7, 8, 9, 11, 12, 13, 14, ...</td>\n",
              "      <td>(q_memory_cg, q_attention_cg, q_memory_pt, q_l...</td>\n",
              "    </tr>\n",
              "    <tr>\n",
              "      <th>26</th>\n",
              "      <td>0.827781</td>\n",
              "      <td>[0.8812785388127854, 0.7625570776255708, 0.872...</td>\n",
              "      <td>0, 1, 2, 3, 4, 5, 6, 7, 8, 9, 11, 12, 13, 14, ...</td>\n",
              "      <td>(q_memory_cg, q_attention_cg, q_memory_pt, q_l...</td>\n",
              "    </tr>\n",
              "    <tr>\n",
              "      <th>27</th>\n",
              "      <td>0.828715</td>\n",
              "      <td>[0.8767123287671232, 0.7534246575342466, 0.872...</td>\n",
              "      <td>0, 1, 2, 3, 4, 5, 6, 7, 8, 9, 10, 11, 12, 13, ...</td>\n",
              "      <td>(q_memory_cg, q_attention_cg, q_memory_pt, q_l...</td>\n",
              "    </tr>\n",
              "    <tr>\n",
              "      <th>28</th>\n",
              "      <td>0.830558</td>\n",
              "      <td>[0.8767123287671232, 0.7579908675799086, 0.863...</td>\n",
              "      <td>0, 1, 2, 3, 4, 5, 6, 7, 8, 9, 10, 11, 12, 13, ...</td>\n",
              "      <td>(q_memory_cg, q_attention_cg, q_memory_pt, q_l...</td>\n",
              "    </tr>\n",
              "    <tr>\n",
              "      <th>29</th>\n",
              "      <td>0.829641</td>\n",
              "      <td>[0.8812785388127854, 0.7579908675799086, 0.853...</td>\n",
              "      <td>0, 1, 2, 3, 4, 5, 6, 7, 8, 9, 10, 11, 12, 13, ...</td>\n",
              "      <td>(q_memory_cg, q_attention_cg, q_memory_pt, q_l...</td>\n",
              "    </tr>\n",
              "    <tr>\n",
              "      <th>30</th>\n",
              "      <td>0.81957</td>\n",
              "      <td>[0.867579908675799, 0.7625570776255708, 0.8447...</td>\n",
              "      <td>0, 1, 2, 3, 4, 5, 6, 7, 8, 9, 10, 11, 12, 13, ...</td>\n",
              "      <td>(q_memory_cg, q_attention_cg, q_memory_pt, q_l...</td>\n",
              "    </tr>\n",
              "  </tbody>\n",
              "</table>\n",
              "</div>"
            ],
            "text/plain": [
              "   avg_score  ...                                      feature_names\n",
              "1   0.803048  ...                                     (q_memory_cg,)\n",
              "2   0.814966  ...                         (q_memory_cg, moca_orient)\n",
              "3   0.819549  ...          (q_memory_cg, q_language_cg, moca_orient)\n",
              "4   0.822297  ...  (q_memory_cg, q_language_cg, moca_orient, q_ju...\n",
              "5   0.832389  ...  (q_memory_cg, q_memory_pt, q_language_cg, moca...\n",
              "6    0.83055  ...  (q_memory_cg, q_memory_pt, q_language_cg, MMNA...\n",
              "7   0.828736  ...  (q_memory_cg, q_memory_pt, q_language_cg, MMNA...\n",
              "8   0.829641  ...  (q_memory_cg, q_memory_pt, q_language_cg, MMNA...\n",
              "9   0.825996  ...  (q_memory_cg, q_memory_pt, q_language_cg, MMNA...\n",
              "10  0.823269  ...  (q_memory_cg, q_memory_pt, q_language_cg, MMNA...\n",
              "11   0.82053  ...  (q_memory_cg, q_memory_pt, q_language_cg, MMNA...\n",
              "12  0.818644  ...  (q_memory_cg, q_memory_pt, q_language_cg, MMNA...\n",
              "13  0.825024  ...  (q_memory_cg, q_attention_cg, q_memory_pt, q_l...\n",
              "14   0.83055  ...  (q_memory_cg, q_attention_cg, q_memory_pt, q_l...\n",
              "15  0.832372  ...  (q_memory_cg, q_attention_cg, q_memory_pt, q_l...\n",
              "16  0.829628  ...  (q_memory_cg, q_attention_cg, q_memory_pt, q_l...\n",
              "17  0.840621  ...  (q_memory_cg, q_attention_cg, q_memory_pt, q_l...\n",
              "18  0.838778  ...  (q_memory_cg, q_attention_cg, q_memory_pt, q_l...\n",
              "19  0.845187  ...  (q_memory_cg, q_attention_cg, q_memory_pt, q_l...\n",
              "20  0.849783  ...  (q_memory_cg, q_attention_cg, q_memory_pt, q_l...\n",
              "21  0.840629  ...  (q_memory_cg, q_attention_cg, q_memory_pt, q_l...\n",
              "22  0.841564  ...  (q_memory_cg, q_attention_cg, q_memory_pt, q_l...\n",
              "23  0.839708  ...  (q_memory_cg, q_attention_cg, q_memory_pt, q_l...\n",
              "24   0.83512  ...  (q_memory_cg, q_attention_cg, q_memory_pt, q_l...\n",
              "25  0.838794  ...  (q_memory_cg, q_attention_cg, q_memory_pt, q_l...\n",
              "26  0.827781  ...  (q_memory_cg, q_attention_cg, q_memory_pt, q_l...\n",
              "27  0.828715  ...  (q_memory_cg, q_attention_cg, q_memory_pt, q_l...\n",
              "28  0.830558  ...  (q_memory_cg, q_attention_cg, q_memory_pt, q_l...\n",
              "29  0.829641  ...  (q_memory_cg, q_attention_cg, q_memory_pt, q_l...\n",
              "30   0.81957  ...  (q_memory_cg, q_attention_cg, q_memory_pt, q_l...\n",
              "\n",
              "[30 rows x 4 columns]"
            ]
          },
          "metadata": {
            "tags": []
          },
          "execution_count": 410
        }
      ]
    },
    {
      "cell_type": "markdown",
      "metadata": {
        "colab_type": "text",
        "id": "LUlGeREvQiQl"
      },
      "source": [
        "#### Cost Sums"
      ]
    },
    {
      "cell_type": "code",
      "metadata": {
        "colab_type": "code",
        "outputId": "d3da78d6-7b5c-416f-a9b3-2575ae7433f8",
        "id": "SVBxKebEQiQl",
        "colab": {
          "base_uri": "https://localhost:8080/",
          "height": 126
        }
      },
      "source": [
        "cost_sum(5)"
      ],
      "execution_count": 411,
      "outputs": [
        {
          "output_type": "stream",
          "text": [
            "5  features.\n",
            "Accuracy:  0.8323891454200737\n",
            "Features:  ('q_memory_cg', 'q_memory_pt', 'q_language_cg', 'moca_orient', 'q_judgmt_pt')\n",
            "Cost Sum:  5.0  Avg:  1.0\n",
            "Cost Time:  5.0  Avg:  1.0\n",
            "Cost Diff:  5.0  Avg:  1.0\n"
          ],
          "name": "stdout"
        }
      ]
    },
    {
      "cell_type": "code",
      "metadata": {
        "id": "iaRaJzRBPnCo",
        "colab_type": "code",
        "colab": {
          "base_uri": "https://localhost:8080/",
          "height": 146
        },
        "outputId": "fa3f7036-d21e-44f3-a5a7-927a11ffbf60"
      },
      "source": [
        "cost_sum(15)"
      ],
      "execution_count": 412,
      "outputs": [
        {
          "output_type": "stream",
          "text": [
            "15  features.\n",
            "Accuracy:  0.8323723886859613\n",
            "Features:  ('q_memory_cg', 'q_attention_cg', 'q_memory_pt', 'q_language_cg', 'MMNAME', 'moca_similarities', 'moca_orient', 'PTGENDER', 'q_judgmt_pt', 'q_orient_pt', 'q_orient_cg', 'PTRACE', 'verbal_fluency', 'moca_naming', 'faq8')\n",
            "Cost Sum:  16.5  Avg:  1.1\n",
            "Cost Time:  16.0  Avg:  1.0666666666666667\n",
            "Cost Diff:  17.0  Avg:  1.1333333333333333\n"
          ],
          "name": "stdout"
        }
      ]
    },
    {
      "cell_type": "code",
      "metadata": {
        "id": "ObVVeD1wWrV9",
        "colab_type": "code",
        "colab": {
          "base_uri": "https://localhost:8080/",
          "height": 146
        },
        "outputId": "3c9297d1-5d0f-47c5-b88c-5177426a245c"
      },
      "source": [
        "cost_sum(20)"
      ],
      "execution_count": 414,
      "outputs": [
        {
          "output_type": "stream",
          "text": [
            "20  features.\n",
            "Accuracy:  0.8497827512588303\n",
            "Features:  ('q_memory_cg', 'q_attention_cg', 'q_memory_pt', 'q_language_cg', 'MMNAME', 'moca_similarities', 'moca_orient', 'q_outsideact_pt', 'q_attention_pt', 'FAMHISTAD', 'PTGENDER', 'q_judgmt_pt', 'q_orient_pt', 'q_orient_cg', 'q_homeact_pt', 'PTRACE', 'q_judgmt_cg', 'verbal_fluency', 'moca_naming', 'faq8')\n",
            "Cost Sum:  21.5  Avg:  1.075\n",
            "Cost Time:  21.0  Avg:  1.05\n",
            "Cost Diff:  22.0  Avg:  1.1\n"
          ],
          "name": "stdout"
        }
      ]
    },
    {
      "cell_type": "markdown",
      "metadata": {
        "id": "ufEdBdaLPnZk",
        "colab_type": "text"
      },
      "source": [
        "#### 15 starting features"
      ]
    },
    {
      "cell_type": "code",
      "metadata": {
        "colab_type": "code",
        "id": "iZsoJlKLQj4Y",
        "colab": {}
      },
      "source": [
        "features = pd.read_csv(f'{dir}/features_paired.csv')\n",
        "features['weight'] = (features['avg_score'] + (features['cost_reverse']))/2\n",
        "features.sort_values('weight', ascending=False, inplace=True)\n",
        "features = features.head(15)"
      ],
      "execution_count": 0,
      "outputs": []
    },
    {
      "cell_type": "code",
      "metadata": {
        "colab_type": "code",
        "id": "cvD9UnkDQj4a",
        "colab": {}
      },
      "source": [
        "from sklearn.ensemble import RandomForestClassifier\n",
        "from sklearn.model_selection import cross_val_score, StratifiedKFold\n",
        "\n",
        "cv = StratifiedKFold(n_splits=5)\n",
        "\n",
        "clf = RandomForestClassifier(n_estimators=100, max_features=.5)\n",
        "\n",
        "adni_pair_i_X = adni_pair_X.loc[:,features['feature']]"
      ],
      "execution_count": 0,
      "outputs": []
    },
    {
      "cell_type": "code",
      "metadata": {
        "colab_type": "code",
        "id": "ETBquV0CQj4b",
        "colab": {}
      },
      "source": [
        "from mlxtend.feature_selection import SequentialFeatureSelector as SFS\n",
        "\n",
        "sfs1 = SFS(clf, \n",
        "           k_features=(15), \n",
        "           forward=True, \n",
        "           floating=False, \n",
        "           verbose=2,\n",
        "           scoring='accuracy',\n",
        "           cv=cv,\n",
        "           n_jobs=-1)\n",
        "\n",
        "sfs1 = sfs1.fit(adni_pair_i_X, adni_pair_y2.values.ravel())"
      ],
      "execution_count": 0,
      "outputs": []
    },
    {
      "cell_type": "code",
      "metadata": {
        "colab_type": "code",
        "id": "mx-YGg8pQj4d",
        "colab": {}
      },
      "source": [
        "f_costs = pd.DataFrame.from_dict(sfs1.subsets_)\n",
        "f_costs = f_costs.transpose()\n",
        "f_costs['feature_idx'] = f_costs['feature_idx'].apply(str).str.replace('(','').str.replace(')','')\n",
        "f_costs.to_csv(f'{dir}/Output/eff_features_paired_even15.csv', index=False)\n",
        "\n"
      ],
      "execution_count": 0,
      "outputs": []
    },
    {
      "cell_type": "code",
      "metadata": {
        "colab_type": "code",
        "outputId": "a189c786-c2d0-4abc-c6b4-d18ee2444f38",
        "id": "ZGZnF6mRQj4e",
        "colab": {
          "base_uri": "https://localhost:8080/",
          "height": 498
        }
      },
      "source": [
        "f_costs"
      ],
      "execution_count": 419,
      "outputs": [
        {
          "output_type": "execute_result",
          "data": {
            "text/html": [
              "<div>\n",
              "<style scoped>\n",
              "    .dataframe tbody tr th:only-of-type {\n",
              "        vertical-align: middle;\n",
              "    }\n",
              "\n",
              "    .dataframe tbody tr th {\n",
              "        vertical-align: top;\n",
              "    }\n",
              "\n",
              "    .dataframe thead th {\n",
              "        text-align: right;\n",
              "    }\n",
              "</style>\n",
              "<table border=\"1\" class=\"dataframe\">\n",
              "  <thead>\n",
              "    <tr style=\"text-align: right;\">\n",
              "      <th></th>\n",
              "      <th>avg_score</th>\n",
              "      <th>cv_scores</th>\n",
              "      <th>feature_idx</th>\n",
              "      <th>feature_names</th>\n",
              "    </tr>\n",
              "  </thead>\n",
              "  <tbody>\n",
              "    <tr>\n",
              "      <th>1</th>\n",
              "      <td>0.803048</td>\n",
              "      <td>[0.8721461187214612, 0.730593607305936, 0.8401...</td>\n",
              "      <td>0,</td>\n",
              "      <td>(q_memory_cg,)</td>\n",
              "    </tr>\n",
              "    <tr>\n",
              "      <th>2</th>\n",
              "      <td>0.814049</td>\n",
              "      <td>[0.8812785388127854, 0.7442922374429224, 0.844...</td>\n",
              "      <td>0, 6</td>\n",
              "      <td>(q_memory_cg, moca_orient)</td>\n",
              "    </tr>\n",
              "    <tr>\n",
              "      <th>3</th>\n",
              "      <td>0.820462</td>\n",
              "      <td>[0.8812785388127854, 0.7534246575342466, 0.853...</td>\n",
              "      <td>0, 3, 6</td>\n",
              "      <td>(q_memory_cg, q_language_cg, moca_orient)</td>\n",
              "    </tr>\n",
              "    <tr>\n",
              "      <th>4</th>\n",
              "      <td>0.823219</td>\n",
              "      <td>[0.8767123287671232, 0.7579908675799086, 0.853...</td>\n",
              "      <td>0, 3, 6, 7</td>\n",
              "      <td>(q_memory_cg, q_language_cg, moca_orient, q_ou...</td>\n",
              "    </tr>\n",
              "    <tr>\n",
              "      <th>5</th>\n",
              "      <td>0.824132</td>\n",
              "      <td>[0.8767123287671232, 0.7579908675799086, 0.858...</td>\n",
              "      <td>0, 3, 4, 6, 7</td>\n",
              "      <td>(q_memory_cg, q_language_cg, MMNAME, moca_orie...</td>\n",
              "    </tr>\n",
              "    <tr>\n",
              "      <th>6</th>\n",
              "      <td>0.824132</td>\n",
              "      <td>[0.8767123287671232, 0.7579908675799086, 0.858...</td>\n",
              "      <td>0, 3, 4, 6, 7, 12</td>\n",
              "      <td>(q_memory_cg, q_language_cg, MMNAME, moca_orie...</td>\n",
              "    </tr>\n",
              "    <tr>\n",
              "      <th>7</th>\n",
              "      <td>0.815909</td>\n",
              "      <td>[0.8538812785388128, 0.7534246575342466, 0.844...</td>\n",
              "      <td>0, 2, 3, 4, 6, 7, 12</td>\n",
              "      <td>(q_memory_cg, q_memory_pt, q_language_cg, MMNA...</td>\n",
              "    </tr>\n",
              "    <tr>\n",
              "      <th>8</th>\n",
              "      <td>0.819562</td>\n",
              "      <td>[0.8538812785388128, 0.7488584474885844, 0.867...</td>\n",
              "      <td>0, 2, 3, 4, 6, 7, 12, 14</td>\n",
              "      <td>(q_memory_cg, q_memory_pt, q_language_cg, MMNA...</td>\n",
              "    </tr>\n",
              "    <tr>\n",
              "      <th>9</th>\n",
              "      <td>0.816805</td>\n",
              "      <td>[0.8493150684931506, 0.7488584474885844, 0.867...</td>\n",
              "      <td>0, 2, 3, 4, 6, 7, 8, 12, 14</td>\n",
              "      <td>(q_memory_cg, q_memory_pt, q_language_cg, MMNA...</td>\n",
              "    </tr>\n",
              "    <tr>\n",
              "      <th>10</th>\n",
              "      <td>0.814078</td>\n",
              "      <td>[0.8584474885844748, 0.7488584474885844, 0.844...</td>\n",
              "      <td>0, 2, 3, 4, 5, 6, 7, 8, 12, 14</td>\n",
              "      <td>(q_memory_cg, q_memory_pt, q_language_cg, MMNA...</td>\n",
              "    </tr>\n",
              "    <tr>\n",
              "      <th>11</th>\n",
              "      <td>0.815025</td>\n",
              "      <td>[0.867579908675799, 0.7442922374429224, 0.8219...</td>\n",
              "      <td>0, 2, 3, 4, 5, 6, 7, 8, 11, 12, 14</td>\n",
              "      <td>(q_memory_cg, q_memory_pt, q_language_cg, MMNA...</td>\n",
              "    </tr>\n",
              "    <tr>\n",
              "      <th>12</th>\n",
              "      <td>0.811326</td>\n",
              "      <td>[0.8356164383561644, 0.7579908675799086, 0.849...</td>\n",
              "      <td>0, 2, 3, 4, 5, 6, 7, 8, 10, 11, 12, 14</td>\n",
              "      <td>(q_memory_cg, q_memory_pt, q_language_cg, MMNA...</td>\n",
              "    </tr>\n",
              "    <tr>\n",
              "      <th>13</th>\n",
              "      <td>0.810404</td>\n",
              "      <td>[0.8310502283105022, 0.7625570776255708, 0.840...</td>\n",
              "      <td>0, 2, 3, 4, 5, 6, 7, 8, 9, 10, 11, 12, 14</td>\n",
              "      <td>(q_memory_cg, q_memory_pt, q_language_cg, MMNA...</td>\n",
              "    </tr>\n",
              "    <tr>\n",
              "      <th>14</th>\n",
              "      <td>0.803098</td>\n",
              "      <td>[0.8401826484018264, 0.7351598173515982, 0.840...</td>\n",
              "      <td>0, 2, 3, 4, 5, 6, 7, 8, 9, 10, 11, 12, 13, 14</td>\n",
              "      <td>(q_memory_cg, q_memory_pt, q_language_cg, MMNA...</td>\n",
              "    </tr>\n",
              "    <tr>\n",
              "      <th>15</th>\n",
              "      <td>0.803069</td>\n",
              "      <td>[0.8538812785388128, 0.7397260273972602, 0.835...</td>\n",
              "      <td>0, 1, 2, 3, 4, 5, 6, 7, 8, 9, 10, 11, 12, 13, 14</td>\n",
              "      <td>(q_memory_cg, q_attention_cg, q_memory_pt, q_l...</td>\n",
              "    </tr>\n",
              "  </tbody>\n",
              "</table>\n",
              "</div>"
            ],
            "text/plain": [
              "   avg_score  ...                                      feature_names\n",
              "1   0.803048  ...                                     (q_memory_cg,)\n",
              "2   0.814049  ...                         (q_memory_cg, moca_orient)\n",
              "3   0.820462  ...          (q_memory_cg, q_language_cg, moca_orient)\n",
              "4   0.823219  ...  (q_memory_cg, q_language_cg, moca_orient, q_ou...\n",
              "5   0.824132  ...  (q_memory_cg, q_language_cg, MMNAME, moca_orie...\n",
              "6   0.824132  ...  (q_memory_cg, q_language_cg, MMNAME, moca_orie...\n",
              "7   0.815909  ...  (q_memory_cg, q_memory_pt, q_language_cg, MMNA...\n",
              "8   0.819562  ...  (q_memory_cg, q_memory_pt, q_language_cg, MMNA...\n",
              "9   0.816805  ...  (q_memory_cg, q_memory_pt, q_language_cg, MMNA...\n",
              "10  0.814078  ...  (q_memory_cg, q_memory_pt, q_language_cg, MMNA...\n",
              "11  0.815025  ...  (q_memory_cg, q_memory_pt, q_language_cg, MMNA...\n",
              "12  0.811326  ...  (q_memory_cg, q_memory_pt, q_language_cg, MMNA...\n",
              "13  0.810404  ...  (q_memory_cg, q_memory_pt, q_language_cg, MMNA...\n",
              "14  0.803098  ...  (q_memory_cg, q_memory_pt, q_language_cg, MMNA...\n",
              "15  0.803069  ...  (q_memory_cg, q_attention_cg, q_memory_pt, q_l...\n",
              "\n",
              "[15 rows x 4 columns]"
            ]
          },
          "metadata": {
            "tags": []
          },
          "execution_count": 419
        }
      ]
    },
    {
      "cell_type": "markdown",
      "metadata": {
        "colab_type": "text",
        "id": "loiuGPcdQj4h"
      },
      "source": [
        "#### Cost Sums"
      ]
    },
    {
      "cell_type": "code",
      "metadata": {
        "colab_type": "code",
        "outputId": "5d1c661e-023c-4e22-db82-933f455d6928",
        "id": "P1l9lSNnQj4i",
        "colab": {
          "base_uri": "https://localhost:8080/",
          "height": 126
        }
      },
      "source": [
        "cost_sum(4)"
      ],
      "execution_count": 420,
      "outputs": [
        {
          "output_type": "stream",
          "text": [
            "4  features.\n",
            "Accuracy:  0.8232189454570236\n",
            "Features:  ('q_memory_cg', 'q_language_cg', 'moca_orient', 'q_outsideact_pt')\n",
            "Cost Sum:  4.0  Avg:  1.0\n",
            "Cost Time:  4.0  Avg:  1.0\n",
            "Cost Diff:  4.0  Avg:  1.0\n"
          ],
          "name": "stdout"
        }
      ]
    },
    {
      "cell_type": "code",
      "metadata": {
        "id": "Uzu2IqNcPqK5",
        "colab_type": "code",
        "colab": {}
      },
      "source": [
        ""
      ],
      "execution_count": 0,
      "outputs": []
    },
    {
      "cell_type": "markdown",
      "metadata": {
        "colab_type": "text",
        "id": "5IYkhwv1Sxxy"
      },
      "source": [
        "### Importance over cost"
      ]
    },
    {
      "cell_type": "markdown",
      "metadata": {
        "colab_type": "text",
        "id": "Xh6bILIMS112"
      },
      "source": [
        "#### 50 starting features"
      ]
    },
    {
      "cell_type": "code",
      "metadata": {
        "colab_type": "code",
        "id": "hLSN-TpPSxxz",
        "colab": {}
      },
      "source": [
        "features = pd.read_csv(f'{dir}/features_paired.csv')\n",
        "features['weight_x.5'] = (features['avg_score'] + (features['cost_reverse']*.5))/2\n",
        "features.sort_values('weight_x.5', ascending=False)\n",
        "features = features.head(50)"
      ],
      "execution_count": 0,
      "outputs": []
    },
    {
      "cell_type": "code",
      "metadata": {
        "colab_type": "code",
        "id": "oI1VHBkyS112",
        "colab": {}
      },
      "source": [
        "from sklearn.ensemble import RandomForestClassifier\n",
        "from sklearn.model_selection import cross_val_score, StratifiedKFold\n",
        "\n",
        "cv = StratifiedKFold(n_splits=5)\n",
        "\n",
        "clf = RandomForestClassifier(n_estimators=100, max_features=.5)\n",
        "\n",
        "adni_pair_i_X = adni_pair_X.loc[:,features['feature']]"
      ],
      "execution_count": 0,
      "outputs": []
    },
    {
      "cell_type": "code",
      "metadata": {
        "colab_type": "code",
        "id": "jBX0tuoXS114",
        "colab": {}
      },
      "source": [
        "from mlxtend.feature_selection import SequentialFeatureSelector as SFS\n",
        "\n",
        "sfs1 = SFS(clf, \n",
        "           k_features=(30), \n",
        "           forward=True, \n",
        "           floating=False, \n",
        "           verbose=2,\n",
        "           scoring='accuracy',\n",
        "           cv=cv,\n",
        "           n_jobs=-1)\n",
        "\n",
        "sfs1 = sfs1.fit(adni_pair_i_X, adni_pair_y2.values.ravel())"
      ],
      "execution_count": 0,
      "outputs": []
    },
    {
      "cell_type": "code",
      "metadata": {
        "colab_type": "code",
        "id": "Tx6WmqiQoX6T",
        "colab": {}
      },
      "source": [
        "f_costs = pd.DataFrame.from_dict(sfs1.subsets_)\n",
        "f_costs = f_costs.transpose()\n",
        "f_costs['feature_idx'] = f_costs['feature_idx'].apply(str).str.replace('(','').str.replace(')','')\n",
        "f_costs.to_csv(f'{dir}/Output/eff_features_paired_importweight_50.csv', index=False)\n"
      ],
      "execution_count": 0,
      "outputs": []
    },
    {
      "cell_type": "code",
      "metadata": {
        "colab_type": "code",
        "outputId": "d0c707dc-05db-43dd-f188-496368d314f4",
        "id": "a05ByYsgoX6V",
        "colab": {
          "base_uri": "https://localhost:8080/",
          "height": 948
        }
      },
      "source": [
        "f_costs"
      ],
      "execution_count": 425,
      "outputs": [
        {
          "output_type": "execute_result",
          "data": {
            "text/html": [
              "<div>\n",
              "<style scoped>\n",
              "    .dataframe tbody tr th:only-of-type {\n",
              "        vertical-align: middle;\n",
              "    }\n",
              "\n",
              "    .dataframe tbody tr th {\n",
              "        vertical-align: top;\n",
              "    }\n",
              "\n",
              "    .dataframe thead th {\n",
              "        text-align: right;\n",
              "    }\n",
              "</style>\n",
              "<table border=\"1\" class=\"dataframe\">\n",
              "  <thead>\n",
              "    <tr style=\"text-align: right;\">\n",
              "      <th></th>\n",
              "      <th>avg_score</th>\n",
              "      <th>cv_scores</th>\n",
              "      <th>feature_idx</th>\n",
              "      <th>feature_names</th>\n",
              "    </tr>\n",
              "  </thead>\n",
              "  <tbody>\n",
              "    <tr>\n",
              "      <th>1</th>\n",
              "      <td>0.803048</td>\n",
              "      <td>[0.8721461187214612, 0.730593607305936, 0.8401...</td>\n",
              "      <td>0,</td>\n",
              "      <td>(q_memory_cg,)</td>\n",
              "    </tr>\n",
              "    <tr>\n",
              "      <th>2</th>\n",
              "      <td>0.837856</td>\n",
              "      <td>[0.8721461187214612, 0.8082191780821918, 0.863...</td>\n",
              "      <td>0, 1</td>\n",
              "      <td>(q_memory_cg, CDR_judge)</td>\n",
              "    </tr>\n",
              "    <tr>\n",
              "      <th>3</th>\n",
              "      <td>0.848882</td>\n",
              "      <td>[0.8493150684931506, 0.8264840182648402, 0.876...</td>\n",
              "      <td>0, 1, 4</td>\n",
              "      <td>(q_memory_cg, CDR_judge, q_memory_pt)</td>\n",
              "    </tr>\n",
              "    <tr>\n",
              "      <th>4</th>\n",
              "      <td>0.853457</td>\n",
              "      <td>[0.8721461187214612, 0.821917808219178, 0.8767...</td>\n",
              "      <td>0, 1, 4, 21</td>\n",
              "      <td>(q_memory_cg, CDR_judge, q_memory_pt, npi10_sev)</td>\n",
              "    </tr>\n",
              "    <tr>\n",
              "      <th>5</th>\n",
              "      <td>0.855283</td>\n",
              "      <td>[0.8721461187214612, 0.8310502283105022, 0.876...</td>\n",
              "      <td>0, 1, 4, 21, 40</td>\n",
              "      <td>(q_memory_cg, CDR_judge, q_memory_pt, npi10_se...</td>\n",
              "    </tr>\n",
              "    <tr>\n",
              "      <th>6</th>\n",
              "      <td>0.85437</td>\n",
              "      <td>[0.867579908675799, 0.8310502283105022, 0.8767...</td>\n",
              "      <td>0, 1, 4, 21, 28, 40</td>\n",
              "      <td>(q_memory_cg, CDR_judge, q_memory_pt, npi10_se...</td>\n",
              "    </tr>\n",
              "    <tr>\n",
              "      <th>7</th>\n",
              "      <td>0.85437</td>\n",
              "      <td>[0.867579908675799, 0.8310502283105022, 0.8767...</td>\n",
              "      <td>0, 1, 4, 16, 21, 28, 40</td>\n",
              "      <td>(q_memory_cg, CDR_judge, q_memory_pt, npi1_sev...</td>\n",
              "    </tr>\n",
              "    <tr>\n",
              "      <th>8</th>\n",
              "      <td>0.855287</td>\n",
              "      <td>[0.8812785388127854, 0.817351598173516, 0.8767...</td>\n",
              "      <td>0, 1, 4, 16, 21, 28, 30, 40</td>\n",
              "      <td>(q_memory_cg, CDR_judge, q_memory_pt, npi1_sev...</td>\n",
              "    </tr>\n",
              "    <tr>\n",
              "      <th>9</th>\n",
              "      <td>0.852565</td>\n",
              "      <td>[0.8721461187214612, 0.817351598173516, 0.8584...</td>\n",
              "      <td>0, 1, 4, 16, 21, 27, 28, 30, 40</td>\n",
              "      <td>(q_memory_cg, CDR_judge, q_memory_pt, npi1_sev...</td>\n",
              "    </tr>\n",
              "    <tr>\n",
              "      <th>10</th>\n",
              "      <td>0.8553</td>\n",
              "      <td>[0.8721461187214612, 0.8264840182648402, 0.863...</td>\n",
              "      <td>0, 1, 4, 16, 21, 27, 28, 30, 38, 40</td>\n",
              "      <td>(q_memory_cg, CDR_judge, q_memory_pt, npi1_sev...</td>\n",
              "    </tr>\n",
              "    <tr>\n",
              "      <th>11</th>\n",
              "      <td>0.857135</td>\n",
              "      <td>[0.8721461187214612, 0.8310502283105022, 0.863...</td>\n",
              "      <td>0, 1, 4, 13, 16, 21, 27, 28, 30, 38, 40</td>\n",
              "      <td>(q_memory_cg, CDR_judge, q_memory_pt, npi7_sev...</td>\n",
              "    </tr>\n",
              "    <tr>\n",
              "      <th>12</th>\n",
              "      <td>0.856222</td>\n",
              "      <td>[0.8721461187214612, 0.8310502283105022, 0.858...</td>\n",
              "      <td>0, 1, 4, 13, 16, 21, 27, 28, 30, 38, 40, 49</td>\n",
              "      <td>(q_memory_cg, CDR_judge, q_memory_pt, npi7_sev...</td>\n",
              "    </tr>\n",
              "    <tr>\n",
              "      <th>13</th>\n",
              "      <td>0.858052</td>\n",
              "      <td>[0.8767123287671232, 0.821917808219178, 0.8675...</td>\n",
              "      <td>0, 1, 4, 10, 13, 16, 21, 27, 28, 30, 38, 40, 49</td>\n",
              "      <td>(q_memory_cg, CDR_judge, q_memory_pt, npi5_sev...</td>\n",
              "    </tr>\n",
              "    <tr>\n",
              "      <th>14</th>\n",
              "      <td>0.858048</td>\n",
              "      <td>[0.8812785388127854, 0.8264840182648402, 0.863...</td>\n",
              "      <td>0, 1, 4, 10, 13, 16, 21, 27, 28, 30, 38, 40, 4...</td>\n",
              "      <td>(q_memory_cg, CDR_judge, q_memory_pt, npi5_sev...</td>\n",
              "    </tr>\n",
              "    <tr>\n",
              "      <th>15</th>\n",
              "      <td>0.860792</td>\n",
              "      <td>[0.8858447488584474, 0.8310502283105022, 0.863...</td>\n",
              "      <td>0, 1, 4, 10, 13, 14, 16, 21, 27, 28, 30, 38, 4...</td>\n",
              "      <td>(q_memory_cg, CDR_judge, q_memory_pt, npi5_sev...</td>\n",
              "    </tr>\n",
              "    <tr>\n",
              "      <th>16</th>\n",
              "      <td>0.86171</td>\n",
              "      <td>[0.8858447488584474, 0.8310502283105022, 0.863...</td>\n",
              "      <td>0, 1, 4, 10, 13, 14, 16, 21, 27, 28, 30, 31, 3...</td>\n",
              "      <td>(q_memory_cg, CDR_judge, q_memory_pt, npi5_sev...</td>\n",
              "    </tr>\n",
              "    <tr>\n",
              "      <th>17</th>\n",
              "      <td>0.856226</td>\n",
              "      <td>[0.863013698630137, 0.8356164383561644, 0.8584...</td>\n",
              "      <td>0, 1, 4, 10, 13, 14, 16, 20, 21, 27, 28, 30, 3...</td>\n",
              "      <td>(q_memory_cg, CDR_judge, q_memory_pt, npi5_sev...</td>\n",
              "    </tr>\n",
              "    <tr>\n",
              "      <th>18</th>\n",
              "      <td>0.854399</td>\n",
              "      <td>[0.863013698630137, 0.8264840182648402, 0.8584...</td>\n",
              "      <td>0, 1, 4, 10, 13, 14, 16, 20, 21, 27, 28, 30, 3...</td>\n",
              "      <td>(q_memory_cg, CDR_judge, q_memory_pt, npi5_sev...</td>\n",
              "    </tr>\n",
              "    <tr>\n",
              "      <th>19</th>\n",
              "      <td>0.856222</td>\n",
              "      <td>[0.8858447488584474, 0.8082191780821918, 0.867...</td>\n",
              "      <td>0, 1, 4, 10, 13, 14, 16, 18, 20, 21, 27, 28, 3...</td>\n",
              "      <td>(q_memory_cg, CDR_judge, q_memory_pt, npi5_sev...</td>\n",
              "    </tr>\n",
              "    <tr>\n",
              "      <th>20</th>\n",
              "      <td>0.85349</td>\n",
              "      <td>[0.8904109589041096, 0.7853881278538812, 0.858...</td>\n",
              "      <td>0, 1, 4, 10, 13, 14, 16, 18, 20, 21, 23, 27, 2...</td>\n",
              "      <td>(q_memory_cg, CDR_judge, q_memory_pt, npi5_sev...</td>\n",
              "    </tr>\n",
              "    <tr>\n",
              "      <th>21</th>\n",
              "      <td>0.849825</td>\n",
              "      <td>[0.8858447488584474, 0.8127853881278538, 0.831...</td>\n",
              "      <td>0, 1, 4, 10, 13, 14, 16, 18, 20, 21, 23, 27, 2...</td>\n",
              "      <td>(q_memory_cg, CDR_judge, q_memory_pt, npi5_sev...</td>\n",
              "    </tr>\n",
              "    <tr>\n",
              "      <th>22</th>\n",
              "      <td>0.853511</td>\n",
              "      <td>[0.8767123287671232, 0.817351598173516, 0.8401...</td>\n",
              "      <td>0, 1, 4, 10, 13, 14, 16, 18, 20, 21, 23, 27, 2...</td>\n",
              "      <td>(q_memory_cg, CDR_judge, q_memory_pt, npi5_sev...</td>\n",
              "    </tr>\n",
              "    <tr>\n",
              "      <th>23</th>\n",
              "      <td>0.858031</td>\n",
              "      <td>[0.8812785388127854, 0.8310502283105022, 0.872...</td>\n",
              "      <td>0, 1, 4, 10, 11, 13, 14, 16, 18, 20, 21, 23, 2...</td>\n",
              "      <td>(q_memory_cg, CDR_judge, q_memory_pt, npi5_sev...</td>\n",
              "    </tr>\n",
              "    <tr>\n",
              "      <th>24</th>\n",
              "      <td>0.851651</td>\n",
              "      <td>[0.8767123287671232, 0.817351598173516, 0.8584...</td>\n",
              "      <td>0, 1, 4, 10, 11, 13, 14, 16, 18, 20, 21, 23, 2...</td>\n",
              "      <td>(q_memory_cg, CDR_judge, q_memory_pt, npi5_sev...</td>\n",
              "    </tr>\n",
              "    <tr>\n",
              "      <th>25</th>\n",
              "      <td>0.849808</td>\n",
              "      <td>[0.867579908675799, 0.8127853881278538, 0.8721...</td>\n",
              "      <td>0, 1, 4, 10, 11, 13, 14, 16, 18, 20, 21, 22, 2...</td>\n",
              "      <td>(q_memory_cg, CDR_judge, q_memory_pt, npi5_sev...</td>\n",
              "    </tr>\n",
              "    <tr>\n",
              "      <th>26</th>\n",
              "      <td>0.849825</td>\n",
              "      <td>[0.8767123287671232, 0.8127853881278538, 0.849...</td>\n",
              "      <td>0, 1, 4, 10, 11, 13, 14, 16, 18, 20, 21, 22, 2...</td>\n",
              "      <td>(q_memory_cg, CDR_judge, q_memory_pt, npi5_sev...</td>\n",
              "    </tr>\n",
              "    <tr>\n",
              "      <th>27</th>\n",
              "      <td>0.847115</td>\n",
              "      <td>[0.8493150684931506, 0.7945205479452054, 0.858...</td>\n",
              "      <td>0, 1, 4, 10, 11, 13, 14, 16, 18, 20, 21, 22, 2...</td>\n",
              "      <td>(q_memory_cg, CDR_judge, q_memory_pt, npi5_sev...</td>\n",
              "    </tr>\n",
              "    <tr>\n",
              "      <th>28</th>\n",
              "      <td>0.849804</td>\n",
              "      <td>[0.867579908675799, 0.8082191780821918, 0.8675...</td>\n",
              "      <td>0, 1, 4, 10, 11, 13, 14, 16, 18, 20, 21, 22, 2...</td>\n",
              "      <td>(q_memory_cg, CDR_judge, q_memory_pt, npi5_sev...</td>\n",
              "    </tr>\n",
              "    <tr>\n",
              "      <th>29</th>\n",
              "      <td>0.847986</td>\n",
              "      <td>[0.867579908675799, 0.8127853881278538, 0.8584...</td>\n",
              "      <td>0, 1, 4, 7, 10, 11, 13, 14, 16, 18, 20, 21, 22...</td>\n",
              "      <td>(q_memory_cg, CDR_judge, q_memory_pt, q_langua...</td>\n",
              "    </tr>\n",
              "    <tr>\n",
              "      <th>30</th>\n",
              "      <td>0.845246</td>\n",
              "      <td>[0.8721461187214612, 0.7990867579908676, 0.863...</td>\n",
              "      <td>0, 1, 4, 7, 10, 11, 13, 14, 16, 18, 20, 21, 22...</td>\n",
              "      <td>(q_memory_cg, CDR_judge, q_memory_pt, q_langua...</td>\n",
              "    </tr>\n",
              "  </tbody>\n",
              "</table>\n",
              "</div>"
            ],
            "text/plain": [
              "   avg_score  ...                                      feature_names\n",
              "1   0.803048  ...                                     (q_memory_cg,)\n",
              "2   0.837856  ...                           (q_memory_cg, CDR_judge)\n",
              "3   0.848882  ...              (q_memory_cg, CDR_judge, q_memory_pt)\n",
              "4   0.853457  ...   (q_memory_cg, CDR_judge, q_memory_pt, npi10_sev)\n",
              "5   0.855283  ...  (q_memory_cg, CDR_judge, q_memory_pt, npi10_se...\n",
              "6    0.85437  ...  (q_memory_cg, CDR_judge, q_memory_pt, npi10_se...\n",
              "7    0.85437  ...  (q_memory_cg, CDR_judge, q_memory_pt, npi1_sev...\n",
              "8   0.855287  ...  (q_memory_cg, CDR_judge, q_memory_pt, npi1_sev...\n",
              "9   0.852565  ...  (q_memory_cg, CDR_judge, q_memory_pt, npi1_sev...\n",
              "10    0.8553  ...  (q_memory_cg, CDR_judge, q_memory_pt, npi1_sev...\n",
              "11  0.857135  ...  (q_memory_cg, CDR_judge, q_memory_pt, npi7_sev...\n",
              "12  0.856222  ...  (q_memory_cg, CDR_judge, q_memory_pt, npi7_sev...\n",
              "13  0.858052  ...  (q_memory_cg, CDR_judge, q_memory_pt, npi5_sev...\n",
              "14  0.858048  ...  (q_memory_cg, CDR_judge, q_memory_pt, npi5_sev...\n",
              "15  0.860792  ...  (q_memory_cg, CDR_judge, q_memory_pt, npi5_sev...\n",
              "16   0.86171  ...  (q_memory_cg, CDR_judge, q_memory_pt, npi5_sev...\n",
              "17  0.856226  ...  (q_memory_cg, CDR_judge, q_memory_pt, npi5_sev...\n",
              "18  0.854399  ...  (q_memory_cg, CDR_judge, q_memory_pt, npi5_sev...\n",
              "19  0.856222  ...  (q_memory_cg, CDR_judge, q_memory_pt, npi5_sev...\n",
              "20   0.85349  ...  (q_memory_cg, CDR_judge, q_memory_pt, npi5_sev...\n",
              "21  0.849825  ...  (q_memory_cg, CDR_judge, q_memory_pt, npi5_sev...\n",
              "22  0.853511  ...  (q_memory_cg, CDR_judge, q_memory_pt, npi5_sev...\n",
              "23  0.858031  ...  (q_memory_cg, CDR_judge, q_memory_pt, npi5_sev...\n",
              "24  0.851651  ...  (q_memory_cg, CDR_judge, q_memory_pt, npi5_sev...\n",
              "25  0.849808  ...  (q_memory_cg, CDR_judge, q_memory_pt, npi5_sev...\n",
              "26  0.849825  ...  (q_memory_cg, CDR_judge, q_memory_pt, npi5_sev...\n",
              "27  0.847115  ...  (q_memory_cg, CDR_judge, q_memory_pt, npi5_sev...\n",
              "28  0.849804  ...  (q_memory_cg, CDR_judge, q_memory_pt, npi5_sev...\n",
              "29  0.847986  ...  (q_memory_cg, CDR_judge, q_memory_pt, q_langua...\n",
              "30  0.845246  ...  (q_memory_cg, CDR_judge, q_memory_pt, q_langua...\n",
              "\n",
              "[30 rows x 4 columns]"
            ]
          },
          "metadata": {
            "tags": []
          },
          "execution_count": 425
        }
      ]
    },
    {
      "cell_type": "markdown",
      "metadata": {
        "colab_type": "text",
        "id": "42RSS3VaoX6Y"
      },
      "source": [
        "#### Cost Sums"
      ]
    },
    {
      "cell_type": "code",
      "metadata": {
        "colab_type": "code",
        "outputId": "8d3fd668-6cb1-4fd5-d25d-4b37a3a97e5a",
        "id": "toc1dM4RoX6Y",
        "colab": {
          "base_uri": "https://localhost:8080/",
          "height": 126
        }
      },
      "source": [
        "cost_sum(4)"
      ],
      "execution_count": 426,
      "outputs": [
        {
          "output_type": "stream",
          "text": [
            "4  features.\n",
            "Accuracy:  0.8534568196529463\n",
            "Features:  ('q_memory_cg', 'CDR_judge', 'q_memory_pt', 'npi10_sev')\n",
            "Cost Sum:  7.0  Avg:  1.75\n",
            "Cost Time:  5.0  Avg:  1.25\n",
            "Cost Diff:  9.0  Avg:  2.25\n"
          ],
          "name": "stdout"
        }
      ]
    },
    {
      "cell_type": "code",
      "metadata": {
        "id": "asRWdJ39SzGv",
        "colab_type": "code",
        "colab": {
          "base_uri": "https://localhost:8080/",
          "height": 126
        },
        "outputId": "ab107357-4bda-4773-a771-51679391e102"
      },
      "source": [
        "cost_sum(7)"
      ],
      "execution_count": 427,
      "outputs": [
        {
          "output_type": "stream",
          "text": [
            "7  features.\n",
            "Accuracy:  0.8543700616620787\n",
            "Features:  ('q_memory_cg', 'CDR_judge', 'q_memory_pt', 'npi1_sev', 'npi10_sev', 'hach2', 'hach1')\n",
            "Cost Sum:  12.0  Avg:  1.7142857142857142\n",
            "Cost Time:  8.0  Avg:  1.1428571428571428\n",
            "Cost Diff:  16.0  Avg:  2.2857142857142856\n"
          ],
          "name": "stdout"
        }
      ]
    },
    {
      "cell_type": "code",
      "metadata": {
        "id": "YxTH0KRBqM71",
        "colab_type": "code",
        "colab": {
          "base_uri": "https://localhost:8080/",
          "height": 126
        },
        "outputId": "a7113f80-61ea-4dbb-a047-d880d0d56087"
      },
      "source": [
        "cost_sum(11)"
      ],
      "execution_count": 429,
      "outputs": [
        {
          "output_type": "stream",
          "text": [
            "11  features.\n",
            "Accuracy:  0.8571349614006312\n",
            "Features:  ('q_memory_cg', 'CDR_judge', 'q_memory_pt', 'npi7_sev', 'npi1_sev', 'npi10_sev', 'PXHEADEY', 'hach2', 'CDR_home', 'hach3', 'hach1')\n",
            "Cost Sum:  21.0  Avg:  1.9090909090909092\n",
            "Cost Time:  14.0  Avg:  1.2727272727272727\n",
            "Cost Diff:  28.0  Avg:  2.5454545454545454\n"
          ],
          "name": "stdout"
        }
      ]
    },
    {
      "cell_type": "markdown",
      "metadata": {
        "id": "kgqiWJjQPxem",
        "colab_type": "text"
      },
      "source": [
        "#### 30 starting features"
      ]
    },
    {
      "cell_type": "code",
      "metadata": {
        "colab_type": "code",
        "id": "hGpqORMwP77v",
        "colab": {}
      },
      "source": [
        "features = pd.read_csv(f'{dir}/features_paired.csv')\n",
        "features['weight_x.5'] = (features['avg_score'] + (features['cost_reverse']*.5))/2\n",
        "features.sort_values('weight_x.5', ascending=False)\n",
        "features = features.head(30)"
      ],
      "execution_count": 0,
      "outputs": []
    },
    {
      "cell_type": "code",
      "metadata": {
        "colab_type": "code",
        "id": "CUcqNZU8P77y",
        "colab": {}
      },
      "source": [
        "from sklearn.ensemble import RandomForestClassifier\n",
        "from sklearn.model_selection import cross_val_score, StratifiedKFold\n",
        "\n",
        "cv = StratifiedKFold(n_splits=5)\n",
        "\n",
        "clf = RandomForestClassifier(n_estimators=100, max_features=.5)\n",
        "\n",
        "adni_pair_i_X = adni_pair_X.loc[:,features['feature']]"
      ],
      "execution_count": 0,
      "outputs": []
    },
    {
      "cell_type": "code",
      "metadata": {
        "colab_type": "code",
        "id": "PdGYs0IRP77z",
        "colab": {}
      },
      "source": [
        "from mlxtend.feature_selection import SequentialFeatureSelector as SFS\n",
        "\n",
        "sfs1 = SFS(clf, \n",
        "           k_features=(30), \n",
        "           forward=True, \n",
        "           floating=False, \n",
        "           verbose=2,\n",
        "           scoring='accuracy',\n",
        "           cv=cv,\n",
        "           n_jobs=-1)\n",
        "\n",
        "sfs1 = sfs1.fit(adni_pair_i_X, adni_pair_y2.values.ravel())"
      ],
      "execution_count": 0,
      "outputs": []
    },
    {
      "cell_type": "code",
      "metadata": {
        "colab_type": "code",
        "id": "G4dFSEvcP772",
        "colab": {}
      },
      "source": [
        "f_costs = pd.DataFrame.from_dict(sfs1.subsets_)\n",
        "f_costs = f_costs.transpose()\n",
        "f_costs['feature_idx'] = f_costs['feature_idx'].apply(str).str.replace('(','').str.replace(')','')\n",
        "f_costs.to_csv(f'{dir}/Output/eff_features_paired_importweight_30.csv', index=False)\n"
      ],
      "execution_count": 0,
      "outputs": []
    },
    {
      "cell_type": "code",
      "metadata": {
        "colab_type": "code",
        "outputId": "9e3bf06b-b640-4ab3-9ec5-04b7b7fa8aac",
        "id": "WqxZDmldP773",
        "colab": {
          "base_uri": "https://localhost:8080/",
          "height": 948
        }
      },
      "source": [
        "f_costs"
      ],
      "execution_count": 434,
      "outputs": [
        {
          "output_type": "execute_result",
          "data": {
            "text/html": [
              "<div>\n",
              "<style scoped>\n",
              "    .dataframe tbody tr th:only-of-type {\n",
              "        vertical-align: middle;\n",
              "    }\n",
              "\n",
              "    .dataframe tbody tr th {\n",
              "        vertical-align: top;\n",
              "    }\n",
              "\n",
              "    .dataframe thead th {\n",
              "        text-align: right;\n",
              "    }\n",
              "</style>\n",
              "<table border=\"1\" class=\"dataframe\">\n",
              "  <thead>\n",
              "    <tr style=\"text-align: right;\">\n",
              "      <th></th>\n",
              "      <th>avg_score</th>\n",
              "      <th>cv_scores</th>\n",
              "      <th>feature_idx</th>\n",
              "      <th>feature_names</th>\n",
              "    </tr>\n",
              "  </thead>\n",
              "  <tbody>\n",
              "    <tr>\n",
              "      <th>1</th>\n",
              "      <td>0.803048</td>\n",
              "      <td>[0.8721461187214612, 0.730593607305936, 0.8401...</td>\n",
              "      <td>0,</td>\n",
              "      <td>(q_memory_cg,)</td>\n",
              "    </tr>\n",
              "    <tr>\n",
              "      <th>2</th>\n",
              "      <td>0.837856</td>\n",
              "      <td>[0.8721461187214612, 0.8082191780821918, 0.863...</td>\n",
              "      <td>0, 1</td>\n",
              "      <td>(q_memory_cg, CDR_judge)</td>\n",
              "    </tr>\n",
              "    <tr>\n",
              "      <th>3</th>\n",
              "      <td>0.848882</td>\n",
              "      <td>[0.8493150684931506, 0.8264840182648402, 0.876...</td>\n",
              "      <td>0, 1, 4</td>\n",
              "      <td>(q_memory_cg, CDR_judge, q_memory_pt)</td>\n",
              "    </tr>\n",
              "    <tr>\n",
              "      <th>4</th>\n",
              "      <td>0.85437</td>\n",
              "      <td>[0.867579908675799, 0.8310502283105022, 0.8767...</td>\n",
              "      <td>0, 1, 4, 21</td>\n",
              "      <td>(q_memory_cg, CDR_judge, q_memory_pt, npi10_sev)</td>\n",
              "    </tr>\n",
              "    <tr>\n",
              "      <th>5</th>\n",
              "      <td>0.85437</td>\n",
              "      <td>[0.8721461187214612, 0.8264840182648402, 0.876...</td>\n",
              "      <td>0, 1, 4, 20, 21</td>\n",
              "      <td>(q_memory_cg, CDR_judge, q_memory_pt, hach7, n...</td>\n",
              "    </tr>\n",
              "    <tr>\n",
              "      <th>6</th>\n",
              "      <td>0.855283</td>\n",
              "      <td>[0.8721461187214612, 0.8310502283105022, 0.876...</td>\n",
              "      <td>0, 1, 4, 16, 20, 21</td>\n",
              "      <td>(q_memory_cg, CDR_judge, q_memory_pt, npi1_sev...</td>\n",
              "    </tr>\n",
              "    <tr>\n",
              "      <th>7</th>\n",
              "      <td>0.85437</td>\n",
              "      <td>[0.867579908675799, 0.8310502283105022, 0.8767...</td>\n",
              "      <td>0, 1, 4, 16, 20, 21, 28</td>\n",
              "      <td>(q_memory_cg, CDR_judge, q_memory_pt, npi1_sev...</td>\n",
              "    </tr>\n",
              "    <tr>\n",
              "      <th>8</th>\n",
              "      <td>0.855283</td>\n",
              "      <td>[0.8721461187214612, 0.8310502283105022, 0.876...</td>\n",
              "      <td>0, 1, 4, 14, 16, 20, 21, 28</td>\n",
              "      <td>(q_memory_cg, CDR_judge, q_memory_pt, npi6_sev...</td>\n",
              "    </tr>\n",
              "    <tr>\n",
              "      <th>9</th>\n",
              "      <td>0.855292</td>\n",
              "      <td>[0.8584474885844748, 0.8310502283105022, 0.881...</td>\n",
              "      <td>0, 1, 4, 10, 14, 16, 20, 21, 28</td>\n",
              "      <td>(q_memory_cg, CDR_judge, q_memory_pt, npi5_sev...</td>\n",
              "    </tr>\n",
              "    <tr>\n",
              "      <th>10</th>\n",
              "      <td>0.853461</td>\n",
              "      <td>[0.8538812785388128, 0.8310502283105022, 0.881...</td>\n",
              "      <td>0, 1, 4, 10, 14, 16, 18, 20, 21, 28</td>\n",
              "      <td>(q_memory_cg, CDR_judge, q_memory_pt, npi5_sev...</td>\n",
              "    </tr>\n",
              "    <tr>\n",
              "      <th>11</th>\n",
              "      <td>0.855287</td>\n",
              "      <td>[0.863013698630137, 0.8310502283105022, 0.8812...</td>\n",
              "      <td>0, 1, 4, 10, 12, 14, 16, 18, 20, 21, 28</td>\n",
              "      <td>(q_memory_cg, CDR_judge, q_memory_pt, npi5_sev...</td>\n",
              "    </tr>\n",
              "    <tr>\n",
              "      <th>12</th>\n",
              "      <td>0.851626</td>\n",
              "      <td>[0.8584474885844748, 0.821917808219178, 0.8812...</td>\n",
              "      <td>0, 1, 4, 10, 12, 14, 16, 18, 20, 21, 22, 28</td>\n",
              "      <td>(q_memory_cg, CDR_judge, q_memory_pt, npi5_sev...</td>\n",
              "    </tr>\n",
              "    <tr>\n",
              "      <th>13</th>\n",
              "      <td>0.847043</td>\n",
              "      <td>[0.8538812785388128, 0.821917808219178, 0.8721...</td>\n",
              "      <td>0, 1, 4, 10, 12, 14, 16, 18, 20, 21, 22, 23, 28</td>\n",
              "      <td>(q_memory_cg, CDR_judge, q_memory_pt, npi5_sev...</td>\n",
              "    </tr>\n",
              "    <tr>\n",
              "      <th>14</th>\n",
              "      <td>0.844316</td>\n",
              "      <td>[0.8538812785388128, 0.8082191780821918, 0.863...</td>\n",
              "      <td>0, 1, 4, 10, 12, 14, 16, 18, 20, 21, 22, 23, 2...</td>\n",
              "      <td>(q_memory_cg, CDR_judge, q_memory_pt, npi5_sev...</td>\n",
              "    </tr>\n",
              "    <tr>\n",
              "      <th>15</th>\n",
              "      <td>0.840659</td>\n",
              "      <td>[0.8538812785388128, 0.7945205479452054, 0.863...</td>\n",
              "      <td>0, 1, 4, 10, 12, 14, 16, 18, 20, 21, 22, 23, 2...</td>\n",
              "      <td>(q_memory_cg, CDR_judge, q_memory_pt, npi5_sev...</td>\n",
              "    </tr>\n",
              "    <tr>\n",
              "      <th>16</th>\n",
              "      <td>0.84339</td>\n",
              "      <td>[0.8584474885844748, 0.8127853881278538, 0.858...</td>\n",
              "      <td>0, 1, 4, 10, 12, 13, 14, 16, 18, 20, 21, 22, 2...</td>\n",
              "      <td>(q_memory_cg, CDR_judge, q_memory_pt, npi5_sev...</td>\n",
              "    </tr>\n",
              "    <tr>\n",
              "      <th>17</th>\n",
              "      <td>0.838815</td>\n",
              "      <td>[0.8767123287671232, 0.8082191780821918, 0.826...</td>\n",
              "      <td>0, 1, 4, 10, 12, 13, 14, 16, 18, 20, 21, 22, 2...</td>\n",
              "      <td>(q_memory_cg, CDR_judge, q_memory_pt, npi5_sev...</td>\n",
              "    </tr>\n",
              "    <tr>\n",
              "      <th>18</th>\n",
              "      <td>0.835171</td>\n",
              "      <td>[0.863013698630137, 0.7853881278538812, 0.8401...</td>\n",
              "      <td>0, 1, 4, 10, 11, 12, 13, 14, 16, 18, 20, 21, 2...</td>\n",
              "      <td>(q_memory_cg, CDR_judge, q_memory_pt, npi5_sev...</td>\n",
              "    </tr>\n",
              "    <tr>\n",
              "      <th>19</th>\n",
              "      <td>0.834283</td>\n",
              "      <td>[0.8493150684931506, 0.7808219178082192, 0.844...</td>\n",
              "      <td>0, 1, 4, 10, 11, 12, 13, 14, 16, 18, 19, 20, 2...</td>\n",
              "      <td>(q_memory_cg, CDR_judge, q_memory_pt, npi5_sev...</td>\n",
              "    </tr>\n",
              "    <tr>\n",
              "      <th>20</th>\n",
              "      <td>0.827882</td>\n",
              "      <td>[0.8447488584474886, 0.776255707762557, 0.8310...</td>\n",
              "      <td>0, 1, 4, 7, 10, 11, 12, 13, 14, 16, 18, 19, 20...</td>\n",
              "      <td>(q_memory_cg, CDR_judge, q_memory_pt, q_langua...</td>\n",
              "    </tr>\n",
              "    <tr>\n",
              "      <th>21</th>\n",
              "      <td>0.834266</td>\n",
              "      <td>[0.8538812785388128, 0.7899543378995434, 0.840...</td>\n",
              "      <td>0, 1, 4, 7, 10, 11, 12, 13, 14, 15, 16, 18, 19...</td>\n",
              "      <td>(q_memory_cg, CDR_judge, q_memory_pt, q_langua...</td>\n",
              "    </tr>\n",
              "    <tr>\n",
              "      <th>22</th>\n",
              "      <td>0.830613</td>\n",
              "      <td>[0.8401826484018264, 0.7945205479452054, 0.831...</td>\n",
              "      <td>0, 1, 4, 6, 7, 10, 11, 12, 13, 14, 15, 16, 18,...</td>\n",
              "      <td>(q_memory_cg, CDR_judge, q_memory_pt, moca_rec...</td>\n",
              "    </tr>\n",
              "    <tr>\n",
              "      <th>23</th>\n",
              "      <td>0.838874</td>\n",
              "      <td>[0.8356164383561644, 0.8082191780821918, 0.840...</td>\n",
              "      <td>0, 1, 3, 4, 6, 7, 10, 11, 12, 13, 14, 15, 16, ...</td>\n",
              "      <td>(q_memory_cg, CDR_judge, vlt_delay, q_memory_p...</td>\n",
              "    </tr>\n",
              "    <tr>\n",
              "      <th>24</th>\n",
              "      <td>0.838849</td>\n",
              "      <td>[0.8584474885844748, 0.8082191780821918, 0.835...</td>\n",
              "      <td>0, 1, 3, 4, 6, 7, 9, 10, 11, 12, 13, 14, 15, 1...</td>\n",
              "      <td>(q_memory_cg, CDR_judge, vlt_delay, q_memory_p...</td>\n",
              "    </tr>\n",
              "    <tr>\n",
              "      <th>25</th>\n",
              "      <td>0.843432</td>\n",
              "      <td>[0.863013698630137, 0.8082191780821918, 0.8401...</td>\n",
              "      <td>0, 1, 3, 4, 6, 7, 9, 10, 11, 12, 13, 14, 15, 1...</td>\n",
              "      <td>(q_memory_cg, CDR_judge, vlt_delay, q_memory_p...</td>\n",
              "    </tr>\n",
              "    <tr>\n",
              "      <th>26</th>\n",
              "      <td>0.838845</td>\n",
              "      <td>[0.8447488584474886, 0.817351598173516, 0.8401...</td>\n",
              "      <td>0, 1, 3, 4, 6, 7, 9, 10, 11, 12, 13, 14, 15, 1...</td>\n",
              "      <td>(q_memory_cg, CDR_judge, vlt_delay, q_memory_p...</td>\n",
              "    </tr>\n",
              "    <tr>\n",
              "      <th>27</th>\n",
              "      <td>0.843428</td>\n",
              "      <td>[0.8584474885844748, 0.8082191780821918, 0.844...</td>\n",
              "      <td>0, 1, 2, 3, 4, 6, 7, 9, 10, 11, 12, 13, 14, 15...</td>\n",
              "      <td>(q_memory_cg, CDR_judge, q_attention_cg, vlt_d...</td>\n",
              "    </tr>\n",
              "    <tr>\n",
              "      <th>28</th>\n",
              "      <td>0.845254</td>\n",
              "      <td>[0.8538812785388128, 0.7990867579908676, 0.863...</td>\n",
              "      <td>0, 1, 2, 3, 4, 6, 7, 8, 9, 10, 11, 12, 13, 14,...</td>\n",
              "      <td>(q_memory_cg, CDR_judge, q_attention_cg, vlt_d...</td>\n",
              "    </tr>\n",
              "    <tr>\n",
              "      <th>29</th>\n",
              "      <td>0.84068</td>\n",
              "      <td>[0.863013698630137, 0.7853881278538812, 0.8538...</td>\n",
              "      <td>0, 1, 2, 3, 4, 6, 7, 8, 9, 10, 11, 12, 13, 14,...</td>\n",
              "      <td>(q_memory_cg, CDR_judge, q_attention_cg, vlt_d...</td>\n",
              "    </tr>\n",
              "    <tr>\n",
              "      <th>30</th>\n",
              "      <td>0.830592</td>\n",
              "      <td>[0.8447488584474886, 0.7899543378995434, 0.840...</td>\n",
              "      <td>0, 1, 2, 3, 4, 5, 6, 7, 8, 9, 10, 11, 12, 13, ...</td>\n",
              "      <td>(q_memory_cg, CDR_judge, q_attention_cg, vlt_d...</td>\n",
              "    </tr>\n",
              "  </tbody>\n",
              "</table>\n",
              "</div>"
            ],
            "text/plain": [
              "   avg_score  ...                                      feature_names\n",
              "1   0.803048  ...                                     (q_memory_cg,)\n",
              "2   0.837856  ...                           (q_memory_cg, CDR_judge)\n",
              "3   0.848882  ...              (q_memory_cg, CDR_judge, q_memory_pt)\n",
              "4    0.85437  ...   (q_memory_cg, CDR_judge, q_memory_pt, npi10_sev)\n",
              "5    0.85437  ...  (q_memory_cg, CDR_judge, q_memory_pt, hach7, n...\n",
              "6   0.855283  ...  (q_memory_cg, CDR_judge, q_memory_pt, npi1_sev...\n",
              "7    0.85437  ...  (q_memory_cg, CDR_judge, q_memory_pt, npi1_sev...\n",
              "8   0.855283  ...  (q_memory_cg, CDR_judge, q_memory_pt, npi6_sev...\n",
              "9   0.855292  ...  (q_memory_cg, CDR_judge, q_memory_pt, npi5_sev...\n",
              "10  0.853461  ...  (q_memory_cg, CDR_judge, q_memory_pt, npi5_sev...\n",
              "11  0.855287  ...  (q_memory_cg, CDR_judge, q_memory_pt, npi5_sev...\n",
              "12  0.851626  ...  (q_memory_cg, CDR_judge, q_memory_pt, npi5_sev...\n",
              "13  0.847043  ...  (q_memory_cg, CDR_judge, q_memory_pt, npi5_sev...\n",
              "14  0.844316  ...  (q_memory_cg, CDR_judge, q_memory_pt, npi5_sev...\n",
              "15  0.840659  ...  (q_memory_cg, CDR_judge, q_memory_pt, npi5_sev...\n",
              "16   0.84339  ...  (q_memory_cg, CDR_judge, q_memory_pt, npi5_sev...\n",
              "17  0.838815  ...  (q_memory_cg, CDR_judge, q_memory_pt, npi5_sev...\n",
              "18  0.835171  ...  (q_memory_cg, CDR_judge, q_memory_pt, npi5_sev...\n",
              "19  0.834283  ...  (q_memory_cg, CDR_judge, q_memory_pt, npi5_sev...\n",
              "20  0.827882  ...  (q_memory_cg, CDR_judge, q_memory_pt, q_langua...\n",
              "21  0.834266  ...  (q_memory_cg, CDR_judge, q_memory_pt, q_langua...\n",
              "22  0.830613  ...  (q_memory_cg, CDR_judge, q_memory_pt, moca_rec...\n",
              "23  0.838874  ...  (q_memory_cg, CDR_judge, vlt_delay, q_memory_p...\n",
              "24  0.838849  ...  (q_memory_cg, CDR_judge, vlt_delay, q_memory_p...\n",
              "25  0.843432  ...  (q_memory_cg, CDR_judge, vlt_delay, q_memory_p...\n",
              "26  0.838845  ...  (q_memory_cg, CDR_judge, vlt_delay, q_memory_p...\n",
              "27  0.843428  ...  (q_memory_cg, CDR_judge, q_attention_cg, vlt_d...\n",
              "28  0.845254  ...  (q_memory_cg, CDR_judge, q_attention_cg, vlt_d...\n",
              "29   0.84068  ...  (q_memory_cg, CDR_judge, q_attention_cg, vlt_d...\n",
              "30  0.830592  ...  (q_memory_cg, CDR_judge, q_attention_cg, vlt_d...\n",
              "\n",
              "[30 rows x 4 columns]"
            ]
          },
          "metadata": {
            "tags": []
          },
          "execution_count": 434
        }
      ]
    },
    {
      "cell_type": "markdown",
      "metadata": {
        "colab_type": "text",
        "id": "zkXPH2i9P777"
      },
      "source": [
        "#### Cost Sums"
      ]
    },
    {
      "cell_type": "code",
      "metadata": {
        "colab_type": "code",
        "outputId": "4588be81-2606-413c-a6a7-eafb7b8166bd",
        "id": "-VhIIX3uP777",
        "colab": {
          "base_uri": "https://localhost:8080/",
          "height": 126
        }
      },
      "source": [
        "cost_sum(4)"
      ],
      "execution_count": 435,
      "outputs": [
        {
          "output_type": "stream",
          "text": [
            "4  features.\n",
            "Accuracy:  0.8543700616620787\n",
            "Features:  ('q_memory_cg', 'CDR_judge', 'q_memory_pt', 'npi10_sev')\n",
            "Cost Sum:  7.0  Avg:  1.75\n",
            "Cost Time:  5.0  Avg:  1.25\n",
            "Cost Diff:  9.0  Avg:  2.25\n"
          ],
          "name": "stdout"
        }
      ]
    },
    {
      "cell_type": "code",
      "metadata": {
        "id": "piv9U20NPxmJ",
        "colab_type": "code",
        "colab": {
          "base_uri": "https://localhost:8080/",
          "height": 126
        },
        "outputId": "a386f5ae-a88f-4ece-d949-b751e66e2439"
      },
      "source": [
        "cost_sum(6)"
      ],
      "execution_count": 436,
      "outputs": [
        {
          "output_type": "stream",
          "text": [
            "6  features.\n",
            "Accuracy:  0.8552833036712112\n",
            "Features:  ('q_memory_cg', 'CDR_judge', 'q_memory_pt', 'npi1_sev', 'hach7', 'npi10_sev')\n",
            "Cost Sum:  10.5  Avg:  1.75\n",
            "Cost Time:  7.0  Avg:  1.1666666666666667\n",
            "Cost Diff:  14.0  Avg:  2.3333333333333335\n"
          ],
          "name": "stdout"
        }
      ]
    },
    {
      "cell_type": "markdown",
      "metadata": {
        "id": "06raLgk5Pxo6",
        "colab_type": "text"
      },
      "source": [
        "#### 15 starting features"
      ]
    },
    {
      "cell_type": "code",
      "metadata": {
        "colab_type": "code",
        "id": "nTBTH9IPP_Fx",
        "colab": {}
      },
      "source": [
        "features = pd.read_csv(f'{dir}/features_paired.csv')\n",
        "features['weight_x.5'] = (features['avg_score'] + (features['cost_reverse']*.5))/2\n",
        "features.sort_values('weight_x.5', ascending=False)\n",
        "features = features.head(15)"
      ],
      "execution_count": 0,
      "outputs": []
    },
    {
      "cell_type": "code",
      "metadata": {
        "colab_type": "code",
        "id": "Q-nBD4EmP_F3",
        "colab": {}
      },
      "source": [
        "from sklearn.ensemble import RandomForestClassifier\n",
        "from sklearn.model_selection import cross_val_score, StratifiedKFold\n",
        "\n",
        "cv = StratifiedKFold(n_splits=5)\n",
        "\n",
        "clf = RandomForestClassifier(n_estimators=100, max_features=.5)\n",
        "\n",
        "adni_pair_i_X = adni_pair_X.loc[:,features['feature']]"
      ],
      "execution_count": 0,
      "outputs": []
    },
    {
      "cell_type": "code",
      "metadata": {
        "colab_type": "code",
        "id": "37vFcMHPP_F8",
        "colab": {}
      },
      "source": [
        "from mlxtend.feature_selection import SequentialFeatureSelector as SFS\n",
        "\n",
        "sfs1 = SFS(clf, \n",
        "           k_features=(15), \n",
        "           forward=True, \n",
        "           floating=False, \n",
        "           verbose=2,\n",
        "           scoring='accuracy',\n",
        "           cv=cv,\n",
        "           n_jobs=-1)\n",
        "\n",
        "sfs1 = sfs1.fit(adni_pair_i_X, adni_pair_y2.values.ravel())"
      ],
      "execution_count": 0,
      "outputs": []
    },
    {
      "cell_type": "code",
      "metadata": {
        "colab_type": "code",
        "id": "tOL3TJnkP_GB",
        "colab": {}
      },
      "source": [
        "f_costs = pd.DataFrame.from_dict(sfs1.subsets_)\n",
        "f_costs = f_costs.transpose()\n",
        "f_costs['feature_idx'] = f_costs['feature_idx'].apply(str).str.replace('(','').str.replace(')','')\n",
        "f_costs.to_csv(f'{dir}/Output/eff_features_paired_importweight_15.csv', index=False)\n",
        "\n"
      ],
      "execution_count": 0,
      "outputs": []
    },
    {
      "cell_type": "code",
      "metadata": {
        "colab_type": "code",
        "outputId": "a9a0512e-ea72-455b-eace-ed2a1a1c3005",
        "id": "-YuL7vdNP_GE",
        "colab": {
          "base_uri": "https://localhost:8080/",
          "height": 498
        }
      },
      "source": [
        "f_costs"
      ],
      "execution_count": 444,
      "outputs": [
        {
          "output_type": "execute_result",
          "data": {
            "text/html": [
              "<div>\n",
              "<style scoped>\n",
              "    .dataframe tbody tr th:only-of-type {\n",
              "        vertical-align: middle;\n",
              "    }\n",
              "\n",
              "    .dataframe tbody tr th {\n",
              "        vertical-align: top;\n",
              "    }\n",
              "\n",
              "    .dataframe thead th {\n",
              "        text-align: right;\n",
              "    }\n",
              "</style>\n",
              "<table border=\"1\" class=\"dataframe\">\n",
              "  <thead>\n",
              "    <tr style=\"text-align: right;\">\n",
              "      <th></th>\n",
              "      <th>avg_score</th>\n",
              "      <th>cv_scores</th>\n",
              "      <th>feature_idx</th>\n",
              "      <th>feature_names</th>\n",
              "    </tr>\n",
              "  </thead>\n",
              "  <tbody>\n",
              "    <tr>\n",
              "      <th>1</th>\n",
              "      <td>0.803048</td>\n",
              "      <td>[0.8721461187214612, 0.730593607305936, 0.8401...</td>\n",
              "      <td>0,</td>\n",
              "      <td>(q_memory_cg,)</td>\n",
              "    </tr>\n",
              "    <tr>\n",
              "      <th>2</th>\n",
              "      <td>0.837856</td>\n",
              "      <td>[0.8721461187214612, 0.8082191780821918, 0.863...</td>\n",
              "      <td>0, 1</td>\n",
              "      <td>(q_memory_cg, CDR_judge)</td>\n",
              "    </tr>\n",
              "    <tr>\n",
              "      <th>3</th>\n",
              "      <td>0.848882</td>\n",
              "      <td>[0.8493150684931506, 0.8264840182648402, 0.876...</td>\n",
              "      <td>0, 1, 4</td>\n",
              "      <td>(q_memory_cg, CDR_judge, q_memory_pt)</td>\n",
              "    </tr>\n",
              "    <tr>\n",
              "      <th>4</th>\n",
              "      <td>0.851614</td>\n",
              "      <td>[0.867579908675799, 0.8264840182648402, 0.8767...</td>\n",
              "      <td>0, 1, 4, 12</td>\n",
              "      <td>(q_memory_cg, CDR_judge, q_memory_pt, npi8_sev)</td>\n",
              "    </tr>\n",
              "    <tr>\n",
              "      <th>5</th>\n",
              "      <td>0.853461</td>\n",
              "      <td>[0.863013698630137, 0.821917808219178, 0.88127...</td>\n",
              "      <td>0, 1, 4, 10, 12</td>\n",
              "      <td>(q_memory_cg, CDR_judge, q_memory_pt, npi5_sev...</td>\n",
              "    </tr>\n",
              "    <tr>\n",
              "      <th>6</th>\n",
              "      <td>0.853453</td>\n",
              "      <td>[0.867579908675799, 0.8264840182648402, 0.8812...</td>\n",
              "      <td>0, 1, 4, 10, 12, 13</td>\n",
              "      <td>(q_memory_cg, CDR_judge, q_memory_pt, npi5_sev...</td>\n",
              "    </tr>\n",
              "    <tr>\n",
              "      <th>7</th>\n",
              "      <td>0.850717</td>\n",
              "      <td>[0.863013698630137, 0.821917808219178, 0.87214...</td>\n",
              "      <td>0, 1, 4, 10, 12, 13, 14</td>\n",
              "      <td>(q_memory_cg, CDR_judge, q_memory_pt, npi5_sev...</td>\n",
              "    </tr>\n",
              "    <tr>\n",
              "      <th>8</th>\n",
              "      <td>0.832444</td>\n",
              "      <td>[0.821917808219178, 0.7899543378995434, 0.8584...</td>\n",
              "      <td>0, 1, 2, 4, 10, 12, 13, 14</td>\n",
              "      <td>(q_memory_cg, CDR_judge, q_attention_cg, q_mem...</td>\n",
              "    </tr>\n",
              "    <tr>\n",
              "      <th>9</th>\n",
              "      <td>0.841555</td>\n",
              "      <td>[0.8584474885844748, 0.8082191780821918, 0.867...</td>\n",
              "      <td>0, 1, 2, 4, 6, 10, 12, 13, 14</td>\n",
              "      <td>(q_memory_cg, CDR_judge, q_attention_cg, q_mem...</td>\n",
              "    </tr>\n",
              "    <tr>\n",
              "      <th>10</th>\n",
              "      <td>0.835179</td>\n",
              "      <td>[0.8401826484018264, 0.8082191780821918, 0.849...</td>\n",
              "      <td>0, 1, 2, 4, 6, 7, 10, 12, 13, 14</td>\n",
              "      <td>(q_memory_cg, CDR_judge, q_attention_cg, q_mem...</td>\n",
              "    </tr>\n",
              "    <tr>\n",
              "      <th>11</th>\n",
              "      <td>0.828741</td>\n",
              "      <td>[0.8310502283105022, 0.8127853881278538, 0.858...</td>\n",
              "      <td>0, 1, 2, 4, 6, 7, 10, 11, 12, 13, 14</td>\n",
              "      <td>(q_memory_cg, CDR_judge, q_attention_cg, q_mem...</td>\n",
              "    </tr>\n",
              "    <tr>\n",
              "      <th>12</th>\n",
              "      <td>0.826001</td>\n",
              "      <td>[0.8356164383561644, 0.7945205479452054, 0.849...</td>\n",
              "      <td>0, 1, 2, 4, 6, 7, 8, 10, 11, 12, 13, 14</td>\n",
              "      <td>(q_memory_cg, CDR_judge, q_attention_cg, q_mem...</td>\n",
              "    </tr>\n",
              "    <tr>\n",
              "      <th>13</th>\n",
              "      <td>0.838849</td>\n",
              "      <td>[0.8447488584474886, 0.7899543378995434, 0.853...</td>\n",
              "      <td>0, 1, 2, 3, 4, 6, 7, 8, 10, 11, 12, 13, 14</td>\n",
              "      <td>(q_memory_cg, CDR_judge, q_attention_cg, vlt_d...</td>\n",
              "    </tr>\n",
              "    <tr>\n",
              "      <th>14</th>\n",
              "      <td>0.842485</td>\n",
              "      <td>[0.8538812785388128, 0.7945205479452054, 0.876...</td>\n",
              "      <td>0, 1, 2, 3, 4, 6, 7, 8, 9, 10, 11, 12, 13, 14</td>\n",
              "      <td>(q_memory_cg, CDR_judge, q_attention_cg, vlt_d...</td>\n",
              "    </tr>\n",
              "    <tr>\n",
              "      <th>15</th>\n",
              "      <td>0.828745</td>\n",
              "      <td>[0.8447488584474886, 0.7853881278538812, 0.853...</td>\n",
              "      <td>0, 1, 2, 3, 4, 5, 6, 7, 8, 9, 10, 11, 12, 13, 14</td>\n",
              "      <td>(q_memory_cg, CDR_judge, q_attention_cg, vlt_d...</td>\n",
              "    </tr>\n",
              "  </tbody>\n",
              "</table>\n",
              "</div>"
            ],
            "text/plain": [
              "   avg_score  ...                                      feature_names\n",
              "1   0.803048  ...                                     (q_memory_cg,)\n",
              "2   0.837856  ...                           (q_memory_cg, CDR_judge)\n",
              "3   0.848882  ...              (q_memory_cg, CDR_judge, q_memory_pt)\n",
              "4   0.851614  ...    (q_memory_cg, CDR_judge, q_memory_pt, npi8_sev)\n",
              "5   0.853461  ...  (q_memory_cg, CDR_judge, q_memory_pt, npi5_sev...\n",
              "6   0.853453  ...  (q_memory_cg, CDR_judge, q_memory_pt, npi5_sev...\n",
              "7   0.850717  ...  (q_memory_cg, CDR_judge, q_memory_pt, npi5_sev...\n",
              "8   0.832444  ...  (q_memory_cg, CDR_judge, q_attention_cg, q_mem...\n",
              "9   0.841555  ...  (q_memory_cg, CDR_judge, q_attention_cg, q_mem...\n",
              "10  0.835179  ...  (q_memory_cg, CDR_judge, q_attention_cg, q_mem...\n",
              "11  0.828741  ...  (q_memory_cg, CDR_judge, q_attention_cg, q_mem...\n",
              "12  0.826001  ...  (q_memory_cg, CDR_judge, q_attention_cg, q_mem...\n",
              "13  0.838849  ...  (q_memory_cg, CDR_judge, q_attention_cg, vlt_d...\n",
              "14  0.842485  ...  (q_memory_cg, CDR_judge, q_attention_cg, vlt_d...\n",
              "15  0.828745  ...  (q_memory_cg, CDR_judge, q_attention_cg, vlt_d...\n",
              "\n",
              "[15 rows x 4 columns]"
            ]
          },
          "metadata": {
            "tags": []
          },
          "execution_count": 444
        }
      ]
    },
    {
      "cell_type": "markdown",
      "metadata": {
        "colab_type": "text",
        "id": "Imm5NK8lP_GM"
      },
      "source": [
        "#### Cost Sums"
      ]
    },
    {
      "cell_type": "code",
      "metadata": {
        "colab_type": "code",
        "outputId": "f2dce7bf-9a62-4e2a-dd61-ee58aa41bf1c",
        "id": "E02vxfGzP_GN",
        "colab": {
          "base_uri": "https://localhost:8080/",
          "height": 126
        }
      },
      "source": [
        "cost_sum(3)"
      ],
      "execution_count": 446,
      "outputs": [
        {
          "output_type": "stream",
          "text": [
            "3  features.\n",
            "Accuracy:  0.8488821926302416\n",
            "Features:  ('q_memory_cg', 'CDR_judge', 'q_memory_pt')\n",
            "Cost Sum:  5.0  Avg:  1.6666666666666667\n",
            "Cost Time:  4.0  Avg:  1.3333333333333333\n",
            "Cost Diff:  6.0  Avg:  2.0\n"
          ],
          "name": "stdout"
        }
      ]
    },
    {
      "cell_type": "code",
      "metadata": {
        "id": "5hGJWQeEPxrD",
        "colab_type": "code",
        "colab": {
          "base_uri": "https://localhost:8080/",
          "height": 126
        },
        "outputId": "74d1c7f8-1ef8-4aec-a1a4-a3f6b4173fee"
      },
      "source": [
        "cost_sum(4)"
      ],
      "execution_count": 447,
      "outputs": [
        {
          "output_type": "stream",
          "text": [
            "4  features.\n",
            "Accuracy:  0.8516135016805961\n",
            "Features:  ('q_memory_cg', 'CDR_judge', 'q_memory_pt', 'npi8_sev')\n",
            "Cost Sum:  7.0  Avg:  1.75\n",
            "Cost Time:  5.0  Avg:  1.25\n",
            "Cost Diff:  9.0  Avg:  2.25\n"
          ],
          "name": "stdout"
        }
      ]
    },
    {
      "cell_type": "markdown",
      "metadata": {
        "colab_type": "text",
        "id": "j5ti0oksSxx1"
      },
      "source": [
        "### Cost over importance"
      ]
    },
    {
      "cell_type": "code",
      "metadata": {
        "id": "VD4JGJidSznX",
        "colab_type": "code",
        "colab": {}
      },
      "source": [
        ""
      ],
      "execution_count": 0,
      "outputs": []
    },
    {
      "cell_type": "markdown",
      "metadata": {
        "colab_type": "text",
        "id": "jiDY-YnJTBdt"
      },
      "source": [
        "#### 50 starting features"
      ]
    },
    {
      "cell_type": "code",
      "metadata": {
        "colab_type": "code",
        "id": "u_j1jrjnSxx3",
        "colab": {}
      },
      "source": [
        "features = pd.read_csv(f'{dir}/features_paired.csv')\n",
        "features['weight_x2'] = (features['avg_score'] + (features['cost_reverse']*2))/2\n",
        "features.sort_values('weight_x2', ascending=False, inplace=True)\n",
        "features = features.head(50)"
      ],
      "execution_count": 0,
      "outputs": []
    },
    {
      "cell_type": "code",
      "metadata": {
        "colab_type": "code",
        "id": "ZJ5HS11KTBdt",
        "colab": {}
      },
      "source": [
        "from sklearn.ensemble import RandomForestClassifier\n",
        "from sklearn.model_selection import cross_val_score, StratifiedKFold\n",
        "\n",
        "cv = StratifiedKFold(n_splits=5)\n",
        "\n",
        "clf = RandomForestClassifier(n_estimators=100, max_features=.5)\n",
        "\n",
        "adni_pair_i_X = adni_pair_X.loc[:,features['feature']]"
      ],
      "execution_count": 0,
      "outputs": []
    },
    {
      "cell_type": "code",
      "metadata": {
        "colab_type": "code",
        "id": "-cA1WNfPTBdu",
        "colab": {}
      },
      "source": [
        "from mlxtend.feature_selection import SequentialFeatureSelector as SFS\n",
        "\n",
        "sfs1 = SFS(clf, \n",
        "           k_features=(30), \n",
        "           forward=True, \n",
        "           floating=False, \n",
        "           verbose=2,\n",
        "           scoring='accuracy',\n",
        "           cv=cv,\n",
        "           n_jobs=-1)\n",
        "\n",
        "sfs1 = sfs1.fit(adni_pair_i_X, adni_pair_y2.values.ravel())"
      ],
      "execution_count": 0,
      "outputs": []
    },
    {
      "cell_type": "code",
      "metadata": {
        "colab_type": "code",
        "id": "7olHhN3YofEg",
        "colab": {}
      },
      "source": [
        "f_costs = pd.DataFrame.from_dict(sfs1.subsets_)\n",
        "f_costs = f_costs.transpose()\n",
        "f_costs['feature_idx'] = f_costs['feature_idx'].apply(str).str.replace('(','').str.replace(')','')\n",
        "f_costs.to_csv(f'{dir}/Output/eff_features_paired_costweight_50.csv', index=False)\n",
        "\n"
      ],
      "execution_count": 0,
      "outputs": []
    },
    {
      "cell_type": "code",
      "metadata": {
        "colab_type": "code",
        "outputId": "d3510ec2-e77f-4a93-b058-6619550bd46b",
        "id": "U2ireGJRofEi",
        "colab": {
          "base_uri": "https://localhost:8080/",
          "height": 948
        }
      },
      "source": [
        "f_costs"
      ],
      "execution_count": 452,
      "outputs": [
        {
          "output_type": "execute_result",
          "data": {
            "text/html": [
              "<div>\n",
              "<style scoped>\n",
              "    .dataframe tbody tr th:only-of-type {\n",
              "        vertical-align: middle;\n",
              "    }\n",
              "\n",
              "    .dataframe tbody tr th {\n",
              "        vertical-align: top;\n",
              "    }\n",
              "\n",
              "    .dataframe thead th {\n",
              "        text-align: right;\n",
              "    }\n",
              "</style>\n",
              "<table border=\"1\" class=\"dataframe\">\n",
              "  <thead>\n",
              "    <tr style=\"text-align: right;\">\n",
              "      <th></th>\n",
              "      <th>avg_score</th>\n",
              "      <th>cv_scores</th>\n",
              "      <th>feature_idx</th>\n",
              "      <th>feature_names</th>\n",
              "    </tr>\n",
              "  </thead>\n",
              "  <tbody>\n",
              "    <tr>\n",
              "      <th>1</th>\n",
              "      <td>0.803048</td>\n",
              "      <td>[0.8721461187214612, 0.730593607305936, 0.8401...</td>\n",
              "      <td>0,</td>\n",
              "      <td>(q_memory_cg,)</td>\n",
              "    </tr>\n",
              "    <tr>\n",
              "      <th>2</th>\n",
              "      <td>0.814966</td>\n",
              "      <td>[0.8812785388127854, 0.7442922374429224, 0.844...</td>\n",
              "      <td>0, 6</td>\n",
              "      <td>(q_memory_cg, moca_orient)</td>\n",
              "    </tr>\n",
              "    <tr>\n",
              "      <th>3</th>\n",
              "      <td>0.820467</td>\n",
              "      <td>[0.8767123287671232, 0.7534246575342466, 0.853...</td>\n",
              "      <td>0, 6, 47</td>\n",
              "      <td>(q_memory_cg, moca_orient, faq2)</td>\n",
              "    </tr>\n",
              "    <tr>\n",
              "      <th>4</th>\n",
              "      <td>0.825041</td>\n",
              "      <td>[0.8767123287671232, 0.7625570776255708, 0.863...</td>\n",
              "      <td>0, 3, 6, 47</td>\n",
              "      <td>(q_memory_cg, q_language_cg, moca_orient, faq2)</td>\n",
              "    </tr>\n",
              "    <tr>\n",
              "      <th>5</th>\n",
              "      <td>0.825959</td>\n",
              "      <td>[0.8767123287671232, 0.7625570776255708, 0.863...</td>\n",
              "      <td>0, 3, 6, 41, 47</td>\n",
              "      <td>(q_memory_cg, q_language_cg, moca_orient, hach...</td>\n",
              "    </tr>\n",
              "    <tr>\n",
              "      <th>6</th>\n",
              "      <td>0.826872</td>\n",
              "      <td>[0.8767123287671232, 0.7671232876712328, 0.863...</td>\n",
              "      <td>0, 3, 6, 38, 41, 47</td>\n",
              "      <td>(q_memory_cg, q_language_cg, moca_orient, hach...</td>\n",
              "    </tr>\n",
              "    <tr>\n",
              "      <th>7</th>\n",
              "      <td>0.826872</td>\n",
              "      <td>[0.8767123287671232, 0.7671232876712328, 0.863...</td>\n",
              "      <td>0, 3, 4, 6, 38, 41, 47</td>\n",
              "      <td>(q_memory_cg, q_language_cg, MMNAME, moca_orie...</td>\n",
              "    </tr>\n",
              "    <tr>\n",
              "      <th>8</th>\n",
              "      <td>0.825954</td>\n",
              "      <td>[0.8767123287671232, 0.7671232876712328, 0.863...</td>\n",
              "      <td>0, 3, 4, 6, 38, 41, 45, 47</td>\n",
              "      <td>(q_memory_cg, q_language_cg, MMNAME, moca_orie...</td>\n",
              "    </tr>\n",
              "    <tr>\n",
              "      <th>9</th>\n",
              "      <td>0.825058</td>\n",
              "      <td>[0.8721461187214612, 0.7534246575342466, 0.863...</td>\n",
              "      <td>0, 3, 4, 6, 7, 38, 41, 45, 47</td>\n",
              "      <td>(q_memory_cg, q_language_cg, MMNAME, moca_orie...</td>\n",
              "    </tr>\n",
              "    <tr>\n",
              "      <th>10</th>\n",
              "      <td>0.826001</td>\n",
              "      <td>[0.8767123287671232, 0.7397260273972602, 0.863...</td>\n",
              "      <td>0, 3, 4, 6, 7, 24, 38, 41, 45, 47</td>\n",
              "      <td>(q_memory_cg, q_language_cg, MMNAME, moca_orie...</td>\n",
              "    </tr>\n",
              "    <tr>\n",
              "      <th>11</th>\n",
              "      <td>0.826001</td>\n",
              "      <td>[0.8767123287671232, 0.7442922374429224, 0.858...</td>\n",
              "      <td>0, 3, 4, 6, 7, 24, 36, 38, 41, 45, 47</td>\n",
              "      <td>(q_memory_cg, q_language_cg, MMNAME, moca_orie...</td>\n",
              "    </tr>\n",
              "    <tr>\n",
              "      <th>12</th>\n",
              "      <td>0.825092</td>\n",
              "      <td>[0.8721461187214612, 0.7625570776255708, 0.840...</td>\n",
              "      <td>0, 3, 4, 6, 7, 24, 35, 36, 38, 41, 45, 47</td>\n",
              "      <td>(q_memory_cg, q_language_cg, MMNAME, moca_orie...</td>\n",
              "    </tr>\n",
              "    <tr>\n",
              "      <th>13</th>\n",
              "      <td>0.828749</td>\n",
              "      <td>[0.867579908675799, 0.7671232876712328, 0.8538...</td>\n",
              "      <td>0, 3, 4, 6, 7, 24, 29, 35, 36, 38, 41, 45, 47</td>\n",
              "      <td>(q_memory_cg, q_language_cg, MMNAME, moca_orie...</td>\n",
              "    </tr>\n",
              "    <tr>\n",
              "      <th>14</th>\n",
              "      <td>0.827823</td>\n",
              "      <td>[0.863013698630137, 0.7625570776255708, 0.8675...</td>\n",
              "      <td>0, 3, 4, 6, 7, 24, 29, 35, 36, 37, 38, 41, 45, 47</td>\n",
              "      <td>(q_memory_cg, q_language_cg, MMNAME, moca_orie...</td>\n",
              "    </tr>\n",
              "    <tr>\n",
              "      <th>15</th>\n",
              "      <td>0.82877</td>\n",
              "      <td>[0.8584474885844748, 0.7579908675799086, 0.853...</td>\n",
              "      <td>0, 3, 4, 6, 7, 24, 29, 35, 36, 37, 38, 40, 41,...</td>\n",
              "      <td>(q_memory_cg, q_language_cg, MMNAME, moca_orie...</td>\n",
              "    </tr>\n",
              "    <tr>\n",
              "      <th>16</th>\n",
              "      <td>0.824178</td>\n",
              "      <td>[0.8538812785388128, 0.7579908675799086, 0.844...</td>\n",
              "      <td>0, 3, 4, 6, 7, 24, 29, 35, 36, 37, 38, 39, 40,...</td>\n",
              "      <td>(q_memory_cg, q_language_cg, MMNAME, moca_orie...</td>\n",
              "    </tr>\n",
              "    <tr>\n",
              "      <th>17</th>\n",
              "      <td>0.822377</td>\n",
              "      <td>[0.867579908675799, 0.7351598173515982, 0.8356...</td>\n",
              "      <td>0, 1, 3, 4, 6, 7, 24, 29, 35, 36, 37, 38, 39, ...</td>\n",
              "      <td>(q_memory_cg, q_attention_cg, q_language_cg, M...</td>\n",
              "    </tr>\n",
              "    <tr>\n",
              "      <th>18</th>\n",
              "      <td>0.825109</td>\n",
              "      <td>[0.8767123287671232, 0.7625570776255708, 0.821...</td>\n",
              "      <td>0, 1, 3, 4, 6, 7, 24, 29, 35, 36, 37, 38, 39, ...</td>\n",
              "      <td>(q_memory_cg, q_attention_cg, q_language_cg, M...</td>\n",
              "    </tr>\n",
              "    <tr>\n",
              "      <th>19</th>\n",
              "      <td>0.83515</td>\n",
              "      <td>[0.8904109589041096, 0.771689497716895, 0.8401...</td>\n",
              "      <td>0, 1, 3, 4, 6, 7, 17, 24, 29, 35, 36, 37, 38, ...</td>\n",
              "      <td>(q_memory_cg, q_attention_cg, q_language_cg, M...</td>\n",
              "    </tr>\n",
              "    <tr>\n",
              "      <th>20</th>\n",
              "      <td>0.83334</td>\n",
              "      <td>[0.8904109589041096, 0.7671232876712328, 0.831...</td>\n",
              "      <td>0, 1, 3, 4, 6, 7, 17, 24, 29, 34, 35, 36, 37, ...</td>\n",
              "      <td>(q_memory_cg, q_attention_cg, q_language_cg, M...</td>\n",
              "    </tr>\n",
              "    <tr>\n",
              "      <th>21</th>\n",
              "      <td>0.836084</td>\n",
              "      <td>[0.8858447488584474, 0.771689497716895, 0.8493...</td>\n",
              "      <td>0, 1, 3, 4, 6, 7, 8, 17, 24, 29, 34, 35, 36, 3...</td>\n",
              "      <td>(q_memory_cg, q_attention_cg, q_language_cg, M...</td>\n",
              "    </tr>\n",
              "    <tr>\n",
              "      <th>22</th>\n",
              "      <td>0.837894</td>\n",
              "      <td>[0.8995433789954338, 0.776255707762557, 0.8493...</td>\n",
              "      <td>0, 1, 3, 4, 6, 7, 8, 17, 18, 24, 29, 34, 35, 3...</td>\n",
              "      <td>(q_memory_cg, q_attention_cg, q_language_cg, M...</td>\n",
              "    </tr>\n",
              "    <tr>\n",
              "      <th>23</th>\n",
              "      <td>0.836997</td>\n",
              "      <td>[0.8949771689497716, 0.7671232876712328, 0.844...</td>\n",
              "      <td>0, 1, 3, 4, 6, 7, 8, 17, 18, 24, 25, 29, 34, 3...</td>\n",
              "      <td>(q_memory_cg, q_attention_cg, q_language_cg, M...</td>\n",
              "    </tr>\n",
              "    <tr>\n",
              "      <th>24</th>\n",
              "      <td>0.838824</td>\n",
              "      <td>[0.8995433789954338, 0.776255707762557, 0.8401...</td>\n",
              "      <td>0, 1, 3, 4, 6, 7, 8, 17, 18, 24, 25, 29, 34, 3...</td>\n",
              "      <td>(q_memory_cg, q_attention_cg, q_language_cg, M...</td>\n",
              "    </tr>\n",
              "    <tr>\n",
              "      <th>25</th>\n",
              "      <td>0.839741</td>\n",
              "      <td>[0.9041095890410958, 0.7625570776255708, 0.853...</td>\n",
              "      <td>0, 1, 3, 4, 6, 7, 8, 17, 18, 24, 25, 29, 34, 3...</td>\n",
              "      <td>(q_memory_cg, q_attention_cg, q_language_cg, M...</td>\n",
              "    </tr>\n",
              "    <tr>\n",
              "      <th>26</th>\n",
              "      <td>0.839704</td>\n",
              "      <td>[0.8858447488584474, 0.7853881278538812, 0.867...</td>\n",
              "      <td>0, 1, 3, 4, 6, 7, 8, 14, 17, 18, 24, 25, 29, 3...</td>\n",
              "      <td>(q_memory_cg, q_attention_cg, q_language_cg, M...</td>\n",
              "    </tr>\n",
              "    <tr>\n",
              "      <th>27</th>\n",
              "      <td>0.83879</td>\n",
              "      <td>[0.8995433789954338, 0.776255707762557, 0.8584...</td>\n",
              "      <td>0, 1, 3, 4, 6, 7, 8, 14, 17, 18, 24, 25, 29, 3...</td>\n",
              "      <td>(q_memory_cg, q_attention_cg, q_language_cg, M...</td>\n",
              "    </tr>\n",
              "    <tr>\n",
              "      <th>28</th>\n",
              "      <td>0.834211</td>\n",
              "      <td>[0.8949771689497716, 0.7625570776255708, 0.863...</td>\n",
              "      <td>0, 1, 3, 4, 6, 7, 8, 14, 16, 17, 18, 24, 25, 2...</td>\n",
              "      <td>(q_memory_cg, q_attention_cg, q_language_cg, M...</td>\n",
              "    </tr>\n",
              "    <tr>\n",
              "      <th>29</th>\n",
              "      <td>0.833277</td>\n",
              "      <td>[0.8949771689497716, 0.7808219178082192, 0.858...</td>\n",
              "      <td>0, 1, 3, 4, 6, 7, 8, 14, 16, 17, 18, 24, 25, 2...</td>\n",
              "      <td>(q_memory_cg, q_attention_cg, q_language_cg, M...</td>\n",
              "    </tr>\n",
              "    <tr>\n",
              "      <th>30</th>\n",
              "      <td>0.835104</td>\n",
              "      <td>[0.8858447488584474, 0.7808219178082192, 0.872...</td>\n",
              "      <td>0, 1, 3, 4, 6, 7, 8, 14, 16, 17, 18, 24, 25, 2...</td>\n",
              "      <td>(q_memory_cg, q_attention_cg, q_language_cg, M...</td>\n",
              "    </tr>\n",
              "  </tbody>\n",
              "</table>\n",
              "</div>"
            ],
            "text/plain": [
              "   avg_score  ...                                      feature_names\n",
              "1   0.803048  ...                                     (q_memory_cg,)\n",
              "2   0.814966  ...                         (q_memory_cg, moca_orient)\n",
              "3   0.820467  ...                   (q_memory_cg, moca_orient, faq2)\n",
              "4   0.825041  ...    (q_memory_cg, q_language_cg, moca_orient, faq2)\n",
              "5   0.825959  ...  (q_memory_cg, q_language_cg, moca_orient, hach...\n",
              "6   0.826872  ...  (q_memory_cg, q_language_cg, moca_orient, hach...\n",
              "7   0.826872  ...  (q_memory_cg, q_language_cg, MMNAME, moca_orie...\n",
              "8   0.825954  ...  (q_memory_cg, q_language_cg, MMNAME, moca_orie...\n",
              "9   0.825058  ...  (q_memory_cg, q_language_cg, MMNAME, moca_orie...\n",
              "10  0.826001  ...  (q_memory_cg, q_language_cg, MMNAME, moca_orie...\n",
              "11  0.826001  ...  (q_memory_cg, q_language_cg, MMNAME, moca_orie...\n",
              "12  0.825092  ...  (q_memory_cg, q_language_cg, MMNAME, moca_orie...\n",
              "13  0.828749  ...  (q_memory_cg, q_language_cg, MMNAME, moca_orie...\n",
              "14  0.827823  ...  (q_memory_cg, q_language_cg, MMNAME, moca_orie...\n",
              "15   0.82877  ...  (q_memory_cg, q_language_cg, MMNAME, moca_orie...\n",
              "16  0.824178  ...  (q_memory_cg, q_language_cg, MMNAME, moca_orie...\n",
              "17  0.822377  ...  (q_memory_cg, q_attention_cg, q_language_cg, M...\n",
              "18  0.825109  ...  (q_memory_cg, q_attention_cg, q_language_cg, M...\n",
              "19   0.83515  ...  (q_memory_cg, q_attention_cg, q_language_cg, M...\n",
              "20   0.83334  ...  (q_memory_cg, q_attention_cg, q_language_cg, M...\n",
              "21  0.836084  ...  (q_memory_cg, q_attention_cg, q_language_cg, M...\n",
              "22  0.837894  ...  (q_memory_cg, q_attention_cg, q_language_cg, M...\n",
              "23  0.836997  ...  (q_memory_cg, q_attention_cg, q_language_cg, M...\n",
              "24  0.838824  ...  (q_memory_cg, q_attention_cg, q_language_cg, M...\n",
              "25  0.839741  ...  (q_memory_cg, q_attention_cg, q_language_cg, M...\n",
              "26  0.839704  ...  (q_memory_cg, q_attention_cg, q_language_cg, M...\n",
              "27   0.83879  ...  (q_memory_cg, q_attention_cg, q_language_cg, M...\n",
              "28  0.834211  ...  (q_memory_cg, q_attention_cg, q_language_cg, M...\n",
              "29  0.833277  ...  (q_memory_cg, q_attention_cg, q_language_cg, M...\n",
              "30  0.835104  ...  (q_memory_cg, q_attention_cg, q_language_cg, M...\n",
              "\n",
              "[30 rows x 4 columns]"
            ]
          },
          "metadata": {
            "tags": []
          },
          "execution_count": 452
        }
      ]
    },
    {
      "cell_type": "markdown",
      "metadata": {
        "colab_type": "text",
        "id": "ir4BWpVcofEl"
      },
      "source": [
        "#### Cost Sums"
      ]
    },
    {
      "cell_type": "code",
      "metadata": {
        "colab_type": "code",
        "outputId": "5956c189-b0d5-4224-b10f-53819ca05b83",
        "id": "qpjABhz8ofEm",
        "colab": {
          "base_uri": "https://localhost:8080/",
          "height": 126
        }
      },
      "source": [
        "cost_sum(4)"
      ],
      "execution_count": 454,
      "outputs": [
        {
          "output_type": "stream",
          "text": [
            "4  features.\n",
            "Accuracy:  0.8250412402917602\n",
            "Features:  ('q_memory_cg', 'q_language_cg', 'moca_orient', 'faq2')\n",
            "Cost Sum:  4.5  Avg:  1.125\n",
            "Cost Time:  4.0  Avg:  1.0\n",
            "Cost Diff:  5.0  Avg:  1.25\n"
          ],
          "name": "stdout"
        }
      ]
    },
    {
      "cell_type": "code",
      "metadata": {
        "id": "JH_GmLVUSzpI",
        "colab_type": "code",
        "colab": {
          "base_uri": "https://localhost:8080/",
          "height": 126
        },
        "outputId": "e0bb22d2-07aa-491d-a263-3fa83f39a039"
      },
      "source": [
        "cost_sum(6)"
      ],
      "execution_count": 455,
      "outputs": [
        {
          "output_type": "stream",
          "text": [
            "6  features.\n",
            "Accuracy:  0.826871913493553\n",
            "Features:  ('q_memory_cg', 'q_language_cg', 'moca_orient', 'hach1', 'hach2', 'faq2')\n",
            "Cost Sum:  7.5  Avg:  1.25\n",
            "Cost Time:  6.0  Avg:  1.0\n",
            "Cost Diff:  9.0  Avg:  1.5\n"
          ],
          "name": "stdout"
        }
      ]
    },
    {
      "cell_type": "code",
      "metadata": {
        "id": "sU_RAGyTfdWw",
        "colab_type": "code",
        "colab": {
          "base_uri": "https://localhost:8080/",
          "height": 126
        },
        "outputId": "8c10f14b-215c-44be-a0da-c6d3f7ab457d"
      },
      "source": [
        "cost_sum(15)"
      ],
      "execution_count": 458,
      "outputs": [
        {
          "output_type": "stream",
          "text": [
            "15  features.\n",
            "Accuracy:  0.8287698839017011\n",
            "Features:  ('q_memory_cg', 'q_language_cg', 'MMNAME', 'moca_orient', 'q_outsideact_pt', 'q_judgmt_cg', 'faq8', 'faq7', 'hach4', 'faq10', 'hach1', 'hach3', 'hach2', 'hach6', 'faq2')\n",
            "Cost Sum:  19.5  Avg:  1.3\n",
            "Cost Time:  15.0  Avg:  1.0\n",
            "Cost Diff:  24.0  Avg:  1.6\n"
          ],
          "name": "stdout"
        }
      ]
    },
    {
      "cell_type": "code",
      "metadata": {
        "id": "yXGO-Uyafe7A",
        "colab_type": "code",
        "colab": {
          "base_uri": "https://localhost:8080/",
          "height": 146
        },
        "outputId": "dcc28df7-2afb-4b4d-f196-47f3544c3e33"
      },
      "source": [
        "cost_sum(25)"
      ],
      "execution_count": 457,
      "outputs": [
        {
          "output_type": "stream",
          "text": [
            "25  features.\n",
            "Accuracy:  0.8397414327818475\n",
            "Features:  ('q_memory_cg', 'q_attention_cg', 'q_language_cg', 'MMNAME', 'moca_orient', 'q_outsideact_pt', 'q_attention_pt', 'q_orient_pt', 'q_orient_cg', 'q_judgmt_cg', 'q_outsideact_cg', 'faq8', 'faq6', 'faq7', 'hach4', 'faq10', 'hach1', 'faq1', 'hach3', 'hach2', 'hach7', 'hach8', 'hach5', 'hach6', 'faq2')\n",
            "Cost Sum:  32.0  Avg:  1.28\n",
            "Cost Time:  25.0  Avg:  1.0\n",
            "Cost Diff:  39.0  Avg:  1.56\n"
          ],
          "name": "stdout"
        }
      ]
    },
    {
      "cell_type": "markdown",
      "metadata": {
        "colab_type": "text",
        "id": "RiIRqV95QMr5"
      },
      "source": [
        "#### 30 starting features"
      ]
    },
    {
      "cell_type": "code",
      "metadata": {
        "colab_type": "code",
        "id": "T4jHB-1cQMr8",
        "colab": {}
      },
      "source": [
        "features = pd.read_csv(f'{dir}/features_paired.csv')\n",
        "features['weight_x2'] = (features['avg_score'] + (features['cost_reverse']*2))/2\n",
        "features.sort_values('weight_x2', ascending=False, inplace=True)\n",
        "features = features.head(30)"
      ],
      "execution_count": 0,
      "outputs": []
    },
    {
      "cell_type": "code",
      "metadata": {
        "colab_type": "code",
        "id": "cvS-arElQMr-",
        "colab": {}
      },
      "source": [
        "from sklearn.ensemble import RandomForestClassifier\n",
        "from sklearn.model_selection import cross_val_score, StratifiedKFold\n",
        "\n",
        "cv = StratifiedKFold(n_splits=5)\n",
        "\n",
        "clf = RandomForestClassifier(n_estimators=100, max_features=.5)\n",
        "\n",
        "adni_pair_i_X = adni_pair_X.loc[:,features['feature']]"
      ],
      "execution_count": 0,
      "outputs": []
    },
    {
      "cell_type": "code",
      "metadata": {
        "colab_type": "code",
        "id": "RcFkAfGkQMsC",
        "colab": {}
      },
      "source": [
        "from mlxtend.feature_selection import SequentialFeatureSelector as SFS\n",
        "\n",
        "sfs1 = SFS(clf, \n",
        "           k_features=(30), \n",
        "           forward=True, \n",
        "           floating=False, \n",
        "           verbose=2,\n",
        "           scoring='accuracy',\n",
        "           cv=cv,\n",
        "           n_jobs=-1)\n",
        "\n",
        "sfs1 = sfs1.fit(adni_pair_i_X, adni_pair_y2.values.ravel())"
      ],
      "execution_count": 0,
      "outputs": []
    },
    {
      "cell_type": "code",
      "metadata": {
        "colab_type": "code",
        "id": "hBQGO9NnQMsE",
        "colab": {}
      },
      "source": [
        "f_costs = pd.DataFrame.from_dict(sfs1.subsets_)\n",
        "f_costs = f_costs.transpose()\n",
        "f_costs['feature_idx'] = f_costs['feature_idx'].apply(str).str.replace('(','').str.replace(')','')\n",
        "f_costs.to_csv(f'{dir}/Output/eff_features_paired_costweight_30.csv', index=False)\n"
      ],
      "execution_count": 0,
      "outputs": []
    },
    {
      "cell_type": "code",
      "metadata": {
        "colab_type": "code",
        "outputId": "ea38695b-2265-43ef-87cb-6b2e0aa1cae2",
        "id": "KTsaZ4xTQMsG",
        "colab": {
          "base_uri": "https://localhost:8080/",
          "height": 948
        }
      },
      "source": [
        "f_costs"
      ],
      "execution_count": 463,
      "outputs": [
        {
          "output_type": "execute_result",
          "data": {
            "text/html": [
              "<div>\n",
              "<style scoped>\n",
              "    .dataframe tbody tr th:only-of-type {\n",
              "        vertical-align: middle;\n",
              "    }\n",
              "\n",
              "    .dataframe tbody tr th {\n",
              "        vertical-align: top;\n",
              "    }\n",
              "\n",
              "    .dataframe thead th {\n",
              "        text-align: right;\n",
              "    }\n",
              "</style>\n",
              "<table border=\"1\" class=\"dataframe\">\n",
              "  <thead>\n",
              "    <tr style=\"text-align: right;\">\n",
              "      <th></th>\n",
              "      <th>avg_score</th>\n",
              "      <th>cv_scores</th>\n",
              "      <th>feature_idx</th>\n",
              "      <th>feature_names</th>\n",
              "    </tr>\n",
              "  </thead>\n",
              "  <tbody>\n",
              "    <tr>\n",
              "      <th>1</th>\n",
              "      <td>0.803048</td>\n",
              "      <td>[0.8721461187214612, 0.730593607305936, 0.8401...</td>\n",
              "      <td>0,</td>\n",
              "      <td>(q_memory_cg,)</td>\n",
              "    </tr>\n",
              "    <tr>\n",
              "      <th>2</th>\n",
              "      <td>0.814966</td>\n",
              "      <td>[0.8812785388127854, 0.7442922374429224, 0.844...</td>\n",
              "      <td>0, 6</td>\n",
              "      <td>(q_memory_cg, moca_orient)</td>\n",
              "    </tr>\n",
              "    <tr>\n",
              "      <th>3</th>\n",
              "      <td>0.819549</td>\n",
              "      <td>[0.8767123287671232, 0.7534246575342466, 0.853...</td>\n",
              "      <td>0, 3, 6</td>\n",
              "      <td>(q_memory_cg, q_language_cg, moca_orient)</td>\n",
              "    </tr>\n",
              "    <tr>\n",
              "      <th>4</th>\n",
              "      <td>0.824132</td>\n",
              "      <td>[0.8767123287671232, 0.7579908675799086, 0.858...</td>\n",
              "      <td>0, 3, 6, 7</td>\n",
              "      <td>(q_memory_cg, q_language_cg, moca_orient, q_ou...</td>\n",
              "    </tr>\n",
              "    <tr>\n",
              "      <th>5</th>\n",
              "      <td>0.825963</td>\n",
              "      <td>[0.8767123287671232, 0.7625570776255708, 0.858...</td>\n",
              "      <td>0, 3, 6, 7, 29</td>\n",
              "      <td>(q_memory_cg, q_language_cg, moca_orient, q_ou...</td>\n",
              "    </tr>\n",
              "    <tr>\n",
              "      <th>6</th>\n",
              "      <td>0.825963</td>\n",
              "      <td>[0.8767123287671232, 0.7625570776255708, 0.858...</td>\n",
              "      <td>0, 3, 6, 7, 12, 29</td>\n",
              "      <td>(q_memory_cg, q_language_cg, moca_orient, q_ou...</td>\n",
              "    </tr>\n",
              "    <tr>\n",
              "      <th>7</th>\n",
              "      <td>0.825045</td>\n",
              "      <td>[0.8767123287671232, 0.7625570776255708, 0.858...</td>\n",
              "      <td>0, 3, 4, 6, 7, 12, 29</td>\n",
              "      <td>(q_memory_cg, q_language_cg, MMNAME, moca_orie...</td>\n",
              "    </tr>\n",
              "    <tr>\n",
              "      <th>8</th>\n",
              "      <td>0.825058</td>\n",
              "      <td>[0.8721461187214612, 0.7579908675799086, 0.858...</td>\n",
              "      <td>0, 3, 4, 6, 7, 12, 21, 29</td>\n",
              "      <td>(q_memory_cg, q_language_cg, MMNAME, moca_orie...</td>\n",
              "    </tr>\n",
              "    <tr>\n",
              "      <th>9</th>\n",
              "      <td>0.820492</td>\n",
              "      <td>[0.8584474885844748, 0.7534246575342466, 0.853...</td>\n",
              "      <td>0, 3, 4, 6, 7, 12, 18, 21, 29</td>\n",
              "      <td>(q_memory_cg, q_language_cg, MMNAME, moca_orie...</td>\n",
              "    </tr>\n",
              "    <tr>\n",
              "      <th>10</th>\n",
              "      <td>0.816839</td>\n",
              "      <td>[0.8584474885844748, 0.7534246575342466, 0.840...</td>\n",
              "      <td>0, 3, 4, 6, 7, 12, 18, 21, 28, 29</td>\n",
              "      <td>(q_memory_cg, q_language_cg, MMNAME, moca_orie...</td>\n",
              "    </tr>\n",
              "    <tr>\n",
              "      <th>11</th>\n",
              "      <td>0.813178</td>\n",
              "      <td>[0.8538812785388128, 0.7397260273972602, 0.844...</td>\n",
              "      <td>0, 3, 4, 6, 7, 12, 18, 21, 25, 28, 29</td>\n",
              "      <td>(q_memory_cg, q_language_cg, MMNAME, moca_orie...</td>\n",
              "    </tr>\n",
              "    <tr>\n",
              "      <th>12</th>\n",
              "      <td>0.815942</td>\n",
              "      <td>[0.8538812785388128, 0.7442922374429224, 0.840...</td>\n",
              "      <td>0, 3, 4, 6, 7, 8, 12, 18, 21, 25, 28, 29</td>\n",
              "      <td>(q_memory_cg, q_language_cg, MMNAME, moca_orie...</td>\n",
              "    </tr>\n",
              "    <tr>\n",
              "      <th>13</th>\n",
              "      <td>0.813203</td>\n",
              "      <td>[0.8812785388127854, 0.7397260273972602, 0.812...</td>\n",
              "      <td>0, 1, 3, 4, 6, 7, 8, 12, 18, 21, 25, 28, 29</td>\n",
              "      <td>(q_memory_cg, q_attention_cg, q_language_cg, M...</td>\n",
              "    </tr>\n",
              "    <tr>\n",
              "      <th>14</th>\n",
              "      <td>0.820488</td>\n",
              "      <td>[0.8767123287671232, 0.7579908675799086, 0.835...</td>\n",
              "      <td>0, 1, 2, 3, 4, 6, 7, 8, 12, 18, 21, 25, 28, 29</td>\n",
              "      <td>(q_memory_cg, q_attention_cg, q_memory_pt, q_l...</td>\n",
              "    </tr>\n",
              "    <tr>\n",
              "      <th>15</th>\n",
              "      <td>0.827815</td>\n",
              "      <td>[0.8812785388127854, 0.7671232876712328, 0.840...</td>\n",
              "      <td>0, 1, 2, 3, 4, 6, 7, 8, 12, 18, 21, 24, 25, 28...</td>\n",
              "      <td>(q_memory_cg, q_attention_cg, q_memory_pt, q_l...</td>\n",
              "    </tr>\n",
              "    <tr>\n",
              "      <th>16</th>\n",
              "      <td>0.828724</td>\n",
              "      <td>[0.863013698630137, 0.7853881278538812, 0.8447...</td>\n",
              "      <td>0, 1, 2, 3, 4, 6, 7, 8, 12, 16, 18, 21, 24, 25...</td>\n",
              "      <td>(q_memory_cg, q_attention_cg, q_memory_pt, q_l...</td>\n",
              "    </tr>\n",
              "    <tr>\n",
              "      <th>17</th>\n",
              "      <td>0.826893</td>\n",
              "      <td>[0.8356164383561644, 0.7945205479452054, 0.863...</td>\n",
              "      <td>0, 1, 2, 3, 4, 6, 7, 8, 12, 16, 18, 21, 24, 25...</td>\n",
              "      <td>(q_memory_cg, q_attention_cg, q_memory_pt, q_l...</td>\n",
              "    </tr>\n",
              "    <tr>\n",
              "      <th>18</th>\n",
              "      <td>0.82965</td>\n",
              "      <td>[0.863013698630137, 0.7853881278538812, 0.8538...</td>\n",
              "      <td>0, 1, 2, 3, 4, 6, 7, 8, 12, 14, 16, 18, 21, 24...</td>\n",
              "      <td>(q_memory_cg, q_attention_cg, q_memory_pt, q_l...</td>\n",
              "    </tr>\n",
              "    <tr>\n",
              "      <th>19</th>\n",
              "      <td>0.83422</td>\n",
              "      <td>[0.867579908675799, 0.7808219178082192, 0.8584...</td>\n",
              "      <td>0, 1, 2, 3, 4, 6, 7, 8, 9, 12, 14, 16, 18, 21,...</td>\n",
              "      <td>(q_memory_cg, q_attention_cg, q_memory_pt, q_l...</td>\n",
              "    </tr>\n",
              "    <tr>\n",
              "      <th>20</th>\n",
              "      <td>0.836046</td>\n",
              "      <td>[0.863013698630137, 0.8082191780821918, 0.8493...</td>\n",
              "      <td>0, 1, 2, 3, 4, 6, 7, 8, 9, 11, 12, 14, 16, 18,...</td>\n",
              "      <td>(q_memory_cg, q_attention_cg, q_memory_pt, q_l...</td>\n",
              "    </tr>\n",
              "    <tr>\n",
              "      <th>21</th>\n",
              "      <td>0.837852</td>\n",
              "      <td>[0.8721461187214612, 0.7945205479452054, 0.876...</td>\n",
              "      <td>0, 1, 2, 3, 4, 6, 7, 8, 9, 10, 11, 12, 14, 16,...</td>\n",
              "      <td>(q_memory_cg, q_attention_cg, q_memory_pt, q_l...</td>\n",
              "    </tr>\n",
              "    <tr>\n",
              "      <th>22</th>\n",
              "      <td>0.843361</td>\n",
              "      <td>[0.8721461187214612, 0.8036529680365296, 0.867...</td>\n",
              "      <td>0, 1, 2, 3, 4, 6, 7, 8, 9, 10, 11, 12, 14, 16,...</td>\n",
              "      <td>(q_memory_cg, q_attention_cg, q_memory_pt, q_l...</td>\n",
              "    </tr>\n",
              "    <tr>\n",
              "      <th>23</th>\n",
              "      <td>0.839708</td>\n",
              "      <td>[0.8858447488584474, 0.7853881278538812, 0.858...</td>\n",
              "      <td>0, 1, 2, 3, 4, 6, 7, 8, 9, 10, 11, 12, 13, 14,...</td>\n",
              "      <td>(q_memory_cg, q_attention_cg, q_memory_pt, q_l...</td>\n",
              "    </tr>\n",
              "    <tr>\n",
              "      <th>24</th>\n",
              "      <td>0.835141</td>\n",
              "      <td>[0.867579908675799, 0.7671232876712328, 0.8630...</td>\n",
              "      <td>0, 1, 2, 3, 4, 6, 7, 8, 9, 10, 11, 12, 13, 14,...</td>\n",
              "      <td>(q_memory_cg, q_attention_cg, q_memory_pt, q_l...</td>\n",
              "    </tr>\n",
              "    <tr>\n",
              "      <th>25</th>\n",
              "      <td>0.834199</td>\n",
              "      <td>[0.8858447488584474, 0.7671232876712328, 0.872...</td>\n",
              "      <td>0, 1, 2, 3, 4, 6, 7, 8, 9, 10, 11, 12, 13, 14,...</td>\n",
              "      <td>(q_memory_cg, q_attention_cg, q_memory_pt, q_l...</td>\n",
              "    </tr>\n",
              "    <tr>\n",
              "      <th>26</th>\n",
              "      <td>0.833281</td>\n",
              "      <td>[0.8949771689497716, 0.7625570776255708, 0.867...</td>\n",
              "      <td>0, 1, 2, 3, 4, 6, 7, 8, 9, 10, 11, 12, 13, 14,...</td>\n",
              "      <td>(q_memory_cg, q_attention_cg, q_memory_pt, q_l...</td>\n",
              "    </tr>\n",
              "    <tr>\n",
              "      <th>27</th>\n",
              "      <td>0.831438</td>\n",
              "      <td>[0.8812785388127854, 0.7671232876712328, 0.885...</td>\n",
              "      <td>0, 1, 2, 3, 4, 6, 7, 8, 9, 10, 11, 12, 13, 14,...</td>\n",
              "      <td>(q_memory_cg, q_attention_cg, q_memory_pt, q_l...</td>\n",
              "    </tr>\n",
              "    <tr>\n",
              "      <th>28</th>\n",
              "      <td>0.831438</td>\n",
              "      <td>[0.8949771689497716, 0.7671232876712328, 0.867...</td>\n",
              "      <td>0, 1, 2, 3, 4, 6, 7, 8, 9, 10, 11, 12, 13, 14,...</td>\n",
              "      <td>(q_memory_cg, q_attention_cg, q_memory_pt, q_l...</td>\n",
              "    </tr>\n",
              "    <tr>\n",
              "      <th>29</th>\n",
              "      <td>0.833286</td>\n",
              "      <td>[0.8904109589041096, 0.7579908675799086, 0.872...</td>\n",
              "      <td>0, 1, 2, 3, 4, 6, 7, 8, 9, 10, 11, 12, 13, 14,...</td>\n",
              "      <td>(q_memory_cg, q_attention_cg, q_memory_pt, q_l...</td>\n",
              "    </tr>\n",
              "    <tr>\n",
              "      <th>30</th>\n",
              "      <td>0.825959</td>\n",
              "      <td>[0.8721461187214612, 0.771689497716895, 0.8584...</td>\n",
              "      <td>0, 1, 2, 3, 4, 5, 6, 7, 8, 9, 10, 11, 12, 13, ...</td>\n",
              "      <td>(q_memory_cg, q_attention_cg, q_memory_pt, q_l...</td>\n",
              "    </tr>\n",
              "  </tbody>\n",
              "</table>\n",
              "</div>"
            ],
            "text/plain": [
              "   avg_score  ...                                      feature_names\n",
              "1   0.803048  ...                                     (q_memory_cg,)\n",
              "2   0.814966  ...                         (q_memory_cg, moca_orient)\n",
              "3   0.819549  ...          (q_memory_cg, q_language_cg, moca_orient)\n",
              "4   0.824132  ...  (q_memory_cg, q_language_cg, moca_orient, q_ou...\n",
              "5   0.825963  ...  (q_memory_cg, q_language_cg, moca_orient, q_ou...\n",
              "6   0.825963  ...  (q_memory_cg, q_language_cg, moca_orient, q_ou...\n",
              "7   0.825045  ...  (q_memory_cg, q_language_cg, MMNAME, moca_orie...\n",
              "8   0.825058  ...  (q_memory_cg, q_language_cg, MMNAME, moca_orie...\n",
              "9   0.820492  ...  (q_memory_cg, q_language_cg, MMNAME, moca_orie...\n",
              "10  0.816839  ...  (q_memory_cg, q_language_cg, MMNAME, moca_orie...\n",
              "11  0.813178  ...  (q_memory_cg, q_language_cg, MMNAME, moca_orie...\n",
              "12  0.815942  ...  (q_memory_cg, q_language_cg, MMNAME, moca_orie...\n",
              "13  0.813203  ...  (q_memory_cg, q_attention_cg, q_language_cg, M...\n",
              "14  0.820488  ...  (q_memory_cg, q_attention_cg, q_memory_pt, q_l...\n",
              "15  0.827815  ...  (q_memory_cg, q_attention_cg, q_memory_pt, q_l...\n",
              "16  0.828724  ...  (q_memory_cg, q_attention_cg, q_memory_pt, q_l...\n",
              "17  0.826893  ...  (q_memory_cg, q_attention_cg, q_memory_pt, q_l...\n",
              "18   0.82965  ...  (q_memory_cg, q_attention_cg, q_memory_pt, q_l...\n",
              "19   0.83422  ...  (q_memory_cg, q_attention_cg, q_memory_pt, q_l...\n",
              "20  0.836046  ...  (q_memory_cg, q_attention_cg, q_memory_pt, q_l...\n",
              "21  0.837852  ...  (q_memory_cg, q_attention_cg, q_memory_pt, q_l...\n",
              "22  0.843361  ...  (q_memory_cg, q_attention_cg, q_memory_pt, q_l...\n",
              "23  0.839708  ...  (q_memory_cg, q_attention_cg, q_memory_pt, q_l...\n",
              "24  0.835141  ...  (q_memory_cg, q_attention_cg, q_memory_pt, q_l...\n",
              "25  0.834199  ...  (q_memory_cg, q_attention_cg, q_memory_pt, q_l...\n",
              "26  0.833281  ...  (q_memory_cg, q_attention_cg, q_memory_pt, q_l...\n",
              "27  0.831438  ...  (q_memory_cg, q_attention_cg, q_memory_pt, q_l...\n",
              "28  0.831438  ...  (q_memory_cg, q_attention_cg, q_memory_pt, q_l...\n",
              "29  0.833286  ...  (q_memory_cg, q_attention_cg, q_memory_pt, q_l...\n",
              "30  0.825959  ...  (q_memory_cg, q_attention_cg, q_memory_pt, q_l...\n",
              "\n",
              "[30 rows x 4 columns]"
            ]
          },
          "metadata": {
            "tags": []
          },
          "execution_count": 463
        }
      ]
    },
    {
      "cell_type": "markdown",
      "metadata": {
        "colab_type": "text",
        "id": "1VGO5Q5yQMsJ"
      },
      "source": [
        "#### Cost Sums"
      ]
    },
    {
      "cell_type": "code",
      "metadata": {
        "colab_type": "code",
        "outputId": "2f66c9c4-7031-4050-d7f3-4f0936228935",
        "id": "0_lZUQXEQMsJ",
        "colab": {
          "base_uri": "https://localhost:8080/",
          "height": 126
        }
      },
      "source": [
        "cost_sum(5)"
      ],
      "execution_count": 466,
      "outputs": [
        {
          "output_type": "stream",
          "text": [
            "5  features.\n",
            "Accuracy:  0.8259628606679488\n",
            "Features:  ('q_memory_cg', 'q_language_cg', 'moca_orient', 'q_outsideact_pt', 'faq8')\n",
            "Cost Sum:  5.5  Avg:  1.1\n",
            "Cost Time:  5.0  Avg:  1.0\n",
            "Cost Diff:  6.0  Avg:  1.2\n"
          ],
          "name": "stdout"
        }
      ]
    },
    {
      "cell_type": "code",
      "metadata": {
        "id": "b-QGuiivQQic",
        "colab_type": "code",
        "colab": {
          "base_uri": "https://localhost:8080/",
          "height": 146
        },
        "outputId": "602a8643-83ff-4ec1-b3b8-11d5eaedd561"
      },
      "source": [
        "cost_sum(16)"
      ],
      "execution_count": 467,
      "outputs": [
        {
          "output_type": "stream",
          "text": [
            "16  features.\n",
            "Accuracy:  0.8287235712229734\n",
            "Features:  ('q_memory_cg', 'q_attention_cg', 'q_memory_pt', 'q_language_cg', 'MMNAME', 'moca_orient', 'q_outsideact_pt', 'q_attention_pt', 'PTHAND', 'MMREPEAT', 'q_orient_cg', 'PTRACE', 'q_judgmt_cg', 'q_outsideact_cg', 'moca_naming', 'faq8')\n",
            "Cost Sum:  17.0  Avg:  1.0625\n",
            "Cost Time:  16.0  Avg:  1.0\n",
            "Cost Diff:  18.0  Avg:  1.125\n"
          ],
          "name": "stdout"
        }
      ]
    },
    {
      "cell_type": "code",
      "metadata": {
        "id": "DF7h5WkxjeYP",
        "colab_type": "code",
        "colab": {
          "base_uri": "https://localhost:8080/",
          "height": 146
        },
        "outputId": "c953a40b-d578-4701-afa6-91d27048d69b"
      },
      "source": [
        "cost_sum(22)"
      ],
      "execution_count": 468,
      "outputs": [
        {
          "output_type": "stream",
          "text": [
            "22  features.\n",
            "Accuracy:  0.8433606170802472\n",
            "Features:  ('q_memory_cg', 'q_attention_cg', 'q_memory_pt', 'q_language_cg', 'MMNAME', 'moca_orient', 'q_outsideact_pt', 'q_attention_pt', 'FAMHISTAD', 'FAMHISTDEM', 'PTGENDER', 'PTHAND', 'q_judgmt_pt', 'MMREPEAT', 'q_orient_pt', 'q_orient_cg', 'PTRACE', 'q_judgmt_cg', 'q_outsideact_cg', 'verbal_fluency', 'moca_naming', 'faq8')\n",
            "Cost Sum:  23.5  Avg:  1.0681818181818181\n",
            "Cost Time:  23.0  Avg:  1.0454545454545454\n",
            "Cost Diff:  24.0  Avg:  1.0909090909090908\n"
          ],
          "name": "stdout"
        }
      ]
    },
    {
      "cell_type": "markdown",
      "metadata": {
        "colab_type": "text",
        "id": "BLuoBTv7QQs4"
      },
      "source": [
        "#### 15 starting features"
      ]
    },
    {
      "cell_type": "code",
      "metadata": {
        "colab_type": "code",
        "id": "8B1mus1bQQs4",
        "colab": {}
      },
      "source": [
        "features = pd.read_csv(f'{dir}/features_paired.csv')\n",
        "features['weight_x2'] = (features['avg_score'] + (features['cost_reverse']*2))/2\n",
        "features.sort_values('weight_x2', ascending=False, inplace=True)\n",
        "features = features.head(15)"
      ],
      "execution_count": 0,
      "outputs": []
    },
    {
      "cell_type": "code",
      "metadata": {
        "colab_type": "code",
        "id": "qGeEgKjRQQs5",
        "colab": {}
      },
      "source": [
        "from sklearn.ensemble import RandomForestClassifier\n",
        "from sklearn.model_selection import cross_val_score, StratifiedKFold\n",
        "\n",
        "cv = StratifiedKFold(n_splits=5)\n",
        "\n",
        "clf = RandomForestClassifier(n_estimators=100, max_features=.5)\n",
        "\n",
        "adni_pair_i_X = adni_pair_X.loc[:,features['feature']]"
      ],
      "execution_count": 0,
      "outputs": []
    },
    {
      "cell_type": "code",
      "metadata": {
        "colab_type": "code",
        "id": "exeG31g1QQs6",
        "colab": {}
      },
      "source": [
        "from mlxtend.feature_selection import SequentialFeatureSelector as SFS\n",
        "\n",
        "sfs1 = SFS(clf, \n",
        "           k_features=(15), \n",
        "           forward=True, \n",
        "           floating=False, \n",
        "           verbose=2,\n",
        "           scoring='accuracy',\n",
        "           cv=cv,\n",
        "           n_jobs=-1)\n",
        "\n",
        "sfs1 = sfs1.fit(adni_pair_i_X, adni_pair_y2.values.ravel())"
      ],
      "execution_count": 0,
      "outputs": []
    },
    {
      "cell_type": "code",
      "metadata": {
        "colab_type": "code",
        "id": "V-kCKPZOQQs7",
        "colab": {}
      },
      "source": [
        "f_costs = pd.DataFrame.from_dict(sfs1.subsets_)\n",
        "f_costs = f_costs.transpose()\n",
        "f_costs['feature_idx'] = f_costs['feature_idx'].apply(str).str.replace('(','').str.replace(')','')\n",
        "f_costs.to_csv(f'{dir}/Output/eff_features_paired_costweight_15.csv', index=False)\n"
      ],
      "execution_count": 0,
      "outputs": []
    },
    {
      "cell_type": "code",
      "metadata": {
        "colab_type": "code",
        "outputId": "da592e5f-f474-44be-a29a-14fc096e1060",
        "id": "iLEbgR1PQQs9",
        "colab": {
          "base_uri": "https://localhost:8080/",
          "height": 498
        }
      },
      "source": [
        "f_costs"
      ],
      "execution_count": 473,
      "outputs": [
        {
          "output_type": "execute_result",
          "data": {
            "text/html": [
              "<div>\n",
              "<style scoped>\n",
              "    .dataframe tbody tr th:only-of-type {\n",
              "        vertical-align: middle;\n",
              "    }\n",
              "\n",
              "    .dataframe tbody tr th {\n",
              "        vertical-align: top;\n",
              "    }\n",
              "\n",
              "    .dataframe thead th {\n",
              "        text-align: right;\n",
              "    }\n",
              "</style>\n",
              "<table border=\"1\" class=\"dataframe\">\n",
              "  <thead>\n",
              "    <tr style=\"text-align: right;\">\n",
              "      <th></th>\n",
              "      <th>avg_score</th>\n",
              "      <th>cv_scores</th>\n",
              "      <th>feature_idx</th>\n",
              "      <th>feature_names</th>\n",
              "    </tr>\n",
              "  </thead>\n",
              "  <tbody>\n",
              "    <tr>\n",
              "      <th>1</th>\n",
              "      <td>0.803048</td>\n",
              "      <td>[0.8721461187214612, 0.730593607305936, 0.8401...</td>\n",
              "      <td>0,</td>\n",
              "      <td>(q_memory_cg,)</td>\n",
              "    </tr>\n",
              "    <tr>\n",
              "      <th>2</th>\n",
              "      <td>0.814966</td>\n",
              "      <td>[0.8812785388127854, 0.7442922374429224, 0.844...</td>\n",
              "      <td>0, 6</td>\n",
              "      <td>(q_memory_cg, moca_orient)</td>\n",
              "    </tr>\n",
              "    <tr>\n",
              "      <th>3</th>\n",
              "      <td>0.819549</td>\n",
              "      <td>[0.8767123287671232, 0.7534246575342466, 0.853...</td>\n",
              "      <td>0, 3, 6</td>\n",
              "      <td>(q_memory_cg, q_language_cg, moca_orient)</td>\n",
              "    </tr>\n",
              "    <tr>\n",
              "      <th>4</th>\n",
              "      <td>0.824132</td>\n",
              "      <td>[0.8767123287671232, 0.7579908675799086, 0.858...</td>\n",
              "      <td>0, 3, 6, 7</td>\n",
              "      <td>(q_memory_cg, q_language_cg, moca_orient, q_ou...</td>\n",
              "    </tr>\n",
              "    <tr>\n",
              "      <th>5</th>\n",
              "      <td>0.824124</td>\n",
              "      <td>[0.8767123287671232, 0.7579908675799086, 0.863...</td>\n",
              "      <td>0, 3, 6, 7, 14</td>\n",
              "      <td>(q_memory_cg, q_language_cg, moca_orient, q_ou...</td>\n",
              "    </tr>\n",
              "    <tr>\n",
              "      <th>6</th>\n",
              "      <td>0.829641</td>\n",
              "      <td>[0.8584474885844748, 0.7579908675799086, 0.876...</td>\n",
              "      <td>0, 2, 3, 6, 7, 14</td>\n",
              "      <td>(q_memory_cg, q_memory_pt, q_language_cg, moca...</td>\n",
              "    </tr>\n",
              "    <tr>\n",
              "      <th>7</th>\n",
              "      <td>0.825054</td>\n",
              "      <td>[0.8538812785388128, 0.7625570776255708, 0.876...</td>\n",
              "      <td>0, 2, 3, 4, 6, 7, 14</td>\n",
              "      <td>(q_memory_cg, q_memory_pt, q_language_cg, MMNA...</td>\n",
              "    </tr>\n",
              "    <tr>\n",
              "      <th>8</th>\n",
              "      <td>0.825988</td>\n",
              "      <td>[0.8538812785388128, 0.7488584474885844, 0.872...</td>\n",
              "      <td>0, 2, 3, 4, 6, 7, 12, 14</td>\n",
              "      <td>(q_memory_cg, q_memory_pt, q_language_cg, MMNA...</td>\n",
              "    </tr>\n",
              "    <tr>\n",
              "      <th>9</th>\n",
              "      <td>0.815917</td>\n",
              "      <td>[0.8538812785388128, 0.7671232876712328, 0.826...</td>\n",
              "      <td>0, 2, 3, 4, 5, 6, 7, 12, 14</td>\n",
              "      <td>(q_memory_cg, q_memory_pt, q_language_cg, MMNA...</td>\n",
              "    </tr>\n",
              "    <tr>\n",
              "      <th>10</th>\n",
              "      <td>0.826906</td>\n",
              "      <td>[0.863013698630137, 0.7808219178082192, 0.8356...</td>\n",
              "      <td>0, 2, 3, 4, 5, 6, 7, 9, 12, 14</td>\n",
              "      <td>(q_memory_cg, q_memory_pt, q_language_cg, MMNA...</td>\n",
              "    </tr>\n",
              "    <tr>\n",
              "      <th>11</th>\n",
              "      <td>0.826931</td>\n",
              "      <td>[0.867579908675799, 0.7671232876712328, 0.8401...</td>\n",
              "      <td>0, 1, 2, 3, 4, 5, 6, 7, 9, 12, 14</td>\n",
              "      <td>(q_memory_cg, q_attention_cg, q_memory_pt, q_l...</td>\n",
              "    </tr>\n",
              "    <tr>\n",
              "      <th>12</th>\n",
              "      <td>0.818695</td>\n",
              "      <td>[0.8721461187214612, 0.7534246575342466, 0.831...</td>\n",
              "      <td>0, 1, 2, 3, 4, 5, 6, 7, 9, 12, 13, 14</td>\n",
              "      <td>(q_memory_cg, q_attention_cg, q_memory_pt, q_l...</td>\n",
              "    </tr>\n",
              "    <tr>\n",
              "      <th>13</th>\n",
              "      <td>0.823253</td>\n",
              "      <td>[0.8538812785388128, 0.7808219178082192, 0.840...</td>\n",
              "      <td>0, 1, 2, 3, 4, 5, 6, 7, 8, 9, 12, 13, 14</td>\n",
              "      <td>(q_memory_cg, q_attention_cg, q_memory_pt, q_l...</td>\n",
              "    </tr>\n",
              "    <tr>\n",
              "      <th>14</th>\n",
              "      <td>0.808573</td>\n",
              "      <td>[0.863013698630137, 0.7534246575342466, 0.8264...</td>\n",
              "      <td>0, 1, 2, 3, 4, 5, 6, 7, 8, 9, 11, 12, 13, 14</td>\n",
              "      <td>(q_memory_cg, q_attention_cg, q_memory_pt, q_l...</td>\n",
              "    </tr>\n",
              "    <tr>\n",
              "      <th>15</th>\n",
              "      <td>0.801238</td>\n",
              "      <td>[0.863013698630137, 0.7442922374429224, 0.8219...</td>\n",
              "      <td>0, 1, 2, 3, 4, 5, 6, 7, 8, 9, 10, 11, 12, 13, 14</td>\n",
              "      <td>(q_memory_cg, q_attention_cg, q_memory_pt, q_l...</td>\n",
              "    </tr>\n",
              "  </tbody>\n",
              "</table>\n",
              "</div>"
            ],
            "text/plain": [
              "   avg_score  ...                                      feature_names\n",
              "1   0.803048  ...                                     (q_memory_cg,)\n",
              "2   0.814966  ...                         (q_memory_cg, moca_orient)\n",
              "3   0.819549  ...          (q_memory_cg, q_language_cg, moca_orient)\n",
              "4   0.824132  ...  (q_memory_cg, q_language_cg, moca_orient, q_ou...\n",
              "5   0.824124  ...  (q_memory_cg, q_language_cg, moca_orient, q_ou...\n",
              "6   0.829641  ...  (q_memory_cg, q_memory_pt, q_language_cg, moca...\n",
              "7   0.825054  ...  (q_memory_cg, q_memory_pt, q_language_cg, MMNA...\n",
              "8   0.825988  ...  (q_memory_cg, q_memory_pt, q_language_cg, MMNA...\n",
              "9   0.815917  ...  (q_memory_cg, q_memory_pt, q_language_cg, MMNA...\n",
              "10  0.826906  ...  (q_memory_cg, q_memory_pt, q_language_cg, MMNA...\n",
              "11  0.826931  ...  (q_memory_cg, q_attention_cg, q_memory_pt, q_l...\n",
              "12  0.818695  ...  (q_memory_cg, q_attention_cg, q_memory_pt, q_l...\n",
              "13  0.823253  ...  (q_memory_cg, q_attention_cg, q_memory_pt, q_l...\n",
              "14  0.808573  ...  (q_memory_cg, q_attention_cg, q_memory_pt, q_l...\n",
              "15  0.801238  ...  (q_memory_cg, q_attention_cg, q_memory_pt, q_l...\n",
              "\n",
              "[15 rows x 4 columns]"
            ]
          },
          "metadata": {
            "tags": []
          },
          "execution_count": 473
        }
      ]
    },
    {
      "cell_type": "markdown",
      "metadata": {
        "colab_type": "text",
        "id": "-hLIaAadQQs_"
      },
      "source": [
        "#### Cost Sums"
      ]
    },
    {
      "cell_type": "code",
      "metadata": {
        "colab_type": "code",
        "outputId": "7b00119b-c643-4373-b8d8-0db46c7038ef",
        "id": "FCkGcsODQQtA",
        "colab": {
          "base_uri": "https://localhost:8080/",
          "height": 126
        }
      },
      "source": [
        "cost_sum(4)"
      ],
      "execution_count": 474,
      "outputs": [
        {
          "output_type": "stream",
          "text": [
            "4  features.\n",
            "Accuracy:  0.8241321874661558\n",
            "Features:  ('q_memory_cg', 'q_language_cg', 'moca_orient', 'q_outsideact_pt')\n",
            "Cost Sum:  4.0  Avg:  1.0\n",
            "Cost Time:  4.0  Avg:  1.0\n",
            "Cost Diff:  4.0  Avg:  1.0\n"
          ],
          "name": "stdout"
        }
      ]
    },
    {
      "cell_type": "code",
      "metadata": {
        "id": "sBVeRxVSj_Qk",
        "colab_type": "code",
        "colab": {
          "base_uri": "https://localhost:8080/",
          "height": 126
        },
        "outputId": "9a08f700-0c03-4f16-de1d-7829f5d7b0e5"
      },
      "source": [
        "cost_sum(6)"
      ],
      "execution_count": 475,
      "outputs": [
        {
          "output_type": "stream",
          "text": [
            "6  features.\n",
            "Accuracy:  0.8296410024156338\n",
            "Features:  ('q_memory_cg', 'q_memory_pt', 'q_language_cg', 'moca_orient', 'q_outsideact_pt', 'q_judgmt_pt')\n",
            "Cost Sum:  6.0  Avg:  1.0\n",
            "Cost Time:  6.0  Avg:  1.0\n",
            "Cost Diff:  6.0  Avg:  1.0\n"
          ],
          "name": "stdout"
        }
      ]
    },
    {
      "cell_type": "code",
      "metadata": {
        "id": "iEcKhtiPkDou",
        "colab_type": "code",
        "colab": {
          "base_uri": "https://localhost:8080/",
          "height": 126
        },
        "outputId": "f898921c-0f76-4f8f-f0e7-f8063dbda498"
      },
      "source": [
        "cost_sum(10)"
      ],
      "execution_count": 476,
      "outputs": [
        {
          "output_type": "stream",
          "text": [
            "10  features.\n",
            "Accuracy:  0.8269055041817511\n",
            "Features:  ('q_memory_cg', 'q_memory_pt', 'q_language_cg', 'MMNAME', 'moca_similarities', 'moca_orient', 'q_outsideact_pt', 'FAMHISTAD', 'PTHAND', 'q_judgmt_pt')\n",
            "Cost Sum:  10.0  Avg:  1.0\n",
            "Cost Time:  10.0  Avg:  1.0\n",
            "Cost Diff:  10.0  Avg:  1.0\n"
          ],
          "name": "stdout"
        }
      ]
    },
    {
      "cell_type": "markdown",
      "metadata": {
        "id": "zUjzvy_30opV",
        "colab_type": "text"
      },
      "source": [
        "# Feature Testing (ADNI/Clinic)"
      ]
    },
    {
      "cell_type": "code",
      "metadata": {
        "id": "pspZ3tiV0tIY",
        "colab_type": "code",
        "colab": {}
      },
      "source": [
        ""
      ],
      "execution_count": 0,
      "outputs": []
    },
    {
      "cell_type": "markdown",
      "metadata": {
        "id": "daXImRewkt4j",
        "colab_type": "text"
      },
      "source": [
        "# Conclusions"
      ]
    },
    {
      "cell_type": "code",
      "metadata": {
        "id": "bMzHfkavkuyU",
        "colab_type": "code",
        "colab": {}
      },
      "source": [
        ""
      ],
      "execution_count": 0,
      "outputs": []
    }
  ]
}