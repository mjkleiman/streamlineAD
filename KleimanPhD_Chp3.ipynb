{
  "nbformat": 4,
  "nbformat_minor": 0,
  "metadata": {
    "colab": {
      "name": "KleimanPhD_Chp3",
      "version": "0.3.2",
      "provenance": [],
      "collapsed_sections": [],
      "include_colab_link": true
    },
    "kernelspec": {
      "name": "python3",
      "display_name": "Python 3"
    },
    "accelerator": "TPU"
  },
  "cells": [
    {
      "cell_type": "markdown",
      "metadata": {
        "id": "view-in-github",
        "colab_type": "text"
      },
      "source": [
        "<a href=\"https://colab.research.google.com/github/mjkleiman/streamlineAD/blob/master/KleimanPhD_Chp3.ipynb\" target=\"_parent\"><img src=\"https://colab.research.google.com/assets/colab-badge.svg\" alt=\"Open In Colab\"/></a>"
      ]
    },
    {
      "cell_type": "code",
      "metadata": {
        "id": "aMSvyhqBweVD",
        "colab_type": "code",
        "colab": {}
      },
      "source": [
        "import numpy as np\n",
        "import pandas as pd\n",
        "\n",
        "from google.colab import drive\n",
        "drive.mount('/content/gdrive')\n",
        "dir='/content/gdrive/My Drive/Dissertation/'\n"
      ],
      "execution_count": 0,
      "outputs": []
    },
    {
      "cell_type": "code",
      "metadata": {
        "id": "PSgL08Q3Hwsc",
        "colab_type": "code",
        "colab": {}
      },
      "source": [
        "import dill"
      ],
      "execution_count": 0,
      "outputs": []
    },
    {
      "cell_type": "markdown",
      "metadata": {
        "id": "B0fF3sjv3SnK",
        "colab_type": "text"
      },
      "source": [
        "# Cost-Sum Feature Selection"
      ]
    },
    {
      "cell_type": "code",
      "metadata": {
        "id": "DMz8jWHe3T2L",
        "colab_type": "code",
        "colab": {}
      },
      "source": [
        "adni_pair_X = pd.read_csv(f'{dir}/Data/adni_pair_X.csv')\n",
        "adni_pair_y2 = pd.read_csv(f'{dir}/Data/adni_pair_y2.csv')\n",
        "adni_pair_y3 = pd.read_csv(f'{dir}/Data/adni_pair_y3.csv')\n",
        "\n",
        "features = pd.read_csv(f'{dir}/features_paired.csv')"
      ],
      "execution_count": 0,
      "outputs": []
    },
    {
      "cell_type": "markdown",
      "metadata": {
        "id": "Hd0D1NLg4Bxj",
        "colab_type": "text"
      },
      "source": [
        "## Efficiency Costs"
      ]
    },
    {
      "cell_type": "markdown",
      "metadata": {
        "id": "dOl02ZZ48i8L",
        "colab_type": "text"
      },
      "source": [
        "### Time\n",
        "\n",
        "Must be considered on its own. Any required delay is counted\n",
        "\n",
        "- 1 = Less than a minute\n",
        "- 2 = 1 min to 5 minutes\n",
        "- 3 = 5 minutes to 20 minutes\n",
        "- 4 = 20 minutes to 45 mins\n",
        "- 5 = over 45 mins"
      ]
    },
    {
      "cell_type": "code",
      "metadata": {
        "id": "d2fRrm6V3_2i",
        "colab_type": "code",
        "colab": {}
      },
      "source": [
        "df = pd.DataFrame(columns=adni_pair_X.columns.values)"
      ],
      "execution_count": 0,
      "outputs": []
    },
    {
      "cell_type": "code",
      "metadata": {
        "colab_type": "code",
        "id": "PD6RdYXk8nII",
        "colab": {}
      },
      "source": [
        "df.loc['time',['moca_visuo_exec', 'moca_clock']]=2\n",
        "df.loc['time',['moca_naming']]=1\n",
        "df.loc['time',['moca_digits']]=2\n",
        "df.loc['time',['moca_letters']]=2\n",
        "df.loc['time',['moca_serial7']]=2\n",
        "df.loc['time',['moca_repeat']]=1\n",
        "df.loc['time',['moca_fluency']]=2\n",
        "df.loc['time',['moca_recall']]=1\n",
        "df.loc['time',['moca_similarities', 'moca_orient']]=1\n",
        "df.loc['time',['faq1', 'faq2', 'faq3', 'faq4',\n",
        "       'faq5', 'faq6', 'faq7', 'faq8', 'faq9', 'faq10']]=1\n",
        "df.loc['time',['MMNAME']]=1\n",
        "df.loc['time',['MMREPEAT']]=1\n",
        "df.loc['time',['MMREAD']]=2\n",
        "df.loc['time',['hach1', 'hach2', 'hach3', 'hach4', 'hach5', 'hach6', 'hach7',\n",
        "       'hach8']]=1\n",
        "df.loc['time',['PXHEADEY', 'PXNECK', 'PXHEART']]=2\n",
        "df.loc['time',['vlt_recogn']]=2\n",
        "df.loc['time',['vlt_delay']]=4\n",
        "df.loc['time',['nbspan_forward', 'nbspan_backward']]=3\n",
        "df.loc['time',['verbal_fluency']]=2\n",
        "df.loc['time',['tma_time', 'tmb_time','tmb_mistakes']]=2\n",
        "df.loc['time',['vlt_recall']]=2\n",
        "df.loc['time',['npi1_sev', 'npi2_sev', 'npi3_sev', 'npi4_sev',\n",
        "       'npi5_sev', 'npi6_sev', 'npi7_sev', 'npi8_sev', 'npi9_sev',\n",
        "       'npi10_sev', 'npi11_sev', 'npi12_sev']]=1\n",
        "df.loc['time',['PTGENDER', 'PTHAND',\n",
        "       'PTEDUCAT', 'PTRETIRED', 'PTHOME', 'PTRACE']]=1\n",
        "df.loc['time',['FAMHISTAD', 'FAMHISTDEM']]=1\n",
        "df.loc['time',['q_memory_pt', 'q_orient_pt',\n",
        "       'q_judgmt_pt', 'q_outsideact_pt', 'q_homeact_pt', 'q_language_pt',\n",
        "       'q_attention_pt', 'q_memory_cg', 'q_orient_cg',\n",
        "       'q_judgmt_cg', 'q_outsideact_cg', 'q_homeact_cg', 'q_language_cg',\n",
        "       'q_attention_cg']]=1"
      ],
      "execution_count": 0,
      "outputs": []
    },
    {
      "cell_type": "markdown",
      "metadata": {
        "colab_type": "text",
        "id": "TkGl87yY8nIJ"
      },
      "source": [
        "### Difficulty\n",
        "\n",
        "- 1 = Minimal/neglible effort/doctor not required\n",
        "- 2 = Some effort required to analyze/administer (30 seconds or less to analyze), minimal focus\n",
        "- 3 = Up to a few minutes required to analyze / requires focus or effort (cannot analyze with patient present) (minimum for needing specialist)\n",
        "- 4 = Up to 5 minutes to analyze per question / requires significant focus or effort\n",
        "- 5 = More than 5 minutes to analyze, extreme focus/effort required"
      ]
    },
    {
      "cell_type": "code",
      "metadata": {
        "id": "gSrpfou3-FKS",
        "colab_type": "code",
        "colab": {}
      },
      "source": [
        "df.loc['diff',['moca_visuo_exec', 'moca_clock']]=2\n",
        "df.loc['diff',['moca_naming']]=2\n",
        "df.loc['diff',['moca_digits']]=3\n",
        "df.loc['diff',['moca_letters']]=3\n",
        "df.loc['diff',['moca_serial7']]=3\n",
        "df.loc['diff',['moca_repeat']]=2\n",
        "df.loc['diff',['moca_fluency']]=3\n",
        "df.loc['diff',['moca_recall']]=2\n",
        "df.loc['diff',['moca_similarities', 'moca_orient']]=1\n",
        "df.loc['diff',['faq1', 'faq2', 'faq3', 'faq4',\n",
        "       'faq5', 'faq6', 'faq7', 'faq8', 'faq9', 'faq10']]=2\n",
        "df.loc['diff',['MMNAME']]=1\n",
        "df.loc['diff',['MMREPEAT']]=1\n",
        "df.loc['diff',['MMREAD']]=2\n",
        "df.loc['diff',['hach1', 'hach2', 'hach3', 'hach4', 'hach5', 'hach6', 'hach7',\n",
        "       'hach8']]=2\n",
        "df.loc['diff',['PXHEADEY', 'PXNECK', 'PXHEART']]=3\n",
        "df.loc['diff',['vlt_recogn']]=2\n",
        "df.loc['diff',['vlt_delay']]=2\n",
        "df.loc['diff',['nbspan_forward', 'nbspan_backward']]=2\n",
        "df.loc['diff',['verbal_fluency']]=1\n",
        "df.loc['diff',['tma_time', 'tmb_time','tmb_mistakes']]=3\n",
        "df.loc['diff',['vlt_recall']]=2\n",
        "df.loc['diff',['npi1_sev', 'npi2_sev', 'npi3_sev', 'npi4_sev',\n",
        "       'npi5_sev', 'npi6_sev', 'npi7_sev', 'npi8_sev', 'npi9_sev',\n",
        "       'npi10_sev', 'npi11_sev', 'npi12_sev']]=3\n",
        "df.loc['diff',['PTGENDER', 'PTHAND',\n",
        "       'PTEDUCAT', 'PTRETIRED', 'PTHOME', 'PTRACE']]=1\n",
        "df.loc['diff',['FAMHISTAD', 'FAMHISTDEM']]=1\n",
        "df.loc['diff',['q_memory_pt', 'q_orient_pt',\n",
        "       'q_judgmt_pt', 'q_outsideact_pt', 'q_homeact_pt', 'q_language_pt',\n",
        "       'q_attention_pt', 'q_memory_cg', 'q_orient_cg',\n",
        "       'q_judgmt_cg', 'q_outsideact_cg', 'q_homeact_cg', 'q_language_cg',\n",
        "       'q_attention_cg']]=1"
      ],
      "execution_count": 0,
      "outputs": []
    },
    {
      "cell_type": "markdown",
      "metadata": {
        "colab_type": "text",
        "id": "xrVZC8Nl8dDr"
      },
      "source": [
        "### Parsing"
      ]
    },
    {
      "cell_type": "code",
      "metadata": {
        "colab_type": "code",
        "id": "BbYZQfih8dDr",
        "colab": {}
      },
      "source": [
        "df = df.transpose()\n",
        "df.dropna(inplace=True)\n",
        "\n",
        "df['cost'] = df['time']+df['diff']\n",
        "df['cost_reverse'] = df['cost']/10\n",
        "\n",
        "'''Need to reverse sort cost, so that we can maximize both avg_score and\n",
        "efficiency, instead of needing to maximize one and minimize the other'''\n",
        "features['cost_reverse'] = 1 - features['cost_reverse']\n",
        "\n",
        "df.sort_values('cost_reverse', ascending=False, inplace=True)\n",
        "df = df.reset_index().rename({'index':'feature'}, axis=1)\n",
        "\n",
        "df.to_csv(f'{dir}/features_costs_pair.csv', index=False)"
      ],
      "execution_count": 0,
      "outputs": []
    },
    {
      "cell_type": "markdown",
      "metadata": {
        "id": "eFNrLhEPBY9a",
        "colab_type": "text"
      },
      "source": [
        ""
      ]
    },
    {
      "cell_type": "markdown",
      "metadata": {
        "colab_type": "text",
        "id": "lqQY7EEj3iUK"
      },
      "source": [
        "## Feature importances"
      ]
    },
    {
      "cell_type": "code",
      "metadata": {
        "id": "eso40DlF57XY",
        "colab_type": "code",
        "colab": {}
      },
      "source": [
        "# features = pd.read_csv(f'{dir}/features_costs_pair.csv')\n",
        "features = df\n",
        "features.set_index('feature', inplace=True)\n",
        "features = features.loc[adni_pair_X.columns.values]\n",
        "features.reset_index(inplace=True)"
      ],
      "execution_count": 0,
      "outputs": []
    },
    {
      "cell_type": "code",
      "metadata": {
        "colab_type": "code",
        "outputId": "9d1c7f02-5ea5-4a81-ae05-945e0aae04ec",
        "id": "9n50UcHW3iUM",
        "colab": {
          "base_uri": "https://localhost:8080/",
          "height": 35
        }
      },
      "source": [
        "from sklearn.ensemble import RandomForestClassifier\n",
        "from sklearn.model_selection import cross_val_score, StratifiedKFold\n",
        "\n",
        "cv = StratifiedKFold(n_splits=5)\n",
        "\n",
        "clf = RandomForestClassifier(n_estimators=100, max_features=.5)\n",
        "\n",
        "from mlxtend.feature_selection import ExhaustiveFeatureSelector\n",
        "\n",
        "efs = ExhaustiveFeatureSelector(clf, \n",
        "                                min_features=1, \n",
        "                                max_features=1, \n",
        "                                print_progress=True,\n",
        "                                scoring='accuracy',\n",
        "                                cv=5,\n",
        "                                n_jobs=-1)\n",
        "efs = efs.fit(adni_pair_X, adni_pair_y2.values.ravel())"
      ],
      "execution_count": 0,
      "outputs": [
        {
          "output_type": "stream",
          "text": [
            "Features: 83/83"
          ],
          "name": "stderr"
        }
      ]
    },
    {
      "cell_type": "code",
      "metadata": {
        "colab_type": "code",
        "id": "pE0nytYB3iUU",
        "colab": {}
      },
      "source": [
        "f_imp = pd.DataFrame.from_dict(efs.subsets_)\n",
        "f_imp = f_imp.transpose()\n",
        "f_imp['feature']=adni_pair_X.columns.values\n",
        "f_imp = f_imp.sort_values('avg_score', ascending=False)\n",
        "f_imp.drop(labels=['cv_scores','feature_idx','feature_names'], axis=1, inplace=True)\n",
        "\n",
        "features = f_imp.merge(features, on='feature', how='left')"
      ],
      "execution_count": 0,
      "outputs": []
    },
    {
      "cell_type": "code",
      "metadata": {
        "colab_type": "code",
        "id": "ppcEDJvP3iUe",
        "colab": {}
      },
      "source": [
        "\n",
        "\n",
        "features.to_csv(f'{dir}/features_paired.csv', index=False)"
      ],
      "execution_count": 0,
      "outputs": []
    },
    {
      "cell_type": "markdown",
      "metadata": {
        "colab_type": "text",
        "id": "MX034en93iUc"
      },
      "source": [
        "## Select features"
      ]
    },
    {
      "cell_type": "code",
      "metadata": {
        "id": "yt4ztwn8O2S6",
        "colab_type": "code",
        "colab": {}
      },
      "source": [
        "def cost_sum(feature_row, weight, start):\n",
        "  feature_row_index = feature_row - 1\n",
        "  print(feature_row, ' features.')\n",
        "  print('Accuracy: ', f_costs.iloc[feature_row_index,0])\n",
        "  print('Features: ', f_costs.iloc[feature_row_index,3])\n",
        "  ilocs = list([int(s) for s in f_costs.iloc[feature_row_index,2].split(',')])\n",
        "  print('Cost Sum: ', features.iloc[ilocs,4].sum(), ' Avg: ', features.iloc[ilocs,4].sum() / feature_row)\n",
        "  print('Cost Time: ', features.iloc[ilocs,2].sum(), ' Avg: ', features.iloc[ilocs,2].sum() / feature_row)\n",
        "  print('Cost Diff: ', features.iloc[ilocs,3].sum(), ' Avg: ', features.iloc[ilocs,3].sum() / feature_row)\n",
        "  df = pd.DataFrame({'weighted':weight,'start_#':start,'f_#':feature_row,\n",
        "                     'features':str(f_costs.iloc[feature_row_index,3]),\n",
        "                     'accuracy':f_costs.iloc[feature_row_index,0],\n",
        "                     'cost_sum':[features.iloc[ilocs,4].sum()]})\n",
        "  \n",
        "  return df"
      ],
      "execution_count": 0,
      "outputs": []
    },
    {
      "cell_type": "markdown",
      "metadata": {
        "id": "2cWe3jx53T34",
        "colab_type": "text"
      },
      "source": [
        "### Even weights"
      ]
    },
    {
      "cell_type": "markdown",
      "metadata": {
        "colab_type": "text",
        "id": "62a59w6NOnXW"
      },
      "source": [
        "#### 50 starting features"
      ]
    },
    {
      "cell_type": "code",
      "metadata": {
        "colab_type": "code",
        "id": "zdOq-Np9OnXS",
        "colab": {}
      },
      "source": [
        "# features = pd.read_csv(f'{dir}/features_paired.csv')\n",
        "features['weight'] = (features['avg_score'] + (features['cost_reverse']))/2\n",
        "features.sort_values('weight', ascending=False, inplace=True)\n",
        "features = features.head(50)"
      ],
      "execution_count": 0,
      "outputs": []
    },
    {
      "cell_type": "code",
      "metadata": {
        "colab_type": "code",
        "id": "jDWWyxfROnXX",
        "colab": {}
      },
      "source": [
        "from sklearn.ensemble import RandomForestClassifier\n",
        "from sklearn.model_selection import cross_val_score, StratifiedKFold\n",
        "\n",
        "cv = StratifiedKFold(n_splits=5)\n",
        "\n",
        "clf = RandomForestClassifier(n_estimators=100, max_features=.5)\n",
        "\n",
        "adni_pair_i_X = adni_pair_X.loc[:,features['feature']]"
      ],
      "execution_count": 0,
      "outputs": []
    },
    {
      "cell_type": "code",
      "metadata": {
        "colab_type": "code",
        "id": "vHQzSKxCOnXZ",
        "colab": {}
      },
      "source": [
        "from mlxtend.feature_selection import SequentialFeatureSelector as SFS\n",
        "\n",
        "sfs1 = SFS(clf, \n",
        "           k_features=(30), \n",
        "           forward=True, \n",
        "           floating=False, \n",
        "           verbose=2,\n",
        "           scoring='accuracy',\n",
        "           cv=cv,\n",
        "           n_jobs=-1)\n",
        "\n",
        "sfs1 = sfs1.fit(adni_pair_i_X, adni_pair_y2.values.ravel())"
      ],
      "execution_count": 0,
      "outputs": []
    },
    {
      "cell_type": "code",
      "metadata": {
        "id": "1wsS7pz_PoXh",
        "colab_type": "code",
        "colab": {}
      },
      "source": [
        "f_costs = pd.DataFrame.from_dict(sfs1.subsets_)\n",
        "f_costs = f_costs.transpose()\n",
        "f_costs['feature_idx'] = f_costs['feature_idx'].apply(str).str.replace('(','').str.replace(')','')\n",
        "f_costs.to_csv(f'{dir}/Output/eff_features_paired_even50.csv', index=False)\n",
        "\n"
      ],
      "execution_count": 0,
      "outputs": []
    },
    {
      "cell_type": "code",
      "metadata": {
        "id": "acFpzZKrHz8D",
        "colab_type": "code",
        "colab": {}
      },
      "source": [
        "dill.dump_session(f'{dir}/Sessions/costs_even50.db')"
      ],
      "execution_count": 0,
      "outputs": []
    },
    {
      "cell_type": "code",
      "metadata": {
        "id": "CGo7ZXM0n1hS",
        "colab_type": "code",
        "outputId": "d669edf2-cd3b-4222-ed23-7ca17018d6be",
        "colab": {
          "base_uri": "https://localhost:8080/",
          "height": 1000
        }
      },
      "source": [
        "f_costs"
      ],
      "execution_count": 0,
      "outputs": [
        {
          "output_type": "execute_result",
          "data": {
            "text/html": [
              "<div>\n",
              "<style scoped>\n",
              "    .dataframe tbody tr th:only-of-type {\n",
              "        vertical-align: middle;\n",
              "    }\n",
              "\n",
              "    .dataframe tbody tr th {\n",
              "        vertical-align: top;\n",
              "    }\n",
              "\n",
              "    .dataframe thead th {\n",
              "        text-align: right;\n",
              "    }\n",
              "</style>\n",
              "<table border=\"1\" class=\"dataframe\">\n",
              "  <thead>\n",
              "    <tr style=\"text-align: right;\">\n",
              "      <th></th>\n",
              "      <th>avg_score</th>\n",
              "      <th>cv_scores</th>\n",
              "      <th>feature_idx</th>\n",
              "      <th>feature_names</th>\n",
              "    </tr>\n",
              "  </thead>\n",
              "  <tbody>\n",
              "    <tr>\n",
              "      <th>1</th>\n",
              "      <td>0.803048</td>\n",
              "      <td>[0.8721461187214612, 0.730593607305936, 0.8401...</td>\n",
              "      <td>0,</td>\n",
              "      <td>(q_memory_cg,)</td>\n",
              "    </tr>\n",
              "    <tr>\n",
              "      <th>2</th>\n",
              "      <td>0.814049</td>\n",
              "      <td>[0.8812785388127854, 0.7442922374429224, 0.844...</td>\n",
              "      <td>0, 10</td>\n",
              "      <td>(q_memory_cg, moca_orient)</td>\n",
              "    </tr>\n",
              "    <tr>\n",
              "      <th>3</th>\n",
              "      <td>0.819549</td>\n",
              "      <td>[0.8812785388127854, 0.7488584474885844, 0.849...</td>\n",
              "      <td>0, 10, 12</td>\n",
              "      <td>(q_memory_cg, moca_orient, q_outsideact_pt)</td>\n",
              "    </tr>\n",
              "    <tr>\n",
              "      <th>4</th>\n",
              "      <td>0.824132</td>\n",
              "      <td>[0.8767123287671232, 0.7579908675799086, 0.858...</td>\n",
              "      <td>0, 3, 10, 12</td>\n",
              "      <td>(q_memory_cg, q_language_cg, moca_orient, q_ou...</td>\n",
              "    </tr>\n",
              "    <tr>\n",
              "      <th>5</th>\n",
              "      <td>0.829624</td>\n",
              "      <td>[0.8858447488584474, 0.7579908675799086, 0.867...</td>\n",
              "      <td>0, 3, 10, 12, 29</td>\n",
              "      <td>(q_memory_cg, q_language_cg, moca_orient, q_ou...</td>\n",
              "    </tr>\n",
              "    <tr>\n",
              "      <th>6</th>\n",
              "      <td>0.831455</td>\n",
              "      <td>[0.8858447488584474, 0.7625570776255708, 0.867...</td>\n",
              "      <td>0, 3, 10, 12, 29, 42</td>\n",
              "      <td>(q_memory_cg, q_language_cg, moca_orient, q_ou...</td>\n",
              "    </tr>\n",
              "    <tr>\n",
              "      <th>7</th>\n",
              "      <td>0.831455</td>\n",
              "      <td>[0.8858447488584474, 0.7625570776255708, 0.867...</td>\n",
              "      <td>0, 3, 10, 12, 14, 29, 42</td>\n",
              "      <td>(q_memory_cg, q_language_cg, moca_orient, q_ou...</td>\n",
              "    </tr>\n",
              "    <tr>\n",
              "      <th>8</th>\n",
              "      <td>0.832381</td>\n",
              "      <td>[0.8812785388127854, 0.7625570776255708, 0.867...</td>\n",
              "      <td>0, 3, 10, 12, 14, 29, 30, 42</td>\n",
              "      <td>(q_memory_cg, q_language_cg, moca_orient, q_ou...</td>\n",
              "    </tr>\n",
              "    <tr>\n",
              "      <th>9</th>\n",
              "      <td>0.832381</td>\n",
              "      <td>[0.8812785388127854, 0.7625570776255708, 0.867...</td>\n",
              "      <td>0, 3, 10, 12, 14, 29, 30, 42, 43</td>\n",
              "      <td>(q_memory_cg, q_language_cg, moca_orient, q_ou...</td>\n",
              "    </tr>\n",
              "    <tr>\n",
              "      <th>10</th>\n",
              "      <td>0.830554</td>\n",
              "      <td>[0.8721461187214612, 0.7625570776255708, 0.867...</td>\n",
              "      <td>0, 3, 10, 12, 14, 29, 30, 38, 42, 43</td>\n",
              "      <td>(q_memory_cg, q_language_cg, moca_orient, q_ou...</td>\n",
              "    </tr>\n",
              "    <tr>\n",
              "      <th>11</th>\n",
              "      <td>0.831468</td>\n",
              "      <td>[0.8767123287671232, 0.7625570776255708, 0.867...</td>\n",
              "      <td>0, 3, 10, 12, 14, 29, 30, 38, 41, 42, 43</td>\n",
              "      <td>(q_memory_cg, q_language_cg, moca_orient, q_ou...</td>\n",
              "    </tr>\n",
              "    <tr>\n",
              "      <th>12</th>\n",
              "      <td>0.827815</td>\n",
              "      <td>[0.867579908675799, 0.7534246575342466, 0.8675...</td>\n",
              "      <td>0, 3, 10, 12, 14, 29, 30, 31, 38, 41, 42, 43</td>\n",
              "      <td>(q_memory_cg, q_language_cg, moca_orient, q_ou...</td>\n",
              "    </tr>\n",
              "    <tr>\n",
              "      <th>13</th>\n",
              "      <td>0.825984</td>\n",
              "      <td>[0.8721461187214612, 0.7488584474885844, 0.867...</td>\n",
              "      <td>0, 3, 10, 12, 14, 29, 30, 31, 38, 39, 41, 42, 43</td>\n",
              "      <td>(q_memory_cg, q_language_cg, moca_orient, q_ou...</td>\n",
              "    </tr>\n",
              "    <tr>\n",
              "      <th>14</th>\n",
              "      <td>0.826901</td>\n",
              "      <td>[0.867579908675799, 0.7488584474885844, 0.8675...</td>\n",
              "      <td>0, 3, 10, 12, 14, 29, 30, 31, 38, 39, 41, 42, ...</td>\n",
              "      <td>(q_memory_cg, q_language_cg, moca_orient, q_ou...</td>\n",
              "    </tr>\n",
              "    <tr>\n",
              "      <th>15</th>\n",
              "      <td>0.824157</td>\n",
              "      <td>[0.867579908675799, 0.7442922374429224, 0.8630...</td>\n",
              "      <td>0, 3, 10, 12, 14, 29, 30, 31, 32, 38, 39, 41, ...</td>\n",
              "      <td>(q_memory_cg, q_language_cg, moca_orient, q_ou...</td>\n",
              "    </tr>\n",
              "    <tr>\n",
              "      <th>16</th>\n",
              "      <td>0.820509</td>\n",
              "      <td>[0.8584474885844748, 0.7442922374429224, 0.853...</td>\n",
              "      <td>0, 3, 10, 12, 14, 16, 29, 30, 31, 32, 38, 39, ...</td>\n",
              "      <td>(q_memory_cg, q_language_cg, moca_orient, q_ou...</td>\n",
              "    </tr>\n",
              "    <tr>\n",
              "      <th>17</th>\n",
              "      <td>0.817773</td>\n",
              "      <td>[0.8584474885844748, 0.7397260273972602, 0.840...</td>\n",
              "      <td>0, 3, 10, 12, 14, 16, 29, 30, 31, 32, 37, 38, ...</td>\n",
              "      <td>(q_memory_cg, q_language_cg, moca_orient, q_ou...</td>\n",
              "    </tr>\n",
              "    <tr>\n",
              "      <th>18</th>\n",
              "      <td>0.823274</td>\n",
              "      <td>[0.8721461187214612, 0.730593607305936, 0.8447...</td>\n",
              "      <td>0, 3, 10, 12, 14, 16, 29, 30, 31, 32, 36, 37, ...</td>\n",
              "      <td>(q_memory_cg, q_language_cg, moca_orient, q_ou...</td>\n",
              "    </tr>\n",
              "    <tr>\n",
              "      <th>19</th>\n",
              "      <td>0.81686</td>\n",
              "      <td>[0.863013698630137, 0.730593607305936, 0.84018...</td>\n",
              "      <td>0, 3, 6, 10, 12, 14, 16, 29, 30, 31, 32, 36, 3...</td>\n",
              "      <td>(q_memory_cg, q_language_cg, PTHAND, moca_orie...</td>\n",
              "    </tr>\n",
              "    <tr>\n",
              "      <th>20</th>\n",
              "      <td>0.81412</td>\n",
              "      <td>[0.863013698630137, 0.7214611872146118, 0.8310...</td>\n",
              "      <td>0, 3, 6, 10, 12, 14, 16, 29, 30, 31, 32, 35, 3...</td>\n",
              "      <td>(q_memory_cg, q_language_cg, PTHAND, moca_orie...</td>\n",
              "    </tr>\n",
              "    <tr>\n",
              "      <th>21</th>\n",
              "      <td>0.812268</td>\n",
              "      <td>[0.867579908675799, 0.7442922374429224, 0.8219...</td>\n",
              "      <td>0, 3, 6, 10, 11, 12, 14, 16, 29, 30, 31, 32, 3...</td>\n",
              "      <td>(q_memory_cg, q_language_cg, PTHAND, moca_orie...</td>\n",
              "    </tr>\n",
              "    <tr>\n",
              "      <th>22</th>\n",
              "      <td>0.809554</td>\n",
              "      <td>[0.8447488584474886, 0.7351598173515982, 0.817...</td>\n",
              "      <td>0, 3, 6, 10, 11, 12, 14, 16, 29, 30, 31, 32, 3...</td>\n",
              "      <td>(q_memory_cg, q_language_cg, PTHAND, moca_orie...</td>\n",
              "    </tr>\n",
              "    <tr>\n",
              "      <th>23</th>\n",
              "      <td>0.817786</td>\n",
              "      <td>[0.8493150684931506, 0.7397260273972602, 0.840...</td>\n",
              "      <td>0, 3, 6, 10, 11, 12, 13, 14, 16, 29, 30, 31, 3...</td>\n",
              "      <td>(q_memory_cg, q_language_cg, PTHAND, moca_orie...</td>\n",
              "    </tr>\n",
              "    <tr>\n",
              "      <th>24</th>\n",
              "      <td>0.821468</td>\n",
              "      <td>[0.8356164383561644, 0.7534246575342466, 0.840...</td>\n",
              "      <td>0, 3, 6, 10, 11, 12, 13, 14, 16, 29, 30, 31, 3...</td>\n",
              "      <td>(q_memory_cg, q_language_cg, PTHAND, moca_orie...</td>\n",
              "    </tr>\n",
              "    <tr>\n",
              "      <th>25</th>\n",
              "      <td>0.817803</td>\n",
              "      <td>[0.8264840182648402, 0.7579908675799086, 0.840...</td>\n",
              "      <td>0, 3, 6, 10, 11, 12, 13, 14, 16, 29, 30, 31, 3...</td>\n",
              "      <td>(q_memory_cg, q_language_cg, PTHAND, moca_orie...</td>\n",
              "    </tr>\n",
              "    <tr>\n",
              "      <th>26</th>\n",
              "      <td>0.82603</td>\n",
              "      <td>[0.8538812785388128, 0.771689497716895, 0.8356...</td>\n",
              "      <td>0, 2, 3, 6, 10, 11, 12, 13, 14, 16, 29, 30, 31...</td>\n",
              "      <td>(q_memory_cg, q_memory_pt, q_language_cg, PTHA...</td>\n",
              "    </tr>\n",
              "    <tr>\n",
              "      <th>27</th>\n",
              "      <td>0.832431</td>\n",
              "      <td>[0.867579908675799, 0.771689497716895, 0.84931...</td>\n",
              "      <td>0, 1, 2, 3, 6, 10, 11, 12, 13, 14, 16, 29, 30,...</td>\n",
              "      <td>(q_memory_cg, q_attention_cg, q_memory_pt, q_l...</td>\n",
              "    </tr>\n",
              "    <tr>\n",
              "      <th>28</th>\n",
              "      <td>0.837923</td>\n",
              "      <td>[0.867579908675799, 0.776255707762557, 0.85844...</td>\n",
              "      <td>0, 1, 2, 3, 6, 10, 11, 12, 13, 14, 16, 29, 30,...</td>\n",
              "      <td>(q_memory_cg, q_attention_cg, q_memory_pt, q_l...</td>\n",
              "    </tr>\n",
              "    <tr>\n",
              "      <th>29</th>\n",
              "      <td>0.837911</td>\n",
              "      <td>[0.863013698630137, 0.771689497716895, 0.87214...</td>\n",
              "      <td>0, 1, 2, 3, 6, 10, 11, 12, 13, 14, 16, 19, 29,...</td>\n",
              "      <td>(q_memory_cg, q_attention_cg, q_memory_pt, q_l...</td>\n",
              "    </tr>\n",
              "    <tr>\n",
              "      <th>30</th>\n",
              "      <td>0.838807</td>\n",
              "      <td>[0.8721461187214612, 0.771689497716895, 0.8767...</td>\n",
              "      <td>0, 1, 2, 3, 6, 10, 11, 12, 13, 14, 16, 19, 21,...</td>\n",
              "      <td>(q_memory_cg, q_attention_cg, q_memory_pt, q_l...</td>\n",
              "    </tr>\n",
              "  </tbody>\n",
              "</table>\n",
              "</div>"
            ],
            "text/plain": [
              "   avg_score  ...                                      feature_names\n",
              "1   0.803048  ...                                     (q_memory_cg,)\n",
              "2   0.814049  ...                         (q_memory_cg, moca_orient)\n",
              "3   0.819549  ...        (q_memory_cg, moca_orient, q_outsideact_pt)\n",
              "4   0.824132  ...  (q_memory_cg, q_language_cg, moca_orient, q_ou...\n",
              "5   0.829624  ...  (q_memory_cg, q_language_cg, moca_orient, q_ou...\n",
              "6   0.831455  ...  (q_memory_cg, q_language_cg, moca_orient, q_ou...\n",
              "7   0.831455  ...  (q_memory_cg, q_language_cg, moca_orient, q_ou...\n",
              "8   0.832381  ...  (q_memory_cg, q_language_cg, moca_orient, q_ou...\n",
              "9   0.832381  ...  (q_memory_cg, q_language_cg, moca_orient, q_ou...\n",
              "10  0.830554  ...  (q_memory_cg, q_language_cg, moca_orient, q_ou...\n",
              "11  0.831468  ...  (q_memory_cg, q_language_cg, moca_orient, q_ou...\n",
              "12  0.827815  ...  (q_memory_cg, q_language_cg, moca_orient, q_ou...\n",
              "13  0.825984  ...  (q_memory_cg, q_language_cg, moca_orient, q_ou...\n",
              "14  0.826901  ...  (q_memory_cg, q_language_cg, moca_orient, q_ou...\n",
              "15  0.824157  ...  (q_memory_cg, q_language_cg, moca_orient, q_ou...\n",
              "16  0.820509  ...  (q_memory_cg, q_language_cg, moca_orient, q_ou...\n",
              "17  0.817773  ...  (q_memory_cg, q_language_cg, moca_orient, q_ou...\n",
              "18  0.823274  ...  (q_memory_cg, q_language_cg, moca_orient, q_ou...\n",
              "19   0.81686  ...  (q_memory_cg, q_language_cg, PTHAND, moca_orie...\n",
              "20   0.81412  ...  (q_memory_cg, q_language_cg, PTHAND, moca_orie...\n",
              "21  0.812268  ...  (q_memory_cg, q_language_cg, PTHAND, moca_orie...\n",
              "22  0.809554  ...  (q_memory_cg, q_language_cg, PTHAND, moca_orie...\n",
              "23  0.817786  ...  (q_memory_cg, q_language_cg, PTHAND, moca_orie...\n",
              "24  0.821468  ...  (q_memory_cg, q_language_cg, PTHAND, moca_orie...\n",
              "25  0.817803  ...  (q_memory_cg, q_language_cg, PTHAND, moca_orie...\n",
              "26   0.82603  ...  (q_memory_cg, q_memory_pt, q_language_cg, PTHA...\n",
              "27  0.832431  ...  (q_memory_cg, q_attention_cg, q_memory_pt, q_l...\n",
              "28  0.837923  ...  (q_memory_cg, q_attention_cg, q_memory_pt, q_l...\n",
              "29  0.837911  ...  (q_memory_cg, q_attention_cg, q_memory_pt, q_l...\n",
              "30  0.838807  ...  (q_memory_cg, q_attention_cg, q_memory_pt, q_l...\n",
              "\n",
              "[30 rows x 4 columns]"
            ]
          },
          "metadata": {
            "tags": []
          },
          "execution_count": 13
        }
      ]
    },
    {
      "cell_type": "markdown",
      "metadata": {
        "id": "GdupzkOsnuU1",
        "colab_type": "text"
      },
      "source": [
        "#### Cost Sums"
      ]
    },
    {
      "cell_type": "code",
      "metadata": {
        "id": "jBtx8lTHIvyR",
        "colab_type": "code",
        "colab": {}
      },
      "source": [
        "dill.load_session(f'{dir}/Sessions/costs_even50.db')"
      ],
      "execution_count": 0,
      "outputs": []
    },
    {
      "cell_type": "code",
      "metadata": {
        "id": "BrLnIBs8mmrN",
        "colab_type": "code",
        "outputId": "63e1059c-2892-4694-9af6-ac9146c7e987",
        "colab": {
          "base_uri": "https://localhost:8080/",
          "height": 119
        }
      },
      "source": [
        "df = cost_sum(4, 'even', 50)"
      ],
      "execution_count": 0,
      "outputs": [
        {
          "output_type": "stream",
          "text": [
            "4  features.\n",
            "Accuracy:  0.8241321874661558\n",
            "Features:  ('q_memory_cg', 'q_language_cg', 'moca_orient', 'q_outsideact_pt')\n",
            "Cost Sum:  4.0  Avg:  1.0\n",
            "Cost Time:  4  Avg:  1.0\n",
            "Cost Diff:  4  Avg:  1.0\n"
          ],
          "name": "stdout"
        }
      ]
    },
    {
      "cell_type": "code",
      "metadata": {
        "id": "nAGdJHGKiLpU",
        "colab_type": "code",
        "outputId": "d16496d3-ead9-40a7-c93f-93356bf1fcdf",
        "colab": {
          "base_uri": "https://localhost:8080/",
          "height": 119
        }
      },
      "source": [
        "df = df.append(cost_sum(5,'even', 50))"
      ],
      "execution_count": 0,
      "outputs": [
        {
          "output_type": "stream",
          "text": [
            "5  features.\n",
            "Accuracy:  0.8296242456815213\n",
            "Features:  ('q_memory_cg', 'q_language_cg', 'moca_orient', 'q_outsideact_pt', 'faq3')\n",
            "Cost Sum:  5.5  Avg:  1.1\n",
            "Cost Time:  5  Avg:  1.0\n",
            "Cost Diff:  6  Avg:  1.2\n"
          ],
          "name": "stdout"
        }
      ]
    },
    {
      "cell_type": "code",
      "metadata": {
        "id": "rQEmK5KHsHju",
        "colab_type": "code",
        "outputId": "01992c87-ef40-4bc9-a517-59f81a3fbbdc",
        "colab": {
          "base_uri": "https://localhost:8080/",
          "height": 119
        }
      },
      "source": [
        "df = df.append(cost_sum(12,'even', 50))"
      ],
      "execution_count": 0,
      "outputs": [
        {
          "output_type": "stream",
          "text": [
            "12  features.\n",
            "Accuracy:  0.8278145570073555\n",
            "Features:  ('q_memory_cg', 'q_language_cg', 'moca_orient', 'q_outsideact_pt', 'MMNAME', 'faq3', 'faq4', 'hach7', 'hach3', 'hach1', 'hach2', 'hach4')\n",
            "Cost Sum:  15.5  Avg:  1.2916666666666667\n",
            "Cost Time:  12  Avg:  1.0\n",
            "Cost Diff:  19  Avg:  1.5833333333333333\n"
          ],
          "name": "stdout"
        }
      ]
    },
    {
      "cell_type": "code",
      "metadata": {
        "id": "rfwx7YWbNTBk",
        "colab_type": "code",
        "colab": {}
      },
      "source": [
        "df.to_csv(f'{dir}/Output/cost_sum.csv', index=False)"
      ],
      "execution_count": 0,
      "outputs": []
    },
    {
      "cell_type": "markdown",
      "metadata": {
        "id": "KhZQ5tgSSVwd",
        "colab_type": "text"
      },
      "source": [
        "#### 30 starting features"
      ]
    },
    {
      "cell_type": "code",
      "metadata": {
        "colab_type": "code",
        "id": "oh2Sv4ORQiQR",
        "colab": {}
      },
      "source": [
        "features = pd.read_csv(f'{dir}/features_paired.csv')\n",
        "features['weight'] = (features['avg_score'] + (features['cost_reverse']))/2\n",
        "features.sort_values('weight', ascending=False, inplace=True)\n",
        "features = features.head(30)"
      ],
      "execution_count": 0,
      "outputs": []
    },
    {
      "cell_type": "code",
      "metadata": {
        "colab_type": "code",
        "id": "MAONrWgHQiQT",
        "colab": {}
      },
      "source": [
        "from sklearn.ensemble import RandomForestClassifier\n",
        "from sklearn.model_selection import cross_val_score, StratifiedKFold\n",
        "\n",
        "cv = StratifiedKFold(n_splits=5)\n",
        "\n",
        "clf = RandomForestClassifier(n_estimators=100, max_features=.5)\n",
        "\n",
        "adni_pair_i_X = adni_pair_X.loc[:,features['feature']]"
      ],
      "execution_count": 0,
      "outputs": []
    },
    {
      "cell_type": "code",
      "metadata": {
        "colab_type": "code",
        "id": "yrtJpw9jQiQX",
        "colab": {}
      },
      "source": [
        "from mlxtend.feature_selection import SequentialFeatureSelector as SFS\n",
        "\n",
        "sfs1 = SFS(clf, \n",
        "           k_features=(30), \n",
        "           forward=True, \n",
        "           floating=False, \n",
        "           verbose=2,\n",
        "           scoring='accuracy',\n",
        "           cv=cv,\n",
        "           n_jobs=-1)\n",
        "\n",
        "sfs1 = sfs1.fit(adni_pair_i_X, adni_pair_y2.values.ravel())"
      ],
      "execution_count": 0,
      "outputs": []
    },
    {
      "cell_type": "code",
      "metadata": {
        "colab_type": "code",
        "id": "20Tw1DQjQiQc",
        "colab": {}
      },
      "source": [
        "f_costs = pd.DataFrame.from_dict(sfs1.subsets_)\n",
        "f_costs = f_costs.transpose()\n",
        "f_costs['feature_idx'] = f_costs['feature_idx'].apply(str).str.replace('(','').str.replace(')','')\n",
        "f_costs.to_csv(f'{dir}/Output/eff_features_paired_even30.csv', index=False)\n",
        "\n"
      ],
      "execution_count": 0,
      "outputs": []
    },
    {
      "cell_type": "code",
      "metadata": {
        "id": "fFAhBfYLIA0h",
        "colab_type": "code",
        "colab": {}
      },
      "source": [
        "dill.dump_session(f'{dir}/Sessions/costs_even30.db')"
      ],
      "execution_count": 0,
      "outputs": []
    },
    {
      "cell_type": "code",
      "metadata": {
        "colab_type": "code",
        "outputId": "2702d38a-b011-4aa2-f8d7-6134111f6341",
        "id": "vCNvF9mhQiQh",
        "colab": {
          "base_uri": "https://localhost:8080/",
          "height": 1000
        }
      },
      "source": [
        "f_costs"
      ],
      "execution_count": 0,
      "outputs": [
        {
          "output_type": "execute_result",
          "data": {
            "text/html": [
              "<div>\n",
              "<style scoped>\n",
              "    .dataframe tbody tr th:only-of-type {\n",
              "        vertical-align: middle;\n",
              "    }\n",
              "\n",
              "    .dataframe tbody tr th {\n",
              "        vertical-align: top;\n",
              "    }\n",
              "\n",
              "    .dataframe thead th {\n",
              "        text-align: right;\n",
              "    }\n",
              "</style>\n",
              "<table border=\"1\" class=\"dataframe\">\n",
              "  <thead>\n",
              "    <tr style=\"text-align: right;\">\n",
              "      <th></th>\n",
              "      <th>avg_score</th>\n",
              "      <th>cv_scores</th>\n",
              "      <th>feature_idx</th>\n",
              "      <th>feature_names</th>\n",
              "    </tr>\n",
              "  </thead>\n",
              "  <tbody>\n",
              "    <tr>\n",
              "      <th>1</th>\n",
              "      <td>0.803048</td>\n",
              "      <td>[0.8721461187214612, 0.730593607305936, 0.8401...</td>\n",
              "      <td>0,</td>\n",
              "      <td>(q_memory_cg,)</td>\n",
              "    </tr>\n",
              "    <tr>\n",
              "      <th>2</th>\n",
              "      <td>0.814966</td>\n",
              "      <td>[0.8812785388127854, 0.7442922374429224, 0.844...</td>\n",
              "      <td>0, 13</td>\n",
              "      <td>(q_memory_cg, moca_orient)</td>\n",
              "    </tr>\n",
              "    <tr>\n",
              "      <th>3</th>\n",
              "      <td>0.819549</td>\n",
              "      <td>[0.8812785388127854, 0.7488584474885844, 0.849...</td>\n",
              "      <td>0, 11, 13</td>\n",
              "      <td>(q_memory_cg, q_outsideact_pt, moca_orient)</td>\n",
              "    </tr>\n",
              "    <tr>\n",
              "      <th>4</th>\n",
              "      <td>0.824132</td>\n",
              "      <td>[0.8767123287671232, 0.7579908675799086, 0.858...</td>\n",
              "      <td>0, 3, 11, 13</td>\n",
              "      <td>(q_memory_cg, q_language_cg, q_outsideact_pt, ...</td>\n",
              "    </tr>\n",
              "    <tr>\n",
              "      <th>5</th>\n",
              "      <td>0.825963</td>\n",
              "      <td>[0.8767123287671232, 0.7625570776255708, 0.858...</td>\n",
              "      <td>0, 3, 11, 13, 28</td>\n",
              "      <td>(q_memory_cg, q_language_cg, q_outsideact_pt, ...</td>\n",
              "    </tr>\n",
              "    <tr>\n",
              "      <th>6</th>\n",
              "      <td>0.825963</td>\n",
              "      <td>[0.8767123287671232, 0.7625570776255708, 0.858...</td>\n",
              "      <td>0, 3, 9, 11, 13, 28</td>\n",
              "      <td>(q_memory_cg, q_language_cg, MMNAME, q_outside...</td>\n",
              "    </tr>\n",
              "    <tr>\n",
              "      <th>7</th>\n",
              "      <td>0.825963</td>\n",
              "      <td>[0.8767123287671232, 0.7625570776255708, 0.858...</td>\n",
              "      <td>0, 3, 9, 11, 13, 17, 28</td>\n",
              "      <td>(q_memory_cg, q_language_cg, MMNAME, q_outside...</td>\n",
              "    </tr>\n",
              "    <tr>\n",
              "      <th>8</th>\n",
              "      <td>0.82231</td>\n",
              "      <td>[0.863013698630137, 0.7625570776255708, 0.8538...</td>\n",
              "      <td>0, 3, 7, 9, 11, 13, 17, 28</td>\n",
              "      <td>(q_memory_cg, q_language_cg, q_orient_cg, MMNA...</td>\n",
              "    </tr>\n",
              "    <tr>\n",
              "      <th>9</th>\n",
              "      <td>0.821409</td>\n",
              "      <td>[0.8493150684931506, 0.7442922374429224, 0.863...</td>\n",
              "      <td>0, 2, 3, 7, 9, 11, 13, 17, 28</td>\n",
              "      <td>(q_memory_cg, q_memory_pt, q_language_cg, q_or...</td>\n",
              "    </tr>\n",
              "    <tr>\n",
              "      <th>10</th>\n",
              "      <td>0.816826</td>\n",
              "      <td>[0.8447488584474886, 0.7488584474885844, 0.858...</td>\n",
              "      <td>0, 2, 3, 7, 9, 11, 13, 17, 24, 28</td>\n",
              "      <td>(q_memory_cg, q_memory_pt, q_language_cg, q_or...</td>\n",
              "    </tr>\n",
              "    <tr>\n",
              "      <th>11</th>\n",
              "      <td>0.815905</td>\n",
              "      <td>[0.8447488584474886, 0.7351598173515982, 0.867...</td>\n",
              "      <td>0, 2, 3, 7, 9, 10, 11, 13, 17, 24, 28</td>\n",
              "      <td>(q_memory_cg, q_memory_pt, q_language_cg, q_or...</td>\n",
              "    </tr>\n",
              "    <tr>\n",
              "      <th>12</th>\n",
              "      <td>0.820517</td>\n",
              "      <td>[0.8401826484018264, 0.7579908675799086, 0.844...</td>\n",
              "      <td>0, 2, 3, 7, 9, 10, 11, 13, 17, 24, 27, 28</td>\n",
              "      <td>(q_memory_cg, q_memory_pt, q_language_cg, q_or...</td>\n",
              "    </tr>\n",
              "    <tr>\n",
              "      <th>13</th>\n",
              "      <td>0.825071</td>\n",
              "      <td>[0.8356164383561644, 0.7853881278538812, 0.863...</td>\n",
              "      <td>0, 2, 3, 7, 9, 10, 11, 13, 17, 23, 24, 27, 28</td>\n",
              "      <td>(q_memory_cg, q_memory_pt, q_language_cg, q_or...</td>\n",
              "    </tr>\n",
              "    <tr>\n",
              "      <th>14</th>\n",
              "      <td>0.821422</td>\n",
              "      <td>[0.821917808219178, 0.7899543378995434, 0.8493...</td>\n",
              "      <td>0, 2, 3, 7, 8, 9, 10, 11, 13, 17, 23, 24, 27, 28</td>\n",
              "      <td>(q_memory_cg, q_memory_pt, q_language_cg, q_or...</td>\n",
              "    </tr>\n",
              "    <tr>\n",
              "      <th>15</th>\n",
              "      <td>0.823269</td>\n",
              "      <td>[0.8584474885844748, 0.7534246575342466, 0.844...</td>\n",
              "      <td>0, 2, 3, 7, 8, 9, 10, 11, 13, 17, 23, 24, 26, ...</td>\n",
              "      <td>(q_memory_cg, q_memory_pt, q_language_cg, q_or...</td>\n",
              "    </tr>\n",
              "    <tr>\n",
              "      <th>16</th>\n",
              "      <td>0.82691</td>\n",
              "      <td>[0.8538812785388128, 0.7579908675799086, 0.872...</td>\n",
              "      <td>0, 2, 3, 7, 8, 9, 10, 11, 12, 13, 17, 23, 24, ...</td>\n",
              "      <td>(q_memory_cg, q_memory_pt, q_language_cg, q_or...</td>\n",
              "    </tr>\n",
              "    <tr>\n",
              "      <th>17</th>\n",
              "      <td>0.833298</td>\n",
              "      <td>[0.863013698630137, 0.771689497716895, 0.87214...</td>\n",
              "      <td>0, 2, 3, 7, 8, 9, 10, 11, 12, 13, 17, 23, 24, ...</td>\n",
              "      <td>(q_memory_cg, q_memory_pt, q_language_cg, q_or...</td>\n",
              "    </tr>\n",
              "    <tr>\n",
              "      <th>18</th>\n",
              "      <td>0.839746</td>\n",
              "      <td>[0.8721461187214612, 0.7625570776255708, 0.872...</td>\n",
              "      <td>0, 1, 2, 3, 7, 8, 9, 10, 11, 12, 13, 17, 23, 2...</td>\n",
              "      <td>(q_memory_cg, q_attention_cg, q_memory_pt, q_l...</td>\n",
              "    </tr>\n",
              "    <tr>\n",
              "      <th>19</th>\n",
              "      <td>0.842485</td>\n",
              "      <td>[0.8721461187214612, 0.7899543378995434, 0.863...</td>\n",
              "      <td>0, 1, 2, 3, 4, 7, 8, 9, 10, 11, 12, 13, 17, 23...</td>\n",
              "      <td>(q_memory_cg, q_attention_cg, q_memory_pt, q_l...</td>\n",
              "    </tr>\n",
              "    <tr>\n",
              "      <th>20</th>\n",
              "      <td>0.844312</td>\n",
              "      <td>[0.8812785388127854, 0.7899543378995434, 0.853...</td>\n",
              "      <td>0, 1, 2, 3, 4, 6, 7, 8, 9, 10, 11, 12, 13, 17,...</td>\n",
              "      <td>(q_memory_cg, q_attention_cg, q_memory_pt, q_l...</td>\n",
              "    </tr>\n",
              "    <tr>\n",
              "      <th>21</th>\n",
              "      <td>0.843411</td>\n",
              "      <td>[0.8812785388127854, 0.771689497716895, 0.8675...</td>\n",
              "      <td>0, 1, 2, 3, 4, 5, 6, 7, 8, 9, 10, 11, 12, 13, ...</td>\n",
              "      <td>(q_memory_cg, q_attention_cg, q_memory_pt, q_l...</td>\n",
              "    </tr>\n",
              "    <tr>\n",
              "      <th>22</th>\n",
              "      <td>0.842498</td>\n",
              "      <td>[0.8721461187214612, 0.776255707762557, 0.8630...</td>\n",
              "      <td>0, 1, 2, 3, 4, 5, 6, 7, 8, 9, 10, 11, 12, 13, ...</td>\n",
              "      <td>(q_memory_cg, q_attention_cg, q_memory_pt, q_l...</td>\n",
              "    </tr>\n",
              "    <tr>\n",
              "      <th>23</th>\n",
              "      <td>0.843373</td>\n",
              "      <td>[0.8904109589041096, 0.776255707762557, 0.8767...</td>\n",
              "      <td>0, 1, 2, 3, 4, 5, 6, 7, 8, 9, 10, 11, 12, 13, ...</td>\n",
              "      <td>(q_memory_cg, q_attention_cg, q_memory_pt, q_l...</td>\n",
              "    </tr>\n",
              "    <tr>\n",
              "      <th>24</th>\n",
              "      <td>0.839725</td>\n",
              "      <td>[0.8721461187214612, 0.771689497716895, 0.8767...</td>\n",
              "      <td>0, 1, 2, 3, 4, 5, 6, 7, 8, 9, 10, 11, 12, 13, ...</td>\n",
              "      <td>(q_memory_cg, q_attention_cg, q_memory_pt, q_l...</td>\n",
              "    </tr>\n",
              "    <tr>\n",
              "      <th>25</th>\n",
              "      <td>0.838803</td>\n",
              "      <td>[0.8858447488584474, 0.7579908675799086, 0.881...</td>\n",
              "      <td>0, 1, 2, 3, 4, 5, 6, 7, 8, 9, 10, 11, 12, 13, ...</td>\n",
              "      <td>(q_memory_cg, q_attention_cg, q_memory_pt, q_l...</td>\n",
              "    </tr>\n",
              "    <tr>\n",
              "      <th>26</th>\n",
              "      <td>0.844299</td>\n",
              "      <td>[0.8904109589041096, 0.7671232876712328, 0.876...</td>\n",
              "      <td>0, 1, 2, 3, 4, 5, 6, 7, 8, 9, 10, 11, 12, 13, ...</td>\n",
              "      <td>(q_memory_cg, q_attention_cg, q_memory_pt, q_l...</td>\n",
              "    </tr>\n",
              "    <tr>\n",
              "      <th>27</th>\n",
              "      <td>0.840634</td>\n",
              "      <td>[0.8858447488584474, 0.7671232876712328, 0.872...</td>\n",
              "      <td>0, 1, 2, 3, 4, 5, 6, 7, 8, 9, 10, 11, 12, 13, ...</td>\n",
              "      <td>(q_memory_cg, q_attention_cg, q_memory_pt, q_l...</td>\n",
              "    </tr>\n",
              "    <tr>\n",
              "      <th>28</th>\n",
              "      <td>0.836088</td>\n",
              "      <td>[0.8904109589041096, 0.7579908675799086, 0.853...</td>\n",
              "      <td>0, 1, 2, 3, 4, 5, 6, 7, 8, 9, 10, 11, 12, 13, ...</td>\n",
              "      <td>(q_memory_cg, q_attention_cg, q_memory_pt, q_l...</td>\n",
              "    </tr>\n",
              "    <tr>\n",
              "      <th>29</th>\n",
              "      <td>0.833298</td>\n",
              "      <td>[0.8858447488584474, 0.7625570776255708, 0.858...</td>\n",
              "      <td>0, 1, 2, 3, 4, 5, 6, 7, 8, 9, 10, 11, 12, 13, ...</td>\n",
              "      <td>(q_memory_cg, q_attention_cg, q_memory_pt, q_l...</td>\n",
              "    </tr>\n",
              "    <tr>\n",
              "      <th>30</th>\n",
              "      <td>0.829629</td>\n",
              "      <td>[0.8767123287671232, 0.771689497716895, 0.8675...</td>\n",
              "      <td>0, 1, 2, 3, 4, 5, 6, 7, 8, 9, 10, 11, 12, 13, ...</td>\n",
              "      <td>(q_memory_cg, q_attention_cg, q_memory_pt, q_l...</td>\n",
              "    </tr>\n",
              "  </tbody>\n",
              "</table>\n",
              "</div>"
            ],
            "text/plain": [
              "   avg_score  ...                                      feature_names\n",
              "1   0.803048  ...                                     (q_memory_cg,)\n",
              "2   0.814966  ...                         (q_memory_cg, moca_orient)\n",
              "3   0.819549  ...        (q_memory_cg, q_outsideact_pt, moca_orient)\n",
              "4   0.824132  ...  (q_memory_cg, q_language_cg, q_outsideact_pt, ...\n",
              "5   0.825963  ...  (q_memory_cg, q_language_cg, q_outsideact_pt, ...\n",
              "6   0.825963  ...  (q_memory_cg, q_language_cg, MMNAME, q_outside...\n",
              "7   0.825963  ...  (q_memory_cg, q_language_cg, MMNAME, q_outside...\n",
              "8    0.82231  ...  (q_memory_cg, q_language_cg, q_orient_cg, MMNA...\n",
              "9   0.821409  ...  (q_memory_cg, q_memory_pt, q_language_cg, q_or...\n",
              "10  0.816826  ...  (q_memory_cg, q_memory_pt, q_language_cg, q_or...\n",
              "11  0.815905  ...  (q_memory_cg, q_memory_pt, q_language_cg, q_or...\n",
              "12  0.820517  ...  (q_memory_cg, q_memory_pt, q_language_cg, q_or...\n",
              "13  0.825071  ...  (q_memory_cg, q_memory_pt, q_language_cg, q_or...\n",
              "14  0.821422  ...  (q_memory_cg, q_memory_pt, q_language_cg, q_or...\n",
              "15  0.823269  ...  (q_memory_cg, q_memory_pt, q_language_cg, q_or...\n",
              "16   0.82691  ...  (q_memory_cg, q_memory_pt, q_language_cg, q_or...\n",
              "17  0.833298  ...  (q_memory_cg, q_memory_pt, q_language_cg, q_or...\n",
              "18  0.839746  ...  (q_memory_cg, q_attention_cg, q_memory_pt, q_l...\n",
              "19  0.842485  ...  (q_memory_cg, q_attention_cg, q_memory_pt, q_l...\n",
              "20  0.844312  ...  (q_memory_cg, q_attention_cg, q_memory_pt, q_l...\n",
              "21  0.843411  ...  (q_memory_cg, q_attention_cg, q_memory_pt, q_l...\n",
              "22  0.842498  ...  (q_memory_cg, q_attention_cg, q_memory_pt, q_l...\n",
              "23  0.843373  ...  (q_memory_cg, q_attention_cg, q_memory_pt, q_l...\n",
              "24  0.839725  ...  (q_memory_cg, q_attention_cg, q_memory_pt, q_l...\n",
              "25  0.838803  ...  (q_memory_cg, q_attention_cg, q_memory_pt, q_l...\n",
              "26  0.844299  ...  (q_memory_cg, q_attention_cg, q_memory_pt, q_l...\n",
              "27  0.840634  ...  (q_memory_cg, q_attention_cg, q_memory_pt, q_l...\n",
              "28  0.836088  ...  (q_memory_cg, q_attention_cg, q_memory_pt, q_l...\n",
              "29  0.833298  ...  (q_memory_cg, q_attention_cg, q_memory_pt, q_l...\n",
              "30  0.829629  ...  (q_memory_cg, q_attention_cg, q_memory_pt, q_l...\n",
              "\n",
              "[30 rows x 4 columns]"
            ]
          },
          "metadata": {
            "tags": []
          },
          "execution_count": 21
        }
      ]
    },
    {
      "cell_type": "markdown",
      "metadata": {
        "colab_type": "text",
        "id": "LUlGeREvQiQl"
      },
      "source": [
        "#### Cost Sums"
      ]
    },
    {
      "cell_type": "code",
      "metadata": {
        "id": "mPhZ200AIyE2",
        "colab_type": "code",
        "colab": {}
      },
      "source": [
        "dill.load_session(f'{dir}/Sessions/costs_even30.db')\n",
        "df = pd.read_csv(f'{dir}/Output/cost_sum.csv')"
      ],
      "execution_count": 0,
      "outputs": []
    },
    {
      "cell_type": "code",
      "metadata": {
        "colab_type": "code",
        "outputId": "10a72372-ac2a-43d2-e92e-369f77fcc415",
        "id": "SVBxKebEQiQl",
        "colab": {
          "base_uri": "https://localhost:8080/",
          "height": 119
        }
      },
      "source": [
        "df = df.append(cost_sum(5,'even', 30))"
      ],
      "execution_count": 0,
      "outputs": [
        {
          "output_type": "stream",
          "text": [
            "5  features.\n",
            "Accuracy:  0.8259628606679488\n",
            "Features:  ('q_memory_cg', 'q_language_cg', 'q_outsideact_pt', 'moca_orient', 'faq8')\n",
            "Cost Sum:  5.5  Avg:  1.1\n",
            "Cost Time:  5  Avg:  1.0\n",
            "Cost Diff:  6  Avg:  1.2\n"
          ],
          "name": "stdout"
        }
      ]
    },
    {
      "cell_type": "code",
      "metadata": {
        "id": "vt1yhu2nttL_",
        "colab_type": "code",
        "outputId": "34cd65a7-68c1-42f5-eb02-c9f3837be0da",
        "colab": {
          "base_uri": "https://localhost:8080/",
          "height": 119
        }
      },
      "source": [
        "df = df.append(cost_sum(6,'even', 30))"
      ],
      "execution_count": 0,
      "outputs": [
        {
          "output_type": "stream",
          "text": [
            "6  features.\n",
            "Accuracy:  0.8259628606679488\n",
            "Features:  ('q_memory_cg', 'q_language_cg', 'MMNAME', 'q_outsideact_pt', 'moca_orient', 'faq8')\n",
            "Cost Sum:  6.5  Avg:  1.0833333333333333\n",
            "Cost Time:  6  Avg:  1.0\n",
            "Cost Diff:  7  Avg:  1.1666666666666667\n"
          ],
          "name": "stdout"
        }
      ]
    },
    {
      "cell_type": "code",
      "metadata": {
        "id": "iaRaJzRBPnCo",
        "colab_type": "code",
        "outputId": "455388a7-2491-4f00-e7dc-abe4cb909d06",
        "colab": {
          "base_uri": "https://localhost:8080/",
          "height": 119
        }
      },
      "source": [
        "df = df.append(cost_sum(7,'even', 30))"
      ],
      "execution_count": 0,
      "outputs": [
        {
          "output_type": "stream",
          "text": [
            "7  features.\n",
            "Accuracy:  0.8259628606679488\n",
            "Features:  ('q_memory_cg', 'q_language_cg', 'MMNAME', 'q_outsideact_pt', 'moca_orient', 'PTHAND', 'faq8')\n",
            "Cost Sum:  7.5  Avg:  1.0714285714285714\n",
            "Cost Time:  7  Avg:  1.0\n",
            "Cost Diff:  8  Avg:  1.1428571428571428\n"
          ],
          "name": "stdout"
        }
      ]
    },
    {
      "cell_type": "code",
      "metadata": {
        "id": "ObVVeD1wWrV9",
        "colab_type": "code",
        "outputId": "3c654856-1e5e-4094-fee0-3c62e71cfdcc",
        "colab": {
          "base_uri": "https://localhost:8080/",
          "height": 119
        }
      },
      "source": [
        "df = df.append(cost_sum(8,'even', 30))"
      ],
      "execution_count": 0,
      "outputs": [
        {
          "output_type": "stream",
          "text": [
            "8  features.\n",
            "Accuracy:  0.8223098926314194\n",
            "Features:  ('q_memory_cg', 'q_language_cg', 'q_orient_cg', 'MMNAME', 'q_outsideact_pt', 'moca_orient', 'PTHAND', 'faq8')\n",
            "Cost Sum:  8.5  Avg:  1.0625\n",
            "Cost Time:  8  Avg:  1.0\n",
            "Cost Diff:  9  Avg:  1.125\n"
          ],
          "name": "stdout"
        }
      ]
    },
    {
      "cell_type": "code",
      "metadata": {
        "id": "63Ne4OScNaBI",
        "colab_type": "code",
        "colab": {}
      },
      "source": [
        "df.to_csv(f'{dir}/Output/cost_sum.csv', index=False)"
      ],
      "execution_count": 0,
      "outputs": []
    },
    {
      "cell_type": "markdown",
      "metadata": {
        "id": "ufEdBdaLPnZk",
        "colab_type": "text"
      },
      "source": [
        "#### 15 starting features"
      ]
    },
    {
      "cell_type": "code",
      "metadata": {
        "colab_type": "code",
        "id": "iZsoJlKLQj4Y",
        "colab": {}
      },
      "source": [
        "features = pd.read_csv(f'{dir}/features_paired.csv')\n",
        "features['weight'] = (features['avg_score'] + (features['cost_reverse']))/2\n",
        "features.sort_values('weight', ascending=False, inplace=True)\n",
        "features = features.head(15)"
      ],
      "execution_count": 0,
      "outputs": []
    },
    {
      "cell_type": "code",
      "metadata": {
        "colab_type": "code",
        "id": "cvD9UnkDQj4a",
        "colab": {}
      },
      "source": [
        "from sklearn.ensemble import RandomForestClassifier\n",
        "from sklearn.model_selection import cross_val_score, StratifiedKFold\n",
        "\n",
        "cv = StratifiedKFold(n_splits=5)\n",
        "\n",
        "clf = RandomForestClassifier(n_estimators=100, max_features=.5)\n",
        "\n",
        "adni_pair_i_X = adni_pair_X.loc[:,features['feature']]"
      ],
      "execution_count": 0,
      "outputs": []
    },
    {
      "cell_type": "code",
      "metadata": {
        "colab_type": "code",
        "id": "ETBquV0CQj4b",
        "colab": {}
      },
      "source": [
        "from mlxtend.feature_selection import SequentialFeatureSelector as SFS\n",
        "\n",
        "sfs1 = SFS(clf, \n",
        "           k_features=(15), \n",
        "           forward=True, \n",
        "           floating=False, \n",
        "           verbose=2,\n",
        "           scoring='accuracy',\n",
        "           cv=cv,\n",
        "           n_jobs=-1)\n",
        "\n",
        "sfs1 = sfs1.fit(adni_pair_i_X, adni_pair_y2.values.ravel())"
      ],
      "execution_count": 0,
      "outputs": []
    },
    {
      "cell_type": "code",
      "metadata": {
        "colab_type": "code",
        "id": "mx-YGg8pQj4d",
        "colab": {}
      },
      "source": [
        "f_costs = pd.DataFrame.from_dict(sfs1.subsets_)\n",
        "f_costs = f_costs.transpose()\n",
        "f_costs['feature_idx'] = f_costs['feature_idx'].apply(str).str.replace('(','').str.replace(')','')\n",
        "f_costs.to_csv(f'{dir}/Output/eff_features_paired_even15.csv', index=False)\n",
        "\n"
      ],
      "execution_count": 0,
      "outputs": []
    },
    {
      "cell_type": "code",
      "metadata": {
        "id": "ZUbYquRgIDEj",
        "colab_type": "code",
        "colab": {}
      },
      "source": [
        "dill.dump_session(f'{dir}/Sessions/costs_even15.db')"
      ],
      "execution_count": 0,
      "outputs": []
    },
    {
      "cell_type": "code",
      "metadata": {
        "colab_type": "code",
        "outputId": "99c542e2-caa0-41d8-fc82-8724a9399789",
        "id": "ZGZnF6mRQj4e",
        "colab": {
          "base_uri": "https://localhost:8080/",
          "height": 757
        }
      },
      "source": [
        "f_costs"
      ],
      "execution_count": 0,
      "outputs": [
        {
          "output_type": "execute_result",
          "data": {
            "text/html": [
              "<div>\n",
              "<style scoped>\n",
              "    .dataframe tbody tr th:only-of-type {\n",
              "        vertical-align: middle;\n",
              "    }\n",
              "\n",
              "    .dataframe tbody tr th {\n",
              "        vertical-align: top;\n",
              "    }\n",
              "\n",
              "    .dataframe thead th {\n",
              "        text-align: right;\n",
              "    }\n",
              "</style>\n",
              "<table border=\"1\" class=\"dataframe\">\n",
              "  <thead>\n",
              "    <tr style=\"text-align: right;\">\n",
              "      <th></th>\n",
              "      <th>avg_score</th>\n",
              "      <th>cv_scores</th>\n",
              "      <th>feature_idx</th>\n",
              "      <th>feature_names</th>\n",
              "    </tr>\n",
              "  </thead>\n",
              "  <tbody>\n",
              "    <tr>\n",
              "      <th>1</th>\n",
              "      <td>0.803048</td>\n",
              "      <td>[0.8721461187214612, 0.730593607305936, 0.8401...</td>\n",
              "      <td>0,</td>\n",
              "      <td>(q_memory_cg,)</td>\n",
              "    </tr>\n",
              "    <tr>\n",
              "      <th>2</th>\n",
              "      <td>0.814966</td>\n",
              "      <td>[0.8812785388127854, 0.7442922374429224, 0.844...</td>\n",
              "      <td>0, 10</td>\n",
              "      <td>(q_memory_cg, moca_orient)</td>\n",
              "    </tr>\n",
              "    <tr>\n",
              "      <th>3</th>\n",
              "      <td>0.819549</td>\n",
              "      <td>[0.8767123287671232, 0.7534246575342466, 0.853...</td>\n",
              "      <td>0, 3, 10</td>\n",
              "      <td>(q_memory_cg, q_language_cg, moca_orient)</td>\n",
              "    </tr>\n",
              "    <tr>\n",
              "      <th>4</th>\n",
              "      <td>0.823215</td>\n",
              "      <td>[0.8767123287671232, 0.7579908675799086, 0.858...</td>\n",
              "      <td>0, 3, 10, 12</td>\n",
              "      <td>(q_memory_cg, q_language_cg, moca_orient, q_ou...</td>\n",
              "    </tr>\n",
              "    <tr>\n",
              "      <th>5</th>\n",
              "      <td>0.824132</td>\n",
              "      <td>[0.8767123287671232, 0.7579908675799086, 0.858...</td>\n",
              "      <td>0, 3, 7, 10, 12</td>\n",
              "      <td>(q_memory_cg, q_language_cg, PTHAND, moca_orie...</td>\n",
              "    </tr>\n",
              "    <tr>\n",
              "      <th>6</th>\n",
              "      <td>0.821388</td>\n",
              "      <td>[0.867579908675799, 0.7579908675799086, 0.8584...</td>\n",
              "      <td>0, 3, 7, 10, 12, 14</td>\n",
              "      <td>(q_memory_cg, q_language_cg, PTHAND, moca_orie...</td>\n",
              "    </tr>\n",
              "    <tr>\n",
              "      <th>7</th>\n",
              "      <td>0.819562</td>\n",
              "      <td>[0.867579908675799, 0.7534246575342466, 0.8493...</td>\n",
              "      <td>0, 2, 3, 7, 10, 12, 14</td>\n",
              "      <td>(q_memory_cg, q_memory_pt, q_language_cg, PTHA...</td>\n",
              "    </tr>\n",
              "    <tr>\n",
              "      <th>8</th>\n",
              "      <td>0.825066</td>\n",
              "      <td>[0.863013698630137, 0.7397260273972602, 0.8675...</td>\n",
              "      <td>0, 2, 3, 7, 10, 12, 13, 14</td>\n",
              "      <td>(q_memory_cg, q_memory_pt, q_language_cg, PTHA...</td>\n",
              "    </tr>\n",
              "    <tr>\n",
              "      <th>9</th>\n",
              "      <td>0.81867</td>\n",
              "      <td>[0.8447488584474886, 0.7442922374429224, 0.863...</td>\n",
              "      <td>0, 2, 3, 7, 10, 11, 12, 13, 14</td>\n",
              "      <td>(q_memory_cg, q_memory_pt, q_language_cg, PTHA...</td>\n",
              "    </tr>\n",
              "    <tr>\n",
              "      <th>10</th>\n",
              "      <td>0.819591</td>\n",
              "      <td>[0.8584474885844748, 0.7442922374429224, 0.849...</td>\n",
              "      <td>0, 2, 3, 5, 7, 10, 11, 12, 13, 14</td>\n",
              "      <td>(q_memory_cg, q_memory_pt, q_language_cg, moca...</td>\n",
              "    </tr>\n",
              "    <tr>\n",
              "      <th>11</th>\n",
              "      <td>0.815</td>\n",
              "      <td>[0.863013698630137, 0.7579908675799086, 0.8219...</td>\n",
              "      <td>0, 2, 3, 4, 5, 7, 10, 11, 12, 13, 14</td>\n",
              "      <td>(q_memory_cg, q_memory_pt, q_language_cg, FAMH...</td>\n",
              "    </tr>\n",
              "    <tr>\n",
              "      <th>12</th>\n",
              "      <td>0.823274</td>\n",
              "      <td>[0.8493150684931506, 0.776255707762557, 0.8356...</td>\n",
              "      <td>0, 2, 3, 4, 5, 7, 8, 10, 11, 12, 13, 14</td>\n",
              "      <td>(q_memory_cg, q_memory_pt, q_language_cg, FAMH...</td>\n",
              "    </tr>\n",
              "    <tr>\n",
              "      <th>13</th>\n",
              "      <td>0.811368</td>\n",
              "      <td>[0.8447488584474886, 0.7488584474885844, 0.826...</td>\n",
              "      <td>0, 2, 3, 4, 5, 7, 8, 9, 10, 11, 12, 13, 14</td>\n",
              "      <td>(q_memory_cg, q_memory_pt, q_language_cg, FAMH...</td>\n",
              "    </tr>\n",
              "    <tr>\n",
              "      <th>14</th>\n",
              "      <td>0.815038</td>\n",
              "      <td>[0.8447488584474886, 0.7351598173515982, 0.844...</td>\n",
              "      <td>0, 1, 2, 3, 4, 5, 7, 8, 9, 10, 11, 12, 13, 14</td>\n",
              "      <td>(q_memory_cg, q_attention_cg, q_memory_pt, q_l...</td>\n",
              "    </tr>\n",
              "    <tr>\n",
              "      <th>15</th>\n",
              "      <td>0.804916</td>\n",
              "      <td>[0.8447488584474886, 0.7488584474885844, 0.826...</td>\n",
              "      <td>0, 1, 2, 3, 4, 5, 6, 7, 8, 9, 10, 11, 12, 13, 14</td>\n",
              "      <td>(q_memory_cg, q_attention_cg, q_memory_pt, q_l...</td>\n",
              "    </tr>\n",
              "  </tbody>\n",
              "</table>\n",
              "</div>"
            ],
            "text/plain": [
              "   avg_score  ...                                      feature_names\n",
              "1   0.803048  ...                                     (q_memory_cg,)\n",
              "2   0.814966  ...                         (q_memory_cg, moca_orient)\n",
              "3   0.819549  ...          (q_memory_cg, q_language_cg, moca_orient)\n",
              "4   0.823215  ...  (q_memory_cg, q_language_cg, moca_orient, q_ou...\n",
              "5   0.824132  ...  (q_memory_cg, q_language_cg, PTHAND, moca_orie...\n",
              "6   0.821388  ...  (q_memory_cg, q_language_cg, PTHAND, moca_orie...\n",
              "7   0.819562  ...  (q_memory_cg, q_memory_pt, q_language_cg, PTHA...\n",
              "8   0.825066  ...  (q_memory_cg, q_memory_pt, q_language_cg, PTHA...\n",
              "9    0.81867  ...  (q_memory_cg, q_memory_pt, q_language_cg, PTHA...\n",
              "10  0.819591  ...  (q_memory_cg, q_memory_pt, q_language_cg, moca...\n",
              "11     0.815  ...  (q_memory_cg, q_memory_pt, q_language_cg, FAMH...\n",
              "12  0.823274  ...  (q_memory_cg, q_memory_pt, q_language_cg, FAMH...\n",
              "13  0.811368  ...  (q_memory_cg, q_memory_pt, q_language_cg, FAMH...\n",
              "14  0.815038  ...  (q_memory_cg, q_attention_cg, q_memory_pt, q_l...\n",
              "15  0.804916  ...  (q_memory_cg, q_attention_cg, q_memory_pt, q_l...\n",
              "\n",
              "[15 rows x 4 columns]"
            ]
          },
          "metadata": {
            "tags": []
          },
          "execution_count": 27
        }
      ]
    },
    {
      "cell_type": "markdown",
      "metadata": {
        "colab_type": "text",
        "id": "loiuGPcdQj4h"
      },
      "source": [
        "#### Cost Sums"
      ]
    },
    {
      "cell_type": "code",
      "metadata": {
        "id": "LlPznHsYIzfy",
        "colab_type": "code",
        "colab": {}
      },
      "source": [
        "dill.load_session(f'{dir}/Sessions/costs_even15.db')\n",
        "df = pd.read_csv(f'{dir}/Output/cost_sum.csv')"
      ],
      "execution_count": 0,
      "outputs": []
    },
    {
      "cell_type": "code",
      "metadata": {
        "colab_type": "code",
        "outputId": "e6ee0453-b22e-4a8f-9b19-0317977d172c",
        "id": "P1l9lSNnQj4i",
        "colab": {
          "base_uri": "https://localhost:8080/",
          "height": 119
        }
      },
      "source": [
        "df = df.append(cost_sum(5,'even', 15))"
      ],
      "execution_count": 0,
      "outputs": [
        {
          "output_type": "stream",
          "text": [
            "5  features.\n",
            "Accuracy:  0.8241321874661558\n",
            "Features:  ('q_memory_cg', 'q_language_cg', 'PTHAND', 'moca_orient', 'q_outsideact_pt')\n",
            "Cost Sum:  5.0  Avg:  1.0\n",
            "Cost Time:  5  Avg:  1.0\n",
            "Cost Diff:  5  Avg:  1.0\n"
          ],
          "name": "stdout"
        }
      ]
    },
    {
      "cell_type": "code",
      "metadata": {
        "id": "pnHS519Ku_xf",
        "colab_type": "code",
        "outputId": "39fb76e0-b7c0-4fa2-a3e0-253fc5f3ad7d",
        "colab": {
          "base_uri": "https://localhost:8080/",
          "height": 119
        }
      },
      "source": [
        "df = df.append(cost_sum(8,'even', 15))"
      ],
      "execution_count": 0,
      "outputs": [
        {
          "output_type": "stream",
          "text": [
            "8  features.\n",
            "Accuracy:  0.8250663367829425\n",
            "Features:  ('q_memory_cg', 'q_memory_pt', 'q_language_cg', 'PTHAND', 'moca_orient', 'q_outsideact_pt', 'q_judgmt_pt', 'MMNAME')\n",
            "Cost Sum:  8.0  Avg:  1.0\n",
            "Cost Time:  8  Avg:  1.0\n",
            "Cost Diff:  8  Avg:  1.0\n"
          ],
          "name": "stdout"
        }
      ]
    },
    {
      "cell_type": "code",
      "metadata": {
        "id": "Uzu2IqNcPqK5",
        "colab_type": "code",
        "colab": {}
      },
      "source": [
        "df.to_csv(f'{dir}/Output/cost_sum.csv', index=False)"
      ],
      "execution_count": 0,
      "outputs": []
    },
    {
      "cell_type": "markdown",
      "metadata": {
        "colab_type": "text",
        "id": "5IYkhwv1Sxxy"
      },
      "source": [
        "### Importance over cost"
      ]
    },
    {
      "cell_type": "markdown",
      "metadata": {
        "colab_type": "text",
        "id": "Xh6bILIMS112"
      },
      "source": [
        "#### 50 starting features"
      ]
    },
    {
      "cell_type": "code",
      "metadata": {
        "colab_type": "code",
        "id": "hLSN-TpPSxxz",
        "colab": {}
      },
      "source": [
        "features = pd.read_csv(f'{dir}/features_paired.csv')\n",
        "features['weight_x.5'] = (features['avg_score'] + (features['cost_reverse']*.5))/2\n",
        "features.sort_values('weight_x.5', ascending=False)\n",
        "features = features.head(50)"
      ],
      "execution_count": 0,
      "outputs": []
    },
    {
      "cell_type": "code",
      "metadata": {
        "colab_type": "code",
        "id": "oI1VHBkyS112",
        "colab": {}
      },
      "source": [
        "from sklearn.ensemble import RandomForestClassifier\n",
        "from sklearn.model_selection import cross_val_score, StratifiedKFold\n",
        "\n",
        "cv = StratifiedKFold(n_splits=5)\n",
        "\n",
        "clf = RandomForestClassifier(n_estimators=100, max_features=.5)\n",
        "\n",
        "adni_pair_i_X = adni_pair_X.loc[:,features['feature']]"
      ],
      "execution_count": 0,
      "outputs": []
    },
    {
      "cell_type": "code",
      "metadata": {
        "colab_type": "code",
        "id": "jBX0tuoXS114",
        "colab": {}
      },
      "source": [
        "from mlxtend.feature_selection import SequentialFeatureSelector as SFS\n",
        "\n",
        "sfs1 = SFS(clf, \n",
        "           k_features=(30), \n",
        "           forward=True, \n",
        "           floating=False, \n",
        "           verbose=2,\n",
        "           scoring='accuracy',\n",
        "           cv=cv,\n",
        "           n_jobs=-1)\n",
        "\n",
        "sfs1 = sfs1.fit(adni_pair_i_X, adni_pair_y2.values.ravel())"
      ],
      "execution_count": 0,
      "outputs": []
    },
    {
      "cell_type": "code",
      "metadata": {
        "colab_type": "code",
        "id": "Tx6WmqiQoX6T",
        "colab": {}
      },
      "source": [
        "f_costs = pd.DataFrame.from_dict(sfs1.subsets_)\n",
        "f_costs = f_costs.transpose()\n",
        "f_costs['feature_idx'] = f_costs['feature_idx'].apply(str).str.replace('(','').str.replace(')','')\n",
        "f_costs.to_csv(f'{dir}/Output/eff_features_paired_importweight_50.csv', index=False)\n"
      ],
      "execution_count": 0,
      "outputs": []
    },
    {
      "cell_type": "code",
      "metadata": {
        "id": "YogjLbnrIEst",
        "colab_type": "code",
        "colab": {}
      },
      "source": [
        "dill.dump_session(f'{dir}/Sessions/costs_importweight50.db')"
      ],
      "execution_count": 0,
      "outputs": []
    },
    {
      "cell_type": "code",
      "metadata": {
        "colab_type": "code",
        "outputId": "09fb6943-1322-461d-ab6d-869258a6de5f",
        "id": "a05ByYsgoX6V",
        "colab": {
          "base_uri": "https://localhost:8080/",
          "height": 1000
        }
      },
      "source": [
        "f_costs"
      ],
      "execution_count": 0,
      "outputs": [
        {
          "output_type": "execute_result",
          "data": {
            "text/html": [
              "<div>\n",
              "<style scoped>\n",
              "    .dataframe tbody tr th:only-of-type {\n",
              "        vertical-align: middle;\n",
              "    }\n",
              "\n",
              "    .dataframe tbody tr th {\n",
              "        vertical-align: top;\n",
              "    }\n",
              "\n",
              "    .dataframe thead th {\n",
              "        text-align: right;\n",
              "    }\n",
              "</style>\n",
              "<table border=\"1\" class=\"dataframe\">\n",
              "  <thead>\n",
              "    <tr style=\"text-align: right;\">\n",
              "      <th></th>\n",
              "      <th>avg_score</th>\n",
              "      <th>cv_scores</th>\n",
              "      <th>feature_idx</th>\n",
              "      <th>feature_names</th>\n",
              "    </tr>\n",
              "  </thead>\n",
              "  <tbody>\n",
              "    <tr>\n",
              "      <th>1</th>\n",
              "      <td>0.803048</td>\n",
              "      <td>[0.8721461187214612, 0.730593607305936, 0.8401...</td>\n",
              "      <td>0,</td>\n",
              "      <td>(q_memory_cg,)</td>\n",
              "    </tr>\n",
              "    <tr>\n",
              "      <th>2</th>\n",
              "      <td>0.809432</td>\n",
              "      <td>[0.8767123287671232, 0.7534246575342466, 0.840...</td>\n",
              "      <td>0, 3</td>\n",
              "      <td>(q_memory_cg, q_memory_pt)</td>\n",
              "    </tr>\n",
              "    <tr>\n",
              "      <th>3</th>\n",
              "      <td>0.809432</td>\n",
              "      <td>[0.8767123287671232, 0.7534246575342466, 0.840...</td>\n",
              "      <td>0, 3, 15</td>\n",
              "      <td>(q_memory_cg, q_memory_pt, npi1_sev)</td>\n",
              "    </tr>\n",
              "    <tr>\n",
              "      <th>4</th>\n",
              "      <td>0.809432</td>\n",
              "      <td>[0.8767123287671232, 0.7534246575342466, 0.840...</td>\n",
              "      <td>0, 3, 15, 17</td>\n",
              "      <td>(q_memory_cg, q_memory_pt, npi1_sev, npi2_sev)</td>\n",
              "    </tr>\n",
              "    <tr>\n",
              "      <th>5</th>\n",
              "      <td>0.807605</td>\n",
              "      <td>[0.867579908675799, 0.7534246575342466, 0.8401...</td>\n",
              "      <td>0, 3, 15, 17, 21</td>\n",
              "      <td>(q_memory_cg, q_memory_pt, npi1_sev, npi2_sev,...</td>\n",
              "    </tr>\n",
              "    <tr>\n",
              "      <th>6</th>\n",
              "      <td>0.807605</td>\n",
              "      <td>[0.867579908675799, 0.7534246575342466, 0.8401...</td>\n",
              "      <td>0, 3, 15, 17, 21, 36</td>\n",
              "      <td>(q_memory_cg, q_memory_pt, npi1_sev, npi2_sev,...</td>\n",
              "    </tr>\n",
              "    <tr>\n",
              "      <th>7</th>\n",
              "      <td>0.807605</td>\n",
              "      <td>[0.867579908675799, 0.7534246575342466, 0.8401...</td>\n",
              "      <td>0, 3, 15, 17, 21, 36, 45</td>\n",
              "      <td>(q_memory_cg, q_memory_pt, npi1_sev, npi2_sev,...</td>\n",
              "    </tr>\n",
              "    <tr>\n",
              "      <th>8</th>\n",
              "      <td>0.810379</td>\n",
              "      <td>[0.863013698630137, 0.7442922374429224, 0.8538...</td>\n",
              "      <td>0, 1, 3, 15, 17, 21, 36, 45</td>\n",
              "      <td>(q_memory_cg, q_attention_cg, q_memory_pt, npi...</td>\n",
              "    </tr>\n",
              "    <tr>\n",
              "      <th>9</th>\n",
              "      <td>0.814937</td>\n",
              "      <td>[0.8721461187214612, 0.7671232876712328, 0.844...</td>\n",
              "      <td>0, 1, 3, 15, 17, 21, 28, 36, 45</td>\n",
              "      <td>(q_memory_cg, q_attention_cg, q_memory_pt, npi...</td>\n",
              "    </tr>\n",
              "    <tr>\n",
              "      <th>10</th>\n",
              "      <td>0.818594</td>\n",
              "      <td>[0.8721461187214612, 0.7808219178082192, 0.849...</td>\n",
              "      <td>0, 1, 3, 15, 17, 21, 28, 36, 44, 45</td>\n",
              "      <td>(q_memory_cg, q_attention_cg, q_memory_pt, npi...</td>\n",
              "    </tr>\n",
              "    <tr>\n",
              "      <th>11</th>\n",
              "      <td>0.81859</td>\n",
              "      <td>[0.867579908675799, 0.7853881278538812, 0.8493...</td>\n",
              "      <td>0, 1, 3, 15, 17, 21, 27, 28, 36, 44, 45</td>\n",
              "      <td>(q_memory_cg, q_attention_cg, q_memory_pt, npi...</td>\n",
              "    </tr>\n",
              "    <tr>\n",
              "      <th>12</th>\n",
              "      <td>0.815841</td>\n",
              "      <td>[0.8721461187214612, 0.771689497716895, 0.8493...</td>\n",
              "      <td>0, 1, 3, 15, 17, 21, 27, 28, 34, 36, 44, 45</td>\n",
              "      <td>(q_memory_cg, q_attention_cg, q_memory_pt, npi...</td>\n",
              "    </tr>\n",
              "    <tr>\n",
              "      <th>13</th>\n",
              "      <td>0.815863</td>\n",
              "      <td>[0.8767123287671232, 0.7671232876712328, 0.835...</td>\n",
              "      <td>0, 1, 3, 15, 17, 21, 24, 27, 28, 34, 36, 44, 45</td>\n",
              "      <td>(q_memory_cg, q_attention_cg, q_memory_pt, npi...</td>\n",
              "    </tr>\n",
              "    <tr>\n",
              "      <th>14</th>\n",
              "      <td>0.814015</td>\n",
              "      <td>[0.8721461187214612, 0.7671232876712328, 0.840...</td>\n",
              "      <td>0, 1, 3, 15, 17, 21, 24, 27, 28, 34, 35, 36, 4...</td>\n",
              "      <td>(q_memory_cg, q_attention_cg, q_memory_pt, npi...</td>\n",
              "    </tr>\n",
              "    <tr>\n",
              "      <th>15</th>\n",
              "      <td>0.812184</td>\n",
              "      <td>[0.8721461187214612, 0.7579908675799086, 0.840...</td>\n",
              "      <td>0, 1, 3, 15, 17, 20, 21, 24, 27, 28, 34, 35, 3...</td>\n",
              "      <td>(q_memory_cg, q_attention_cg, q_memory_pt, npi...</td>\n",
              "    </tr>\n",
              "    <tr>\n",
              "      <th>16</th>\n",
              "      <td>0.811296</td>\n",
              "      <td>[0.867579908675799, 0.7534246575342466, 0.8356...</td>\n",
              "      <td>0, 1, 3, 13, 15, 17, 20, 21, 24, 27, 28, 34, 3...</td>\n",
              "      <td>(q_memory_cg, q_attention_cg, q_memory_pt, npi...</td>\n",
              "    </tr>\n",
              "    <tr>\n",
              "      <th>17</th>\n",
              "      <td>0.810421</td>\n",
              "      <td>[0.8721461187214612, 0.726027397260274, 0.8264...</td>\n",
              "      <td>0, 1, 3, 13, 15, 17, 18, 20, 21, 24, 27, 28, 3...</td>\n",
              "      <td>(q_memory_cg, q_attention_cg, q_memory_pt, npi...</td>\n",
              "    </tr>\n",
              "    <tr>\n",
              "      <th>18</th>\n",
              "      <td>0.810421</td>\n",
              "      <td>[0.8721461187214612, 0.7351598173515982, 0.817...</td>\n",
              "      <td>0, 1, 3, 13, 15, 17, 18, 20, 21, 24, 25, 27, 2...</td>\n",
              "      <td>(q_memory_cg, q_attention_cg, q_memory_pt, npi...</td>\n",
              "    </tr>\n",
              "    <tr>\n",
              "      <th>19</th>\n",
              "      <td>0.813169</td>\n",
              "      <td>[0.863013698630137, 0.7488584474885844, 0.8219...</td>\n",
              "      <td>0, 1, 3, 13, 15, 17, 18, 19, 20, 21, 24, 25, 2...</td>\n",
              "      <td>(q_memory_cg, q_attention_cg, q_memory_pt, npi...</td>\n",
              "    </tr>\n",
              "    <tr>\n",
              "      <th>20</th>\n",
              "      <td>0.809503</td>\n",
              "      <td>[0.8767123287671232, 0.726027397260274, 0.8173...</td>\n",
              "      <td>0, 1, 3, 11, 13, 15, 17, 18, 19, 20, 21, 24, 2...</td>\n",
              "      <td>(q_memory_cg, q_attention_cg, q_memory_pt, npi...</td>\n",
              "    </tr>\n",
              "    <tr>\n",
              "      <th>21</th>\n",
              "      <td>0.814996</td>\n",
              "      <td>[0.867579908675799, 0.7488584474885844, 0.8264...</td>\n",
              "      <td>0, 1, 3, 11, 12, 13, 15, 17, 18, 19, 20, 21, 2...</td>\n",
              "      <td>(q_memory_cg, q_attention_cg, q_memory_pt, npi...</td>\n",
              "    </tr>\n",
              "    <tr>\n",
              "      <th>22</th>\n",
              "      <td>0.804929</td>\n",
              "      <td>[0.8584474885844748, 0.7671232876712328, 0.789...</td>\n",
              "      <td>0, 1, 3, 11, 12, 13, 15, 17, 18, 19, 20, 21, 2...</td>\n",
              "      <td>(q_memory_cg, q_attention_cg, q_memory_pt, npi...</td>\n",
              "    </tr>\n",
              "    <tr>\n",
              "      <th>23</th>\n",
              "      <td>0.807694</td>\n",
              "      <td>[0.863013698630137, 0.7534246575342466, 0.7990...</td>\n",
              "      <td>0, 1, 3, 10, 11, 12, 13, 15, 17, 18, 19, 20, 2...</td>\n",
              "      <td>(q_memory_cg, q_attention_cg, q_memory_pt, npi...</td>\n",
              "    </tr>\n",
              "    <tr>\n",
              "      <th>24</th>\n",
              "      <td>0.808561</td>\n",
              "      <td>[0.8949771689497716, 0.7625570776255708, 0.794...</td>\n",
              "      <td>0, 1, 3, 10, 11, 12, 13, 15, 17, 18, 19, 20, 2...</td>\n",
              "      <td>(q_memory_cg, q_attention_cg, q_memory_pt, npi...</td>\n",
              "    </tr>\n",
              "    <tr>\n",
              "      <th>25</th>\n",
              "      <td>0.81221</td>\n",
              "      <td>[0.8721461187214612, 0.7625570776255708, 0.835...</td>\n",
              "      <td>0, 1, 3, 6, 10, 11, 12, 13, 15, 17, 18, 19, 20...</td>\n",
              "      <td>(q_memory_cg, q_attention_cg, q_memory_pt, q_l...</td>\n",
              "    </tr>\n",
              "    <tr>\n",
              "      <th>26</th>\n",
              "      <td>0.809461</td>\n",
              "      <td>[0.867579908675799, 0.7534246575342466, 0.8356...</td>\n",
              "      <td>0, 1, 3, 6, 10, 11, 12, 13, 14, 15, 17, 18, 19...</td>\n",
              "      <td>(q_memory_cg, q_attention_cg, q_memory_pt, q_l...</td>\n",
              "    </tr>\n",
              "    <tr>\n",
              "      <th>27</th>\n",
              "      <td>0.812226</td>\n",
              "      <td>[0.863013698630137, 0.7534246575342466, 0.8356...</td>\n",
              "      <td>0, 1, 3, 6, 10, 11, 12, 13, 14, 15, 17, 18, 19...</td>\n",
              "      <td>(q_memory_cg, q_attention_cg, q_memory_pt, q_l...</td>\n",
              "    </tr>\n",
              "    <tr>\n",
              "      <th>28</th>\n",
              "      <td>0.813123</td>\n",
              "      <td>[0.8812785388127854, 0.7488584474885844, 0.840...</td>\n",
              "      <td>0, 1, 3, 6, 10, 11, 12, 13, 14, 15, 17, 18, 19...</td>\n",
              "      <td>(q_memory_cg, q_attention_cg, q_memory_pt, q_l...</td>\n",
              "    </tr>\n",
              "    <tr>\n",
              "      <th>29</th>\n",
              "      <td>0.812197</td>\n",
              "      <td>[0.8721461187214612, 0.7534246575342466, 0.849...</td>\n",
              "      <td>0, 1, 3, 6, 7, 10, 11, 12, 13, 14, 15, 17, 18,...</td>\n",
              "      <td>(q_memory_cg, q_attention_cg, q_memory_pt, q_l...</td>\n",
              "    </tr>\n",
              "    <tr>\n",
              "      <th>30</th>\n",
              "      <td>0.820467</td>\n",
              "      <td>[0.8767123287671232, 0.7671232876712328, 0.831...</td>\n",
              "      <td>0, 1, 3, 5, 6, 7, 10, 11, 12, 13, 14, 15, 17, ...</td>\n",
              "      <td>(q_memory_cg, q_attention_cg, q_memory_pt, moc...</td>\n",
              "    </tr>\n",
              "  </tbody>\n",
              "</table>\n",
              "</div>"
            ],
            "text/plain": [
              "   avg_score  ...                                      feature_names\n",
              "1   0.803048  ...                                     (q_memory_cg,)\n",
              "2   0.809432  ...                         (q_memory_cg, q_memory_pt)\n",
              "3   0.809432  ...               (q_memory_cg, q_memory_pt, npi1_sev)\n",
              "4   0.809432  ...     (q_memory_cg, q_memory_pt, npi1_sev, npi2_sev)\n",
              "5   0.807605  ...  (q_memory_cg, q_memory_pt, npi1_sev, npi2_sev,...\n",
              "6   0.807605  ...  (q_memory_cg, q_memory_pt, npi1_sev, npi2_sev,...\n",
              "7   0.807605  ...  (q_memory_cg, q_memory_pt, npi1_sev, npi2_sev,...\n",
              "8   0.810379  ...  (q_memory_cg, q_attention_cg, q_memory_pt, npi...\n",
              "9   0.814937  ...  (q_memory_cg, q_attention_cg, q_memory_pt, npi...\n",
              "10  0.818594  ...  (q_memory_cg, q_attention_cg, q_memory_pt, npi...\n",
              "11   0.81859  ...  (q_memory_cg, q_attention_cg, q_memory_pt, npi...\n",
              "12  0.815841  ...  (q_memory_cg, q_attention_cg, q_memory_pt, npi...\n",
              "13  0.815863  ...  (q_memory_cg, q_attention_cg, q_memory_pt, npi...\n",
              "14  0.814015  ...  (q_memory_cg, q_attention_cg, q_memory_pt, npi...\n",
              "15  0.812184  ...  (q_memory_cg, q_attention_cg, q_memory_pt, npi...\n",
              "16  0.811296  ...  (q_memory_cg, q_attention_cg, q_memory_pt, npi...\n",
              "17  0.810421  ...  (q_memory_cg, q_attention_cg, q_memory_pt, npi...\n",
              "18  0.810421  ...  (q_memory_cg, q_attention_cg, q_memory_pt, npi...\n",
              "19  0.813169  ...  (q_memory_cg, q_attention_cg, q_memory_pt, npi...\n",
              "20  0.809503  ...  (q_memory_cg, q_attention_cg, q_memory_pt, npi...\n",
              "21  0.814996  ...  (q_memory_cg, q_attention_cg, q_memory_pt, npi...\n",
              "22  0.804929  ...  (q_memory_cg, q_attention_cg, q_memory_pt, npi...\n",
              "23  0.807694  ...  (q_memory_cg, q_attention_cg, q_memory_pt, npi...\n",
              "24  0.808561  ...  (q_memory_cg, q_attention_cg, q_memory_pt, npi...\n",
              "25   0.81221  ...  (q_memory_cg, q_attention_cg, q_memory_pt, q_l...\n",
              "26  0.809461  ...  (q_memory_cg, q_attention_cg, q_memory_pt, q_l...\n",
              "27  0.812226  ...  (q_memory_cg, q_attention_cg, q_memory_pt, q_l...\n",
              "28  0.813123  ...  (q_memory_cg, q_attention_cg, q_memory_pt, q_l...\n",
              "29  0.812197  ...  (q_memory_cg, q_attention_cg, q_memory_pt, q_l...\n",
              "30  0.820467  ...  (q_memory_cg, q_attention_cg, q_memory_pt, moc...\n",
              "\n",
              "[30 rows x 4 columns]"
            ]
          },
          "metadata": {
            "tags": []
          },
          "execution_count": 36
        }
      ]
    },
    {
      "cell_type": "markdown",
      "metadata": {
        "colab_type": "text",
        "id": "42RSS3VaoX6Y"
      },
      "source": [
        "#### Cost Sums"
      ]
    },
    {
      "cell_type": "code",
      "metadata": {
        "id": "r_KNf_wOI1Eg",
        "colab_type": "code",
        "colab": {}
      },
      "source": [
        "dill.load_session(f'{dir}/Sessions/costs_importweight50.db')\n",
        "df = pd.read_csv(f'{dir}/Output/cost_sum.csv')"
      ],
      "execution_count": 0,
      "outputs": []
    },
    {
      "cell_type": "code",
      "metadata": {
        "colab_type": "code",
        "outputId": "2a343e10-532d-4310-9391-bc0fcbe7a863",
        "id": "toc1dM4RoX6Y",
        "colab": {
          "base_uri": "https://localhost:8080/",
          "height": 119
        }
      },
      "source": [
        "df = df.append(cost_sum(7,'import', 50))"
      ],
      "execution_count": 0,
      "outputs": [
        {
          "output_type": "stream",
          "text": [
            "7  features.\n",
            "Accuracy:  0.8076054723478172\n",
            "Features:  ('q_memory_cg', 'q_memory_pt', 'npi1_sev', 'npi2_sev', 'hach8', 'hach1', 'MMREAD')\n",
            "Cost Sum:  11.0  Avg:  1.5714285714285714\n",
            "Cost Time:  8  Avg:  1.1428571428571428\n",
            "Cost Diff:  14  Avg:  2.0\n"
          ],
          "name": "stdout"
        }
      ]
    },
    {
      "cell_type": "code",
      "metadata": {
        "id": "asRWdJ39SzGv",
        "colab_type": "code",
        "outputId": "40ec0aff-baaf-40df-860f-860d478b2cb9",
        "colab": {
          "base_uri": "https://localhost:8080/",
          "height": 119
        }
      },
      "source": [
        "df = df.append(cost_sum(10,'import', 50))"
      ],
      "execution_count": 0,
      "outputs": [
        {
          "output_type": "stream",
          "text": [
            "10  features.\n",
            "Accuracy:  0.818593855182049\n",
            "Features:  ('q_memory_cg', 'q_attention_cg', 'q_memory_pt', 'npi1_sev', 'npi2_sev', 'hach8', 'FAMHISTAD', 'hach1', 'moca_letters', 'MMREAD')\n",
            "Cost Sum:  15.5  Avg:  1.55\n",
            "Cost Time:  12  Avg:  1.2\n",
            "Cost Diff:  19  Avg:  1.9\n"
          ],
          "name": "stdout"
        }
      ]
    },
    {
      "cell_type": "code",
      "metadata": {
        "id": "_gbbxLEyNsWW",
        "colab_type": "code",
        "colab": {}
      },
      "source": [
        "df.to_csv(f'{dir}/Output/cost_sum.csv', index=False)"
      ],
      "execution_count": 0,
      "outputs": []
    },
    {
      "cell_type": "markdown",
      "metadata": {
        "id": "kgqiWJjQPxem",
        "colab_type": "text"
      },
      "source": [
        "#### 30 starting features"
      ]
    },
    {
      "cell_type": "code",
      "metadata": {
        "colab_type": "code",
        "id": "hGpqORMwP77v",
        "colab": {}
      },
      "source": [
        "features = pd.read_csv(f'{dir}/features_paired.csv')\n",
        "features['weight_x.5'] = (features['avg_score'] + (features['cost_reverse']*.5))/2\n",
        "features.sort_values('weight_x.5', ascending=False)\n",
        "features = features.head(30)"
      ],
      "execution_count": 0,
      "outputs": []
    },
    {
      "cell_type": "code",
      "metadata": {
        "colab_type": "code",
        "id": "CUcqNZU8P77y",
        "colab": {}
      },
      "source": [
        "from sklearn.ensemble import RandomForestClassifier\n",
        "from sklearn.model_selection import cross_val_score, StratifiedKFold\n",
        "\n",
        "cv = StratifiedKFold(n_splits=5)\n",
        "\n",
        "clf = RandomForestClassifier(n_estimators=100, max_features=.5)\n",
        "\n",
        "adni_pair_i_X = adni_pair_X.loc[:,features['feature']]"
      ],
      "execution_count": 0,
      "outputs": []
    },
    {
      "cell_type": "code",
      "metadata": {
        "colab_type": "code",
        "id": "PdGYs0IRP77z",
        "colab": {}
      },
      "source": [
        "from mlxtend.feature_selection import SequentialFeatureSelector as SFS\n",
        "\n",
        "sfs1 = SFS(clf, \n",
        "           k_features=(30), \n",
        "           forward=True, \n",
        "           floating=False, \n",
        "           verbose=2,\n",
        "           scoring='accuracy',\n",
        "           cv=cv,\n",
        "           n_jobs=-1)\n",
        "\n",
        "sfs1 = sfs1.fit(adni_pair_i_X, adni_pair_y2.values.ravel())"
      ],
      "execution_count": 0,
      "outputs": []
    },
    {
      "cell_type": "code",
      "metadata": {
        "colab_type": "code",
        "id": "G4dFSEvcP772",
        "colab": {}
      },
      "source": [
        "f_costs = pd.DataFrame.from_dict(sfs1.subsets_)\n",
        "f_costs = f_costs.transpose()\n",
        "f_costs['feature_idx'] = f_costs['feature_idx'].apply(str).str.replace('(','').str.replace(')','')\n",
        "f_costs.to_csv(f'{dir}/Output/eff_features_paired_importweight_30.csv', index=False)\n"
      ],
      "execution_count": 0,
      "outputs": []
    },
    {
      "cell_type": "code",
      "metadata": {
        "id": "g44-vTEqIHtt",
        "colab_type": "code",
        "colab": {}
      },
      "source": [
        "dill.dump_session(f'{dir}/Sessions/costs_importweight30.db')"
      ],
      "execution_count": 0,
      "outputs": []
    },
    {
      "cell_type": "code",
      "metadata": {
        "colab_type": "code",
        "outputId": "eb590ad8-a4ef-4fcc-83c6-d2ea435a1aee",
        "id": "WqxZDmldP773",
        "colab": {
          "base_uri": "https://localhost:8080/",
          "height": 1000
        }
      },
      "source": [
        "f_costs"
      ],
      "execution_count": 0,
      "outputs": [
        {
          "output_type": "execute_result",
          "data": {
            "text/html": [
              "<div>\n",
              "<style scoped>\n",
              "    .dataframe tbody tr th:only-of-type {\n",
              "        vertical-align: middle;\n",
              "    }\n",
              "\n",
              "    .dataframe tbody tr th {\n",
              "        vertical-align: top;\n",
              "    }\n",
              "\n",
              "    .dataframe thead th {\n",
              "        text-align: right;\n",
              "    }\n",
              "</style>\n",
              "<table border=\"1\" class=\"dataframe\">\n",
              "  <thead>\n",
              "    <tr style=\"text-align: right;\">\n",
              "      <th></th>\n",
              "      <th>avg_score</th>\n",
              "      <th>cv_scores</th>\n",
              "      <th>feature_idx</th>\n",
              "      <th>feature_names</th>\n",
              "    </tr>\n",
              "  </thead>\n",
              "  <tbody>\n",
              "    <tr>\n",
              "      <th>1</th>\n",
              "      <td>0.803048</td>\n",
              "      <td>[0.8721461187214612, 0.730593607305936, 0.8401...</td>\n",
              "      <td>0,</td>\n",
              "      <td>(q_memory_cg,)</td>\n",
              "    </tr>\n",
              "    <tr>\n",
              "      <th>2</th>\n",
              "      <td>0.80673</td>\n",
              "      <td>[0.867579908675799, 0.7351598173515982, 0.8401...</td>\n",
              "      <td>0, 22</td>\n",
              "      <td>(q_memory_cg, npi3_sev)</td>\n",
              "    </tr>\n",
              "    <tr>\n",
              "      <th>3</th>\n",
              "      <td>0.808561</td>\n",
              "      <td>[0.867579908675799, 0.7397260273972602, 0.8401...</td>\n",
              "      <td>0, 22, 27</td>\n",
              "      <td>(q_memory_cg, npi3_sev, hach2)</td>\n",
              "    </tr>\n",
              "    <tr>\n",
              "      <th>4</th>\n",
              "      <td>0.810387</td>\n",
              "      <td>[0.8584474885844748, 0.7488584474885844, 0.849...</td>\n",
              "      <td>0, 6, 22, 27</td>\n",
              "      <td>(q_memory_cg, q_language_cg, npi3_sev, hach2)</td>\n",
              "    </tr>\n",
              "    <tr>\n",
              "      <th>5</th>\n",
              "      <td>0.809461</td>\n",
              "      <td>[0.8584474885844748, 0.7488584474885844, 0.849...</td>\n",
              "      <td>0, 6, 14, 22, 27</td>\n",
              "      <td>(q_memory_cg, q_language_cg, q_orient_pt, npi3...</td>\n",
              "    </tr>\n",
              "    <tr>\n",
              "      <th>6</th>\n",
              "      <td>0.814949</td>\n",
              "      <td>[0.8584474885844748, 0.7579908675799086, 0.858...</td>\n",
              "      <td>0, 6, 14, 15, 22, 27</td>\n",
              "      <td>(q_memory_cg, q_language_cg, q_orient_pt, npi1...</td>\n",
              "    </tr>\n",
              "    <tr>\n",
              "      <th>7</th>\n",
              "      <td>0.81404</td>\n",
              "      <td>[0.8538812785388128, 0.7534246575342466, 0.858...</td>\n",
              "      <td>0, 6, 14, 15, 19, 22, 27</td>\n",
              "      <td>(q_memory_cg, q_language_cg, q_orient_pt, npi1...</td>\n",
              "    </tr>\n",
              "    <tr>\n",
              "      <th>8</th>\n",
              "      <td>0.813123</td>\n",
              "      <td>[0.8538812785388128, 0.7534246575342466, 0.858...</td>\n",
              "      <td>0, 6, 14, 15, 17, 19, 22, 27</td>\n",
              "      <td>(q_memory_cg, q_language_cg, q_orient_pt, npi1...</td>\n",
              "    </tr>\n",
              "    <tr>\n",
              "      <th>9</th>\n",
              "      <td>0.808557</td>\n",
              "      <td>[0.8493150684931506, 0.7534246575342466, 0.840...</td>\n",
              "      <td>0, 6, 14, 15, 17, 19, 21, 22, 27</td>\n",
              "      <td>(q_memory_cg, q_language_cg, q_orient_pt, npi1...</td>\n",
              "    </tr>\n",
              "    <tr>\n",
              "      <th>10</th>\n",
              "      <td>0.807635</td>\n",
              "      <td>[0.8493150684931506, 0.7534246575342466, 0.840...</td>\n",
              "      <td>0, 6, 13, 14, 15, 17, 19, 21, 22, 27</td>\n",
              "      <td>(q_memory_cg, q_language_cg, npi6_sev, q_orien...</td>\n",
              "    </tr>\n",
              "    <tr>\n",
              "      <th>11</th>\n",
              "      <td>0.805813</td>\n",
              "      <td>[0.8493150684931506, 0.7488584474885844, 0.835...</td>\n",
              "      <td>0, 6, 13, 14, 15, 17, 19, 20, 21, 22, 27</td>\n",
              "      <td>(q_memory_cg, q_language_cg, npi6_sev, q_orien...</td>\n",
              "    </tr>\n",
              "    <tr>\n",
              "      <th>12</th>\n",
              "      <td>0.803081</td>\n",
              "      <td>[0.8447488584474886, 0.7351598173515982, 0.831...</td>\n",
              "      <td>0, 6, 11, 13, 14, 15, 17, 19, 20, 21, 22, 27</td>\n",
              "      <td>(q_memory_cg, q_language_cg, npi8_sev, npi6_se...</td>\n",
              "    </tr>\n",
              "    <tr>\n",
              "      <th>13</th>\n",
              "      <td>0.804883</td>\n",
              "      <td>[0.8447488584474886, 0.7671232876712328, 0.835...</td>\n",
              "      <td>0, 6, 11, 12, 13, 14, 15, 17, 19, 20, 21, 22, 27</td>\n",
              "      <td>(q_memory_cg, q_language_cg, npi8_sev, npi7_se...</td>\n",
              "    </tr>\n",
              "    <tr>\n",
              "      <th>14</th>\n",
              "      <td>0.800316</td>\n",
              "      <td>[0.8447488584474886, 0.7534246575342466, 0.826...</td>\n",
              "      <td>0, 6, 11, 12, 13, 14, 15, 17, 19, 20, 21, 22, ...</td>\n",
              "      <td>(q_memory_cg, q_language_cg, npi8_sev, npi7_se...</td>\n",
              "    </tr>\n",
              "    <tr>\n",
              "      <th>15</th>\n",
              "      <td>0.799386</td>\n",
              "      <td>[0.8538812785388128, 0.7397260273972602, 0.835...</td>\n",
              "      <td>0, 6, 11, 12, 13, 14, 15, 17, 19, 20, 21, 22, ...</td>\n",
              "      <td>(q_memory_cg, q_language_cg, npi8_sev, npi7_se...</td>\n",
              "    </tr>\n",
              "    <tr>\n",
              "      <th>16</th>\n",
              "      <td>0.800342</td>\n",
              "      <td>[0.821917808219178, 0.7442922374429224, 0.8356...</td>\n",
              "      <td>0, 3, 6, 11, 12, 13, 14, 15, 17, 19, 20, 21, 2...</td>\n",
              "      <td>(q_memory_cg, q_memory_pt, q_language_cg, npi8...</td>\n",
              "    </tr>\n",
              "    <tr>\n",
              "      <th>17</th>\n",
              "      <td>0.812285</td>\n",
              "      <td>[0.8082191780821918, 0.7534246575342466, 0.853...</td>\n",
              "      <td>0, 3, 6, 11, 12, 13, 14, 15, 16, 17, 19, 20, 2...</td>\n",
              "      <td>(q_memory_cg, q_memory_pt, q_language_cg, npi8...</td>\n",
              "    </tr>\n",
              "    <tr>\n",
              "      <th>18</th>\n",
              "      <td>0.81226</td>\n",
              "      <td>[0.8401826484018264, 0.7488584474885844, 0.840...</td>\n",
              "      <td>0, 3, 6, 10, 11, 12, 13, 14, 15, 16, 17, 19, 2...</td>\n",
              "      <td>(q_memory_cg, q_memory_pt, q_language_cg, npi9...</td>\n",
              "    </tr>\n",
              "    <tr>\n",
              "      <th>19</th>\n",
              "      <td>0.812256</td>\n",
              "      <td>[0.867579908675799, 0.7442922374429224, 0.8356...</td>\n",
              "      <td>0, 3, 5, 6, 10, 11, 12, 13, 14, 15, 16, 17, 19...</td>\n",
              "      <td>(q_memory_cg, q_memory_pt, moca_recall, q_lang...</td>\n",
              "    </tr>\n",
              "    <tr>\n",
              "      <th>20</th>\n",
              "      <td>0.814983</td>\n",
              "      <td>[0.8721461187214612, 0.7579908675799086, 0.835...</td>\n",
              "      <td>0, 3, 5, 6, 10, 11, 12, 13, 14, 15, 16, 17, 19...</td>\n",
              "      <td>(q_memory_cg, q_memory_pt, moca_recall, q_lang...</td>\n",
              "    </tr>\n",
              "    <tr>\n",
              "      <th>21</th>\n",
              "      <td>0.816801</td>\n",
              "      <td>[0.867579908675799, 0.7488584474885844, 0.8675...</td>\n",
              "      <td>0, 3, 5, 6, 10, 11, 12, 13, 14, 15, 16, 17, 19...</td>\n",
              "      <td>(q_memory_cg, q_memory_pt, moca_recall, q_lang...</td>\n",
              "    </tr>\n",
              "    <tr>\n",
              "      <th>22</th>\n",
              "      <td>0.813165</td>\n",
              "      <td>[0.8356164383561644, 0.7579908675799086, 0.858...</td>\n",
              "      <td>0, 3, 5, 6, 9, 10, 11, 12, 13, 14, 15, 16, 17,...</td>\n",
              "      <td>(q_memory_cg, q_memory_pt, moca_recall, q_lang...</td>\n",
              "    </tr>\n",
              "    <tr>\n",
              "      <th>23</th>\n",
              "      <td>0.811317</td>\n",
              "      <td>[0.8538812785388128, 0.7625570776255708, 0.831...</td>\n",
              "      <td>0, 3, 4, 5, 6, 9, 10, 11, 12, 13, 14, 15, 16, ...</td>\n",
              "      <td>(q_memory_cg, q_memory_pt, vlt_recall, moca_re...</td>\n",
              "    </tr>\n",
              "    <tr>\n",
              "      <th>24</th>\n",
              "      <td>0.823219</td>\n",
              "      <td>[0.863013698630137, 0.776255707762557, 0.84474...</td>\n",
              "      <td>0, 3, 4, 5, 6, 7, 9, 10, 11, 12, 13, 14, 15, 1...</td>\n",
              "      <td>(q_memory_cg, q_memory_pt, vlt_recall, moca_re...</td>\n",
              "    </tr>\n",
              "    <tr>\n",
              "      <th>25</th>\n",
              "      <td>0.820475</td>\n",
              "      <td>[0.867579908675799, 0.771689497716895, 0.83561...</td>\n",
              "      <td>0, 3, 4, 5, 6, 7, 8, 9, 10, 11, 12, 13, 14, 15...</td>\n",
              "      <td>(q_memory_cg, q_memory_pt, vlt_recall, moca_re...</td>\n",
              "    </tr>\n",
              "    <tr>\n",
              "      <th>26</th>\n",
              "      <td>0.826859</td>\n",
              "      <td>[0.8858447488584474, 0.776255707762557, 0.8447...</td>\n",
              "      <td>0, 3, 4, 5, 6, 7, 8, 9, 10, 11, 12, 13, 14, 15...</td>\n",
              "      <td>(q_memory_cg, q_memory_pt, vlt_recall, moca_re...</td>\n",
              "    </tr>\n",
              "    <tr>\n",
              "      <th>27</th>\n",
              "      <td>0.825967</td>\n",
              "      <td>[0.8721461187214612, 0.776255707762557, 0.8493...</td>\n",
              "      <td>0, 3, 4, 5, 6, 7, 8, 9, 10, 11, 12, 13, 14, 15...</td>\n",
              "      <td>(q_memory_cg, q_memory_pt, vlt_recall, moca_re...</td>\n",
              "    </tr>\n",
              "    <tr>\n",
              "      <th>28</th>\n",
              "      <td>0.822318</td>\n",
              "      <td>[0.8767123287671232, 0.7397260273972602, 0.858...</td>\n",
              "      <td>0, 2, 3, 4, 5, 6, 7, 8, 9, 10, 11, 12, 13, 14,...</td>\n",
              "      <td>(q_memory_cg, vlt_delay, q_memory_pt, vlt_reca...</td>\n",
              "    </tr>\n",
              "    <tr>\n",
              "      <th>29</th>\n",
              "      <td>0.820488</td>\n",
              "      <td>[0.863013698630137, 0.7488584474885844, 0.8493...</td>\n",
              "      <td>0, 2, 3, 4, 5, 6, 7, 8, 9, 10, 11, 12, 13, 14,...</td>\n",
              "      <td>(q_memory_cg, vlt_delay, q_memory_pt, vlt_reca...</td>\n",
              "    </tr>\n",
              "    <tr>\n",
              "      <th>30</th>\n",
              "      <td>0.814966</td>\n",
              "      <td>[0.8721461187214612, 0.7671232876712328, 0.835...</td>\n",
              "      <td>0, 1, 2, 3, 4, 5, 6, 7, 8, 9, 10, 11, 12, 13, ...</td>\n",
              "      <td>(q_memory_cg, q_attention_cg, vlt_delay, q_mem...</td>\n",
              "    </tr>\n",
              "  </tbody>\n",
              "</table>\n",
              "</div>"
            ],
            "text/plain": [
              "   avg_score  ...                                      feature_names\n",
              "1   0.803048  ...                                     (q_memory_cg,)\n",
              "2    0.80673  ...                            (q_memory_cg, npi3_sev)\n",
              "3   0.808561  ...                     (q_memory_cg, npi3_sev, hach2)\n",
              "4   0.810387  ...      (q_memory_cg, q_language_cg, npi3_sev, hach2)\n",
              "5   0.809461  ...  (q_memory_cg, q_language_cg, q_orient_pt, npi3...\n",
              "6   0.814949  ...  (q_memory_cg, q_language_cg, q_orient_pt, npi1...\n",
              "7    0.81404  ...  (q_memory_cg, q_language_cg, q_orient_pt, npi1...\n",
              "8   0.813123  ...  (q_memory_cg, q_language_cg, q_orient_pt, npi1...\n",
              "9   0.808557  ...  (q_memory_cg, q_language_cg, q_orient_pt, npi1...\n",
              "10  0.807635  ...  (q_memory_cg, q_language_cg, npi6_sev, q_orien...\n",
              "11  0.805813  ...  (q_memory_cg, q_language_cg, npi6_sev, q_orien...\n",
              "12  0.803081  ...  (q_memory_cg, q_language_cg, npi8_sev, npi6_se...\n",
              "13  0.804883  ...  (q_memory_cg, q_language_cg, npi8_sev, npi7_se...\n",
              "14  0.800316  ...  (q_memory_cg, q_language_cg, npi8_sev, npi7_se...\n",
              "15  0.799386  ...  (q_memory_cg, q_language_cg, npi8_sev, npi7_se...\n",
              "16  0.800342  ...  (q_memory_cg, q_memory_pt, q_language_cg, npi8...\n",
              "17  0.812285  ...  (q_memory_cg, q_memory_pt, q_language_cg, npi8...\n",
              "18   0.81226  ...  (q_memory_cg, q_memory_pt, q_language_cg, npi9...\n",
              "19  0.812256  ...  (q_memory_cg, q_memory_pt, moca_recall, q_lang...\n",
              "20  0.814983  ...  (q_memory_cg, q_memory_pt, moca_recall, q_lang...\n",
              "21  0.816801  ...  (q_memory_cg, q_memory_pt, moca_recall, q_lang...\n",
              "22  0.813165  ...  (q_memory_cg, q_memory_pt, moca_recall, q_lang...\n",
              "23  0.811317  ...  (q_memory_cg, q_memory_pt, vlt_recall, moca_re...\n",
              "24  0.823219  ...  (q_memory_cg, q_memory_pt, vlt_recall, moca_re...\n",
              "25  0.820475  ...  (q_memory_cg, q_memory_pt, vlt_recall, moca_re...\n",
              "26  0.826859  ...  (q_memory_cg, q_memory_pt, vlt_recall, moca_re...\n",
              "27  0.825967  ...  (q_memory_cg, q_memory_pt, vlt_recall, moca_re...\n",
              "28  0.822318  ...  (q_memory_cg, vlt_delay, q_memory_pt, vlt_reca...\n",
              "29  0.820488  ...  (q_memory_cg, vlt_delay, q_memory_pt, vlt_reca...\n",
              "30  0.814966  ...  (q_memory_cg, q_attention_cg, vlt_delay, q_mem...\n",
              "\n",
              "[30 rows x 4 columns]"
            ]
          },
          "metadata": {
            "tags": []
          },
          "execution_count": 42
        }
      ]
    },
    {
      "cell_type": "markdown",
      "metadata": {
        "colab_type": "text",
        "id": "zkXPH2i9P777"
      },
      "source": [
        "#### Cost Sums"
      ]
    },
    {
      "cell_type": "code",
      "metadata": {
        "id": "4vPgJ1NYI4Ji",
        "colab_type": "code",
        "colab": {}
      },
      "source": [
        "dill.load_session(f'{dir}/Sessions/costs_importweight30.db')\n",
        "df = pd.read_csv(f'{dir}/Output/cost_sum.csv')"
      ],
      "execution_count": 0,
      "outputs": []
    },
    {
      "cell_type": "code",
      "metadata": {
        "colab_type": "code",
        "outputId": "46bc8bd8-adaa-49b8-8f67-8efd99154eac",
        "id": "-VhIIX3uP777",
        "colab": {
          "base_uri": "https://localhost:8080/",
          "height": 119
        }
      },
      "source": [
        "df = df.append(cost_sum(4,'import', 30))"
      ],
      "execution_count": 0,
      "outputs": [
        {
          "output_type": "stream",
          "text": [
            "4  features.\n",
            "Accuracy:  0.8103873218704145\n",
            "Features:  ('q_memory_cg', 'q_language_cg', 'npi3_sev', 'hach2')\n",
            "Cost Sum:  5.5  Avg:  1.375\n",
            "Cost Time:  4  Avg:  1.0\n",
            "Cost Diff:  7  Avg:  1.75\n"
          ],
          "name": "stdout"
        }
      ]
    },
    {
      "cell_type": "code",
      "metadata": {
        "id": "piv9U20NPxmJ",
        "colab_type": "code",
        "outputId": "819d7a10-8147-4748-f656-8019d5957902",
        "colab": {
          "base_uri": "https://localhost:8080/",
          "height": 119
        }
      },
      "source": [
        "df = df.append(cost_sum(6,'import', 30))"
      ],
      "execution_count": 0,
      "outputs": [
        {
          "output_type": "stream",
          "text": [
            "6  features.\n",
            "Accuracy:  0.8149492655125755\n",
            "Features:  ('q_memory_cg', 'q_language_cg', 'q_orient_pt', 'npi1_sev', 'npi3_sev', 'hach2')\n",
            "Cost Sum:  8.5  Avg:  1.4166666666666667\n",
            "Cost Time:  6  Avg:  1.0\n",
            "Cost Diff:  11  Avg:  1.8333333333333333\n"
          ],
          "name": "stdout"
        }
      ]
    },
    {
      "cell_type": "code",
      "metadata": {
        "id": "ywKCmm_Qv44j",
        "colab_type": "code",
        "colab": {}
      },
      "source": [
        ""
      ],
      "execution_count": 0,
      "outputs": []
    },
    {
      "cell_type": "code",
      "metadata": {
        "id": "XiqBm_52Nti7",
        "colab_type": "code",
        "colab": {}
      },
      "source": [
        "df.to_csv(f'{dir}/Output/cost_sum.csv', index=False)"
      ],
      "execution_count": 0,
      "outputs": []
    },
    {
      "cell_type": "markdown",
      "metadata": {
        "id": "06raLgk5Pxo6",
        "colab_type": "text"
      },
      "source": [
        "#### 15 starting features"
      ]
    },
    {
      "cell_type": "code",
      "metadata": {
        "colab_type": "code",
        "id": "nTBTH9IPP_Fx",
        "colab": {}
      },
      "source": [
        "features = pd.read_csv(f'{dir}/features_paired.csv')\n",
        "features['weight_x.5'] = (features['avg_score'] + (features['cost_reverse']*.5))/2\n",
        "features.sort_values('weight_x.5', ascending=False)\n",
        "features = features.head(15)"
      ],
      "execution_count": 0,
      "outputs": []
    },
    {
      "cell_type": "code",
      "metadata": {
        "colab_type": "code",
        "id": "Q-nBD4EmP_F3",
        "colab": {}
      },
      "source": [
        "from sklearn.ensemble import RandomForestClassifier\n",
        "from sklearn.model_selection import cross_val_score, StratifiedKFold\n",
        "\n",
        "cv = StratifiedKFold(n_splits=5)\n",
        "\n",
        "clf = RandomForestClassifier(n_estimators=100, max_features=.5)\n",
        "\n",
        "adni_pair_i_X = adni_pair_X.loc[:,features['feature']]"
      ],
      "execution_count": 0,
      "outputs": []
    },
    {
      "cell_type": "code",
      "metadata": {
        "colab_type": "code",
        "id": "37vFcMHPP_F8",
        "colab": {}
      },
      "source": [
        "from mlxtend.feature_selection import SequentialFeatureSelector as SFS\n",
        "\n",
        "sfs1 = SFS(clf, \n",
        "           k_features=(15), \n",
        "           forward=True, \n",
        "           floating=False, \n",
        "           verbose=2,\n",
        "           scoring='accuracy',\n",
        "           cv=cv,\n",
        "           n_jobs=-1)\n",
        "\n",
        "sfs1 = sfs1.fit(adni_pair_i_X, adni_pair_y2.values.ravel())"
      ],
      "execution_count": 0,
      "outputs": []
    },
    {
      "cell_type": "code",
      "metadata": {
        "colab_type": "code",
        "id": "tOL3TJnkP_GB",
        "colab": {}
      },
      "source": [
        "f_costs = pd.DataFrame.from_dict(sfs1.subsets_)\n",
        "f_costs = f_costs.transpose()\n",
        "f_costs['feature_idx'] = f_costs['feature_idx'].apply(str).str.replace('(','').str.replace(')','')\n",
        "f_costs.to_csv(f'{dir}/Output/eff_features_paired_importweight_15.csv', index=False)\n",
        "\n"
      ],
      "execution_count": 0,
      "outputs": []
    },
    {
      "cell_type": "code",
      "metadata": {
        "id": "QXuqX6JjIJ-X",
        "colab_type": "code",
        "colab": {}
      },
      "source": [
        "dill.dump_session(f'{dir}/Sessions/costs_importweight15.db')"
      ],
      "execution_count": 0,
      "outputs": []
    },
    {
      "cell_type": "code",
      "metadata": {
        "colab_type": "code",
        "outputId": "a2c4d5eb-fa77-4d7e-9e45-f3a7bcc2e000",
        "id": "-YuL7vdNP_GE",
        "colab": {
          "base_uri": "https://localhost:8080/",
          "height": 757
        }
      },
      "source": [
        "f_costs"
      ],
      "execution_count": 0,
      "outputs": [
        {
          "output_type": "execute_result",
          "data": {
            "text/html": [
              "<div>\n",
              "<style scoped>\n",
              "    .dataframe tbody tr th:only-of-type {\n",
              "        vertical-align: middle;\n",
              "    }\n",
              "\n",
              "    .dataframe tbody tr th {\n",
              "        vertical-align: top;\n",
              "    }\n",
              "\n",
              "    .dataframe thead th {\n",
              "        text-align: right;\n",
              "    }\n",
              "</style>\n",
              "<table border=\"1\" class=\"dataframe\">\n",
              "  <thead>\n",
              "    <tr style=\"text-align: right;\">\n",
              "      <th></th>\n",
              "      <th>avg_score</th>\n",
              "      <th>cv_scores</th>\n",
              "      <th>feature_idx</th>\n",
              "      <th>feature_names</th>\n",
              "    </tr>\n",
              "  </thead>\n",
              "  <tbody>\n",
              "    <tr>\n",
              "      <th>1</th>\n",
              "      <td>0.803048</td>\n",
              "      <td>[0.8721461187214612, 0.730593607305936, 0.8401...</td>\n",
              "      <td>0,</td>\n",
              "      <td>(q_memory_cg,)</td>\n",
              "    </tr>\n",
              "    <tr>\n",
              "      <th>2</th>\n",
              "      <td>0.810366</td>\n",
              "      <td>[0.867579908675799, 0.7488584474885844, 0.8447...</td>\n",
              "      <td>0, 14</td>\n",
              "      <td>(q_memory_cg, q_orient_pt)</td>\n",
              "    </tr>\n",
              "    <tr>\n",
              "      <th>3</th>\n",
              "      <td>0.814949</td>\n",
              "      <td>[0.8584474885844748, 0.7579908675799086, 0.858...</td>\n",
              "      <td>0, 6, 14</td>\n",
              "      <td>(q_memory_cg, q_language_cg, q_orient_pt)</td>\n",
              "    </tr>\n",
              "    <tr>\n",
              "      <th>4</th>\n",
              "      <td>0.814941</td>\n",
              "      <td>[0.8584474885844748, 0.7625570776255708, 0.858...</td>\n",
              "      <td>0, 6, 13, 14</td>\n",
              "      <td>(q_memory_cg, q_language_cg, npi6_sev, q_orien...</td>\n",
              "    </tr>\n",
              "    <tr>\n",
              "      <th>5</th>\n",
              "      <td>0.811284</td>\n",
              "      <td>[0.8538812785388128, 0.7534246575342466, 0.858...</td>\n",
              "      <td>0, 6, 11, 13, 14</td>\n",
              "      <td>(q_memory_cg, q_language_cg, npi8_sev, npi6_se...</td>\n",
              "    </tr>\n",
              "    <tr>\n",
              "      <th>6</th>\n",
              "      <td>0.811275</td>\n",
              "      <td>[0.8538812785388128, 0.7671232876712328, 0.853...</td>\n",
              "      <td>0, 6, 11, 12, 13, 14</td>\n",
              "      <td>(q_memory_cg, q_language_cg, npi8_sev, npi7_se...</td>\n",
              "    </tr>\n",
              "    <tr>\n",
              "      <th>7</th>\n",
              "      <td>0.810354</td>\n",
              "      <td>[0.8447488584474886, 0.7625570776255708, 0.863...</td>\n",
              "      <td>0, 6, 10, 11, 12, 13, 14</td>\n",
              "      <td>(q_memory_cg, q_language_cg, npi9_sev, npi8_se...</td>\n",
              "    </tr>\n",
              "    <tr>\n",
              "      <th>8</th>\n",
              "      <td>0.806688</td>\n",
              "      <td>[0.8584474885844748, 0.7442922374429224, 0.867...</td>\n",
              "      <td>0, 5, 6, 10, 11, 12, 13, 14</td>\n",
              "      <td>(q_memory_cg, moca_recall, q_language_cg, npi9...</td>\n",
              "    </tr>\n",
              "    <tr>\n",
              "      <th>9</th>\n",
              "      <td>0.809449</td>\n",
              "      <td>[0.8493150684931506, 0.7625570776255708, 0.853...</td>\n",
              "      <td>0, 5, 6, 9, 10, 11, 12, 13, 14</td>\n",
              "      <td>(q_memory_cg, moca_recall, q_language_cg, npi5...</td>\n",
              "    </tr>\n",
              "    <tr>\n",
              "      <th>10</th>\n",
              "      <td>0.802147</td>\n",
              "      <td>[0.8401826484018264, 0.7351598173515982, 0.858...</td>\n",
              "      <td>0, 3, 5, 6, 9, 10, 11, 12, 13, 14</td>\n",
              "      <td>(q_memory_cg, q_memory_pt, moca_recall, q_lang...</td>\n",
              "    </tr>\n",
              "    <tr>\n",
              "      <th>11</th>\n",
              "      <td>0.803969</td>\n",
              "      <td>[0.817351598173516, 0.776255707762557, 0.84931...</td>\n",
              "      <td>0, 3, 5, 6, 7, 9, 10, 11, 12, 13, 14</td>\n",
              "      <td>(q_memory_cg, q_memory_pt, moca_recall, q_lang...</td>\n",
              "    </tr>\n",
              "    <tr>\n",
              "      <th>12</th>\n",
              "      <td>0.814065</td>\n",
              "      <td>[0.8401826484018264, 0.7442922374429224, 0.863...</td>\n",
              "      <td>0, 3, 4, 5, 6, 7, 9, 10, 11, 12, 13, 14</td>\n",
              "      <td>(q_memory_cg, q_memory_pt, vlt_recall, moca_re...</td>\n",
              "    </tr>\n",
              "    <tr>\n",
              "      <th>13</th>\n",
              "      <td>0.823194</td>\n",
              "      <td>[0.8538812785388128, 0.7853881278538812, 0.867...</td>\n",
              "      <td>0, 1, 3, 4, 5, 6, 7, 9, 10, 11, 12, 13, 14</td>\n",
              "      <td>(q_memory_cg, q_attention_cg, q_memory_pt, vlt...</td>\n",
              "    </tr>\n",
              "    <tr>\n",
              "      <th>14</th>\n",
              "      <td>0.819553</td>\n",
              "      <td>[0.8447488584474886, 0.7625570776255708, 0.863...</td>\n",
              "      <td>0, 1, 2, 3, 4, 5, 6, 7, 9, 10, 11, 12, 13, 14</td>\n",
              "      <td>(q_memory_cg, q_attention_cg, vlt_delay, q_mem...</td>\n",
              "    </tr>\n",
              "    <tr>\n",
              "      <th>15</th>\n",
              "      <td>0.811317</td>\n",
              "      <td>[0.8447488584474886, 0.7625570776255708, 0.844...</td>\n",
              "      <td>0, 1, 2, 3, 4, 5, 6, 7, 8, 9, 10, 11, 12, 13, 14</td>\n",
              "      <td>(q_memory_cg, q_attention_cg, vlt_delay, q_mem...</td>\n",
              "    </tr>\n",
              "  </tbody>\n",
              "</table>\n",
              "</div>"
            ],
            "text/plain": [
              "   avg_score  ...                                      feature_names\n",
              "1   0.803048  ...                                     (q_memory_cg,)\n",
              "2   0.810366  ...                         (q_memory_cg, q_orient_pt)\n",
              "3   0.814949  ...          (q_memory_cg, q_language_cg, q_orient_pt)\n",
              "4   0.814941  ...  (q_memory_cg, q_language_cg, npi6_sev, q_orien...\n",
              "5   0.811284  ...  (q_memory_cg, q_language_cg, npi8_sev, npi6_se...\n",
              "6   0.811275  ...  (q_memory_cg, q_language_cg, npi8_sev, npi7_se...\n",
              "7   0.810354  ...  (q_memory_cg, q_language_cg, npi9_sev, npi8_se...\n",
              "8   0.806688  ...  (q_memory_cg, moca_recall, q_language_cg, npi9...\n",
              "9   0.809449  ...  (q_memory_cg, moca_recall, q_language_cg, npi5...\n",
              "10  0.802147  ...  (q_memory_cg, q_memory_pt, moca_recall, q_lang...\n",
              "11  0.803969  ...  (q_memory_cg, q_memory_pt, moca_recall, q_lang...\n",
              "12  0.814065  ...  (q_memory_cg, q_memory_pt, vlt_recall, moca_re...\n",
              "13  0.823194  ...  (q_memory_cg, q_attention_cg, q_memory_pt, vlt...\n",
              "14  0.819553  ...  (q_memory_cg, q_attention_cg, vlt_delay, q_mem...\n",
              "15  0.811317  ...  (q_memory_cg, q_attention_cg, vlt_delay, q_mem...\n",
              "\n",
              "[15 rows x 4 columns]"
            ]
          },
          "metadata": {
            "tags": []
          },
          "execution_count": 48
        }
      ]
    },
    {
      "cell_type": "markdown",
      "metadata": {
        "colab_type": "text",
        "id": "Imm5NK8lP_GM"
      },
      "source": [
        "#### Cost Sums"
      ]
    },
    {
      "cell_type": "code",
      "metadata": {
        "id": "UZ-lhefkI5oD",
        "colab_type": "code",
        "colab": {}
      },
      "source": [
        "dill.load_session(f'{dir}/Sessions/costs_importweight15.db')\n",
        "df = pd.read_csv(f'{dir}/Output/cost_sum.csv')"
      ],
      "execution_count": 0,
      "outputs": []
    },
    {
      "cell_type": "code",
      "metadata": {
        "colab_type": "code",
        "outputId": "5dceea4f-1f15-4b62-d6e2-8fd3c9be16c2",
        "id": "E02vxfGzP_GN",
        "colab": {
          "base_uri": "https://localhost:8080/",
          "height": 119
        }
      },
      "source": [
        "df = df.append(cost_sum(3,'import', 15))"
      ],
      "execution_count": 0,
      "outputs": [
        {
          "output_type": "stream",
          "text": [
            "3  features.\n",
            "Accuracy:  0.8149492655125755\n",
            "Features:  ('q_memory_cg', 'q_language_cg', 'q_orient_pt')\n",
            "Cost Sum:  3.0  Avg:  1.0\n",
            "Cost Time:  3  Avg:  1.0\n",
            "Cost Diff:  3  Avg:  1.0\n"
          ],
          "name": "stdout"
        }
      ]
    },
    {
      "cell_type": "code",
      "metadata": {
        "id": "5hGJWQeEPxrD",
        "colab_type": "code",
        "outputId": "6560efc6-de89-4548-cb3e-2df441896574",
        "colab": {
          "base_uri": "https://localhost:8080/",
          "height": 119
        }
      },
      "source": [
        "df = df.append(cost_sum(4,'import', 15))"
      ],
      "execution_count": 0,
      "outputs": [
        {
          "output_type": "stream",
          "text": [
            "4  features.\n",
            "Accuracy:  0.8149408485355327\n",
            "Features:  ('q_memory_cg', 'q_language_cg', 'npi6_sev', 'q_orient_pt')\n",
            "Cost Sum:  5.0  Avg:  1.25\n",
            "Cost Time:  4  Avg:  1.0\n",
            "Cost Diff:  6  Avg:  1.5\n"
          ],
          "name": "stdout"
        }
      ]
    },
    {
      "cell_type": "code",
      "metadata": {
        "id": "glim3X1VwRLL",
        "colab_type": "code",
        "outputId": "af675aab-bc1d-4954-9774-5d4153277c8c",
        "colab": {
          "base_uri": "https://localhost:8080/",
          "height": 119
        }
      },
      "source": [
        "df = df.append(cost_sum(6,'import', 15))"
      ],
      "execution_count": 0,
      "outputs": [
        {
          "output_type": "stream",
          "text": [
            "6  features.\n",
            "Accuracy:  0.8112753129484187\n",
            "Features:  ('q_memory_cg', 'q_language_cg', 'npi8_sev', 'npi7_sev', 'npi6_sev', 'q_orient_pt')\n",
            "Cost Sum:  9.0  Avg:  1.5\n",
            "Cost Time:  6  Avg:  1.0\n",
            "Cost Diff:  12  Avg:  2.0\n"
          ],
          "name": "stdout"
        }
      ]
    },
    {
      "cell_type": "code",
      "metadata": {
        "id": "dN5DimcFNunV",
        "colab_type": "code",
        "colab": {}
      },
      "source": [
        "df.to_csv(f'{dir}/Output/cost_sum.csv', index=False)"
      ],
      "execution_count": 0,
      "outputs": []
    },
    {
      "cell_type": "markdown",
      "metadata": {
        "colab_type": "text",
        "id": "j5ti0oksSxx1"
      },
      "source": [
        "### Cost over importance"
      ]
    },
    {
      "cell_type": "markdown",
      "metadata": {
        "colab_type": "text",
        "id": "jiDY-YnJTBdt"
      },
      "source": [
        "#### 50 starting features"
      ]
    },
    {
      "cell_type": "code",
      "metadata": {
        "colab_type": "code",
        "id": "u_j1jrjnSxx3",
        "colab": {}
      },
      "source": [
        "features = pd.read_csv(f'{dir}/features_paired.csv')\n",
        "features['weight_x2'] = (features['avg_score'] + (features['cost_reverse']*2))/2\n",
        "features.sort_values('weight_x2', ascending=False, inplace=True)\n",
        "features = features.head(50)"
      ],
      "execution_count": 0,
      "outputs": []
    },
    {
      "cell_type": "code",
      "metadata": {
        "colab_type": "code",
        "id": "ZJ5HS11KTBdt",
        "colab": {}
      },
      "source": [
        "from sklearn.ensemble import RandomForestClassifier\n",
        "from sklearn.model_selection import cross_val_score, StratifiedKFold\n",
        "\n",
        "cv = StratifiedKFold(n_splits=5)\n",
        "\n",
        "clf = RandomForestClassifier(n_estimators=100, max_features=.5)\n",
        "\n",
        "adni_pair_i_X = adni_pair_X.loc[:,features['feature']]"
      ],
      "execution_count": 0,
      "outputs": []
    },
    {
      "cell_type": "code",
      "metadata": {
        "colab_type": "code",
        "id": "-cA1WNfPTBdu",
        "colab": {}
      },
      "source": [
        "from mlxtend.feature_selection import SequentialFeatureSelector as SFS\n",
        "\n",
        "sfs1 = SFS(clf, \n",
        "           k_features=(30), \n",
        "           forward=True, \n",
        "           floating=False, \n",
        "           verbose=2,\n",
        "           scoring='accuracy',\n",
        "           cv=cv,\n",
        "           n_jobs=-1)\n",
        "\n",
        "sfs1 = sfs1.fit(adni_pair_i_X, adni_pair_y2.values.ravel())"
      ],
      "execution_count": 0,
      "outputs": []
    },
    {
      "cell_type": "code",
      "metadata": {
        "colab_type": "code",
        "id": "7olHhN3YofEg",
        "colab": {}
      },
      "source": [
        "f_costs = pd.DataFrame.from_dict(sfs1.subsets_)\n",
        "f_costs = f_costs.transpose()\n",
        "f_costs['feature_idx'] = f_costs['feature_idx'].apply(str).str.replace('(','').str.replace(')','')\n",
        "f_costs.to_csv(f'{dir}/Output/eff_features_paired_costweight_50.csv', index=False)\n",
        "\n"
      ],
      "execution_count": 0,
      "outputs": []
    },
    {
      "cell_type": "code",
      "metadata": {
        "id": "OYROghdyIL_l",
        "colab_type": "code",
        "colab": {}
      },
      "source": [
        "dill.dump_session(f'{dir}/Sessions/costs_costweight50.db')"
      ],
      "execution_count": 0,
      "outputs": []
    },
    {
      "cell_type": "code",
      "metadata": {
        "colab_type": "code",
        "outputId": "817f6672-b09f-4a83-ff46-b6b9e99c59e6",
        "id": "U2ireGJRofEi",
        "colab": {
          "base_uri": "https://localhost:8080/",
          "height": 1000
        }
      },
      "source": [
        "f_costs"
      ],
      "execution_count": 0,
      "outputs": [
        {
          "output_type": "execute_result",
          "data": {
            "text/html": [
              "<div>\n",
              "<style scoped>\n",
              "    .dataframe tbody tr th:only-of-type {\n",
              "        vertical-align: middle;\n",
              "    }\n",
              "\n",
              "    .dataframe tbody tr th {\n",
              "        vertical-align: top;\n",
              "    }\n",
              "\n",
              "    .dataframe thead th {\n",
              "        text-align: right;\n",
              "    }\n",
              "</style>\n",
              "<table border=\"1\" class=\"dataframe\">\n",
              "  <thead>\n",
              "    <tr style=\"text-align: right;\">\n",
              "      <th></th>\n",
              "      <th>avg_score</th>\n",
              "      <th>cv_scores</th>\n",
              "      <th>feature_idx</th>\n",
              "      <th>feature_names</th>\n",
              "    </tr>\n",
              "  </thead>\n",
              "  <tbody>\n",
              "    <tr>\n",
              "      <th>1</th>\n",
              "      <td>0.803048</td>\n",
              "      <td>[0.8721461187214612, 0.730593607305936, 0.8401...</td>\n",
              "      <td>0,</td>\n",
              "      <td>(q_memory_cg,)</td>\n",
              "    </tr>\n",
              "    <tr>\n",
              "      <th>2</th>\n",
              "      <td>0.814966</td>\n",
              "      <td>[0.8812785388127854, 0.7442922374429224, 0.844...</td>\n",
              "      <td>0, 10</td>\n",
              "      <td>(q_memory_cg, moca_orient)</td>\n",
              "    </tr>\n",
              "    <tr>\n",
              "      <th>3</th>\n",
              "      <td>0.820467</td>\n",
              "      <td>[0.8767123287671232, 0.7534246575342466, 0.853...</td>\n",
              "      <td>0, 10, 47</td>\n",
              "      <td>(q_memory_cg, moca_orient, faq2)</td>\n",
              "    </tr>\n",
              "    <tr>\n",
              "      <th>4</th>\n",
              "      <td>0.823215</td>\n",
              "      <td>[0.8767123287671232, 0.7534246575342466, 0.863...</td>\n",
              "      <td>0, 3, 10, 47</td>\n",
              "      <td>(q_memory_cg, q_language_cg, moca_orient, faq2)</td>\n",
              "    </tr>\n",
              "    <tr>\n",
              "      <th>5</th>\n",
              "      <td>0.825954</td>\n",
              "      <td>[0.8767123287671232, 0.7671232876712328, 0.863...</td>\n",
              "      <td>0, 3, 10, 42, 47</td>\n",
              "      <td>(q_memory_cg, q_language_cg, moca_orient, hach...</td>\n",
              "    </tr>\n",
              "    <tr>\n",
              "      <th>6</th>\n",
              "      <td>0.826872</td>\n",
              "      <td>[0.8767123287671232, 0.7671232876712328, 0.863...</td>\n",
              "      <td>0, 3, 10, 41, 42, 47</td>\n",
              "      <td>(q_memory_cg, q_language_cg, moca_orient, hach...</td>\n",
              "    </tr>\n",
              "    <tr>\n",
              "      <th>7</th>\n",
              "      <td>0.826872</td>\n",
              "      <td>[0.8767123287671232, 0.7671232876712328, 0.863...</td>\n",
              "      <td>0, 3, 10, 14, 41, 42, 47</td>\n",
              "      <td>(q_memory_cg, q_language_cg, moca_orient, MMNA...</td>\n",
              "    </tr>\n",
              "    <tr>\n",
              "      <th>8</th>\n",
              "      <td>0.825967</td>\n",
              "      <td>[0.8767123287671232, 0.7579908675799086, 0.863...</td>\n",
              "      <td>0, 3, 6, 10, 14, 41, 42, 47</td>\n",
              "      <td>(q_memory_cg, q_language_cg, PTHAND, moca_orie...</td>\n",
              "    </tr>\n",
              "    <tr>\n",
              "      <th>9</th>\n",
              "      <td>0.825054</td>\n",
              "      <td>[0.8721461187214612, 0.7579908675799086, 0.863...</td>\n",
              "      <td>0, 3, 6, 10, 14, 31, 41, 42, 47</td>\n",
              "      <td>(q_memory_cg, q_language_cg, PTHAND, moca_orie...</td>\n",
              "    </tr>\n",
              "    <tr>\n",
              "      <th>10</th>\n",
              "      <td>0.824132</td>\n",
              "      <td>[0.8721461187214612, 0.7579908675799086, 0.863...</td>\n",
              "      <td>0, 3, 6, 10, 14, 31, 41, 42, 43, 47</td>\n",
              "      <td>(q_memory_cg, q_language_cg, PTHAND, moca_orie...</td>\n",
              "    </tr>\n",
              "    <tr>\n",
              "      <th>11</th>\n",
              "      <td>0.823215</td>\n",
              "      <td>[0.8721461187214612, 0.7579908675799086, 0.863...</td>\n",
              "      <td>0, 3, 6, 10, 14, 31, 41, 42, 43, 45, 47</td>\n",
              "      <td>(q_memory_cg, q_language_cg, PTHAND, moca_orie...</td>\n",
              "    </tr>\n",
              "    <tr>\n",
              "      <th>12</th>\n",
              "      <td>0.822318</td>\n",
              "      <td>[0.867579908675799, 0.7488584474885844, 0.8584...</td>\n",
              "      <td>0, 3, 6, 10, 14, 21, 31, 41, 42, 43, 45, 47</td>\n",
              "      <td>(q_memory_cg, q_language_cg, PTHAND, moca_orie...</td>\n",
              "    </tr>\n",
              "    <tr>\n",
              "      <th>13</th>\n",
              "      <td>0.81957</td>\n",
              "      <td>[0.867579908675799, 0.7442922374429224, 0.8584...</td>\n",
              "      <td>0, 3, 6, 10, 14, 21, 31, 38, 41, 42, 43, 45, 47</td>\n",
              "      <td>(q_memory_cg, q_language_cg, PTHAND, moca_orie...</td>\n",
              "    </tr>\n",
              "    <tr>\n",
              "      <th>14</th>\n",
              "      <td>0.81774</td>\n",
              "      <td>[0.8493150684931506, 0.7488584474885844, 0.867...</td>\n",
              "      <td>0, 3, 6, 10, 14, 21, 31, 34, 38, 41, 42, 43, 4...</td>\n",
              "      <td>(q_memory_cg, q_language_cg, PTHAND, moca_orie...</td>\n",
              "    </tr>\n",
              "    <tr>\n",
              "      <th>15</th>\n",
              "      <td>0.819595</td>\n",
              "      <td>[0.863013698630137, 0.730593607305936, 0.86301...</td>\n",
              "      <td>0, 3, 6, 10, 14, 21, 24, 31, 34, 38, 41, 42, 4...</td>\n",
              "      <td>(q_memory_cg, q_language_cg, PTHAND, moca_orie...</td>\n",
              "    </tr>\n",
              "    <tr>\n",
              "      <th>16</th>\n",
              "      <td>0.823253</td>\n",
              "      <td>[0.863013698630137, 0.7442922374429224, 0.8630...</td>\n",
              "      <td>0, 3, 6, 10, 14, 21, 24, 31, 34, 36, 38, 41, 4...</td>\n",
              "      <td>(q_memory_cg, q_language_cg, PTHAND, moca_orie...</td>\n",
              "    </tr>\n",
              "    <tr>\n",
              "      <th>17</th>\n",
              "      <td>0.821426</td>\n",
              "      <td>[0.8538812785388128, 0.7534246575342466, 0.858...</td>\n",
              "      <td>0, 3, 6, 10, 14, 21, 24, 31, 32, 34, 36, 38, 4...</td>\n",
              "      <td>(q_memory_cg, q_language_cg, PTHAND, moca_orie...</td>\n",
              "    </tr>\n",
              "    <tr>\n",
              "      <th>18</th>\n",
              "      <td>0.820505</td>\n",
              "      <td>[0.8584474885844748, 0.7442922374429224, 0.863...</td>\n",
              "      <td>0, 3, 6, 10, 14, 21, 24, 31, 32, 34, 36, 38, 3...</td>\n",
              "      <td>(q_memory_cg, q_language_cg, PTHAND, moca_orie...</td>\n",
              "    </tr>\n",
              "    <tr>\n",
              "      <th>19</th>\n",
              "      <td>0.821451</td>\n",
              "      <td>[0.8493150684931506, 0.7397260273972602, 0.858...</td>\n",
              "      <td>0, 3, 6, 10, 14, 21, 24, 25, 31, 32, 34, 36, 3...</td>\n",
              "      <td>(q_memory_cg, q_language_cg, PTHAND, moca_orie...</td>\n",
              "    </tr>\n",
              "    <tr>\n",
              "      <th>20</th>\n",
              "      <td>0.818695</td>\n",
              "      <td>[0.863013698630137, 0.7351598173515982, 0.8447...</td>\n",
              "      <td>0, 3, 6, 10, 12, 14, 21, 24, 25, 31, 32, 34, 3...</td>\n",
              "      <td>(q_memory_cg, q_language_cg, PTHAND, moca_orie...</td>\n",
              "    </tr>\n",
              "    <tr>\n",
              "      <th>21</th>\n",
              "      <td>0.825997</td>\n",
              "      <td>[0.8767123287671232, 0.7397260273972602, 0.863...</td>\n",
              "      <td>0, 3, 6, 10, 12, 14, 21, 24, 25, 29, 31, 32, 3...</td>\n",
              "      <td>(q_memory_cg, q_language_cg, PTHAND, moca_orie...</td>\n",
              "    </tr>\n",
              "    <tr>\n",
              "      <th>22</th>\n",
              "      <td>0.819616</td>\n",
              "      <td>[0.8538812785388128, 0.730593607305936, 0.8584...</td>\n",
              "      <td>0, 3, 6, 10, 12, 14, 15, 21, 24, 25, 29, 31, 3...</td>\n",
              "      <td>(q_memory_cg, q_language_cg, PTHAND, moca_orie...</td>\n",
              "    </tr>\n",
              "    <tr>\n",
              "      <th>23</th>\n",
              "      <td>0.814112</td>\n",
              "      <td>[0.8584474885844748, 0.7397260273972602, 0.840...</td>\n",
              "      <td>0, 3, 6, 10, 12, 14, 15, 21, 24, 25, 29, 31, 3...</td>\n",
              "      <td>(q_memory_cg, q_language_cg, PTHAND, moca_orie...</td>\n",
              "    </tr>\n",
              "    <tr>\n",
              "      <th>24</th>\n",
              "      <td>0.818665</td>\n",
              "      <td>[0.8721461187214612, 0.7351598173515982, 0.849...</td>\n",
              "      <td>0, 3, 6, 10, 12, 14, 15, 21, 24, 25, 29, 31, 3...</td>\n",
              "      <td>(q_memory_cg, q_language_cg, PTHAND, moca_orie...</td>\n",
              "    </tr>\n",
              "    <tr>\n",
              "      <th>25</th>\n",
              "      <td>0.829671</td>\n",
              "      <td>[0.8858447488584474, 0.7488584474885844, 0.849...</td>\n",
              "      <td>0, 1, 3, 6, 10, 12, 14, 15, 21, 24, 25, 29, 31...</td>\n",
              "      <td>(q_memory_cg, q_attention_cg, q_language_cg, P...</td>\n",
              "    </tr>\n",
              "    <tr>\n",
              "      <th>26</th>\n",
              "      <td>0.830567</td>\n",
              "      <td>[0.867579908675799, 0.771689497716895, 0.85844...</td>\n",
              "      <td>0, 1, 3, 6, 10, 12, 14, 15, 21, 23, 24, 25, 29...</td>\n",
              "      <td>(q_memory_cg, q_attention_cg, q_language_cg, P...</td>\n",
              "    </tr>\n",
              "    <tr>\n",
              "      <th>27</th>\n",
              "      <td>0.830533</td>\n",
              "      <td>[0.8812785388127854, 0.7625570776255708, 0.872...</td>\n",
              "      <td>0, 1, 3, 6, 10, 12, 14, 15, 19, 21, 23, 24, 25...</td>\n",
              "      <td>(q_memory_cg, q_attention_cg, q_language_cg, P...</td>\n",
              "    </tr>\n",
              "    <tr>\n",
              "      <th>28</th>\n",
              "      <td>0.834199</td>\n",
              "      <td>[0.8812785388127854, 0.7579908675799086, 0.881...</td>\n",
              "      <td>0, 1, 3, 6, 10, 12, 14, 15, 19, 21, 23, 24, 25...</td>\n",
              "      <td>(q_memory_cg, q_attention_cg, q_language_cg, P...</td>\n",
              "    </tr>\n",
              "    <tr>\n",
              "      <th>29</th>\n",
              "      <td>0.841534</td>\n",
              "      <td>[0.8949771689497716, 0.7671232876712328, 0.881...</td>\n",
              "      <td>0, 1, 3, 6, 10, 12, 14, 15, 18, 19, 21, 23, 24...</td>\n",
              "      <td>(q_memory_cg, q_attention_cg, q_language_cg, P...</td>\n",
              "    </tr>\n",
              "    <tr>\n",
              "      <th>30</th>\n",
              "      <td>0.835125</td>\n",
              "      <td>[0.8904109589041096, 0.771689497716895, 0.8630...</td>\n",
              "      <td>0, 1, 3, 6, 10, 12, 14, 15, 18, 19, 21, 23, 24...</td>\n",
              "      <td>(q_memory_cg, q_attention_cg, q_language_cg, P...</td>\n",
              "    </tr>\n",
              "  </tbody>\n",
              "</table>\n",
              "</div>"
            ],
            "text/plain": [
              "   avg_score  ...                                      feature_names\n",
              "1   0.803048  ...                                     (q_memory_cg,)\n",
              "2   0.814966  ...                         (q_memory_cg, moca_orient)\n",
              "3   0.820467  ...                   (q_memory_cg, moca_orient, faq2)\n",
              "4   0.823215  ...    (q_memory_cg, q_language_cg, moca_orient, faq2)\n",
              "5   0.825954  ...  (q_memory_cg, q_language_cg, moca_orient, hach...\n",
              "6   0.826872  ...  (q_memory_cg, q_language_cg, moca_orient, hach...\n",
              "7   0.826872  ...  (q_memory_cg, q_language_cg, moca_orient, MMNA...\n",
              "8   0.825967  ...  (q_memory_cg, q_language_cg, PTHAND, moca_orie...\n",
              "9   0.825054  ...  (q_memory_cg, q_language_cg, PTHAND, moca_orie...\n",
              "10  0.824132  ...  (q_memory_cg, q_language_cg, PTHAND, moca_orie...\n",
              "11  0.823215  ...  (q_memory_cg, q_language_cg, PTHAND, moca_orie...\n",
              "12  0.822318  ...  (q_memory_cg, q_language_cg, PTHAND, moca_orie...\n",
              "13   0.81957  ...  (q_memory_cg, q_language_cg, PTHAND, moca_orie...\n",
              "14   0.81774  ...  (q_memory_cg, q_language_cg, PTHAND, moca_orie...\n",
              "15  0.819595  ...  (q_memory_cg, q_language_cg, PTHAND, moca_orie...\n",
              "16  0.823253  ...  (q_memory_cg, q_language_cg, PTHAND, moca_orie...\n",
              "17  0.821426  ...  (q_memory_cg, q_language_cg, PTHAND, moca_orie...\n",
              "18  0.820505  ...  (q_memory_cg, q_language_cg, PTHAND, moca_orie...\n",
              "19  0.821451  ...  (q_memory_cg, q_language_cg, PTHAND, moca_orie...\n",
              "20  0.818695  ...  (q_memory_cg, q_language_cg, PTHAND, moca_orie...\n",
              "21  0.825997  ...  (q_memory_cg, q_language_cg, PTHAND, moca_orie...\n",
              "22  0.819616  ...  (q_memory_cg, q_language_cg, PTHAND, moca_orie...\n",
              "23  0.814112  ...  (q_memory_cg, q_language_cg, PTHAND, moca_orie...\n",
              "24  0.818665  ...  (q_memory_cg, q_language_cg, PTHAND, moca_orie...\n",
              "25  0.829671  ...  (q_memory_cg, q_attention_cg, q_language_cg, P...\n",
              "26  0.830567  ...  (q_memory_cg, q_attention_cg, q_language_cg, P...\n",
              "27  0.830533  ...  (q_memory_cg, q_attention_cg, q_language_cg, P...\n",
              "28  0.834199  ...  (q_memory_cg, q_attention_cg, q_language_cg, P...\n",
              "29  0.841534  ...  (q_memory_cg, q_attention_cg, q_language_cg, P...\n",
              "30  0.835125  ...  (q_memory_cg, q_attention_cg, q_language_cg, P...\n",
              "\n",
              "[30 rows x 4 columns]"
            ]
          },
          "metadata": {
            "tags": []
          },
          "execution_count": 54
        }
      ]
    },
    {
      "cell_type": "markdown",
      "metadata": {
        "colab_type": "text",
        "id": "ir4BWpVcofEl"
      },
      "source": [
        "#### Cost Sums"
      ]
    },
    {
      "cell_type": "code",
      "metadata": {
        "id": "IjEis3DaI7Td",
        "colab_type": "code",
        "colab": {}
      },
      "source": [
        "dill.load_session(f'{dir}/Sessions/costs_costweight50.db')\n",
        "df = pd.read_csv(f'{dir}/Output/cost_sum.csv')"
      ],
      "execution_count": 0,
      "outputs": []
    },
    {
      "cell_type": "code",
      "metadata": {
        "colab_type": "code",
        "outputId": "c46c5038-8ae0-4a26-fef8-2a58bc78937b",
        "id": "qpjABhz8ofEm",
        "colab": {
          "base_uri": "https://localhost:8080/",
          "height": 119
        }
      },
      "source": [
        "df = df.append(cost_sum(3,'cost', 50))"
      ],
      "execution_count": 0,
      "outputs": [
        {
          "output_type": "stream",
          "text": [
            "3  features.\n",
            "Accuracy:  0.8204666132690553\n",
            "Features:  ('q_memory_cg', 'moca_orient', 'faq2')\n",
            "Cost Sum:  3.5  Avg:  1.1666666666666667\n",
            "Cost Time:  3  Avg:  1.0\n",
            "Cost Diff:  4  Avg:  1.3333333333333333\n"
          ],
          "name": "stdout"
        }
      ]
    },
    {
      "cell_type": "code",
      "metadata": {
        "id": "JH_GmLVUSzpI",
        "colab_type": "code",
        "outputId": "3693c11a-41ad-4613-ed3d-69148bf98dcb",
        "colab": {
          "base_uri": "https://localhost:8080/",
          "height": 119
        }
      },
      "source": [
        "df = df.append(cost_sum(4,'cost', 50))"
      ],
      "execution_count": 0,
      "outputs": [
        {
          "output_type": "stream",
          "text": [
            "4  features.\n",
            "Accuracy:  0.8232147562734953\n",
            "Features:  ('q_memory_cg', 'q_language_cg', 'moca_orient', 'faq2')\n",
            "Cost Sum:  4.5  Avg:  1.125\n",
            "Cost Time:  4  Avg:  1.0\n",
            "Cost Diff:  5  Avg:  1.25\n"
          ],
          "name": "stdout"
        }
      ]
    },
    {
      "cell_type": "code",
      "metadata": {
        "id": "sU_RAGyTfdWw",
        "colab_type": "code",
        "outputId": "26dae102-2538-4a71-dfd5-8c88797542c6",
        "colab": {
          "base_uri": "https://localhost:8080/",
          "height": 119
        }
      },
      "source": [
        "df = df.append(cost_sum(5,'cost', 50))"
      ],
      "execution_count": 0,
      "outputs": [
        {
          "output_type": "stream",
          "text": [
            "5  features.\n",
            "Accuracy:  0.8259544823008926\n",
            "Features:  ('q_memory_cg', 'q_language_cg', 'moca_orient', 'hach2', 'faq2')\n",
            "Cost Sum:  6.0  Avg:  1.2\n",
            "Cost Time:  5  Avg:  1.0\n",
            "Cost Diff:  7  Avg:  1.4\n"
          ],
          "name": "stdout"
        }
      ]
    },
    {
      "cell_type": "code",
      "metadata": {
        "id": "ldZSBOx2wkW0",
        "colab_type": "code",
        "outputId": "6124e65c-215b-48cd-9452-0548b9fab743",
        "colab": {
          "base_uri": "https://localhost:8080/",
          "height": 119
        }
      },
      "source": [
        "df = df.append(cost_sum(6,'cost', 50))"
      ],
      "execution_count": 0,
      "outputs": [
        {
          "output_type": "stream",
          "text": [
            "6  features.\n",
            "Accuracy:  0.826871913493553\n",
            "Features:  ('q_memory_cg', 'q_language_cg', 'moca_orient', 'hach1', 'hach2', 'faq2')\n",
            "Cost Sum:  7.5  Avg:  1.25\n",
            "Cost Time:  6  Avg:  1.0\n",
            "Cost Diff:  9  Avg:  1.5\n"
          ],
          "name": "stdout"
        }
      ]
    },
    {
      "cell_type": "code",
      "metadata": {
        "id": "yXGO-Uyafe7A",
        "colab_type": "code",
        "outputId": "042158ce-d3e2-4a41-f2d1-b8d873a684f4",
        "colab": {
          "base_uri": "https://localhost:8080/",
          "height": 119
        }
      },
      "source": [
        "df = df.append(cost_sum(7,'cost', 50))"
      ],
      "execution_count": 0,
      "outputs": [
        {
          "output_type": "stream",
          "text": [
            "7  features.\n",
            "Accuracy:  0.826871913493553\n",
            "Features:  ('q_memory_cg', 'q_language_cg', 'moca_orient', 'MMNAME', 'hach1', 'hach2', 'faq2')\n",
            "Cost Sum:  8.5  Avg:  1.2142857142857142\n",
            "Cost Time:  7  Avg:  1.0\n",
            "Cost Diff:  10  Avg:  1.4285714285714286\n"
          ],
          "name": "stdout"
        }
      ]
    },
    {
      "cell_type": "code",
      "metadata": {
        "id": "TNdn-cA3wzTL",
        "colab_type": "code",
        "outputId": "9948f560-847b-479d-8f3c-2b1bc8833912",
        "colab": {
          "base_uri": "https://localhost:8080/",
          "height": 119
        }
      },
      "source": [
        "df = df.append(cost_sum(8,'cost', 50))"
      ],
      "execution_count": 0,
      "outputs": [
        {
          "output_type": "stream",
          "text": [
            "8  features.\n",
            "Accuracy:  0.8259670884614636\n",
            "Features:  ('q_memory_cg', 'q_language_cg', 'PTHAND', 'moca_orient', 'MMNAME', 'hach1', 'hach2', 'faq2')\n",
            "Cost Sum:  9.5  Avg:  1.1875\n",
            "Cost Time:  8  Avg:  1.0\n",
            "Cost Diff:  11  Avg:  1.375\n"
          ],
          "name": "stdout"
        }
      ]
    },
    {
      "cell_type": "code",
      "metadata": {
        "id": "AVdV9i0LNvyl",
        "colab_type": "code",
        "colab": {}
      },
      "source": [
        "df.to_csv(f'{dir}/Output/cost_sum.csv', index=False)"
      ],
      "execution_count": 0,
      "outputs": []
    },
    {
      "cell_type": "markdown",
      "metadata": {
        "colab_type": "text",
        "id": "RiIRqV95QMr5"
      },
      "source": [
        "#### 30 starting features"
      ]
    },
    {
      "cell_type": "code",
      "metadata": {
        "colab_type": "code",
        "id": "T4jHB-1cQMr8",
        "colab": {}
      },
      "source": [
        "features = pd.read_csv(f'{dir}/features_paired.csv')\n",
        "features['weight_x2'] = (features['avg_score'] + (features['cost_reverse']*2))/2\n",
        "features.sort_values('weight_x2', ascending=False, inplace=True)\n",
        "features = features.head(30)"
      ],
      "execution_count": 0,
      "outputs": []
    },
    {
      "cell_type": "code",
      "metadata": {
        "colab_type": "code",
        "id": "cvS-arElQMr-",
        "colab": {}
      },
      "source": [
        "from sklearn.ensemble import RandomForestClassifier\n",
        "from sklearn.model_selection import cross_val_score, StratifiedKFold\n",
        "\n",
        "cv = StratifiedKFold(n_splits=5)\n",
        "\n",
        "clf = RandomForestClassifier(n_estimators=100, max_features=.5)\n",
        "\n",
        "adni_pair_i_X = adni_pair_X.loc[:,features['feature']]"
      ],
      "execution_count": 0,
      "outputs": []
    },
    {
      "cell_type": "code",
      "metadata": {
        "colab_type": "code",
        "id": "RcFkAfGkQMsC",
        "colab": {}
      },
      "source": [
        "from mlxtend.feature_selection import SequentialFeatureSelector as SFS\n",
        "\n",
        "sfs1 = SFS(clf, \n",
        "           k_features=(30), \n",
        "           forward=True, \n",
        "           floating=False, \n",
        "           verbose=2,\n",
        "           scoring='accuracy',\n",
        "           cv=cv,\n",
        "           n_jobs=-1)\n",
        "\n",
        "sfs1 = sfs1.fit(adni_pair_i_X, adni_pair_y2.values.ravel())"
      ],
      "execution_count": 0,
      "outputs": []
    },
    {
      "cell_type": "code",
      "metadata": {
        "colab_type": "code",
        "id": "hBQGO9NnQMsE",
        "colab": {}
      },
      "source": [
        "f_costs = pd.DataFrame.from_dict(sfs1.subsets_)\n",
        "f_costs = f_costs.transpose()\n",
        "f_costs['feature_idx'] = f_costs['feature_idx'].apply(str).str.replace('(','').str.replace(')','')\n",
        "f_costs.to_csv(f'{dir}/Output/eff_features_paired_costweight_30.csv', index=False)\n"
      ],
      "execution_count": 0,
      "outputs": []
    },
    {
      "cell_type": "code",
      "metadata": {
        "id": "CMKgwizGIOkV",
        "colab_type": "code",
        "colab": {}
      },
      "source": [
        "dill.dump_session(f'{dir}/Sessions/costs_costweight30.db')"
      ],
      "execution_count": 0,
      "outputs": []
    },
    {
      "cell_type": "code",
      "metadata": {
        "colab_type": "code",
        "outputId": "03cbed98-26cd-4ed3-a9a5-34b7afc5b977",
        "id": "KTsaZ4xTQMsG",
        "colab": {
          "base_uri": "https://localhost:8080/",
          "height": 1000
        }
      },
      "source": [
        "f_costs"
      ],
      "execution_count": 0,
      "outputs": [
        {
          "output_type": "execute_result",
          "data": {
            "text/html": [
              "<div>\n",
              "<style scoped>\n",
              "    .dataframe tbody tr th:only-of-type {\n",
              "        vertical-align: middle;\n",
              "    }\n",
              "\n",
              "    .dataframe tbody tr th {\n",
              "        vertical-align: top;\n",
              "    }\n",
              "\n",
              "    .dataframe thead th {\n",
              "        text-align: right;\n",
              "    }\n",
              "</style>\n",
              "<table border=\"1\" class=\"dataframe\">\n",
              "  <thead>\n",
              "    <tr style=\"text-align: right;\">\n",
              "      <th></th>\n",
              "      <th>avg_score</th>\n",
              "      <th>cv_scores</th>\n",
              "      <th>feature_idx</th>\n",
              "      <th>feature_names</th>\n",
              "    </tr>\n",
              "  </thead>\n",
              "  <tbody>\n",
              "    <tr>\n",
              "      <th>1</th>\n",
              "      <td>0.803048</td>\n",
              "      <td>[0.8721461187214612, 0.730593607305936, 0.8401...</td>\n",
              "      <td>0,</td>\n",
              "      <td>(q_memory_cg,)</td>\n",
              "    </tr>\n",
              "    <tr>\n",
              "      <th>2</th>\n",
              "      <td>0.814966</td>\n",
              "      <td>[0.8812785388127854, 0.7442922374429224, 0.844...</td>\n",
              "      <td>0, 10</td>\n",
              "      <td>(q_memory_cg, moca_orient)</td>\n",
              "    </tr>\n",
              "    <tr>\n",
              "      <th>3</th>\n",
              "      <td>0.819549</td>\n",
              "      <td>[0.8767123287671232, 0.7534246575342466, 0.853...</td>\n",
              "      <td>0, 3, 10</td>\n",
              "      <td>(q_memory_cg, q_language_cg, moca_orient)</td>\n",
              "    </tr>\n",
              "    <tr>\n",
              "      <th>4</th>\n",
              "      <td>0.824132</td>\n",
              "      <td>[0.8767123287671232, 0.7579908675799086, 0.858...</td>\n",
              "      <td>0, 3, 10, 12</td>\n",
              "      <td>(q_memory_cg, q_language_cg, moca_orient, q_ou...</td>\n",
              "    </tr>\n",
              "    <tr>\n",
              "      <th>5</th>\n",
              "      <td>0.829624</td>\n",
              "      <td>[0.8858447488584474, 0.7579908675799086, 0.867...</td>\n",
              "      <td>0, 3, 10, 12, 29</td>\n",
              "      <td>(q_memory_cg, q_language_cg, moca_orient, q_ou...</td>\n",
              "    </tr>\n",
              "    <tr>\n",
              "      <th>6</th>\n",
              "      <td>0.829624</td>\n",
              "      <td>[0.8858447488584474, 0.7579908675799086, 0.867...</td>\n",
              "      <td>0, 3, 10, 12, 14, 29</td>\n",
              "      <td>(q_memory_cg, q_language_cg, moca_orient, q_ou...</td>\n",
              "    </tr>\n",
              "    <tr>\n",
              "      <th>7</th>\n",
              "      <td>0.828711</td>\n",
              "      <td>[0.8812785388127854, 0.7579908675799086, 0.867...</td>\n",
              "      <td>0, 3, 10, 12, 13, 14, 29</td>\n",
              "      <td>(q_memory_cg, q_language_cg, moca_orient, q_ou...</td>\n",
              "    </tr>\n",
              "    <tr>\n",
              "      <th>8</th>\n",
              "      <td>0.829658</td>\n",
              "      <td>[0.863013698630137, 0.7351598173515982, 0.8858...</td>\n",
              "      <td>0, 2, 3, 10, 12, 13, 14, 29</td>\n",
              "      <td>(q_memory_cg, q_memory_pt, q_language_cg, moca...</td>\n",
              "    </tr>\n",
              "    <tr>\n",
              "      <th>9</th>\n",
              "      <td>0.829645</td>\n",
              "      <td>[0.863013698630137, 0.7579908675799086, 0.8767...</td>\n",
              "      <td>0, 2, 3, 4, 10, 12, 13, 14, 29</td>\n",
              "      <td>(q_memory_cg, q_memory_pt, q_language_cg, moca...</td>\n",
              "    </tr>\n",
              "    <tr>\n",
              "      <th>10</th>\n",
              "      <td>0.828715</td>\n",
              "      <td>[0.867579908675799, 0.7534246575342466, 0.8721...</td>\n",
              "      <td>0, 2, 3, 4, 9, 10, 12, 13, 14, 29</td>\n",
              "      <td>(q_memory_cg, q_memory_pt, q_language_cg, moca...</td>\n",
              "    </tr>\n",
              "    <tr>\n",
              "      <th>11</th>\n",
              "      <td>0.826889</td>\n",
              "      <td>[0.8767123287671232, 0.7671232876712328, 0.858...</td>\n",
              "      <td>0, 2, 3, 4, 9, 10, 12, 13, 14, 27, 29</td>\n",
              "      <td>(q_memory_cg, q_memory_pt, q_language_cg, moca...</td>\n",
              "    </tr>\n",
              "    <tr>\n",
              "      <th>12</th>\n",
              "      <td>0.833281</td>\n",
              "      <td>[0.8812785388127854, 0.776255707762557, 0.8767...</td>\n",
              "      <td>0, 2, 3, 4, 9, 10, 12, 13, 14, 21, 27, 29</td>\n",
              "      <td>(q_memory_cg, q_memory_pt, q_language_cg, moca...</td>\n",
              "    </tr>\n",
              "    <tr>\n",
              "      <th>13</th>\n",
              "      <td>0.83236</td>\n",
              "      <td>[0.867579908675799, 0.7808219178082192, 0.8858...</td>\n",
              "      <td>0, 1, 2, 3, 4, 9, 10, 12, 13, 14, 21, 27, 29</td>\n",
              "      <td>(q_memory_cg, q_attention_cg, q_memory_pt, q_l...</td>\n",
              "    </tr>\n",
              "    <tr>\n",
              "      <th>14</th>\n",
              "      <td>0.836034</td>\n",
              "      <td>[0.8812785388127854, 0.776255707762557, 0.8721...</td>\n",
              "      <td>0, 1, 2, 3, 4, 9, 10, 11, 12, 13, 14, 21, 27, 29</td>\n",
              "      <td>(q_memory_cg, q_attention_cg, q_memory_pt, q_l...</td>\n",
              "    </tr>\n",
              "    <tr>\n",
              "      <th>15</th>\n",
              "      <td>0.845183</td>\n",
              "      <td>[0.8858447488584474, 0.7853881278538812, 0.885...</td>\n",
              "      <td>0, 1, 2, 3, 4, 9, 10, 11, 12, 13, 14, 19, 21, ...</td>\n",
              "      <td>(q_memory_cg, q_attention_cg, q_memory_pt, q_l...</td>\n",
              "    </tr>\n",
              "    <tr>\n",
              "      <th>16</th>\n",
              "      <td>0.846096</td>\n",
              "      <td>[0.8767123287671232, 0.7990867579908676, 0.885...</td>\n",
              "      <td>0, 1, 2, 3, 4, 9, 10, 11, 12, 13, 14, 19, 21, ...</td>\n",
              "      <td>(q_memory_cg, q_attention_cg, q_memory_pt, q_l...</td>\n",
              "    </tr>\n",
              "    <tr>\n",
              "      <th>17</th>\n",
              "      <td>0.843352</td>\n",
              "      <td>[0.8812785388127854, 0.7990867579908676, 0.872...</td>\n",
              "      <td>0, 1, 2, 3, 4, 9, 10, 11, 12, 13, 14, 15, 19, ...</td>\n",
              "      <td>(q_memory_cg, q_attention_cg, q_memory_pt, q_l...</td>\n",
              "    </tr>\n",
              "    <tr>\n",
              "      <th>18</th>\n",
              "      <td>0.8406</td>\n",
              "      <td>[0.8858447488584474, 0.7808219178082192, 0.876...</td>\n",
              "      <td>0, 1, 2, 3, 4, 9, 10, 11, 12, 13, 14, 15, 17, ...</td>\n",
              "      <td>(q_memory_cg, q_attention_cg, q_memory_pt, q_l...</td>\n",
              "    </tr>\n",
              "    <tr>\n",
              "      <th>19</th>\n",
              "      <td>0.840604</td>\n",
              "      <td>[0.8812785388127854, 0.7990867579908676, 0.867...</td>\n",
              "      <td>0, 1, 2, 3, 4, 5, 9, 10, 11, 12, 13, 14, 15, 1...</td>\n",
              "      <td>(q_memory_cg, q_attention_cg, q_memory_pt, q_l...</td>\n",
              "    </tr>\n",
              "    <tr>\n",
              "      <th>20</th>\n",
              "      <td>0.837869</td>\n",
              "      <td>[0.8949771689497716, 0.7534246575342466, 0.876...</td>\n",
              "      <td>0, 1, 2, 3, 4, 5, 9, 10, 11, 12, 13, 14, 15, 1...</td>\n",
              "      <td>(q_memory_cg, q_attention_cg, q_memory_pt, q_l...</td>\n",
              "    </tr>\n",
              "    <tr>\n",
              "      <th>21</th>\n",
              "      <td>0.844291</td>\n",
              "      <td>[0.8995433789954338, 0.7671232876712328, 0.876...</td>\n",
              "      <td>0, 1, 2, 3, 4, 5, 6, 9, 10, 11, 12, 13, 14, 15...</td>\n",
              "      <td>(q_memory_cg, q_attention_cg, q_memory_pt, q_l...</td>\n",
              "    </tr>\n",
              "    <tr>\n",
              "      <th>22</th>\n",
              "      <td>0.837864</td>\n",
              "      <td>[0.9041095890410958, 0.7625570776255708, 0.867...</td>\n",
              "      <td>0, 1, 2, 3, 4, 5, 6, 9, 10, 11, 12, 13, 14, 15...</td>\n",
              "      <td>(q_memory_cg, q_attention_cg, q_memory_pt, q_l...</td>\n",
              "    </tr>\n",
              "    <tr>\n",
              "      <th>23</th>\n",
              "      <td>0.832393</td>\n",
              "      <td>[0.8721461187214612, 0.771689497716895, 0.8630...</td>\n",
              "      <td>0, 1, 2, 3, 4, 5, 6, 9, 10, 11, 12, 13, 14, 15...</td>\n",
              "      <td>(q_memory_cg, q_attention_cg, q_memory_pt, q_l...</td>\n",
              "    </tr>\n",
              "    <tr>\n",
              "      <th>24</th>\n",
              "      <td>0.840608</td>\n",
              "      <td>[0.8767123287671232, 0.7853881278538812, 0.885...</td>\n",
              "      <td>0, 1, 2, 3, 4, 5, 6, 9, 10, 11, 12, 13, 14, 15...</td>\n",
              "      <td>(q_memory_cg, q_attention_cg, q_memory_pt, q_l...</td>\n",
              "    </tr>\n",
              "    <tr>\n",
              "      <th>25</th>\n",
              "      <td>0.838778</td>\n",
              "      <td>[0.8858447488584474, 0.771689497716895, 0.8812...</td>\n",
              "      <td>0, 1, 2, 3, 4, 5, 6, 8, 9, 10, 11, 12, 13, 14,...</td>\n",
              "      <td>(q_memory_cg, q_attention_cg, q_memory_pt, q_l...</td>\n",
              "    </tr>\n",
              "    <tr>\n",
              "      <th>26</th>\n",
              "      <td>0.833294</td>\n",
              "      <td>[0.8812785388127854, 0.7625570776255708, 0.872...</td>\n",
              "      <td>0, 1, 2, 3, 4, 5, 6, 8, 9, 10, 11, 12, 13, 14,...</td>\n",
              "      <td>(q_memory_cg, q_attention_cg, q_memory_pt, q_l...</td>\n",
              "    </tr>\n",
              "    <tr>\n",
              "      <th>27</th>\n",
              "      <td>0.836934</td>\n",
              "      <td>[0.8995433789954338, 0.771689497716895, 0.8812...</td>\n",
              "      <td>0, 1, 2, 3, 4, 5, 6, 7, 8, 9, 10, 11, 12, 13, ...</td>\n",
              "      <td>(q_memory_cg, q_attention_cg, q_memory_pt, q_l...</td>\n",
              "    </tr>\n",
              "    <tr>\n",
              "      <th>28</th>\n",
              "      <td>0.830537</td>\n",
              "      <td>[0.8721461187214612, 0.7671232876712328, 0.876...</td>\n",
              "      <td>0, 1, 2, 3, 4, 5, 6, 7, 8, 9, 10, 11, 12, 13, ...</td>\n",
              "      <td>(q_memory_cg, q_attention_cg, q_memory_pt, q_l...</td>\n",
              "    </tr>\n",
              "    <tr>\n",
              "      <th>29</th>\n",
              "      <td>0.822306</td>\n",
              "      <td>[0.863013698630137, 0.7625570776255708, 0.8584...</td>\n",
              "      <td>0, 1, 2, 3, 4, 5, 6, 7, 8, 9, 10, 11, 12, 13, ...</td>\n",
              "      <td>(q_memory_cg, q_attention_cg, q_memory_pt, q_l...</td>\n",
              "    </tr>\n",
              "    <tr>\n",
              "      <th>30</th>\n",
              "      <td>0.814966</td>\n",
              "      <td>[0.8538812785388128, 0.7579908675799086, 0.863...</td>\n",
              "      <td>0, 1, 2, 3, 4, 5, 6, 7, 8, 9, 10, 11, 12, 13, ...</td>\n",
              "      <td>(q_memory_cg, q_attention_cg, q_memory_pt, q_l...</td>\n",
              "    </tr>\n",
              "  </tbody>\n",
              "</table>\n",
              "</div>"
            ],
            "text/plain": [
              "   avg_score  ...                                      feature_names\n",
              "1   0.803048  ...                                     (q_memory_cg,)\n",
              "2   0.814966  ...                         (q_memory_cg, moca_orient)\n",
              "3   0.819549  ...          (q_memory_cg, q_language_cg, moca_orient)\n",
              "4   0.824132  ...  (q_memory_cg, q_language_cg, moca_orient, q_ou...\n",
              "5   0.829624  ...  (q_memory_cg, q_language_cg, moca_orient, q_ou...\n",
              "6   0.829624  ...  (q_memory_cg, q_language_cg, moca_orient, q_ou...\n",
              "7   0.828711  ...  (q_memory_cg, q_language_cg, moca_orient, q_ou...\n",
              "8   0.829658  ...  (q_memory_cg, q_memory_pt, q_language_cg, moca...\n",
              "9   0.829645  ...  (q_memory_cg, q_memory_pt, q_language_cg, moca...\n",
              "10  0.828715  ...  (q_memory_cg, q_memory_pt, q_language_cg, moca...\n",
              "11  0.826889  ...  (q_memory_cg, q_memory_pt, q_language_cg, moca...\n",
              "12  0.833281  ...  (q_memory_cg, q_memory_pt, q_language_cg, moca...\n",
              "13   0.83236  ...  (q_memory_cg, q_attention_cg, q_memory_pt, q_l...\n",
              "14  0.836034  ...  (q_memory_cg, q_attention_cg, q_memory_pt, q_l...\n",
              "15  0.845183  ...  (q_memory_cg, q_attention_cg, q_memory_pt, q_l...\n",
              "16  0.846096  ...  (q_memory_cg, q_attention_cg, q_memory_pt, q_l...\n",
              "17  0.843352  ...  (q_memory_cg, q_attention_cg, q_memory_pt, q_l...\n",
              "18    0.8406  ...  (q_memory_cg, q_attention_cg, q_memory_pt, q_l...\n",
              "19  0.840604  ...  (q_memory_cg, q_attention_cg, q_memory_pt, q_l...\n",
              "20  0.837869  ...  (q_memory_cg, q_attention_cg, q_memory_pt, q_l...\n",
              "21  0.844291  ...  (q_memory_cg, q_attention_cg, q_memory_pt, q_l...\n",
              "22  0.837864  ...  (q_memory_cg, q_attention_cg, q_memory_pt, q_l...\n",
              "23  0.832393  ...  (q_memory_cg, q_attention_cg, q_memory_pt, q_l...\n",
              "24  0.840608  ...  (q_memory_cg, q_attention_cg, q_memory_pt, q_l...\n",
              "25  0.838778  ...  (q_memory_cg, q_attention_cg, q_memory_pt, q_l...\n",
              "26  0.833294  ...  (q_memory_cg, q_attention_cg, q_memory_pt, q_l...\n",
              "27  0.836934  ...  (q_memory_cg, q_attention_cg, q_memory_pt, q_l...\n",
              "28  0.830537  ...  (q_memory_cg, q_attention_cg, q_memory_pt, q_l...\n",
              "29  0.822306  ...  (q_memory_cg, q_attention_cg, q_memory_pt, q_l...\n",
              "30  0.814966  ...  (q_memory_cg, q_attention_cg, q_memory_pt, q_l...\n",
              "\n",
              "[30 rows x 4 columns]"
            ]
          },
          "metadata": {
            "tags": []
          },
          "execution_count": 60
        }
      ]
    },
    {
      "cell_type": "markdown",
      "metadata": {
        "colab_type": "text",
        "id": "1VGO5Q5yQMsJ"
      },
      "source": [
        "#### Cost Sums"
      ]
    },
    {
      "cell_type": "code",
      "metadata": {
        "id": "gnN1hAorI-Wg",
        "colab_type": "code",
        "colab": {}
      },
      "source": [
        "dill.load_session(f'{dir}/Sessions/costs_costweight30.db')\n",
        "df = pd.read_csv(f'{dir}/Output/cost_sum.csv')"
      ],
      "execution_count": 0,
      "outputs": []
    },
    {
      "cell_type": "code",
      "metadata": {
        "colab_type": "code",
        "outputId": "6b33789d-14d0-46ed-e90d-7a7c8cfff4ab",
        "id": "0_lZUQXEQMsJ",
        "colab": {
          "base_uri": "https://localhost:8080/",
          "height": 119
        }
      },
      "source": [
        "df = df.append(cost_sum(4,'cost', 30))"
      ],
      "execution_count": 0,
      "outputs": [
        {
          "output_type": "stream",
          "text": [
            "4  features.\n",
            "Accuracy:  0.8241321874661558\n",
            "Features:  ('q_memory_cg', 'q_language_cg', 'moca_orient', 'q_outsideact_pt')\n",
            "Cost Sum:  4.0  Avg:  1.0\n",
            "Cost Time:  4  Avg:  1.0\n",
            "Cost Diff:  4  Avg:  1.0\n"
          ],
          "name": "stdout"
        }
      ]
    },
    {
      "cell_type": "code",
      "metadata": {
        "id": "b-QGuiivQQic",
        "colab_type": "code",
        "outputId": "dbbef010-cfe5-4ac9-da08-7d8488dfedd3",
        "colab": {
          "base_uri": "https://localhost:8080/",
          "height": 119
        }
      },
      "source": [
        "df = df.append(cost_sum(5,'cost', 30))"
      ],
      "execution_count": 0,
      "outputs": [
        {
          "output_type": "stream",
          "text": [
            "5  features.\n",
            "Accuracy:  0.8296242456815213\n",
            "Features:  ('q_memory_cg', 'q_language_cg', 'moca_orient', 'q_outsideact_pt', 'faq3')\n",
            "Cost Sum:  5.5  Avg:  1.1\n",
            "Cost Time:  5  Avg:  1.0\n",
            "Cost Diff:  6  Avg:  1.2\n"
          ],
          "name": "stdout"
        }
      ]
    },
    {
      "cell_type": "code",
      "metadata": {
        "id": "DF7h5WkxjeYP",
        "colab_type": "code",
        "outputId": "2f20bbe8-41e6-46ab-b3ba-f012bf25a0b6",
        "colab": {
          "base_uri": "https://localhost:8080/",
          "height": 119
        }
      },
      "source": [
        "df = df.append(cost_sum(6,'cost', 30))"
      ],
      "execution_count": 0,
      "outputs": [
        {
          "output_type": "stream",
          "text": [
            "6  features.\n",
            "Accuracy:  0.8296242456815213\n",
            "Features:  ('q_memory_cg', 'q_language_cg', 'moca_orient', 'q_outsideact_pt', 'MMNAME', 'faq3')\n",
            "Cost Sum:  6.5  Avg:  1.0833333333333333\n",
            "Cost Time:  6  Avg:  1.0\n",
            "Cost Diff:  7  Avg:  1.1666666666666667\n"
          ],
          "name": "stdout"
        }
      ]
    },
    {
      "cell_type": "code",
      "metadata": {
        "id": "QPJ6Z9ncxI0l",
        "colab_type": "code",
        "outputId": "71dc0c28-29fa-420e-cb94-bc173b9363ac",
        "colab": {
          "base_uri": "https://localhost:8080/",
          "height": 119
        }
      },
      "source": [
        "df = df.append(cost_sum(7,'cost', 30))"
      ],
      "execution_count": 0,
      "outputs": [
        {
          "output_type": "stream",
          "text": [
            "7  features.\n",
            "Accuracy:  0.8287110036723888\n",
            "Features:  ('q_memory_cg', 'q_language_cg', 'moca_orient', 'q_outsideact_pt', 'q_judgmt_pt', 'MMNAME', 'faq3')\n",
            "Cost Sum:  7.5  Avg:  1.0714285714285714\n",
            "Cost Time:  7  Avg:  1.0\n",
            "Cost Diff:  8  Avg:  1.1428571428571428\n"
          ],
          "name": "stdout"
        }
      ]
    },
    {
      "cell_type": "code",
      "metadata": {
        "id": "d1jHCp-FxNXM",
        "colab_type": "code",
        "outputId": "46c5183c-d6a8-4b4e-9d03-c122c3ee9137",
        "colab": {
          "base_uri": "https://localhost:8080/",
          "height": 119
        }
      },
      "source": [
        "df = df.append(cost_sum(12,'cost', 30))"
      ],
      "execution_count": 0,
      "outputs": [
        {
          "output_type": "stream",
          "text": [
            "12  features.\n",
            "Accuracy:  0.833281480121552\n",
            "Features:  ('q_memory_cg', 'q_memory_pt', 'q_language_cg', 'moca_similarities', 'q_attention_pt', 'moca_orient', 'q_outsideact_pt', 'q_judgmt_pt', 'MMNAME', 'PTRACE', 'verbal_fluency', 'faq3')\n",
            "Cost Sum:  13.0  Avg:  1.0833333333333333\n",
            "Cost Time:  13  Avg:  1.0833333333333333\n",
            "Cost Diff:  13  Avg:  1.0833333333333333\n"
          ],
          "name": "stdout"
        }
      ]
    },
    {
      "cell_type": "code",
      "metadata": {
        "id": "WaI3QOh6xU3r",
        "colab_type": "code",
        "outputId": "c1cfda27-207d-4b2f-c707-0d05bb32bfcf",
        "colab": {
          "base_uri": "https://localhost:8080/",
          "height": 139
        }
      },
      "source": [
        "df = df.append(cost_sum(15,'cost', 30))"
      ],
      "execution_count": 0,
      "outputs": [
        {
          "output_type": "stream",
          "text": [
            "15  features.\n",
            "Accuracy:  0.8451829119149838\n",
            "Features:  ('q_memory_cg', 'q_attention_cg', 'q_memory_pt', 'q_language_cg', 'moca_similarities', 'q_attention_pt', 'moca_orient', 'FAMHISTAD', 'q_outsideact_pt', 'q_judgmt_pt', 'MMNAME', 'q_orient_pt', 'PTRACE', 'verbal_fluency', 'faq3')\n",
            "Cost Sum:  16.0  Avg:  1.0666666666666667\n",
            "Cost Time:  16  Avg:  1.0666666666666667\n",
            "Cost Diff:  16  Avg:  1.0666666666666667\n"
          ],
          "name": "stdout"
        }
      ]
    },
    {
      "cell_type": "code",
      "metadata": {
        "id": "TdYHIxffxYtL",
        "colab_type": "code",
        "outputId": "7ab373d1-fbd2-454b-a59c-0289f7e3bc3e",
        "colab": {
          "base_uri": "https://localhost:8080/",
          "height": 139
        }
      },
      "source": [
        "df = df.append(cost_sum(16,'cost', 30))"
      ],
      "execution_count": 0,
      "outputs": [
        {
          "output_type": "stream",
          "text": [
            "16  features.\n",
            "Accuracy:  0.8460961539241163\n",
            "Features:  ('q_memory_cg', 'q_attention_cg', 'q_memory_pt', 'q_language_cg', 'moca_similarities', 'q_attention_pt', 'moca_orient', 'FAMHISTAD', 'q_outsideact_pt', 'q_judgmt_pt', 'MMNAME', 'q_orient_pt', 'PTRACE', 'q_judgmt_cg', 'verbal_fluency', 'faq3')\n",
            "Cost Sum:  17.0  Avg:  1.0625\n",
            "Cost Time:  17  Avg:  1.0625\n",
            "Cost Diff:  17  Avg:  1.0625\n"
          ],
          "name": "stdout"
        }
      ]
    },
    {
      "cell_type": "code",
      "metadata": {
        "id": "2DTxpmOKNxDd",
        "colab_type": "code",
        "colab": {}
      },
      "source": [
        "df.to_csv(f'{dir}/Output/cost_sum.csv', index=False)"
      ],
      "execution_count": 0,
      "outputs": []
    },
    {
      "cell_type": "markdown",
      "metadata": {
        "colab_type": "text",
        "id": "BLuoBTv7QQs4"
      },
      "source": [
        "#### 15 starting features"
      ]
    },
    {
      "cell_type": "code",
      "metadata": {
        "colab_type": "code",
        "id": "8B1mus1bQQs4",
        "colab": {}
      },
      "source": [
        "features = pd.read_csv(f'{dir}/features_paired.csv')\n",
        "features['weight_x2'] = (features['avg_score'] + (features['cost_reverse']*2))/2\n",
        "features.sort_values('weight_x2', ascending=False, inplace=True)\n",
        "features = features.head(15)"
      ],
      "execution_count": 0,
      "outputs": []
    },
    {
      "cell_type": "code",
      "metadata": {
        "colab_type": "code",
        "id": "qGeEgKjRQQs5",
        "colab": {}
      },
      "source": [
        "from sklearn.ensemble import RandomForestClassifier\n",
        "from sklearn.model_selection import cross_val_score, StratifiedKFold\n",
        "\n",
        "cv = StratifiedKFold(n_splits=5)\n",
        "\n",
        "clf = RandomForestClassifier(n_estimators=100, max_features=.5)\n",
        "\n",
        "adni_pair_i_X = adni_pair_X.loc[:,features['feature']]"
      ],
      "execution_count": 0,
      "outputs": []
    },
    {
      "cell_type": "code",
      "metadata": {
        "colab_type": "code",
        "id": "exeG31g1QQs6",
        "colab": {}
      },
      "source": [
        "from mlxtend.feature_selection import SequentialFeatureSelector as SFS\n",
        "\n",
        "sfs1 = SFS(clf, \n",
        "           k_features=(15), \n",
        "           forward=True, \n",
        "           floating=False, \n",
        "           verbose=2,\n",
        "           scoring='accuracy',\n",
        "           cv=cv,\n",
        "           n_jobs=-1)\n",
        "\n",
        "sfs1 = sfs1.fit(adni_pair_i_X, adni_pair_y2.values.ravel())"
      ],
      "execution_count": 0,
      "outputs": []
    },
    {
      "cell_type": "code",
      "metadata": {
        "colab_type": "code",
        "id": "V-kCKPZOQQs7",
        "colab": {}
      },
      "source": [
        "f_costs = pd.DataFrame.from_dict(sfs1.subsets_)\n",
        "f_costs = f_costs.transpose()\n",
        "f_costs['feature_idx'] = f_costs['feature_idx'].apply(str).str.replace('(','').str.replace(')','')\n",
        "f_costs.to_csv(f'{dir}/Output/eff_features_paired_costweight_15.csv', index=False)\n"
      ],
      "execution_count": 0,
      "outputs": []
    },
    {
      "cell_type": "code",
      "metadata": {
        "id": "VvYbb-pbIQK8",
        "colab_type": "code",
        "colab": {}
      },
      "source": [
        "dill.dump_session(f'{dir}/Sessions/costs_costweight15.db')"
      ],
      "execution_count": 0,
      "outputs": []
    },
    {
      "cell_type": "code",
      "metadata": {
        "colab_type": "code",
        "outputId": "93c4d426-6adf-40e0-f4d2-0f042a5c30d8",
        "id": "iLEbgR1PQQs9",
        "colab": {
          "base_uri": "https://localhost:8080/",
          "height": 757
        }
      },
      "source": [
        "f_costs"
      ],
      "execution_count": 0,
      "outputs": [
        {
          "output_type": "execute_result",
          "data": {
            "text/html": [
              "<div>\n",
              "<style scoped>\n",
              "    .dataframe tbody tr th:only-of-type {\n",
              "        vertical-align: middle;\n",
              "    }\n",
              "\n",
              "    .dataframe tbody tr th {\n",
              "        vertical-align: top;\n",
              "    }\n",
              "\n",
              "    .dataframe thead th {\n",
              "        text-align: right;\n",
              "    }\n",
              "</style>\n",
              "<table border=\"1\" class=\"dataframe\">\n",
              "  <thead>\n",
              "    <tr style=\"text-align: right;\">\n",
              "      <th></th>\n",
              "      <th>avg_score</th>\n",
              "      <th>cv_scores</th>\n",
              "      <th>feature_idx</th>\n",
              "      <th>feature_names</th>\n",
              "    </tr>\n",
              "  </thead>\n",
              "  <tbody>\n",
              "    <tr>\n",
              "      <th>1</th>\n",
              "      <td>0.803048</td>\n",
              "      <td>[0.8721461187214612, 0.730593607305936, 0.8401...</td>\n",
              "      <td>0,</td>\n",
              "      <td>(q_memory_cg,)</td>\n",
              "    </tr>\n",
              "    <tr>\n",
              "      <th>2</th>\n",
              "      <td>0.814966</td>\n",
              "      <td>[0.8812785388127854, 0.7442922374429224, 0.844...</td>\n",
              "      <td>0, 10</td>\n",
              "      <td>(q_memory_cg, moca_orient)</td>\n",
              "    </tr>\n",
              "    <tr>\n",
              "      <th>3</th>\n",
              "      <td>0.820462</td>\n",
              "      <td>[0.8812785388127854, 0.7534246575342466, 0.853...</td>\n",
              "      <td>0, 3, 10</td>\n",
              "      <td>(q_memory_cg, q_language_cg, moca_orient)</td>\n",
              "    </tr>\n",
              "    <tr>\n",
              "      <th>4</th>\n",
              "      <td>0.823219</td>\n",
              "      <td>[0.8767123287671232, 0.7579908675799086, 0.853...</td>\n",
              "      <td>0, 3, 10, 12</td>\n",
              "      <td>(q_memory_cg, q_language_cg, moca_orient, q_ou...</td>\n",
              "    </tr>\n",
              "    <tr>\n",
              "      <th>5</th>\n",
              "      <td>0.824132</td>\n",
              "      <td>[0.8767123287671232, 0.7579908675799086, 0.858...</td>\n",
              "      <td>0, 3, 6, 10, 12</td>\n",
              "      <td>(q_memory_cg, q_language_cg, PTHAND, moca_orie...</td>\n",
              "    </tr>\n",
              "    <tr>\n",
              "      <th>6</th>\n",
              "      <td>0.822306</td>\n",
              "      <td>[0.867579908675799, 0.7579908675799086, 0.8584...</td>\n",
              "      <td>0, 3, 6, 10, 12, 14</td>\n",
              "      <td>(q_memory_cg, q_language_cg, PTHAND, moca_orie...</td>\n",
              "    </tr>\n",
              "    <tr>\n",
              "      <th>7</th>\n",
              "      <td>0.817723</td>\n",
              "      <td>[0.8538812785388128, 0.7579908675799086, 0.858...</td>\n",
              "      <td>0, 2, 3, 6, 10, 12, 14</td>\n",
              "      <td>(q_memory_cg, q_memory_pt, q_language_cg, PTHA...</td>\n",
              "    </tr>\n",
              "    <tr>\n",
              "      <th>8</th>\n",
              "      <td>0.82231</td>\n",
              "      <td>[0.863013698630137, 0.7442922374429224, 0.8675...</td>\n",
              "      <td>0, 2, 3, 6, 10, 12, 13, 14</td>\n",
              "      <td>(q_memory_cg, q_memory_pt, q_language_cg, PTHA...</td>\n",
              "    </tr>\n",
              "    <tr>\n",
              "      <th>9</th>\n",
              "      <td>0.822314</td>\n",
              "      <td>[0.8538812785388128, 0.7671232876712328, 0.853...</td>\n",
              "      <td>0, 2, 3, 4, 6, 10, 12, 13, 14</td>\n",
              "      <td>(q_memory_cg, q_memory_pt, q_language_cg, moca...</td>\n",
              "    </tr>\n",
              "    <tr>\n",
              "      <th>10</th>\n",
              "      <td>0.819574</td>\n",
              "      <td>[0.863013698630137, 0.776255707762557, 0.82648...</td>\n",
              "      <td>0, 2, 3, 4, 6, 10, 11, 12, 13, 14</td>\n",
              "      <td>(q_memory_cg, q_memory_pt, q_language_cg, moca...</td>\n",
              "    </tr>\n",
              "    <tr>\n",
              "      <th>11</th>\n",
              "      <td>0.824158</td>\n",
              "      <td>[0.8721461187214612, 0.7808219178082192, 0.835...</td>\n",
              "      <td>0, 2, 3, 4, 6, 7, 10, 11, 12, 13, 14</td>\n",
              "      <td>(q_memory_cg, q_memory_pt, q_language_cg, moca...</td>\n",
              "    </tr>\n",
              "    <tr>\n",
              "      <th>12</th>\n",
              "      <td>0.821426</td>\n",
              "      <td>[0.8584474885844748, 0.7808219178082192, 0.826...</td>\n",
              "      <td>0, 2, 3, 4, 6, 7, 8, 10, 11, 12, 13, 14</td>\n",
              "      <td>(q_memory_cg, q_memory_pt, q_language_cg, moca...</td>\n",
              "    </tr>\n",
              "    <tr>\n",
              "      <th>13</th>\n",
              "      <td>0.812268</td>\n",
              "      <td>[0.8447488584474886, 0.7625570776255708, 0.821...</td>\n",
              "      <td>0, 2, 3, 4, 6, 7, 8, 9, 10, 11, 12, 13, 14</td>\n",
              "      <td>(q_memory_cg, q_memory_pt, q_language_cg, moca...</td>\n",
              "    </tr>\n",
              "    <tr>\n",
              "      <th>14</th>\n",
              "      <td>0.807677</td>\n",
              "      <td>[0.8447488584474886, 0.7488584474885844, 0.831...</td>\n",
              "      <td>0, 1, 2, 3, 4, 6, 7, 8, 9, 10, 11, 12, 13, 14</td>\n",
              "      <td>(q_memory_cg, q_attention_cg, q_memory_pt, q_l...</td>\n",
              "    </tr>\n",
              "    <tr>\n",
              "      <th>15</th>\n",
              "      <td>0.801259</td>\n",
              "      <td>[0.8401826484018264, 0.7397260273972602, 0.821...</td>\n",
              "      <td>0, 1, 2, 3, 4, 5, 6, 7, 8, 9, 10, 11, 12, 13, 14</td>\n",
              "      <td>(q_memory_cg, q_attention_cg, q_memory_pt, q_l...</td>\n",
              "    </tr>\n",
              "  </tbody>\n",
              "</table>\n",
              "</div>"
            ],
            "text/plain": [
              "   avg_score  ...                                      feature_names\n",
              "1   0.803048  ...                                     (q_memory_cg,)\n",
              "2   0.814966  ...                         (q_memory_cg, moca_orient)\n",
              "3   0.820462  ...          (q_memory_cg, q_language_cg, moca_orient)\n",
              "4   0.823219  ...  (q_memory_cg, q_language_cg, moca_orient, q_ou...\n",
              "5   0.824132  ...  (q_memory_cg, q_language_cg, PTHAND, moca_orie...\n",
              "6   0.822306  ...  (q_memory_cg, q_language_cg, PTHAND, moca_orie...\n",
              "7   0.817723  ...  (q_memory_cg, q_memory_pt, q_language_cg, PTHA...\n",
              "8    0.82231  ...  (q_memory_cg, q_memory_pt, q_language_cg, PTHA...\n",
              "9   0.822314  ...  (q_memory_cg, q_memory_pt, q_language_cg, moca...\n",
              "10  0.819574  ...  (q_memory_cg, q_memory_pt, q_language_cg, moca...\n",
              "11  0.824158  ...  (q_memory_cg, q_memory_pt, q_language_cg, moca...\n",
              "12  0.821426  ...  (q_memory_cg, q_memory_pt, q_language_cg, moca...\n",
              "13  0.812268  ...  (q_memory_cg, q_memory_pt, q_language_cg, moca...\n",
              "14  0.807677  ...  (q_memory_cg, q_attention_cg, q_memory_pt, q_l...\n",
              "15  0.801259  ...  (q_memory_cg, q_attention_cg, q_memory_pt, q_l...\n",
              "\n",
              "[15 rows x 4 columns]"
            ]
          },
          "metadata": {
            "tags": []
          },
          "execution_count": 66
        }
      ]
    },
    {
      "cell_type": "markdown",
      "metadata": {
        "colab_type": "text",
        "id": "-hLIaAadQQs_"
      },
      "source": [
        "#### Cost Sums"
      ]
    },
    {
      "cell_type": "code",
      "metadata": {
        "id": "UEGujbgeI_3-",
        "colab_type": "code",
        "colab": {}
      },
      "source": [
        "dill.load_session(f'{dir}/Sessions/costs_costweight15.db')\n",
        "df = pd.read_csv(f'{dir}/Output/cost_sum.csv')"
      ],
      "execution_count": 0,
      "outputs": []
    },
    {
      "cell_type": "code",
      "metadata": {
        "colab_type": "code",
        "outputId": "e8084049-eef7-459e-d4a8-7daf51fb89c4",
        "id": "FCkGcsODQQtA",
        "colab": {
          "base_uri": "https://localhost:8080/",
          "height": 119
        }
      },
      "source": [
        "df = df.append(cost_sum(3,'cost', 15))"
      ],
      "execution_count": 0,
      "outputs": [
        {
          "output_type": "stream",
          "text": [
            "3  features.\n",
            "Accuracy:  0.8204624240855273\n",
            "Features:  ('q_memory_cg', 'q_language_cg', 'moca_orient')\n",
            "Cost Sum:  3.0  Avg:  1.0\n",
            "Cost Time:  3  Avg:  1.0\n",
            "Cost Diff:  3  Avg:  1.0\n"
          ],
          "name": "stdout"
        }
      ]
    },
    {
      "cell_type": "code",
      "metadata": {
        "id": "sBVeRxVSj_Qk",
        "colab_type": "code",
        "outputId": "d88f69af-010f-4f06-b96f-c65706aed940",
        "colab": {
          "base_uri": "https://localhost:8080/",
          "height": 119
        }
      },
      "source": [
        "df = df.append(cost_sum(4,'cost', 15))"
      ],
      "execution_count": 0,
      "outputs": [
        {
          "output_type": "stream",
          "text": [
            "4  features.\n",
            "Accuracy:  0.8232189454570236\n",
            "Features:  ('q_memory_cg', 'q_language_cg', 'moca_orient', 'q_outsideact_pt')\n",
            "Cost Sum:  4.0  Avg:  1.0\n",
            "Cost Time:  4  Avg:  1.0\n",
            "Cost Diff:  4  Avg:  1.0\n"
          ],
          "name": "stdout"
        }
      ]
    },
    {
      "cell_type": "code",
      "metadata": {
        "id": "iEcKhtiPkDou",
        "colab_type": "code",
        "outputId": "13e576a4-e24c-4f92-cae4-e047e72fc0db",
        "colab": {
          "base_uri": "https://localhost:8080/",
          "height": 119
        }
      },
      "source": [
        "df = df.append(cost_sum(5,'cost', 15))"
      ],
      "execution_count": 0,
      "outputs": [
        {
          "output_type": "stream",
          "text": [
            "5  features.\n",
            "Accuracy:  0.8241321874661558\n",
            "Features:  ('q_memory_cg', 'q_language_cg', 'PTHAND', 'moca_orient', 'q_outsideact_pt')\n",
            "Cost Sum:  5.0  Avg:  1.0\n",
            "Cost Time:  5  Avg:  1.0\n",
            "Cost Diff:  5  Avg:  1.0\n"
          ],
          "name": "stdout"
        }
      ]
    },
    {
      "cell_type": "code",
      "metadata": {
        "id": "Jb88dlSExrTD",
        "colab_type": "code",
        "outputId": "eb31f8ea-3818-4d3c-e5f5-09ca205b9bca",
        "colab": {
          "base_uri": "https://localhost:8080/",
          "height": 119
        }
      },
      "source": [
        "df = df.append(cost_sum(6,'cost', 15))"
      ],
      "execution_count": 0,
      "outputs": [
        {
          "output_type": "stream",
          "text": [
            "6  features.\n",
            "Accuracy:  0.8223057034478909\n",
            "Features:  ('q_memory_cg', 'q_language_cg', 'PTHAND', 'moca_orient', 'q_outsideact_pt', 'MMNAME')\n",
            "Cost Sum:  6.0  Avg:  1.0\n",
            "Cost Time:  6  Avg:  1.0\n",
            "Cost Diff:  6  Avg:  1.0\n"
          ],
          "name": "stdout"
        }
      ]
    },
    {
      "cell_type": "code",
      "metadata": {
        "id": "FxqWIrfMxtbL",
        "colab_type": "code",
        "outputId": "8b12d6d3-1dac-444a-ff72-cbb130ef9c0d",
        "colab": {
          "base_uri": "https://localhost:8080/",
          "height": 119
        }
      },
      "source": [
        "df = df.append(cost_sum(11,'cost', 15))"
      ],
      "execution_count": 0,
      "outputs": [
        {
          "output_type": "stream",
          "text": [
            "11  features.\n",
            "Accuracy:  0.8241575156172569\n",
            "Features:  ('q_memory_cg', 'q_memory_pt', 'q_language_cg', 'moca_similarities', 'PTHAND', 'PTRETIRED', 'moca_orient', 'FAMHISTAD', 'q_outsideact_pt', 'q_judgmt_pt', 'MMNAME')\n",
            "Cost Sum:  11.0  Avg:  1.0\n",
            "Cost Time:  11  Avg:  1.0\n",
            "Cost Diff:  11  Avg:  1.0\n"
          ],
          "name": "stdout"
        }
      ]
    },
    {
      "cell_type": "code",
      "metadata": {
        "id": "9se8vRr5NyCc",
        "colab_type": "code",
        "colab": {}
      },
      "source": [
        "df.to_csv(f'{dir}/Output/cost_sum.csv', index=False)"
      ],
      "execution_count": 0,
      "outputs": []
    },
    {
      "cell_type": "markdown",
      "metadata": {
        "id": "zUjzvy_30opV",
        "colab_type": "text"
      },
      "source": [
        "# Feature Testing (ADNI/Clinic)"
      ]
    },
    {
      "cell_type": "code",
      "metadata": {
        "id": "8313VazYTRcf",
        "colab_type": "code",
        "colab": {}
      },
      "source": [
        "adni_pair_X = pd.read_csv(f'{dir}/Data/adni_pair_X.csv')\n",
        "clinic_pair_X = pd.read_csv(f'{dir}/Data/sm_clinic_pair_X.csv')\n",
        "\n",
        "adni_pair_y2 = pd.read_csv(f'{dir}/Data/adni_pair_y2.csv')\n",
        "adni_pair_y3 = pd.read_csv(f'{dir}/Data/adni_pair_y3.csv')\n",
        "\n",
        "clinic_pair_y2 = pd.read_csv(f'{dir}/Data/sm_clinic_pair_y2.csv', header=None)\n",
        "clinic_pair_y3 = pd.read_csv(f'{dir}/Data/sm_clinic_pair_y3.csv', header=None)\n",
        "\n",
        "\n",
        "from sklearn.ensemble import RandomForestClassifier\n",
        "import xgboost\n",
        "from sklearn.metrics import roc_auc_score, accuracy_score\n",
        "from sklearn.neural_network import MLPClassifier\n",
        "\n",
        "def costsum_traintest(feature_row_index, X_train, y_train, X_test, y_test, \n",
        "                      random_state=0):\n",
        "  features = df_costsum.iloc[feature_row_index,3]\n",
        "  X_train = X_train.loc[:,features]\n",
        "  X_test = X_test.loc[:,features]\n",
        "  \n",
        "  rf = RandomForestClassifier(n_estimators=100, max_features=.5, \n",
        "                              random_state=random_state)\n",
        "  rf.fit(X_train, y_train.values.ravel())\n",
        "  y_pred = rf.predict(X_test)\n",
        "  rf_testacc = accuracy_score(y_test, y_pred)\n",
        "  rf_auc = roc_auc_score(y_test, y_pred)\n",
        "  \n",
        "  mlp = MLPClassifier(hidden_layer_sizes=(105,60,15), activation='relu', \n",
        "                      solver='sgd', alpha=.0001, learning_rate_init=.0005, \n",
        "                      max_iter=5000, random_state=random_state)\n",
        "  mlp.fit(X_train, y_train.values.ravel())\n",
        "  y_pred = mlp.predict(X_test)\n",
        "  mlp_testacc = accuracy_score(y_test, y_pred)\n",
        "  mlp_auc = roc_auc_score(y_test, y_pred)\n",
        "  return rf_testacc, rf_auc, mlp_testacc, mlp_auc\n",
        "\n"
      ],
      "execution_count": 0,
      "outputs": []
    },
    {
      "cell_type": "code",
      "metadata": {
        "id": "rTxNCTfZ4Z-k",
        "colab_type": "code",
        "colab": {}
      },
      "source": [
        "for j in [0,10,20,30,40]:\n",
        "  \n",
        "  df_costsum = pd.read_csv(f'{dir}/Output/cost_sum.csv')\n",
        "  df_costsum.sort_values(['cost_sum','accuracy'], ascending=[True, False], \n",
        "                         inplace=True)\n",
        "  df_costsum.drop_duplicates(subset=['features'], inplace=True) # Remove duplicate\n",
        "  df_costsum.reset_index(drop=True, inplace=True) # Fix index order\n",
        "  df_costsum.features = df_costsum.features.str.replace(' ', '')\\\n",
        "                      .str.replace('\\'','').str.replace('\\(','')\\\n",
        "                      .str.replace('\\)','').str.split(',')\n",
        "  for i in df_costsum.index:\n",
        "    df_costsum.loc[i,'rf_score'], df_costsum.loc[i,'rf_auc'], \\\n",
        "    df_costsum.loc[i,'mlp_score'], df_costsum.loc[i,'mlp_auc'] = \\\n",
        "    costsum_traintest(i, adni_pair_X, adni_pair_y2, clinic_pair_X, clinic_pair_y2,\n",
        "                     random_state=j)\n",
        "    \n",
        "    df_costsum.to_csv(f'{dir}/Output/cost_sum_output_s_'+str(j)+'.csv', index=False)"
      ],
      "execution_count": 0,
      "outputs": []
    },
    {
      "cell_type": "code",
      "metadata": {
        "id": "qCzRKCIPeWUe",
        "colab_type": "code",
        "colab": {}
      },
      "source": [
        "# df_costsum.to_csv(f'{dir}/Output/cost_sum_output2_0.csv', index=False)"
      ],
      "execution_count": 0,
      "outputs": []
    },
    {
      "cell_type": "code",
      "metadata": {
        "id": "HRLTNy3Uy-Ky",
        "colab_type": "code",
        "colab": {}
      },
      "source": [
        "df_s_0 = pd.read_csv(f'{dir}/Output/cost_sum_output_s_0.csv')\n",
        "df_s_10 = pd.read_csv(f'{dir}/Output/cost_sum_output_s_10.csv')\n",
        "df_s_20 = pd.read_csv(f'{dir}/Output/cost_sum_output_s_20.csv')\n",
        "df_s_30 = pd.read_csv(f'{dir}/Output/cost_sum_output_s_30.csv')\n",
        "df_s_40 = pd.read_csv(f'{dir}/Output/cost_sum_output_s_40.csv')\n",
        "df_us_0 = pd.read_csv(f'{dir}/Output/cost_sum_output_0.csv')\n",
        "df_us_10 = pd.read_csv(f'{dir}/Output/cost_sum_output_10.csv')\n",
        "df_us_20 = pd.read_csv(f'{dir}/Output/cost_sum_output_20.csv')\n",
        "df_us_30 = pd.read_csv(f'{dir}/Output/cost_sum_output_30.csv')\n",
        "df_us_40 = pd.read_csv(f'{dir}/Output/cost_sum_output_40.csv')\n",
        "\n",
        "df = pd.concat([df_s_0, df_s_10, df_s_20, df_s_30, df_s_40, df_us_0, df_us_10,\n",
        "               df_us_20, df_us_30, df_us_40], axis=0)"
      ],
      "execution_count": 0,
      "outputs": []
    },
    {
      "cell_type": "code",
      "metadata": {
        "id": "rIJvBa773M8B",
        "colab_type": "code",
        "colab": {}
      },
      "source": [
        "df_costsum['rf_score'] = df['rf_score'].groupby(df.index).mean()\n",
        "df_costsum['rf_auc'] = df['rf_auc'].groupby(df.index).mean()\n",
        "df_costsum['mlp_score'] = df['mlp_score'].groupby(df.index).mean()\n",
        "df_costsum['mlp_auc'] = df['mlp_auc'].groupby(df.index).mean()"
      ],
      "execution_count": 0,
      "outputs": []
    },
    {
      "cell_type": "code",
      "metadata": {
        "id": "RmG0D7SU1n0O",
        "colab_type": "code",
        "outputId": "15616816-5aca-4d3b-b344-591fe383f5d7",
        "colab": {
          "base_uri": "https://localhost:8080/",
          "height": 1000
        }
      },
      "source": [
        "df_costsum = df_costsum[df_costsum['rf_score']>0.65]\n",
        "df_costsum"
      ],
      "execution_count": 0,
      "outputs": [
        {
          "output_type": "execute_result",
          "data": {
            "text/html": [
              "<div>\n",
              "<style scoped>\n",
              "    .dataframe tbody tr th:only-of-type {\n",
              "        vertical-align: middle;\n",
              "    }\n",
              "\n",
              "    .dataframe tbody tr th {\n",
              "        vertical-align: top;\n",
              "    }\n",
              "\n",
              "    .dataframe thead th {\n",
              "        text-align: right;\n",
              "    }\n",
              "</style>\n",
              "<table border=\"1\" class=\"dataframe\">\n",
              "  <thead>\n",
              "    <tr style=\"text-align: right;\">\n",
              "      <th></th>\n",
              "      <th>weighted</th>\n",
              "      <th>start_#</th>\n",
              "      <th>f_#</th>\n",
              "      <th>features</th>\n",
              "      <th>accuracy</th>\n",
              "      <th>cost_sum</th>\n",
              "      <th>rf_score</th>\n",
              "      <th>rf_auc</th>\n",
              "      <th>mlp_score</th>\n",
              "      <th>mlp_auc</th>\n",
              "    </tr>\n",
              "  </thead>\n",
              "  <tbody>\n",
              "    <tr>\n",
              "      <th>0</th>\n",
              "      <td>cost</td>\n",
              "      <td>15</td>\n",
              "      <td>3</td>\n",
              "      <td>[q_memory_cg, q_language_cg, moca_orient]</td>\n",
              "      <td>0.820462</td>\n",
              "      <td>3.0</td>\n",
              "      <td>0.839934</td>\n",
              "      <td>0.844708</td>\n",
              "      <td>0.745545</td>\n",
              "      <td>0.755557</td>\n",
              "    </tr>\n",
              "    <tr>\n",
              "      <th>1</th>\n",
              "      <td>import</td>\n",
              "      <td>15</td>\n",
              "      <td>3</td>\n",
              "      <td>[q_memory_cg, q_language_cg, q_orient_pt]</td>\n",
              "      <td>0.814949</td>\n",
              "      <td>3.0</td>\n",
              "      <td>0.752475</td>\n",
              "      <td>0.764910</td>\n",
              "      <td>0.762706</td>\n",
              "      <td>0.763971</td>\n",
              "    </tr>\n",
              "    <tr>\n",
              "      <th>2</th>\n",
              "      <td>cost</td>\n",
              "      <td>50</td>\n",
              "      <td>3</td>\n",
              "      <td>[q_memory_cg, moca_orient, faq2]</td>\n",
              "      <td>0.820467</td>\n",
              "      <td>3.5</td>\n",
              "      <td>0.765677</td>\n",
              "      <td>0.753517</td>\n",
              "      <td>0.701980</td>\n",
              "      <td>0.694539</td>\n",
              "    </tr>\n",
              "    <tr>\n",
              "      <th>3</th>\n",
              "      <td>even</td>\n",
              "      <td>50</td>\n",
              "      <td>4</td>\n",
              "      <td>[q_memory_cg, q_language_cg, moca_orient, q_ou...</td>\n",
              "      <td>0.824132</td>\n",
              "      <td>4.0</td>\n",
              "      <td>0.845875</td>\n",
              "      <td>0.849764</td>\n",
              "      <td>0.769307</td>\n",
              "      <td>0.781142</td>\n",
              "    </tr>\n",
              "    <tr>\n",
              "      <th>4</th>\n",
              "      <td>cost</td>\n",
              "      <td>50</td>\n",
              "      <td>4</td>\n",
              "      <td>[q_memory_cg, q_language_cg, moca_orient, faq2]</td>\n",
              "      <td>0.823215</td>\n",
              "      <td>4.5</td>\n",
              "      <td>0.781188</td>\n",
              "      <td>0.766719</td>\n",
              "      <td>0.722112</td>\n",
              "      <td>0.721083</td>\n",
              "    </tr>\n",
              "    <tr>\n",
              "      <th>5</th>\n",
              "      <td>even</td>\n",
              "      <td>15</td>\n",
              "      <td>5</td>\n",
              "      <td>[q_memory_cg, q_language_cg, PTHAND, moca_orie...</td>\n",
              "      <td>0.824132</td>\n",
              "      <td>5.0</td>\n",
              "      <td>0.846205</td>\n",
              "      <td>0.850045</td>\n",
              "      <td>0.774587</td>\n",
              "      <td>0.782301</td>\n",
              "    </tr>\n",
              "    <tr>\n",
              "      <th>6</th>\n",
              "      <td>import</td>\n",
              "      <td>15</td>\n",
              "      <td>4</td>\n",
              "      <td>[q_memory_cg, q_language_cg, npi6_sev, q_orien...</td>\n",
              "      <td>0.814941</td>\n",
              "      <td>5.0</td>\n",
              "      <td>0.752475</td>\n",
              "      <td>0.764910</td>\n",
              "      <td>0.759736</td>\n",
              "      <td>0.761443</td>\n",
              "    </tr>\n",
              "    <tr>\n",
              "      <th>7</th>\n",
              "      <td>even</td>\n",
              "      <td>50</td>\n",
              "      <td>5</td>\n",
              "      <td>[q_memory_cg, q_language_cg, moca_orient, q_ou...</td>\n",
              "      <td>0.829624</td>\n",
              "      <td>5.5</td>\n",
              "      <td>0.797030</td>\n",
              "      <td>0.795447</td>\n",
              "      <td>0.753795</td>\n",
              "      <td>0.745191</td>\n",
              "    </tr>\n",
              "    <tr>\n",
              "      <th>8</th>\n",
              "      <td>even</td>\n",
              "      <td>30</td>\n",
              "      <td>5</td>\n",
              "      <td>[q_memory_cg, q_language_cg, q_outsideact_pt, ...</td>\n",
              "      <td>0.825963</td>\n",
              "      <td>5.5</td>\n",
              "      <td>0.821452</td>\n",
              "      <td>0.820045</td>\n",
              "      <td>0.753135</td>\n",
              "      <td>0.754038</td>\n",
              "    </tr>\n",
              "    <tr>\n",
              "      <th>9</th>\n",
              "      <td>import</td>\n",
              "      <td>30</td>\n",
              "      <td>4</td>\n",
              "      <td>[q_memory_cg, q_language_cg, npi3_sev, hach2]</td>\n",
              "      <td>0.810387</td>\n",
              "      <td>5.5</td>\n",
              "      <td>0.729373</td>\n",
              "      <td>0.721427</td>\n",
              "      <td>0.787789</td>\n",
              "      <td>0.789488</td>\n",
              "    </tr>\n",
              "    <tr>\n",
              "      <th>10</th>\n",
              "      <td>cost</td>\n",
              "      <td>50</td>\n",
              "      <td>5</td>\n",
              "      <td>[q_memory_cg, q_language_cg, moca_orient, hach...</td>\n",
              "      <td>0.825954</td>\n",
              "      <td>6.0</td>\n",
              "      <td>0.785479</td>\n",
              "      <td>0.770371</td>\n",
              "      <td>0.722442</td>\n",
              "      <td>0.705166</td>\n",
              "    </tr>\n",
              "    <tr>\n",
              "      <th>11</th>\n",
              "      <td>cost</td>\n",
              "      <td>15</td>\n",
              "      <td>6</td>\n",
              "      <td>[q_memory_cg, q_language_cg, PTHAND, moca_orie...</td>\n",
              "      <td>0.822306</td>\n",
              "      <td>6.0</td>\n",
              "      <td>0.836634</td>\n",
              "      <td>0.841899</td>\n",
              "      <td>0.768647</td>\n",
              "      <td>0.771647</td>\n",
              "    </tr>\n",
              "    <tr>\n",
              "      <th>12</th>\n",
              "      <td>cost</td>\n",
              "      <td>30</td>\n",
              "      <td>6</td>\n",
              "      <td>[q_memory_cg, q_language_cg, moca_orient, q_ou...</td>\n",
              "      <td>0.829624</td>\n",
              "      <td>6.5</td>\n",
              "      <td>0.784818</td>\n",
              "      <td>0.784220</td>\n",
              "      <td>0.742574</td>\n",
              "      <td>0.735283</td>\n",
              "    </tr>\n",
              "    <tr>\n",
              "      <th>13</th>\n",
              "      <td>even</td>\n",
              "      <td>30</td>\n",
              "      <td>6</td>\n",
              "      <td>[q_memory_cg, q_language_cg, MMNAME, q_outside...</td>\n",
              "      <td>0.825963</td>\n",
              "      <td>6.5</td>\n",
              "      <td>0.811551</td>\n",
              "      <td>0.811618</td>\n",
              "      <td>0.747855</td>\n",
              "      <td>0.746566</td>\n",
              "    </tr>\n",
              "    <tr>\n",
              "      <th>14</th>\n",
              "      <td>cost</td>\n",
              "      <td>30</td>\n",
              "      <td>7</td>\n",
              "      <td>[q_memory_cg, q_language_cg, moca_orient, q_ou...</td>\n",
              "      <td>0.828711</td>\n",
              "      <td>7.5</td>\n",
              "      <td>0.797690</td>\n",
              "      <td>0.797796</td>\n",
              "      <td>0.780198</td>\n",
              "      <td>0.782670</td>\n",
              "    </tr>\n",
              "    <tr>\n",
              "      <th>15</th>\n",
              "      <td>cost</td>\n",
              "      <td>50</td>\n",
              "      <td>6</td>\n",
              "      <td>[q_memory_cg, q_language_cg, moca_orient, hach...</td>\n",
              "      <td>0.826872</td>\n",
              "      <td>7.5</td>\n",
              "      <td>0.784488</td>\n",
              "      <td>0.769528</td>\n",
              "      <td>0.710891</td>\n",
              "      <td>0.694858</td>\n",
              "    </tr>\n",
              "    <tr>\n",
              "      <th>16</th>\n",
              "      <td>even</td>\n",
              "      <td>30</td>\n",
              "      <td>7</td>\n",
              "      <td>[q_memory_cg, q_language_cg, MMNAME, q_outside...</td>\n",
              "      <td>0.825963</td>\n",
              "      <td>7.5</td>\n",
              "      <td>0.812871</td>\n",
              "      <td>0.812742</td>\n",
              "      <td>0.753795</td>\n",
              "      <td>0.762461</td>\n",
              "    </tr>\n",
              "    <tr>\n",
              "      <th>17</th>\n",
              "      <td>even</td>\n",
              "      <td>15</td>\n",
              "      <td>8</td>\n",
              "      <td>[q_memory_cg, q_memory_pt, q_language_cg, PTHA...</td>\n",
              "      <td>0.825066</td>\n",
              "      <td>8.0</td>\n",
              "      <td>0.810891</td>\n",
              "      <td>0.823562</td>\n",
              "      <td>0.787789</td>\n",
              "      <td>0.813070</td>\n",
              "    </tr>\n",
              "    <tr>\n",
              "      <th>18</th>\n",
              "      <td>cost</td>\n",
              "      <td>50</td>\n",
              "      <td>7</td>\n",
              "      <td>[q_memory_cg, q_language_cg, moca_orient, MMNA...</td>\n",
              "      <td>0.826872</td>\n",
              "      <td>8.5</td>\n",
              "      <td>0.782178</td>\n",
              "      <td>0.767562</td>\n",
              "      <td>0.714851</td>\n",
              "      <td>0.703827</td>\n",
              "    </tr>\n",
              "    <tr>\n",
              "      <th>19</th>\n",
              "      <td>even</td>\n",
              "      <td>30</td>\n",
              "      <td>8</td>\n",
              "      <td>[q_memory_cg, q_language_cg, q_orient_cg, MMNA...</td>\n",
              "      <td>0.822310</td>\n",
              "      <td>8.5</td>\n",
              "      <td>0.812541</td>\n",
              "      <td>0.812461</td>\n",
              "      <td>0.746535</td>\n",
              "      <td>0.741393</td>\n",
              "    </tr>\n",
              "    <tr>\n",
              "      <th>20</th>\n",
              "      <td>import</td>\n",
              "      <td>30</td>\n",
              "      <td>6</td>\n",
              "      <td>[q_memory_cg, q_language_cg, q_orient_pt, npi1...</td>\n",
              "      <td>0.814949</td>\n",
              "      <td>8.5</td>\n",
              "      <td>0.759076</td>\n",
              "      <td>0.770528</td>\n",
              "      <td>0.775578</td>\n",
              "      <td>0.765993</td>\n",
              "    </tr>\n",
              "    <tr>\n",
              "      <th>21</th>\n",
              "      <td>import</td>\n",
              "      <td>15</td>\n",
              "      <td>6</td>\n",
              "      <td>[q_memory_cg, q_language_cg, npi8_sev, npi7_se...</td>\n",
              "      <td>0.811275</td>\n",
              "      <td>9.0</td>\n",
              "      <td>0.819472</td>\n",
              "      <td>0.831699</td>\n",
              "      <td>0.773597</td>\n",
              "      <td>0.760258</td>\n",
              "    </tr>\n",
              "    <tr>\n",
              "      <th>22</th>\n",
              "      <td>cost</td>\n",
              "      <td>50</td>\n",
              "      <td>8</td>\n",
              "      <td>[q_memory_cg, q_language_cg, PTHAND, moca_orie...</td>\n",
              "      <td>0.825967</td>\n",
              "      <td>9.5</td>\n",
              "      <td>0.782178</td>\n",
              "      <td>0.767562</td>\n",
              "      <td>0.714851</td>\n",
              "      <td>0.706685</td>\n",
              "    </tr>\n",
              "    <tr>\n",
              "      <th>23</th>\n",
              "      <td>cost</td>\n",
              "      <td>15</td>\n",
              "      <td>11</td>\n",
              "      <td>[q_memory_cg, q_memory_pt, q_language_cg, moca...</td>\n",
              "      <td>0.824158</td>\n",
              "      <td>11.0</td>\n",
              "      <td>0.815842</td>\n",
              "      <td>0.832063</td>\n",
              "      <td>0.774917</td>\n",
              "      <td>0.805330</td>\n",
              "    </tr>\n",
              "    <tr>\n",
              "      <th>24</th>\n",
              "      <td>import</td>\n",
              "      <td>50</td>\n",
              "      <td>7</td>\n",
              "      <td>[q_memory_cg, q_memory_pt, npi1_sev, npi2_sev,...</td>\n",
              "      <td>0.807605</td>\n",
              "      <td>11.0</td>\n",
              "      <td>0.747525</td>\n",
              "      <td>0.773202</td>\n",
              "      <td>0.720462</td>\n",
              "      <td>0.762079</td>\n",
              "    </tr>\n",
              "    <tr>\n",
              "      <th>25</th>\n",
              "      <td>cost</td>\n",
              "      <td>30</td>\n",
              "      <td>12</td>\n",
              "      <td>[q_memory_cg, q_memory_pt, q_language_cg, moca...</td>\n",
              "      <td>0.833281</td>\n",
              "      <td>13.0</td>\n",
              "      <td>0.824092</td>\n",
              "      <td>0.835155</td>\n",
              "      <td>0.782838</td>\n",
              "      <td>0.802901</td>\n",
              "    </tr>\n",
              "    <tr>\n",
              "      <th>26</th>\n",
              "      <td>cost</td>\n",
              "      <td>15</td>\n",
              "      <td>13</td>\n",
              "      <td>[q_memory_cg, q_memory_pt, q_language_cg, moca...</td>\n",
              "      <td>0.812268</td>\n",
              "      <td>13.0</td>\n",
              "      <td>0.828383</td>\n",
              "      <td>0.844285</td>\n",
              "      <td>0.766337</td>\n",
              "      <td>0.796717</td>\n",
              "    </tr>\n",
              "    <tr>\n",
              "      <th>27</th>\n",
              "      <td>even</td>\n",
              "      <td>50</td>\n",
              "      <td>12</td>\n",
              "      <td>[q_memory_cg, q_language_cg, moca_orient, q_ou...</td>\n",
              "      <td>0.827815</td>\n",
              "      <td>15.5</td>\n",
              "      <td>0.817162</td>\n",
              "      <td>0.820085</td>\n",
              "      <td>0.754455</td>\n",
              "      <td>0.748135</td>\n",
              "    </tr>\n",
              "    <tr>\n",
              "      <th>28</th>\n",
              "      <td>import</td>\n",
              "      <td>50</td>\n",
              "      <td>10</td>\n",
              "      <td>[q_memory_cg, q_attention_cg, q_memory_pt, npi...</td>\n",
              "      <td>0.818594</td>\n",
              "      <td>15.5</td>\n",
              "      <td>0.752805</td>\n",
              "      <td>0.782461</td>\n",
              "      <td>0.769967</td>\n",
              "      <td>0.804094</td>\n",
              "    </tr>\n",
              "    <tr>\n",
              "      <th>29</th>\n",
              "      <td>cost</td>\n",
              "      <td>30</td>\n",
              "      <td>15</td>\n",
              "      <td>[q_memory_cg, q_attention_cg, q_memory_pt, q_l...</td>\n",
              "      <td>0.845183</td>\n",
              "      <td>16.0</td>\n",
              "      <td>0.820792</td>\n",
              "      <td>0.829845</td>\n",
              "      <td>0.800990</td>\n",
              "      <td>0.816564</td>\n",
              "    </tr>\n",
              "    <tr>\n",
              "      <th>30</th>\n",
              "      <td>cost</td>\n",
              "      <td>30</td>\n",
              "      <td>16</td>\n",
              "      <td>[q_memory_cg, q_attention_cg, q_memory_pt, q_l...</td>\n",
              "      <td>0.846096</td>\n",
              "      <td>17.0</td>\n",
              "      <td>0.816172</td>\n",
              "      <td>0.825555</td>\n",
              "      <td>0.811551</td>\n",
              "      <td>0.828173</td>\n",
              "    </tr>\n",
              "  </tbody>\n",
              "</table>\n",
              "</div>"
            ],
            "text/plain": [
              "   weighted  start_#  f_#  ...    rf_auc  mlp_score   mlp_auc\n",
              "0      cost       15    3  ...  0.844708   0.745545  0.755557\n",
              "1    import       15    3  ...  0.764910   0.762706  0.763971\n",
              "2      cost       50    3  ...  0.753517   0.701980  0.694539\n",
              "3      even       50    4  ...  0.849764   0.769307  0.781142\n",
              "4      cost       50    4  ...  0.766719   0.722112  0.721083\n",
              "5      even       15    5  ...  0.850045   0.774587  0.782301\n",
              "6    import       15    4  ...  0.764910   0.759736  0.761443\n",
              "7      even       50    5  ...  0.795447   0.753795  0.745191\n",
              "8      even       30    5  ...  0.820045   0.753135  0.754038\n",
              "9    import       30    4  ...  0.721427   0.787789  0.789488\n",
              "10     cost       50    5  ...  0.770371   0.722442  0.705166\n",
              "11     cost       15    6  ...  0.841899   0.768647  0.771647\n",
              "12     cost       30    6  ...  0.784220   0.742574  0.735283\n",
              "13     even       30    6  ...  0.811618   0.747855  0.746566\n",
              "14     cost       30    7  ...  0.797796   0.780198  0.782670\n",
              "15     cost       50    6  ...  0.769528   0.710891  0.694858\n",
              "16     even       30    7  ...  0.812742   0.753795  0.762461\n",
              "17     even       15    8  ...  0.823562   0.787789  0.813070\n",
              "18     cost       50    7  ...  0.767562   0.714851  0.703827\n",
              "19     even       30    8  ...  0.812461   0.746535  0.741393\n",
              "20   import       30    6  ...  0.770528   0.775578  0.765993\n",
              "21   import       15    6  ...  0.831699   0.773597  0.760258\n",
              "22     cost       50    8  ...  0.767562   0.714851  0.706685\n",
              "23     cost       15   11  ...  0.832063   0.774917  0.805330\n",
              "24   import       50    7  ...  0.773202   0.720462  0.762079\n",
              "25     cost       30   12  ...  0.835155   0.782838  0.802901\n",
              "26     cost       15   13  ...  0.844285   0.766337  0.796717\n",
              "27     even       50   12  ...  0.820085   0.754455  0.748135\n",
              "28   import       50   10  ...  0.782461   0.769967  0.804094\n",
              "29     cost       30   15  ...  0.829845   0.800990  0.816564\n",
              "30     cost       30   16  ...  0.825555   0.811551  0.828173\n",
              "\n",
              "[31 rows x 10 columns]"
            ]
          },
          "metadata": {
            "tags": []
          },
          "execution_count": 207
        }
      ]
    },
    {
      "cell_type": "code",
      "metadata": {
        "id": "x0pchKKL36Qc",
        "colab_type": "code",
        "colab": {}
      },
      "source": [
        "df_costsum.to_csv(f'{dir}/Output/cost_sum_output_avg.csv', index=False)"
      ],
      "execution_count": 0,
      "outputs": []
    },
    {
      "cell_type": "markdown",
      "metadata": {
        "id": "H363IaRR1_1j",
        "colab_type": "text"
      },
      "source": [
        "# In-depth analysis"
      ]
    },
    {
      "cell_type": "code",
      "metadata": {
        "id": "EEgSptO78QTu",
        "colab_type": "code",
        "colab": {}
      },
      "source": [
        "from sklearn.ensemble import RandomForestClassifier\n",
        "import xgboost\n",
        "from sklearn.metrics import roc_auc_score, accuracy_score, confusion_matrix, classification_report\n",
        "from sklearn.neural_network import MLPClassifier\n",
        "\n",
        "df_costsum = pd.read_csv(f'{dir}/Output/cost_sum_output_avg.csv')\n",
        "df_costsum.features = df_costsum.features.str.replace(' ', '')\\\n",
        "                      .str.replace('\\'','').str.replace('\\[','')\\\n",
        "                      .str.replace('\\]','').str.split(',')\n",
        "\n",
        "adni_X = pd.read_csv(f'{dir}/Data/adni_pair_unscaled_X.csv')\n",
        "adni_y = pd.read_csv(f'{dir}/Data/adni_pair_us_y2.csv')\n",
        "clinic_X = pd.read_csv(f'{dir}/Data/sm_clinic_pair_us_X.csv')\n",
        "clinic_y = pd.read_csv(f'{dir}/Data/sm_clinic_pair_y2.csv', header=None)"
      ],
      "execution_count": 0,
      "outputs": []
    },
    {
      "cell_type": "code",
      "metadata": {
        "id": "HHrf5tve_r23",
        "colab_type": "code",
        "colab": {}
      },
      "source": [
        "!pip install scikit-plot\n",
        "import scikitplot as skplt"
      ],
      "execution_count": 0,
      "outputs": []
    },
    {
      "cell_type": "markdown",
      "metadata": {
        "id": "uDrhPM6o6akm",
        "colab_type": "text"
      },
      "source": [
        "## Row 0: q_memory_cg, q_language_cg, moca_orient"
      ]
    },
    {
      "cell_type": "code",
      "metadata": {
        "id": "r1fMymzN2Bes",
        "colab_type": "code",
        "outputId": "ca897bfd-1ddb-4730-d724-389ea79c3a37",
        "colab": {
          "base_uri": "https://localhost:8080/",
          "height": 289
        }
      },
      "source": [
        "features = df_costsum.iloc[0,3]\n",
        "\n",
        "X_train = adni_X.loc[:,features]\n",
        "X_test = clinic_X.loc[:,features]\n",
        "\n",
        "clf = RandomForestClassifier(n_estimators=300, max_features=.5, \n",
        "                            min_samples_leaf=2, random_state=0)\n",
        "clf.fit(X_train, adni_y.values.ravel())\n",
        "y_pred = clf.predict(X_test)\n",
        "print('AUC: ', roc_auc_score(clinic_y, y_pred))\n",
        "print('\\n')\n",
        "print(classification_report(clinic_y, y_pred, digits=3))\n",
        "print('\\n')\n",
        "print(confusion_matrix(clinic_y, y_pred))"
      ],
      "execution_count": 0,
      "outputs": [
        {
          "output_type": "stream",
          "text": [
            "AUC:  0.8368314606741574\n",
            "\n",
            "\n",
            "              precision    recall  f1-score   support\n",
            "\n",
            "         0.0      0.734     0.904     0.810       125\n",
            "         1.0      0.919     0.770     0.838       178\n",
            "\n",
            "    accuracy                          0.825       303\n",
            "   macro avg      0.827     0.837     0.824       303\n",
            "weighted avg      0.843     0.825     0.826       303\n",
            "\n",
            "\n",
            "\n",
            "[[113  12]\n",
            " [ 41 137]]\n"
          ],
          "name": "stdout"
        }
      ]
    },
    {
      "cell_type": "code",
      "metadata": {
        "id": "Fr3Q89wT9acH",
        "colab_type": "code",
        "outputId": "70c4086b-04fb-4fc9-b4c7-480b4600e39f",
        "colab": {
          "base_uri": "https://localhost:8080/",
          "height": 295
        }
      },
      "source": [
        "\n",
        "adni_proba = clf.predict_proba(X_test)\n",
        "roc = skplt.metrics.plot_roc(clinic_y, adni_proba)\n",
        "# fig = roc.get_figure()\n",
        "# fig.savefig(f'{dir}/Figures/roc_eff_row0_3', dpi=300)"
      ],
      "execution_count": 0,
      "outputs": [
        {
          "output_type": "display_data",
          "data": {
            "image/png": "[encoded data removed]",
            "text/plain": [
              "<Figure size 432x288 with 1 Axes>"
            ]
          },
          "metadata": {
            "tags": []
          }
        }
      ]
    },
    {
      "cell_type": "code",
      "metadata": {
        "id": "PhRpNKCL_Efa",
        "colab_type": "code",
        "outputId": "61906185-b9c5-4bf6-9965-502dff69faff",
        "colab": {
          "base_uri": "https://localhost:8080/",
          "height": 289
        }
      },
      "source": [
        "clf = MLPClassifier(hidden_layer_sizes=(105,60,15), activation='relu', \n",
        "                      solver='sgd', alpha=.0001, learning_rate_init=.0005, \n",
        "                      max_iter=5000, random_state=0)\n",
        "clf.fit(X_train, adni_y.values.ravel())\n",
        "y_pred = clf.predict(X_test)\n",
        "print('AUC: ', roc_auc_score(clinic_y, y_pred))\n",
        "print('\\n')\n",
        "print(classification_report(clinic_y, y_pred, digits=3))\n",
        "print('\\n')\n",
        "print(confusion_matrix(clinic_y, y_pred))"
      ],
      "execution_count": 0,
      "outputs": [
        {
          "output_type": "stream",
          "text": [
            "AUC:  0.8044044943820223\n",
            "\n",
            "\n",
            "              precision    recall  f1-score   support\n",
            "\n",
            "         0.0      0.709     0.856     0.775       125\n",
            "         1.0      0.882     0.753     0.812       178\n",
            "\n",
            "    accuracy                          0.795       303\n",
            "   macro avg      0.795     0.804     0.794       303\n",
            "weighted avg      0.810     0.795     0.797       303\n",
            "\n",
            "\n",
            "\n",
            "[[107  18]\n",
            " [ 44 134]]\n"
          ],
          "name": "stdout"
        }
      ]
    },
    {
      "cell_type": "code",
      "metadata": {
        "id": "nL7un35K2Bhh",
        "colab_type": "code",
        "outputId": "ac5ff33d-c774-4817-c431-78a7e7cc4ada",
        "colab": {
          "base_uri": "https://localhost:8080/",
          "height": 1000
        }
      },
      "source": [
        "from sklearn.tree import DecisionTreeClassifier\n",
        "\n",
        "clf = DecisionTreeClassifier(random_state=0)\n",
        "clf.fit(X_train, adni_y)\n",
        "\n",
        "import graphviz\n",
        "from sklearn.tree import export_graphviz\n",
        "\n",
        "dot = export_graphviz(clf, out_file=None,\n",
        "                     feature_names=features,\n",
        "                     class_names=['Normal','Impaired'],\n",
        "                     filled=True, rounded=True,\n",
        "                     rotate=True, max_depth=3)\n",
        "\n",
        "graph = graphviz.Source(dot)\n",
        "graph.render(filename='eff_tree_row0_3.gv', directory=f'{dir}/Output/', format='pdf')\n",
        "graph"
      ],
      "execution_count": 0,
      "outputs": [
        {
          "output_type": "execute_result",
          "data": {
            "text/plain": [
              "<graphviz.files.Source at 0x7f9777b81ef0>"
            ],
            "image/svg+xml": "<?xml version=\"1.0\" encoding=\"UTF-8\" standalone=\"no\"?>\n<!DOCTYPE svg PUBLIC \"-//W3C//DTD SVG 1.1//EN\"\n \"http://www.w3.org/Graphics/SVG/1.1/DTD/svg11.dtd\">\n<!-- Generated by graphviz version 2.40.1 (20161225.0304)\n -->\n<!-- Title: Tree Pages: 1 -->\n<svg width=\"838pt\" height=\"815pt\"\n viewBox=\"0.00 0.00 838.00 815.00\" xmlns=\"http://www.w3.org/2000/svg\" xmlns:xlink=\"http://www.w3.org/1999/xlink\">\n<g id=\"graph0\" class=\"graph\" transform=\"scale(1 1) rotate(0) translate(4 811)\">\n<title>Tree</title>\n<polygon fill=\"#ffffff\" stroke=\"transparent\" points=\"-4,4 -4,-811 834,-811 834,4 -4,4\"/>\n<!-- 0 -->\n<g id=\"node1\" class=\"node\">\n<title>0</title>\n<path fill=\"#a8d4f4\" stroke=\"#000000\" d=\"M142,-456.5C142,-456.5 12,-456.5 12,-456.5 6,-456.5 0,-450.5 0,-444.5 0,-444.5 0,-385.5 0,-385.5 0,-379.5 6,-373.5 12,-373.5 12,-373.5 142,-373.5 142,-373.5 148,-373.5 154,-379.5 154,-385.5 154,-385.5 154,-444.5 154,-444.5 154,-450.5 148,-456.5 142,-456.5\"/>\n<text text-anchor=\"middle\" x=\"77\" y=\"-441.3\" font-family=\"Helvetica,sans-Serif\" font-size=\"14.00\" fill=\"#000000\">q_memory_cg &lt;= 0.5</text>\n<text text-anchor=\"middle\" x=\"77\" y=\"-426.3\" font-family=\"Helvetica,sans-Serif\" font-size=\"14.00\" fill=\"#000000\">gini = 0.461</text>\n<text text-anchor=\"middle\" x=\"77\" y=\"-411.3\" font-family=\"Helvetica,sans-Serif\" font-size=\"14.00\" fill=\"#000000\">samples = 1167</text>\n<text text-anchor=\"middle\" x=\"77\" y=\"-396.3\" font-family=\"Helvetica,sans-Serif\" font-size=\"14.00\" fill=\"#000000\">value = [420, 747]</text>\n<text text-anchor=\"middle\" x=\"77\" y=\"-381.3\" font-family=\"Helvetica,sans-Serif\" font-size=\"14.00\" fill=\"#000000\">class = Impaired</text>\n</g>\n<!-- 1 -->\n<g id=\"node2\" class=\"node\">\n<title>1</title>\n<path fill=\"#efb489\" stroke=\"#000000\" d=\"M325.5,-546.5C325.5,-546.5 208.5,-546.5 208.5,-546.5 202.5,-546.5 196.5,-540.5 196.5,-534.5 196.5,-534.5 196.5,-475.5 196.5,-475.5 196.5,-469.5 202.5,-463.5 208.5,-463.5 208.5,-463.5 325.5,-463.5 325.5,-463.5 331.5,-463.5 337.5,-469.5 337.5,-475.5 337.5,-475.5 337.5,-534.5 337.5,-534.5 337.5,-540.5 331.5,-546.5 325.5,-546.5\"/>\n<text text-anchor=\"middle\" x=\"267\" y=\"-531.3\" font-family=\"Helvetica,sans-Serif\" font-size=\"14.00\" fill=\"#000000\">moca_orient &lt;= 5.5</text>\n<text text-anchor=\"middle\" x=\"267\" y=\"-516.3\" font-family=\"Helvetica,sans-Serif\" font-size=\"14.00\" fill=\"#000000\">gini = 0.409</text>\n<text text-anchor=\"middle\" x=\"267\" y=\"-501.3\" font-family=\"Helvetica,sans-Serif\" font-size=\"14.00\" fill=\"#000000\">samples = 425</text>\n<text text-anchor=\"middle\" x=\"267\" y=\"-486.3\" font-family=\"Helvetica,sans-Serif\" font-size=\"14.00\" fill=\"#000000\">value = [303, 122]</text>\n<text text-anchor=\"middle\" x=\"267\" y=\"-471.3\" font-family=\"Helvetica,sans-Serif\" font-size=\"14.00\" fill=\"#000000\">class = Normal</text>\n</g>\n<!-- 0&#45;&gt;1 -->\n<g id=\"edge1\" class=\"edge\">\n<title>0&#45;&gt;1</title>\n<path fill=\"none\" stroke=\"#000000\" d=\"M154.0064,-451.4767C164.9359,-456.6539 176.1953,-461.9872 187.1769,-467.189\"/>\n<polygon fill=\"#000000\" stroke=\"#000000\" points=\"185.787,-470.4035 196.3228,-471.5213 188.7837,-464.0773 185.787,-470.4035\"/>\n<text text-anchor=\"middle\" x=\"172.7792\" y=\"-476.2297\" font-family=\"Helvetica,sans-Serif\" font-size=\"14.00\" fill=\"#000000\">True</text>\n</g>\n<!-- 12 -->\n<g id=\"node13\" class=\"node\">\n<title>12</title>\n<path fill=\"#5eafea\" stroke=\"#000000\" d=\"M332,-359.5C332,-359.5 202,-359.5 202,-359.5 196,-359.5 190,-353.5 190,-347.5 190,-347.5 190,-288.5 190,-288.5 190,-282.5 196,-276.5 202,-276.5 202,-276.5 332,-276.5 332,-276.5 338,-276.5 344,-282.5 344,-288.5 344,-288.5 344,-347.5 344,-347.5 344,-353.5 338,-359.5 332,-359.5\"/>\n<text text-anchor=\"middle\" x=\"267\" y=\"-344.3\" font-family=\"Helvetica,sans-Serif\" font-size=\"14.00\" fill=\"#000000\">q_memory_cg &lt;= 1.5</text>\n<text text-anchor=\"middle\" x=\"267\" y=\"-329.3\" font-family=\"Helvetica,sans-Serif\" font-size=\"14.00\" fill=\"#000000\">gini = 0.266</text>\n<text text-anchor=\"middle\" x=\"267\" y=\"-314.3\" font-family=\"Helvetica,sans-Serif\" font-size=\"14.00\" fill=\"#000000\">samples = 742</text>\n<text text-anchor=\"middle\" x=\"267\" y=\"-299.3\" font-family=\"Helvetica,sans-Serif\" font-size=\"14.00\" fill=\"#000000\">value = [117, 625]</text>\n<text text-anchor=\"middle\" x=\"267\" y=\"-284.3\" font-family=\"Helvetica,sans-Serif\" font-size=\"14.00\" fill=\"#000000\">class = Impaired</text>\n</g>\n<!-- 0&#45;&gt;12 -->\n<g id=\"edge12\" class=\"edge\">\n<title>0&#45;&gt;12</title>\n<path fill=\"none\" stroke=\"#000000\" d=\"M154.0064,-375.6862C162.8786,-371.1567 171.9681,-366.5163 180.95,-361.9308\"/>\n<polygon fill=\"#000000\" stroke=\"#000000\" points=\"182.569,-365.0341 189.884,-357.3698 179.386,-358.7995 182.569,-365.0341\"/>\n<text text-anchor=\"middle\" x=\"166.1014\" y=\"-345.9632\" font-family=\"Helvetica,sans-Serif\" font-size=\"14.00\" fill=\"#000000\">False</text>\n</g>\n<!-- 2 -->\n<g id=\"node3\" class=\"node\">\n<title>2</title>\n<path fill=\"#8fc8f0\" stroke=\"#000000\" d=\"M530,-687.5C530,-687.5 392,-687.5 392,-687.5 386,-687.5 380,-681.5 380,-675.5 380,-675.5 380,-616.5 380,-616.5 380,-610.5 386,-604.5 392,-604.5 392,-604.5 530,-604.5 530,-604.5 536,-604.5 542,-610.5 542,-616.5 542,-616.5 542,-675.5 542,-675.5 542,-681.5 536,-687.5 530,-687.5\"/>\n<text text-anchor=\"middle\" x=\"461\" y=\"-672.3\" font-family=\"Helvetica,sans-Serif\" font-size=\"14.00\" fill=\"#000000\">q_language_cg &lt;= 0.5</text>\n<text text-anchor=\"middle\" x=\"461\" y=\"-657.3\" font-family=\"Helvetica,sans-Serif\" font-size=\"14.00\" fill=\"#000000\">gini = 0.422</text>\n<text text-anchor=\"middle\" x=\"461\" y=\"-642.3\" font-family=\"Helvetica,sans-Serif\" font-size=\"14.00\" fill=\"#000000\">samples = 33</text>\n<text text-anchor=\"middle\" x=\"461\" y=\"-627.3\" font-family=\"Helvetica,sans-Serif\" font-size=\"14.00\" fill=\"#000000\">value = [10, 23]</text>\n<text text-anchor=\"middle\" x=\"461\" y=\"-612.3\" font-family=\"Helvetica,sans-Serif\" font-size=\"14.00\" fill=\"#000000\">class = Impaired</text>\n</g>\n<!-- 1&#45;&gt;2 -->\n<g id=\"edge2\" class=\"edge\">\n<title>1&#45;&gt;2</title>\n<path fill=\"none\" stroke=\"#000000\" d=\"M324.1571,-546.542C346.4548,-562.7481 372.1523,-581.4251 395.2147,-598.187\"/>\n<polygon fill=\"#000000\" stroke=\"#000000\" points=\"393.4341,-601.2196 403.581,-604.2677 397.5496,-595.5572 393.4341,-601.2196\"/>\n</g>\n<!-- 9 -->\n<g id=\"node10\" class=\"node\">\n<title>9</title>\n<path fill=\"#eeac7c\" stroke=\"#000000\" d=\"M530,-546.5C530,-546.5 392,-546.5 392,-546.5 386,-546.5 380,-540.5 380,-534.5 380,-534.5 380,-475.5 380,-475.5 380,-469.5 386,-463.5 392,-463.5 392,-463.5 530,-463.5 530,-463.5 536,-463.5 542,-469.5 542,-475.5 542,-475.5 542,-534.5 542,-534.5 542,-540.5 536,-546.5 530,-546.5\"/>\n<text text-anchor=\"middle\" x=\"461\" y=\"-531.3\" font-family=\"Helvetica,sans-Serif\" font-size=\"14.00\" fill=\"#000000\">q_language_cg &lt;= 0.5</text>\n<text text-anchor=\"middle\" x=\"461\" y=\"-516.3\" font-family=\"Helvetica,sans-Serif\" font-size=\"14.00\" fill=\"#000000\">gini = 0.378</text>\n<text text-anchor=\"middle\" x=\"461\" y=\"-501.3\" font-family=\"Helvetica,sans-Serif\" font-size=\"14.00\" fill=\"#000000\">samples = 392</text>\n<text text-anchor=\"middle\" x=\"461\" y=\"-486.3\" font-family=\"Helvetica,sans-Serif\" font-size=\"14.00\" fill=\"#000000\">value = [293, 99]</text>\n<text text-anchor=\"middle\" x=\"461\" y=\"-471.3\" font-family=\"Helvetica,sans-Serif\" font-size=\"14.00\" fill=\"#000000\">class = Normal</text>\n</g>\n<!-- 1&#45;&gt;9 -->\n<g id=\"edge9\" class=\"edge\">\n<title>1&#45;&gt;9</title>\n<path fill=\"none\" stroke=\"#000000\" d=\"M337.5872,-505C348.014,-505 358.8815,-505 369.6556,-505\"/>\n<polygon fill=\"#000000\" stroke=\"#000000\" points=\"369.9395,-508.5001 379.9394,-505 369.9394,-501.5001 369.9395,-508.5001\"/>\n</g>\n<!-- 3 -->\n<g id=\"node4\" class=\"node\">\n<title>3</title>\n<path fill=\"#84c2ef\" stroke=\"#000000\" d=\"M717.5,-788.5C717.5,-788.5 600.5,-788.5 600.5,-788.5 594.5,-788.5 588.5,-782.5 588.5,-776.5 588.5,-776.5 588.5,-717.5 588.5,-717.5 588.5,-711.5 594.5,-705.5 600.5,-705.5 600.5,-705.5 717.5,-705.5 717.5,-705.5 723.5,-705.5 729.5,-711.5 729.5,-717.5 729.5,-717.5 729.5,-776.5 729.5,-776.5 729.5,-782.5 723.5,-788.5 717.5,-788.5\"/>\n<text text-anchor=\"middle\" x=\"659\" y=\"-773.3\" font-family=\"Helvetica,sans-Serif\" font-size=\"14.00\" fill=\"#000000\">moca_orient &lt;= 4.5</text>\n<text text-anchor=\"middle\" x=\"659\" y=\"-758.3\" font-family=\"Helvetica,sans-Serif\" font-size=\"14.00\" fill=\"#000000\">gini = 0.4</text>\n<text text-anchor=\"middle\" x=\"659\" y=\"-743.3\" font-family=\"Helvetica,sans-Serif\" font-size=\"14.00\" fill=\"#000000\">samples = 29</text>\n<text text-anchor=\"middle\" x=\"659\" y=\"-728.3\" font-family=\"Helvetica,sans-Serif\" font-size=\"14.00\" fill=\"#000000\">value = [8, 21]</text>\n<text text-anchor=\"middle\" x=\"659\" y=\"-713.3\" font-family=\"Helvetica,sans-Serif\" font-size=\"14.00\" fill=\"#000000\">class = Impaired</text>\n</g>\n<!-- 2&#45;&gt;3 -->\n<g id=\"edge3\" class=\"edge\">\n<title>2&#45;&gt;3</title>\n<path fill=\"none\" stroke=\"#000000\" d=\"M542.1055,-687.372C554.3605,-693.6233 566.994,-700.0676 579.2206,-706.3045\"/>\n<polygon fill=\"#000000\" stroke=\"#000000\" points=\"577.9797,-709.6005 588.4781,-711.0267 581.1606,-703.3649 577.9797,-709.6005\"/>\n</g>\n<!-- 6 -->\n<g id=\"node7\" class=\"node\">\n<title>6</title>\n<path fill=\"#ffffff\" stroke=\"#000000\" d=\"M717.5,-687.5C717.5,-687.5 600.5,-687.5 600.5,-687.5 594.5,-687.5 588.5,-681.5 588.5,-675.5 588.5,-675.5 588.5,-616.5 588.5,-616.5 588.5,-610.5 594.5,-604.5 600.5,-604.5 600.5,-604.5 717.5,-604.5 717.5,-604.5 723.5,-604.5 729.5,-610.5 729.5,-616.5 729.5,-616.5 729.5,-675.5 729.5,-675.5 729.5,-681.5 723.5,-687.5 717.5,-687.5\"/>\n<text text-anchor=\"middle\" x=\"659\" y=\"-672.3\" font-family=\"Helvetica,sans-Serif\" font-size=\"14.00\" fill=\"#000000\">moca_orient &lt;= 4.5</text>\n<text text-anchor=\"middle\" x=\"659\" y=\"-657.3\" font-family=\"Helvetica,sans-Serif\" font-size=\"14.00\" fill=\"#000000\">gini = 0.5</text>\n<text text-anchor=\"middle\" x=\"659\" y=\"-642.3\" font-family=\"Helvetica,sans-Serif\" font-size=\"14.00\" fill=\"#000000\">samples = 4</text>\n<text text-anchor=\"middle\" x=\"659\" y=\"-627.3\" font-family=\"Helvetica,sans-Serif\" font-size=\"14.00\" fill=\"#000000\">value = [2, 2]</text>\n<text text-anchor=\"middle\" x=\"659\" y=\"-612.3\" font-family=\"Helvetica,sans-Serif\" font-size=\"14.00\" fill=\"#000000\">class = Normal</text>\n</g>\n<!-- 2&#45;&gt;6 -->\n<g id=\"edge6\" class=\"edge\">\n<title>2&#45;&gt;6</title>\n<path fill=\"none\" stroke=\"#000000\" d=\"M542.1055,-646C554.0001,-646 566.2511,-646 578.1408,-646\"/>\n<polygon fill=\"#000000\" stroke=\"#000000\" points=\"578.4782,-649.5001 588.4781,-646 578.4781,-642.5001 578.4782,-649.5001\"/>\n</g>\n<!-- 4 -->\n<g id=\"node5\" class=\"node\">\n<title>4</title>\n<path fill=\"#c0c0c0\" stroke=\"#000000\" d=\"M818,-807C818,-807 788,-807 788,-807 782,-807 776,-801 776,-795 776,-795 776,-783 776,-783 776,-777 782,-771 788,-771 788,-771 818,-771 818,-771 824,-771 830,-777 830,-783 830,-783 830,-795 830,-795 830,-801 824,-807 818,-807\"/>\n<text text-anchor=\"middle\" x=\"803\" y=\"-785.3\" font-family=\"Helvetica,sans-Serif\" font-size=\"14.00\" fill=\"#000000\">(...)</text>\n</g>\n<!-- 3&#45;&gt;4 -->\n<g id=\"edge4\" class=\"edge\">\n<title>3&#45;&gt;4</title>\n<path fill=\"none\" stroke=\"#000000\" d=\"M729.7344,-767.6309C742.2594,-771.284 754.8354,-774.952 765.9459,-778.1925\"/>\n<polygon fill=\"#000000\" stroke=\"#000000\" points=\"765.1137,-781.5956 775.6938,-781.0357 767.0738,-774.8756 765.1137,-781.5956\"/>\n</g>\n<!-- 5 -->\n<g id=\"node6\" class=\"node\">\n<title>5</title>\n<path fill=\"#c0c0c0\" stroke=\"#000000\" d=\"M818,-753C818,-753 788,-753 788,-753 782,-753 776,-747 776,-741 776,-741 776,-729 776,-729 776,-723 782,-717 788,-717 788,-717 818,-717 818,-717 824,-717 830,-723 830,-729 830,-729 830,-741 830,-741 830,-747 824,-753 818,-753\"/>\n<text text-anchor=\"middle\" x=\"803\" y=\"-731.3\" font-family=\"Helvetica,sans-Serif\" font-size=\"14.00\" fill=\"#000000\">(...)</text>\n</g>\n<!-- 3&#45;&gt;5 -->\n<g id=\"edge5\" class=\"edge\">\n<title>3&#45;&gt;5</title>\n<path fill=\"none\" stroke=\"#000000\" d=\"M729.7344,-741.1055C742.1316,-740.0724 754.5788,-739.0351 765.6053,-738.1162\"/>\n<polygon fill=\"#000000\" stroke=\"#000000\" points=\"766.019,-741.594 775.6938,-737.2755 765.4376,-734.6182 766.019,-741.594\"/>\n</g>\n<!-- 7 -->\n<g id=\"node8\" class=\"node\">\n<title>7</title>\n<path fill=\"#c0c0c0\" stroke=\"#000000\" d=\"M818,-676C818,-676 788,-676 788,-676 782,-676 776,-670 776,-664 776,-664 776,-652 776,-652 776,-646 782,-640 788,-640 788,-640 818,-640 818,-640 824,-640 830,-646 830,-652 830,-652 830,-664 830,-664 830,-670 824,-676 818,-676\"/>\n<text text-anchor=\"middle\" x=\"803\" y=\"-654.3\" font-family=\"Helvetica,sans-Serif\" font-size=\"14.00\" fill=\"#000000\">(...)</text>\n</g>\n<!-- 6&#45;&gt;7 -->\n<g id=\"edge7\" class=\"edge\">\n<title>6&#45;&gt;7</title>\n<path fill=\"none\" stroke=\"#000000\" d=\"M729.7344,-651.8945C742.1316,-652.9276 754.5788,-653.9649 765.6053,-654.8838\"/>\n<polygon fill=\"#000000\" stroke=\"#000000\" points=\"765.4376,-658.3818 775.6938,-655.7245 766.019,-651.406 765.4376,-658.3818\"/>\n</g>\n<!-- 8 -->\n<g id=\"node9\" class=\"node\">\n<title>8</title>\n<path fill=\"#c0c0c0\" stroke=\"#000000\" d=\"M818,-622C818,-622 788,-622 788,-622 782,-622 776,-616 776,-610 776,-610 776,-598 776,-598 776,-592 782,-586 788,-586 788,-586 818,-586 818,-586 824,-586 830,-592 830,-598 830,-598 830,-610 830,-610 830,-616 824,-622 818,-622\"/>\n<text text-anchor=\"middle\" x=\"803\" y=\"-600.3\" font-family=\"Helvetica,sans-Serif\" font-size=\"14.00\" fill=\"#000000\">(...)</text>\n</g>\n<!-- 6&#45;&gt;8 -->\n<g id=\"edge8\" class=\"edge\">\n<title>6&#45;&gt;8</title>\n<path fill=\"none\" stroke=\"#000000\" d=\"M729.7344,-625.3691C742.2594,-621.716 754.8354,-618.048 765.9459,-614.8075\"/>\n<polygon fill=\"#000000\" stroke=\"#000000\" points=\"767.0738,-618.1244 775.6938,-611.9643 765.1137,-611.4044 767.0738,-618.1244\"/>\n</g>\n<!-- 10 -->\n<g id=\"node11\" class=\"node\">\n<title>10</title>\n<path fill=\"#eda978\" stroke=\"#000000\" d=\"M709,-586C709,-586 609,-586 609,-586 603,-586 597,-580 597,-574 597,-574 597,-530 597,-530 597,-524 603,-518 609,-518 609,-518 709,-518 709,-518 715,-518 721,-524 721,-530 721,-530 721,-574 721,-574 721,-580 715,-586 709,-586\"/>\n<text text-anchor=\"middle\" x=\"659\" y=\"-570.8\" font-family=\"Helvetica,sans-Serif\" font-size=\"14.00\" fill=\"#000000\">gini = 0.366</text>\n<text text-anchor=\"middle\" x=\"659\" y=\"-555.8\" font-family=\"Helvetica,sans-Serif\" font-size=\"14.00\" fill=\"#000000\">samples = 385</text>\n<text text-anchor=\"middle\" x=\"659\" y=\"-540.8\" font-family=\"Helvetica,sans-Serif\" font-size=\"14.00\" fill=\"#000000\">value = [292, 93]</text>\n<text text-anchor=\"middle\" x=\"659\" y=\"-525.8\" font-family=\"Helvetica,sans-Serif\" font-size=\"14.00\" fill=\"#000000\">class = Normal</text>\n</g>\n<!-- 9&#45;&gt;10 -->\n<g id=\"edge10\" class=\"edge\">\n<title>9&#45;&gt;10</title>\n<path fill=\"none\" stroke=\"#000000\" d=\"M542.1055,-524.2523C556.9437,-527.7745 572.3366,-531.4284 586.8906,-534.8831\"/>\n<polygon fill=\"#000000\" stroke=\"#000000\" points=\"586.2773,-538.3347 596.8153,-537.239 587.894,-531.524 586.2773,-538.3347\"/>\n</g>\n<!-- 11 -->\n<g id=\"node12\" class=\"node\">\n<title>11</title>\n<path fill=\"#5aade9\" stroke=\"#000000\" d=\"M708,-500C708,-500 610,-500 610,-500 604,-500 598,-494 598,-488 598,-488 598,-444 598,-444 598,-438 604,-432 610,-432 610,-432 708,-432 708,-432 714,-432 720,-438 720,-444 720,-444 720,-488 720,-488 720,-494 714,-500 708,-500\"/>\n<text text-anchor=\"middle\" x=\"659\" y=\"-484.8\" font-family=\"Helvetica,sans-Serif\" font-size=\"14.00\" fill=\"#000000\">gini = 0.245</text>\n<text text-anchor=\"middle\" x=\"659\" y=\"-469.8\" font-family=\"Helvetica,sans-Serif\" font-size=\"14.00\" fill=\"#000000\">samples = 7</text>\n<text text-anchor=\"middle\" x=\"659\" y=\"-454.8\" font-family=\"Helvetica,sans-Serif\" font-size=\"14.00\" fill=\"#000000\">value = [1, 6]</text>\n<text text-anchor=\"middle\" x=\"659\" y=\"-439.8\" font-family=\"Helvetica,sans-Serif\" font-size=\"14.00\" fill=\"#000000\">class = Impaired</text>\n</g>\n<!-- 9&#45;&gt;11 -->\n<g id=\"edge11\" class=\"edge\">\n<title>9&#45;&gt;11</title>\n<path fill=\"none\" stroke=\"#000000\" d=\"M542.1055,-489.0247C557.204,-486.0507 572.8769,-482.9636 587.6558,-480.0526\"/>\n<polygon fill=\"#000000\" stroke=\"#000000\" points=\"588.5915,-483.4357 597.7266,-478.069 587.2386,-476.5676 588.5915,-483.4357\"/>\n</g>\n<!-- 13 -->\n<g id=\"node14\" class=\"node\">\n<title>13</title>\n<path fill=\"#83c2ef\" stroke=\"#000000\" d=\"M530,-359.5C530,-359.5 392,-359.5 392,-359.5 386,-359.5 380,-353.5 380,-347.5 380,-347.5 380,-288.5 380,-288.5 380,-282.5 386,-276.5 392,-276.5 392,-276.5 530,-276.5 530,-276.5 536,-276.5 542,-282.5 542,-288.5 542,-288.5 542,-347.5 542,-347.5 542,-353.5 536,-359.5 530,-359.5\"/>\n<text text-anchor=\"middle\" x=\"461\" y=\"-344.3\" font-family=\"Helvetica,sans-Serif\" font-size=\"14.00\" fill=\"#000000\">q_language_cg &lt;= 0.5</text>\n<text text-anchor=\"middle\" x=\"461\" y=\"-329.3\" font-family=\"Helvetica,sans-Serif\" font-size=\"14.00\" fill=\"#000000\">gini = 0.397</text>\n<text text-anchor=\"middle\" x=\"461\" y=\"-314.3\" font-family=\"Helvetica,sans-Serif\" font-size=\"14.00\" fill=\"#000000\">samples = 370</text>\n<text text-anchor=\"middle\" x=\"461\" y=\"-299.3\" font-family=\"Helvetica,sans-Serif\" font-size=\"14.00\" fill=\"#000000\">value = [101, 269]</text>\n<text text-anchor=\"middle\" x=\"461\" y=\"-284.3\" font-family=\"Helvetica,sans-Serif\" font-size=\"14.00\" fill=\"#000000\">class = Impaired</text>\n</g>\n<!-- 12&#45;&gt;13 -->\n<g id=\"edge13\" class=\"edge\">\n<title>12&#45;&gt;13</title>\n<path fill=\"none\" stroke=\"#000000\" d=\"M344.2314,-318C352.6614,-318 361.2995,-318 369.8761,-318\"/>\n<polygon fill=\"#000000\" stroke=\"#000000\" points=\"369.9,-321.5001 379.9,-318 369.8999,-314.5001 369.9,-321.5001\"/>\n</g>\n<!-- 28 -->\n<g id=\"node21\" class=\"node\">\n<title>28</title>\n<path fill=\"#42a1e6\" stroke=\"#000000\" d=\"M519.5,-211.5C519.5,-211.5 402.5,-211.5 402.5,-211.5 396.5,-211.5 390.5,-205.5 390.5,-199.5 390.5,-199.5 390.5,-140.5 390.5,-140.5 390.5,-134.5 396.5,-128.5 402.5,-128.5 402.5,-128.5 519.5,-128.5 519.5,-128.5 525.5,-128.5 531.5,-134.5 531.5,-140.5 531.5,-140.5 531.5,-199.5 531.5,-199.5 531.5,-205.5 525.5,-211.5 519.5,-211.5\"/>\n<text text-anchor=\"middle\" x=\"461\" y=\"-196.3\" font-family=\"Helvetica,sans-Serif\" font-size=\"14.00\" fill=\"#000000\">moca_orient &lt;= 5.5</text>\n<text text-anchor=\"middle\" x=\"461\" y=\"-181.3\" font-family=\"Helvetica,sans-Serif\" font-size=\"14.00\" fill=\"#000000\">gini = 0.082</text>\n<text text-anchor=\"middle\" x=\"461\" y=\"-166.3\" font-family=\"Helvetica,sans-Serif\" font-size=\"14.00\" fill=\"#000000\">samples = 372</text>\n<text text-anchor=\"middle\" x=\"461\" y=\"-151.3\" font-family=\"Helvetica,sans-Serif\" font-size=\"14.00\" fill=\"#000000\">value = [16, 356]</text>\n<text text-anchor=\"middle\" x=\"461\" y=\"-136.3\" font-family=\"Helvetica,sans-Serif\" font-size=\"14.00\" fill=\"#000000\">class = Impaired</text>\n</g>\n<!-- 12&#45;&gt;28 -->\n<g id=\"edge20\" class=\"edge\">\n<title>12&#45;&gt;28</title>\n<path fill=\"none\" stroke=\"#000000\" d=\"M321.5561,-276.3799C345.4193,-258.1749 373.5517,-236.7132 398.275,-217.8521\"/>\n<polygon fill=\"#000000\" stroke=\"#000000\" points=\"400.6899,-220.412 406.5176,-211.5639 396.4441,-214.8466 400.6899,-220.412\"/>\n</g>\n<!-- 14 -->\n<g id=\"node15\" class=\"node\">\n<title>14</title>\n<path fill=\"#a0d0f3\" stroke=\"#000000\" d=\"M717.5,-413.5C717.5,-413.5 600.5,-413.5 600.5,-413.5 594.5,-413.5 588.5,-407.5 588.5,-401.5 588.5,-401.5 588.5,-342.5 588.5,-342.5 588.5,-336.5 594.5,-330.5 600.5,-330.5 600.5,-330.5 717.5,-330.5 717.5,-330.5 723.5,-330.5 729.5,-336.5 729.5,-342.5 729.5,-342.5 729.5,-401.5 729.5,-401.5 729.5,-407.5 723.5,-413.5 717.5,-413.5\"/>\n<text text-anchor=\"middle\" x=\"659\" y=\"-398.3\" font-family=\"Helvetica,sans-Serif\" font-size=\"14.00\" fill=\"#000000\">moca_orient &lt;= 5.5</text>\n<text text-anchor=\"middle\" x=\"659\" y=\"-383.3\" font-family=\"Helvetica,sans-Serif\" font-size=\"14.00\" fill=\"#000000\">gini = 0.45</text>\n<text text-anchor=\"middle\" x=\"659\" y=\"-368.3\" font-family=\"Helvetica,sans-Serif\" font-size=\"14.00\" fill=\"#000000\">samples = 251</text>\n<text text-anchor=\"middle\" x=\"659\" y=\"-353.3\" font-family=\"Helvetica,sans-Serif\" font-size=\"14.00\" fill=\"#000000\">value = [86, 165]</text>\n<text text-anchor=\"middle\" x=\"659\" y=\"-338.3\" font-family=\"Helvetica,sans-Serif\" font-size=\"14.00\" fill=\"#000000\">class = Impaired</text>\n</g>\n<!-- 13&#45;&gt;14 -->\n<g id=\"edge14\" class=\"edge\">\n<title>13&#45;&gt;14</title>\n<path fill=\"none\" stroke=\"#000000\" d=\"M542.1055,-340.1197C554.1202,-343.3964 566.4987,-346.7724 578.501,-350.0457\"/>\n<polygon fill=\"#000000\" stroke=\"#000000\" points=\"577.9096,-353.5122 588.4781,-352.7668 579.7514,-346.7588 577.9096,-353.5122\"/>\n</g>\n<!-- 19 -->\n<g id=\"node18\" class=\"node\">\n<title>19</title>\n<path fill=\"#56abe9\" stroke=\"#000000\" d=\"M717.5,-312.5C717.5,-312.5 600.5,-312.5 600.5,-312.5 594.5,-312.5 588.5,-306.5 588.5,-300.5 588.5,-300.5 588.5,-241.5 588.5,-241.5 588.5,-235.5 594.5,-229.5 600.5,-229.5 600.5,-229.5 717.5,-229.5 717.5,-229.5 723.5,-229.5 729.5,-235.5 729.5,-241.5 729.5,-241.5 729.5,-300.5 729.5,-300.5 729.5,-306.5 723.5,-312.5 717.5,-312.5\"/>\n<text text-anchor=\"middle\" x=\"659\" y=\"-297.3\" font-family=\"Helvetica,sans-Serif\" font-size=\"14.00\" fill=\"#000000\">moca_orient &lt;= 5.5</text>\n<text text-anchor=\"middle\" x=\"659\" y=\"-282.3\" font-family=\"Helvetica,sans-Serif\" font-size=\"14.00\" fill=\"#000000\">gini = 0.22</text>\n<text text-anchor=\"middle\" x=\"659\" y=\"-267.3\" font-family=\"Helvetica,sans-Serif\" font-size=\"14.00\" fill=\"#000000\">samples = 119</text>\n<text text-anchor=\"middle\" x=\"659\" y=\"-252.3\" font-family=\"Helvetica,sans-Serif\" font-size=\"14.00\" fill=\"#000000\">value = [15, 104]</text>\n<text text-anchor=\"middle\" x=\"659\" y=\"-237.3\" font-family=\"Helvetica,sans-Serif\" font-size=\"14.00\" fill=\"#000000\">class = Impaired</text>\n</g>\n<!-- 13&#45;&gt;19 -->\n<g id=\"edge17\" class=\"edge\">\n<title>13&#45;&gt;19</title>\n<path fill=\"none\" stroke=\"#000000\" d=\"M542.1055,-298.7477C554.1202,-295.8957 566.4987,-292.9574 578.501,-290.1084\"/>\n<polygon fill=\"#000000\" stroke=\"#000000\" points=\"579.5569,-293.455 588.4781,-287.74 577.9401,-286.6443 579.5569,-293.455\"/>\n</g>\n<!-- 15 -->\n<g id=\"node16\" class=\"node\">\n<title>15</title>\n<path fill=\"#c0c0c0\" stroke=\"#000000\" d=\"M818,-442C818,-442 788,-442 788,-442 782,-442 776,-436 776,-430 776,-430 776,-418 776,-418 776,-412 782,-406 788,-406 788,-406 818,-406 818,-406 824,-406 830,-412 830,-418 830,-418 830,-430 830,-430 830,-436 824,-442 818,-442\"/>\n<text text-anchor=\"middle\" x=\"803\" y=\"-420.3\" font-family=\"Helvetica,sans-Serif\" font-size=\"14.00\" fill=\"#000000\">(...)</text>\n</g>\n<!-- 14&#45;&gt;15 -->\n<g id=\"edge15\" class=\"edge\">\n<title>14&#45;&gt;15</title>\n<path fill=\"none\" stroke=\"#000000\" d=\"M729.7344,-397.543C742.3872,-402.112 755.0921,-406.6999 766.2855,-410.742\"/>\n<polygon fill=\"#000000\" stroke=\"#000000\" points=\"765.0994,-414.0348 775.6938,-414.1394 767.477,-407.451 765.0994,-414.0348\"/>\n</g>\n<!-- 18 -->\n<g id=\"node17\" class=\"node\">\n<title>18</title>\n<path fill=\"#c0c0c0\" stroke=\"#000000\" d=\"M818,-388C818,-388 788,-388 788,-388 782,-388 776,-382 776,-376 776,-376 776,-364 776,-364 776,-358 782,-352 788,-352 788,-352 818,-352 818,-352 824,-352 830,-358 830,-364 830,-364 830,-376 830,-376 830,-382 824,-388 818,-388\"/>\n<text text-anchor=\"middle\" x=\"803\" y=\"-366.3\" font-family=\"Helvetica,sans-Serif\" font-size=\"14.00\" fill=\"#000000\">(...)</text>\n</g>\n<!-- 14&#45;&gt;18 -->\n<g id=\"edge16\" class=\"edge\">\n<title>14&#45;&gt;18</title>\n<path fill=\"none\" stroke=\"#000000\" d=\"M729.7344,-371.0176C742.1316,-370.8454 754.5788,-370.6725 765.6053,-370.5194\"/>\n<polygon fill=\"#000000\" stroke=\"#000000\" points=\"765.7434,-374.0179 775.6938,-370.3793 765.6461,-367.0186 765.7434,-374.0179\"/>\n</g>\n<!-- 20 -->\n<g id=\"node19\" class=\"node\">\n<title>20</title>\n<path fill=\"#c0c0c0\" stroke=\"#000000\" d=\"M818,-330C818,-330 788,-330 788,-330 782,-330 776,-324 776,-318 776,-318 776,-306 776,-306 776,-300 782,-294 788,-294 788,-294 818,-294 818,-294 824,-294 830,-300 830,-306 830,-306 830,-318 830,-318 830,-324 824,-330 818,-330\"/>\n<text text-anchor=\"middle\" x=\"803\" y=\"-308.3\" font-family=\"Helvetica,sans-Serif\" font-size=\"14.00\" fill=\"#000000\">(...)</text>\n</g>\n<!-- 19&#45;&gt;20 -->\n<g id=\"edge18\" class=\"edge\">\n<title>19&#45;&gt;20</title>\n<path fill=\"none\" stroke=\"#000000\" d=\"M729.7344,-291.1397C742.2594,-294.7058 754.8354,-298.2865 765.9459,-301.4499\"/>\n<polygon fill=\"#000000\" stroke=\"#000000\" points=\"765.1175,-304.8531 775.6938,-304.2253 767.0345,-298.1206 765.1175,-304.8531\"/>\n</g>\n<!-- 25 -->\n<g id=\"node20\" class=\"node\">\n<title>25</title>\n<path fill=\"#c0c0c0\" stroke=\"#000000\" d=\"M818,-276C818,-276 788,-276 788,-276 782,-276 776,-270 776,-264 776,-264 776,-252 776,-252 776,-246 782,-240 788,-240 788,-240 818,-240 818,-240 824,-240 830,-246 830,-252 830,-252 830,-264 830,-264 830,-270 824,-276 818,-276\"/>\n<text text-anchor=\"middle\" x=\"803\" y=\"-254.3\" font-family=\"Helvetica,sans-Serif\" font-size=\"14.00\" fill=\"#000000\">(...)</text>\n</g>\n<!-- 19&#45;&gt;25 -->\n<g id=\"edge19\" class=\"edge\">\n<title>19&#45;&gt;25</title>\n<path fill=\"none\" stroke=\"#000000\" d=\"M729.7344,-264.6143C742.1316,-263.4951 754.5788,-262.3714 765.6053,-261.3759\"/>\n<polygon fill=\"#000000\" stroke=\"#000000\" points=\"766.049,-264.8502 775.6938,-260.4651 765.4195,-257.8785 766.049,-264.8502\"/>\n</g>\n<!-- 29 -->\n<g id=\"node22\" class=\"node\">\n<title>29</title>\n<path fill=\"#3b9ee5\" stroke=\"#000000\" d=\"M717.5,-211.5C717.5,-211.5 600.5,-211.5 600.5,-211.5 594.5,-211.5 588.5,-205.5 588.5,-199.5 588.5,-199.5 588.5,-140.5 588.5,-140.5 588.5,-134.5 594.5,-128.5 600.5,-128.5 600.5,-128.5 717.5,-128.5 717.5,-128.5 723.5,-128.5 729.5,-134.5 729.5,-140.5 729.5,-140.5 729.5,-199.5 729.5,-199.5 729.5,-205.5 723.5,-211.5 717.5,-211.5\"/>\n<text text-anchor=\"middle\" x=\"659\" y=\"-196.3\" font-family=\"Helvetica,sans-Serif\" font-size=\"14.00\" fill=\"#000000\">moca_orient &lt;= 4.5</text>\n<text text-anchor=\"middle\" x=\"659\" y=\"-181.3\" font-family=\"Helvetica,sans-Serif\" font-size=\"14.00\" fill=\"#000000\">gini = 0.019</text>\n<text text-anchor=\"middle\" x=\"659\" y=\"-166.3\" font-family=\"Helvetica,sans-Serif\" font-size=\"14.00\" fill=\"#000000\">samples = 214</text>\n<text text-anchor=\"middle\" x=\"659\" y=\"-151.3\" font-family=\"Helvetica,sans-Serif\" font-size=\"14.00\" fill=\"#000000\">value = [2, 212]</text>\n<text text-anchor=\"middle\" x=\"659\" y=\"-136.3\" font-family=\"Helvetica,sans-Serif\" font-size=\"14.00\" fill=\"#000000\">class = Impaired</text>\n</g>\n<!-- 28&#45;&gt;29 -->\n<g id=\"edge21\" class=\"edge\">\n<title>28&#45;&gt;29</title>\n<path fill=\"none\" stroke=\"#000000\" d=\"M531.644,-170C546.7672,-170 562.8546,-170 578.3236,-170\"/>\n<polygon fill=\"#000000\" stroke=\"#000000\" points=\"578.3833,-173.5001 588.3833,-170 578.3832,-166.5001 578.3833,-173.5001\"/>\n</g>\n<!-- 40 -->\n<g id=\"node25\" class=\"node\">\n<title>40</title>\n<path fill=\"#4ca7e8\" stroke=\"#000000\" d=\"M728,-110.5C728,-110.5 590,-110.5 590,-110.5 584,-110.5 578,-104.5 578,-98.5 578,-98.5 578,-39.5 578,-39.5 578,-33.5 584,-27.5 590,-27.5 590,-27.5 728,-27.5 728,-27.5 734,-27.5 740,-33.5 740,-39.5 740,-39.5 740,-98.5 740,-98.5 740,-104.5 734,-110.5 728,-110.5\"/>\n<text text-anchor=\"middle\" x=\"659\" y=\"-95.3\" font-family=\"Helvetica,sans-Serif\" font-size=\"14.00\" fill=\"#000000\">q_language_cg &lt;= 1.5</text>\n<text text-anchor=\"middle\" x=\"659\" y=\"-80.3\" font-family=\"Helvetica,sans-Serif\" font-size=\"14.00\" fill=\"#000000\">gini = 0.162</text>\n<text text-anchor=\"middle\" x=\"659\" y=\"-65.3\" font-family=\"Helvetica,sans-Serif\" font-size=\"14.00\" fill=\"#000000\">samples = 158</text>\n<text text-anchor=\"middle\" x=\"659\" y=\"-50.3\" font-family=\"Helvetica,sans-Serif\" font-size=\"14.00\" fill=\"#000000\">value = [14, 144]</text>\n<text text-anchor=\"middle\" x=\"659\" y=\"-35.3\" font-family=\"Helvetica,sans-Serif\" font-size=\"14.00\" fill=\"#000000\">class = Impaired</text>\n</g>\n<!-- 28&#45;&gt;40 -->\n<g id=\"edge24\" class=\"edge\">\n<title>28&#45;&gt;40</title>\n<path fill=\"none\" stroke=\"#000000\" d=\"M531.644,-133.9644C543.7087,-127.8102 556.3871,-121.3429 568.8756,-114.9725\"/>\n<polygon fill=\"#000000\" stroke=\"#000000\" points=\"570.6065,-118.0187 577.9241,-110.3569 567.4257,-111.7831 570.6065,-118.0187\"/>\n</g>\n<!-- 30 -->\n<g id=\"node23\" class=\"node\">\n<title>30</title>\n<path fill=\"#c0c0c0\" stroke=\"#000000\" d=\"M818,-214C818,-214 788,-214 788,-214 782,-214 776,-208 776,-202 776,-202 776,-190 776,-190 776,-184 782,-178 788,-178 788,-178 818,-178 818,-178 824,-178 830,-184 830,-190 830,-190 830,-202 830,-202 830,-208 824,-214 818,-214\"/>\n<text text-anchor=\"middle\" x=\"803\" y=\"-192.3\" font-family=\"Helvetica,sans-Serif\" font-size=\"14.00\" fill=\"#000000\">(...)</text>\n</g>\n<!-- 29&#45;&gt;30 -->\n<g id=\"edge22\" class=\"edge\">\n<title>29&#45;&gt;30</title>\n<path fill=\"none\" stroke=\"#000000\" d=\"M729.7344,-182.7715C742.1316,-185.0099 754.5788,-187.2573 765.6053,-189.2482\"/>\n<polygon fill=\"#000000\" stroke=\"#000000\" points=\"765.231,-192.7371 775.6938,-191.0697 766.4748,-185.8485 765.231,-192.7371\"/>\n</g>\n<!-- 31 -->\n<g id=\"node24\" class=\"node\">\n<title>31</title>\n<path fill=\"#c0c0c0\" stroke=\"#000000\" d=\"M818,-160C818,-160 788,-160 788,-160 782,-160 776,-154 776,-148 776,-148 776,-136 776,-136 776,-130 782,-124 788,-124 788,-124 818,-124 818,-124 824,-124 830,-130 830,-136 830,-136 830,-148 830,-148 830,-154 824,-160 818,-160\"/>\n<text text-anchor=\"middle\" x=\"803\" y=\"-138.3\" font-family=\"Helvetica,sans-Serif\" font-size=\"14.00\" fill=\"#000000\">(...)</text>\n</g>\n<!-- 29&#45;&gt;31 -->\n<g id=\"edge23\" class=\"edge\">\n<title>29&#45;&gt;31</title>\n<path fill=\"none\" stroke=\"#000000\" d=\"M729.7344,-156.2461C742.1316,-153.8355 754.5788,-151.4152 765.6053,-149.2712\"/>\n<polygon fill=\"#000000\" stroke=\"#000000\" points=\"766.5457,-152.654 775.6938,-147.3095 765.2095,-145.7827 766.5457,-152.654\"/>\n</g>\n<!-- 41 -->\n<g id=\"node26\" class=\"node\">\n<title>41</title>\n<path fill=\"#c0c0c0\" stroke=\"#000000\" d=\"M818,-90C818,-90 788,-90 788,-90 782,-90 776,-84 776,-78 776,-78 776,-66 776,-66 776,-60 782,-54 788,-54 788,-54 818,-54 818,-54 824,-54 830,-60 830,-66 830,-66 830,-78 830,-78 830,-84 824,-90 818,-90\"/>\n<text text-anchor=\"middle\" x=\"803\" y=\"-68.3\" font-family=\"Helvetica,sans-Serif\" font-size=\"14.00\" fill=\"#000000\">(...)</text>\n</g>\n<!-- 40&#45;&gt;41 -->\n<g id=\"edge25\" class=\"edge\">\n<title>40&#45;&gt;41</title>\n<path fill=\"none\" stroke=\"#000000\" d=\"M740.2584,-70.6929C749.0303,-70.8756 757.6157,-71.0545 765.4822,-71.2184\"/>\n<polygon fill=\"#000000\" stroke=\"#000000\" points=\"765.6429,-74.7224 775.7136,-71.4315 765.7887,-67.7239 765.6429,-74.7224\"/>\n</g>\n<!-- 48 -->\n<g id=\"node27\" class=\"node\">\n<title>48</title>\n<path fill=\"#c0c0c0\" stroke=\"#000000\" d=\"M818,-36C818,-36 788,-36 788,-36 782,-36 776,-30 776,-24 776,-24 776,-12 776,-12 776,-6 782,0 788,0 788,0 818,0 818,0 824,0 830,-6 830,-12 830,-12 830,-24 830,-24 830,-30 824,-36 818,-36\"/>\n<text text-anchor=\"middle\" x=\"803\" y=\"-14.3\" font-family=\"Helvetica,sans-Serif\" font-size=\"14.00\" fill=\"#000000\">(...)</text>\n</g>\n<!-- 40&#45;&gt;48 -->\n<g id=\"edge26\" class=\"edge\">\n<title>40&#45;&gt;48</title>\n<path fill=\"none\" stroke=\"#000000\" d=\"M740.2584,-40.221C749.3293,-37.0084 758.2009,-33.8664 766.2842,-31.0035\"/>\n<polygon fill=\"#000000\" stroke=\"#000000\" points=\"767.4558,-34.3017 775.7136,-27.6639 765.1189,-27.7033 767.4558,-34.3017\"/>\n</g>\n</g>\n</svg>\n"
          },
          "metadata": {
            "tags": []
          },
          "execution_count": 312
        }
      ]
    },
    {
      "cell_type": "markdown",
      "metadata": {
        "id": "2WpQvQS36grF",
        "colab_type": "text"
      },
      "source": [
        "## Row 3: ['q_memory_cg', 'q_language_cg', 'moca_orient', 'q_outsideact_pt']"
      ]
    },
    {
      "cell_type": "code",
      "metadata": {
        "id": "LqzafR376gwL",
        "colab_type": "code",
        "colab": {}
      },
      "source": [
        "features = df_costsum.iloc[3,3]"
      ],
      "execution_count": 0,
      "outputs": []
    },
    {
      "cell_type": "code",
      "metadata": {
        "colab_type": "code",
        "outputId": "642c3a92-0c65-40c1-a952-d52c3a8e76fd",
        "id": "tWGdP-ApBPks",
        "colab": {
          "base_uri": "https://localhost:8080/",
          "height": 289
        }
      },
      "source": [
        "X_train = adni_X.loc[:,features]\n",
        "X_test = clinic_X.loc[:,features]\n",
        "\n",
        "clf = RandomForestClassifier(n_estimators=300, max_features=.5, \n",
        "                            min_samples_leaf=5, bootstrap=True, random_state=0)\n",
        "clf.fit(X_train, adni_y.values.ravel())\n",
        "y_pred = clf.predict(X_test)\n",
        "print('AUC: ', roc_auc_score(clinic_y, y_pred))\n",
        "print('\\n')\n",
        "print(classification_report(clinic_y, y_pred, digits=3))\n",
        "print('\\n')\n",
        "print(confusion_matrix(clinic_y, y_pred))"
      ],
      "execution_count": 0,
      "outputs": [
        {
          "output_type": "stream",
          "text": [
            "AUC:  0.8424494382022473\n",
            "\n",
            "\n",
            "              precision    recall  f1-score   support\n",
            "\n",
            "         0.0      0.743     0.904     0.816       125\n",
            "         1.0      0.921     0.781     0.845       178\n",
            "\n",
            "    accuracy                          0.832       303\n",
            "   macro avg      0.832     0.842     0.830       303\n",
            "weighted avg      0.847     0.832     0.833       303\n",
            "\n",
            "\n",
            "\n",
            "[[113  12]\n",
            " [ 39 139]]\n"
          ],
          "name": "stdout"
        }
      ]
    },
    {
      "cell_type": "code",
      "metadata": {
        "colab_type": "code",
        "outputId": "2e639201-6e48-4f63-e0e4-08b2bc5e73ee",
        "id": "zhPziX36BPky",
        "colab": {
          "base_uri": "https://localhost:8080/",
          "height": 295
        }
      },
      "source": [
        "adni_proba = clf.predict_proba(X_test)\n",
        "roc = skplt.metrics.plot_roc(clinic_y, adni_proba)\n",
        "# fig = roc.get_figure()\n",
        "# fig.savefig(f'{dir}/Figures/roc_eff_row0_3', dpi=300)"
      ],
      "execution_count": 0,
      "outputs": [
        {
          "output_type": "display_data",
          "data": {
            "image/png": "[encoded data removed]",
            "text/plain": [
              "<Figure size 432x288 with 1 Axes>"
            ]
          },
          "metadata": {
            "tags": []
          }
        }
      ]
    },
    {
      "cell_type": "code",
      "metadata": {
        "colab_type": "code",
        "outputId": "ea81ecf1-a8d1-45d3-ad29-62adf204844e",
        "id": "K4kvF-OsBPk2",
        "colab": {
          "base_uri": "https://localhost:8080/",
          "height": 289
        }
      },
      "source": [
        "clf = MLPClassifier(hidden_layer_sizes=(105,60,15), activation='relu', \n",
        "                      solver='adam', alpha=.0001, learning_rate_init=.005, \n",
        "                      max_iter=5000, random_state=0)\n",
        "clf.fit(X_train, adni_y.values.ravel())\n",
        "y_pred = clf.predict(X_test)\n",
        "print('AUC: ', roc_auc_score(clinic_y, y_pred))\n",
        "print('\\n')\n",
        "print(classification_report(clinic_y, y_pred, digits=3))\n",
        "print('\\n')\n",
        "print(confusion_matrix(clinic_y, y_pred))"
      ],
      "execution_count": 0,
      "outputs": [
        {
          "output_type": "stream",
          "text": [
            "AUC:  0.8532584269662922\n",
            "\n",
            "\n",
            "              precision    recall  f1-score   support\n",
            "\n",
            "         0.0      0.752     0.920     0.827       125\n",
            "         1.0      0.933     0.787     0.854       178\n",
            "\n",
            "    accuracy                          0.842       303\n",
            "   macro avg      0.842     0.853     0.840       303\n",
            "weighted avg      0.858     0.842     0.843       303\n",
            "\n",
            "\n",
            "\n",
            "[[115  10]\n",
            " [ 38 140]]\n"
          ],
          "name": "stdout"
        }
      ]
    },
    {
      "cell_type": "code",
      "metadata": {
        "id": "4AuMHeNtIE73",
        "colab_type": "code",
        "outputId": "36115f85-b451-4376-da9e-68b7a960f195",
        "colab": {
          "base_uri": "https://localhost:8080/",
          "height": 295
        }
      },
      "source": [
        "adni_proba = clf.predict_proba(X_test)\n",
        "roc = skplt.metrics.plot_roc(clinic_y, adni_proba)\n",
        "fig = roc.get_figure()\n",
        "fig.savefig(f'{dir}/Figures/roc_eff_row3_4_mlp', dpi=300)"
      ],
      "execution_count": 0,
      "outputs": [
        {
          "output_type": "display_data",
          "data": {
            "image/png": "[encoded data removed]",
            "text/plain": [
              "<Figure size 432x288 with 1 Axes>"
            ]
          },
          "metadata": {
            "tags": []
          }
        }
      ]
    },
    {
      "cell_type": "code",
      "metadata": {
        "colab_type": "code",
        "outputId": "cd451f2c-5cb9-4e1d-a43d-1c136ad0e222",
        "id": "1sG6C5clBPk5",
        "colab": {
          "base_uri": "https://localhost:8080/",
          "height": 1000
        }
      },
      "source": [
        "from sklearn.tree import DecisionTreeClassifier\n",
        "\n",
        "clf = DecisionTreeClassifier(random_state=0)\n",
        "clf.fit(X_train, adni_y)\n",
        "\n",
        "import graphviz\n",
        "from sklearn.tree import export_graphviz\n",
        "\n",
        "dot = export_graphviz(clf, out_file=None,\n",
        "                     feature_names=features,\n",
        "                     class_names=['Normal','Impaired'],\n",
        "                     filled=True, rounded=True,\n",
        "                     rotate=True, max_depth=3)\n",
        "\n",
        "graph = graphviz.Source(dot)\n",
        "graph.render(filename='eff_tree_row3_4.gv', directory=f'{dir}/Output/', format='pdf')\n",
        "graph"
      ],
      "execution_count": 0,
      "outputs": [
        {
          "output_type": "execute_result",
          "data": {
            "text/plain": [
              "<graphviz.files.Source at 0x7f9777b7d198>"
            ],
            "image/svg+xml": "<?xml version=\"1.0\" encoding=\"UTF-8\" standalone=\"no\"?>\n<!DOCTYPE svg PUBLIC \"-//W3C//DTD SVG 1.1//EN\"\n \"http://www.w3.org/Graphics/SVG/1.1/DTD/svg11.dtd\">\n<!-- Generated by graphviz version 2.40.1 (20161225.0304)\n -->\n<!-- Title: Tree Pages: 1 -->\n<svg width=\"842pt\" height=\"801pt\"\n viewBox=\"0.00 0.00 842.00 801.00\" xmlns=\"http://www.w3.org/2000/svg\" xmlns:xlink=\"http://www.w3.org/1999/xlink\">\n<g id=\"graph0\" class=\"graph\" transform=\"scale(1 1) rotate(0) translate(4 797)\">\n<title>Tree</title>\n<polygon fill=\"#ffffff\" stroke=\"transparent\" points=\"-4,4 -4,-797 838,-797 838,4 -4,4\"/>\n<!-- 0 -->\n<g id=\"node1\" class=\"node\">\n<title>0</title>\n<path fill=\"#a8d4f4\" stroke=\"#000000\" d=\"M142,-456.5C142,-456.5 12,-456.5 12,-456.5 6,-456.5 0,-450.5 0,-444.5 0,-444.5 0,-385.5 0,-385.5 0,-379.5 6,-373.5 12,-373.5 12,-373.5 142,-373.5 142,-373.5 148,-373.5 154,-379.5 154,-385.5 154,-385.5 154,-444.5 154,-444.5 154,-450.5 148,-456.5 142,-456.5\"/>\n<text text-anchor=\"middle\" x=\"77\" y=\"-441.3\" font-family=\"Helvetica,sans-Serif\" font-size=\"14.00\" fill=\"#000000\">q_memory_cg &lt;= 0.5</text>\n<text text-anchor=\"middle\" x=\"77\" y=\"-426.3\" font-family=\"Helvetica,sans-Serif\" font-size=\"14.00\" fill=\"#000000\">gini = 0.461</text>\n<text text-anchor=\"middle\" x=\"77\" y=\"-411.3\" font-family=\"Helvetica,sans-Serif\" font-size=\"14.00\" fill=\"#000000\">samples = 1167</text>\n<text text-anchor=\"middle\" x=\"77\" y=\"-396.3\" font-family=\"Helvetica,sans-Serif\" font-size=\"14.00\" fill=\"#000000\">value = [420, 747]</text>\n<text text-anchor=\"middle\" x=\"77\" y=\"-381.3\" font-family=\"Helvetica,sans-Serif\" font-size=\"14.00\" fill=\"#000000\">class = Impaired</text>\n</g>\n<!-- 1 -->\n<g id=\"node2\" class=\"node\">\n<title>1</title>\n<path fill=\"#efb489\" stroke=\"#000000\" d=\"M325.5,-550.5C325.5,-550.5 208.5,-550.5 208.5,-550.5 202.5,-550.5 196.5,-544.5 196.5,-538.5 196.5,-538.5 196.5,-479.5 196.5,-479.5 196.5,-473.5 202.5,-467.5 208.5,-467.5 208.5,-467.5 325.5,-467.5 325.5,-467.5 331.5,-467.5 337.5,-473.5 337.5,-479.5 337.5,-479.5 337.5,-538.5 337.5,-538.5 337.5,-544.5 331.5,-550.5 325.5,-550.5\"/>\n<text text-anchor=\"middle\" x=\"267\" y=\"-535.3\" font-family=\"Helvetica,sans-Serif\" font-size=\"14.00\" fill=\"#000000\">moca_orient &lt;= 5.5</text>\n<text text-anchor=\"middle\" x=\"267\" y=\"-520.3\" font-family=\"Helvetica,sans-Serif\" font-size=\"14.00\" fill=\"#000000\">gini = 0.409</text>\n<text text-anchor=\"middle\" x=\"267\" y=\"-505.3\" font-family=\"Helvetica,sans-Serif\" font-size=\"14.00\" fill=\"#000000\">samples = 425</text>\n<text text-anchor=\"middle\" x=\"267\" y=\"-490.3\" font-family=\"Helvetica,sans-Serif\" font-size=\"14.00\" fill=\"#000000\">value = [303, 122]</text>\n<text text-anchor=\"middle\" x=\"267\" y=\"-475.3\" font-family=\"Helvetica,sans-Serif\" font-size=\"14.00\" fill=\"#000000\">class = Normal</text>\n</g>\n<!-- 0&#45;&gt;1 -->\n<g id=\"edge1\" class=\"edge\">\n<title>0&#45;&gt;1</title>\n<path fill=\"none\" stroke=\"#000000\" d=\"M154.0064,-453.0979C164.9359,-458.5051 176.1953,-464.0756 187.1769,-469.5086\"/>\n<polygon fill=\"#000000\" stroke=\"#000000\" points=\"185.8076,-472.736 196.3228,-474.0334 188.9117,-466.4619 185.8076,-472.736\"/>\n<text text-anchor=\"middle\" x=\"172.6392\" y=\"-478.3391\" font-family=\"Helvetica,sans-Serif\" font-size=\"14.00\" fill=\"#000000\">True</text>\n</g>\n<!-- 20 -->\n<g id=\"node13\" class=\"node\">\n<title>20</title>\n<path fill=\"#5eafea\" stroke=\"#000000\" d=\"M332,-359.5C332,-359.5 202,-359.5 202,-359.5 196,-359.5 190,-353.5 190,-347.5 190,-347.5 190,-288.5 190,-288.5 190,-282.5 196,-276.5 202,-276.5 202,-276.5 332,-276.5 332,-276.5 338,-276.5 344,-282.5 344,-288.5 344,-288.5 344,-347.5 344,-347.5 344,-353.5 338,-359.5 332,-359.5\"/>\n<text text-anchor=\"middle\" x=\"267\" y=\"-344.3\" font-family=\"Helvetica,sans-Serif\" font-size=\"14.00\" fill=\"#000000\">q_memory_cg &lt;= 1.5</text>\n<text text-anchor=\"middle\" x=\"267\" y=\"-329.3\" font-family=\"Helvetica,sans-Serif\" font-size=\"14.00\" fill=\"#000000\">gini = 0.266</text>\n<text text-anchor=\"middle\" x=\"267\" y=\"-314.3\" font-family=\"Helvetica,sans-Serif\" font-size=\"14.00\" fill=\"#000000\">samples = 742</text>\n<text text-anchor=\"middle\" x=\"267\" y=\"-299.3\" font-family=\"Helvetica,sans-Serif\" font-size=\"14.00\" fill=\"#000000\">value = [117, 625]</text>\n<text text-anchor=\"middle\" x=\"267\" y=\"-284.3\" font-family=\"Helvetica,sans-Serif\" font-size=\"14.00\" fill=\"#000000\">class = Impaired</text>\n</g>\n<!-- 0&#45;&gt;20 -->\n<g id=\"edge12\" class=\"edge\">\n<title>0&#45;&gt;20</title>\n<path fill=\"none\" stroke=\"#000000\" d=\"M154.0064,-375.6862C162.8786,-371.1567 171.9681,-366.5163 180.95,-361.9308\"/>\n<polygon fill=\"#000000\" stroke=\"#000000\" points=\"182.569,-365.0341 189.884,-357.3698 179.386,-358.7995 182.569,-365.0341\"/>\n<text text-anchor=\"middle\" x=\"166.1014\" y=\"-345.9632\" font-family=\"Helvetica,sans-Serif\" font-size=\"14.00\" fill=\"#000000\">False</text>\n</g>\n<!-- 2 -->\n<g id=\"node3\" class=\"node\">\n<title>2</title>\n<path fill=\"#8fc8f0\" stroke=\"#000000\" d=\"M532,-695.5C532,-695.5 392,-695.5 392,-695.5 386,-695.5 380,-689.5 380,-683.5 380,-683.5 380,-624.5 380,-624.5 380,-618.5 386,-612.5 392,-612.5 392,-612.5 532,-612.5 532,-612.5 538,-612.5 544,-618.5 544,-624.5 544,-624.5 544,-683.5 544,-683.5 544,-689.5 538,-695.5 532,-695.5\"/>\n<text text-anchor=\"middle\" x=\"462\" y=\"-680.3\" font-family=\"Helvetica,sans-Serif\" font-size=\"14.00\" fill=\"#000000\">q_outsideact_pt &lt;= 1.5</text>\n<text text-anchor=\"middle\" x=\"462\" y=\"-665.3\" font-family=\"Helvetica,sans-Serif\" font-size=\"14.00\" fill=\"#000000\">gini = 0.422</text>\n<text text-anchor=\"middle\" x=\"462\" y=\"-650.3\" font-family=\"Helvetica,sans-Serif\" font-size=\"14.00\" fill=\"#000000\">samples = 33</text>\n<text text-anchor=\"middle\" x=\"462\" y=\"-635.3\" font-family=\"Helvetica,sans-Serif\" font-size=\"14.00\" fill=\"#000000\">value = [10, 23]</text>\n<text text-anchor=\"middle\" x=\"462\" y=\"-620.3\" font-family=\"Helvetica,sans-Serif\" font-size=\"14.00\" fill=\"#000000\">class = Impaired</text>\n</g>\n<!-- 1&#45;&gt;2 -->\n<g id=\"edge2\" class=\"edge\">\n<title>1&#45;&gt;2</title>\n<path fill=\"none\" stroke=\"#000000\" d=\"M322.8792,-550.5512C346.3374,-567.9945 373.7528,-588.3803 398.0156,-606.4218\"/>\n<polygon fill=\"#000000\" stroke=\"#000000\" points=\"395.9995,-609.2843 406.1127,-612.4428 400.1765,-603.6671 395.9995,-609.2843\"/>\n</g>\n<!-- 13 -->\n<g id=\"node8\" class=\"node\">\n<title>13</title>\n<path fill=\"#eeac7c\" stroke=\"#000000\" d=\"M531,-550.5C531,-550.5 393,-550.5 393,-550.5 387,-550.5 381,-544.5 381,-538.5 381,-538.5 381,-479.5 381,-479.5 381,-473.5 387,-467.5 393,-467.5 393,-467.5 531,-467.5 531,-467.5 537,-467.5 543,-473.5 543,-479.5 543,-479.5 543,-538.5 543,-538.5 543,-544.5 537,-550.5 531,-550.5\"/>\n<text text-anchor=\"middle\" x=\"462\" y=\"-535.3\" font-family=\"Helvetica,sans-Serif\" font-size=\"14.00\" fill=\"#000000\">q_language_cg &lt;= 0.5</text>\n<text text-anchor=\"middle\" x=\"462\" y=\"-520.3\" font-family=\"Helvetica,sans-Serif\" font-size=\"14.00\" fill=\"#000000\">gini = 0.378</text>\n<text text-anchor=\"middle\" x=\"462\" y=\"-505.3\" font-family=\"Helvetica,sans-Serif\" font-size=\"14.00\" fill=\"#000000\">samples = 392</text>\n<text text-anchor=\"middle\" x=\"462\" y=\"-490.3\" font-family=\"Helvetica,sans-Serif\" font-size=\"14.00\" fill=\"#000000\">value = [293, 99]</text>\n<text text-anchor=\"middle\" x=\"462\" y=\"-475.3\" font-family=\"Helvetica,sans-Serif\" font-size=\"14.00\" fill=\"#000000\">class = Normal</text>\n</g>\n<!-- 1&#45;&gt;13 -->\n<g id=\"edge7\" class=\"edge\">\n<title>1&#45;&gt;13</title>\n<path fill=\"none\" stroke=\"#000000\" d=\"M337.6752,-509C348.4402,-509 359.6783,-509 370.8063,-509\"/>\n<polygon fill=\"#000000\" stroke=\"#000000\" points=\"370.9784,-512.5001 380.9783,-509 370.9783,-505.5001 370.9784,-512.5001\"/>\n</g>\n<!-- 3 -->\n<g id=\"node4\" class=\"node\">\n<title>3</title>\n<path fill=\"#9ccef2\" stroke=\"#000000\" d=\"M731,-789.5C731,-789.5 593,-789.5 593,-789.5 587,-789.5 581,-783.5 581,-777.5 581,-777.5 581,-718.5 581,-718.5 581,-712.5 587,-706.5 593,-706.5 593,-706.5 731,-706.5 731,-706.5 737,-706.5 743,-712.5 743,-718.5 743,-718.5 743,-777.5 743,-777.5 743,-783.5 737,-789.5 731,-789.5\"/>\n<text text-anchor=\"middle\" x=\"662\" y=\"-774.3\" font-family=\"Helvetica,sans-Serif\" font-size=\"14.00\" fill=\"#000000\">q_language_cg &lt;= 0.5</text>\n<text text-anchor=\"middle\" x=\"662\" y=\"-759.3\" font-family=\"Helvetica,sans-Serif\" font-size=\"14.00\" fill=\"#000000\">gini = 0.444</text>\n<text text-anchor=\"middle\" x=\"662\" y=\"-744.3\" font-family=\"Helvetica,sans-Serif\" font-size=\"14.00\" fill=\"#000000\">samples = 30</text>\n<text text-anchor=\"middle\" x=\"662\" y=\"-729.3\" font-family=\"Helvetica,sans-Serif\" font-size=\"14.00\" fill=\"#000000\">value = [10, 20]</text>\n<text text-anchor=\"middle\" x=\"662\" y=\"-714.3\" font-family=\"Helvetica,sans-Serif\" font-size=\"14.00\" fill=\"#000000\">class = Impaired</text>\n</g>\n<!-- 2&#45;&gt;3 -->\n<g id=\"edge3\" class=\"edge\">\n<title>2&#45;&gt;3</title>\n<path fill=\"none\" stroke=\"#000000\" d=\"M544.2135,-692.6403C553.2636,-696.8939 562.5146,-701.2418 571.6569,-705.5387\"/>\n<polygon fill=\"#000000\" stroke=\"#000000\" points=\"570.2124,-708.7271 580.7515,-709.8132 573.19,-702.3919 570.2124,-708.7271\"/>\n</g>\n<!-- 12 -->\n<g id=\"node7\" class=\"node\">\n<title>12</title>\n<path fill=\"#399de5\" stroke=\"#000000\" d=\"M711,-688C711,-688 613,-688 613,-688 607,-688 601,-682 601,-676 601,-676 601,-632 601,-632 601,-626 607,-620 613,-620 613,-620 711,-620 711,-620 717,-620 723,-626 723,-632 723,-632 723,-676 723,-676 723,-682 717,-688 711,-688\"/>\n<text text-anchor=\"middle\" x=\"662\" y=\"-672.8\" font-family=\"Helvetica,sans-Serif\" font-size=\"14.00\" fill=\"#000000\">gini = 0.0</text>\n<text text-anchor=\"middle\" x=\"662\" y=\"-657.8\" font-family=\"Helvetica,sans-Serif\" font-size=\"14.00\" fill=\"#000000\">samples = 3</text>\n<text text-anchor=\"middle\" x=\"662\" y=\"-642.8\" font-family=\"Helvetica,sans-Serif\" font-size=\"14.00\" fill=\"#000000\">value = [0, 3]</text>\n<text text-anchor=\"middle\" x=\"662\" y=\"-627.8\" font-family=\"Helvetica,sans-Serif\" font-size=\"14.00\" fill=\"#000000\">class = Impaired</text>\n</g>\n<!-- 2&#45;&gt;12 -->\n<g id=\"edge6\" class=\"edge\">\n<title>2&#45;&gt;12</title>\n<path fill=\"none\" stroke=\"#000000\" d=\"M544.2135,-654C559.6202,-654 575.609,-654 590.6529,-654\"/>\n<polygon fill=\"#000000\" stroke=\"#000000\" points=\"590.8982,-657.5001 600.8982,-654 590.8981,-650.5001 590.8982,-657.5001\"/>\n</g>\n<!-- 4 -->\n<g id=\"node5\" class=\"node\">\n<title>4</title>\n<path fill=\"#c0c0c0\" stroke=\"#000000\" d=\"M822,-793C822,-793 792,-793 792,-793 786,-793 780,-787 780,-781 780,-781 780,-769 780,-769 780,-763 786,-757 792,-757 792,-757 822,-757 822,-757 828,-757 834,-763 834,-769 834,-769 834,-781 834,-781 834,-787 828,-793 822,-793\"/>\n<text text-anchor=\"middle\" x=\"807\" y=\"-771.3\" font-family=\"Helvetica,sans-Serif\" font-size=\"14.00\" fill=\"#000000\">(...)</text>\n</g>\n<!-- 3&#45;&gt;4 -->\n<g id=\"edge4\" class=\"edge\">\n<title>3&#45;&gt;4</title>\n<path fill=\"none\" stroke=\"#000000\" d=\"M743.4009,-763.1574C752.6606,-764.8816 761.7236,-766.5692 769.9734,-768.1054\"/>\n<polygon fill=\"#000000\" stroke=\"#000000\" points=\"769.4701,-771.5718 779.9418,-769.9616 770.7515,-764.69 769.4701,-771.5718\"/>\n</g>\n<!-- 9 -->\n<g id=\"node6\" class=\"node\">\n<title>9</title>\n<path fill=\"#c0c0c0\" stroke=\"#000000\" d=\"M822,-739C822,-739 792,-739 792,-739 786,-739 780,-733 780,-727 780,-727 780,-715 780,-715 780,-709 786,-703 792,-703 792,-703 822,-703 822,-703 828,-703 834,-709 834,-715 834,-715 834,-727 834,-727 834,-733 828,-739 822,-739\"/>\n<text text-anchor=\"middle\" x=\"807\" y=\"-717.3\" font-family=\"Helvetica,sans-Serif\" font-size=\"14.00\" fill=\"#000000\">(...)</text>\n</g>\n<!-- 3&#45;&gt;9 -->\n<g id=\"edge5\" class=\"edge\">\n<title>3&#45;&gt;9</title>\n<path fill=\"none\" stroke=\"#000000\" d=\"M743.4009,-732.8426C752.6606,-731.1184 761.7236,-729.4308 769.9734,-727.8946\"/>\n<polygon fill=\"#000000\" stroke=\"#000000\" points=\"770.7515,-731.31 779.9418,-726.0384 769.4701,-724.4282 770.7515,-731.31\"/>\n</g>\n<!-- 14 -->\n<g id=\"node9\" class=\"node\">\n<title>14</title>\n<path fill=\"#eda978\" stroke=\"#000000\" d=\"M732,-601.5C732,-601.5 592,-601.5 592,-601.5 586,-601.5 580,-595.5 580,-589.5 580,-589.5 580,-530.5 580,-530.5 580,-524.5 586,-518.5 592,-518.5 592,-518.5 732,-518.5 732,-518.5 738,-518.5 744,-524.5 744,-530.5 744,-530.5 744,-589.5 744,-589.5 744,-595.5 738,-601.5 732,-601.5\"/>\n<text text-anchor=\"middle\" x=\"662\" y=\"-586.3\" font-family=\"Helvetica,sans-Serif\" font-size=\"14.00\" fill=\"#000000\">q_outsideact_pt &lt;= 1.5</text>\n<text text-anchor=\"middle\" x=\"662\" y=\"-571.3\" font-family=\"Helvetica,sans-Serif\" font-size=\"14.00\" fill=\"#000000\">gini = 0.366</text>\n<text text-anchor=\"middle\" x=\"662\" y=\"-556.3\" font-family=\"Helvetica,sans-Serif\" font-size=\"14.00\" fill=\"#000000\">samples = 385</text>\n<text text-anchor=\"middle\" x=\"662\" y=\"-541.3\" font-family=\"Helvetica,sans-Serif\" font-size=\"14.00\" fill=\"#000000\">value = [292, 93]</text>\n<text text-anchor=\"middle\" x=\"662\" y=\"-526.3\" font-family=\"Helvetica,sans-Serif\" font-size=\"14.00\" fill=\"#000000\">class = Normal</text>\n</g>\n<!-- 13&#45;&gt;14 -->\n<g id=\"edge8\" class=\"edge\">\n<title>13&#45;&gt;14</title>\n<path fill=\"none\" stroke=\"#000000\" d=\"M543.0593,-529.6701C551.9654,-531.9412 561.0795,-534.2653 570.1049,-536.5668\"/>\n<polygon fill=\"#000000\" stroke=\"#000000\" points=\"569.2949,-539.9721 579.8497,-539.0517 571.0246,-533.1892 569.2949,-539.9721\"/>\n</g>\n<!-- 19 -->\n<g id=\"node12\" class=\"node\">\n<title>19</title>\n<path fill=\"#5aade9\" stroke=\"#000000\" d=\"M711,-500C711,-500 613,-500 613,-500 607,-500 601,-494 601,-488 601,-488 601,-444 601,-444 601,-438 607,-432 613,-432 613,-432 711,-432 711,-432 717,-432 723,-438 723,-444 723,-444 723,-488 723,-488 723,-494 717,-500 711,-500\"/>\n<text text-anchor=\"middle\" x=\"662\" y=\"-484.8\" font-family=\"Helvetica,sans-Serif\" font-size=\"14.00\" fill=\"#000000\">gini = 0.245</text>\n<text text-anchor=\"middle\" x=\"662\" y=\"-469.8\" font-family=\"Helvetica,sans-Serif\" font-size=\"14.00\" fill=\"#000000\">samples = 7</text>\n<text text-anchor=\"middle\" x=\"662\" y=\"-454.8\" font-family=\"Helvetica,sans-Serif\" font-size=\"14.00\" fill=\"#000000\">value = [1, 6]</text>\n<text text-anchor=\"middle\" x=\"662\" y=\"-439.8\" font-family=\"Helvetica,sans-Serif\" font-size=\"14.00\" fill=\"#000000\">class = Impaired</text>\n</g>\n<!-- 13&#45;&gt;19 -->\n<g id=\"edge11\" class=\"edge\">\n<title>13&#45;&gt;19</title>\n<path fill=\"none\" stroke=\"#000000\" d=\"M543.0593,-491.5722C558.8699,-488.173 575.3362,-484.6327 590.7983,-481.3084\"/>\n<polygon fill=\"#000000\" stroke=\"#000000\" points=\"591.7562,-484.6825 600.7971,-479.1586 590.2848,-477.8389 591.7562,-484.6825\"/>\n</g>\n<!-- 15 -->\n<g id=\"node10\" class=\"node\">\n<title>15</title>\n<path fill=\"#c0c0c0\" stroke=\"#000000\" d=\"M822,-605C822,-605 792,-605 792,-605 786,-605 780,-599 780,-593 780,-593 780,-581 780,-581 780,-575 786,-569 792,-569 792,-569 822,-569 822,-569 828,-569 834,-575 834,-581 834,-581 834,-593 834,-593 834,-599 828,-605 822,-605\"/>\n<text text-anchor=\"middle\" x=\"807\" y=\"-583.3\" font-family=\"Helvetica,sans-Serif\" font-size=\"14.00\" fill=\"#000000\">(...)</text>\n</g>\n<!-- 14&#45;&gt;15 -->\n<g id=\"edge9\" class=\"edge\">\n<title>14&#45;&gt;15</title>\n<path fill=\"none\" stroke=\"#000000\" d=\"M744.2442,-575.3144C753.133,-576.9696 761.8228,-578.5877 769.766,-580.0668\"/>\n<polygon fill=\"#000000\" stroke=\"#000000\" points=\"769.2602,-583.5327 779.7319,-581.9225 770.5417,-576.651 769.2602,-583.5327\"/>\n</g>\n<!-- 18 -->\n<g id=\"node11\" class=\"node\">\n<title>18</title>\n<path fill=\"#c0c0c0\" stroke=\"#000000\" d=\"M822,-551C822,-551 792,-551 792,-551 786,-551 780,-545 780,-539 780,-539 780,-527 780,-527 780,-521 786,-515 792,-515 792,-515 822,-515 822,-515 828,-515 834,-521 834,-527 834,-527 834,-539 834,-539 834,-545 828,-551 822,-551\"/>\n<text text-anchor=\"middle\" x=\"807\" y=\"-529.3\" font-family=\"Helvetica,sans-Serif\" font-size=\"14.00\" fill=\"#000000\">(...)</text>\n</g>\n<!-- 14&#45;&gt;18 -->\n<g id=\"edge10\" class=\"edge\">\n<title>14&#45;&gt;18</title>\n<path fill=\"none\" stroke=\"#000000\" d=\"M744.2442,-544.6856C753.133,-543.0304 761.8228,-541.4123 769.766,-539.9332\"/>\n<polygon fill=\"#000000\" stroke=\"#000000\" points=\"770.5417,-543.349 779.7319,-538.0775 769.2602,-536.4673 770.5417,-543.349\"/>\n</g>\n<!-- 21 -->\n<g id=\"node14\" class=\"node\">\n<title>21</title>\n<path fill=\"#83c2ef\" stroke=\"#000000\" d=\"M532,-359.5C532,-359.5 392,-359.5 392,-359.5 386,-359.5 380,-353.5 380,-347.5 380,-347.5 380,-288.5 380,-288.5 380,-282.5 386,-276.5 392,-276.5 392,-276.5 532,-276.5 532,-276.5 538,-276.5 544,-282.5 544,-288.5 544,-288.5 544,-347.5 544,-347.5 544,-353.5 538,-359.5 532,-359.5\"/>\n<text text-anchor=\"middle\" x=\"462\" y=\"-344.3\" font-family=\"Helvetica,sans-Serif\" font-size=\"14.00\" fill=\"#000000\">q_outsideact_pt &lt;= 0.5</text>\n<text text-anchor=\"middle\" x=\"462\" y=\"-329.3\" font-family=\"Helvetica,sans-Serif\" font-size=\"14.00\" fill=\"#000000\">gini = 0.397</text>\n<text text-anchor=\"middle\" x=\"462\" y=\"-314.3\" font-family=\"Helvetica,sans-Serif\" font-size=\"14.00\" fill=\"#000000\">samples = 370</text>\n<text text-anchor=\"middle\" x=\"462\" y=\"-299.3\" font-family=\"Helvetica,sans-Serif\" font-size=\"14.00\" fill=\"#000000\">value = [101, 269]</text>\n<text text-anchor=\"middle\" x=\"462\" y=\"-284.3\" font-family=\"Helvetica,sans-Serif\" font-size=\"14.00\" fill=\"#000000\">class = Impaired</text>\n</g>\n<!-- 20&#45;&gt;21 -->\n<g id=\"edge13\" class=\"edge\">\n<title>20&#45;&gt;21</title>\n<path fill=\"none\" stroke=\"#000000\" d=\"M344.0692,-318C352.4859,-318 361.1153,-318 369.691,-318\"/>\n<polygon fill=\"#000000\" stroke=\"#000000\" points=\"369.7176,-321.5001 379.7175,-318 369.7175,-314.5001 369.7176,-321.5001\"/>\n</g>\n<!-- 50 -->\n<g id=\"node21\" class=\"node\">\n<title>50</title>\n<path fill=\"#42a1e6\" stroke=\"#000000\" d=\"M520.5,-211.5C520.5,-211.5 403.5,-211.5 403.5,-211.5 397.5,-211.5 391.5,-205.5 391.5,-199.5 391.5,-199.5 391.5,-140.5 391.5,-140.5 391.5,-134.5 397.5,-128.5 403.5,-128.5 403.5,-128.5 520.5,-128.5 520.5,-128.5 526.5,-128.5 532.5,-134.5 532.5,-140.5 532.5,-140.5 532.5,-199.5 532.5,-199.5 532.5,-205.5 526.5,-211.5 520.5,-211.5\"/>\n<text text-anchor=\"middle\" x=\"462\" y=\"-196.3\" font-family=\"Helvetica,sans-Serif\" font-size=\"14.00\" fill=\"#000000\">moca_orient &lt;= 5.5</text>\n<text text-anchor=\"middle\" x=\"462\" y=\"-181.3\" font-family=\"Helvetica,sans-Serif\" font-size=\"14.00\" fill=\"#000000\">gini = 0.082</text>\n<text text-anchor=\"middle\" x=\"462\" y=\"-166.3\" font-family=\"Helvetica,sans-Serif\" font-size=\"14.00\" fill=\"#000000\">samples = 372</text>\n<text text-anchor=\"middle\" x=\"462\" y=\"-151.3\" font-family=\"Helvetica,sans-Serif\" font-size=\"14.00\" fill=\"#000000\">value = [16, 356]</text>\n<text text-anchor=\"middle\" x=\"462\" y=\"-136.3\" font-family=\"Helvetica,sans-Serif\" font-size=\"14.00\" fill=\"#000000\">class = Impaired</text>\n</g>\n<!-- 20&#45;&gt;50 -->\n<g id=\"edge20\" class=\"edge\">\n<title>20&#45;&gt;50</title>\n<path fill=\"none\" stroke=\"#000000\" d=\"M321.8373,-276.3799C345.8236,-258.1749 374.1009,-236.7132 398.9516,-217.8521\"/>\n<polygon fill=\"#000000\" stroke=\"#000000\" points=\"401.3872,-220.3975 407.2368,-211.5639 397.1552,-214.8216 401.3872,-220.3975\"/>\n</g>\n<!-- 22 -->\n<g id=\"node15\" class=\"node\">\n<title>22</title>\n<path fill=\"#9acdf2\" stroke=\"#000000\" d=\"M731,-413.5C731,-413.5 593,-413.5 593,-413.5 587,-413.5 581,-407.5 581,-401.5 581,-401.5 581,-342.5 581,-342.5 581,-336.5 587,-330.5 593,-330.5 593,-330.5 731,-330.5 731,-330.5 737,-330.5 743,-336.5 743,-342.5 743,-342.5 743,-401.5 743,-401.5 743,-407.5 737,-413.5 731,-413.5\"/>\n<text text-anchor=\"middle\" x=\"662\" y=\"-398.3\" font-family=\"Helvetica,sans-Serif\" font-size=\"14.00\" fill=\"#000000\">q_language_cg &lt;= 0.5</text>\n<text text-anchor=\"middle\" x=\"662\" y=\"-383.3\" font-family=\"Helvetica,sans-Serif\" font-size=\"14.00\" fill=\"#000000\">gini = 0.442</text>\n<text text-anchor=\"middle\" x=\"662\" y=\"-368.3\" font-family=\"Helvetica,sans-Serif\" font-size=\"14.00\" fill=\"#000000\">samples = 285</text>\n<text text-anchor=\"middle\" x=\"662\" y=\"-353.3\" font-family=\"Helvetica,sans-Serif\" font-size=\"14.00\" fill=\"#000000\">value = [94, 191]</text>\n<text text-anchor=\"middle\" x=\"662\" y=\"-338.3\" font-family=\"Helvetica,sans-Serif\" font-size=\"14.00\" fill=\"#000000\">class = Impaired</text>\n</g>\n<!-- 21&#45;&gt;22 -->\n<g id=\"edge14\" class=\"edge\">\n<title>21&#45;&gt;22</title>\n<path fill=\"none\" stroke=\"#000000\" d=\"M544.2135,-340.1976C553.0751,-342.5903 562.1292,-345.0349 571.0853,-347.453\"/>\n<polygon fill=\"#000000\" stroke=\"#000000\" points=\"570.1848,-350.8352 580.7515,-350.0629 572.0095,-344.0772 570.1848,-350.8352\"/>\n</g>\n<!-- 37 -->\n<g id=\"node18\" class=\"node\">\n<title>37</title>\n<path fill=\"#4ba6e7\" stroke=\"#000000\" d=\"M732,-312.5C732,-312.5 592,-312.5 592,-312.5 586,-312.5 580,-306.5 580,-300.5 580,-300.5 580,-241.5 580,-241.5 580,-235.5 586,-229.5 592,-229.5 592,-229.5 732,-229.5 732,-229.5 738,-229.5 744,-235.5 744,-241.5 744,-241.5 744,-300.5 744,-300.5 744,-306.5 738,-312.5 732,-312.5\"/>\n<text text-anchor=\"middle\" x=\"662\" y=\"-297.3\" font-family=\"Helvetica,sans-Serif\" font-size=\"14.00\" fill=\"#000000\">q_outsideact_pt &lt;= 1.5</text>\n<text text-anchor=\"middle\" x=\"662\" y=\"-282.3\" font-family=\"Helvetica,sans-Serif\" font-size=\"14.00\" fill=\"#000000\">gini = 0.151</text>\n<text text-anchor=\"middle\" x=\"662\" y=\"-267.3\" font-family=\"Helvetica,sans-Serif\" font-size=\"14.00\" fill=\"#000000\">samples = 85</text>\n<text text-anchor=\"middle\" x=\"662\" y=\"-252.3\" font-family=\"Helvetica,sans-Serif\" font-size=\"14.00\" fill=\"#000000\">value = [7, 78]</text>\n<text text-anchor=\"middle\" x=\"662\" y=\"-237.3\" font-family=\"Helvetica,sans-Serif\" font-size=\"14.00\" fill=\"#000000\">class = Impaired</text>\n</g>\n<!-- 21&#45;&gt;37 -->\n<g id=\"edge17\" class=\"edge\">\n<title>21&#45;&gt;37</title>\n<path fill=\"none\" stroke=\"#000000\" d=\"M544.2135,-298.6798C552.6542,-296.6963 561.2696,-294.6716 569.8087,-292.665\"/>\n<polygon fill=\"#000000\" stroke=\"#000000\" points=\"570.8485,-296.016 579.7826,-290.3211 569.2471,-289.2017 570.8485,-296.016\"/>\n</g>\n<!-- 23 -->\n<g id=\"node16\" class=\"node\">\n<title>23</title>\n<path fill=\"#c0c0c0\" stroke=\"#000000\" d=\"M822,-442C822,-442 792,-442 792,-442 786,-442 780,-436 780,-430 780,-430 780,-418 780,-418 780,-412 786,-406 792,-406 792,-406 822,-406 822,-406 828,-406 834,-412 834,-418 834,-418 834,-430 834,-430 834,-436 828,-442 822,-442\"/>\n<text text-anchor=\"middle\" x=\"807\" y=\"-420.3\" font-family=\"Helvetica,sans-Serif\" font-size=\"14.00\" fill=\"#000000\">(...)</text>\n</g>\n<!-- 22&#45;&gt;23 -->\n<g id=\"edge15\" class=\"edge\">\n<title>22&#45;&gt;23</title>\n<path fill=\"none\" stroke=\"#000000\" d=\"M743.4009,-401.192C752.8663,-404.5866 762.1263,-407.9074 770.5222,-410.9183\"/>\n<polygon fill=\"#000000\" stroke=\"#000000\" points=\"769.3473,-414.2152 779.9418,-414.2964 771.7103,-407.6261 769.3473,-414.2152\"/>\n</g>\n<!-- 28 -->\n<g id=\"node17\" class=\"node\">\n<title>28</title>\n<path fill=\"#c0c0c0\" stroke=\"#000000\" d=\"M822,-388C822,-388 792,-388 792,-388 786,-388 780,-382 780,-376 780,-376 780,-364 780,-364 780,-358 786,-352 792,-352 792,-352 822,-352 822,-352 828,-352 834,-358 834,-364 834,-364 834,-376 834,-376 834,-382 828,-388 822,-388\"/>\n<text text-anchor=\"middle\" x=\"807\" y=\"-366.3\" font-family=\"Helvetica,sans-Serif\" font-size=\"14.00\" fill=\"#000000\">(...)</text>\n</g>\n<!-- 22&#45;&gt;28 -->\n<g id=\"edge16\" class=\"edge\">\n<title>22&#45;&gt;28</title>\n<path fill=\"none\" stroke=\"#000000\" d=\"M743.4009,-370.8772C752.5577,-370.7509 761.5222,-370.6273 769.6981,-370.5145\"/>\n<polygon fill=\"#000000\" stroke=\"#000000\" points=\"769.9911,-374.0109 779.9418,-370.3732 769.8945,-367.0116 769.9911,-374.0109\"/>\n</g>\n<!-- 38 -->\n<g id=\"node19\" class=\"node\">\n<title>38</title>\n<path fill=\"#c0c0c0\" stroke=\"#000000\" d=\"M822,-330C822,-330 792,-330 792,-330 786,-330 780,-324 780,-318 780,-318 780,-306 780,-306 780,-300 786,-294 792,-294 792,-294 822,-294 822,-294 828,-294 834,-300 834,-306 834,-306 834,-318 834,-318 834,-324 828,-330 822,-330\"/>\n<text text-anchor=\"middle\" x=\"807\" y=\"-308.3\" font-family=\"Helvetica,sans-Serif\" font-size=\"14.00\" fill=\"#000000\">(...)</text>\n</g>\n<!-- 37&#45;&gt;38 -->\n<g id=\"edge18\" class=\"edge\">\n<title>37&#45;&gt;38</title>\n<path fill=\"none\" stroke=\"#000000\" d=\"M744.2442,-294.2553C753.2329,-296.7969 762.0181,-299.281 770.0335,-301.5474\"/>\n<polygon fill=\"#000000\" stroke=\"#000000\" points=\"769.1569,-304.9367 779.7319,-304.2897 771.0616,-298.2008 769.1569,-304.9367\"/>\n</g>\n<!-- 49 -->\n<g id=\"node20\" class=\"node\">\n<title>49</title>\n<path fill=\"#c0c0c0\" stroke=\"#000000\" d=\"M822,-276C822,-276 792,-276 792,-276 786,-276 780,-270 780,-264 780,-264 780,-252 780,-252 780,-246 786,-240 792,-240 792,-240 822,-240 822,-240 828,-240 834,-246 834,-252 834,-252 834,-264 834,-264 834,-270 828,-276 822,-276\"/>\n<text text-anchor=\"middle\" x=\"807\" y=\"-254.3\" font-family=\"Helvetica,sans-Serif\" font-size=\"14.00\" fill=\"#000000\">(...)</text>\n</g>\n<!-- 37&#45;&gt;49 -->\n<g id=\"edge19\" class=\"edge\">\n<title>37&#45;&gt;49</title>\n<path fill=\"none\" stroke=\"#000000\" d=\"M744.2442,-263.6264C753.133,-262.8295 761.8228,-262.0504 769.766,-261.3382\"/>\n<polygon fill=\"#000000\" stroke=\"#000000\" points=\"770.0845,-264.8238 779.7319,-260.4447 769.4593,-257.8518 770.0845,-264.8238\"/>\n</g>\n<!-- 51 -->\n<g id=\"node22\" class=\"node\">\n<title>51</title>\n<path fill=\"#3b9ee5\" stroke=\"#000000\" d=\"M720.5,-211.5C720.5,-211.5 603.5,-211.5 603.5,-211.5 597.5,-211.5 591.5,-205.5 591.5,-199.5 591.5,-199.5 591.5,-140.5 591.5,-140.5 591.5,-134.5 597.5,-128.5 603.5,-128.5 603.5,-128.5 720.5,-128.5 720.5,-128.5 726.5,-128.5 732.5,-134.5 732.5,-140.5 732.5,-140.5 732.5,-199.5 732.5,-199.5 732.5,-205.5 726.5,-211.5 720.5,-211.5\"/>\n<text text-anchor=\"middle\" x=\"662\" y=\"-196.3\" font-family=\"Helvetica,sans-Serif\" font-size=\"14.00\" fill=\"#000000\">moca_orient &lt;= 4.5</text>\n<text text-anchor=\"middle\" x=\"662\" y=\"-181.3\" font-family=\"Helvetica,sans-Serif\" font-size=\"14.00\" fill=\"#000000\">gini = 0.019</text>\n<text text-anchor=\"middle\" x=\"662\" y=\"-166.3\" font-family=\"Helvetica,sans-Serif\" font-size=\"14.00\" fill=\"#000000\">samples = 214</text>\n<text text-anchor=\"middle\" x=\"662\" y=\"-151.3\" font-family=\"Helvetica,sans-Serif\" font-size=\"14.00\" fill=\"#000000\">value = [2, 212]</text>\n<text text-anchor=\"middle\" x=\"662\" y=\"-136.3\" font-family=\"Helvetica,sans-Serif\" font-size=\"14.00\" fill=\"#000000\">class = Impaired</text>\n</g>\n<!-- 50&#45;&gt;51 -->\n<g id=\"edge21\" class=\"edge\">\n<title>50&#45;&gt;51</title>\n<path fill=\"none\" stroke=\"#000000\" d=\"M532.5125,-170C548.1959,-170 564.9419,-170 581.0083,-170\"/>\n<polygon fill=\"#000000\" stroke=\"#000000\" points=\"581.4501,-173.5001 591.4501,-170 581.4501,-166.5001 581.4501,-173.5001\"/>\n</g>\n<!-- 62 -->\n<g id=\"node25\" class=\"node\">\n<title>62</title>\n<path fill=\"#4ca7e8\" stroke=\"#000000\" d=\"M731,-110.5C731,-110.5 593,-110.5 593,-110.5 587,-110.5 581,-104.5 581,-98.5 581,-98.5 581,-39.5 581,-39.5 581,-33.5 587,-27.5 593,-27.5 593,-27.5 731,-27.5 731,-27.5 737,-27.5 743,-33.5 743,-39.5 743,-39.5 743,-98.5 743,-98.5 743,-104.5 737,-110.5 731,-110.5\"/>\n<text text-anchor=\"middle\" x=\"662\" y=\"-95.3\" font-family=\"Helvetica,sans-Serif\" font-size=\"14.00\" fill=\"#000000\">q_language_cg &lt;= 1.5</text>\n<text text-anchor=\"middle\" x=\"662\" y=\"-80.3\" font-family=\"Helvetica,sans-Serif\" font-size=\"14.00\" fill=\"#000000\">gini = 0.162</text>\n<text text-anchor=\"middle\" x=\"662\" y=\"-65.3\" font-family=\"Helvetica,sans-Serif\" font-size=\"14.00\" fill=\"#000000\">samples = 158</text>\n<text text-anchor=\"middle\" x=\"662\" y=\"-50.3\" font-family=\"Helvetica,sans-Serif\" font-size=\"14.00\" fill=\"#000000\">value = [14, 144]</text>\n<text text-anchor=\"middle\" x=\"662\" y=\"-35.3\" font-family=\"Helvetica,sans-Serif\" font-size=\"14.00\" fill=\"#000000\">class = Impaired</text>\n</g>\n<!-- 50&#45;&gt;62 -->\n<g id=\"edge24\" class=\"edge\">\n<title>50&#45;&gt;62</title>\n<path fill=\"none\" stroke=\"#000000\" d=\"M532.5125,-134.3912C545.2138,-127.977 558.6122,-121.2109 571.782,-114.5601\"/>\n<polygon fill=\"#000000\" stroke=\"#000000\" points=\"573.5031,-117.612 580.8517,-109.9799 570.3476,-111.3635 573.5031,-117.612\"/>\n</g>\n<!-- 52 -->\n<g id=\"node23\" class=\"node\">\n<title>52</title>\n<path fill=\"#c0c0c0\" stroke=\"#000000\" d=\"M822,-214C822,-214 792,-214 792,-214 786,-214 780,-208 780,-202 780,-202 780,-190 780,-190 780,-184 786,-178 792,-178 792,-178 822,-178 822,-178 828,-178 834,-184 834,-190 834,-190 834,-202 834,-202 834,-208 828,-214 822,-214\"/>\n<text text-anchor=\"middle\" x=\"807\" y=\"-192.3\" font-family=\"Helvetica,sans-Serif\" font-size=\"14.00\" fill=\"#000000\">(...)</text>\n</g>\n<!-- 51&#45;&gt;52 -->\n<g id=\"edge22\" class=\"edge\">\n<title>51&#45;&gt;52</title>\n<path fill=\"none\" stroke=\"#000000\" d=\"M732.8009,-182.6953C745.5703,-184.985 758.41,-187.2873 769.7343,-189.3179\"/>\n<polygon fill=\"#000000\" stroke=\"#000000\" points=\"769.2019,-192.7782 779.6627,-191.0981 770.4375,-185.8881 769.2019,-192.7782\"/>\n</g>\n<!-- 53 -->\n<g id=\"node24\" class=\"node\">\n<title>53</title>\n<path fill=\"#c0c0c0\" stroke=\"#000000\" d=\"M822,-160C822,-160 792,-160 792,-160 786,-160 780,-154 780,-148 780,-148 780,-136 780,-136 780,-130 786,-124 792,-124 792,-124 822,-124 822,-124 828,-124 834,-130 834,-136 834,-136 834,-148 834,-148 834,-154 828,-160 822,-160\"/>\n<text text-anchor=\"middle\" x=\"807\" y=\"-138.3\" font-family=\"Helvetica,sans-Serif\" font-size=\"14.00\" fill=\"#000000\">(...)</text>\n</g>\n<!-- 51&#45;&gt;53 -->\n<g id=\"edge23\" class=\"edge\">\n<title>51&#45;&gt;53</title>\n<path fill=\"none\" stroke=\"#000000\" d=\"M732.8009,-156.3281C745.5703,-153.8623 758.41,-151.3829 769.7343,-149.1961\"/>\n<polygon fill=\"#000000\" stroke=\"#000000\" points=\"770.5077,-152.6115 779.6627,-147.2789 769.1805,-145.7385 770.5077,-152.6115\"/>\n</g>\n<!-- 63 -->\n<g id=\"node26\" class=\"node\">\n<title>63</title>\n<path fill=\"#c0c0c0\" stroke=\"#000000\" d=\"M822,-90C822,-90 792,-90 792,-90 786,-90 780,-84 780,-78 780,-78 780,-66 780,-66 780,-60 786,-54 792,-54 792,-54 822,-54 822,-54 828,-54 834,-60 834,-66 834,-66 834,-78 834,-78 834,-84 828,-90 822,-90\"/>\n<text text-anchor=\"middle\" x=\"807\" y=\"-68.3\" font-family=\"Helvetica,sans-Serif\" font-size=\"14.00\" fill=\"#000000\">(...)</text>\n</g>\n<!-- 62&#45;&gt;63 -->\n<g id=\"edge25\" class=\"edge\">\n<title>62&#45;&gt;63</title>\n<path fill=\"none\" stroke=\"#000000\" d=\"M743.4009,-70.6842C752.5577,-70.8736 761.5222,-71.0591 769.6981,-71.2282\"/>\n<polygon fill=\"#000000\" stroke=\"#000000\" points=\"769.8715,-74.7325 779.9418,-71.4402 770.0164,-67.734 769.8715,-74.7325\"/>\n</g>\n<!-- 78 -->\n<g id=\"node27\" class=\"node\">\n<title>78</title>\n<path fill=\"#c0c0c0\" stroke=\"#000000\" d=\"M822,-36C822,-36 792,-36 792,-36 786,-36 780,-30 780,-24 780,-24 780,-12 780,-12 780,-6 786,0 792,0 792,0 822,0 822,0 828,0 834,-6 834,-12 834,-12 834,-24 834,-24 834,-30 828,-36 822,-36\"/>\n<text text-anchor=\"middle\" x=\"807\" y=\"-14.3\" font-family=\"Helvetica,sans-Serif\" font-size=\"14.00\" fill=\"#000000\">(...)</text>\n</g>\n<!-- 62&#45;&gt;78 -->\n<g id=\"edge26\" class=\"edge\">\n<title>62&#45;&gt;78</title>\n<path fill=\"none\" stroke=\"#000000\" d=\"M743.4009,-40.3693C752.7635,-37.0763 761.925,-33.854 770.2481,-30.9265\"/>\n<polygon fill=\"#000000\" stroke=\"#000000\" points=\"771.6696,-34.1368 779.9418,-27.517 769.347,-27.5333 771.6696,-34.1368\"/>\n</g>\n</g>\n</svg>\n"
          },
          "metadata": {
            "tags": []
          },
          "execution_count": 339
        }
      ]
    },
    {
      "cell_type": "markdown",
      "metadata": {
        "colab_type": "text",
        "id": "6jId-s_FsyS4"
      },
      "source": [
        "## Row X: ['q_memory_cg', 'q_language_cg',  'moca_orient', 'q_memory_pt, q_judgement_pt', 'q_outsideact_pt']"
      ]
    },
    {
      "cell_type": "code",
      "metadata": {
        "id": "-TrmPxD4tE2s",
        "colab_type": "code",
        "colab": {}
      },
      "source": [
        "features = ['q_memory_cg', 'q_language_cg', 'q_memory_pt', 'moca_orient', 'q_judgmt_pt','q_outsideact_pt']"
      ],
      "execution_count": 0,
      "outputs": []
    },
    {
      "cell_type": "code",
      "metadata": {
        "colab_type": "code",
        "outputId": "de8f86d4-f7db-49ff-ad60-a3911bea58bc",
        "id": "jW3bWQYWsyS6",
        "colab": {
          "base_uri": "https://localhost:8080/",
          "height": 308
        }
      },
      "source": [
        "X_train = adni_X.loc[:,features]\n",
        "X_test = clinic_X.loc[:,features]\n",
        "\n",
        "clf = RandomForestClassifier(n_estimators=500, max_features=.5, \n",
        "                            min_samples_leaf=1, bootstrap=True, random_state=0)\n",
        "clf.fit(X_train, adni_y.values.ravel())\n",
        "y_pred = clf.predict(X_test)\n",
        "print('AUC: ', roc_auc_score(clinic_y, y_pred))\n",
        "print('\\n')\n",
        "print(classification_report(clinic_y, y_pred, digits=3))\n",
        "print('\\n')\n",
        "print(confusion_matrix(clinic_y, y_pred))"
      ],
      "execution_count": 0,
      "outputs": [
        {
          "output_type": "stream",
          "text": [
            "AUC:  0.7975056179775282\n",
            "\n",
            "\n",
            "              precision    recall  f1-score   support\n",
            "\n",
            "         0.0      0.673     0.904     0.771       125\n",
            "         1.0      0.911     0.691     0.786       178\n",
            "\n",
            "    accuracy                          0.779       303\n",
            "   macro avg      0.792     0.798     0.779       303\n",
            "weighted avg      0.813     0.779     0.780       303\n",
            "\n",
            "\n",
            "\n",
            "[[113  12]\n",
            " [ 55 123]]\n"
          ],
          "name": "stdout"
        }
      ]
    },
    {
      "cell_type": "code",
      "metadata": {
        "colab_type": "code",
        "outputId": "49d19622-bc02-4312-dec8-8602826b6c38",
        "id": "jH2YhAPxsyS9",
        "colab": {
          "base_uri": "https://localhost:8080/",
          "height": 295
        }
      },
      "source": [
        "adni_proba = clf.predict_proba(X_test)\n",
        "roc = skplt.metrics.plot_roc(clinic_y, adni_proba)\n",
        "# fig = roc.get_figure()\n",
        "# fig.savefig(f'{dir}/Figures/roc_eff_row0_3', dpi=300)"
      ],
      "execution_count": 0,
      "outputs": [
        {
          "output_type": "display_data",
          "data": {
            "image/png": "[encoded data removed]",
            "text/plain": [
              "<Figure size 432x288 with 1 Axes>"
            ]
          },
          "metadata": {
            "tags": []
          }
        }
      ]
    },
    {
      "cell_type": "code",
      "metadata": {
        "colab_type": "code",
        "outputId": "bbbae035-8c94-41dc-f118-98ed2172e44c",
        "id": "AXjq2m8_syS_",
        "colab": {
          "base_uri": "https://localhost:8080/",
          "height": 308
        }
      },
      "source": [
        "clf = MLPClassifier(hidden_layer_sizes=(105,60,15), activation='relu', \n",
        "                      solver='adam', alpha=.0001, learning_rate_init=.0005, \n",
        "                      max_iter=5000, random_state=0)\n",
        "clf.fit(X_train, adni_y.values.ravel())\n",
        "y_pred = clf.predict(X_test)\n",
        "print('AUC: ', roc_auc_score(clinic_y, y_pred))\n",
        "print('\\n')\n",
        "print(classification_report(clinic_y, y_pred, digits=3))\n",
        "print('\\n')\n",
        "print(confusion_matrix(clinic_y, y_pred))"
      ],
      "execution_count": 0,
      "outputs": [
        {
          "output_type": "stream",
          "text": [
            "AUC:  0.8464494382022472\n",
            "\n",
            "\n",
            "              precision    recall  f1-score   support\n",
            "\n",
            "         0.0      0.745     0.912     0.820       125\n",
            "         1.0      0.927     0.781     0.848       178\n",
            "\n",
            "    accuracy                          0.835       303\n",
            "   macro avg      0.836     0.846     0.834       303\n",
            "weighted avg      0.852     0.835     0.836       303\n",
            "\n",
            "\n",
            "\n",
            "[[114  11]\n",
            " [ 39 139]]\n"
          ],
          "name": "stdout"
        }
      ]
    },
    {
      "cell_type": "code",
      "metadata": {
        "colab_type": "code",
        "outputId": "5bd4f245-9074-4fa8-d3ba-01ecc4f40a49",
        "id": "PL3nC6H_syTC",
        "colab": {
          "base_uri": "https://localhost:8080/",
          "height": 1000
        }
      },
      "source": [
        "from sklearn.tree import DecisionTreeClassifier\n",
        "\n",
        "clf = DecisionTreeClassifier(random_state=0)\n",
        "clf.fit(X_train, adni_y)\n",
        "\n",
        "import graphviz\n",
        "from sklearn.tree import export_graphviz\n",
        "\n",
        "dot = export_graphviz(clf, out_file=None,\n",
        "                     feature_names=features,\n",
        "                     class_names=['Normal','Impaired'],\n",
        "                     filled=True, rounded=True,\n",
        "                     rotate=True, max_depth=3)\n",
        "\n",
        "graph = graphviz.Source(dot)\n",
        "graph.render(filename='eff_tree_row5_5.gv', directory=f'{dir}/Output/', format='pdf')\n",
        "graph"
      ],
      "execution_count": 0,
      "outputs": [
        {
          "output_type": "execute_result",
          "data": {
            "text/plain": [
              "<graphviz.files.Source at 0x7f976c3f8dd8>"
            ],
            "image/svg+xml": "<?xml version=\"1.0\" encoding=\"UTF-8\" standalone=\"no\"?>\n<!DOCTYPE svg PUBLIC \"-//W3C//DTD SVG 1.1//EN\"\n \"http://www.w3.org/Graphics/SVG/1.1/DTD/svg11.dtd\">\n<!-- Generated by graphviz version 2.40.1 (20161225.0304)\n -->\n<!-- Title: Tree Pages: 1 -->\n<svg width=\"842pt\" height=\"817pt\"\n viewBox=\"0.00 0.00 842.00 817.00\" xmlns=\"http://www.w3.org/2000/svg\" xmlns:xlink=\"http://www.w3.org/1999/xlink\">\n<g id=\"graph0\" class=\"graph\" transform=\"scale(1 1) rotate(0) translate(4 813)\">\n<title>Tree</title>\n<polygon fill=\"#ffffff\" stroke=\"transparent\" points=\"-4,4 -4,-813 838,-813 838,4 -4,4\"/>\n<!-- 0 -->\n<g id=\"node1\" class=\"node\">\n<title>0</title>\n<path fill=\"#a8d4f4\" stroke=\"#000000\" d=\"M142,-465.5C142,-465.5 12,-465.5 12,-465.5 6,-465.5 0,-459.5 0,-453.5 0,-453.5 0,-394.5 0,-394.5 0,-388.5 6,-382.5 12,-382.5 12,-382.5 142,-382.5 142,-382.5 148,-382.5 154,-388.5 154,-394.5 154,-394.5 154,-453.5 154,-453.5 154,-459.5 148,-465.5 142,-465.5\"/>\n<text text-anchor=\"middle\" x=\"77\" y=\"-450.3\" font-family=\"Helvetica,sans-Serif\" font-size=\"14.00\" fill=\"#000000\">q_memory_cg &lt;= 0.5</text>\n<text text-anchor=\"middle\" x=\"77\" y=\"-435.3\" font-family=\"Helvetica,sans-Serif\" font-size=\"14.00\" fill=\"#000000\">gini = 0.461</text>\n<text text-anchor=\"middle\" x=\"77\" y=\"-420.3\" font-family=\"Helvetica,sans-Serif\" font-size=\"14.00\" fill=\"#000000\">samples = 1167</text>\n<text text-anchor=\"middle\" x=\"77\" y=\"-405.3\" font-family=\"Helvetica,sans-Serif\" font-size=\"14.00\" fill=\"#000000\">value = [420, 747]</text>\n<text text-anchor=\"middle\" x=\"77\" y=\"-390.3\" font-family=\"Helvetica,sans-Serif\" font-size=\"14.00\" fill=\"#000000\">class = Impaired</text>\n</g>\n<!-- 1 -->\n<g id=\"node2\" class=\"node\">\n<title>1</title>\n<path fill=\"#efb489\" stroke=\"#000000\" d=\"M325.5,-563.5C325.5,-563.5 208.5,-563.5 208.5,-563.5 202.5,-563.5 196.5,-557.5 196.5,-551.5 196.5,-551.5 196.5,-492.5 196.5,-492.5 196.5,-486.5 202.5,-480.5 208.5,-480.5 208.5,-480.5 325.5,-480.5 325.5,-480.5 331.5,-480.5 337.5,-486.5 337.5,-492.5 337.5,-492.5 337.5,-551.5 337.5,-551.5 337.5,-557.5 331.5,-563.5 325.5,-563.5\"/>\n<text text-anchor=\"middle\" x=\"267\" y=\"-548.3\" font-family=\"Helvetica,sans-Serif\" font-size=\"14.00\" fill=\"#000000\">moca_orient &lt;= 5.5</text>\n<text text-anchor=\"middle\" x=\"267\" y=\"-533.3\" font-family=\"Helvetica,sans-Serif\" font-size=\"14.00\" fill=\"#000000\">gini = 0.409</text>\n<text text-anchor=\"middle\" x=\"267\" y=\"-518.3\" font-family=\"Helvetica,sans-Serif\" font-size=\"14.00\" fill=\"#000000\">samples = 425</text>\n<text text-anchor=\"middle\" x=\"267\" y=\"-503.3\" font-family=\"Helvetica,sans-Serif\" font-size=\"14.00\" fill=\"#000000\">value = [303, 122]</text>\n<text text-anchor=\"middle\" x=\"267\" y=\"-488.3\" font-family=\"Helvetica,sans-Serif\" font-size=\"14.00\" fill=\"#000000\">class = Normal</text>\n</g>\n<!-- 0&#45;&gt;1 -->\n<g id=\"edge1\" class=\"edge\">\n<title>0&#45;&gt;1</title>\n<path fill=\"none\" stroke=\"#000000\" d=\"M154.0064,-463.7191C164.9359,-469.3564 176.1953,-475.1639 187.1769,-480.8281\"/>\n<polygon fill=\"#000000\" stroke=\"#000000\" points=\"185.8309,-484.0719 196.3228,-485.5454 189.0397,-477.8507 185.8309,-484.0719\"/>\n<text text-anchor=\"middle\" x=\"172.5083\" y=\"-489.4528\" font-family=\"Helvetica,sans-Serif\" font-size=\"14.00\" fill=\"#000000\">True</text>\n</g>\n<!-- 28 -->\n<g id=\"node15\" class=\"node\">\n<title>28</title>\n<path fill=\"#5eafea\" stroke=\"#000000\" d=\"M332,-364.5C332,-364.5 202,-364.5 202,-364.5 196,-364.5 190,-358.5 190,-352.5 190,-352.5 190,-293.5 190,-293.5 190,-287.5 196,-281.5 202,-281.5 202,-281.5 332,-281.5 332,-281.5 338,-281.5 344,-287.5 344,-293.5 344,-293.5 344,-352.5 344,-352.5 344,-358.5 338,-364.5 332,-364.5\"/>\n<text text-anchor=\"middle\" x=\"267\" y=\"-349.3\" font-family=\"Helvetica,sans-Serif\" font-size=\"14.00\" fill=\"#000000\">q_memory_cg &lt;= 1.5</text>\n<text text-anchor=\"middle\" x=\"267\" y=\"-334.3\" font-family=\"Helvetica,sans-Serif\" font-size=\"14.00\" fill=\"#000000\">gini = 0.266</text>\n<text text-anchor=\"middle\" x=\"267\" y=\"-319.3\" font-family=\"Helvetica,sans-Serif\" font-size=\"14.00\" fill=\"#000000\">samples = 742</text>\n<text text-anchor=\"middle\" x=\"267\" y=\"-304.3\" font-family=\"Helvetica,sans-Serif\" font-size=\"14.00\" fill=\"#000000\">value = [117, 625]</text>\n<text text-anchor=\"middle\" x=\"267\" y=\"-289.3\" font-family=\"Helvetica,sans-Serif\" font-size=\"14.00\" fill=\"#000000\">class = Impaired</text>\n</g>\n<!-- 0&#45;&gt;28 -->\n<g id=\"edge14\" class=\"edge\">\n<title>0&#45;&gt;28</title>\n<path fill=\"none\" stroke=\"#000000\" d=\"M154.0064,-383.065C162.8786,-378.3488 171.9681,-373.5169 180.95,-368.7424\"/>\n<polygon fill=\"#000000\" stroke=\"#000000\" points=\"182.6969,-371.7776 189.884,-363.9933 179.4112,-365.5966 182.6969,-371.7776\"/>\n<text text-anchor=\"middle\" x=\"165.9771\" y=\"-352.9815\" font-family=\"Helvetica,sans-Serif\" font-size=\"14.00\" fill=\"#000000\">False</text>\n</g>\n<!-- 2 -->\n<g id=\"node3\" class=\"node\">\n<title>2</title>\n<path fill=\"#8fc8f0\" stroke=\"#000000\" d=\"M532,-711.5C532,-711.5 392,-711.5 392,-711.5 386,-711.5 380,-705.5 380,-699.5 380,-699.5 380,-640.5 380,-640.5 380,-634.5 386,-628.5 392,-628.5 392,-628.5 532,-628.5 532,-628.5 538,-628.5 544,-634.5 544,-640.5 544,-640.5 544,-699.5 544,-699.5 544,-705.5 538,-711.5 532,-711.5\"/>\n<text text-anchor=\"middle\" x=\"462\" y=\"-696.3\" font-family=\"Helvetica,sans-Serif\" font-size=\"14.00\" fill=\"#000000\">q_outsideact_pt &lt;= 1.5</text>\n<text text-anchor=\"middle\" x=\"462\" y=\"-681.3\" font-family=\"Helvetica,sans-Serif\" font-size=\"14.00\" fill=\"#000000\">gini = 0.422</text>\n<text text-anchor=\"middle\" x=\"462\" y=\"-666.3\" font-family=\"Helvetica,sans-Serif\" font-size=\"14.00\" fill=\"#000000\">samples = 33</text>\n<text text-anchor=\"middle\" x=\"462\" y=\"-651.3\" font-family=\"Helvetica,sans-Serif\" font-size=\"14.00\" fill=\"#000000\">value = [10, 23]</text>\n<text text-anchor=\"middle\" x=\"462\" y=\"-636.3\" font-family=\"Helvetica,sans-Serif\" font-size=\"14.00\" fill=\"#000000\">class = Impaired</text>\n</g>\n<!-- 1&#45;&gt;2 -->\n<g id=\"edge2\" class=\"edge\">\n<title>1&#45;&gt;2</title>\n<path fill=\"none\" stroke=\"#000000\" d=\"M321.8373,-563.6201C345.8236,-581.8251 374.1009,-603.2868 398.9516,-622.1479\"/>\n<polygon fill=\"#000000\" stroke=\"#000000\" points=\"397.1552,-625.1784 407.2368,-628.4361 401.3872,-619.6025 397.1552,-625.1784\"/>\n</g>\n<!-- 15 -->\n<g id=\"node8\" class=\"node\">\n<title>15</title>\n<path fill=\"#eeac7c\" stroke=\"#000000\" d=\"M531,-563.5C531,-563.5 393,-563.5 393,-563.5 387,-563.5 381,-557.5 381,-551.5 381,-551.5 381,-492.5 381,-492.5 381,-486.5 387,-480.5 393,-480.5 393,-480.5 531,-480.5 531,-480.5 537,-480.5 543,-486.5 543,-492.5 543,-492.5 543,-551.5 543,-551.5 543,-557.5 537,-563.5 531,-563.5\"/>\n<text text-anchor=\"middle\" x=\"462\" y=\"-548.3\" font-family=\"Helvetica,sans-Serif\" font-size=\"14.00\" fill=\"#000000\">q_language_cg &lt;= 0.5</text>\n<text text-anchor=\"middle\" x=\"462\" y=\"-533.3\" font-family=\"Helvetica,sans-Serif\" font-size=\"14.00\" fill=\"#000000\">gini = 0.378</text>\n<text text-anchor=\"middle\" x=\"462\" y=\"-518.3\" font-family=\"Helvetica,sans-Serif\" font-size=\"14.00\" fill=\"#000000\">samples = 392</text>\n<text text-anchor=\"middle\" x=\"462\" y=\"-503.3\" font-family=\"Helvetica,sans-Serif\" font-size=\"14.00\" fill=\"#000000\">value = [293, 99]</text>\n<text text-anchor=\"middle\" x=\"462\" y=\"-488.3\" font-family=\"Helvetica,sans-Serif\" font-size=\"14.00\" fill=\"#000000\">class = Normal</text>\n</g>\n<!-- 1&#45;&gt;15 -->\n<g id=\"edge7\" class=\"edge\">\n<title>1&#45;&gt;15</title>\n<path fill=\"none\" stroke=\"#000000\" d=\"M337.6752,-522C348.4402,-522 359.6783,-522 370.8063,-522\"/>\n<polygon fill=\"#000000\" stroke=\"#000000\" points=\"370.9784,-525.5001 380.9783,-522 370.9783,-518.5001 370.9784,-525.5001\"/>\n</g>\n<!-- 3 -->\n<g id=\"node4\" class=\"node\">\n<title>3</title>\n<path fill=\"#9ccef2\" stroke=\"#000000\" d=\"M731,-805.5C731,-805.5 593,-805.5 593,-805.5 587,-805.5 581,-799.5 581,-793.5 581,-793.5 581,-734.5 581,-734.5 581,-728.5 587,-722.5 593,-722.5 593,-722.5 731,-722.5 731,-722.5 737,-722.5 743,-728.5 743,-734.5 743,-734.5 743,-793.5 743,-793.5 743,-799.5 737,-805.5 731,-805.5\"/>\n<text text-anchor=\"middle\" x=\"662\" y=\"-790.3\" font-family=\"Helvetica,sans-Serif\" font-size=\"14.00\" fill=\"#000000\">q_language_cg &lt;= 0.5</text>\n<text text-anchor=\"middle\" x=\"662\" y=\"-775.3\" font-family=\"Helvetica,sans-Serif\" font-size=\"14.00\" fill=\"#000000\">gini = 0.444</text>\n<text text-anchor=\"middle\" x=\"662\" y=\"-760.3\" font-family=\"Helvetica,sans-Serif\" font-size=\"14.00\" fill=\"#000000\">samples = 30</text>\n<text text-anchor=\"middle\" x=\"662\" y=\"-745.3\" font-family=\"Helvetica,sans-Serif\" font-size=\"14.00\" fill=\"#000000\">value = [10, 20]</text>\n<text text-anchor=\"middle\" x=\"662\" y=\"-730.3\" font-family=\"Helvetica,sans-Serif\" font-size=\"14.00\" fill=\"#000000\">class = Impaired</text>\n</g>\n<!-- 2&#45;&gt;3 -->\n<g id=\"edge3\" class=\"edge\">\n<title>2&#45;&gt;3</title>\n<path fill=\"none\" stroke=\"#000000\" d=\"M544.2135,-708.6403C553.2636,-712.8939 562.5146,-717.2418 571.6569,-721.5387\"/>\n<polygon fill=\"#000000\" stroke=\"#000000\" points=\"570.2124,-724.7271 580.7515,-725.8132 573.19,-718.3919 570.2124,-724.7271\"/>\n</g>\n<!-- 14 -->\n<g id=\"node7\" class=\"node\">\n<title>14</title>\n<path fill=\"#399de5\" stroke=\"#000000\" d=\"M711,-704C711,-704 613,-704 613,-704 607,-704 601,-698 601,-692 601,-692 601,-648 601,-648 601,-642 607,-636 613,-636 613,-636 711,-636 711,-636 717,-636 723,-642 723,-648 723,-648 723,-692 723,-692 723,-698 717,-704 711,-704\"/>\n<text text-anchor=\"middle\" x=\"662\" y=\"-688.8\" font-family=\"Helvetica,sans-Serif\" font-size=\"14.00\" fill=\"#000000\">gini = 0.0</text>\n<text text-anchor=\"middle\" x=\"662\" y=\"-673.8\" font-family=\"Helvetica,sans-Serif\" font-size=\"14.00\" fill=\"#000000\">samples = 3</text>\n<text text-anchor=\"middle\" x=\"662\" y=\"-658.8\" font-family=\"Helvetica,sans-Serif\" font-size=\"14.00\" fill=\"#000000\">value = [0, 3]</text>\n<text text-anchor=\"middle\" x=\"662\" y=\"-643.8\" font-family=\"Helvetica,sans-Serif\" font-size=\"14.00\" fill=\"#000000\">class = Impaired</text>\n</g>\n<!-- 2&#45;&gt;14 -->\n<g id=\"edge6\" class=\"edge\">\n<title>2&#45;&gt;14</title>\n<path fill=\"none\" stroke=\"#000000\" d=\"M544.2135,-670C559.6202,-670 575.609,-670 590.6529,-670\"/>\n<polygon fill=\"#000000\" stroke=\"#000000\" points=\"590.8982,-673.5001 600.8982,-670 590.8981,-666.5001 590.8982,-673.5001\"/>\n</g>\n<!-- 4 -->\n<g id=\"node5\" class=\"node\">\n<title>4</title>\n<path fill=\"#c0c0c0\" stroke=\"#000000\" d=\"M822,-809C822,-809 792,-809 792,-809 786,-809 780,-803 780,-797 780,-797 780,-785 780,-785 780,-779 786,-773 792,-773 792,-773 822,-773 822,-773 828,-773 834,-779 834,-785 834,-785 834,-797 834,-797 834,-803 828,-809 822,-809\"/>\n<text text-anchor=\"middle\" x=\"807\" y=\"-787.3\" font-family=\"Helvetica,sans-Serif\" font-size=\"14.00\" fill=\"#000000\">(...)</text>\n</g>\n<!-- 3&#45;&gt;4 -->\n<g id=\"edge4\" class=\"edge\">\n<title>3&#45;&gt;4</title>\n<path fill=\"none\" stroke=\"#000000\" d=\"M743.4009,-779.1574C752.6606,-780.8816 761.7236,-782.5692 769.9734,-784.1054\"/>\n<polygon fill=\"#000000\" stroke=\"#000000\" points=\"769.4701,-787.5718 779.9418,-785.9616 770.7515,-780.69 769.4701,-787.5718\"/>\n</g>\n<!-- 11 -->\n<g id=\"node6\" class=\"node\">\n<title>11</title>\n<path fill=\"#c0c0c0\" stroke=\"#000000\" d=\"M822,-755C822,-755 792,-755 792,-755 786,-755 780,-749 780,-743 780,-743 780,-731 780,-731 780,-725 786,-719 792,-719 792,-719 822,-719 822,-719 828,-719 834,-725 834,-731 834,-731 834,-743 834,-743 834,-749 828,-755 822,-755\"/>\n<text text-anchor=\"middle\" x=\"807\" y=\"-733.3\" font-family=\"Helvetica,sans-Serif\" font-size=\"14.00\" fill=\"#000000\">(...)</text>\n</g>\n<!-- 3&#45;&gt;11 -->\n<g id=\"edge5\" class=\"edge\">\n<title>3&#45;&gt;11</title>\n<path fill=\"none\" stroke=\"#000000\" d=\"M743.4009,-748.8426C752.6606,-747.1184 761.7236,-745.4308 769.9734,-743.8946\"/>\n<polygon fill=\"#000000\" stroke=\"#000000\" points=\"770.7515,-747.31 779.9418,-742.0384 769.4701,-740.4282 770.7515,-747.31\"/>\n</g>\n<!-- 16 -->\n<g id=\"node9\" class=\"node\">\n<title>16</title>\n<path fill=\"#eda978\" stroke=\"#000000\" d=\"M732,-617.5C732,-617.5 592,-617.5 592,-617.5 586,-617.5 580,-611.5 580,-605.5 580,-605.5 580,-546.5 580,-546.5 580,-540.5 586,-534.5 592,-534.5 592,-534.5 732,-534.5 732,-534.5 738,-534.5 744,-540.5 744,-546.5 744,-546.5 744,-605.5 744,-605.5 744,-611.5 738,-617.5 732,-617.5\"/>\n<text text-anchor=\"middle\" x=\"662\" y=\"-602.3\" font-family=\"Helvetica,sans-Serif\" font-size=\"14.00\" fill=\"#000000\">q_outsideact_pt &lt;= 1.5</text>\n<text text-anchor=\"middle\" x=\"662\" y=\"-587.3\" font-family=\"Helvetica,sans-Serif\" font-size=\"14.00\" fill=\"#000000\">gini = 0.366</text>\n<text text-anchor=\"middle\" x=\"662\" y=\"-572.3\" font-family=\"Helvetica,sans-Serif\" font-size=\"14.00\" fill=\"#000000\">samples = 385</text>\n<text text-anchor=\"middle\" x=\"662\" y=\"-557.3\" font-family=\"Helvetica,sans-Serif\" font-size=\"14.00\" fill=\"#000000\">value = [292, 93]</text>\n<text text-anchor=\"middle\" x=\"662\" y=\"-542.3\" font-family=\"Helvetica,sans-Serif\" font-size=\"14.00\" fill=\"#000000\">class = Normal</text>\n</g>\n<!-- 15&#45;&gt;16 -->\n<g id=\"edge8\" class=\"edge\">\n<title>15&#45;&gt;16</title>\n<path fill=\"none\" stroke=\"#000000\" d=\"M543.0593,-543.886C551.9654,-546.2907 561.0795,-548.7515 570.1049,-551.1883\"/>\n<polygon fill=\"#000000\" stroke=\"#000000\" points=\"569.2831,-554.5917 579.8497,-553.8194 571.1078,-547.8337 569.2831,-554.5917\"/>\n</g>\n<!-- 25 -->\n<g id=\"node12\" class=\"node\">\n<title>25</title>\n<path fill=\"#5aade9\" stroke=\"#000000\" d=\"M711,-516.5C711,-516.5 613,-516.5 613,-516.5 607,-516.5 601,-510.5 601,-504.5 601,-504.5 601,-445.5 601,-445.5 601,-439.5 607,-433.5 613,-433.5 613,-433.5 711,-433.5 711,-433.5 717,-433.5 723,-439.5 723,-445.5 723,-445.5 723,-504.5 723,-504.5 723,-510.5 717,-516.5 711,-516.5\"/>\n<text text-anchor=\"middle\" x=\"662\" y=\"-501.3\" font-family=\"Helvetica,sans-Serif\" font-size=\"14.00\" fill=\"#000000\">PTHAND &lt;= 1.5</text>\n<text text-anchor=\"middle\" x=\"662\" y=\"-486.3\" font-family=\"Helvetica,sans-Serif\" font-size=\"14.00\" fill=\"#000000\">gini = 0.245</text>\n<text text-anchor=\"middle\" x=\"662\" y=\"-471.3\" font-family=\"Helvetica,sans-Serif\" font-size=\"14.00\" fill=\"#000000\">samples = 7</text>\n<text text-anchor=\"middle\" x=\"662\" y=\"-456.3\" font-family=\"Helvetica,sans-Serif\" font-size=\"14.00\" fill=\"#000000\">value = [1, 6]</text>\n<text text-anchor=\"middle\" x=\"662\" y=\"-441.3\" font-family=\"Helvetica,sans-Serif\" font-size=\"14.00\" fill=\"#000000\">class = Impaired</text>\n</g>\n<!-- 15&#45;&gt;25 -->\n<g id=\"edge11\" class=\"edge\">\n<title>15&#45;&gt;25</title>\n<path fill=\"none\" stroke=\"#000000\" d=\"M543.0593,-502.9511C558.8699,-499.2356 575.3362,-495.366 590.7983,-491.7324\"/>\n<polygon fill=\"#000000\" stroke=\"#000000\" points=\"591.863,-495.0776 600.7971,-489.3827 590.2616,-488.2633 591.863,-495.0776\"/>\n</g>\n<!-- 17 -->\n<g id=\"node10\" class=\"node\">\n<title>17</title>\n<path fill=\"#c0c0c0\" stroke=\"#000000\" d=\"M822,-648C822,-648 792,-648 792,-648 786,-648 780,-642 780,-636 780,-636 780,-624 780,-624 780,-618 786,-612 792,-612 792,-612 822,-612 822,-612 828,-612 834,-618 834,-624 834,-624 834,-636 834,-636 834,-642 828,-648 822,-648\"/>\n<text text-anchor=\"middle\" x=\"807\" y=\"-626.3\" font-family=\"Helvetica,sans-Serif\" font-size=\"14.00\" fill=\"#000000\">(...)</text>\n</g>\n<!-- 16&#45;&gt;17 -->\n<g id=\"edge9\" class=\"edge\">\n<title>16&#45;&gt;17</title>\n<path fill=\"none\" stroke=\"#000000\" d=\"M744.2442,-606.6289C753.3328,-610.0136 762.2133,-613.3208 770.3004,-616.3325\"/>\n<polygon fill=\"#000000\" stroke=\"#000000\" points=\"769.1392,-619.6349 779.7319,-619.845 771.5822,-613.075 769.1392,-619.6349\"/>\n</g>\n<!-- 22 -->\n<g id=\"node11\" class=\"node\">\n<title>22</title>\n<path fill=\"#c0c0c0\" stroke=\"#000000\" d=\"M822,-594C822,-594 792,-594 792,-594 786,-594 780,-588 780,-582 780,-582 780,-570 780,-570 780,-564 786,-558 792,-558 792,-558 822,-558 822,-558 828,-558 834,-564 834,-570 834,-570 834,-582 834,-582 834,-588 828,-594 822,-594\"/>\n<text text-anchor=\"middle\" x=\"807\" y=\"-572.3\" font-family=\"Helvetica,sans-Serif\" font-size=\"14.00\" fill=\"#000000\">(...)</text>\n</g>\n<!-- 16&#45;&gt;22 -->\n<g id=\"edge10\" class=\"edge\">\n<title>16&#45;&gt;22</title>\n<path fill=\"none\" stroke=\"#000000\" d=\"M744.2442,-576C753.0332,-576 761.6275,-576 769.498,-576\"/>\n<polygon fill=\"#000000\" stroke=\"#000000\" points=\"769.732,-579.5001 779.7319,-576 769.7319,-572.5001 769.732,-579.5001\"/>\n</g>\n<!-- 26 -->\n<g id=\"node13\" class=\"node\">\n<title>26</title>\n<path fill=\"#c0c0c0\" stroke=\"#000000\" d=\"M822,-539C822,-539 792,-539 792,-539 786,-539 780,-533 780,-527 780,-527 780,-515 780,-515 780,-509 786,-503 792,-503 792,-503 822,-503 822,-503 828,-503 834,-509 834,-515 834,-515 834,-527 834,-527 834,-533 828,-539 822,-539\"/>\n<text text-anchor=\"middle\" x=\"807\" y=\"-517.3\" font-family=\"Helvetica,sans-Serif\" font-size=\"14.00\" fill=\"#000000\">(...)</text>\n</g>\n<!-- 25&#45;&gt;26 -->\n<g id=\"edge12\" class=\"edge\">\n<title>25&#45;&gt;26</title>\n<path fill=\"none\" stroke=\"#000000\" d=\"M723.0728,-494.3748C739.0167,-499.4329 755.7169,-504.7309 769.9838,-509.2569\"/>\n<polygon fill=\"#000000\" stroke=\"#000000\" points=\"769.3065,-512.7139 779.8967,-512.4017 771.4232,-506.0416 769.3065,-512.7139\"/>\n</g>\n<!-- 27 -->\n<g id=\"node14\" class=\"node\">\n<title>27</title>\n<path fill=\"#c0c0c0\" stroke=\"#000000\" d=\"M822,-485C822,-485 792,-485 792,-485 786,-485 780,-479 780,-473 780,-473 780,-461 780,-461 780,-455 786,-449 792,-449 792,-449 822,-449 822,-449 828,-449 834,-455 834,-461 834,-461 834,-473 834,-473 834,-479 828,-485 822,-485\"/>\n<text text-anchor=\"middle\" x=\"807\" y=\"-463.3\" font-family=\"Helvetica,sans-Serif\" font-size=\"14.00\" fill=\"#000000\">(...)</text>\n</g>\n<!-- 25&#45;&gt;27 -->\n<g id=\"edge13\" class=\"edge\">\n<title>25&#45;&gt;27</title>\n<path fill=\"none\" stroke=\"#000000\" d=\"M723.0728,-471.6305C738.8619,-470.7593 755.3927,-469.8473 769.5676,-469.0652\"/>\n<polygon fill=\"#000000\" stroke=\"#000000\" points=\"770.1047,-472.541 779.8967,-468.4954 769.719,-465.5516 770.1047,-472.541\"/>\n</g>\n<!-- 29 -->\n<g id=\"node16\" class=\"node\">\n<title>29</title>\n<path fill=\"#83c2ef\" stroke=\"#000000\" d=\"M532,-364.5C532,-364.5 392,-364.5 392,-364.5 386,-364.5 380,-358.5 380,-352.5 380,-352.5 380,-293.5 380,-293.5 380,-287.5 386,-281.5 392,-281.5 392,-281.5 532,-281.5 532,-281.5 538,-281.5 544,-287.5 544,-293.5 544,-293.5 544,-352.5 544,-352.5 544,-358.5 538,-364.5 532,-364.5\"/>\n<text text-anchor=\"middle\" x=\"462\" y=\"-349.3\" font-family=\"Helvetica,sans-Serif\" font-size=\"14.00\" fill=\"#000000\">q_outsideact_pt &lt;= 0.5</text>\n<text text-anchor=\"middle\" x=\"462\" y=\"-334.3\" font-family=\"Helvetica,sans-Serif\" font-size=\"14.00\" fill=\"#000000\">gini = 0.397</text>\n<text text-anchor=\"middle\" x=\"462\" y=\"-319.3\" font-family=\"Helvetica,sans-Serif\" font-size=\"14.00\" fill=\"#000000\">samples = 370</text>\n<text text-anchor=\"middle\" x=\"462\" y=\"-304.3\" font-family=\"Helvetica,sans-Serif\" font-size=\"14.00\" fill=\"#000000\">value = [101, 269]</text>\n<text text-anchor=\"middle\" x=\"462\" y=\"-289.3\" font-family=\"Helvetica,sans-Serif\" font-size=\"14.00\" fill=\"#000000\">class = Impaired</text>\n</g>\n<!-- 28&#45;&gt;29 -->\n<g id=\"edge15\" class=\"edge\">\n<title>28&#45;&gt;29</title>\n<path fill=\"none\" stroke=\"#000000\" d=\"M344.0692,-323C352.4859,-323 361.1153,-323 369.691,-323\"/>\n<polygon fill=\"#000000\" stroke=\"#000000\" points=\"369.7176,-326.5001 379.7175,-323 369.7175,-319.5001 369.7176,-326.5001\"/>\n</g>\n<!-- 70 -->\n<g id=\"node23\" class=\"node\">\n<title>70</title>\n<path fill=\"#42a1e6\" stroke=\"#000000\" d=\"M520.5,-213.5C520.5,-213.5 403.5,-213.5 403.5,-213.5 397.5,-213.5 391.5,-207.5 391.5,-201.5 391.5,-201.5 391.5,-142.5 391.5,-142.5 391.5,-136.5 397.5,-130.5 403.5,-130.5 403.5,-130.5 520.5,-130.5 520.5,-130.5 526.5,-130.5 532.5,-136.5 532.5,-142.5 532.5,-142.5 532.5,-201.5 532.5,-201.5 532.5,-207.5 526.5,-213.5 520.5,-213.5\"/>\n<text text-anchor=\"middle\" x=\"462\" y=\"-198.3\" font-family=\"Helvetica,sans-Serif\" font-size=\"14.00\" fill=\"#000000\">moca_orient &lt;= 5.5</text>\n<text text-anchor=\"middle\" x=\"462\" y=\"-183.3\" font-family=\"Helvetica,sans-Serif\" font-size=\"14.00\" fill=\"#000000\">gini = 0.082</text>\n<text text-anchor=\"middle\" x=\"462\" y=\"-168.3\" font-family=\"Helvetica,sans-Serif\" font-size=\"14.00\" fill=\"#000000\">samples = 372</text>\n<text text-anchor=\"middle\" x=\"462\" y=\"-153.3\" font-family=\"Helvetica,sans-Serif\" font-size=\"14.00\" fill=\"#000000\">value = [16, 356]</text>\n<text text-anchor=\"middle\" x=\"462\" y=\"-138.3\" font-family=\"Helvetica,sans-Serif\" font-size=\"14.00\" fill=\"#000000\">class = Impaired</text>\n</g>\n<!-- 28&#45;&gt;70 -->\n<g id=\"edge22\" class=\"edge\">\n<title>28&#45;&gt;70</title>\n<path fill=\"none\" stroke=\"#000000\" d=\"M320.8008,-281.3389C345.4178,-262.2765 374.7208,-239.5854 400.2349,-219.8284\"/>\n<polygon fill=\"#000000\" stroke=\"#000000\" points=\"402.6111,-222.4151 408.3748,-213.5252 398.3253,-216.8804 402.6111,-222.4151\"/>\n</g>\n<!-- 30 -->\n<g id=\"node17\" class=\"node\">\n<title>30</title>\n<path fill=\"#9acdf2\" stroke=\"#000000\" d=\"M731,-415.5C731,-415.5 593,-415.5 593,-415.5 587,-415.5 581,-409.5 581,-403.5 581,-403.5 581,-344.5 581,-344.5 581,-338.5 587,-332.5 593,-332.5 593,-332.5 731,-332.5 731,-332.5 737,-332.5 743,-338.5 743,-344.5 743,-344.5 743,-403.5 743,-403.5 743,-409.5 737,-415.5 731,-415.5\"/>\n<text text-anchor=\"middle\" x=\"662\" y=\"-400.3\" font-family=\"Helvetica,sans-Serif\" font-size=\"14.00\" fill=\"#000000\">q_language_cg &lt;= 0.5</text>\n<text text-anchor=\"middle\" x=\"662\" y=\"-385.3\" font-family=\"Helvetica,sans-Serif\" font-size=\"14.00\" fill=\"#000000\">gini = 0.442</text>\n<text text-anchor=\"middle\" x=\"662\" y=\"-370.3\" font-family=\"Helvetica,sans-Serif\" font-size=\"14.00\" fill=\"#000000\">samples = 285</text>\n<text text-anchor=\"middle\" x=\"662\" y=\"-355.3\" font-family=\"Helvetica,sans-Serif\" font-size=\"14.00\" fill=\"#000000\">value = [94, 191]</text>\n<text text-anchor=\"middle\" x=\"662\" y=\"-340.3\" font-family=\"Helvetica,sans-Serif\" font-size=\"14.00\" fill=\"#000000\">class = Impaired</text>\n</g>\n<!-- 29&#45;&gt;30 -->\n<g id=\"edge16\" class=\"edge\">\n<title>29&#45;&gt;30</title>\n<path fill=\"none\" stroke=\"#000000\" d=\"M544.2135,-343.9644C552.9808,-346.2001 561.9366,-348.4838 570.7995,-350.7439\"/>\n<polygon fill=\"#000000\" stroke=\"#000000\" points=\"570.1967,-354.2021 580.7515,-353.2816 571.9264,-347.4192 570.1967,-354.2021\"/>\n</g>\n<!-- 53 -->\n<g id=\"node20\" class=\"node\">\n<title>53</title>\n<path fill=\"#4ba6e7\" stroke=\"#000000\" d=\"M711,-314.5C711,-314.5 613,-314.5 613,-314.5 607,-314.5 601,-308.5 601,-302.5 601,-302.5 601,-243.5 601,-243.5 601,-237.5 607,-231.5 613,-231.5 613,-231.5 711,-231.5 711,-231.5 717,-231.5 723,-237.5 723,-243.5 723,-243.5 723,-302.5 723,-302.5 723,-308.5 717,-314.5 711,-314.5\"/>\n<text text-anchor=\"middle\" x=\"662\" y=\"-299.3\" font-family=\"Helvetica,sans-Serif\" font-size=\"14.00\" fill=\"#000000\">PTHAND &lt;= 1.5</text>\n<text text-anchor=\"middle\" x=\"662\" y=\"-284.3\" font-family=\"Helvetica,sans-Serif\" font-size=\"14.00\" fill=\"#000000\">gini = 0.151</text>\n<text text-anchor=\"middle\" x=\"662\" y=\"-269.3\" font-family=\"Helvetica,sans-Serif\" font-size=\"14.00\" fill=\"#000000\">samples = 85</text>\n<text text-anchor=\"middle\" x=\"662\" y=\"-254.3\" font-family=\"Helvetica,sans-Serif\" font-size=\"14.00\" fill=\"#000000\">value = [7, 78]</text>\n<text text-anchor=\"middle\" x=\"662\" y=\"-239.3\" font-family=\"Helvetica,sans-Serif\" font-size=\"14.00\" fill=\"#000000\">class = Impaired</text>\n</g>\n<!-- 29&#45;&gt;53 -->\n<g id=\"edge19\" class=\"edge\">\n<title>29&#45;&gt;53</title>\n<path fill=\"none\" stroke=\"#000000\" d=\"M544.2135,-302.4466C559.7684,-298.5579 575.9166,-294.5209 591.0866,-290.7283\"/>\n<polygon fill=\"#000000\" stroke=\"#000000\" points=\"592.0456,-294.0964 600.8982,-288.2755 590.3478,-287.3054 592.0456,-294.0964\"/>\n</g>\n<!-- 31 -->\n<g id=\"node18\" class=\"node\">\n<title>31</title>\n<path fill=\"#c0c0c0\" stroke=\"#000000\" d=\"M822,-430C822,-430 792,-430 792,-430 786,-430 780,-424 780,-418 780,-418 780,-406 780,-406 780,-400 786,-394 792,-394 792,-394 822,-394 822,-394 828,-394 834,-400 834,-406 834,-406 834,-418 834,-418 834,-424 828,-430 822,-430\"/>\n<text text-anchor=\"middle\" x=\"807\" y=\"-408.3\" font-family=\"Helvetica,sans-Serif\" font-size=\"14.00\" fill=\"#000000\">(...)</text>\n</g>\n<!-- 30&#45;&gt;31 -->\n<g id=\"edge17\" class=\"edge\">\n<title>30&#45;&gt;31</title>\n<path fill=\"none\" stroke=\"#000000\" d=\"M743.4009,-395.3326C752.7635,-397.7863 761.925,-400.1872 770.2481,-402.3685\"/>\n<polygon fill=\"#000000\" stroke=\"#000000\" points=\"769.3812,-405.7594 779.9418,-404.9089 771.1558,-398.9881 769.3812,-405.7594\"/>\n</g>\n<!-- 40 -->\n<g id=\"node19\" class=\"node\">\n<title>40</title>\n<path fill=\"#c0c0c0\" stroke=\"#000000\" d=\"M822,-376C822,-376 792,-376 792,-376 786,-376 780,-370 780,-364 780,-364 780,-352 780,-352 780,-346 786,-340 792,-340 792,-340 822,-340 822,-340 828,-340 834,-346 834,-352 834,-352 834,-364 834,-364 834,-370 828,-376 822,-376\"/>\n<text text-anchor=\"middle\" x=\"807\" y=\"-354.3\" font-family=\"Helvetica,sans-Serif\" font-size=\"14.00\" fill=\"#000000\">(...)</text>\n</g>\n<!-- 30&#45;&gt;40 -->\n<g id=\"edge18\" class=\"edge\">\n<title>30&#45;&gt;40</title>\n<path fill=\"none\" stroke=\"#000000\" d=\"M743.4009,-365.0178C752.6606,-363.9961 761.7236,-362.996 769.9734,-362.0857\"/>\n<polygon fill=\"#000000\" stroke=\"#000000\" points=\"770.3861,-365.5615 779.9418,-360.9857 769.6182,-358.6037 770.3861,-365.5615\"/>\n</g>\n<!-- 54 -->\n<g id=\"node21\" class=\"node\">\n<title>54</title>\n<path fill=\"#c0c0c0\" stroke=\"#000000\" d=\"M822,-320C822,-320 792,-320 792,-320 786,-320 780,-314 780,-308 780,-308 780,-296 780,-296 780,-290 786,-284 792,-284 792,-284 822,-284 822,-284 828,-284 834,-290 834,-296 834,-296 834,-308 834,-308 834,-314 828,-320 822,-320\"/>\n<text text-anchor=\"middle\" x=\"807\" y=\"-298.3\" font-family=\"Helvetica,sans-Serif\" font-size=\"14.00\" fill=\"#000000\">(...)</text>\n</g>\n<!-- 53&#45;&gt;54 -->\n<g id=\"edge20\" class=\"edge\">\n<title>53&#45;&gt;54</title>\n<path fill=\"none\" stroke=\"#000000\" d=\"M723.0728,-285.2146C739.0167,-288.4033 755.7169,-291.7434 769.9838,-294.5968\"/>\n<polygon fill=\"#000000\" stroke=\"#000000\" points=\"769.4045,-298.0501 779.8967,-296.5793 770.7773,-291.1861 769.4045,-298.0501\"/>\n</g>\n<!-- 63 -->\n<g id=\"node22\" class=\"node\">\n<title>63</title>\n<path fill=\"#c0c0c0\" stroke=\"#000000\" d=\"M822,-266C822,-266 792,-266 792,-266 786,-266 780,-260 780,-254 780,-254 780,-242 780,-242 780,-236 786,-230 792,-230 792,-230 822,-230 822,-230 828,-230 834,-236 834,-242 834,-242 834,-254 834,-254 834,-260 828,-266 822,-266\"/>\n<text text-anchor=\"middle\" x=\"807\" y=\"-244.3\" font-family=\"Helvetica,sans-Serif\" font-size=\"14.00\" fill=\"#000000\">(...)</text>\n</g>\n<!-- 53&#45;&gt;63 -->\n<g id=\"edge21\" class=\"edge\">\n<title>53&#45;&gt;63</title>\n<path fill=\"none\" stroke=\"#000000\" d=\"M723.0728,-262.4702C739.0167,-259.7213 755.7169,-256.8419 769.9838,-254.3821\"/>\n<polygon fill=\"#000000\" stroke=\"#000000\" points=\"770.6368,-257.8212 779.8967,-252.673 769.4474,-250.923 770.6368,-257.8212\"/>\n</g>\n<!-- 71 -->\n<g id=\"node24\" class=\"node\">\n<title>71</title>\n<path fill=\"#3b9ee5\" stroke=\"#000000\" d=\"M720.5,-213.5C720.5,-213.5 603.5,-213.5 603.5,-213.5 597.5,-213.5 591.5,-207.5 591.5,-201.5 591.5,-201.5 591.5,-142.5 591.5,-142.5 591.5,-136.5 597.5,-130.5 603.5,-130.5 603.5,-130.5 720.5,-130.5 720.5,-130.5 726.5,-130.5 732.5,-136.5 732.5,-142.5 732.5,-142.5 732.5,-201.5 732.5,-201.5 732.5,-207.5 726.5,-213.5 720.5,-213.5\"/>\n<text text-anchor=\"middle\" x=\"662\" y=\"-198.3\" font-family=\"Helvetica,sans-Serif\" font-size=\"14.00\" fill=\"#000000\">moca_orient &lt;= 4.5</text>\n<text text-anchor=\"middle\" x=\"662\" y=\"-183.3\" font-family=\"Helvetica,sans-Serif\" font-size=\"14.00\" fill=\"#000000\">gini = 0.019</text>\n<text text-anchor=\"middle\" x=\"662\" y=\"-168.3\" font-family=\"Helvetica,sans-Serif\" font-size=\"14.00\" fill=\"#000000\">samples = 214</text>\n<text text-anchor=\"middle\" x=\"662\" y=\"-153.3\" font-family=\"Helvetica,sans-Serif\" font-size=\"14.00\" fill=\"#000000\">value = [2, 212]</text>\n<text text-anchor=\"middle\" x=\"662\" y=\"-138.3\" font-family=\"Helvetica,sans-Serif\" font-size=\"14.00\" fill=\"#000000\">class = Impaired</text>\n</g>\n<!-- 70&#45;&gt;71 -->\n<g id=\"edge23\" class=\"edge\">\n<title>70&#45;&gt;71</title>\n<path fill=\"none\" stroke=\"#000000\" d=\"M532.5125,-172C548.1959,-172 564.9419,-172 581.0083,-172\"/>\n<polygon fill=\"#000000\" stroke=\"#000000\" points=\"581.4501,-175.5001 591.4501,-172 581.4501,-168.5001 581.4501,-175.5001\"/>\n</g>\n<!-- 86 -->\n<g id=\"node27\" class=\"node\">\n<title>86</title>\n<path fill=\"#4ca7e8\" stroke=\"#000000\" d=\"M731,-112.5C731,-112.5 593,-112.5 593,-112.5 587,-112.5 581,-106.5 581,-100.5 581,-100.5 581,-41.5 581,-41.5 581,-35.5 587,-29.5 593,-29.5 593,-29.5 731,-29.5 731,-29.5 737,-29.5 743,-35.5 743,-41.5 743,-41.5 743,-100.5 743,-100.5 743,-106.5 737,-112.5 731,-112.5\"/>\n<text text-anchor=\"middle\" x=\"662\" y=\"-97.3\" font-family=\"Helvetica,sans-Serif\" font-size=\"14.00\" fill=\"#000000\">q_language_cg &lt;= 1.5</text>\n<text text-anchor=\"middle\" x=\"662\" y=\"-82.3\" font-family=\"Helvetica,sans-Serif\" font-size=\"14.00\" fill=\"#000000\">gini = 0.162</text>\n<text text-anchor=\"middle\" x=\"662\" y=\"-67.3\" font-family=\"Helvetica,sans-Serif\" font-size=\"14.00\" fill=\"#000000\">samples = 158</text>\n<text text-anchor=\"middle\" x=\"662\" y=\"-52.3\" font-family=\"Helvetica,sans-Serif\" font-size=\"14.00\" fill=\"#000000\">value = [14, 144]</text>\n<text text-anchor=\"middle\" x=\"662\" y=\"-37.3\" font-family=\"Helvetica,sans-Serif\" font-size=\"14.00\" fill=\"#000000\">class = Impaired</text>\n</g>\n<!-- 70&#45;&gt;86 -->\n<g id=\"edge26\" class=\"edge\">\n<title>70&#45;&gt;86</title>\n<path fill=\"none\" stroke=\"#000000\" d=\"M532.5125,-136.3912C545.2138,-129.977 558.6122,-123.2109 571.782,-116.5601\"/>\n<polygon fill=\"#000000\" stroke=\"#000000\" points=\"573.5031,-119.612 580.8517,-111.9799 570.3476,-113.3635 573.5031,-119.612\"/>\n</g>\n<!-- 72 -->\n<g id=\"node25\" class=\"node\">\n<title>72</title>\n<path fill=\"#c0c0c0\" stroke=\"#000000\" d=\"M822,-207C822,-207 792,-207 792,-207 786,-207 780,-201 780,-195 780,-195 780,-183 780,-183 780,-177 786,-171 792,-171 792,-171 822,-171 822,-171 828,-171 834,-177 834,-183 834,-183 834,-195 834,-195 834,-201 828,-207 822,-207\"/>\n<text text-anchor=\"middle\" x=\"807\" y=\"-185.3\" font-family=\"Helvetica,sans-Serif\" font-size=\"14.00\" fill=\"#000000\">(...)</text>\n</g>\n<!-- 71&#45;&gt;72 -->\n<g id=\"edge24\" class=\"edge\">\n<title>71&#45;&gt;72</title>\n<path fill=\"none\" stroke=\"#000000\" d=\"M732.8009,-180.3008C745.44,-181.7826 758.148,-183.2725 769.3872,-184.5902\"/>\n<polygon fill=\"#000000\" stroke=\"#000000\" points=\"769.3232,-188.1066 779.6627,-185.7949 770.1383,-181.1542 769.3232,-188.1066\"/>\n</g>\n<!-- 73 -->\n<g id=\"node26\" class=\"node\">\n<title>73</title>\n<path fill=\"#c0c0c0\" stroke=\"#000000\" d=\"M822,-153C822,-153 792,-153 792,-153 786,-153 780,-147 780,-141 780,-141 780,-129 780,-129 780,-123 786,-117 792,-117 792,-117 822,-117 822,-117 828,-117 834,-123 834,-129 834,-129 834,-141 834,-141 834,-147 828,-153 822,-153\"/>\n<text text-anchor=\"middle\" x=\"807\" y=\"-131.3\" font-family=\"Helvetica,sans-Serif\" font-size=\"14.00\" fill=\"#000000\">(...)</text>\n</g>\n<!-- 71&#45;&gt;73 -->\n<g id=\"edge25\" class=\"edge\">\n<title>71&#45;&gt;73</title>\n<path fill=\"none\" stroke=\"#000000\" d=\"M732.8009,-153.9336C745.5703,-150.6752 758.41,-147.3988 769.7343,-144.5092\"/>\n<polygon fill=\"#000000\" stroke=\"#000000\" points=\"770.8386,-147.8396 779.6627,-141.9757 769.1078,-141.057 770.8386,-147.8396\"/>\n</g>\n<!-- 87 -->\n<g id=\"node28\" class=\"node\">\n<title>87</title>\n<path fill=\"#c0c0c0\" stroke=\"#000000\" d=\"M822,-90C822,-90 792,-90 792,-90 786,-90 780,-84 780,-78 780,-78 780,-66 780,-66 780,-60 786,-54 792,-54 792,-54 822,-54 822,-54 828,-54 834,-60 834,-66 834,-66 834,-78 834,-78 834,-84 828,-90 822,-90\"/>\n<text text-anchor=\"middle\" x=\"807\" y=\"-68.3\" font-family=\"Helvetica,sans-Serif\" font-size=\"14.00\" fill=\"#000000\">(...)</text>\n</g>\n<!-- 86&#45;&gt;87 -->\n<g id=\"edge27\" class=\"edge\">\n<title>86&#45;&gt;87</title>\n<path fill=\"none\" stroke=\"#000000\" d=\"M743.4009,-71.5614C752.5577,-71.6245 761.5222,-71.6864 769.6981,-71.7427\"/>\n<polygon fill=\"#000000\" stroke=\"#000000\" points=\"769.9179,-75.2442 779.9418,-71.8134 769.9662,-68.2444 769.9179,-75.2442\"/>\n</g>\n<!-- 104 -->\n<g id=\"node29\" class=\"node\">\n<title>104</title>\n<path fill=\"#c0c0c0\" stroke=\"#000000\" d=\"M822,-36C822,-36 792,-36 792,-36 786,-36 780,-30 780,-24 780,-24 780,-12 780,-12 780,-6 786,0 792,0 792,0 822,0 822,0 828,0 834,-6 834,-12 834,-12 834,-24 834,-24 834,-30 828,-36 822,-36\"/>\n<text text-anchor=\"middle\" x=\"807\" y=\"-14.3\" font-family=\"Helvetica,sans-Serif\" font-size=\"14.00\" fill=\"#000000\">(...)</text>\n</g>\n<!-- 86&#45;&gt;104 -->\n<g id=\"edge28\" class=\"edge\">\n<title>86&#45;&gt;104</title>\n<path fill=\"none\" stroke=\"#000000\" d=\"M743.4009,-41.2466C752.8663,-37.7868 762.1263,-34.4021 770.5222,-31.3333\"/>\n<polygon fill=\"#000000\" stroke=\"#000000\" points=\"771.7512,-34.6106 779.9418,-27.8902 769.348,-28.036 771.7512,-34.6106\"/>\n</g>\n</g>\n</svg>\n"
          },
          "metadata": {
            "tags": []
          },
          "execution_count": 354
        }
      ]
    },
    {
      "cell_type": "markdown",
      "metadata": {
        "id": "WMkzA6FD6zNf",
        "colab_type": "text"
      },
      "source": [
        "## Row 5: ['q_memory_cg', 'q_language_cg', 'PTHAND', 'moca_orient', 'q_outsideact_pt']"
      ]
    },
    {
      "cell_type": "code",
      "metadata": {
        "id": "mAtdJBKK619-",
        "colab_type": "code",
        "colab": {}
      },
      "source": [
        "features = df_costsum.iloc[5,3]"
      ],
      "execution_count": 0,
      "outputs": []
    },
    {
      "cell_type": "code",
      "metadata": {
        "colab_type": "code",
        "outputId": "b55e6765-d45e-407b-fc12-382e6510e112",
        "id": "3kuGBbkCEz_6",
        "colab": {
          "base_uri": "https://localhost:8080/",
          "height": 289
        }
      },
      "source": [
        "X_train = adni_X.loc[:,features]\n",
        "X_test = clinic_X.loc[:,features]\n",
        "\n",
        "clf = RandomForestClassifier(n_estimators=300, max_features=.5, \n",
        "                            min_samples_leaf=7, bootstrap=True, random_state=0)\n",
        "clf.fit(X_train, adni_y.values.ravel())\n",
        "y_pred = clf.predict(X_test)\n",
        "print('AUC: ', roc_auc_score(clinic_y, y_pred))\n",
        "print('\\n')\n",
        "print(classification_report(clinic_y, y_pred, digits=3))\n",
        "print('\\n')\n",
        "print(confusion_matrix(clinic_y, y_pred))"
      ],
      "execution_count": 0,
      "outputs": [
        {
          "output_type": "stream",
          "text": [
            "AUC:  0.8424494382022473\n",
            "\n",
            "\n",
            "              precision    recall  f1-score   support\n",
            "\n",
            "         0.0      0.743     0.904     0.816       125\n",
            "         1.0      0.921     0.781     0.845       178\n",
            "\n",
            "    accuracy                          0.832       303\n",
            "   macro avg      0.832     0.842     0.830       303\n",
            "weighted avg      0.847     0.832     0.833       303\n",
            "\n",
            "\n",
            "\n",
            "[[113  12]\n",
            " [ 39 139]]\n"
          ],
          "name": "stdout"
        }
      ]
    },
    {
      "cell_type": "code",
      "metadata": {
        "colab_type": "code",
        "outputId": "49d19622-bc02-4312-dec8-8602826b6c38",
        "id": "r7oBRnB1Ez_9",
        "colab": {
          "base_uri": "https://localhost:8080/",
          "height": 295
        }
      },
      "source": [
        "adni_proba = clf.predict_proba(X_test)\n",
        "roc = skplt.metrics.plot_roc(clinic_y, adni_proba)\n",
        "# fig = roc.get_figure()\n",
        "# fig.savefig(f'{dir}/Figures/roc_eff_row0_3', dpi=300)"
      ],
      "execution_count": 0,
      "outputs": [
        {
          "output_type": "display_data",
          "data": {
            "image/png": "[encoded data removed]",
            "text/plain": [
              "<Figure size 432x288 with 1 Axes>"
            ]
          },
          "metadata": {
            "tags": []
          }
        }
      ]
    },
    {
      "cell_type": "code",
      "metadata": {
        "colab_type": "code",
        "outputId": "33b451eb-793e-4bda-a273-6280b643335c",
        "id": "zEScE6vYEz__",
        "colab": {
          "base_uri": "https://localhost:8080/",
          "height": 289
        }
      },
      "source": [
        "clf = MLPClassifier(hidden_layer_sizes=(105,60,15), activation='relu', \n",
        "                      solver='adam', alpha=.0001, learning_rate_init=.0005, \n",
        "                      max_iter=5000, random_state=0)\n",
        "clf.fit(X_train, adni_y.values.ravel())\n",
        "y_pred = clf.predict(X_test)\n",
        "print('AUC: ', roc_auc_score(clinic_y, y_pred))\n",
        "print('\\n')\n",
        "print(classification_report(clinic_y, y_pred, digits=3))\n",
        "print('\\n')\n",
        "print(confusion_matrix(clinic_y, y_pred))"
      ],
      "execution_count": 0,
      "outputs": [
        {
          "output_type": "stream",
          "text": [
            "AUC:  0.8021123595505618\n",
            "\n",
            "\n",
            "              precision    recall  f1-score   support\n",
            "\n",
            "         0.0      0.754     0.784     0.769       125\n",
            "         1.0      0.844     0.820     0.832       178\n",
            "\n",
            "    accuracy                          0.805       303\n",
            "   macro avg      0.799     0.802     0.800       303\n",
            "weighted avg      0.807     0.805     0.806       303\n",
            "\n",
            "\n",
            "\n",
            "[[ 98  27]\n",
            " [ 32 146]]\n"
          ],
          "name": "stdout"
        }
      ]
    },
    {
      "cell_type": "code",
      "metadata": {
        "colab_type": "code",
        "outputId": "5bd4f245-9074-4fa8-d3ba-01ecc4f40a49",
        "id": "Uq1TZyyFE0AC",
        "colab": {
          "base_uri": "https://localhost:8080/",
          "height": 1000
        }
      },
      "source": [
        "from sklearn.tree import DecisionTreeClassifier\n",
        "\n",
        "clf = DecisionTreeClassifier(random_state=0)\n",
        "clf.fit(X_train, adni_y)\n",
        "\n",
        "import graphviz\n",
        "from sklearn.tree import export_graphviz\n",
        "\n",
        "dot = export_graphviz(clf, out_file=None,\n",
        "                     feature_names=features,\n",
        "                     class_names=['Normal','Impaired'],\n",
        "                     filled=True, rounded=True,\n",
        "                     rotate=True, max_depth=3)\n",
        "\n",
        "graph = graphviz.Source(dot)\n",
        "graph.render(filename='eff_tree_row5_5.gv', directory=f'{dir}/Output/', format='pdf')\n",
        "graph"
      ],
      "execution_count": 0,
      "outputs": [
        {
          "output_type": "execute_result",
          "data": {
            "text/plain": [
              "<graphviz.files.Source at 0x7f976c3f8dd8>"
            ],
            "image/svg+xml": "<?xml version=\"1.0\" encoding=\"UTF-8\" standalone=\"no\"?>\n<!DOCTYPE svg PUBLIC \"-//W3C//DTD SVG 1.1//EN\"\n \"http://www.w3.org/Graphics/SVG/1.1/DTD/svg11.dtd\">\n<!-- Generated by graphviz version 2.40.1 (20161225.0304)\n -->\n<!-- Title: Tree Pages: 1 -->\n<svg width=\"842pt\" height=\"817pt\"\n viewBox=\"0.00 0.00 842.00 817.00\" xmlns=\"http://www.w3.org/2000/svg\" xmlns:xlink=\"http://www.w3.org/1999/xlink\">\n<g id=\"graph0\" class=\"graph\" transform=\"scale(1 1) rotate(0) translate(4 813)\">\n<title>Tree</title>\n<polygon fill=\"#ffffff\" stroke=\"transparent\" points=\"-4,4 -4,-813 838,-813 838,4 -4,4\"/>\n<!-- 0 -->\n<g id=\"node1\" class=\"node\">\n<title>0</title>\n<path fill=\"#a8d4f4\" stroke=\"#000000\" d=\"M142,-465.5C142,-465.5 12,-465.5 12,-465.5 6,-465.5 0,-459.5 0,-453.5 0,-453.5 0,-394.5 0,-394.5 0,-388.5 6,-382.5 12,-382.5 12,-382.5 142,-382.5 142,-382.5 148,-382.5 154,-388.5 154,-394.5 154,-394.5 154,-453.5 154,-453.5 154,-459.5 148,-465.5 142,-465.5\"/>\n<text text-anchor=\"middle\" x=\"77\" y=\"-450.3\" font-family=\"Helvetica,sans-Serif\" font-size=\"14.00\" fill=\"#000000\">q_memory_cg &lt;= 0.5</text>\n<text text-anchor=\"middle\" x=\"77\" y=\"-435.3\" font-family=\"Helvetica,sans-Serif\" font-size=\"14.00\" fill=\"#000000\">gini = 0.461</text>\n<text text-anchor=\"middle\" x=\"77\" y=\"-420.3\" font-family=\"Helvetica,sans-Serif\" font-size=\"14.00\" fill=\"#000000\">samples = 1167</text>\n<text text-anchor=\"middle\" x=\"77\" y=\"-405.3\" font-family=\"Helvetica,sans-Serif\" font-size=\"14.00\" fill=\"#000000\">value = [420, 747]</text>\n<text text-anchor=\"middle\" x=\"77\" y=\"-390.3\" font-family=\"Helvetica,sans-Serif\" font-size=\"14.00\" fill=\"#000000\">class = Impaired</text>\n</g>\n<!-- 1 -->\n<g id=\"node2\" class=\"node\">\n<title>1</title>\n<path fill=\"#efb489\" stroke=\"#000000\" d=\"M325.5,-563.5C325.5,-563.5 208.5,-563.5 208.5,-563.5 202.5,-563.5 196.5,-557.5 196.5,-551.5 196.5,-551.5 196.5,-492.5 196.5,-492.5 196.5,-486.5 202.5,-480.5 208.5,-480.5 208.5,-480.5 325.5,-480.5 325.5,-480.5 331.5,-480.5 337.5,-486.5 337.5,-492.5 337.5,-492.5 337.5,-551.5 337.5,-551.5 337.5,-557.5 331.5,-563.5 325.5,-563.5\"/>\n<text text-anchor=\"middle\" x=\"267\" y=\"-548.3\" font-family=\"Helvetica,sans-Serif\" font-size=\"14.00\" fill=\"#000000\">moca_orient &lt;= 5.5</text>\n<text text-anchor=\"middle\" x=\"267\" y=\"-533.3\" font-family=\"Helvetica,sans-Serif\" font-size=\"14.00\" fill=\"#000000\">gini = 0.409</text>\n<text text-anchor=\"middle\" x=\"267\" y=\"-518.3\" font-family=\"Helvetica,sans-Serif\" font-size=\"14.00\" fill=\"#000000\">samples = 425</text>\n<text text-anchor=\"middle\" x=\"267\" y=\"-503.3\" font-family=\"Helvetica,sans-Serif\" font-size=\"14.00\" fill=\"#000000\">value = [303, 122]</text>\n<text text-anchor=\"middle\" x=\"267\" y=\"-488.3\" font-family=\"Helvetica,sans-Serif\" font-size=\"14.00\" fill=\"#000000\">class = Normal</text>\n</g>\n<!-- 0&#45;&gt;1 -->\n<g id=\"edge1\" class=\"edge\">\n<title>0&#45;&gt;1</title>\n<path fill=\"none\" stroke=\"#000000\" d=\"M154.0064,-463.7191C164.9359,-469.3564 176.1953,-475.1639 187.1769,-480.8281\"/>\n<polygon fill=\"#000000\" stroke=\"#000000\" points=\"185.8309,-484.0719 196.3228,-485.5454 189.0397,-477.8507 185.8309,-484.0719\"/>\n<text text-anchor=\"middle\" x=\"172.5083\" y=\"-489.4528\" font-family=\"Helvetica,sans-Serif\" font-size=\"14.00\" fill=\"#000000\">True</text>\n</g>\n<!-- 28 -->\n<g id=\"node15\" class=\"node\">\n<title>28</title>\n<path fill=\"#5eafea\" stroke=\"#000000\" d=\"M332,-364.5C332,-364.5 202,-364.5 202,-364.5 196,-364.5 190,-358.5 190,-352.5 190,-352.5 190,-293.5 190,-293.5 190,-287.5 196,-281.5 202,-281.5 202,-281.5 332,-281.5 332,-281.5 338,-281.5 344,-287.5 344,-293.5 344,-293.5 344,-352.5 344,-352.5 344,-358.5 338,-364.5 332,-364.5\"/>\n<text text-anchor=\"middle\" x=\"267\" y=\"-349.3\" font-family=\"Helvetica,sans-Serif\" font-size=\"14.00\" fill=\"#000000\">q_memory_cg &lt;= 1.5</text>\n<text text-anchor=\"middle\" x=\"267\" y=\"-334.3\" font-family=\"Helvetica,sans-Serif\" font-size=\"14.00\" fill=\"#000000\">gini = 0.266</text>\n<text text-anchor=\"middle\" x=\"267\" y=\"-319.3\" font-family=\"Helvetica,sans-Serif\" font-size=\"14.00\" fill=\"#000000\">samples = 742</text>\n<text text-anchor=\"middle\" x=\"267\" y=\"-304.3\" font-family=\"Helvetica,sans-Serif\" font-size=\"14.00\" fill=\"#000000\">value = [117, 625]</text>\n<text text-anchor=\"middle\" x=\"267\" y=\"-289.3\" font-family=\"Helvetica,sans-Serif\" font-size=\"14.00\" fill=\"#000000\">class = Impaired</text>\n</g>\n<!-- 0&#45;&gt;28 -->\n<g id=\"edge14\" class=\"edge\">\n<title>0&#45;&gt;28</title>\n<path fill=\"none\" stroke=\"#000000\" d=\"M154.0064,-383.065C162.8786,-378.3488 171.9681,-373.5169 180.95,-368.7424\"/>\n<polygon fill=\"#000000\" stroke=\"#000000\" points=\"182.6969,-371.7776 189.884,-363.9933 179.4112,-365.5966 182.6969,-371.7776\"/>\n<text text-anchor=\"middle\" x=\"165.9771\" y=\"-352.9815\" font-family=\"Helvetica,sans-Serif\" font-size=\"14.00\" fill=\"#000000\">False</text>\n</g>\n<!-- 2 -->\n<g id=\"node3\" class=\"node\">\n<title>2</title>\n<path fill=\"#8fc8f0\" stroke=\"#000000\" d=\"M532,-711.5C532,-711.5 392,-711.5 392,-711.5 386,-711.5 380,-705.5 380,-699.5 380,-699.5 380,-640.5 380,-640.5 380,-634.5 386,-628.5 392,-628.5 392,-628.5 532,-628.5 532,-628.5 538,-628.5 544,-634.5 544,-640.5 544,-640.5 544,-699.5 544,-699.5 544,-705.5 538,-711.5 532,-711.5\"/>\n<text text-anchor=\"middle\" x=\"462\" y=\"-696.3\" font-family=\"Helvetica,sans-Serif\" font-size=\"14.00\" fill=\"#000000\">q_outsideact_pt &lt;= 1.5</text>\n<text text-anchor=\"middle\" x=\"462\" y=\"-681.3\" font-family=\"Helvetica,sans-Serif\" font-size=\"14.00\" fill=\"#000000\">gini = 0.422</text>\n<text text-anchor=\"middle\" x=\"462\" y=\"-666.3\" font-family=\"Helvetica,sans-Serif\" font-size=\"14.00\" fill=\"#000000\">samples = 33</text>\n<text text-anchor=\"middle\" x=\"462\" y=\"-651.3\" font-family=\"Helvetica,sans-Serif\" font-size=\"14.00\" fill=\"#000000\">value = [10, 23]</text>\n<text text-anchor=\"middle\" x=\"462\" y=\"-636.3\" font-family=\"Helvetica,sans-Serif\" font-size=\"14.00\" fill=\"#000000\">class = Impaired</text>\n</g>\n<!-- 1&#45;&gt;2 -->\n<g id=\"edge2\" class=\"edge\">\n<title>1&#45;&gt;2</title>\n<path fill=\"none\" stroke=\"#000000\" d=\"M321.8373,-563.6201C345.8236,-581.8251 374.1009,-603.2868 398.9516,-622.1479\"/>\n<polygon fill=\"#000000\" stroke=\"#000000\" points=\"397.1552,-625.1784 407.2368,-628.4361 401.3872,-619.6025 397.1552,-625.1784\"/>\n</g>\n<!-- 15 -->\n<g id=\"node8\" class=\"node\">\n<title>15</title>\n<path fill=\"#eeac7c\" stroke=\"#000000\" d=\"M531,-563.5C531,-563.5 393,-563.5 393,-563.5 387,-563.5 381,-557.5 381,-551.5 381,-551.5 381,-492.5 381,-492.5 381,-486.5 387,-480.5 393,-480.5 393,-480.5 531,-480.5 531,-480.5 537,-480.5 543,-486.5 543,-492.5 543,-492.5 543,-551.5 543,-551.5 543,-557.5 537,-563.5 531,-563.5\"/>\n<text text-anchor=\"middle\" x=\"462\" y=\"-548.3\" font-family=\"Helvetica,sans-Serif\" font-size=\"14.00\" fill=\"#000000\">q_language_cg &lt;= 0.5</text>\n<text text-anchor=\"middle\" x=\"462\" y=\"-533.3\" font-family=\"Helvetica,sans-Serif\" font-size=\"14.00\" fill=\"#000000\">gini = 0.378</text>\n<text text-anchor=\"middle\" x=\"462\" y=\"-518.3\" font-family=\"Helvetica,sans-Serif\" font-size=\"14.00\" fill=\"#000000\">samples = 392</text>\n<text text-anchor=\"middle\" x=\"462\" y=\"-503.3\" font-family=\"Helvetica,sans-Serif\" font-size=\"14.00\" fill=\"#000000\">value = [293, 99]</text>\n<text text-anchor=\"middle\" x=\"462\" y=\"-488.3\" font-family=\"Helvetica,sans-Serif\" font-size=\"14.00\" fill=\"#000000\">class = Normal</text>\n</g>\n<!-- 1&#45;&gt;15 -->\n<g id=\"edge7\" class=\"edge\">\n<title>1&#45;&gt;15</title>\n<path fill=\"none\" stroke=\"#000000\" d=\"M337.6752,-522C348.4402,-522 359.6783,-522 370.8063,-522\"/>\n<polygon fill=\"#000000\" stroke=\"#000000\" points=\"370.9784,-525.5001 380.9783,-522 370.9783,-518.5001 370.9784,-525.5001\"/>\n</g>\n<!-- 3 -->\n<g id=\"node4\" class=\"node\">\n<title>3</title>\n<path fill=\"#9ccef2\" stroke=\"#000000\" d=\"M731,-805.5C731,-805.5 593,-805.5 593,-805.5 587,-805.5 581,-799.5 581,-793.5 581,-793.5 581,-734.5 581,-734.5 581,-728.5 587,-722.5 593,-722.5 593,-722.5 731,-722.5 731,-722.5 737,-722.5 743,-728.5 743,-734.5 743,-734.5 743,-793.5 743,-793.5 743,-799.5 737,-805.5 731,-805.5\"/>\n<text text-anchor=\"middle\" x=\"662\" y=\"-790.3\" font-family=\"Helvetica,sans-Serif\" font-size=\"14.00\" fill=\"#000000\">q_language_cg &lt;= 0.5</text>\n<text text-anchor=\"middle\" x=\"662\" y=\"-775.3\" font-family=\"Helvetica,sans-Serif\" font-size=\"14.00\" fill=\"#000000\">gini = 0.444</text>\n<text text-anchor=\"middle\" x=\"662\" y=\"-760.3\" font-family=\"Helvetica,sans-Serif\" font-size=\"14.00\" fill=\"#000000\">samples = 30</text>\n<text text-anchor=\"middle\" x=\"662\" y=\"-745.3\" font-family=\"Helvetica,sans-Serif\" font-size=\"14.00\" fill=\"#000000\">value = [10, 20]</text>\n<text text-anchor=\"middle\" x=\"662\" y=\"-730.3\" font-family=\"Helvetica,sans-Serif\" font-size=\"14.00\" fill=\"#000000\">class = Impaired</text>\n</g>\n<!-- 2&#45;&gt;3 -->\n<g id=\"edge3\" class=\"edge\">\n<title>2&#45;&gt;3</title>\n<path fill=\"none\" stroke=\"#000000\" d=\"M544.2135,-708.6403C553.2636,-712.8939 562.5146,-717.2418 571.6569,-721.5387\"/>\n<polygon fill=\"#000000\" stroke=\"#000000\" points=\"570.2124,-724.7271 580.7515,-725.8132 573.19,-718.3919 570.2124,-724.7271\"/>\n</g>\n<!-- 14 -->\n<g id=\"node7\" class=\"node\">\n<title>14</title>\n<path fill=\"#399de5\" stroke=\"#000000\" d=\"M711,-704C711,-704 613,-704 613,-704 607,-704 601,-698 601,-692 601,-692 601,-648 601,-648 601,-642 607,-636 613,-636 613,-636 711,-636 711,-636 717,-636 723,-642 723,-648 723,-648 723,-692 723,-692 723,-698 717,-704 711,-704\"/>\n<text text-anchor=\"middle\" x=\"662\" y=\"-688.8\" font-family=\"Helvetica,sans-Serif\" font-size=\"14.00\" fill=\"#000000\">gini = 0.0</text>\n<text text-anchor=\"middle\" x=\"662\" y=\"-673.8\" font-family=\"Helvetica,sans-Serif\" font-size=\"14.00\" fill=\"#000000\">samples = 3</text>\n<text text-anchor=\"middle\" x=\"662\" y=\"-658.8\" font-family=\"Helvetica,sans-Serif\" font-size=\"14.00\" fill=\"#000000\">value = [0, 3]</text>\n<text text-anchor=\"middle\" x=\"662\" y=\"-643.8\" font-family=\"Helvetica,sans-Serif\" font-size=\"14.00\" fill=\"#000000\">class = Impaired</text>\n</g>\n<!-- 2&#45;&gt;14 -->\n<g id=\"edge6\" class=\"edge\">\n<title>2&#45;&gt;14</title>\n<path fill=\"none\" stroke=\"#000000\" d=\"M544.2135,-670C559.6202,-670 575.609,-670 590.6529,-670\"/>\n<polygon fill=\"#000000\" stroke=\"#000000\" points=\"590.8982,-673.5001 600.8982,-670 590.8981,-666.5001 590.8982,-673.5001\"/>\n</g>\n<!-- 4 -->\n<g id=\"node5\" class=\"node\">\n<title>4</title>\n<path fill=\"#c0c0c0\" stroke=\"#000000\" d=\"M822,-809C822,-809 792,-809 792,-809 786,-809 780,-803 780,-797 780,-797 780,-785 780,-785 780,-779 786,-773 792,-773 792,-773 822,-773 822,-773 828,-773 834,-779 834,-785 834,-785 834,-797 834,-797 834,-803 828,-809 822,-809\"/>\n<text text-anchor=\"middle\" x=\"807\" y=\"-787.3\" font-family=\"Helvetica,sans-Serif\" font-size=\"14.00\" fill=\"#000000\">(...)</text>\n</g>\n<!-- 3&#45;&gt;4 -->\n<g id=\"edge4\" class=\"edge\">\n<title>3&#45;&gt;4</title>\n<path fill=\"none\" stroke=\"#000000\" d=\"M743.4009,-779.1574C752.6606,-780.8816 761.7236,-782.5692 769.9734,-784.1054\"/>\n<polygon fill=\"#000000\" stroke=\"#000000\" points=\"769.4701,-787.5718 779.9418,-785.9616 770.7515,-780.69 769.4701,-787.5718\"/>\n</g>\n<!-- 11 -->\n<g id=\"node6\" class=\"node\">\n<title>11</title>\n<path fill=\"#c0c0c0\" stroke=\"#000000\" d=\"M822,-755C822,-755 792,-755 792,-755 786,-755 780,-749 780,-743 780,-743 780,-731 780,-731 780,-725 786,-719 792,-719 792,-719 822,-719 822,-719 828,-719 834,-725 834,-731 834,-731 834,-743 834,-743 834,-749 828,-755 822,-755\"/>\n<text text-anchor=\"middle\" x=\"807\" y=\"-733.3\" font-family=\"Helvetica,sans-Serif\" font-size=\"14.00\" fill=\"#000000\">(...)</text>\n</g>\n<!-- 3&#45;&gt;11 -->\n<g id=\"edge5\" class=\"edge\">\n<title>3&#45;&gt;11</title>\n<path fill=\"none\" stroke=\"#000000\" d=\"M743.4009,-748.8426C752.6606,-747.1184 761.7236,-745.4308 769.9734,-743.8946\"/>\n<polygon fill=\"#000000\" stroke=\"#000000\" points=\"770.7515,-747.31 779.9418,-742.0384 769.4701,-740.4282 770.7515,-747.31\"/>\n</g>\n<!-- 16 -->\n<g id=\"node9\" class=\"node\">\n<title>16</title>\n<path fill=\"#eda978\" stroke=\"#000000\" d=\"M732,-617.5C732,-617.5 592,-617.5 592,-617.5 586,-617.5 580,-611.5 580,-605.5 580,-605.5 580,-546.5 580,-546.5 580,-540.5 586,-534.5 592,-534.5 592,-534.5 732,-534.5 732,-534.5 738,-534.5 744,-540.5 744,-546.5 744,-546.5 744,-605.5 744,-605.5 744,-611.5 738,-617.5 732,-617.5\"/>\n<text text-anchor=\"middle\" x=\"662\" y=\"-602.3\" font-family=\"Helvetica,sans-Serif\" font-size=\"14.00\" fill=\"#000000\">q_outsideact_pt &lt;= 1.5</text>\n<text text-anchor=\"middle\" x=\"662\" y=\"-587.3\" font-family=\"Helvetica,sans-Serif\" font-size=\"14.00\" fill=\"#000000\">gini = 0.366</text>\n<text text-anchor=\"middle\" x=\"662\" y=\"-572.3\" font-family=\"Helvetica,sans-Serif\" font-size=\"14.00\" fill=\"#000000\">samples = 385</text>\n<text text-anchor=\"middle\" x=\"662\" y=\"-557.3\" font-family=\"Helvetica,sans-Serif\" font-size=\"14.00\" fill=\"#000000\">value = [292, 93]</text>\n<text text-anchor=\"middle\" x=\"662\" y=\"-542.3\" font-family=\"Helvetica,sans-Serif\" font-size=\"14.00\" fill=\"#000000\">class = Normal</text>\n</g>\n<!-- 15&#45;&gt;16 -->\n<g id=\"edge8\" class=\"edge\">\n<title>15&#45;&gt;16</title>\n<path fill=\"none\" stroke=\"#000000\" d=\"M543.0593,-543.886C551.9654,-546.2907 561.0795,-548.7515 570.1049,-551.1883\"/>\n<polygon fill=\"#000000\" stroke=\"#000000\" points=\"569.2831,-554.5917 579.8497,-553.8194 571.1078,-547.8337 569.2831,-554.5917\"/>\n</g>\n<!-- 25 -->\n<g id=\"node12\" class=\"node\">\n<title>25</title>\n<path fill=\"#5aade9\" stroke=\"#000000\" d=\"M711,-516.5C711,-516.5 613,-516.5 613,-516.5 607,-516.5 601,-510.5 601,-504.5 601,-504.5 601,-445.5 601,-445.5 601,-439.5 607,-433.5 613,-433.5 613,-433.5 711,-433.5 711,-433.5 717,-433.5 723,-439.5 723,-445.5 723,-445.5 723,-504.5 723,-504.5 723,-510.5 717,-516.5 711,-516.5\"/>\n<text text-anchor=\"middle\" x=\"662\" y=\"-501.3\" font-family=\"Helvetica,sans-Serif\" font-size=\"14.00\" fill=\"#000000\">PTHAND &lt;= 1.5</text>\n<text text-anchor=\"middle\" x=\"662\" y=\"-486.3\" font-family=\"Helvetica,sans-Serif\" font-size=\"14.00\" fill=\"#000000\">gini = 0.245</text>\n<text text-anchor=\"middle\" x=\"662\" y=\"-471.3\" font-family=\"Helvetica,sans-Serif\" font-size=\"14.00\" fill=\"#000000\">samples = 7</text>\n<text text-anchor=\"middle\" x=\"662\" y=\"-456.3\" font-family=\"Helvetica,sans-Serif\" font-size=\"14.00\" fill=\"#000000\">value = [1, 6]</text>\n<text text-anchor=\"middle\" x=\"662\" y=\"-441.3\" font-family=\"Helvetica,sans-Serif\" font-size=\"14.00\" fill=\"#000000\">class = Impaired</text>\n</g>\n<!-- 15&#45;&gt;25 -->\n<g id=\"edge11\" class=\"edge\">\n<title>15&#45;&gt;25</title>\n<path fill=\"none\" stroke=\"#000000\" d=\"M543.0593,-502.9511C558.8699,-499.2356 575.3362,-495.366 590.7983,-491.7324\"/>\n<polygon fill=\"#000000\" stroke=\"#000000\" points=\"591.863,-495.0776 600.7971,-489.3827 590.2616,-488.2633 591.863,-495.0776\"/>\n</g>\n<!-- 17 -->\n<g id=\"node10\" class=\"node\">\n<title>17</title>\n<path fill=\"#c0c0c0\" stroke=\"#000000\" d=\"M822,-648C822,-648 792,-648 792,-648 786,-648 780,-642 780,-636 780,-636 780,-624 780,-624 780,-618 786,-612 792,-612 792,-612 822,-612 822,-612 828,-612 834,-618 834,-624 834,-624 834,-636 834,-636 834,-642 828,-648 822,-648\"/>\n<text text-anchor=\"middle\" x=\"807\" y=\"-626.3\" font-family=\"Helvetica,sans-Serif\" font-size=\"14.00\" fill=\"#000000\">(...)</text>\n</g>\n<!-- 16&#45;&gt;17 -->\n<g id=\"edge9\" class=\"edge\">\n<title>16&#45;&gt;17</title>\n<path fill=\"none\" stroke=\"#000000\" d=\"M744.2442,-606.6289C753.3328,-610.0136 762.2133,-613.3208 770.3004,-616.3325\"/>\n<polygon fill=\"#000000\" stroke=\"#000000\" points=\"769.1392,-619.6349 779.7319,-619.845 771.5822,-613.075 769.1392,-619.6349\"/>\n</g>\n<!-- 22 -->\n<g id=\"node11\" class=\"node\">\n<title>22</title>\n<path fill=\"#c0c0c0\" stroke=\"#000000\" d=\"M822,-594C822,-594 792,-594 792,-594 786,-594 780,-588 780,-582 780,-582 780,-570 780,-570 780,-564 786,-558 792,-558 792,-558 822,-558 822,-558 828,-558 834,-564 834,-570 834,-570 834,-582 834,-582 834,-588 828,-594 822,-594\"/>\n<text text-anchor=\"middle\" x=\"807\" y=\"-572.3\" font-family=\"Helvetica,sans-Serif\" font-size=\"14.00\" fill=\"#000000\">(...)</text>\n</g>\n<!-- 16&#45;&gt;22 -->\n<g id=\"edge10\" class=\"edge\">\n<title>16&#45;&gt;22</title>\n<path fill=\"none\" stroke=\"#000000\" d=\"M744.2442,-576C753.0332,-576 761.6275,-576 769.498,-576\"/>\n<polygon fill=\"#000000\" stroke=\"#000000\" points=\"769.732,-579.5001 779.7319,-576 769.7319,-572.5001 769.732,-579.5001\"/>\n</g>\n<!-- 26 -->\n<g id=\"node13\" class=\"node\">\n<title>26</title>\n<path fill=\"#c0c0c0\" stroke=\"#000000\" d=\"M822,-539C822,-539 792,-539 792,-539 786,-539 780,-533 780,-527 780,-527 780,-515 780,-515 780,-509 786,-503 792,-503 792,-503 822,-503 822,-503 828,-503 834,-509 834,-515 834,-515 834,-527 834,-527 834,-533 828,-539 822,-539\"/>\n<text text-anchor=\"middle\" x=\"807\" y=\"-517.3\" font-family=\"Helvetica,sans-Serif\" font-size=\"14.00\" fill=\"#000000\">(...)</text>\n</g>\n<!-- 25&#45;&gt;26 -->\n<g id=\"edge12\" class=\"edge\">\n<title>25&#45;&gt;26</title>\n<path fill=\"none\" stroke=\"#000000\" d=\"M723.0728,-494.3748C739.0167,-499.4329 755.7169,-504.7309 769.9838,-509.2569\"/>\n<polygon fill=\"#000000\" stroke=\"#000000\" points=\"769.3065,-512.7139 779.8967,-512.4017 771.4232,-506.0416 769.3065,-512.7139\"/>\n</g>\n<!-- 27 -->\n<g id=\"node14\" class=\"node\">\n<title>27</title>\n<path fill=\"#c0c0c0\" stroke=\"#000000\" d=\"M822,-485C822,-485 792,-485 792,-485 786,-485 780,-479 780,-473 780,-473 780,-461 780,-461 780,-455 786,-449 792,-449 792,-449 822,-449 822,-449 828,-449 834,-455 834,-461 834,-461 834,-473 834,-473 834,-479 828,-485 822,-485\"/>\n<text text-anchor=\"middle\" x=\"807\" y=\"-463.3\" font-family=\"Helvetica,sans-Serif\" font-size=\"14.00\" fill=\"#000000\">(...)</text>\n</g>\n<!-- 25&#45;&gt;27 -->\n<g id=\"edge13\" class=\"edge\">\n<title>25&#45;&gt;27</title>\n<path fill=\"none\" stroke=\"#000000\" d=\"M723.0728,-471.6305C738.8619,-470.7593 755.3927,-469.8473 769.5676,-469.0652\"/>\n<polygon fill=\"#000000\" stroke=\"#000000\" points=\"770.1047,-472.541 779.8967,-468.4954 769.719,-465.5516 770.1047,-472.541\"/>\n</g>\n<!-- 29 -->\n<g id=\"node16\" class=\"node\">\n<title>29</title>\n<path fill=\"#83c2ef\" stroke=\"#000000\" d=\"M532,-364.5C532,-364.5 392,-364.5 392,-364.5 386,-364.5 380,-358.5 380,-352.5 380,-352.5 380,-293.5 380,-293.5 380,-287.5 386,-281.5 392,-281.5 392,-281.5 532,-281.5 532,-281.5 538,-281.5 544,-287.5 544,-293.5 544,-293.5 544,-352.5 544,-352.5 544,-358.5 538,-364.5 532,-364.5\"/>\n<text text-anchor=\"middle\" x=\"462\" y=\"-349.3\" font-family=\"Helvetica,sans-Serif\" font-size=\"14.00\" fill=\"#000000\">q_outsideact_pt &lt;= 0.5</text>\n<text text-anchor=\"middle\" x=\"462\" y=\"-334.3\" font-family=\"Helvetica,sans-Serif\" font-size=\"14.00\" fill=\"#000000\">gini = 0.397</text>\n<text text-anchor=\"middle\" x=\"462\" y=\"-319.3\" font-family=\"Helvetica,sans-Serif\" font-size=\"14.00\" fill=\"#000000\">samples = 370</text>\n<text text-anchor=\"middle\" x=\"462\" y=\"-304.3\" font-family=\"Helvetica,sans-Serif\" font-size=\"14.00\" fill=\"#000000\">value = [101, 269]</text>\n<text text-anchor=\"middle\" x=\"462\" y=\"-289.3\" font-family=\"Helvetica,sans-Serif\" font-size=\"14.00\" fill=\"#000000\">class = Impaired</text>\n</g>\n<!-- 28&#45;&gt;29 -->\n<g id=\"edge15\" class=\"edge\">\n<title>28&#45;&gt;29</title>\n<path fill=\"none\" stroke=\"#000000\" d=\"M344.0692,-323C352.4859,-323 361.1153,-323 369.691,-323\"/>\n<polygon fill=\"#000000\" stroke=\"#000000\" points=\"369.7176,-326.5001 379.7175,-323 369.7175,-319.5001 369.7176,-326.5001\"/>\n</g>\n<!-- 70 -->\n<g id=\"node23\" class=\"node\">\n<title>70</title>\n<path fill=\"#42a1e6\" stroke=\"#000000\" d=\"M520.5,-213.5C520.5,-213.5 403.5,-213.5 403.5,-213.5 397.5,-213.5 391.5,-207.5 391.5,-201.5 391.5,-201.5 391.5,-142.5 391.5,-142.5 391.5,-136.5 397.5,-130.5 403.5,-130.5 403.5,-130.5 520.5,-130.5 520.5,-130.5 526.5,-130.5 532.5,-136.5 532.5,-142.5 532.5,-142.5 532.5,-201.5 532.5,-201.5 532.5,-207.5 526.5,-213.5 520.5,-213.5\"/>\n<text text-anchor=\"middle\" x=\"462\" y=\"-198.3\" font-family=\"Helvetica,sans-Serif\" font-size=\"14.00\" fill=\"#000000\">moca_orient &lt;= 5.5</text>\n<text text-anchor=\"middle\" x=\"462\" y=\"-183.3\" font-family=\"Helvetica,sans-Serif\" font-size=\"14.00\" fill=\"#000000\">gini = 0.082</text>\n<text text-anchor=\"middle\" x=\"462\" y=\"-168.3\" font-family=\"Helvetica,sans-Serif\" font-size=\"14.00\" fill=\"#000000\">samples = 372</text>\n<text text-anchor=\"middle\" x=\"462\" y=\"-153.3\" font-family=\"Helvetica,sans-Serif\" font-size=\"14.00\" fill=\"#000000\">value = [16, 356]</text>\n<text text-anchor=\"middle\" x=\"462\" y=\"-138.3\" font-family=\"Helvetica,sans-Serif\" font-size=\"14.00\" fill=\"#000000\">class = Impaired</text>\n</g>\n<!-- 28&#45;&gt;70 -->\n<g id=\"edge22\" class=\"edge\">\n<title>28&#45;&gt;70</title>\n<path fill=\"none\" stroke=\"#000000\" d=\"M320.8008,-281.3389C345.4178,-262.2765 374.7208,-239.5854 400.2349,-219.8284\"/>\n<polygon fill=\"#000000\" stroke=\"#000000\" points=\"402.6111,-222.4151 408.3748,-213.5252 398.3253,-216.8804 402.6111,-222.4151\"/>\n</g>\n<!-- 30 -->\n<g id=\"node17\" class=\"node\">\n<title>30</title>\n<path fill=\"#9acdf2\" stroke=\"#000000\" d=\"M731,-415.5C731,-415.5 593,-415.5 593,-415.5 587,-415.5 581,-409.5 581,-403.5 581,-403.5 581,-344.5 581,-344.5 581,-338.5 587,-332.5 593,-332.5 593,-332.5 731,-332.5 731,-332.5 737,-332.5 743,-338.5 743,-344.5 743,-344.5 743,-403.5 743,-403.5 743,-409.5 737,-415.5 731,-415.5\"/>\n<text text-anchor=\"middle\" x=\"662\" y=\"-400.3\" font-family=\"Helvetica,sans-Serif\" font-size=\"14.00\" fill=\"#000000\">q_language_cg &lt;= 0.5</text>\n<text text-anchor=\"middle\" x=\"662\" y=\"-385.3\" font-family=\"Helvetica,sans-Serif\" font-size=\"14.00\" fill=\"#000000\">gini = 0.442</text>\n<text text-anchor=\"middle\" x=\"662\" y=\"-370.3\" font-family=\"Helvetica,sans-Serif\" font-size=\"14.00\" fill=\"#000000\">samples = 285</text>\n<text text-anchor=\"middle\" x=\"662\" y=\"-355.3\" font-family=\"Helvetica,sans-Serif\" font-size=\"14.00\" fill=\"#000000\">value = [94, 191]</text>\n<text text-anchor=\"middle\" x=\"662\" y=\"-340.3\" font-family=\"Helvetica,sans-Serif\" font-size=\"14.00\" fill=\"#000000\">class = Impaired</text>\n</g>\n<!-- 29&#45;&gt;30 -->\n<g id=\"edge16\" class=\"edge\">\n<title>29&#45;&gt;30</title>\n<path fill=\"none\" stroke=\"#000000\" d=\"M544.2135,-343.9644C552.9808,-346.2001 561.9366,-348.4838 570.7995,-350.7439\"/>\n<polygon fill=\"#000000\" stroke=\"#000000\" points=\"570.1967,-354.2021 580.7515,-353.2816 571.9264,-347.4192 570.1967,-354.2021\"/>\n</g>\n<!-- 53 -->\n<g id=\"node20\" class=\"node\">\n<title>53</title>\n<path fill=\"#4ba6e7\" stroke=\"#000000\" d=\"M711,-314.5C711,-314.5 613,-314.5 613,-314.5 607,-314.5 601,-308.5 601,-302.5 601,-302.5 601,-243.5 601,-243.5 601,-237.5 607,-231.5 613,-231.5 613,-231.5 711,-231.5 711,-231.5 717,-231.5 723,-237.5 723,-243.5 723,-243.5 723,-302.5 723,-302.5 723,-308.5 717,-314.5 711,-314.5\"/>\n<text text-anchor=\"middle\" x=\"662\" y=\"-299.3\" font-family=\"Helvetica,sans-Serif\" font-size=\"14.00\" fill=\"#000000\">PTHAND &lt;= 1.5</text>\n<text text-anchor=\"middle\" x=\"662\" y=\"-284.3\" font-family=\"Helvetica,sans-Serif\" font-size=\"14.00\" fill=\"#000000\">gini = 0.151</text>\n<text text-anchor=\"middle\" x=\"662\" y=\"-269.3\" font-family=\"Helvetica,sans-Serif\" font-size=\"14.00\" fill=\"#000000\">samples = 85</text>\n<text text-anchor=\"middle\" x=\"662\" y=\"-254.3\" font-family=\"Helvetica,sans-Serif\" font-size=\"14.00\" fill=\"#000000\">value = [7, 78]</text>\n<text text-anchor=\"middle\" x=\"662\" y=\"-239.3\" font-family=\"Helvetica,sans-Serif\" font-size=\"14.00\" fill=\"#000000\">class = Impaired</text>\n</g>\n<!-- 29&#45;&gt;53 -->\n<g id=\"edge19\" class=\"edge\">\n<title>29&#45;&gt;53</title>\n<path fill=\"none\" stroke=\"#000000\" d=\"M544.2135,-302.4466C559.7684,-298.5579 575.9166,-294.5209 591.0866,-290.7283\"/>\n<polygon fill=\"#000000\" stroke=\"#000000\" points=\"592.0456,-294.0964 600.8982,-288.2755 590.3478,-287.3054 592.0456,-294.0964\"/>\n</g>\n<!-- 31 -->\n<g id=\"node18\" class=\"node\">\n<title>31</title>\n<path fill=\"#c0c0c0\" stroke=\"#000000\" d=\"M822,-430C822,-430 792,-430 792,-430 786,-430 780,-424 780,-418 780,-418 780,-406 780,-406 780,-400 786,-394 792,-394 792,-394 822,-394 822,-394 828,-394 834,-400 834,-406 834,-406 834,-418 834,-418 834,-424 828,-430 822,-430\"/>\n<text text-anchor=\"middle\" x=\"807\" y=\"-408.3\" font-family=\"Helvetica,sans-Serif\" font-size=\"14.00\" fill=\"#000000\">(...)</text>\n</g>\n<!-- 30&#45;&gt;31 -->\n<g id=\"edge17\" class=\"edge\">\n<title>30&#45;&gt;31</title>\n<path fill=\"none\" stroke=\"#000000\" d=\"M743.4009,-395.3326C752.7635,-397.7863 761.925,-400.1872 770.2481,-402.3685\"/>\n<polygon fill=\"#000000\" stroke=\"#000000\" points=\"769.3812,-405.7594 779.9418,-404.9089 771.1558,-398.9881 769.3812,-405.7594\"/>\n</g>\n<!-- 40 -->\n<g id=\"node19\" class=\"node\">\n<title>40</title>\n<path fill=\"#c0c0c0\" stroke=\"#000000\" d=\"M822,-376C822,-376 792,-376 792,-376 786,-376 780,-370 780,-364 780,-364 780,-352 780,-352 780,-346 786,-340 792,-340 792,-340 822,-340 822,-340 828,-340 834,-346 834,-352 834,-352 834,-364 834,-364 834,-370 828,-376 822,-376\"/>\n<text text-anchor=\"middle\" x=\"807\" y=\"-354.3\" font-family=\"Helvetica,sans-Serif\" font-size=\"14.00\" fill=\"#000000\">(...)</text>\n</g>\n<!-- 30&#45;&gt;40 -->\n<g id=\"edge18\" class=\"edge\">\n<title>30&#45;&gt;40</title>\n<path fill=\"none\" stroke=\"#000000\" d=\"M743.4009,-365.0178C752.6606,-363.9961 761.7236,-362.996 769.9734,-362.0857\"/>\n<polygon fill=\"#000000\" stroke=\"#000000\" points=\"770.3861,-365.5615 779.9418,-360.9857 769.6182,-358.6037 770.3861,-365.5615\"/>\n</g>\n<!-- 54 -->\n<g id=\"node21\" class=\"node\">\n<title>54</title>\n<path fill=\"#c0c0c0\" stroke=\"#000000\" d=\"M822,-320C822,-320 792,-320 792,-320 786,-320 780,-314 780,-308 780,-308 780,-296 780,-296 780,-290 786,-284 792,-284 792,-284 822,-284 822,-284 828,-284 834,-290 834,-296 834,-296 834,-308 834,-308 834,-314 828,-320 822,-320\"/>\n<text text-anchor=\"middle\" x=\"807\" y=\"-298.3\" font-family=\"Helvetica,sans-Serif\" font-size=\"14.00\" fill=\"#000000\">(...)</text>\n</g>\n<!-- 53&#45;&gt;54 -->\n<g id=\"edge20\" class=\"edge\">\n<title>53&#45;&gt;54</title>\n<path fill=\"none\" stroke=\"#000000\" d=\"M723.0728,-285.2146C739.0167,-288.4033 755.7169,-291.7434 769.9838,-294.5968\"/>\n<polygon fill=\"#000000\" stroke=\"#000000\" points=\"769.4045,-298.0501 779.8967,-296.5793 770.7773,-291.1861 769.4045,-298.0501\"/>\n</g>\n<!-- 63 -->\n<g id=\"node22\" class=\"node\">\n<title>63</title>\n<path fill=\"#c0c0c0\" stroke=\"#000000\" d=\"M822,-266C822,-266 792,-266 792,-266 786,-266 780,-260 780,-254 780,-254 780,-242 780,-242 780,-236 786,-230 792,-230 792,-230 822,-230 822,-230 828,-230 834,-236 834,-242 834,-242 834,-254 834,-254 834,-260 828,-266 822,-266\"/>\n<text text-anchor=\"middle\" x=\"807\" y=\"-244.3\" font-family=\"Helvetica,sans-Serif\" font-size=\"14.00\" fill=\"#000000\">(...)</text>\n</g>\n<!-- 53&#45;&gt;63 -->\n<g id=\"edge21\" class=\"edge\">\n<title>53&#45;&gt;63</title>\n<path fill=\"none\" stroke=\"#000000\" d=\"M723.0728,-262.4702C739.0167,-259.7213 755.7169,-256.8419 769.9838,-254.3821\"/>\n<polygon fill=\"#000000\" stroke=\"#000000\" points=\"770.6368,-257.8212 779.8967,-252.673 769.4474,-250.923 770.6368,-257.8212\"/>\n</g>\n<!-- 71 -->\n<g id=\"node24\" class=\"node\">\n<title>71</title>\n<path fill=\"#3b9ee5\" stroke=\"#000000\" d=\"M720.5,-213.5C720.5,-213.5 603.5,-213.5 603.5,-213.5 597.5,-213.5 591.5,-207.5 591.5,-201.5 591.5,-201.5 591.5,-142.5 591.5,-142.5 591.5,-136.5 597.5,-130.5 603.5,-130.5 603.5,-130.5 720.5,-130.5 720.5,-130.5 726.5,-130.5 732.5,-136.5 732.5,-142.5 732.5,-142.5 732.5,-201.5 732.5,-201.5 732.5,-207.5 726.5,-213.5 720.5,-213.5\"/>\n<text text-anchor=\"middle\" x=\"662\" y=\"-198.3\" font-family=\"Helvetica,sans-Serif\" font-size=\"14.00\" fill=\"#000000\">moca_orient &lt;= 4.5</text>\n<text text-anchor=\"middle\" x=\"662\" y=\"-183.3\" font-family=\"Helvetica,sans-Serif\" font-size=\"14.00\" fill=\"#000000\">gini = 0.019</text>\n<text text-anchor=\"middle\" x=\"662\" y=\"-168.3\" font-family=\"Helvetica,sans-Serif\" font-size=\"14.00\" fill=\"#000000\">samples = 214</text>\n<text text-anchor=\"middle\" x=\"662\" y=\"-153.3\" font-family=\"Helvetica,sans-Serif\" font-size=\"14.00\" fill=\"#000000\">value = [2, 212]</text>\n<text text-anchor=\"middle\" x=\"662\" y=\"-138.3\" font-family=\"Helvetica,sans-Serif\" font-size=\"14.00\" fill=\"#000000\">class = Impaired</text>\n</g>\n<!-- 70&#45;&gt;71 -->\n<g id=\"edge23\" class=\"edge\">\n<title>70&#45;&gt;71</title>\n<path fill=\"none\" stroke=\"#000000\" d=\"M532.5125,-172C548.1959,-172 564.9419,-172 581.0083,-172\"/>\n<polygon fill=\"#000000\" stroke=\"#000000\" points=\"581.4501,-175.5001 591.4501,-172 581.4501,-168.5001 581.4501,-175.5001\"/>\n</g>\n<!-- 86 -->\n<g id=\"node27\" class=\"node\">\n<title>86</title>\n<path fill=\"#4ca7e8\" stroke=\"#000000\" d=\"M731,-112.5C731,-112.5 593,-112.5 593,-112.5 587,-112.5 581,-106.5 581,-100.5 581,-100.5 581,-41.5 581,-41.5 581,-35.5 587,-29.5 593,-29.5 593,-29.5 731,-29.5 731,-29.5 737,-29.5 743,-35.5 743,-41.5 743,-41.5 743,-100.5 743,-100.5 743,-106.5 737,-112.5 731,-112.5\"/>\n<text text-anchor=\"middle\" x=\"662\" y=\"-97.3\" font-family=\"Helvetica,sans-Serif\" font-size=\"14.00\" fill=\"#000000\">q_language_cg &lt;= 1.5</text>\n<text text-anchor=\"middle\" x=\"662\" y=\"-82.3\" font-family=\"Helvetica,sans-Serif\" font-size=\"14.00\" fill=\"#000000\">gini = 0.162</text>\n<text text-anchor=\"middle\" x=\"662\" y=\"-67.3\" font-family=\"Helvetica,sans-Serif\" font-size=\"14.00\" fill=\"#000000\">samples = 158</text>\n<text text-anchor=\"middle\" x=\"662\" y=\"-52.3\" font-family=\"Helvetica,sans-Serif\" font-size=\"14.00\" fill=\"#000000\">value = [14, 144]</text>\n<text text-anchor=\"middle\" x=\"662\" y=\"-37.3\" font-family=\"Helvetica,sans-Serif\" font-size=\"14.00\" fill=\"#000000\">class = Impaired</text>\n</g>\n<!-- 70&#45;&gt;86 -->\n<g id=\"edge26\" class=\"edge\">\n<title>70&#45;&gt;86</title>\n<path fill=\"none\" stroke=\"#000000\" d=\"M532.5125,-136.3912C545.2138,-129.977 558.6122,-123.2109 571.782,-116.5601\"/>\n<polygon fill=\"#000000\" stroke=\"#000000\" points=\"573.5031,-119.612 580.8517,-111.9799 570.3476,-113.3635 573.5031,-119.612\"/>\n</g>\n<!-- 72 -->\n<g id=\"node25\" class=\"node\">\n<title>72</title>\n<path fill=\"#c0c0c0\" stroke=\"#000000\" d=\"M822,-207C822,-207 792,-207 792,-207 786,-207 780,-201 780,-195 780,-195 780,-183 780,-183 780,-177 786,-171 792,-171 792,-171 822,-171 822,-171 828,-171 834,-177 834,-183 834,-183 834,-195 834,-195 834,-201 828,-207 822,-207\"/>\n<text text-anchor=\"middle\" x=\"807\" y=\"-185.3\" font-family=\"Helvetica,sans-Serif\" font-size=\"14.00\" fill=\"#000000\">(...)</text>\n</g>\n<!-- 71&#45;&gt;72 -->\n<g id=\"edge24\" class=\"edge\">\n<title>71&#45;&gt;72</title>\n<path fill=\"none\" stroke=\"#000000\" d=\"M732.8009,-180.3008C745.44,-181.7826 758.148,-183.2725 769.3872,-184.5902\"/>\n<polygon fill=\"#000000\" stroke=\"#000000\" points=\"769.3232,-188.1066 779.6627,-185.7949 770.1383,-181.1542 769.3232,-188.1066\"/>\n</g>\n<!-- 73 -->\n<g id=\"node26\" class=\"node\">\n<title>73</title>\n<path fill=\"#c0c0c0\" stroke=\"#000000\" d=\"M822,-153C822,-153 792,-153 792,-153 786,-153 780,-147 780,-141 780,-141 780,-129 780,-129 780,-123 786,-117 792,-117 792,-117 822,-117 822,-117 828,-117 834,-123 834,-129 834,-129 834,-141 834,-141 834,-147 828,-153 822,-153\"/>\n<text text-anchor=\"middle\" x=\"807\" y=\"-131.3\" font-family=\"Helvetica,sans-Serif\" font-size=\"14.00\" fill=\"#000000\">(...)</text>\n</g>\n<!-- 71&#45;&gt;73 -->\n<g id=\"edge25\" class=\"edge\">\n<title>71&#45;&gt;73</title>\n<path fill=\"none\" stroke=\"#000000\" d=\"M732.8009,-153.9336C745.5703,-150.6752 758.41,-147.3988 769.7343,-144.5092\"/>\n<polygon fill=\"#000000\" stroke=\"#000000\" points=\"770.8386,-147.8396 779.6627,-141.9757 769.1078,-141.057 770.8386,-147.8396\"/>\n</g>\n<!-- 87 -->\n<g id=\"node28\" class=\"node\">\n<title>87</title>\n<path fill=\"#c0c0c0\" stroke=\"#000000\" d=\"M822,-90C822,-90 792,-90 792,-90 786,-90 780,-84 780,-78 780,-78 780,-66 780,-66 780,-60 786,-54 792,-54 792,-54 822,-54 822,-54 828,-54 834,-60 834,-66 834,-66 834,-78 834,-78 834,-84 828,-90 822,-90\"/>\n<text text-anchor=\"middle\" x=\"807\" y=\"-68.3\" font-family=\"Helvetica,sans-Serif\" font-size=\"14.00\" fill=\"#000000\">(...)</text>\n</g>\n<!-- 86&#45;&gt;87 -->\n<g id=\"edge27\" class=\"edge\">\n<title>86&#45;&gt;87</title>\n<path fill=\"none\" stroke=\"#000000\" d=\"M743.4009,-71.5614C752.5577,-71.6245 761.5222,-71.6864 769.6981,-71.7427\"/>\n<polygon fill=\"#000000\" stroke=\"#000000\" points=\"769.9179,-75.2442 779.9418,-71.8134 769.9662,-68.2444 769.9179,-75.2442\"/>\n</g>\n<!-- 104 -->\n<g id=\"node29\" class=\"node\">\n<title>104</title>\n<path fill=\"#c0c0c0\" stroke=\"#000000\" d=\"M822,-36C822,-36 792,-36 792,-36 786,-36 780,-30 780,-24 780,-24 780,-12 780,-12 780,-6 786,0 792,0 792,0 822,0 822,0 828,0 834,-6 834,-12 834,-12 834,-24 834,-24 834,-30 828,-36 822,-36\"/>\n<text text-anchor=\"middle\" x=\"807\" y=\"-14.3\" font-family=\"Helvetica,sans-Serif\" font-size=\"14.00\" fill=\"#000000\">(...)</text>\n</g>\n<!-- 86&#45;&gt;104 -->\n<g id=\"edge28\" class=\"edge\">\n<title>86&#45;&gt;104</title>\n<path fill=\"none\" stroke=\"#000000\" d=\"M743.4009,-41.2466C752.8663,-37.7868 762.1263,-34.4021 770.5222,-31.3333\"/>\n<polygon fill=\"#000000\" stroke=\"#000000\" points=\"771.7512,-34.6106 779.9418,-27.8902 769.348,-28.036 771.7512,-34.6106\"/>\n</g>\n</g>\n</svg>\n"
          },
          "metadata": {
            "tags": []
          },
          "execution_count": 354
        }
      ]
    },
    {
      "cell_type": "markdown",
      "metadata": {
        "id": "yiXv7dpd62F_",
        "colab_type": "text"
      },
      "source": [
        "## Row 11: ['q_memory_cg', 'q_language_cg', 'PTHAND', 'moca_orient', 'q_outsideact_pt', 'MMNAME']"
      ]
    },
    {
      "cell_type": "code",
      "metadata": {
        "id": "rqsFQ0uw62lN",
        "colab_type": "code",
        "colab": {}
      },
      "source": [
        "features = df_costsum.iloc[11,3]"
      ],
      "execution_count": 0,
      "outputs": []
    },
    {
      "cell_type": "code",
      "metadata": {
        "colab_type": "code",
        "outputId": "e4c42ca9-4f5c-4089-e095-143236ae183a",
        "id": "Xdf0NHNVFTsq",
        "colab": {
          "base_uri": "https://localhost:8080/",
          "height": 289
        }
      },
      "source": [
        "X_train = adni_X.loc[:,features]\n",
        "X_test = clinic_X.loc[:,features]\n",
        "\n",
        "clf = RandomForestClassifier(n_estimators=300, max_features=.5, \n",
        "                            min_samples_leaf=3, bootstrap=True, random_state=0)\n",
        "clf.fit(X_train, adni_y.values.ravel())\n",
        "y_pred = clf.predict(X_test)\n",
        "print('AUC: ', roc_auc_score(clinic_y, y_pred))\n",
        "print('\\n')\n",
        "print(classification_report(clinic_y, y_pred, digits=3))\n",
        "print('\\n')\n",
        "print(confusion_matrix(clinic_y, y_pred))"
      ],
      "execution_count": 0,
      "outputs": [
        {
          "output_type": "stream",
          "text": [
            "AUC:  0.8424494382022473\n",
            "\n",
            "\n",
            "              precision    recall  f1-score   support\n",
            "\n",
            "         0.0      0.743     0.904     0.816       125\n",
            "         1.0      0.921     0.781     0.845       178\n",
            "\n",
            "    accuracy                          0.832       303\n",
            "   macro avg      0.832     0.842     0.830       303\n",
            "weighted avg      0.847     0.832     0.833       303\n",
            "\n",
            "\n",
            "\n",
            "[[113  12]\n",
            " [ 39 139]]\n"
          ],
          "name": "stdout"
        }
      ]
    },
    {
      "cell_type": "code",
      "metadata": {
        "colab_type": "code",
        "outputId": "4d92b8b5-f740-4a77-8960-1c4cfa8c4a4c",
        "id": "5tMG7sxOFTss",
        "colab": {
          "base_uri": "https://localhost:8080/",
          "height": 295
        }
      },
      "source": [
        "adni_proba = clf.predict_proba(X_test)\n",
        "roc = skplt.metrics.plot_roc(clinic_y, adni_proba)\n",
        "# fig = roc.get_figure()\n",
        "# fig.savefig(f'{dir}/Figures/roc_eff_row0_3', dpi=300)"
      ],
      "execution_count": 0,
      "outputs": [
        {
          "output_type": "display_data",
          "data": {
            "image/png": "[encoded data removed]",
            "text/plain": [
              "<Figure size 432x288 with 1 Axes>"
            ]
          },
          "metadata": {
            "tags": []
          }
        }
      ]
    },
    {
      "cell_type": "code",
      "metadata": {
        "colab_type": "code",
        "outputId": "9bc9362e-2d87-4c5e-f92e-1103d44c1c3f",
        "id": "0ky40AmyFTsw",
        "colab": {
          "base_uri": "https://localhost:8080/",
          "height": 289
        }
      },
      "source": [
        "clf = MLPClassifier(hidden_layer_sizes=(105,60,15), activation='relu', \n",
        "                      solver='sgd', alpha=.0001, learning_rate_init=.0005, \n",
        "                      max_iter=5000, random_state=0)\n",
        "clf.fit(X_train, adni_y.values.ravel())\n",
        "y_pred = clf.predict(X_test)\n",
        "print('AUC: ', roc_auc_score(clinic_y, y_pred))\n",
        "print('\\n')\n",
        "print(classification_report(clinic_y, y_pred, digits=3))\n",
        "print('\\n')\n",
        "print(confusion_matrix(clinic_y, y_pred))"
      ],
      "execution_count": 0,
      "outputs": [
        {
          "output_type": "stream",
          "text": [
            "AUC:  0.8175955056179776\n",
            "\n",
            "\n",
            "              precision    recall  f1-score   support\n",
            "\n",
            "         0.0      0.712     0.888     0.790       125\n",
            "         1.0      0.905     0.747     0.818       178\n",
            "\n",
            "    accuracy                          0.805       303\n",
            "   macro avg      0.808     0.818     0.804       303\n",
            "weighted avg      0.825     0.805     0.807       303\n",
            "\n",
            "\n",
            "\n",
            "[[111  14]\n",
            " [ 45 133]]\n"
          ],
          "name": "stdout"
        }
      ]
    },
    {
      "cell_type": "code",
      "metadata": {
        "colab_type": "code",
        "outputId": "b0bb30a3-04fa-4f92-eeda-cd8c7cc3fb51",
        "id": "jcrkbVEkFTsy",
        "colab": {
          "base_uri": "https://localhost:8080/",
          "height": 1000
        }
      },
      "source": [
        "from sklearn.tree import DecisionTreeClassifier\n",
        "\n",
        "clf = DecisionTreeClassifier(random_state=0)\n",
        "clf.fit(X_train, adni_y)\n",
        "\n",
        "import graphviz\n",
        "from sklearn.tree import export_graphviz\n",
        "\n",
        "dot = export_graphviz(clf, out_file=None,\n",
        "                     feature_names=features,\n",
        "                     class_names=['Normal','Impaired'],\n",
        "                     filled=True, rounded=True,\n",
        "                     rotate=True, max_depth=3)\n",
        "\n",
        "graph = graphviz.Source(dot)\n",
        "graph.render(filename='eff_tree_row11_6.gv', directory=f'{dir}/Output/', format='pdf')\n",
        "graph"
      ],
      "execution_count": 0,
      "outputs": [
        {
          "output_type": "execute_result",
          "data": {
            "text/plain": [
              "<graphviz.files.Source at 0x7f976a1aa048>"
            ],
            "image/svg+xml": "<?xml version=\"1.0\" encoding=\"UTF-8\" standalone=\"no\"?>\n<!DOCTYPE svg PUBLIC \"-//W3C//DTD SVG 1.1//EN\"\n \"http://www.w3.org/Graphics/SVG/1.1/DTD/svg11.dtd\">\n<!-- Generated by graphviz version 2.40.1 (20161225.0304)\n -->\n<!-- Title: Tree Pages: 1 -->\n<svg width=\"842pt\" height=\"773pt\"\n viewBox=\"0.00 0.00 842.00 773.00\" xmlns=\"http://www.w3.org/2000/svg\" xmlns:xlink=\"http://www.w3.org/1999/xlink\">\n<g id=\"graph0\" class=\"graph\" transform=\"scale(1 1) rotate(0) translate(4 769)\">\n<title>Tree</title>\n<polygon fill=\"#ffffff\" stroke=\"transparent\" points=\"-4,4 -4,-769 838,-769 838,4 -4,4\"/>\n<!-- 0 -->\n<g id=\"node1\" class=\"node\">\n<title>0</title>\n<path fill=\"#a8d4f4\" stroke=\"#000000\" d=\"M142,-425.5C142,-425.5 12,-425.5 12,-425.5 6,-425.5 0,-419.5 0,-413.5 0,-413.5 0,-354.5 0,-354.5 0,-348.5 6,-342.5 12,-342.5 12,-342.5 142,-342.5 142,-342.5 148,-342.5 154,-348.5 154,-354.5 154,-354.5 154,-413.5 154,-413.5 154,-419.5 148,-425.5 142,-425.5\"/>\n<text text-anchor=\"middle\" x=\"77\" y=\"-410.3\" font-family=\"Helvetica,sans-Serif\" font-size=\"14.00\" fill=\"#000000\">q_memory_cg &lt;= 0.5</text>\n<text text-anchor=\"middle\" x=\"77\" y=\"-395.3\" font-family=\"Helvetica,sans-Serif\" font-size=\"14.00\" fill=\"#000000\">gini = 0.461</text>\n<text text-anchor=\"middle\" x=\"77\" y=\"-380.3\" font-family=\"Helvetica,sans-Serif\" font-size=\"14.00\" fill=\"#000000\">samples = 1167</text>\n<text text-anchor=\"middle\" x=\"77\" y=\"-365.3\" font-family=\"Helvetica,sans-Serif\" font-size=\"14.00\" fill=\"#000000\">value = [420, 747]</text>\n<text text-anchor=\"middle\" x=\"77\" y=\"-350.3\" font-family=\"Helvetica,sans-Serif\" font-size=\"14.00\" fill=\"#000000\">class = Impaired</text>\n</g>\n<!-- 1 -->\n<g id=\"node2\" class=\"node\">\n<title>1</title>\n<path fill=\"#efb489\" stroke=\"#000000\" d=\"M325.5,-526.5C325.5,-526.5 208.5,-526.5 208.5,-526.5 202.5,-526.5 196.5,-520.5 196.5,-514.5 196.5,-514.5 196.5,-455.5 196.5,-455.5 196.5,-449.5 202.5,-443.5 208.5,-443.5 208.5,-443.5 325.5,-443.5 325.5,-443.5 331.5,-443.5 337.5,-449.5 337.5,-455.5 337.5,-455.5 337.5,-514.5 337.5,-514.5 337.5,-520.5 331.5,-526.5 325.5,-526.5\"/>\n<text text-anchor=\"middle\" x=\"267\" y=\"-511.3\" font-family=\"Helvetica,sans-Serif\" font-size=\"14.00\" fill=\"#000000\">moca_orient &lt;= 5.5</text>\n<text text-anchor=\"middle\" x=\"267\" y=\"-496.3\" font-family=\"Helvetica,sans-Serif\" font-size=\"14.00\" fill=\"#000000\">gini = 0.409</text>\n<text text-anchor=\"middle\" x=\"267\" y=\"-481.3\" font-family=\"Helvetica,sans-Serif\" font-size=\"14.00\" fill=\"#000000\">samples = 425</text>\n<text text-anchor=\"middle\" x=\"267\" y=\"-466.3\" font-family=\"Helvetica,sans-Serif\" font-size=\"14.00\" fill=\"#000000\">value = [303, 122]</text>\n<text text-anchor=\"middle\" x=\"267\" y=\"-451.3\" font-family=\"Helvetica,sans-Serif\" font-size=\"14.00\" fill=\"#000000\">class = Normal</text>\n</g>\n<!-- 0&#45;&gt;1 -->\n<g id=\"edge1\" class=\"edge\">\n<title>0&#45;&gt;1</title>\n<path fill=\"none\" stroke=\"#000000\" d=\"M154.0064,-424.935C164.9359,-430.7449 176.1953,-436.7301 187.1769,-442.5677\"/>\n<polygon fill=\"#000000\" stroke=\"#000000\" points=\"185.8499,-445.8261 196.3228,-447.4295 189.1356,-439.6451 185.8499,-445.8261\"/>\n<text text-anchor=\"middle\" x=\"172.4159\" y=\"-451.0412\" font-family=\"Helvetica,sans-Serif\" font-size=\"14.00\" fill=\"#000000\">True</text>\n</g>\n<!-- 36 -->\n<g id=\"node15\" class=\"node\">\n<title>36</title>\n<path fill=\"#5eafea\" stroke=\"#000000\" d=\"M332,-328.5C332,-328.5 202,-328.5 202,-328.5 196,-328.5 190,-322.5 190,-316.5 190,-316.5 190,-257.5 190,-257.5 190,-251.5 196,-245.5 202,-245.5 202,-245.5 332,-245.5 332,-245.5 338,-245.5 344,-251.5 344,-257.5 344,-257.5 344,-316.5 344,-316.5 344,-322.5 338,-328.5 332,-328.5\"/>\n<text text-anchor=\"middle\" x=\"267\" y=\"-313.3\" font-family=\"Helvetica,sans-Serif\" font-size=\"14.00\" fill=\"#000000\">q_memory_cg &lt;= 1.5</text>\n<text text-anchor=\"middle\" x=\"267\" y=\"-298.3\" font-family=\"Helvetica,sans-Serif\" font-size=\"14.00\" fill=\"#000000\">gini = 0.266</text>\n<text text-anchor=\"middle\" x=\"267\" y=\"-283.3\" font-family=\"Helvetica,sans-Serif\" font-size=\"14.00\" fill=\"#000000\">samples = 742</text>\n<text text-anchor=\"middle\" x=\"267\" y=\"-268.3\" font-family=\"Helvetica,sans-Serif\" font-size=\"14.00\" fill=\"#000000\">value = [117, 625]</text>\n<text text-anchor=\"middle\" x=\"267\" y=\"-253.3\" font-family=\"Helvetica,sans-Serif\" font-size=\"14.00\" fill=\"#000000\">class = Impaired</text>\n</g>\n<!-- 0&#45;&gt;36 -->\n<g id=\"edge14\" class=\"edge\">\n<title>0&#45;&gt;36</title>\n<path fill=\"none\" stroke=\"#000000\" d=\"M154.0064,-344.6862C162.8786,-340.1567 171.9681,-335.5163 180.95,-330.9308\"/>\n<polygon fill=\"#000000\" stroke=\"#000000\" points=\"182.569,-334.0341 189.884,-326.3698 179.386,-327.7995 182.569,-334.0341\"/>\n<text text-anchor=\"middle\" x=\"166.1014\" y=\"-314.9632\" font-family=\"Helvetica,sans-Serif\" font-size=\"14.00\" fill=\"#000000\">False</text>\n</g>\n<!-- 2 -->\n<g id=\"node3\" class=\"node\">\n<title>2</title>\n<path fill=\"#8fc8f0\" stroke=\"#000000\" d=\"M513.5,-678.5C513.5,-678.5 410.5,-678.5 410.5,-678.5 404.5,-678.5 398.5,-672.5 398.5,-666.5 398.5,-666.5 398.5,-607.5 398.5,-607.5 398.5,-601.5 404.5,-595.5 410.5,-595.5 410.5,-595.5 513.5,-595.5 513.5,-595.5 519.5,-595.5 525.5,-601.5 525.5,-607.5 525.5,-607.5 525.5,-666.5 525.5,-666.5 525.5,-672.5 519.5,-678.5 513.5,-678.5\"/>\n<text text-anchor=\"middle\" x=\"462\" y=\"-663.3\" font-family=\"Helvetica,sans-Serif\" font-size=\"14.00\" fill=\"#000000\">MMNAME &lt;= 1.5</text>\n<text text-anchor=\"middle\" x=\"462\" y=\"-648.3\" font-family=\"Helvetica,sans-Serif\" font-size=\"14.00\" fill=\"#000000\">gini = 0.422</text>\n<text text-anchor=\"middle\" x=\"462\" y=\"-633.3\" font-family=\"Helvetica,sans-Serif\" font-size=\"14.00\" fill=\"#000000\">samples = 33</text>\n<text text-anchor=\"middle\" x=\"462\" y=\"-618.3\" font-family=\"Helvetica,sans-Serif\" font-size=\"14.00\" fill=\"#000000\">value = [10, 23]</text>\n<text text-anchor=\"middle\" x=\"462\" y=\"-603.3\" font-family=\"Helvetica,sans-Serif\" font-size=\"14.00\" fill=\"#000000\">class = Impaired</text>\n</g>\n<!-- 1&#45;&gt;2 -->\n<g id=\"edge2\" class=\"edge\">\n<title>1&#45;&gt;2</title>\n<path fill=\"none\" stroke=\"#000000\" d=\"M320.2846,-526.5347C345.0106,-545.8083 374.5499,-568.8338 400.2449,-588.8627\"/>\n<polygon fill=\"#000000\" stroke=\"#000000\" points=\"398.4026,-591.8643 408.4413,-595.2517 402.7061,-586.3434 398.4026,-591.8643\"/>\n</g>\n<!-- 17 -->\n<g id=\"node8\" class=\"node\">\n<title>17</title>\n<path fill=\"#eeac7c\" stroke=\"#000000\" d=\"M531,-526.5C531,-526.5 393,-526.5 393,-526.5 387,-526.5 381,-520.5 381,-514.5 381,-514.5 381,-455.5 381,-455.5 381,-449.5 387,-443.5 393,-443.5 393,-443.5 531,-443.5 531,-443.5 537,-443.5 543,-449.5 543,-455.5 543,-455.5 543,-514.5 543,-514.5 543,-520.5 537,-526.5 531,-526.5\"/>\n<text text-anchor=\"middle\" x=\"462\" y=\"-511.3\" font-family=\"Helvetica,sans-Serif\" font-size=\"14.00\" fill=\"#000000\">q_language_cg &lt;= 0.5</text>\n<text text-anchor=\"middle\" x=\"462\" y=\"-496.3\" font-family=\"Helvetica,sans-Serif\" font-size=\"14.00\" fill=\"#000000\">gini = 0.378</text>\n<text text-anchor=\"middle\" x=\"462\" y=\"-481.3\" font-family=\"Helvetica,sans-Serif\" font-size=\"14.00\" fill=\"#000000\">samples = 392</text>\n<text text-anchor=\"middle\" x=\"462\" y=\"-466.3\" font-family=\"Helvetica,sans-Serif\" font-size=\"14.00\" fill=\"#000000\">value = [293, 99]</text>\n<text text-anchor=\"middle\" x=\"462\" y=\"-451.3\" font-family=\"Helvetica,sans-Serif\" font-size=\"14.00\" fill=\"#000000\">class = Normal</text>\n</g>\n<!-- 1&#45;&gt;17 -->\n<g id=\"edge7\" class=\"edge\">\n<title>1&#45;&gt;17</title>\n<path fill=\"none\" stroke=\"#000000\" d=\"M337.6752,-485C348.4402,-485 359.6783,-485 370.8063,-485\"/>\n<polygon fill=\"#000000\" stroke=\"#000000\" points=\"370.9784,-488.5001 380.9783,-485 370.9783,-481.5001 370.9784,-488.5001\"/>\n</g>\n<!-- 3 -->\n<g id=\"node4\" class=\"node\">\n<title>3</title>\n<path fill=\"#e58139\" stroke=\"#000000\" d=\"M706.5,-765C706.5,-765 617.5,-765 617.5,-765 611.5,-765 605.5,-759 605.5,-753 605.5,-753 605.5,-709 605.5,-709 605.5,-703 611.5,-697 617.5,-697 617.5,-697 706.5,-697 706.5,-697 712.5,-697 718.5,-703 718.5,-709 718.5,-709 718.5,-753 718.5,-753 718.5,-759 712.5,-765 706.5,-765\"/>\n<text text-anchor=\"middle\" x=\"662\" y=\"-749.8\" font-family=\"Helvetica,sans-Serif\" font-size=\"14.00\" fill=\"#000000\">gini = 0.0</text>\n<text text-anchor=\"middle\" x=\"662\" y=\"-734.8\" font-family=\"Helvetica,sans-Serif\" font-size=\"14.00\" fill=\"#000000\">samples = 1</text>\n<text text-anchor=\"middle\" x=\"662\" y=\"-719.8\" font-family=\"Helvetica,sans-Serif\" font-size=\"14.00\" fill=\"#000000\">value = [1, 0]</text>\n<text text-anchor=\"middle\" x=\"662\" y=\"-704.8\" font-family=\"Helvetica,sans-Serif\" font-size=\"14.00\" fill=\"#000000\">class = Normal</text>\n</g>\n<!-- 2&#45;&gt;3 -->\n<g id=\"edge3\" class=\"edge\">\n<title>2&#45;&gt;3</title>\n<path fill=\"none\" stroke=\"#000000\" d=\"M525.5561,-666.8713C548.0747,-677.4551 573.4498,-689.3814 596.1549,-700.0528\"/>\n<polygon fill=\"#000000\" stroke=\"#000000\" points=\"594.8342,-703.2993 605.3732,-704.3854 597.8118,-696.9642 594.8342,-703.2993\"/>\n</g>\n<!-- 4 -->\n<g id=\"node5\" class=\"node\">\n<title>4</title>\n<path fill=\"#86c3ef\" stroke=\"#000000\" d=\"M732,-678.5C732,-678.5 592,-678.5 592,-678.5 586,-678.5 580,-672.5 580,-666.5 580,-666.5 580,-607.5 580,-607.5 580,-601.5 586,-595.5 592,-595.5 592,-595.5 732,-595.5 732,-595.5 738,-595.5 744,-601.5 744,-607.5 744,-607.5 744,-666.5 744,-666.5 744,-672.5 738,-678.5 732,-678.5\"/>\n<text text-anchor=\"middle\" x=\"662\" y=\"-663.3\" font-family=\"Helvetica,sans-Serif\" font-size=\"14.00\" fill=\"#000000\">q_outsideact_pt &lt;= 1.5</text>\n<text text-anchor=\"middle\" x=\"662\" y=\"-648.3\" font-family=\"Helvetica,sans-Serif\" font-size=\"14.00\" fill=\"#000000\">gini = 0.404</text>\n<text text-anchor=\"middle\" x=\"662\" y=\"-633.3\" font-family=\"Helvetica,sans-Serif\" font-size=\"14.00\" fill=\"#000000\">samples = 32</text>\n<text text-anchor=\"middle\" x=\"662\" y=\"-618.3\" font-family=\"Helvetica,sans-Serif\" font-size=\"14.00\" fill=\"#000000\">value = [9, 23]</text>\n<text text-anchor=\"middle\" x=\"662\" y=\"-603.3\" font-family=\"Helvetica,sans-Serif\" font-size=\"14.00\" fill=\"#000000\">class = Impaired</text>\n</g>\n<!-- 2&#45;&gt;4 -->\n<g id=\"edge4\" class=\"edge\">\n<title>2&#45;&gt;4</title>\n<path fill=\"none\" stroke=\"#000000\" d=\"M525.5561,-637C539.5891,-637 554.7314,-637 569.6456,-637\"/>\n<polygon fill=\"#000000\" stroke=\"#000000\" points=\"569.918,-640.5001 579.918,-637 569.9179,-633.5001 569.918,-640.5001\"/>\n</g>\n<!-- 5 -->\n<g id=\"node6\" class=\"node\">\n<title>5</title>\n<path fill=\"#c0c0c0\" stroke=\"#000000\" d=\"M822,-708C822,-708 792,-708 792,-708 786,-708 780,-702 780,-696 780,-696 780,-684 780,-684 780,-678 786,-672 792,-672 792,-672 822,-672 822,-672 828,-672 834,-678 834,-684 834,-684 834,-696 834,-696 834,-702 828,-708 822,-708\"/>\n<text text-anchor=\"middle\" x=\"807\" y=\"-686.3\" font-family=\"Helvetica,sans-Serif\" font-size=\"14.00\" fill=\"#000000\">(...)</text>\n</g>\n<!-- 4&#45;&gt;5 -->\n<g id=\"edge5\" class=\"edge\">\n<title>4&#45;&gt;5</title>\n<path fill=\"none\" stroke=\"#000000\" d=\"M744.2442,-667.0617C753.3328,-670.3837 762.2133,-673.6297 770.3004,-676.5856\"/>\n<polygon fill=\"#000000\" stroke=\"#000000\" points=\"769.1381,-679.8872 779.7319,-680.0331 771.5413,-673.3127 769.1381,-679.8872\"/>\n</g>\n<!-- 16 -->\n<g id=\"node7\" class=\"node\">\n<title>16</title>\n<path fill=\"#c0c0c0\" stroke=\"#000000\" d=\"M822,-654C822,-654 792,-654 792,-654 786,-654 780,-648 780,-642 780,-642 780,-630 780,-630 780,-624 786,-618 792,-618 792,-618 822,-618 822,-618 828,-618 834,-624 834,-630 834,-630 834,-642 834,-642 834,-648 828,-654 822,-654\"/>\n<text text-anchor=\"middle\" x=\"807\" y=\"-632.3\" font-family=\"Helvetica,sans-Serif\" font-size=\"14.00\" fill=\"#000000\">(...)</text>\n</g>\n<!-- 4&#45;&gt;16 -->\n<g id=\"edge6\" class=\"edge\">\n<title>4&#45;&gt;16</title>\n<path fill=\"none\" stroke=\"#000000\" d=\"M744.2442,-636.4328C753.0332,-636.3722 761.6275,-636.3129 769.498,-636.2586\"/>\n<polygon fill=\"#000000\" stroke=\"#000000\" points=\"769.7563,-639.757 779.7319,-636.1881 769.708,-632.7572 769.7563,-639.757\"/>\n</g>\n<!-- 18 -->\n<g id=\"node9\" class=\"node\">\n<title>18</title>\n<path fill=\"#eda978\" stroke=\"#000000\" d=\"M732,-577.5C732,-577.5 592,-577.5 592,-577.5 586,-577.5 580,-571.5 580,-565.5 580,-565.5 580,-506.5 580,-506.5 580,-500.5 586,-494.5 592,-494.5 592,-494.5 732,-494.5 732,-494.5 738,-494.5 744,-500.5 744,-506.5 744,-506.5 744,-565.5 744,-565.5 744,-571.5 738,-577.5 732,-577.5\"/>\n<text text-anchor=\"middle\" x=\"662\" y=\"-562.3\" font-family=\"Helvetica,sans-Serif\" font-size=\"14.00\" fill=\"#000000\">q_outsideact_pt &lt;= 1.5</text>\n<text text-anchor=\"middle\" x=\"662\" y=\"-547.3\" font-family=\"Helvetica,sans-Serif\" font-size=\"14.00\" fill=\"#000000\">gini = 0.366</text>\n<text text-anchor=\"middle\" x=\"662\" y=\"-532.3\" font-family=\"Helvetica,sans-Serif\" font-size=\"14.00\" fill=\"#000000\">samples = 385</text>\n<text text-anchor=\"middle\" x=\"662\" y=\"-517.3\" font-family=\"Helvetica,sans-Serif\" font-size=\"14.00\" fill=\"#000000\">value = [292, 93]</text>\n<text text-anchor=\"middle\" x=\"662\" y=\"-502.3\" font-family=\"Helvetica,sans-Serif\" font-size=\"14.00\" fill=\"#000000\">class = Normal</text>\n</g>\n<!-- 17&#45;&gt;18 -->\n<g id=\"edge8\" class=\"edge\">\n<title>17&#45;&gt;18</title>\n<path fill=\"none\" stroke=\"#000000\" d=\"M543.0593,-505.6701C551.9654,-507.9412 561.0795,-510.2653 570.1049,-512.5668\"/>\n<polygon fill=\"#000000\" stroke=\"#000000\" points=\"569.2949,-515.9721 579.8497,-515.0517 571.0246,-509.1892 569.2949,-515.9721\"/>\n</g>\n<!-- 33 -->\n<g id=\"node12\" class=\"node\">\n<title>33</title>\n<path fill=\"#5aade9\" stroke=\"#000000\" d=\"M711,-476.5C711,-476.5 613,-476.5 613,-476.5 607,-476.5 601,-470.5 601,-464.5 601,-464.5 601,-405.5 601,-405.5 601,-399.5 607,-393.5 613,-393.5 613,-393.5 711,-393.5 711,-393.5 717,-393.5 723,-399.5 723,-405.5 723,-405.5 723,-464.5 723,-464.5 723,-470.5 717,-476.5 711,-476.5\"/>\n<text text-anchor=\"middle\" x=\"662\" y=\"-461.3\" font-family=\"Helvetica,sans-Serif\" font-size=\"14.00\" fill=\"#000000\">PTHAND &lt;= 1.5</text>\n<text text-anchor=\"middle\" x=\"662\" y=\"-446.3\" font-family=\"Helvetica,sans-Serif\" font-size=\"14.00\" fill=\"#000000\">gini = 0.245</text>\n<text text-anchor=\"middle\" x=\"662\" y=\"-431.3\" font-family=\"Helvetica,sans-Serif\" font-size=\"14.00\" fill=\"#000000\">samples = 7</text>\n<text text-anchor=\"middle\" x=\"662\" y=\"-416.3\" font-family=\"Helvetica,sans-Serif\" font-size=\"14.00\" fill=\"#000000\">value = [1, 6]</text>\n<text text-anchor=\"middle\" x=\"662\" y=\"-401.3\" font-family=\"Helvetica,sans-Serif\" font-size=\"14.00\" fill=\"#000000\">class = Impaired</text>\n</g>\n<!-- 17&#45;&gt;33 -->\n<g id=\"edge11\" class=\"edge\">\n<title>17&#45;&gt;33</title>\n<path fill=\"none\" stroke=\"#000000\" d=\"M543.0593,-464.7352C558.8699,-460.7825 575.3362,-456.6659 590.7983,-452.8004\"/>\n<polygon fill=\"#000000\" stroke=\"#000000\" points=\"591.9446,-456.1217 600.7971,-450.3007 590.2468,-449.3307 591.9446,-456.1217\"/>\n</g>\n<!-- 19 -->\n<g id=\"node10\" class=\"node\">\n<title>19</title>\n<path fill=\"#c0c0c0\" stroke=\"#000000\" d=\"M822,-598C822,-598 792,-598 792,-598 786,-598 780,-592 780,-586 780,-586 780,-574 780,-574 780,-568 786,-562 792,-562 792,-562 822,-562 822,-562 828,-562 834,-568 834,-574 834,-574 834,-586 834,-586 834,-592 828,-598 822,-598\"/>\n<text text-anchor=\"middle\" x=\"807\" y=\"-576.3\" font-family=\"Helvetica,sans-Serif\" font-size=\"14.00\" fill=\"#000000\">(...)</text>\n</g>\n<!-- 18&#45;&gt;19 -->\n<g id=\"edge9\" class=\"edge\">\n<title>18&#45;&gt;19</title>\n<path fill=\"none\" stroke=\"#000000\" d=\"M744.2442,-560.9569C753.2329,-563.6845 762.0181,-566.3503 770.0335,-568.7826\"/>\n<polygon fill=\"#000000\" stroke=\"#000000\" points=\"769.1465,-572.1709 779.7319,-571.7256 771.1791,-565.4725 769.1465,-572.1709\"/>\n</g>\n<!-- 30 -->\n<g id=\"node11\" class=\"node\">\n<title>30</title>\n<path fill=\"#c0c0c0\" stroke=\"#000000\" d=\"M822,-544C822,-544 792,-544 792,-544 786,-544 780,-538 780,-532 780,-532 780,-520 780,-520 780,-514 786,-508 792,-508 792,-508 822,-508 822,-508 828,-508 834,-514 834,-520 834,-520 834,-532 834,-532 834,-538 828,-544 822,-544\"/>\n<text text-anchor=\"middle\" x=\"807\" y=\"-522.3\" font-family=\"Helvetica,sans-Serif\" font-size=\"14.00\" fill=\"#000000\">(...)</text>\n</g>\n<!-- 18&#45;&gt;30 -->\n<g id=\"edge10\" class=\"edge\">\n<title>18&#45;&gt;30</title>\n<path fill=\"none\" stroke=\"#000000\" d=\"M744.2442,-530.328C753.0332,-529.7219 761.6275,-529.1291 769.498,-528.5863\"/>\n<polygon fill=\"#000000\" stroke=\"#000000\" points=\"769.9965,-532.0604 779.7319,-527.8806 769.5148,-525.077 769.9965,-532.0604\"/>\n</g>\n<!-- 34 -->\n<g id=\"node13\" class=\"node\">\n<title>34</title>\n<path fill=\"#c0c0c0\" stroke=\"#000000\" d=\"M822,-487C822,-487 792,-487 792,-487 786,-487 780,-481 780,-475 780,-475 780,-463 780,-463 780,-457 786,-451 792,-451 792,-451 822,-451 822,-451 828,-451 834,-457 834,-463 834,-463 834,-475 834,-475 834,-481 828,-487 822,-487\"/>\n<text text-anchor=\"middle\" x=\"807\" y=\"-465.3\" font-family=\"Helvetica,sans-Serif\" font-size=\"14.00\" fill=\"#000000\">(...)</text>\n</g>\n<!-- 33&#45;&gt;34 -->\n<g id=\"edge12\" class=\"edge\">\n<title>33&#45;&gt;34</title>\n<path fill=\"none\" stroke=\"#000000\" d=\"M723.0728,-449.3205C739.0167,-453.0591 755.7169,-456.975 769.9838,-460.3203\"/>\n<polygon fill=\"#000000\" stroke=\"#000000\" points=\"769.3617,-463.7693 779.8967,-462.6447 770.9598,-456.9542 769.3617,-463.7693\"/>\n</g>\n<!-- 35 -->\n<g id=\"node14\" class=\"node\">\n<title>35</title>\n<path fill=\"#c0c0c0\" stroke=\"#000000\" d=\"M822,-433C822,-433 792,-433 792,-433 786,-433 780,-427 780,-421 780,-421 780,-409 780,-409 780,-403 786,-397 792,-397 792,-397 822,-397 822,-397 828,-397 834,-403 834,-409 834,-409 834,-421 834,-421 834,-427 828,-433 822,-433\"/>\n<text text-anchor=\"middle\" x=\"807\" y=\"-411.3\" font-family=\"Helvetica,sans-Serif\" font-size=\"14.00\" fill=\"#000000\">(...)</text>\n</g>\n<!-- 33&#45;&gt;35 -->\n<g id=\"edge13\" class=\"edge\">\n<title>33&#45;&gt;35</title>\n<path fill=\"none\" stroke=\"#000000\" d=\"M723.0728,-426.5762C739.0167,-424.377 755.7169,-422.0735 769.9838,-420.1057\"/>\n<polygon fill=\"#000000\" stroke=\"#000000\" points=\"770.4688,-423.572 779.8967,-418.7384 769.5122,-416.6377 770.4688,-423.572\"/>\n</g>\n<!-- 37 -->\n<g id=\"node16\" class=\"node\">\n<title>37</title>\n<path fill=\"#83c2ef\" stroke=\"#000000\" d=\"M532,-328.5C532,-328.5 392,-328.5 392,-328.5 386,-328.5 380,-322.5 380,-316.5 380,-316.5 380,-257.5 380,-257.5 380,-251.5 386,-245.5 392,-245.5 392,-245.5 532,-245.5 532,-245.5 538,-245.5 544,-251.5 544,-257.5 544,-257.5 544,-316.5 544,-316.5 544,-322.5 538,-328.5 532,-328.5\"/>\n<text text-anchor=\"middle\" x=\"462\" y=\"-313.3\" font-family=\"Helvetica,sans-Serif\" font-size=\"14.00\" fill=\"#000000\">q_outsideact_pt &lt;= 0.5</text>\n<text text-anchor=\"middle\" x=\"462\" y=\"-298.3\" font-family=\"Helvetica,sans-Serif\" font-size=\"14.00\" fill=\"#000000\">gini = 0.397</text>\n<text text-anchor=\"middle\" x=\"462\" y=\"-283.3\" font-family=\"Helvetica,sans-Serif\" font-size=\"14.00\" fill=\"#000000\">samples = 370</text>\n<text text-anchor=\"middle\" x=\"462\" y=\"-268.3\" font-family=\"Helvetica,sans-Serif\" font-size=\"14.00\" fill=\"#000000\">value = [101, 269]</text>\n<text text-anchor=\"middle\" x=\"462\" y=\"-253.3\" font-family=\"Helvetica,sans-Serif\" font-size=\"14.00\" fill=\"#000000\">class = Impaired</text>\n</g>\n<!-- 36&#45;&gt;37 -->\n<g id=\"edge15\" class=\"edge\">\n<title>36&#45;&gt;37</title>\n<path fill=\"none\" stroke=\"#000000\" d=\"M344.0692,-287C352.4859,-287 361.1153,-287 369.691,-287\"/>\n<polygon fill=\"#000000\" stroke=\"#000000\" points=\"369.7176,-290.5001 379.7175,-287 369.7175,-283.5001 369.7176,-290.5001\"/>\n</g>\n<!-- 84 -->\n<g id=\"node23\" class=\"node\">\n<title>84</title>\n<path fill=\"#42a1e6\" stroke=\"#000000\" d=\"M513.5,-180.5C513.5,-180.5 410.5,-180.5 410.5,-180.5 404.5,-180.5 398.5,-174.5 398.5,-168.5 398.5,-168.5 398.5,-109.5 398.5,-109.5 398.5,-103.5 404.5,-97.5 410.5,-97.5 410.5,-97.5 513.5,-97.5 513.5,-97.5 519.5,-97.5 525.5,-103.5 525.5,-109.5 525.5,-109.5 525.5,-168.5 525.5,-168.5 525.5,-174.5 519.5,-180.5 513.5,-180.5\"/>\n<text text-anchor=\"middle\" x=\"462\" y=\"-165.3\" font-family=\"Helvetica,sans-Serif\" font-size=\"14.00\" fill=\"#000000\">MMNAME &lt;= 1.5</text>\n<text text-anchor=\"middle\" x=\"462\" y=\"-150.3\" font-family=\"Helvetica,sans-Serif\" font-size=\"14.00\" fill=\"#000000\">gini = 0.082</text>\n<text text-anchor=\"middle\" x=\"462\" y=\"-135.3\" font-family=\"Helvetica,sans-Serif\" font-size=\"14.00\" fill=\"#000000\">samples = 372</text>\n<text text-anchor=\"middle\" x=\"462\" y=\"-120.3\" font-family=\"Helvetica,sans-Serif\" font-size=\"14.00\" fill=\"#000000\">value = [16, 356]</text>\n<text text-anchor=\"middle\" x=\"462\" y=\"-105.3\" font-family=\"Helvetica,sans-Serif\" font-size=\"14.00\" fill=\"#000000\">class = Impaired</text>\n</g>\n<!-- 36&#45;&gt;84 -->\n<g id=\"edge22\" class=\"edge\">\n<title>36&#45;&gt;84</title>\n<path fill=\"none\" stroke=\"#000000\" d=\"M321.8373,-245.3799C345.8236,-227.1749 374.1009,-205.7132 398.9516,-186.8521\"/>\n<polygon fill=\"#000000\" stroke=\"#000000\" points=\"401.3872,-189.3975 407.2368,-180.5639 397.1552,-183.8216 401.3872,-189.3975\"/>\n</g>\n<!-- 38 -->\n<g id=\"node17\" class=\"node\">\n<title>38</title>\n<path fill=\"#9acdf2\" stroke=\"#000000\" d=\"M731,-375.5C731,-375.5 593,-375.5 593,-375.5 587,-375.5 581,-369.5 581,-363.5 581,-363.5 581,-304.5 581,-304.5 581,-298.5 587,-292.5 593,-292.5 593,-292.5 731,-292.5 731,-292.5 737,-292.5 743,-298.5 743,-304.5 743,-304.5 743,-363.5 743,-363.5 743,-369.5 737,-375.5 731,-375.5\"/>\n<text text-anchor=\"middle\" x=\"662\" y=\"-360.3\" font-family=\"Helvetica,sans-Serif\" font-size=\"14.00\" fill=\"#000000\">q_language_cg &lt;= 0.5</text>\n<text text-anchor=\"middle\" x=\"662\" y=\"-345.3\" font-family=\"Helvetica,sans-Serif\" font-size=\"14.00\" fill=\"#000000\">gini = 0.442</text>\n<text text-anchor=\"middle\" x=\"662\" y=\"-330.3\" font-family=\"Helvetica,sans-Serif\" font-size=\"14.00\" fill=\"#000000\">samples = 285</text>\n<text text-anchor=\"middle\" x=\"662\" y=\"-315.3\" font-family=\"Helvetica,sans-Serif\" font-size=\"14.00\" fill=\"#000000\">value = [94, 191]</text>\n<text text-anchor=\"middle\" x=\"662\" y=\"-300.3\" font-family=\"Helvetica,sans-Serif\" font-size=\"14.00\" fill=\"#000000\">class = Impaired</text>\n</g>\n<!-- 37&#45;&gt;38 -->\n<g id=\"edge16\" class=\"edge\">\n<title>37&#45;&gt;38</title>\n<path fill=\"none\" stroke=\"#000000\" d=\"M544.2135,-306.3202C552.9808,-308.3805 561.9366,-310.4851 570.7995,-312.5679\"/>\n<polygon fill=\"#000000\" stroke=\"#000000\" points=\"570.2159,-316.026 580.7515,-314.9066 571.8174,-309.2117 570.2159,-316.026\"/>\n</g>\n<!-- 67 -->\n<g id=\"node20\" class=\"node\">\n<title>67</title>\n<path fill=\"#4ba6e7\" stroke=\"#000000\" d=\"M711,-274.5C711,-274.5 613,-274.5 613,-274.5 607,-274.5 601,-268.5 601,-262.5 601,-262.5 601,-203.5 601,-203.5 601,-197.5 607,-191.5 613,-191.5 613,-191.5 711,-191.5 711,-191.5 717,-191.5 723,-197.5 723,-203.5 723,-203.5 723,-262.5 723,-262.5 723,-268.5 717,-274.5 711,-274.5\"/>\n<text text-anchor=\"middle\" x=\"662\" y=\"-259.3\" font-family=\"Helvetica,sans-Serif\" font-size=\"14.00\" fill=\"#000000\">PTHAND &lt;= 1.5</text>\n<text text-anchor=\"middle\" x=\"662\" y=\"-244.3\" font-family=\"Helvetica,sans-Serif\" font-size=\"14.00\" fill=\"#000000\">gini = 0.151</text>\n<text text-anchor=\"middle\" x=\"662\" y=\"-229.3\" font-family=\"Helvetica,sans-Serif\" font-size=\"14.00\" fill=\"#000000\">samples = 85</text>\n<text text-anchor=\"middle\" x=\"662\" y=\"-214.3\" font-family=\"Helvetica,sans-Serif\" font-size=\"14.00\" fill=\"#000000\">value = [7, 78]</text>\n<text text-anchor=\"middle\" x=\"662\" y=\"-199.3\" font-family=\"Helvetica,sans-Serif\" font-size=\"14.00\" fill=\"#000000\">class = Impaired</text>\n</g>\n<!-- 37&#45;&gt;67 -->\n<g id=\"edge19\" class=\"edge\">\n<title>37&#45;&gt;67</title>\n<path fill=\"none\" stroke=\"#000000\" d=\"M544.2135,-264.8024C559.7684,-260.6025 575.9166,-256.2425 591.0866,-252.1466\"/>\n<polygon fill=\"#000000\" stroke=\"#000000\" points=\"592.1562,-255.4832 600.8982,-249.4975 590.3315,-248.7252 592.1562,-255.4832\"/>\n</g>\n<!-- 39 -->\n<g id=\"node18\" class=\"node\">\n<title>39</title>\n<path fill=\"#c0c0c0\" stroke=\"#000000\" d=\"M822,-373C822,-373 792,-373 792,-373 786,-373 780,-367 780,-361 780,-361 780,-349 780,-349 780,-343 786,-337 792,-337 792,-337 822,-337 822,-337 828,-337 834,-343 834,-349 834,-349 834,-361 834,-361 834,-367 828,-373 822,-373\"/>\n<text text-anchor=\"middle\" x=\"807\" y=\"-351.3\" font-family=\"Helvetica,sans-Serif\" font-size=\"14.00\" fill=\"#000000\">(...)</text>\n</g>\n<!-- 38&#45;&gt;39 -->\n<g id=\"edge17\" class=\"edge\">\n<title>38&#45;&gt;39</title>\n<path fill=\"none\" stroke=\"#000000\" d=\"M743.4009,-345.7891C752.6606,-347.1302 761.7236,-348.4427 769.9734,-349.6375\"/>\n<polygon fill=\"#000000\" stroke=\"#000000\" points=\"769.5434,-353.1117 779.9418,-351.0812 770.5468,-346.184 769.5434,-353.1117\"/>\n</g>\n<!-- 50 -->\n<g id=\"node19\" class=\"node\">\n<title>50</title>\n<path fill=\"#c0c0c0\" stroke=\"#000000\" d=\"M822,-319C822,-319 792,-319 792,-319 786,-319 780,-313 780,-307 780,-307 780,-295 780,-295 780,-289 786,-283 792,-283 792,-283 822,-283 822,-283 828,-283 834,-289 834,-295 834,-295 834,-307 834,-307 834,-313 828,-319 822,-319\"/>\n<text text-anchor=\"middle\" x=\"807\" y=\"-297.3\" font-family=\"Helvetica,sans-Serif\" font-size=\"14.00\" fill=\"#000000\">(...)</text>\n</g>\n<!-- 38&#45;&gt;50 -->\n<g id=\"edge18\" class=\"edge\">\n<title>38&#45;&gt;50</title>\n<path fill=\"none\" stroke=\"#000000\" d=\"M743.4009,-315.4743C752.6606,-313.3669 761.7236,-311.3043 769.9734,-309.4267\"/>\n<polygon fill=\"#000000\" stroke=\"#000000\" points=\"770.9679,-312.79 779.9418,-307.1581 769.4144,-305.9645 770.9679,-312.79\"/>\n</g>\n<!-- 68 -->\n<g id=\"node21\" class=\"node\">\n<title>68</title>\n<path fill=\"#c0c0c0\" stroke=\"#000000\" d=\"M822,-252C822,-252 792,-252 792,-252 786,-252 780,-246 780,-240 780,-240 780,-228 780,-228 780,-222 786,-216 792,-216 792,-216 822,-216 822,-216 828,-216 834,-222 834,-228 834,-228 834,-240 834,-240 834,-246 828,-252 822,-252\"/>\n<text text-anchor=\"middle\" x=\"807\" y=\"-230.3\" font-family=\"Helvetica,sans-Serif\" font-size=\"14.00\" fill=\"#000000\">(...)</text>\n</g>\n<!-- 67&#45;&gt;68 -->\n<g id=\"edge20\" class=\"edge\">\n<title>67&#45;&gt;68</title>\n<path fill=\"none\" stroke=\"#000000\" d=\"M723.0728,-233.4212C738.8619,-233.5301 755.3927,-233.6441 769.5676,-233.7418\"/>\n<polygon fill=\"#000000\" stroke=\"#000000\" points=\"769.8728,-237.2439 779.8967,-233.8131 769.9211,-230.2441 769.8728,-237.2439\"/>\n</g>\n<!-- 77 -->\n<g id=\"node22\" class=\"node\">\n<title>77</title>\n<path fill=\"#c0c0c0\" stroke=\"#000000\" d=\"M822,-198C822,-198 792,-198 792,-198 786,-198 780,-192 780,-186 780,-186 780,-174 780,-174 780,-168 786,-162 792,-162 792,-162 822,-162 822,-162 828,-162 834,-168 834,-174 834,-174 834,-186 834,-186 834,-192 828,-198 822,-198\"/>\n<text text-anchor=\"middle\" x=\"807\" y=\"-176.3\" font-family=\"Helvetica,sans-Serif\" font-size=\"14.00\" fill=\"#000000\">(...)</text>\n</g>\n<!-- 67&#45;&gt;77 -->\n<g id=\"edge21\" class=\"edge\">\n<title>67&#45;&gt;77</title>\n<path fill=\"none\" stroke=\"#000000\" d=\"M723.0728,-210.6768C739.1715,-204.7925 756.0412,-198.6263 770.3987,-193.3784\"/>\n<polygon fill=\"#000000\" stroke=\"#000000\" points=\"771.706,-196.6271 779.8967,-189.9067 769.3029,-190.0525 771.706,-196.6271\"/>\n</g>\n<!-- 85 -->\n<g id=\"node24\" class=\"node\">\n<title>85</title>\n<path fill=\"#e58139\" stroke=\"#000000\" d=\"M706.5,-173C706.5,-173 617.5,-173 617.5,-173 611.5,-173 605.5,-167 605.5,-161 605.5,-161 605.5,-117 605.5,-117 605.5,-111 611.5,-105 617.5,-105 617.5,-105 706.5,-105 706.5,-105 712.5,-105 718.5,-111 718.5,-117 718.5,-117 718.5,-161 718.5,-161 718.5,-167 712.5,-173 706.5,-173\"/>\n<text text-anchor=\"middle\" x=\"662\" y=\"-157.8\" font-family=\"Helvetica,sans-Serif\" font-size=\"14.00\" fill=\"#000000\">gini = 0.0</text>\n<text text-anchor=\"middle\" x=\"662\" y=\"-142.8\" font-family=\"Helvetica,sans-Serif\" font-size=\"14.00\" fill=\"#000000\">samples = 1</text>\n<text text-anchor=\"middle\" x=\"662\" y=\"-127.8\" font-family=\"Helvetica,sans-Serif\" font-size=\"14.00\" fill=\"#000000\">value = [1, 0]</text>\n<text text-anchor=\"middle\" x=\"662\" y=\"-112.8\" font-family=\"Helvetica,sans-Serif\" font-size=\"14.00\" fill=\"#000000\">class = Normal</text>\n</g>\n<!-- 84&#45;&gt;85 -->\n<g id=\"edge23\" class=\"edge\">\n<title>84&#45;&gt;85</title>\n<path fill=\"none\" stroke=\"#000000\" d=\"M525.5561,-139C547.7745,-139 572.7736,-139 595.2453,-139\"/>\n<polygon fill=\"#000000\" stroke=\"#000000\" points=\"595.3733,-142.5001 605.3732,-139 595.3732,-135.5001 595.3733,-142.5001\"/>\n</g>\n<!-- 86 -->\n<g id=\"node25\" class=\"node\">\n<title>86</title>\n<path fill=\"#41a1e6\" stroke=\"#000000\" d=\"M720.5,-86.5C720.5,-86.5 603.5,-86.5 603.5,-86.5 597.5,-86.5 591.5,-80.5 591.5,-74.5 591.5,-74.5 591.5,-15.5 591.5,-15.5 591.5,-9.5 597.5,-3.5 603.5,-3.5 603.5,-3.5 720.5,-3.5 720.5,-3.5 726.5,-3.5 732.5,-9.5 732.5,-15.5 732.5,-15.5 732.5,-74.5 732.5,-74.5 732.5,-80.5 726.5,-86.5 720.5,-86.5\"/>\n<text text-anchor=\"middle\" x=\"662\" y=\"-71.3\" font-family=\"Helvetica,sans-Serif\" font-size=\"14.00\" fill=\"#000000\">moca_orient &lt;= 5.5</text>\n<text text-anchor=\"middle\" x=\"662\" y=\"-56.3\" font-family=\"Helvetica,sans-Serif\" font-size=\"14.00\" fill=\"#000000\">gini = 0.078</text>\n<text text-anchor=\"middle\" x=\"662\" y=\"-41.3\" font-family=\"Helvetica,sans-Serif\" font-size=\"14.00\" fill=\"#000000\">samples = 371</text>\n<text text-anchor=\"middle\" x=\"662\" y=\"-26.3\" font-family=\"Helvetica,sans-Serif\" font-size=\"14.00\" fill=\"#000000\">value = [15, 356]</text>\n<text text-anchor=\"middle\" x=\"662\" y=\"-11.3\" font-family=\"Helvetica,sans-Serif\" font-size=\"14.00\" fill=\"#000000\">class = Impaired</text>\n</g>\n<!-- 84&#45;&gt;86 -->\n<g id=\"edge24\" class=\"edge\">\n<title>84&#45;&gt;86</title>\n<path fill=\"none\" stroke=\"#000000\" d=\"M525.5561,-109.1287C543.5442,-100.6742 563.355,-91.3632 582.1715,-82.5194\"/>\n<polygon fill=\"#000000\" stroke=\"#000000\" points=\"583.7551,-85.6425 591.3165,-78.2212 580.7775,-79.3073 583.7551,-85.6425\"/>\n</g>\n<!-- 87 -->\n<g id=\"node26\" class=\"node\">\n<title>87</title>\n<path fill=\"#c0c0c0\" stroke=\"#000000\" d=\"M822,-90C822,-90 792,-90 792,-90 786,-90 780,-84 780,-78 780,-78 780,-66 780,-66 780,-60 786,-54 792,-54 792,-54 822,-54 822,-54 828,-54 834,-60 834,-66 834,-66 834,-78 834,-78 834,-84 828,-90 822,-90\"/>\n<text text-anchor=\"middle\" x=\"807\" y=\"-68.3\" font-family=\"Helvetica,sans-Serif\" font-size=\"14.00\" fill=\"#000000\">(...)</text>\n</g>\n<!-- 86&#45;&gt;87 -->\n<g id=\"edge25\" class=\"edge\">\n<title>86&#45;&gt;87</title>\n<path fill=\"none\" stroke=\"#000000\" d=\"M732.8009,-58.1836C745.5703,-60.5614 758.41,-62.9522 769.7343,-65.0609\"/>\n<polygon fill=\"#000000\" stroke=\"#000000\" points=\"769.191,-68.5198 779.6627,-66.9096 770.4724,-61.6381 769.191,-68.5198\"/>\n</g>\n<!-- 102 -->\n<g id=\"node27\" class=\"node\">\n<title>102</title>\n<path fill=\"#c0c0c0\" stroke=\"#000000\" d=\"M822,-36C822,-36 792,-36 792,-36 786,-36 780,-30 780,-24 780,-24 780,-12 780,-12 780,-6 786,0 792,0 792,0 822,0 822,0 828,0 834,-6 834,-12 834,-12 834,-24 834,-24 834,-30 828,-36 822,-36\"/>\n<text text-anchor=\"middle\" x=\"807\" y=\"-14.3\" font-family=\"Helvetica,sans-Serif\" font-size=\"14.00\" fill=\"#000000\">(...)</text>\n</g>\n<!-- 86&#45;&gt;102 -->\n<g id=\"edge26\" class=\"edge\">\n<title>86&#45;&gt;102</title>\n<path fill=\"none\" stroke=\"#000000\" d=\"M732.8009,-31.8164C745.5703,-29.4386 758.41,-27.0478 769.7343,-24.9391\"/>\n<polygon fill=\"#000000\" stroke=\"#000000\" points=\"770.4724,-28.3619 779.6627,-23.0904 769.191,-21.4802 770.4724,-28.3619\"/>\n</g>\n</g>\n</svg>\n"
          },
          "metadata": {
            "tags": []
          },
          "execution_count": 372
        }
      ]
    },
    {
      "cell_type": "markdown",
      "metadata": {
        "colab_type": "text",
        "id": "azasZHNShPmW"
      },
      "source": [
        "## Row 13: ['q_memory_cg', 'q_language_cg', 'MMNAME', 'q_outsideact_pt', 'moca_orient', 'faq8']"
      ]
    },
    {
      "cell_type": "code",
      "metadata": {
        "colab_type": "code",
        "id": "KmL1FcArhPmY",
        "colab": {}
      },
      "source": [
        "features = df_costsum.iloc[13,3]"
      ],
      "execution_count": 0,
      "outputs": []
    },
    {
      "cell_type": "code",
      "metadata": {
        "colab_type": "code",
        "outputId": "0e07fde2-c975-4483-c3fc-e00c9b0456de",
        "id": "qGkbp6PshPmc",
        "colab": {
          "base_uri": "https://localhost:8080/",
          "height": 308
        }
      },
      "source": [
        "X_train = adni_X.loc[:,features]\n",
        "X_test = clinic_X.loc[:,features]\n",
        "\n",
        "clf = RandomForestClassifier(n_estimators=300, max_features=None, \n",
        "                            min_samples_leaf=5, bootstrap=True, random_state=0)\n",
        "clf.fit(X_train, adni_y.values.ravel())\n",
        "y_pred = clf.predict(X_test)\n",
        "print('AUC: ', roc_auc_score(clinic_y, y_pred))\n",
        "print('\\n')\n",
        "print(classification_report(clinic_y, y_pred, digits=3))\n",
        "print('\\n')\n",
        "print(confusion_matrix(clinic_y, y_pred))"
      ],
      "execution_count": 0,
      "outputs": [
        {
          "output_type": "stream",
          "text": [
            "AUC:  0.8424494382022473\n",
            "\n",
            "\n",
            "              precision    recall  f1-score   support\n",
            "\n",
            "         0.0      0.743     0.904     0.816       125\n",
            "         1.0      0.921     0.781     0.845       178\n",
            "\n",
            "    accuracy                          0.832       303\n",
            "   macro avg      0.832     0.842     0.830       303\n",
            "weighted avg      0.847     0.832     0.833       303\n",
            "\n",
            "\n",
            "\n",
            "[[113  12]\n",
            " [ 39 139]]\n"
          ],
          "name": "stdout"
        }
      ]
    },
    {
      "cell_type": "code",
      "metadata": {
        "colab_type": "code",
        "outputId": "4d92b8b5-f740-4a77-8960-1c4cfa8c4a4c",
        "id": "rg5gmfxThPmh",
        "colab": {
          "base_uri": "https://localhost:8080/",
          "height": 295
        }
      },
      "source": [
        "adni_proba = clf.predict_proba(X_test)\n",
        "roc = skplt.metrics.plot_roc(clinic_y, adni_proba)\n",
        "# fig = roc.get_figure()\n",
        "# fig.savefig(f'{dir}/Figures/roc_eff_row0_3', dpi=300)"
      ],
      "execution_count": 0,
      "outputs": [
        {
          "output_type": "display_data",
          "data": {
            "image/png": "[encoded data removed]",
            "text/plain": [
              "<Figure size 432x288 with 1 Axes>"
            ]
          },
          "metadata": {
            "tags": []
          }
        }
      ]
    },
    {
      "cell_type": "code",
      "metadata": {
        "colab_type": "code",
        "outputId": "ec3c87fd-1f85-4acf-b934-e51e81ddf9d7",
        "id": "wKFdPyk4hPmn",
        "colab": {
          "base_uri": "https://localhost:8080/",
          "height": 308
        }
      },
      "source": [
        "clf = MLPClassifier(hidden_layer_sizes=(90,50,15), activation='relu', \n",
        "                      solver='adam', alpha=.0001, learning_rate_init=.0005, \n",
        "                      max_iter=10000, random_state=0)\n",
        "clf.fit(X_train, adni_y.values.ravel())\n",
        "y_pred = clf.predict(X_test)\n",
        "print('AUC: ', roc_auc_score(clinic_y, y_pred))\n",
        "print('\\n')\n",
        "print(classification_report(clinic_y, y_pred, digits=3))\n",
        "print('\\n')\n",
        "print(confusion_matrix(clinic_y, y_pred))"
      ],
      "execution_count": 0,
      "outputs": [
        {
          "output_type": "stream",
          "text": [
            "AUC:  0.7667865168539326\n",
            "\n",
            "\n",
            "              precision    recall  f1-score   support\n",
            "\n",
            "         0.0      0.683     0.792     0.733       125\n",
            "         1.0      0.835     0.742     0.786       178\n",
            "\n",
            "    accuracy                          0.762       303\n",
            "   macro avg      0.759     0.767     0.760       303\n",
            "weighted avg      0.772     0.762     0.764       303\n",
            "\n",
            "\n",
            "\n",
            "[[ 99  26]\n",
            " [ 46 132]]\n"
          ],
          "name": "stdout"
        }
      ]
    },
    {
      "cell_type": "code",
      "metadata": {
        "colab_type": "code",
        "outputId": "74c034f2-d906-4a30-a999-606b4e0bca13",
        "id": "JwHJfHRBhPmu",
        "colab": {
          "base_uri": "https://localhost:8080/",
          "height": 1000
        }
      },
      "source": [
        "from sklearn.tree import DecisionTreeClassifier\n",
        "\n",
        "clf = DecisionTreeClassifier(random_state=0)\n",
        "clf.fit(X_train, adni_y)\n",
        "\n",
        "import graphviz\n",
        "from sklearn.tree import export_graphviz\n",
        "\n",
        "dot = export_graphviz(clf, out_file=None,\n",
        "                     feature_names=features,\n",
        "                     class_names=['Normal','Impaired'],\n",
        "                     filled=True, rounded=True,\n",
        "                     rotate=True, max_depth=3)\n",
        "\n",
        "graph = graphviz.Source(dot)\n",
        "graph.render(filename='eff_tree_row13_6.gv', directory=f'{dir}/Output/', format='pdf')\n",
        "graph"
      ],
      "execution_count": 0,
      "outputs": [
        {
          "output_type": "execute_result",
          "data": {
            "text/plain": [
              "<graphviz.files.Source at 0x7f2979821080>"
            ],
            "image/svg+xml": "<?xml version=\"1.0\" encoding=\"UTF-8\" standalone=\"no\"?>\n<!DOCTYPE svg PUBLIC \"-//W3C//DTD SVG 1.1//EN\"\n \"http://www.w3.org/Graphics/SVG/1.1/DTD/svg11.dtd\">\n<!-- Generated by graphviz version 2.40.1 (20161225.0304)\n -->\n<!-- Title: Tree Pages: 1 -->\n<svg width=\"842pt\" height=\"759pt\"\n viewBox=\"0.00 0.00 842.00 759.00\" xmlns=\"http://www.w3.org/2000/svg\" xmlns:xlink=\"http://www.w3.org/1999/xlink\">\n<g id=\"graph0\" class=\"graph\" transform=\"scale(1 1) rotate(0) translate(4 755)\">\n<title>Tree</title>\n<polygon fill=\"#ffffff\" stroke=\"transparent\" points=\"-4,4 -4,-755 838,-755 838,4 -4,4\"/>\n<!-- 0 -->\n<g id=\"node1\" class=\"node\">\n<title>0</title>\n<path fill=\"#a8d4f4\" stroke=\"#000000\" d=\"M142,-418.5C142,-418.5 12,-418.5 12,-418.5 6,-418.5 0,-412.5 0,-406.5 0,-406.5 0,-347.5 0,-347.5 0,-341.5 6,-335.5 12,-335.5 12,-335.5 142,-335.5 142,-335.5 148,-335.5 154,-341.5 154,-347.5 154,-347.5 154,-406.5 154,-406.5 154,-412.5 148,-418.5 142,-418.5\"/>\n<text text-anchor=\"middle\" x=\"77\" y=\"-403.3\" font-family=\"Helvetica,sans-Serif\" font-size=\"14.00\" fill=\"#000000\">q_memory_cg &lt;= 0.5</text>\n<text text-anchor=\"middle\" x=\"77\" y=\"-388.3\" font-family=\"Helvetica,sans-Serif\" font-size=\"14.00\" fill=\"#000000\">gini = 0.461</text>\n<text text-anchor=\"middle\" x=\"77\" y=\"-373.3\" font-family=\"Helvetica,sans-Serif\" font-size=\"14.00\" fill=\"#000000\">samples = 1167</text>\n<text text-anchor=\"middle\" x=\"77\" y=\"-358.3\" font-family=\"Helvetica,sans-Serif\" font-size=\"14.00\" fill=\"#000000\">value = [420, 747]</text>\n<text text-anchor=\"middle\" x=\"77\" y=\"-343.3\" font-family=\"Helvetica,sans-Serif\" font-size=\"14.00\" fill=\"#000000\">class = Impaired</text>\n</g>\n<!-- 1 -->\n<g id=\"node2\" class=\"node\">\n<title>1</title>\n<path fill=\"#efb489\" stroke=\"#000000\" d=\"M325.5,-516.5C325.5,-516.5 208.5,-516.5 208.5,-516.5 202.5,-516.5 196.5,-510.5 196.5,-504.5 196.5,-504.5 196.5,-445.5 196.5,-445.5 196.5,-439.5 202.5,-433.5 208.5,-433.5 208.5,-433.5 325.5,-433.5 325.5,-433.5 331.5,-433.5 337.5,-439.5 337.5,-445.5 337.5,-445.5 337.5,-504.5 337.5,-504.5 337.5,-510.5 331.5,-516.5 325.5,-516.5\"/>\n<text text-anchor=\"middle\" x=\"267\" y=\"-501.3\" font-family=\"Helvetica,sans-Serif\" font-size=\"14.00\" fill=\"#000000\">moca_orient &lt;= 5.5</text>\n<text text-anchor=\"middle\" x=\"267\" y=\"-486.3\" font-family=\"Helvetica,sans-Serif\" font-size=\"14.00\" fill=\"#000000\">gini = 0.409</text>\n<text text-anchor=\"middle\" x=\"267\" y=\"-471.3\" font-family=\"Helvetica,sans-Serif\" font-size=\"14.00\" fill=\"#000000\">samples = 425</text>\n<text text-anchor=\"middle\" x=\"267\" y=\"-456.3\" font-family=\"Helvetica,sans-Serif\" font-size=\"14.00\" fill=\"#000000\">value = [303, 122]</text>\n<text text-anchor=\"middle\" x=\"267\" y=\"-441.3\" font-family=\"Helvetica,sans-Serif\" font-size=\"14.00\" fill=\"#000000\">class = Normal</text>\n</g>\n<!-- 0&#45;&gt;1 -->\n<g id=\"edge1\" class=\"edge\">\n<title>0&#45;&gt;1</title>\n<path fill=\"none\" stroke=\"#000000\" d=\"M154.0064,-416.7191C164.9359,-422.3564 176.1953,-428.1639 187.1769,-433.8281\"/>\n<polygon fill=\"#000000\" stroke=\"#000000\" points=\"185.8309,-437.0719 196.3228,-438.5454 189.0397,-430.8507 185.8309,-437.0719\"/>\n<text text-anchor=\"middle\" x=\"172.5083\" y=\"-442.4528\" font-family=\"Helvetica,sans-Serif\" font-size=\"14.00\" fill=\"#000000\">True</text>\n</g>\n<!-- 30 -->\n<g id=\"node13\" class=\"node\">\n<title>30</title>\n<path fill=\"#5eafea\" stroke=\"#000000\" d=\"M332,-324.5C332,-324.5 202,-324.5 202,-324.5 196,-324.5 190,-318.5 190,-312.5 190,-312.5 190,-253.5 190,-253.5 190,-247.5 196,-241.5 202,-241.5 202,-241.5 332,-241.5 332,-241.5 338,-241.5 344,-247.5 344,-253.5 344,-253.5 344,-312.5 344,-312.5 344,-318.5 338,-324.5 332,-324.5\"/>\n<text text-anchor=\"middle\" x=\"267\" y=\"-309.3\" font-family=\"Helvetica,sans-Serif\" font-size=\"14.00\" fill=\"#000000\">q_memory_cg &lt;= 1.5</text>\n<text text-anchor=\"middle\" x=\"267\" y=\"-294.3\" font-family=\"Helvetica,sans-Serif\" font-size=\"14.00\" fill=\"#000000\">gini = 0.266</text>\n<text text-anchor=\"middle\" x=\"267\" y=\"-279.3\" font-family=\"Helvetica,sans-Serif\" font-size=\"14.00\" fill=\"#000000\">samples = 742</text>\n<text text-anchor=\"middle\" x=\"267\" y=\"-264.3\" font-family=\"Helvetica,sans-Serif\" font-size=\"14.00\" fill=\"#000000\">value = [117, 625]</text>\n<text text-anchor=\"middle\" x=\"267\" y=\"-249.3\" font-family=\"Helvetica,sans-Serif\" font-size=\"14.00\" fill=\"#000000\">class = Impaired</text>\n</g>\n<!-- 0&#45;&gt;30 -->\n<g id=\"edge12\" class=\"edge\">\n<title>0&#45;&gt;30</title>\n<path fill=\"none\" stroke=\"#000000\" d=\"M154.0064,-338.9021C162.7862,-334.5584 171.7788,-330.1094 180.6693,-325.711\"/>\n<polygon fill=\"#000000\" stroke=\"#000000\" points=\"182.4729,-328.7236 189.884,-321.1521 179.3689,-322.4495 182.4729,-328.7236\"/>\n<text text-anchor=\"middle\" x=\"166.2005\" y=\"-309.4464\" font-family=\"Helvetica,sans-Serif\" font-size=\"14.00\" fill=\"#000000\">False</text>\n</g>\n<!-- 2 -->\n<g id=\"node3\" class=\"node\">\n<title>2</title>\n<path fill=\"#8fc8f0\" stroke=\"#000000\" d=\"M513.5,-664.5C513.5,-664.5 410.5,-664.5 410.5,-664.5 404.5,-664.5 398.5,-658.5 398.5,-652.5 398.5,-652.5 398.5,-593.5 398.5,-593.5 398.5,-587.5 404.5,-581.5 410.5,-581.5 410.5,-581.5 513.5,-581.5 513.5,-581.5 519.5,-581.5 525.5,-587.5 525.5,-593.5 525.5,-593.5 525.5,-652.5 525.5,-652.5 525.5,-658.5 519.5,-664.5 513.5,-664.5\"/>\n<text text-anchor=\"middle\" x=\"462\" y=\"-649.3\" font-family=\"Helvetica,sans-Serif\" font-size=\"14.00\" fill=\"#000000\">MMNAME &lt;= 1.5</text>\n<text text-anchor=\"middle\" x=\"462\" y=\"-634.3\" font-family=\"Helvetica,sans-Serif\" font-size=\"14.00\" fill=\"#000000\">gini = 0.422</text>\n<text text-anchor=\"middle\" x=\"462\" y=\"-619.3\" font-family=\"Helvetica,sans-Serif\" font-size=\"14.00\" fill=\"#000000\">samples = 33</text>\n<text text-anchor=\"middle\" x=\"462\" y=\"-604.3\" font-family=\"Helvetica,sans-Serif\" font-size=\"14.00\" fill=\"#000000\">value = [10, 23]</text>\n<text text-anchor=\"middle\" x=\"462\" y=\"-589.3\" font-family=\"Helvetica,sans-Serif\" font-size=\"14.00\" fill=\"#000000\">class = Impaired</text>\n</g>\n<!-- 1&#45;&gt;2 -->\n<g id=\"edge2\" class=\"edge\">\n<title>1&#45;&gt;2</title>\n<path fill=\"none\" stroke=\"#000000\" d=\"M321.8373,-516.6201C345.8236,-534.8251 374.1009,-556.2868 398.9516,-575.1479\"/>\n<polygon fill=\"#000000\" stroke=\"#000000\" points=\"397.1552,-578.1784 407.2368,-581.4361 401.3872,-572.6025 397.1552,-578.1784\"/>\n</g>\n<!-- 15 -->\n<g id=\"node8\" class=\"node\">\n<title>15</title>\n<path fill=\"#eeac7c\" stroke=\"#000000\" d=\"M531,-516.5C531,-516.5 393,-516.5 393,-516.5 387,-516.5 381,-510.5 381,-504.5 381,-504.5 381,-445.5 381,-445.5 381,-439.5 387,-433.5 393,-433.5 393,-433.5 531,-433.5 531,-433.5 537,-433.5 543,-439.5 543,-445.5 543,-445.5 543,-504.5 543,-504.5 543,-510.5 537,-516.5 531,-516.5\"/>\n<text text-anchor=\"middle\" x=\"462\" y=\"-501.3\" font-family=\"Helvetica,sans-Serif\" font-size=\"14.00\" fill=\"#000000\">q_language_cg &lt;= 0.5</text>\n<text text-anchor=\"middle\" x=\"462\" y=\"-486.3\" font-family=\"Helvetica,sans-Serif\" font-size=\"14.00\" fill=\"#000000\">gini = 0.378</text>\n<text text-anchor=\"middle\" x=\"462\" y=\"-471.3\" font-family=\"Helvetica,sans-Serif\" font-size=\"14.00\" fill=\"#000000\">samples = 392</text>\n<text text-anchor=\"middle\" x=\"462\" y=\"-456.3\" font-family=\"Helvetica,sans-Serif\" font-size=\"14.00\" fill=\"#000000\">value = [293, 99]</text>\n<text text-anchor=\"middle\" x=\"462\" y=\"-441.3\" font-family=\"Helvetica,sans-Serif\" font-size=\"14.00\" fill=\"#000000\">class = Normal</text>\n</g>\n<!-- 1&#45;&gt;15 -->\n<g id=\"edge7\" class=\"edge\">\n<title>1&#45;&gt;15</title>\n<path fill=\"none\" stroke=\"#000000\" d=\"M337.6752,-475C348.4402,-475 359.6783,-475 370.8063,-475\"/>\n<polygon fill=\"#000000\" stroke=\"#000000\" points=\"370.9784,-478.5001 380.9783,-475 370.9783,-471.5001 370.9784,-478.5001\"/>\n</g>\n<!-- 3 -->\n<g id=\"node4\" class=\"node\">\n<title>3</title>\n<path fill=\"#e58139\" stroke=\"#000000\" d=\"M706.5,-751C706.5,-751 617.5,-751 617.5,-751 611.5,-751 605.5,-745 605.5,-739 605.5,-739 605.5,-695 605.5,-695 605.5,-689 611.5,-683 617.5,-683 617.5,-683 706.5,-683 706.5,-683 712.5,-683 718.5,-689 718.5,-695 718.5,-695 718.5,-739 718.5,-739 718.5,-745 712.5,-751 706.5,-751\"/>\n<text text-anchor=\"middle\" x=\"662\" y=\"-735.8\" font-family=\"Helvetica,sans-Serif\" font-size=\"14.00\" fill=\"#000000\">gini = 0.0</text>\n<text text-anchor=\"middle\" x=\"662\" y=\"-720.8\" font-family=\"Helvetica,sans-Serif\" font-size=\"14.00\" fill=\"#000000\">samples = 1</text>\n<text text-anchor=\"middle\" x=\"662\" y=\"-705.8\" font-family=\"Helvetica,sans-Serif\" font-size=\"14.00\" fill=\"#000000\">value = [1, 0]</text>\n<text text-anchor=\"middle\" x=\"662\" y=\"-690.8\" font-family=\"Helvetica,sans-Serif\" font-size=\"14.00\" fill=\"#000000\">class = Normal</text>\n</g>\n<!-- 2&#45;&gt;3 -->\n<g id=\"edge3\" class=\"edge\">\n<title>2&#45;&gt;3</title>\n<path fill=\"none\" stroke=\"#000000\" d=\"M525.5561,-652.8713C548.0747,-663.4551 573.4498,-675.3814 596.1549,-686.0528\"/>\n<polygon fill=\"#000000\" stroke=\"#000000\" points=\"594.8342,-689.2993 605.3732,-690.3854 597.8118,-682.9642 594.8342,-689.2993\"/>\n</g>\n<!-- 4 -->\n<g id=\"node5\" class=\"node\">\n<title>4</title>\n<path fill=\"#86c3ef\" stroke=\"#000000\" d=\"M732,-664.5C732,-664.5 592,-664.5 592,-664.5 586,-664.5 580,-658.5 580,-652.5 580,-652.5 580,-593.5 580,-593.5 580,-587.5 586,-581.5 592,-581.5 592,-581.5 732,-581.5 732,-581.5 738,-581.5 744,-587.5 744,-593.5 744,-593.5 744,-652.5 744,-652.5 744,-658.5 738,-664.5 732,-664.5\"/>\n<text text-anchor=\"middle\" x=\"662\" y=\"-649.3\" font-family=\"Helvetica,sans-Serif\" font-size=\"14.00\" fill=\"#000000\">q_outsideact_pt &lt;= 1.5</text>\n<text text-anchor=\"middle\" x=\"662\" y=\"-634.3\" font-family=\"Helvetica,sans-Serif\" font-size=\"14.00\" fill=\"#000000\">gini = 0.404</text>\n<text text-anchor=\"middle\" x=\"662\" y=\"-619.3\" font-family=\"Helvetica,sans-Serif\" font-size=\"14.00\" fill=\"#000000\">samples = 32</text>\n<text text-anchor=\"middle\" x=\"662\" y=\"-604.3\" font-family=\"Helvetica,sans-Serif\" font-size=\"14.00\" fill=\"#000000\">value = [9, 23]</text>\n<text text-anchor=\"middle\" x=\"662\" y=\"-589.3\" font-family=\"Helvetica,sans-Serif\" font-size=\"14.00\" fill=\"#000000\">class = Impaired</text>\n</g>\n<!-- 2&#45;&gt;4 -->\n<g id=\"edge4\" class=\"edge\">\n<title>2&#45;&gt;4</title>\n<path fill=\"none\" stroke=\"#000000\" d=\"M525.5561,-623C539.5891,-623 554.7314,-623 569.6456,-623\"/>\n<polygon fill=\"#000000\" stroke=\"#000000\" points=\"569.918,-626.5001 579.918,-623 569.9179,-619.5001 569.918,-626.5001\"/>\n</g>\n<!-- 5 -->\n<g id=\"node6\" class=\"node\">\n<title>5</title>\n<path fill=\"#c0c0c0\" stroke=\"#000000\" d=\"M822,-683C822,-683 792,-683 792,-683 786,-683 780,-677 780,-671 780,-671 780,-659 780,-659 780,-653 786,-647 792,-647 792,-647 822,-647 822,-647 828,-647 834,-653 834,-659 834,-659 834,-671 834,-671 834,-677 828,-683 822,-683\"/>\n<text text-anchor=\"middle\" x=\"807\" y=\"-661.3\" font-family=\"Helvetica,sans-Serif\" font-size=\"14.00\" fill=\"#000000\">(...)</text>\n</g>\n<!-- 4&#45;&gt;5 -->\n<g id=\"edge5\" class=\"edge\">\n<title>4&#45;&gt;5</title>\n<path fill=\"none\" stroke=\"#000000\" d=\"M744.2442,-646.8225C753.2329,-649.4261 762.0181,-651.9708 770.0335,-654.2924\"/>\n<polygon fill=\"#000000\" stroke=\"#000000\" points=\"769.153,-657.6812 779.7319,-657.1017 771.1005,-650.9576 769.153,-657.6812\"/>\n</g>\n<!-- 14 -->\n<g id=\"node7\" class=\"node\">\n<title>14</title>\n<path fill=\"#c0c0c0\" stroke=\"#000000\" d=\"M822,-629C822,-629 792,-629 792,-629 786,-629 780,-623 780,-617 780,-617 780,-605 780,-605 780,-599 786,-593 792,-593 792,-593 822,-593 822,-593 828,-593 834,-599 834,-605 834,-605 834,-617 834,-617 834,-623 828,-629 822,-629\"/>\n<text text-anchor=\"middle\" x=\"807\" y=\"-607.3\" font-family=\"Helvetica,sans-Serif\" font-size=\"14.00\" fill=\"#000000\">(...)</text>\n</g>\n<!-- 4&#45;&gt;14 -->\n<g id=\"edge6\" class=\"edge\">\n<title>4&#45;&gt;14</title>\n<path fill=\"none\" stroke=\"#000000\" d=\"M744.2442,-616.1936C753.133,-615.458 761.8228,-614.7388 769.766,-614.0814\"/>\n<polygon fill=\"#000000\" stroke=\"#000000\" points=\"770.0547,-617.5696 779.7319,-613.2567 769.4773,-610.5935 770.0547,-617.5696\"/>\n</g>\n<!-- 16 -->\n<g id=\"node9\" class=\"node\">\n<title>16</title>\n<path fill=\"#eda978\" stroke=\"#000000\" d=\"M732,-563.5C732,-563.5 592,-563.5 592,-563.5 586,-563.5 580,-557.5 580,-551.5 580,-551.5 580,-492.5 580,-492.5 580,-486.5 586,-480.5 592,-480.5 592,-480.5 732,-480.5 732,-480.5 738,-480.5 744,-486.5 744,-492.5 744,-492.5 744,-551.5 744,-551.5 744,-557.5 738,-563.5 732,-563.5\"/>\n<text text-anchor=\"middle\" x=\"662\" y=\"-548.3\" font-family=\"Helvetica,sans-Serif\" font-size=\"14.00\" fill=\"#000000\">q_outsideact_pt &lt;= 1.5</text>\n<text text-anchor=\"middle\" x=\"662\" y=\"-533.3\" font-family=\"Helvetica,sans-Serif\" font-size=\"14.00\" fill=\"#000000\">gini = 0.366</text>\n<text text-anchor=\"middle\" x=\"662\" y=\"-518.3\" font-family=\"Helvetica,sans-Serif\" font-size=\"14.00\" fill=\"#000000\">samples = 385</text>\n<text text-anchor=\"middle\" x=\"662\" y=\"-503.3\" font-family=\"Helvetica,sans-Serif\" font-size=\"14.00\" fill=\"#000000\">value = [292, 93]</text>\n<text text-anchor=\"middle\" x=\"662\" y=\"-488.3\" font-family=\"Helvetica,sans-Serif\" font-size=\"14.00\" fill=\"#000000\">class = Normal</text>\n</g>\n<!-- 15&#45;&gt;16 -->\n<g id=\"edge8\" class=\"edge\">\n<title>15&#45;&gt;16</title>\n<path fill=\"none\" stroke=\"#000000\" d=\"M543.0593,-494.0489C551.9654,-496.1419 561.0795,-498.2837 570.1049,-500.4047\"/>\n<polygon fill=\"#000000\" stroke=\"#000000\" points=\"569.3142,-503.8141 579.8497,-502.6947 570.9156,-496.9997 569.3142,-503.8141\"/>\n</g>\n<!-- 29 -->\n<g id=\"node12\" class=\"node\">\n<title>29</title>\n<path fill=\"#5aade9\" stroke=\"#000000\" d=\"M711,-462C711,-462 613,-462 613,-462 607,-462 601,-456 601,-450 601,-450 601,-406 601,-406 601,-400 607,-394 613,-394 613,-394 711,-394 711,-394 717,-394 723,-400 723,-406 723,-406 723,-450 723,-450 723,-456 717,-462 711,-462\"/>\n<text text-anchor=\"middle\" x=\"662\" y=\"-446.8\" font-family=\"Helvetica,sans-Serif\" font-size=\"14.00\" fill=\"#000000\">gini = 0.245</text>\n<text text-anchor=\"middle\" x=\"662\" y=\"-431.8\" font-family=\"Helvetica,sans-Serif\" font-size=\"14.00\" fill=\"#000000\">samples = 7</text>\n<text text-anchor=\"middle\" x=\"662\" y=\"-416.8\" font-family=\"Helvetica,sans-Serif\" font-size=\"14.00\" fill=\"#000000\">value = [1, 6]</text>\n<text text-anchor=\"middle\" x=\"662\" y=\"-401.8\" font-family=\"Helvetica,sans-Serif\" font-size=\"14.00\" fill=\"#000000\">class = Impaired</text>\n</g>\n<!-- 15&#45;&gt;29 -->\n<g id=\"edge11\" class=\"edge\">\n<title>15&#45;&gt;29</title>\n<path fill=\"none\" stroke=\"#000000\" d=\"M543.0593,-455.9511C558.8699,-452.2356 575.3362,-448.366 590.7983,-444.7324\"/>\n<polygon fill=\"#000000\" stroke=\"#000000\" points=\"591.863,-448.0776 600.7971,-442.3827 590.2616,-441.2633 591.863,-448.0776\"/>\n</g>\n<!-- 17 -->\n<g id=\"node10\" class=\"node\">\n<title>17</title>\n<path fill=\"#c0c0c0\" stroke=\"#000000\" d=\"M822,-552C822,-552 792,-552 792,-552 786,-552 780,-546 780,-540 780,-540 780,-528 780,-528 780,-522 786,-516 792,-516 792,-516 822,-516 822,-516 828,-516 834,-522 834,-528 834,-528 834,-540 834,-540 834,-546 828,-552 822,-552\"/>\n<text text-anchor=\"middle\" x=\"807\" y=\"-530.3\" font-family=\"Helvetica,sans-Serif\" font-size=\"14.00\" fill=\"#000000\">(...)</text>\n</g>\n<!-- 16&#45;&gt;17 -->\n<g id=\"edge9\" class=\"edge\">\n<title>16&#45;&gt;17</title>\n<path fill=\"none\" stroke=\"#000000\" d=\"M744.2442,-528.8064C753.133,-529.542 761.8228,-530.2612 769.766,-530.9186\"/>\n<polygon fill=\"#000000\" stroke=\"#000000\" points=\"769.4773,-534.4065 779.7319,-531.7433 770.0547,-527.4304 769.4773,-534.4065\"/>\n</g>\n<!-- 28 -->\n<g id=\"node11\" class=\"node\">\n<title>28</title>\n<path fill=\"#c0c0c0\" stroke=\"#000000\" d=\"M822,-498C822,-498 792,-498 792,-498 786,-498 780,-492 780,-486 780,-486 780,-474 780,-474 780,-468 786,-462 792,-462 792,-462 822,-462 822,-462 828,-462 834,-468 834,-474 834,-474 834,-486 834,-486 834,-492 828,-498 822,-498\"/>\n<text text-anchor=\"middle\" x=\"807\" y=\"-476.3\" font-family=\"Helvetica,sans-Serif\" font-size=\"14.00\" fill=\"#000000\">(...)</text>\n</g>\n<!-- 16&#45;&gt;28 -->\n<g id=\"edge10\" class=\"edge\">\n<title>16&#45;&gt;28</title>\n<path fill=\"none\" stroke=\"#000000\" d=\"M744.2442,-498.1775C753.2329,-495.5739 762.0181,-493.0292 770.0335,-490.7076\"/>\n<polygon fill=\"#000000\" stroke=\"#000000\" points=\"771.1005,-494.0424 779.7319,-487.8983 769.153,-487.3188 771.1005,-494.0424\"/>\n</g>\n<!-- 31 -->\n<g id=\"node14\" class=\"node\">\n<title>31</title>\n<path fill=\"#83c2ef\" stroke=\"#000000\" d=\"M532,-324.5C532,-324.5 392,-324.5 392,-324.5 386,-324.5 380,-318.5 380,-312.5 380,-312.5 380,-253.5 380,-253.5 380,-247.5 386,-241.5 392,-241.5 392,-241.5 532,-241.5 532,-241.5 538,-241.5 544,-247.5 544,-253.5 544,-253.5 544,-312.5 544,-312.5 544,-318.5 538,-324.5 532,-324.5\"/>\n<text text-anchor=\"middle\" x=\"462\" y=\"-309.3\" font-family=\"Helvetica,sans-Serif\" font-size=\"14.00\" fill=\"#000000\">q_outsideact_pt &lt;= 0.5</text>\n<text text-anchor=\"middle\" x=\"462\" y=\"-294.3\" font-family=\"Helvetica,sans-Serif\" font-size=\"14.00\" fill=\"#000000\">gini = 0.397</text>\n<text text-anchor=\"middle\" x=\"462\" y=\"-279.3\" font-family=\"Helvetica,sans-Serif\" font-size=\"14.00\" fill=\"#000000\">samples = 370</text>\n<text text-anchor=\"middle\" x=\"462\" y=\"-264.3\" font-family=\"Helvetica,sans-Serif\" font-size=\"14.00\" fill=\"#000000\">value = [101, 269]</text>\n<text text-anchor=\"middle\" x=\"462\" y=\"-249.3\" font-family=\"Helvetica,sans-Serif\" font-size=\"14.00\" fill=\"#000000\">class = Impaired</text>\n</g>\n<!-- 30&#45;&gt;31 -->\n<g id=\"edge13\" class=\"edge\">\n<title>30&#45;&gt;31</title>\n<path fill=\"none\" stroke=\"#000000\" d=\"M344.0692,-283C352.4859,-283 361.1153,-283 369.691,-283\"/>\n<polygon fill=\"#000000\" stroke=\"#000000\" points=\"369.7176,-286.5001 379.7175,-283 369.7175,-279.5001 369.7176,-286.5001\"/>\n</g>\n<!-- 78 -->\n<g id=\"node21\" class=\"node\">\n<title>78</title>\n<path fill=\"#42a1e6\" stroke=\"#000000\" d=\"M513.5,-180.5C513.5,-180.5 410.5,-180.5 410.5,-180.5 404.5,-180.5 398.5,-174.5 398.5,-168.5 398.5,-168.5 398.5,-109.5 398.5,-109.5 398.5,-103.5 404.5,-97.5 410.5,-97.5 410.5,-97.5 513.5,-97.5 513.5,-97.5 519.5,-97.5 525.5,-103.5 525.5,-109.5 525.5,-109.5 525.5,-168.5 525.5,-168.5 525.5,-174.5 519.5,-180.5 513.5,-180.5\"/>\n<text text-anchor=\"middle\" x=\"462\" y=\"-165.3\" font-family=\"Helvetica,sans-Serif\" font-size=\"14.00\" fill=\"#000000\">MMNAME &lt;= 1.5</text>\n<text text-anchor=\"middle\" x=\"462\" y=\"-150.3\" font-family=\"Helvetica,sans-Serif\" font-size=\"14.00\" fill=\"#000000\">gini = 0.082</text>\n<text text-anchor=\"middle\" x=\"462\" y=\"-135.3\" font-family=\"Helvetica,sans-Serif\" font-size=\"14.00\" fill=\"#000000\">samples = 372</text>\n<text text-anchor=\"middle\" x=\"462\" y=\"-120.3\" font-family=\"Helvetica,sans-Serif\" font-size=\"14.00\" fill=\"#000000\">value = [16, 356]</text>\n<text text-anchor=\"middle\" x=\"462\" y=\"-105.3\" font-family=\"Helvetica,sans-Serif\" font-size=\"14.00\" fill=\"#000000\">class = Impaired</text>\n</g>\n<!-- 30&#45;&gt;78 -->\n<g id=\"edge20\" class=\"edge\">\n<title>30&#45;&gt;78</title>\n<path fill=\"none\" stroke=\"#000000\" d=\"M323.4021,-241.3492C346.5444,-224.2595 373.4679,-204.3776 397.3968,-186.707\"/>\n<polygon fill=\"#000000\" stroke=\"#000000\" points=\"399.7595,-189.3132 405.7247,-180.5572 395.6012,-183.6821 399.7595,-189.3132\"/>\n</g>\n<!-- 32 -->\n<g id=\"node15\" class=\"node\">\n<title>32</title>\n<path fill=\"#9acdf2\" stroke=\"#000000\" d=\"M731,-375.5C731,-375.5 593,-375.5 593,-375.5 587,-375.5 581,-369.5 581,-363.5 581,-363.5 581,-304.5 581,-304.5 581,-298.5 587,-292.5 593,-292.5 593,-292.5 731,-292.5 731,-292.5 737,-292.5 743,-298.5 743,-304.5 743,-304.5 743,-363.5 743,-363.5 743,-369.5 737,-375.5 731,-375.5\"/>\n<text text-anchor=\"middle\" x=\"662\" y=\"-360.3\" font-family=\"Helvetica,sans-Serif\" font-size=\"14.00\" fill=\"#000000\">q_language_cg &lt;= 0.5</text>\n<text text-anchor=\"middle\" x=\"662\" y=\"-345.3\" font-family=\"Helvetica,sans-Serif\" font-size=\"14.00\" fill=\"#000000\">gini = 0.442</text>\n<text text-anchor=\"middle\" x=\"662\" y=\"-330.3\" font-family=\"Helvetica,sans-Serif\" font-size=\"14.00\" fill=\"#000000\">samples = 285</text>\n<text text-anchor=\"middle\" x=\"662\" y=\"-315.3\" font-family=\"Helvetica,sans-Serif\" font-size=\"14.00\" fill=\"#000000\">value = [94, 191]</text>\n<text text-anchor=\"middle\" x=\"662\" y=\"-300.3\" font-family=\"Helvetica,sans-Serif\" font-size=\"14.00\" fill=\"#000000\">class = Impaired</text>\n</g>\n<!-- 31&#45;&gt;32 -->\n<g id=\"edge14\" class=\"edge\">\n<title>31&#45;&gt;32</title>\n<path fill=\"none\" stroke=\"#000000\" d=\"M544.2135,-303.9644C552.9808,-306.2001 561.9366,-308.4838 570.7995,-310.7439\"/>\n<polygon fill=\"#000000\" stroke=\"#000000\" points=\"570.1967,-314.2021 580.7515,-313.2816 571.9264,-307.4192 570.1967,-314.2021\"/>\n</g>\n<!-- 59 -->\n<g id=\"node18\" class=\"node\">\n<title>59</title>\n<path fill=\"#4ba6e7\" stroke=\"#000000\" d=\"M732,-274.5C732,-274.5 592,-274.5 592,-274.5 586,-274.5 580,-268.5 580,-262.5 580,-262.5 580,-203.5 580,-203.5 580,-197.5 586,-191.5 592,-191.5 592,-191.5 732,-191.5 732,-191.5 738,-191.5 744,-197.5 744,-203.5 744,-203.5 744,-262.5 744,-262.5 744,-268.5 738,-274.5 732,-274.5\"/>\n<text text-anchor=\"middle\" x=\"662\" y=\"-259.3\" font-family=\"Helvetica,sans-Serif\" font-size=\"14.00\" fill=\"#000000\">q_outsideact_pt &lt;= 1.5</text>\n<text text-anchor=\"middle\" x=\"662\" y=\"-244.3\" font-family=\"Helvetica,sans-Serif\" font-size=\"14.00\" fill=\"#000000\">gini = 0.151</text>\n<text text-anchor=\"middle\" x=\"662\" y=\"-229.3\" font-family=\"Helvetica,sans-Serif\" font-size=\"14.00\" fill=\"#000000\">samples = 85</text>\n<text text-anchor=\"middle\" x=\"662\" y=\"-214.3\" font-family=\"Helvetica,sans-Serif\" font-size=\"14.00\" fill=\"#000000\">value = [7, 78]</text>\n<text text-anchor=\"middle\" x=\"662\" y=\"-199.3\" font-family=\"Helvetica,sans-Serif\" font-size=\"14.00\" fill=\"#000000\">class = Impaired</text>\n</g>\n<!-- 31&#45;&gt;59 -->\n<g id=\"edge17\" class=\"edge\">\n<title>31&#45;&gt;59</title>\n<path fill=\"none\" stroke=\"#000000\" d=\"M544.2135,-262.4466C552.6542,-260.3365 561.2696,-258.1826 569.8087,-256.0478\"/>\n<polygon fill=\"#000000\" stroke=\"#000000\" points=\"570.9301,-259.3753 579.7826,-253.5544 569.2323,-252.5843 570.9301,-259.3753\"/>\n</g>\n<!-- 33 -->\n<g id=\"node16\" class=\"node\">\n<title>33</title>\n<path fill=\"#c0c0c0\" stroke=\"#000000\" d=\"M822,-383C822,-383 792,-383 792,-383 786,-383 780,-377 780,-371 780,-371 780,-359 780,-359 780,-353 786,-347 792,-347 792,-347 822,-347 822,-347 828,-347 834,-353 834,-359 834,-359 834,-371 834,-371 834,-377 828,-383 822,-383\"/>\n<text text-anchor=\"middle\" x=\"807\" y=\"-361.3\" font-family=\"Helvetica,sans-Serif\" font-size=\"14.00\" fill=\"#000000\">(...)</text>\n</g>\n<!-- 32&#45;&gt;33 -->\n<g id=\"edge15\" class=\"edge\">\n<title>32&#45;&gt;33</title>\n<path fill=\"none\" stroke=\"#000000\" d=\"M743.4009,-351.4029C752.6606,-353.3826 761.7236,-355.3202 769.9734,-357.084\"/>\n<polygon fill=\"#000000\" stroke=\"#000000\" points=\"769.431,-360.547 779.9418,-359.2151 770.8946,-353.7017 769.431,-360.547\"/>\n</g>\n<!-- 46 -->\n<g id=\"node17\" class=\"node\">\n<title>46</title>\n<path fill=\"#c0c0c0\" stroke=\"#000000\" d=\"M822,-329C822,-329 792,-329 792,-329 786,-329 780,-323 780,-317 780,-317 780,-305 780,-305 780,-299 786,-293 792,-293 792,-293 822,-293 822,-293 828,-293 834,-299 834,-305 834,-305 834,-317 834,-317 834,-323 828,-329 822,-329\"/>\n<text text-anchor=\"middle\" x=\"807\" y=\"-307.3\" font-family=\"Helvetica,sans-Serif\" font-size=\"14.00\" fill=\"#000000\">(...)</text>\n</g>\n<!-- 32&#45;&gt;46 -->\n<g id=\"edge16\" class=\"edge\">\n<title>32&#45;&gt;46</title>\n<path fill=\"none\" stroke=\"#000000\" d=\"M743.4009,-321.0881C752.6606,-319.6194 761.7236,-318.1818 769.9734,-316.8732\"/>\n<polygon fill=\"#000000\" stroke=\"#000000\" points=\"770.6136,-320.3155 779.9418,-315.292 769.517,-313.4019 770.6136,-320.3155\"/>\n</g>\n<!-- 60 -->\n<g id=\"node19\" class=\"node\">\n<title>60</title>\n<path fill=\"#c0c0c0\" stroke=\"#000000\" d=\"M822,-263C822,-263 792,-263 792,-263 786,-263 780,-257 780,-251 780,-251 780,-239 780,-239 780,-233 786,-227 792,-227 792,-227 822,-227 822,-227 828,-227 834,-233 834,-239 834,-239 834,-251 834,-251 834,-257 828,-263 822,-263\"/>\n<text text-anchor=\"middle\" x=\"807\" y=\"-241.3\" font-family=\"Helvetica,sans-Serif\" font-size=\"14.00\" fill=\"#000000\">(...)</text>\n</g>\n<!-- 59&#45;&gt;60 -->\n<g id=\"edge18\" class=\"edge\">\n<title>59&#45;&gt;60</title>\n<path fill=\"none\" stroke=\"#000000\" d=\"M744.2442,-239.8064C753.133,-240.542 761.8228,-241.2612 769.766,-241.9186\"/>\n<polygon fill=\"#000000\" stroke=\"#000000\" points=\"769.4773,-245.4065 779.7319,-242.7433 770.0547,-238.4304 769.4773,-245.4065\"/>\n</g>\n<!-- 77 -->\n<g id=\"node20\" class=\"node\">\n<title>77</title>\n<path fill=\"#c0c0c0\" stroke=\"#000000\" d=\"M822,-209C822,-209 792,-209 792,-209 786,-209 780,-203 780,-197 780,-197 780,-185 780,-185 780,-179 786,-173 792,-173 792,-173 822,-173 822,-173 828,-173 834,-179 834,-185 834,-185 834,-197 834,-197 834,-203 828,-209 822,-209\"/>\n<text text-anchor=\"middle\" x=\"807\" y=\"-187.3\" font-family=\"Helvetica,sans-Serif\" font-size=\"14.00\" fill=\"#000000\">(...)</text>\n</g>\n<!-- 59&#45;&gt;77 -->\n<g id=\"edge19\" class=\"edge\">\n<title>59&#45;&gt;77</title>\n<path fill=\"none\" stroke=\"#000000\" d=\"M744.2442,-209.1775C753.2329,-206.5739 762.0181,-204.0292 770.0335,-201.7076\"/>\n<polygon fill=\"#000000\" stroke=\"#000000\" points=\"771.1005,-205.0424 779.7319,-198.8983 769.153,-198.3188 771.1005,-205.0424\"/>\n</g>\n<!-- 79 -->\n<g id=\"node22\" class=\"node\">\n<title>79</title>\n<path fill=\"#e58139\" stroke=\"#000000\" d=\"M706.5,-173C706.5,-173 617.5,-173 617.5,-173 611.5,-173 605.5,-167 605.5,-161 605.5,-161 605.5,-117 605.5,-117 605.5,-111 611.5,-105 617.5,-105 617.5,-105 706.5,-105 706.5,-105 712.5,-105 718.5,-111 718.5,-117 718.5,-117 718.5,-161 718.5,-161 718.5,-167 712.5,-173 706.5,-173\"/>\n<text text-anchor=\"middle\" x=\"662\" y=\"-157.8\" font-family=\"Helvetica,sans-Serif\" font-size=\"14.00\" fill=\"#000000\">gini = 0.0</text>\n<text text-anchor=\"middle\" x=\"662\" y=\"-142.8\" font-family=\"Helvetica,sans-Serif\" font-size=\"14.00\" fill=\"#000000\">samples = 1</text>\n<text text-anchor=\"middle\" x=\"662\" y=\"-127.8\" font-family=\"Helvetica,sans-Serif\" font-size=\"14.00\" fill=\"#000000\">value = [1, 0]</text>\n<text text-anchor=\"middle\" x=\"662\" y=\"-112.8\" font-family=\"Helvetica,sans-Serif\" font-size=\"14.00\" fill=\"#000000\">class = Normal</text>\n</g>\n<!-- 78&#45;&gt;79 -->\n<g id=\"edge21\" class=\"edge\">\n<title>78&#45;&gt;79</title>\n<path fill=\"none\" stroke=\"#000000\" d=\"M525.5561,-139C547.7745,-139 572.7736,-139 595.2453,-139\"/>\n<polygon fill=\"#000000\" stroke=\"#000000\" points=\"595.3733,-142.5001 605.3732,-139 595.3732,-135.5001 595.3733,-142.5001\"/>\n</g>\n<!-- 80 -->\n<g id=\"node23\" class=\"node\">\n<title>80</title>\n<path fill=\"#41a1e6\" stroke=\"#000000\" d=\"M720.5,-86.5C720.5,-86.5 603.5,-86.5 603.5,-86.5 597.5,-86.5 591.5,-80.5 591.5,-74.5 591.5,-74.5 591.5,-15.5 591.5,-15.5 591.5,-9.5 597.5,-3.5 603.5,-3.5 603.5,-3.5 720.5,-3.5 720.5,-3.5 726.5,-3.5 732.5,-9.5 732.5,-15.5 732.5,-15.5 732.5,-74.5 732.5,-74.5 732.5,-80.5 726.5,-86.5 720.5,-86.5\"/>\n<text text-anchor=\"middle\" x=\"662\" y=\"-71.3\" font-family=\"Helvetica,sans-Serif\" font-size=\"14.00\" fill=\"#000000\">moca_orient &lt;= 5.5</text>\n<text text-anchor=\"middle\" x=\"662\" y=\"-56.3\" font-family=\"Helvetica,sans-Serif\" font-size=\"14.00\" fill=\"#000000\">gini = 0.078</text>\n<text text-anchor=\"middle\" x=\"662\" y=\"-41.3\" font-family=\"Helvetica,sans-Serif\" font-size=\"14.00\" fill=\"#000000\">samples = 371</text>\n<text text-anchor=\"middle\" x=\"662\" y=\"-26.3\" font-family=\"Helvetica,sans-Serif\" font-size=\"14.00\" fill=\"#000000\">value = [15, 356]</text>\n<text text-anchor=\"middle\" x=\"662\" y=\"-11.3\" font-family=\"Helvetica,sans-Serif\" font-size=\"14.00\" fill=\"#000000\">class = Impaired</text>\n</g>\n<!-- 78&#45;&gt;80 -->\n<g id=\"edge22\" class=\"edge\">\n<title>78&#45;&gt;80</title>\n<path fill=\"none\" stroke=\"#000000\" d=\"M525.5561,-109.1287C543.5442,-100.6742 563.355,-91.3632 582.1715,-82.5194\"/>\n<polygon fill=\"#000000\" stroke=\"#000000\" points=\"583.7551,-85.6425 591.3165,-78.2212 580.7775,-79.3073 583.7551,-85.6425\"/>\n</g>\n<!-- 81 -->\n<g id=\"node24\" class=\"node\">\n<title>81</title>\n<path fill=\"#c0c0c0\" stroke=\"#000000\" d=\"M822,-90C822,-90 792,-90 792,-90 786,-90 780,-84 780,-78 780,-78 780,-66 780,-66 780,-60 786,-54 792,-54 792,-54 822,-54 822,-54 828,-54 834,-60 834,-66 834,-66 834,-78 834,-78 834,-84 828,-90 822,-90\"/>\n<text text-anchor=\"middle\" x=\"807\" y=\"-68.3\" font-family=\"Helvetica,sans-Serif\" font-size=\"14.00\" fill=\"#000000\">(...)</text>\n</g>\n<!-- 80&#45;&gt;81 -->\n<g id=\"edge23\" class=\"edge\">\n<title>80&#45;&gt;81</title>\n<path fill=\"none\" stroke=\"#000000\" d=\"M732.8009,-58.1836C745.5703,-60.5614 758.41,-62.9522 769.7343,-65.0609\"/>\n<polygon fill=\"#000000\" stroke=\"#000000\" points=\"769.191,-68.5198 779.6627,-66.9096 770.4724,-61.6381 769.191,-68.5198\"/>\n</g>\n<!-- 98 -->\n<g id=\"node25\" class=\"node\">\n<title>98</title>\n<path fill=\"#c0c0c0\" stroke=\"#000000\" d=\"M822,-36C822,-36 792,-36 792,-36 786,-36 780,-30 780,-24 780,-24 780,-12 780,-12 780,-6 786,0 792,0 792,0 822,0 822,0 828,0 834,-6 834,-12 834,-12 834,-24 834,-24 834,-30 828,-36 822,-36\"/>\n<text text-anchor=\"middle\" x=\"807\" y=\"-14.3\" font-family=\"Helvetica,sans-Serif\" font-size=\"14.00\" fill=\"#000000\">(...)</text>\n</g>\n<!-- 80&#45;&gt;98 -->\n<g id=\"edge24\" class=\"edge\">\n<title>80&#45;&gt;98</title>\n<path fill=\"none\" stroke=\"#000000\" d=\"M732.8009,-31.8164C745.5703,-29.4386 758.41,-27.0478 769.7343,-24.9391\"/>\n<polygon fill=\"#000000\" stroke=\"#000000\" points=\"770.4724,-28.3619 779.6627,-23.0904 769.191,-21.4802 770.4724,-28.3619\"/>\n</g>\n</g>\n</svg>\n"
          },
          "metadata": {
            "tags": []
          },
          "execution_count": 50
        }
      ]
    },
    {
      "cell_type": "markdown",
      "metadata": {
        "id": "tOcMFRdC62n8",
        "colab_type": "text"
      },
      "source": [
        "## Row 25: ['q_memory_cg', 'q_memory_pt', 'q_language_cg', 'moca_similarities', 'q_attention_pt', 'moca_orient', 'q_outsideact_pt', 'q_judgmt_pt', 'MMNAME', 'verbal_fluency', 'faq3']"
      ]
    },
    {
      "cell_type": "code",
      "metadata": {
        "id": "Uje194KM75J-",
        "colab_type": "code",
        "colab": {}
      },
      "source": [
        "features = df_costsum.iloc[25,3]"
      ],
      "execution_count": 0,
      "outputs": []
    },
    {
      "cell_type": "code",
      "metadata": {
        "id": "L4CdYhqAitL1",
        "colab_type": "code",
        "colab": {}
      },
      "source": [
        "#Remove Race\n",
        "features = ['q_memory_cg',\n",
        " 'q_memory_pt',\n",
        " 'q_language_cg',\n",
        " 'moca_similarities',\n",
        " 'q_attention_pt',\n",
        " 'moca_orient',\n",
        " 'q_outsideact_pt',\n",
        " 'q_judgmt_pt',\n",
        " 'MMNAME',\n",
        " 'verbal_fluency',\n",
        " 'faq3']"
      ],
      "execution_count": 0,
      "outputs": []
    },
    {
      "cell_type": "code",
      "metadata": {
        "colab_type": "code",
        "outputId": "2f3b26eb-287a-4292-9d70-a05854c40027",
        "id": "EYJT2vSZFXvF",
        "colab": {
          "base_uri": "https://localhost:8080/",
          "height": 308
        }
      },
      "source": [
        "X_train = adni_X.loc[:,features]\n",
        "X_test = clinic_X.loc[:,features]\n",
        "\n",
        "clf = RandomForestClassifier(n_estimators=300, max_features=None, \n",
        "                            min_samples_leaf=18, bootstrap=False, random_state=0)\n",
        "clf.fit(X_train, adni_y.values.ravel())\n",
        "y_pred = clf.predict(X_test)\n",
        "print('AUC: ', roc_auc_score(clinic_y, y_pred))\n",
        "print('\\n')\n",
        "print(classification_report(clinic_y, y_pred, digits=3))\n",
        "print('\\n')\n",
        "print(confusion_matrix(clinic_y, y_pred))"
      ],
      "execution_count": 0,
      "outputs": [
        {
          "output_type": "stream",
          "text": [
            "AUC:  0.8199775280898876\n",
            "\n",
            "\n",
            "              precision    recall  f1-score   support\n",
            "\n",
            "         0.0      0.706     0.904     0.793       125\n",
            "         1.0      0.916     0.736     0.816       178\n",
            "\n",
            "    accuracy                          0.805       303\n",
            "   macro avg      0.811     0.820     0.805       303\n",
            "weighted avg      0.830     0.805     0.807       303\n",
            "\n",
            "\n",
            "\n",
            "[[113  12]\n",
            " [ 47 131]]\n"
          ],
          "name": "stdout"
        }
      ]
    },
    {
      "cell_type": "code",
      "metadata": {
        "colab_type": "code",
        "id": "soiKoD9lFXvI",
        "colab": {}
      },
      "source": [
        "adni_proba = clf.predict_proba(X_test)\n",
        "roc = skplt.metrics.plot_roc(clinic_y, adni_proba)\n",
        "# fig = roc.get_figure()\n",
        "# fig.savefig(f'{dir}/Figures/roc_eff_row0_3', dpi=300)"
      ],
      "execution_count": 0,
      "outputs": []
    },
    {
      "cell_type": "code",
      "metadata": {
        "colab_type": "code",
        "outputId": "29dea990-470a-467a-ed23-2011a018f651",
        "id": "XYqTzCqtFXvL",
        "colab": {
          "base_uri": "https://localhost:8080/",
          "height": 308
        }
      },
      "source": [
        "clf = MLPClassifier(hidden_layer_sizes=(105,80,20), activation='relu', \n",
        "                      solver='sgd', alpha=.0001, learning_rate_init=.001, \n",
        "                      max_iter=5000, random_state=0)\n",
        "clf.fit(X_train, adni_y.values.ravel())\n",
        "y_pred = clf.predict(X_test)\n",
        "print('AUC: ', roc_auc_score(clinic_y, y_pred))\n",
        "print('\\n')\n",
        "print(classification_report(clinic_y, y_pred, digits=3))\n",
        "print('\\n')\n",
        "print(confusion_matrix(clinic_y, y_pred))"
      ],
      "execution_count": 0,
      "outputs": [
        {
          "output_type": "stream",
          "text": [
            "AUC:  0.8272134831460674\n",
            "\n",
            "\n",
            "              precision    recall  f1-score   support\n",
            "\n",
            "         0.0      0.723     0.896     0.800       125\n",
            "         1.0      0.912     0.758     0.828       178\n",
            "\n",
            "    accuracy                          0.815       303\n",
            "   macro avg      0.817     0.827     0.814       303\n",
            "weighted avg      0.834     0.815     0.817       303\n",
            "\n",
            "\n",
            "\n",
            "[[112  13]\n",
            " [ 43 135]]\n"
          ],
          "name": "stdout"
        }
      ]
    },
    {
      "cell_type": "code",
      "metadata": {
        "colab_type": "code",
        "outputId": "31790a60-57d8-4ff7-aaca-9bac53217af3",
        "id": "sUm1-BcjFXvN",
        "colab": {
          "base_uri": "https://localhost:8080/",
          "height": 1000
        }
      },
      "source": [
        "from sklearn.tree import DecisionTreeClassifier\n",
        "\n",
        "clf = DecisionTreeClassifier(random_state=0)\n",
        "clf.fit(X_train, adni_y)\n",
        "\n",
        "import graphviz\n",
        "from sklearn.tree import export_graphviz\n",
        "\n",
        "dot = export_graphviz(clf, out_file=None,\n",
        "                     feature_names=features,\n",
        "                     class_names=['Normal','Impaired'],\n",
        "                     filled=True, rounded=True,\n",
        "                     rotate=True, max_depth=4)\n",
        "\n",
        "graph = graphviz.Source(dot)\n",
        "graph.render(filename='eff_tree_row25_11_4.gv', directory=f'{dir}/Output/', format='pdf')\n",
        "graph"
      ],
      "execution_count": 0,
      "outputs": [
        {
          "output_type": "execute_result",
          "data": {
            "text/plain": [
              "<graphviz.files.Source at 0x7f2977fc6e80>"
            ],
            "image/svg+xml": "<?xml version=\"1.0\" encoding=\"UTF-8\" standalone=\"no\"?>\n<!DOCTYPE svg PUBLIC \"-//W3C//DTD SVG 1.1//EN\"\n \"http://www.w3.org/Graphics/SVG/1.1/DTD/svg11.dtd\">\n<!-- Generated by graphviz version 2.40.1 (20161225.0304)\n -->\n<!-- Title: Tree Pages: 1 -->\n<svg width=\"1050pt\" height=\"1390pt\"\n viewBox=\"0.00 0.00 1050.00 1390.00\" xmlns=\"http://www.w3.org/2000/svg\" xmlns:xlink=\"http://www.w3.org/1999/xlink\">\n<g id=\"graph0\" class=\"graph\" transform=\"scale(1 1) rotate(0) translate(4 1386)\">\n<title>Tree</title>\n<polygon fill=\"#ffffff\" stroke=\"transparent\" points=\"-4,4 -4,-1386 1046,-1386 1046,4 -4,4\"/>\n<!-- 0 -->\n<g id=\"node1\" class=\"node\">\n<title>0</title>\n<path fill=\"#a8d4f4\" stroke=\"#000000\" d=\"M142,-653.5C142,-653.5 12,-653.5 12,-653.5 6,-653.5 0,-647.5 0,-641.5 0,-641.5 0,-582.5 0,-582.5 0,-576.5 6,-570.5 12,-570.5 12,-570.5 142,-570.5 142,-570.5 148,-570.5 154,-576.5 154,-582.5 154,-582.5 154,-641.5 154,-641.5 154,-647.5 148,-653.5 142,-653.5\"/>\n<text text-anchor=\"middle\" x=\"77\" y=\"-638.3\" font-family=\"Helvetica,sans-Serif\" font-size=\"14.00\" fill=\"#000000\">q_memory_cg &lt;= 0.5</text>\n<text text-anchor=\"middle\" x=\"77\" y=\"-623.3\" font-family=\"Helvetica,sans-Serif\" font-size=\"14.00\" fill=\"#000000\">gini = 0.461</text>\n<text text-anchor=\"middle\" x=\"77\" y=\"-608.3\" font-family=\"Helvetica,sans-Serif\" font-size=\"14.00\" fill=\"#000000\">samples = 1167</text>\n<text text-anchor=\"middle\" x=\"77\" y=\"-593.3\" font-family=\"Helvetica,sans-Serif\" font-size=\"14.00\" fill=\"#000000\">value = [420, 747]</text>\n<text text-anchor=\"middle\" x=\"77\" y=\"-578.3\" font-family=\"Helvetica,sans-Serif\" font-size=\"14.00\" fill=\"#000000\">class = Impaired</text>\n</g>\n<!-- 1 -->\n<g id=\"node2\" class=\"node\">\n<title>1</title>\n<path fill=\"#efb489\" stroke=\"#000000\" d=\"M325.5,-855.5C325.5,-855.5 208.5,-855.5 208.5,-855.5 202.5,-855.5 196.5,-849.5 196.5,-843.5 196.5,-843.5 196.5,-784.5 196.5,-784.5 196.5,-778.5 202.5,-772.5 208.5,-772.5 208.5,-772.5 325.5,-772.5 325.5,-772.5 331.5,-772.5 337.5,-778.5 337.5,-784.5 337.5,-784.5 337.5,-843.5 337.5,-843.5 337.5,-849.5 331.5,-855.5 325.5,-855.5\"/>\n<text text-anchor=\"middle\" x=\"267\" y=\"-840.3\" font-family=\"Helvetica,sans-Serif\" font-size=\"14.00\" fill=\"#000000\">moca_orient &lt;= 5.5</text>\n<text text-anchor=\"middle\" x=\"267\" y=\"-825.3\" font-family=\"Helvetica,sans-Serif\" font-size=\"14.00\" fill=\"#000000\">gini = 0.409</text>\n<text text-anchor=\"middle\" x=\"267\" y=\"-810.3\" font-family=\"Helvetica,sans-Serif\" font-size=\"14.00\" fill=\"#000000\">samples = 425</text>\n<text text-anchor=\"middle\" x=\"267\" y=\"-795.3\" font-family=\"Helvetica,sans-Serif\" font-size=\"14.00\" fill=\"#000000\">value = [303, 122]</text>\n<text text-anchor=\"middle\" x=\"267\" y=\"-780.3\" font-family=\"Helvetica,sans-Serif\" font-size=\"14.00\" fill=\"#000000\">class = Normal</text>\n</g>\n<!-- 0&#45;&gt;1 -->\n<g id=\"edge1\" class=\"edge\">\n<title>0&#45;&gt;1</title>\n<path fill=\"none\" stroke=\"#000000\" d=\"M116.3681,-653.8545C146.684,-686.0851 188.67,-730.7228 220.6158,-764.6863\"/>\n<polygon fill=\"#000000\" stroke=\"#000000\" points=\"218.2814,-767.3129 227.6823,-772.1991 223.3803,-762.5169 218.2814,-767.3129\"/>\n<text text-anchor=\"middle\" x=\"202.694\" y=\"-767.7341\" font-family=\"Helvetica,sans-Serif\" font-size=\"14.00\" fill=\"#000000\">True</text>\n</g>\n<!-- 256 -->\n<g id=\"node27\" class=\"node\">\n<title>256</title>\n<path fill=\"#5eafea\" stroke=\"#000000\" d=\"M332,-462.5C332,-462.5 202,-462.5 202,-462.5 196,-462.5 190,-456.5 190,-450.5 190,-450.5 190,-391.5 190,-391.5 190,-385.5 196,-379.5 202,-379.5 202,-379.5 332,-379.5 332,-379.5 338,-379.5 344,-385.5 344,-391.5 344,-391.5 344,-450.5 344,-450.5 344,-456.5 338,-462.5 332,-462.5\"/>\n<text text-anchor=\"middle\" x=\"267\" y=\"-447.3\" font-family=\"Helvetica,sans-Serif\" font-size=\"14.00\" fill=\"#000000\">q_memory_cg &lt;= 1.5</text>\n<text text-anchor=\"middle\" x=\"267\" y=\"-432.3\" font-family=\"Helvetica,sans-Serif\" font-size=\"14.00\" fill=\"#000000\">gini = 0.266</text>\n<text text-anchor=\"middle\" x=\"267\" y=\"-417.3\" font-family=\"Helvetica,sans-Serif\" font-size=\"14.00\" fill=\"#000000\">samples = 742</text>\n<text text-anchor=\"middle\" x=\"267\" y=\"-402.3\" font-family=\"Helvetica,sans-Serif\" font-size=\"14.00\" fill=\"#000000\">value = [117, 625]</text>\n<text text-anchor=\"middle\" x=\"267\" y=\"-387.3\" font-family=\"Helvetica,sans-Serif\" font-size=\"14.00\" fill=\"#000000\">class = Impaired</text>\n</g>\n<!-- 0&#45;&gt;256 -->\n<g id=\"edge26\" class=\"edge\">\n<title>0&#45;&gt;256</title>\n<path fill=\"none\" stroke=\"#000000\" d=\"M118.6963,-570.0842C148.024,-540.6022 187.3726,-501.0465 218.1688,-470.0883\"/>\n<polygon fill=\"#000000\" stroke=\"#000000\" points=\"220.8298,-472.376 225.401,-462.818 215.8671,-467.4392 220.8298,-472.376\"/>\n<text text-anchor=\"middle\" x=\"200.401\" y=\"-459.1836\" font-family=\"Helvetica,sans-Serif\" font-size=\"14.00\" fill=\"#000000\">False</text>\n</g>\n<!-- 2 -->\n<g id=\"node3\" class=\"node\">\n<title>2</title>\n<path fill=\"#8fc8f0\" stroke=\"#000000\" d=\"M525,-1155.5C525,-1155.5 399,-1155.5 399,-1155.5 393,-1155.5 387,-1149.5 387,-1143.5 387,-1143.5 387,-1084.5 387,-1084.5 387,-1078.5 393,-1072.5 399,-1072.5 399,-1072.5 525,-1072.5 525,-1072.5 531,-1072.5 537,-1078.5 537,-1084.5 537,-1084.5 537,-1143.5 537,-1143.5 537,-1149.5 531,-1155.5 525,-1155.5\"/>\n<text text-anchor=\"middle\" x=\"462\" y=\"-1140.3\" font-family=\"Helvetica,sans-Serif\" font-size=\"14.00\" fill=\"#000000\">q_memory_pt &lt;= 0.5</text>\n<text text-anchor=\"middle\" x=\"462\" y=\"-1125.3\" font-family=\"Helvetica,sans-Serif\" font-size=\"14.00\" fill=\"#000000\">gini = 0.422</text>\n<text text-anchor=\"middle\" x=\"462\" y=\"-1110.3\" font-family=\"Helvetica,sans-Serif\" font-size=\"14.00\" fill=\"#000000\">samples = 33</text>\n<text text-anchor=\"middle\" x=\"462\" y=\"-1095.3\" font-family=\"Helvetica,sans-Serif\" font-size=\"14.00\" fill=\"#000000\">value = [10, 23]</text>\n<text text-anchor=\"middle\" x=\"462\" y=\"-1080.3\" font-family=\"Helvetica,sans-Serif\" font-size=\"14.00\" fill=\"#000000\">class = Impaired</text>\n</g>\n<!-- 1&#45;&gt;2 -->\n<g id=\"edge2\" class=\"edge\">\n<title>1&#45;&gt;2</title>\n<path fill=\"none\" stroke=\"#000000\" d=\"M294.1139,-855.7137C329.4506,-910.0778 391.1992,-1005.0757 429.1527,-1063.4656\"/>\n<polygon fill=\"#000000\" stroke=\"#000000\" points=\"426.4183,-1065.6811 434.8027,-1072.1581 432.2874,-1061.8661 426.4183,-1065.6811\"/>\n</g>\n<!-- 17 -->\n<g id=\"node14\" class=\"node\">\n<title>17</title>\n<path fill=\"#eeac7c\" stroke=\"#000000\" d=\"M525,-855.5C525,-855.5 399,-855.5 399,-855.5 393,-855.5 387,-849.5 387,-843.5 387,-843.5 387,-784.5 387,-784.5 387,-778.5 393,-772.5 399,-772.5 399,-772.5 525,-772.5 525,-772.5 531,-772.5 537,-778.5 537,-784.5 537,-784.5 537,-843.5 537,-843.5 537,-849.5 531,-855.5 525,-855.5\"/>\n<text text-anchor=\"middle\" x=\"462\" y=\"-840.3\" font-family=\"Helvetica,sans-Serif\" font-size=\"14.00\" fill=\"#000000\">q_memory_pt &lt;= 1.5</text>\n<text text-anchor=\"middle\" x=\"462\" y=\"-825.3\" font-family=\"Helvetica,sans-Serif\" font-size=\"14.00\" fill=\"#000000\">gini = 0.378</text>\n<text text-anchor=\"middle\" x=\"462\" y=\"-810.3\" font-family=\"Helvetica,sans-Serif\" font-size=\"14.00\" fill=\"#000000\">samples = 392</text>\n<text text-anchor=\"middle\" x=\"462\" y=\"-795.3\" font-family=\"Helvetica,sans-Serif\" font-size=\"14.00\" fill=\"#000000\">value = [293, 99]</text>\n<text text-anchor=\"middle\" x=\"462\" y=\"-780.3\" font-family=\"Helvetica,sans-Serif\" font-size=\"14.00\" fill=\"#000000\">class = Normal</text>\n</g>\n<!-- 1&#45;&gt;17 -->\n<g id=\"edge13\" class=\"edge\">\n<title>1&#45;&gt;17</title>\n<path fill=\"none\" stroke=\"#000000\" d=\"M337.6752,-814C350.3178,-814 363.6129,-814 376.616,-814\"/>\n<polygon fill=\"#000000\" stroke=\"#000000\" points=\"376.9637,-817.5001 386.9636,-814 376.9636,-810.5001 376.9637,-817.5001\"/>\n</g>\n<!-- 3 -->\n<g id=\"node4\" class=\"node\">\n<title>3</title>\n<path fill=\"#f8dbc6\" stroke=\"#000000\" d=\"M732,-1303.5C732,-1303.5 592,-1303.5 592,-1303.5 586,-1303.5 580,-1297.5 580,-1291.5 580,-1291.5 580,-1232.5 580,-1232.5 580,-1226.5 586,-1220.5 592,-1220.5 592,-1220.5 732,-1220.5 732,-1220.5 738,-1220.5 744,-1226.5 744,-1232.5 744,-1232.5 744,-1291.5 744,-1291.5 744,-1297.5 738,-1303.5 732,-1303.5\"/>\n<text text-anchor=\"middle\" x=\"662\" y=\"-1288.3\" font-family=\"Helvetica,sans-Serif\" font-size=\"14.00\" fill=\"#000000\">verbal_fluency &lt;= 14.5</text>\n<text text-anchor=\"middle\" x=\"662\" y=\"-1273.3\" font-family=\"Helvetica,sans-Serif\" font-size=\"14.00\" fill=\"#000000\">gini = 0.486</text>\n<text text-anchor=\"middle\" x=\"662\" y=\"-1258.3\" font-family=\"Helvetica,sans-Serif\" font-size=\"14.00\" fill=\"#000000\">samples = 12</text>\n<text text-anchor=\"middle\" x=\"662\" y=\"-1243.3\" font-family=\"Helvetica,sans-Serif\" font-size=\"14.00\" fill=\"#000000\">value = [7, 5]</text>\n<text text-anchor=\"middle\" x=\"662\" y=\"-1228.3\" font-family=\"Helvetica,sans-Serif\" font-size=\"14.00\" fill=\"#000000\">class = Normal</text>\n</g>\n<!-- 2&#45;&gt;3 -->\n<g id=\"edge3\" class=\"edge\">\n<title>2&#45;&gt;3</title>\n<path fill=\"none\" stroke=\"#000000\" d=\"M518.2434,-1155.6201C542.9516,-1173.9042 572.0993,-1195.4735 597.6673,-1214.3938\"/>\n<polygon fill=\"#000000\" stroke=\"#000000\" points=\"595.7122,-1217.3011 605.8326,-1220.4361 599.8761,-1211.6742 595.7122,-1217.3011\"/>\n</g>\n<!-- 6 -->\n<g id=\"node7\" class=\"node\">\n<title>6</title>\n<path fill=\"#5aade9\" stroke=\"#000000\" d=\"M731,-1155.5C731,-1155.5 593,-1155.5 593,-1155.5 587,-1155.5 581,-1149.5 581,-1143.5 581,-1143.5 581,-1084.5 581,-1084.5 581,-1078.5 587,-1072.5 593,-1072.5 593,-1072.5 731,-1072.5 731,-1072.5 737,-1072.5 743,-1078.5 743,-1084.5 743,-1084.5 743,-1143.5 743,-1143.5 743,-1149.5 737,-1155.5 731,-1155.5\"/>\n<text text-anchor=\"middle\" x=\"662\" y=\"-1140.3\" font-family=\"Helvetica,sans-Serif\" font-size=\"14.00\" fill=\"#000000\">q_language_cg &lt;= 0.5</text>\n<text text-anchor=\"middle\" x=\"662\" y=\"-1125.3\" font-family=\"Helvetica,sans-Serif\" font-size=\"14.00\" fill=\"#000000\">gini = 0.245</text>\n<text text-anchor=\"middle\" x=\"662\" y=\"-1110.3\" font-family=\"Helvetica,sans-Serif\" font-size=\"14.00\" fill=\"#000000\">samples = 21</text>\n<text text-anchor=\"middle\" x=\"662\" y=\"-1095.3\" font-family=\"Helvetica,sans-Serif\" font-size=\"14.00\" fill=\"#000000\">value = [3, 18]</text>\n<text text-anchor=\"middle\" x=\"662\" y=\"-1080.3\" font-family=\"Helvetica,sans-Serif\" font-size=\"14.00\" fill=\"#000000\">class = Impaired</text>\n</g>\n<!-- 2&#45;&gt;6 -->\n<g id=\"edge6\" class=\"edge\">\n<title>2&#45;&gt;6</title>\n<path fill=\"none\" stroke=\"#000000\" d=\"M537.0416,-1114C547.989,-1114 559.3626,-1114 570.5907,-1114\"/>\n<polygon fill=\"#000000\" stroke=\"#000000\" points=\"570.845,-1117.5001 580.8449,-1114 570.8449,-1110.5001 570.845,-1117.5001\"/>\n</g>\n<!-- 4 -->\n<g id=\"node5\" class=\"node\">\n<title>4</title>\n<path fill=\"#399de5\" stroke=\"#000000\" d=\"M915,-1382C915,-1382 817,-1382 817,-1382 811,-1382 805,-1376 805,-1370 805,-1370 805,-1326 805,-1326 805,-1320 811,-1314 817,-1314 817,-1314 915,-1314 915,-1314 921,-1314 927,-1320 927,-1326 927,-1326 927,-1370 927,-1370 927,-1376 921,-1382 915,-1382\"/>\n<text text-anchor=\"middle\" x=\"866\" y=\"-1366.8\" font-family=\"Helvetica,sans-Serif\" font-size=\"14.00\" fill=\"#000000\">gini = 0.0</text>\n<text text-anchor=\"middle\" x=\"866\" y=\"-1351.8\" font-family=\"Helvetica,sans-Serif\" font-size=\"14.00\" fill=\"#000000\">samples = 5</text>\n<text text-anchor=\"middle\" x=\"866\" y=\"-1336.8\" font-family=\"Helvetica,sans-Serif\" font-size=\"14.00\" fill=\"#000000\">value = [0, 5]</text>\n<text text-anchor=\"middle\" x=\"866\" y=\"-1321.8\" font-family=\"Helvetica,sans-Serif\" font-size=\"14.00\" fill=\"#000000\">class = Impaired</text>\n</g>\n<!-- 3&#45;&gt;4 -->\n<g id=\"edge4\" class=\"edge\">\n<title>3&#45;&gt;4</title>\n<path fill=\"none\" stroke=\"#000000\" d=\"M744.0928,-1296.6077C761.0296,-1303.7478 778.7284,-1311.209 795.2218,-1318.1621\"/>\n<polygon fill=\"#000000\" stroke=\"#000000\" points=\"794.2044,-1321.5315 804.7787,-1322.191 796.9237,-1315.0812 794.2044,-1321.5315\"/>\n</g>\n<!-- 5 -->\n<g id=\"node6\" class=\"node\">\n<title>5</title>\n<path fill=\"#e58139\" stroke=\"#000000\" d=\"M910.5,-1296C910.5,-1296 821.5,-1296 821.5,-1296 815.5,-1296 809.5,-1290 809.5,-1284 809.5,-1284 809.5,-1240 809.5,-1240 809.5,-1234 815.5,-1228 821.5,-1228 821.5,-1228 910.5,-1228 910.5,-1228 916.5,-1228 922.5,-1234 922.5,-1240 922.5,-1240 922.5,-1284 922.5,-1284 922.5,-1290 916.5,-1296 910.5,-1296\"/>\n<text text-anchor=\"middle\" x=\"866\" y=\"-1280.8\" font-family=\"Helvetica,sans-Serif\" font-size=\"14.00\" fill=\"#000000\">gini = 0.0</text>\n<text text-anchor=\"middle\" x=\"866\" y=\"-1265.8\" font-family=\"Helvetica,sans-Serif\" font-size=\"14.00\" fill=\"#000000\">samples = 7</text>\n<text text-anchor=\"middle\" x=\"866\" y=\"-1250.8\" font-family=\"Helvetica,sans-Serif\" font-size=\"14.00\" fill=\"#000000\">value = [7, 0]</text>\n<text text-anchor=\"middle\" x=\"866\" y=\"-1235.8\" font-family=\"Helvetica,sans-Serif\" font-size=\"14.00\" fill=\"#000000\">class = Normal</text>\n</g>\n<!-- 3&#45;&gt;5 -->\n<g id=\"edge5\" class=\"edge\">\n<title>3&#45;&gt;5</title>\n<path fill=\"none\" stroke=\"#000000\" d=\"M744.0928,-1262C762.4179,-1262 781.6349,-1262 799.2522,-1262\"/>\n<polygon fill=\"#000000\" stroke=\"#000000\" points=\"799.4212,-1265.5001 809.4212,-1262 799.4212,-1258.5001 799.4212,-1265.5001\"/>\n</g>\n<!-- 7 -->\n<g id=\"node8\" class=\"node\">\n<title>7</title>\n<path fill=\"#45a3e7\" stroke=\"#000000\" d=\"M924.5,-1209.5C924.5,-1209.5 807.5,-1209.5 807.5,-1209.5 801.5,-1209.5 795.5,-1203.5 795.5,-1197.5 795.5,-1197.5 795.5,-1138.5 795.5,-1138.5 795.5,-1132.5 801.5,-1126.5 807.5,-1126.5 807.5,-1126.5 924.5,-1126.5 924.5,-1126.5 930.5,-1126.5 936.5,-1132.5 936.5,-1138.5 936.5,-1138.5 936.5,-1197.5 936.5,-1197.5 936.5,-1203.5 930.5,-1209.5 924.5,-1209.5\"/>\n<text text-anchor=\"middle\" x=\"866\" y=\"-1194.3\" font-family=\"Helvetica,sans-Serif\" font-size=\"14.00\" fill=\"#000000\">moca_orient &lt;= 4.5</text>\n<text text-anchor=\"middle\" x=\"866\" y=\"-1179.3\" font-family=\"Helvetica,sans-Serif\" font-size=\"14.00\" fill=\"#000000\">gini = 0.111</text>\n<text text-anchor=\"middle\" x=\"866\" y=\"-1164.3\" font-family=\"Helvetica,sans-Serif\" font-size=\"14.00\" fill=\"#000000\">samples = 17</text>\n<text text-anchor=\"middle\" x=\"866\" y=\"-1149.3\" font-family=\"Helvetica,sans-Serif\" font-size=\"14.00\" fill=\"#000000\">value = [1, 16]</text>\n<text text-anchor=\"middle\" x=\"866\" y=\"-1134.3\" font-family=\"Helvetica,sans-Serif\" font-size=\"14.00\" fill=\"#000000\">class = Impaired</text>\n</g>\n<!-- 6&#45;&gt;7 -->\n<g id=\"edge7\" class=\"edge\">\n<title>6&#45;&gt;7</title>\n<path fill=\"none\" stroke=\"#000000\" d=\"M743.2124,-1135.4974C757.0709,-1139.1658 771.4641,-1142.9758 785.3091,-1146.6406\"/>\n<polygon fill=\"#000000\" stroke=\"#000000\" points=\"784.7153,-1150.1039 795.278,-1149.2795 786.5066,-1143.337 784.7153,-1150.1039\"/>\n</g>\n<!-- 12 -->\n<g id=\"node11\" class=\"node\">\n<title>12</title>\n<path fill=\"#ffffff\" stroke=\"#000000\" d=\"M940,-1108.5C940,-1108.5 792,-1108.5 792,-1108.5 786,-1108.5 780,-1102.5 780,-1096.5 780,-1096.5 780,-1037.5 780,-1037.5 780,-1031.5 786,-1025.5 792,-1025.5 792,-1025.5 940,-1025.5 940,-1025.5 946,-1025.5 952,-1031.5 952,-1037.5 952,-1037.5 952,-1096.5 952,-1096.5 952,-1102.5 946,-1108.5 940,-1108.5\"/>\n<text text-anchor=\"middle\" x=\"866\" y=\"-1093.3\" font-family=\"Helvetica,sans-Serif\" font-size=\"14.00\" fill=\"#000000\">moca_similarities &lt;= 0.5</text>\n<text text-anchor=\"middle\" x=\"866\" y=\"-1078.3\" font-family=\"Helvetica,sans-Serif\" font-size=\"14.00\" fill=\"#000000\">gini = 0.5</text>\n<text text-anchor=\"middle\" x=\"866\" y=\"-1063.3\" font-family=\"Helvetica,sans-Serif\" font-size=\"14.00\" fill=\"#000000\">samples = 4</text>\n<text text-anchor=\"middle\" x=\"866\" y=\"-1048.3\" font-family=\"Helvetica,sans-Serif\" font-size=\"14.00\" fill=\"#000000\">value = [2, 2]</text>\n<text text-anchor=\"middle\" x=\"866\" y=\"-1033.3\" font-family=\"Helvetica,sans-Serif\" font-size=\"14.00\" fill=\"#000000\">class = Normal</text>\n</g>\n<!-- 6&#45;&gt;12 -->\n<g id=\"edge10\" class=\"edge\">\n<title>6&#45;&gt;12</title>\n<path fill=\"none\" stroke=\"#000000\" d=\"M743.2124,-1095.2893C751.9311,-1093.2806 760.8615,-1091.2231 769.7339,-1089.179\"/>\n<polygon fill=\"#000000\" stroke=\"#000000\" points=\"770.7531,-1092.5359 779.712,-1086.8801 769.1815,-1085.7146 770.7531,-1092.5359\"/>\n</g>\n<!-- 8 -->\n<g id=\"node9\" class=\"node\">\n<title>8</title>\n<path fill=\"#c0c0c0\" stroke=\"#000000\" d=\"M1030,-1239C1030,-1239 1000,-1239 1000,-1239 994,-1239 988,-1233 988,-1227 988,-1227 988,-1215 988,-1215 988,-1209 994,-1203 1000,-1203 1000,-1203 1030,-1203 1030,-1203 1036,-1203 1042,-1209 1042,-1215 1042,-1215 1042,-1227 1042,-1227 1042,-1233 1036,-1239 1030,-1239\"/>\n<text text-anchor=\"middle\" x=\"1015\" y=\"-1217.3\" font-family=\"Helvetica,sans-Serif\" font-size=\"14.00\" fill=\"#000000\">(...)</text>\n</g>\n<!-- 7&#45;&gt;8 -->\n<g id=\"edge8\" class=\"edge\">\n<title>7&#45;&gt;8</title>\n<path fill=\"none\" stroke=\"#000000\" d=\"M936.5729,-1193.1031C950.9361,-1198.2122 965.4945,-1203.3907 978.1047,-1207.8762\"/>\n<polygon fill=\"#000000\" stroke=\"#000000\" points=\"977.1644,-1211.2565 987.7591,-1211.3103 979.5104,-1204.6613 977.1644,-1211.2565\"/>\n</g>\n<!-- 11 -->\n<g id=\"node10\" class=\"node\">\n<title>11</title>\n<path fill=\"#c0c0c0\" stroke=\"#000000\" d=\"M1030,-1185C1030,-1185 1000,-1185 1000,-1185 994,-1185 988,-1179 988,-1173 988,-1173 988,-1161 988,-1161 988,-1155 994,-1149 1000,-1149 1000,-1149 1030,-1149 1030,-1149 1036,-1149 1042,-1155 1042,-1161 1042,-1161 1042,-1173 1042,-1173 1042,-1179 1036,-1185 1030,-1185\"/>\n<text text-anchor=\"middle\" x=\"1015\" y=\"-1163.3\" font-family=\"Helvetica,sans-Serif\" font-size=\"14.00\" fill=\"#000000\">(...)</text>\n</g>\n<!-- 7&#45;&gt;11 -->\n<g id=\"edge9\" class=\"edge\">\n<title>7&#45;&gt;11</title>\n<path fill=\"none\" stroke=\"#000000\" d=\"M936.5729,-1167.5264C950.7939,-1167.4309 965.2063,-1167.3342 977.7296,-1167.2501\"/>\n<polygon fill=\"#000000\" stroke=\"#000000\" points=\"977.7829,-1170.75 987.7591,-1167.1828 977.7358,-1163.7501 977.7829,-1170.75\"/>\n</g>\n<!-- 13 -->\n<g id=\"node12\" class=\"node\">\n<title>13</title>\n<path fill=\"#c0c0c0\" stroke=\"#000000\" d=\"M1030,-1129C1030,-1129 1000,-1129 1000,-1129 994,-1129 988,-1123 988,-1117 988,-1117 988,-1105 988,-1105 988,-1099 994,-1093 1000,-1093 1000,-1093 1030,-1093 1030,-1093 1036,-1093 1042,-1099 1042,-1105 1042,-1105 1042,-1117 1042,-1117 1042,-1123 1036,-1129 1030,-1129\"/>\n<text text-anchor=\"middle\" x=\"1015\" y=\"-1107.3\" font-family=\"Helvetica,sans-Serif\" font-size=\"14.00\" fill=\"#000000\">(...)</text>\n</g>\n<!-- 12&#45;&gt;13 -->\n<g id=\"edge11\" class=\"edge\">\n<title>12&#45;&gt;13</title>\n<path fill=\"none\" stroke=\"#000000\" d=\"M952.2424,-1092.4676C961.2926,-1095.1401 970.1056,-1097.7426 978.129,-1100.1119\"/>\n<polygon fill=\"#000000\" stroke=\"#000000\" points=\"977.2463,-1103.5006 987.8281,-1102.9761 979.2288,-1096.7872 977.2463,-1103.5006\"/>\n</g>\n<!-- 14 -->\n<g id=\"node13\" class=\"node\">\n<title>14</title>\n<path fill=\"#c0c0c0\" stroke=\"#000000\" d=\"M1030,-1075C1030,-1075 1000,-1075 1000,-1075 994,-1075 988,-1069 988,-1063 988,-1063 988,-1051 988,-1051 988,-1045 994,-1039 1000,-1039 1000,-1039 1030,-1039 1030,-1039 1036,-1039 1042,-1045 1042,-1051 1042,-1051 1042,-1063 1042,-1063 1042,-1069 1036,-1075 1030,-1075\"/>\n<text text-anchor=\"middle\" x=\"1015\" y=\"-1053.3\" font-family=\"Helvetica,sans-Serif\" font-size=\"14.00\" fill=\"#000000\">(...)</text>\n</g>\n<!-- 12&#45;&gt;14 -->\n<g id=\"edge12\" class=\"edge\">\n<title>12&#45;&gt;14</title>\n<path fill=\"none\" stroke=\"#000000\" d=\"M952.2424,-1061.2119C961.0915,-1060.618 969.7138,-1060.0393 977.593,-1059.5105\"/>\n<polygon fill=\"#000000\" stroke=\"#000000\" points=\"978.085,-1062.9855 987.8281,-1058.8236 977.6162,-1056.0012 978.085,-1062.9855\"/>\n</g>\n<!-- 18 -->\n<g id=\"node15\" class=\"node\">\n<title>18</title>\n<path fill=\"#eca26e\" stroke=\"#000000\" d=\"M725,-906.5C725,-906.5 599,-906.5 599,-906.5 593,-906.5 587,-900.5 587,-894.5 587,-894.5 587,-835.5 587,-835.5 587,-829.5 593,-823.5 599,-823.5 599,-823.5 725,-823.5 725,-823.5 731,-823.5 737,-829.5 737,-835.5 737,-835.5 737,-894.5 737,-894.5 737,-900.5 731,-906.5 725,-906.5\"/>\n<text text-anchor=\"middle\" x=\"662\" y=\"-891.3\" font-family=\"Helvetica,sans-Serif\" font-size=\"14.00\" fill=\"#000000\">q_memory_pt &lt;= 0.5</text>\n<text text-anchor=\"middle\" x=\"662\" y=\"-876.3\" font-family=\"Helvetica,sans-Serif\" font-size=\"14.00\" fill=\"#000000\">gini = 0.332</text>\n<text text-anchor=\"middle\" x=\"662\" y=\"-861.3\" font-family=\"Helvetica,sans-Serif\" font-size=\"14.00\" fill=\"#000000\">samples = 343</text>\n<text text-anchor=\"middle\" x=\"662\" y=\"-846.3\" font-family=\"Helvetica,sans-Serif\" font-size=\"14.00\" fill=\"#000000\">value = [271, 72]</text>\n<text text-anchor=\"middle\" x=\"662\" y=\"-831.3\" font-family=\"Helvetica,sans-Serif\" font-size=\"14.00\" fill=\"#000000\">class = Normal</text>\n</g>\n<!-- 17&#45;&gt;18 -->\n<g id=\"edge14\" class=\"edge\">\n<title>17&#45;&gt;18</title>\n<path fill=\"none\" stroke=\"#000000\" d=\"M537.0416,-833.1356C550.0257,-836.4465 563.6094,-839.9104 576.8388,-843.2839\"/>\n<polygon fill=\"#000000\" stroke=\"#000000\" points=\"576.3157,-846.7624 586.8705,-845.842 578.0454,-839.9795 576.3157,-846.7624\"/>\n</g>\n<!-- 209 -->\n<g id=\"node22\" class=\"node\">\n<title>209</title>\n<path fill=\"#daedfa\" stroke=\"#000000\" d=\"M732,-805.5C732,-805.5 592,-805.5 592,-805.5 586,-805.5 580,-799.5 580,-793.5 580,-793.5 580,-734.5 580,-734.5 580,-728.5 586,-722.5 592,-722.5 592,-722.5 732,-722.5 732,-722.5 738,-722.5 744,-728.5 744,-734.5 744,-734.5 744,-793.5 744,-793.5 744,-799.5 738,-805.5 732,-805.5\"/>\n<text text-anchor=\"middle\" x=\"662\" y=\"-790.3\" font-family=\"Helvetica,sans-Serif\" font-size=\"14.00\" fill=\"#000000\">verbal_fluency &lt;= 23.5</text>\n<text text-anchor=\"middle\" x=\"662\" y=\"-775.3\" font-family=\"Helvetica,sans-Serif\" font-size=\"14.00\" fill=\"#000000\">gini = 0.495</text>\n<text text-anchor=\"middle\" x=\"662\" y=\"-760.3\" font-family=\"Helvetica,sans-Serif\" font-size=\"14.00\" fill=\"#000000\">samples = 49</text>\n<text text-anchor=\"middle\" x=\"662\" y=\"-745.3\" font-family=\"Helvetica,sans-Serif\" font-size=\"14.00\" fill=\"#000000\">value = [22, 27]</text>\n<text text-anchor=\"middle\" x=\"662\" y=\"-730.3\" font-family=\"Helvetica,sans-Serif\" font-size=\"14.00\" fill=\"#000000\">class = Impaired</text>\n</g>\n<!-- 17&#45;&gt;209 -->\n<g id=\"edge21\" class=\"edge\">\n<title>17&#45;&gt;209</title>\n<path fill=\"none\" stroke=\"#000000\" d=\"M537.0416,-795.2396C547.7344,-792.5664 558.8338,-789.7915 569.8071,-787.0482\"/>\n<polygon fill=\"#000000\" stroke=\"#000000\" points=\"570.9814,-790.3624 579.8339,-784.5415 569.2836,-783.5715 570.9814,-790.3624\"/>\n</g>\n<!-- 19 -->\n<g id=\"node16\" class=\"node\">\n<title>19</title>\n<path fill=\"#e99456\" stroke=\"#000000\" d=\"M936,-1007.5C936,-1007.5 796,-1007.5 796,-1007.5 790,-1007.5 784,-1001.5 784,-995.5 784,-995.5 784,-936.5 784,-936.5 784,-930.5 790,-924.5 796,-924.5 796,-924.5 936,-924.5 936,-924.5 942,-924.5 948,-930.5 948,-936.5 948,-936.5 948,-995.5 948,-995.5 948,-1001.5 942,-1007.5 936,-1007.5\"/>\n<text text-anchor=\"middle\" x=\"866\" y=\"-992.3\" font-family=\"Helvetica,sans-Serif\" font-size=\"14.00\" fill=\"#000000\">verbal_fluency &lt;= 17.5</text>\n<text text-anchor=\"middle\" x=\"866\" y=\"-977.3\" font-family=\"Helvetica,sans-Serif\" font-size=\"14.00\" fill=\"#000000\">gini = 0.223</text>\n<text text-anchor=\"middle\" x=\"866\" y=\"-962.3\" font-family=\"Helvetica,sans-Serif\" font-size=\"14.00\" fill=\"#000000\">samples = 164</text>\n<text text-anchor=\"middle\" x=\"866\" y=\"-947.3\" font-family=\"Helvetica,sans-Serif\" font-size=\"14.00\" fill=\"#000000\">value = [143, 21]</text>\n<text text-anchor=\"middle\" x=\"866\" y=\"-932.3\" font-family=\"Helvetica,sans-Serif\" font-size=\"14.00\" fill=\"#000000\">class = Normal</text>\n</g>\n<!-- 18&#45;&gt;19 -->\n<g id=\"edge15\" class=\"edge\">\n<title>18&#45;&gt;19</title>\n<path fill=\"none\" stroke=\"#000000\" d=\"M737.093,-902.1784C749.3431,-908.2434 762.1508,-914.5845 774.738,-920.8163\"/>\n<polygon fill=\"#000000\" stroke=\"#000000\" points=\"773.3385,-924.0289 783.8533,-925.3293 776.4444,-917.7557 773.3385,-924.0289\"/>\n</g>\n<!-- 82 -->\n<g id=\"node19\" class=\"node\">\n<title>82</title>\n<path fill=\"#efb388\" stroke=\"#000000\" d=\"M935,-906.5C935,-906.5 797,-906.5 797,-906.5 791,-906.5 785,-900.5 785,-894.5 785,-894.5 785,-835.5 785,-835.5 785,-829.5 791,-823.5 797,-823.5 797,-823.5 935,-823.5 935,-823.5 941,-823.5 947,-829.5 947,-835.5 947,-835.5 947,-894.5 947,-894.5 947,-900.5 941,-906.5 935,-906.5\"/>\n<text text-anchor=\"middle\" x=\"866\" y=\"-891.3\" font-family=\"Helvetica,sans-Serif\" font-size=\"14.00\" fill=\"#000000\">q_language_cg &lt;= 0.5</text>\n<text text-anchor=\"middle\" x=\"866\" y=\"-876.3\" font-family=\"Helvetica,sans-Serif\" font-size=\"14.00\" fill=\"#000000\">gini = 0.407</text>\n<text text-anchor=\"middle\" x=\"866\" y=\"-861.3\" font-family=\"Helvetica,sans-Serif\" font-size=\"14.00\" fill=\"#000000\">samples = 179</text>\n<text text-anchor=\"middle\" x=\"866\" y=\"-846.3\" font-family=\"Helvetica,sans-Serif\" font-size=\"14.00\" fill=\"#000000\">value = [128, 51]</text>\n<text text-anchor=\"middle\" x=\"866\" y=\"-831.3\" font-family=\"Helvetica,sans-Serif\" font-size=\"14.00\" fill=\"#000000\">class = Normal</text>\n</g>\n<!-- 18&#45;&gt;82 -->\n<g id=\"edge18\" class=\"edge\">\n<title>18&#45;&gt;82</title>\n<path fill=\"none\" stroke=\"#000000\" d=\"M737.093,-865C749.3741,-865 762.2158,-865 774.8337,-865\"/>\n<polygon fill=\"#000000\" stroke=\"#000000\" points=\"774.8902,-868.5001 784.8901,-865 774.8901,-861.5001 774.8902,-868.5001\"/>\n</g>\n<!-- 20 -->\n<g id=\"node17\" class=\"node\">\n<title>20</title>\n<path fill=\"#c0c0c0\" stroke=\"#000000\" d=\"M1030,-1018C1030,-1018 1000,-1018 1000,-1018 994,-1018 988,-1012 988,-1006 988,-1006 988,-994 988,-994 988,-988 994,-982 1000,-982 1000,-982 1030,-982 1030,-982 1036,-982 1042,-988 1042,-994 1042,-994 1042,-1006 1042,-1006 1042,-1012 1036,-1018 1030,-1018\"/>\n<text text-anchor=\"middle\" x=\"1015\" y=\"-996.3\" font-family=\"Helvetica,sans-Serif\" font-size=\"14.00\" fill=\"#000000\">(...)</text>\n</g>\n<!-- 19&#45;&gt;20 -->\n<g id=\"edge16\" class=\"edge\">\n<title>19&#45;&gt;20</title>\n<path fill=\"none\" stroke=\"#000000\" d=\"M948.3445,-984.79C958.7114,-987.1556 968.8734,-989.4745 978.0156,-991.5606\"/>\n<polygon fill=\"#000000\" stroke=\"#000000\" points=\"977.3325,-994.9946 987.8606,-993.8071 978.8899,-988.1701 977.3325,-994.9946\"/>\n</g>\n<!-- 37 -->\n<g id=\"node18\" class=\"node\">\n<title>37</title>\n<path fill=\"#c0c0c0\" stroke=\"#000000\" d=\"M1030,-964C1030,-964 1000,-964 1000,-964 994,-964 988,-958 988,-952 988,-952 988,-940 988,-940 988,-934 994,-928 1000,-928 1000,-928 1030,-928 1030,-928 1036,-928 1042,-934 1042,-940 1042,-940 1042,-952 1042,-952 1042,-958 1036,-964 1030,-964\"/>\n<text text-anchor=\"middle\" x=\"1015\" y=\"-942.3\" font-family=\"Helvetica,sans-Serif\" font-size=\"14.00\" fill=\"#000000\">(...)</text>\n</g>\n<!-- 19&#45;&gt;37 -->\n<g id=\"edge17\" class=\"edge\">\n<title>19&#45;&gt;37</title>\n<path fill=\"none\" stroke=\"#000000\" d=\"M948.3445,-954.9471C958.5999,-953.5705 968.6549,-952.2208 977.7203,-951.004\"/>\n<polygon fill=\"#000000\" stroke=\"#000000\" points=\"978.4151,-954.4422 987.8606,-949.6429 977.4838,-947.5044 978.4151,-954.4422\"/>\n</g>\n<!-- 83 -->\n<g id=\"node20\" class=\"node\">\n<title>83</title>\n<path fill=\"#c0c0c0\" stroke=\"#000000\" d=\"M1030,-904C1030,-904 1000,-904 1000,-904 994,-904 988,-898 988,-892 988,-892 988,-880 988,-880 988,-874 994,-868 1000,-868 1000,-868 1030,-868 1030,-868 1036,-868 1042,-874 1042,-880 1042,-880 1042,-892 1042,-892 1042,-898 1036,-904 1030,-904\"/>\n<text text-anchor=\"middle\" x=\"1015\" y=\"-882.3\" font-family=\"Helvetica,sans-Serif\" font-size=\"14.00\" fill=\"#000000\">(...)</text>\n</g>\n<!-- 82&#45;&gt;83 -->\n<g id=\"edge19\" class=\"edge\">\n<title>82&#45;&gt;83</title>\n<path fill=\"none\" stroke=\"#000000\" d=\"M947.0404,-876.4218C957.7523,-877.9315 968.2824,-879.4156 977.7358,-880.748\"/>\n<polygon fill=\"#000000\" stroke=\"#000000\" points=\"977.5132,-884.2511 987.9038,-882.1811 978.4902,-877.3196 977.5132,-884.2511\"/>\n</g>\n<!-- 208 -->\n<g id=\"node21\" class=\"node\">\n<title>208</title>\n<path fill=\"#c0c0c0\" stroke=\"#000000\" d=\"M1030,-850C1030,-850 1000,-850 1000,-850 994,-850 988,-844 988,-838 988,-838 988,-826 988,-826 988,-820 994,-814 1000,-814 1000,-814 1030,-814 1030,-814 1036,-814 1042,-820 1042,-826 1042,-826 1042,-838 1042,-838 1042,-844 1036,-850 1030,-850\"/>\n<text text-anchor=\"middle\" x=\"1015\" y=\"-828.3\" font-family=\"Helvetica,sans-Serif\" font-size=\"14.00\" fill=\"#000000\">(...)</text>\n</g>\n<!-- 82&#45;&gt;208 -->\n<g id=\"edge20\" class=\"edge\">\n<title>82&#45;&gt;208</title>\n<path fill=\"none\" stroke=\"#000000\" d=\"M947.0404,-847.0515C957.8674,-844.6535 968.5089,-842.2967 978.0404,-840.1857\"/>\n<polygon fill=\"#000000\" stroke=\"#000000\" points=\"978.8973,-843.5808 987.9038,-838.0012 977.3836,-836.7464 978.8973,-843.5808\"/>\n</g>\n<!-- 210 -->\n<g id=\"node23\" class=\"node\">\n<title>210</title>\n<path fill=\"#b6dbf5\" stroke=\"#000000\" d=\"M924.5,-805.5C924.5,-805.5 807.5,-805.5 807.5,-805.5 801.5,-805.5 795.5,-799.5 795.5,-793.5 795.5,-793.5 795.5,-734.5 795.5,-734.5 795.5,-728.5 801.5,-722.5 807.5,-722.5 807.5,-722.5 924.5,-722.5 924.5,-722.5 930.5,-722.5 936.5,-728.5 936.5,-734.5 936.5,-734.5 936.5,-793.5 936.5,-793.5 936.5,-799.5 930.5,-805.5 924.5,-805.5\"/>\n<text text-anchor=\"middle\" x=\"866\" y=\"-790.3\" font-family=\"Helvetica,sans-Serif\" font-size=\"14.00\" fill=\"#000000\">q_judgmt_pt &lt;= 0.5</text>\n<text text-anchor=\"middle\" x=\"866\" y=\"-775.3\" font-family=\"Helvetica,sans-Serif\" font-size=\"14.00\" fill=\"#000000\">gini = 0.474</text>\n<text text-anchor=\"middle\" x=\"866\" y=\"-760.3\" font-family=\"Helvetica,sans-Serif\" font-size=\"14.00\" fill=\"#000000\">samples = 44</text>\n<text text-anchor=\"middle\" x=\"866\" y=\"-745.3\" font-family=\"Helvetica,sans-Serif\" font-size=\"14.00\" fill=\"#000000\">value = [17, 27]</text>\n<text text-anchor=\"middle\" x=\"866\" y=\"-730.3\" font-family=\"Helvetica,sans-Serif\" font-size=\"14.00\" fill=\"#000000\">class = Impaired</text>\n</g>\n<!-- 209&#45;&gt;210 -->\n<g id=\"edge22\" class=\"edge\">\n<title>209&#45;&gt;210</title>\n<path fill=\"none\" stroke=\"#000000\" d=\"M744.0928,-764C757.5914,-764 771.574,-764 785.0446,-764\"/>\n<polygon fill=\"#000000\" stroke=\"#000000\" points=\"785.2294,-767.5001 795.2294,-764 785.2293,-760.5001 785.2294,-767.5001\"/>\n</g>\n<!-- 255 -->\n<g id=\"node26\" class=\"node\">\n<title>255</title>\n<path fill=\"#e58139\" stroke=\"#000000\" d=\"M910.5,-704C910.5,-704 821.5,-704 821.5,-704 815.5,-704 809.5,-698 809.5,-692 809.5,-692 809.5,-648 809.5,-648 809.5,-642 815.5,-636 821.5,-636 821.5,-636 910.5,-636 910.5,-636 916.5,-636 922.5,-642 922.5,-648 922.5,-648 922.5,-692 922.5,-692 922.5,-698 916.5,-704 910.5,-704\"/>\n<text text-anchor=\"middle\" x=\"866\" y=\"-688.8\" font-family=\"Helvetica,sans-Serif\" font-size=\"14.00\" fill=\"#000000\">gini = 0.0</text>\n<text text-anchor=\"middle\" x=\"866\" y=\"-673.8\" font-family=\"Helvetica,sans-Serif\" font-size=\"14.00\" fill=\"#000000\">samples = 5</text>\n<text text-anchor=\"middle\" x=\"866\" y=\"-658.8\" font-family=\"Helvetica,sans-Serif\" font-size=\"14.00\" fill=\"#000000\">value = [5, 0]</text>\n<text text-anchor=\"middle\" x=\"866\" y=\"-643.8\" font-family=\"Helvetica,sans-Serif\" font-size=\"14.00\" fill=\"#000000\">class = Normal</text>\n</g>\n<!-- 209&#45;&gt;255 -->\n<g id=\"edge25\" class=\"edge\">\n<title>209&#45;&gt;255</title>\n<path fill=\"none\" stroke=\"#000000\" d=\"M744.0928,-726.1729C762.7604,-717.5712 782.3536,-708.5429 800.2383,-700.3019\"/>\n<polygon fill=\"#000000\" stroke=\"#000000\" points=\"801.8038,-703.4344 809.4212,-696.0706 798.8743,-697.0768 801.8038,-703.4344\"/>\n</g>\n<!-- 211 -->\n<g id=\"node24\" class=\"node\">\n<title>211</title>\n<path fill=\"#c0c0c0\" stroke=\"#000000\" d=\"M1030,-783C1030,-783 1000,-783 1000,-783 994,-783 988,-777 988,-771 988,-771 988,-759 988,-759 988,-753 994,-747 1000,-747 1000,-747 1030,-747 1030,-747 1036,-747 1042,-753 1042,-759 1042,-759 1042,-771 1042,-771 1042,-777 1036,-783 1030,-783\"/>\n<text text-anchor=\"middle\" x=\"1015\" y=\"-761.3\" font-family=\"Helvetica,sans-Serif\" font-size=\"14.00\" fill=\"#000000\">(...)</text>\n</g>\n<!-- 210&#45;&gt;211 -->\n<g id=\"edge23\" class=\"edge\">\n<title>210&#45;&gt;211</title>\n<path fill=\"none\" stroke=\"#000000\" d=\"M936.5729,-764.4736C950.7939,-764.5691 965.2063,-764.6658 977.7296,-764.7499\"/>\n<polygon fill=\"#000000\" stroke=\"#000000\" points=\"977.7358,-768.2499 987.7591,-764.8172 977.7829,-761.25 977.7358,-768.2499\"/>\n</g>\n<!-- 238 -->\n<g id=\"node25\" class=\"node\">\n<title>238</title>\n<path fill=\"#c0c0c0\" stroke=\"#000000\" d=\"M1030,-729C1030,-729 1000,-729 1000,-729 994,-729 988,-723 988,-717 988,-717 988,-705 988,-705 988,-699 994,-693 1000,-693 1000,-693 1030,-693 1030,-693 1036,-693 1042,-699 1042,-705 1042,-705 1042,-717 1042,-717 1042,-723 1036,-729 1030,-729\"/>\n<text text-anchor=\"middle\" x=\"1015\" y=\"-707.3\" font-family=\"Helvetica,sans-Serif\" font-size=\"14.00\" fill=\"#000000\">(...)</text>\n</g>\n<!-- 210&#45;&gt;238 -->\n<g id=\"edge24\" class=\"edge\">\n<title>210&#45;&gt;238</title>\n<path fill=\"none\" stroke=\"#000000\" d=\"M936.5729,-738.8969C950.9361,-733.7878 965.4945,-728.6093 978.1047,-724.1238\"/>\n<polygon fill=\"#000000\" stroke=\"#000000\" points=\"979.5104,-727.3387 987.7591,-720.6897 977.1644,-720.7435 979.5104,-727.3387\"/>\n</g>\n<!-- 257 -->\n<g id=\"node28\" class=\"node\">\n<title>257</title>\n<path fill=\"#83c2ef\" stroke=\"#000000\" d=\"M532,-462.5C532,-462.5 392,-462.5 392,-462.5 386,-462.5 380,-456.5 380,-450.5 380,-450.5 380,-391.5 380,-391.5 380,-385.5 386,-379.5 392,-379.5 392,-379.5 532,-379.5 532,-379.5 538,-379.5 544,-385.5 544,-391.5 544,-391.5 544,-450.5 544,-450.5 544,-456.5 538,-462.5 532,-462.5\"/>\n<text text-anchor=\"middle\" x=\"462\" y=\"-447.3\" font-family=\"Helvetica,sans-Serif\" font-size=\"14.00\" fill=\"#000000\">q_outsideact_pt &lt;= 0.5</text>\n<text text-anchor=\"middle\" x=\"462\" y=\"-432.3\" font-family=\"Helvetica,sans-Serif\" font-size=\"14.00\" fill=\"#000000\">gini = 0.397</text>\n<text text-anchor=\"middle\" x=\"462\" y=\"-417.3\" font-family=\"Helvetica,sans-Serif\" font-size=\"14.00\" fill=\"#000000\">samples = 370</text>\n<text text-anchor=\"middle\" x=\"462\" y=\"-402.3\" font-family=\"Helvetica,sans-Serif\" font-size=\"14.00\" fill=\"#000000\">value = [101, 269]</text>\n<text text-anchor=\"middle\" x=\"462\" y=\"-387.3\" font-family=\"Helvetica,sans-Serif\" font-size=\"14.00\" fill=\"#000000\">class = Impaired</text>\n</g>\n<!-- 256&#45;&gt;257 -->\n<g id=\"edge27\" class=\"edge\">\n<title>256&#45;&gt;257</title>\n<path fill=\"none\" stroke=\"#000000\" d=\"M344.0692,-421C352.4859,-421 361.1153,-421 369.691,-421\"/>\n<polygon fill=\"#000000\" stroke=\"#000000\" points=\"369.7176,-424.5001 379.7175,-421 369.7175,-417.5001 369.7176,-424.5001\"/>\n</g>\n<!-- 500 -->\n<g id=\"node43\" class=\"node\">\n<title>500</title>\n<path fill=\"#42a1e6\" stroke=\"#000000\" d=\"M513.5,-314.5C513.5,-314.5 410.5,-314.5 410.5,-314.5 404.5,-314.5 398.5,-308.5 398.5,-302.5 398.5,-302.5 398.5,-243.5 398.5,-243.5 398.5,-237.5 404.5,-231.5 410.5,-231.5 410.5,-231.5 513.5,-231.5 513.5,-231.5 519.5,-231.5 525.5,-237.5 525.5,-243.5 525.5,-243.5 525.5,-302.5 525.5,-302.5 525.5,-308.5 519.5,-314.5 513.5,-314.5\"/>\n<text text-anchor=\"middle\" x=\"462\" y=\"-299.3\" font-family=\"Helvetica,sans-Serif\" font-size=\"14.00\" fill=\"#000000\">MMNAME &lt;= 1.5</text>\n<text text-anchor=\"middle\" x=\"462\" y=\"-284.3\" font-family=\"Helvetica,sans-Serif\" font-size=\"14.00\" fill=\"#000000\">gini = 0.082</text>\n<text text-anchor=\"middle\" x=\"462\" y=\"-269.3\" font-family=\"Helvetica,sans-Serif\" font-size=\"14.00\" fill=\"#000000\">samples = 372</text>\n<text text-anchor=\"middle\" x=\"462\" y=\"-254.3\" font-family=\"Helvetica,sans-Serif\" font-size=\"14.00\" fill=\"#000000\">value = [16, 356]</text>\n<text text-anchor=\"middle\" x=\"462\" y=\"-239.3\" font-family=\"Helvetica,sans-Serif\" font-size=\"14.00\" fill=\"#000000\">class = Impaired</text>\n</g>\n<!-- 256&#45;&gt;500 -->\n<g id=\"edge42\" class=\"edge\">\n<title>256&#45;&gt;500</title>\n<path fill=\"none\" stroke=\"#000000\" d=\"M321.8373,-379.3799C345.8236,-361.1749 374.1009,-339.7132 398.9516,-320.8521\"/>\n<polygon fill=\"#000000\" stroke=\"#000000\" points=\"401.3872,-323.3975 407.2368,-314.5639 397.1552,-317.8216 401.3872,-323.3975\"/>\n</g>\n<!-- 258 -->\n<g id=\"node29\" class=\"node\">\n<title>258</title>\n<path fill=\"#9acdf2\" stroke=\"#000000\" d=\"M732,-516.5C732,-516.5 592,-516.5 592,-516.5 586,-516.5 580,-510.5 580,-504.5 580,-504.5 580,-445.5 580,-445.5 580,-439.5 586,-433.5 592,-433.5 592,-433.5 732,-433.5 732,-433.5 738,-433.5 744,-439.5 744,-445.5 744,-445.5 744,-504.5 744,-504.5 744,-510.5 738,-516.5 732,-516.5\"/>\n<text text-anchor=\"middle\" x=\"662\" y=\"-501.3\" font-family=\"Helvetica,sans-Serif\" font-size=\"14.00\" fill=\"#000000\">verbal_fluency &lt;= 17.5</text>\n<text text-anchor=\"middle\" x=\"662\" y=\"-486.3\" font-family=\"Helvetica,sans-Serif\" font-size=\"14.00\" fill=\"#000000\">gini = 0.442</text>\n<text text-anchor=\"middle\" x=\"662\" y=\"-471.3\" font-family=\"Helvetica,sans-Serif\" font-size=\"14.00\" fill=\"#000000\">samples = 285</text>\n<text text-anchor=\"middle\" x=\"662\" y=\"-456.3\" font-family=\"Helvetica,sans-Serif\" font-size=\"14.00\" fill=\"#000000\">value = [94, 191]</text>\n<text text-anchor=\"middle\" x=\"662\" y=\"-441.3\" font-family=\"Helvetica,sans-Serif\" font-size=\"14.00\" fill=\"#000000\">class = Impaired</text>\n</g>\n<!-- 257&#45;&gt;258 -->\n<g id=\"edge28\" class=\"edge\">\n<title>257&#45;&gt;258</title>\n<path fill=\"none\" stroke=\"#000000\" d=\"M544.2135,-443.1976C552.7459,-445.5014 561.4569,-447.8534 570.0871,-450.1835\"/>\n<polygon fill=\"#000000\" stroke=\"#000000\" points=\"569.2159,-453.5736 579.7826,-452.8013 571.0407,-446.8156 569.2159,-453.5736\"/>\n</g>\n<!-- 469 -->\n<g id=\"node36\" class=\"node\">\n<title>469</title>\n<path fill=\"#4ba6e7\" stroke=\"#000000\" d=\"M711,-415.5C711,-415.5 613,-415.5 613,-415.5 607,-415.5 601,-409.5 601,-403.5 601,-403.5 601,-344.5 601,-344.5 601,-338.5 607,-332.5 613,-332.5 613,-332.5 711,-332.5 711,-332.5 717,-332.5 723,-338.5 723,-344.5 723,-344.5 723,-403.5 723,-403.5 723,-409.5 717,-415.5 711,-415.5\"/>\n<text text-anchor=\"middle\" x=\"662\" y=\"-400.3\" font-family=\"Helvetica,sans-Serif\" font-size=\"14.00\" fill=\"#000000\">faq3 &lt;= 1.5</text>\n<text text-anchor=\"middle\" x=\"662\" y=\"-385.3\" font-family=\"Helvetica,sans-Serif\" font-size=\"14.00\" fill=\"#000000\">gini = 0.151</text>\n<text text-anchor=\"middle\" x=\"662\" y=\"-370.3\" font-family=\"Helvetica,sans-Serif\" font-size=\"14.00\" fill=\"#000000\">samples = 85</text>\n<text text-anchor=\"middle\" x=\"662\" y=\"-355.3\" font-family=\"Helvetica,sans-Serif\" font-size=\"14.00\" fill=\"#000000\">value = [7, 78]</text>\n<text text-anchor=\"middle\" x=\"662\" y=\"-340.3\" font-family=\"Helvetica,sans-Serif\" font-size=\"14.00\" fill=\"#000000\">class = Impaired</text>\n</g>\n<!-- 257&#45;&gt;469 -->\n<g id=\"edge35\" class=\"edge\">\n<title>257&#45;&gt;469</title>\n<path fill=\"none\" stroke=\"#000000\" d=\"M544.2135,-401.6798C559.7684,-398.0244 575.9166,-394.2296 591.0866,-390.6646\"/>\n<polygon fill=\"#000000\" stroke=\"#000000\" points=\"591.9641,-394.0539 600.8982,-388.3589 590.3626,-387.2395 591.9641,-394.0539\"/>\n</g>\n<!-- 259 -->\n<g id=\"node30\" class=\"node\">\n<title>259</title>\n<path fill=\"#67b4eb\" stroke=\"#000000\" d=\"M940,-617.5C940,-617.5 792,-617.5 792,-617.5 786,-617.5 780,-611.5 780,-605.5 780,-605.5 780,-546.5 780,-546.5 780,-540.5 786,-534.5 792,-534.5 792,-534.5 940,-534.5 940,-534.5 946,-534.5 952,-540.5 952,-546.5 952,-546.5 952,-605.5 952,-605.5 952,-611.5 946,-617.5 940,-617.5\"/>\n<text text-anchor=\"middle\" x=\"866\" y=\"-602.3\" font-family=\"Helvetica,sans-Serif\" font-size=\"14.00\" fill=\"#000000\">moca_similarities &lt;= 1.5</text>\n<text text-anchor=\"middle\" x=\"866\" y=\"-587.3\" font-family=\"Helvetica,sans-Serif\" font-size=\"14.00\" fill=\"#000000\">gini = 0.307</text>\n<text text-anchor=\"middle\" x=\"866\" y=\"-572.3\" font-family=\"Helvetica,sans-Serif\" font-size=\"14.00\" fill=\"#000000\">samples = 111</text>\n<text text-anchor=\"middle\" x=\"866\" y=\"-557.3\" font-family=\"Helvetica,sans-Serif\" font-size=\"14.00\" fill=\"#000000\">value = [21, 90]</text>\n<text text-anchor=\"middle\" x=\"866\" y=\"-542.3\" font-family=\"Helvetica,sans-Serif\" font-size=\"14.00\" fill=\"#000000\">class = Impaired</text>\n</g>\n<!-- 258&#45;&gt;259 -->\n<g id=\"edge29\" class=\"edge\">\n<title>258&#45;&gt;259</title>\n<path fill=\"none\" stroke=\"#000000\" d=\"M744.0928,-515.644C753.5737,-520.3379 763.2933,-525.1501 772.9065,-529.9096\"/>\n<polygon fill=\"#000000\" stroke=\"#000000\" points=\"771.5648,-533.1508 782.0795,-534.4511 774.6707,-526.8775 771.5648,-533.1508\"/>\n</g>\n<!-- 338 -->\n<g id=\"node33\" class=\"node\">\n<title>338</title>\n<path fill=\"#c8e4f8\" stroke=\"#000000\" d=\"M929,-516.5C929,-516.5 803,-516.5 803,-516.5 797,-516.5 791,-510.5 791,-504.5 791,-504.5 791,-445.5 791,-445.5 791,-439.5 797,-433.5 803,-433.5 803,-433.5 929,-433.5 929,-433.5 935,-433.5 941,-439.5 941,-445.5 941,-445.5 941,-504.5 941,-504.5 941,-510.5 935,-516.5 929,-516.5\"/>\n<text text-anchor=\"middle\" x=\"866\" y=\"-501.3\" font-family=\"Helvetica,sans-Serif\" font-size=\"14.00\" fill=\"#000000\">q_memory_pt &lt;= 0.5</text>\n<text text-anchor=\"middle\" x=\"866\" y=\"-486.3\" font-family=\"Helvetica,sans-Serif\" font-size=\"14.00\" fill=\"#000000\">gini = 0.487</text>\n<text text-anchor=\"middle\" x=\"866\" y=\"-471.3\" font-family=\"Helvetica,sans-Serif\" font-size=\"14.00\" fill=\"#000000\">samples = 174</text>\n<text text-anchor=\"middle\" x=\"866\" y=\"-456.3\" font-family=\"Helvetica,sans-Serif\" font-size=\"14.00\" fill=\"#000000\">value = [73, 101]</text>\n<text text-anchor=\"middle\" x=\"866\" y=\"-441.3\" font-family=\"Helvetica,sans-Serif\" font-size=\"14.00\" fill=\"#000000\">class = Impaired</text>\n</g>\n<!-- 258&#45;&gt;338 -->\n<g id=\"edge32\" class=\"edge\">\n<title>258&#45;&gt;338</title>\n<path fill=\"none\" stroke=\"#000000\" d=\"M744.0928,-475C756.2023,-475 768.7012,-475 780.8707,-475\"/>\n<polygon fill=\"#000000\" stroke=\"#000000\" points=\"780.9997,-478.5001 790.9997,-475 780.9997,-471.5001 780.9997,-478.5001\"/>\n</g>\n<!-- 260 -->\n<g id=\"node31\" class=\"node\">\n<title>260</title>\n<path fill=\"#c0c0c0\" stroke=\"#000000\" d=\"M1030,-648C1030,-648 1000,-648 1000,-648 994,-648 988,-642 988,-636 988,-636 988,-624 988,-624 988,-618 994,-612 1000,-612 1000,-612 1030,-612 1030,-612 1036,-612 1042,-618 1042,-624 1042,-624 1042,-636 1042,-636 1042,-642 1036,-648 1030,-648\"/>\n<text text-anchor=\"middle\" x=\"1015\" y=\"-626.3\" font-family=\"Helvetica,sans-Serif\" font-size=\"14.00\" fill=\"#000000\">(...)</text>\n</g>\n<!-- 259&#45;&gt;260 -->\n<g id=\"edge30\" class=\"edge\">\n<title>259&#45;&gt;260</title>\n<path fill=\"none\" stroke=\"#000000\" d=\"M952.2424,-607.2556C961.3932,-610.572 970.3014,-613.8005 978.3962,-616.7342\"/>\n<polygon fill=\"#000000\" stroke=\"#000000\" points=\"977.2339,-620.0357 987.8281,-620.1525 979.6191,-613.4545 977.2339,-620.0357\"/>\n</g>\n<!-- 269 -->\n<g id=\"node32\" class=\"node\">\n<title>269</title>\n<path fill=\"#c0c0c0\" stroke=\"#000000\" d=\"M1030,-594C1030,-594 1000,-594 1000,-594 994,-594 988,-588 988,-582 988,-582 988,-570 988,-570 988,-564 994,-558 1000,-558 1000,-558 1030,-558 1030,-558 1036,-558 1042,-564 1042,-570 1042,-570 1042,-582 1042,-582 1042,-588 1036,-594 1030,-594\"/>\n<text text-anchor=\"middle\" x=\"1015\" y=\"-572.3\" font-family=\"Helvetica,sans-Serif\" font-size=\"14.00\" fill=\"#000000\">(...)</text>\n</g>\n<!-- 259&#45;&gt;269 -->\n<g id=\"edge31\" class=\"edge\">\n<title>259&#45;&gt;269</title>\n<path fill=\"none\" stroke=\"#000000\" d=\"M952.2424,-576C961.0915,-576 969.7138,-576 977.593,-576\"/>\n<polygon fill=\"#000000\" stroke=\"#000000\" points=\"977.8282,-579.5001 987.8281,-576 977.8281,-572.5001 977.8282,-579.5001\"/>\n</g>\n<!-- 339 -->\n<g id=\"node34\" class=\"node\">\n<title>339</title>\n<path fill=\"#c0c0c0\" stroke=\"#000000\" d=\"M1030,-539C1030,-539 1000,-539 1000,-539 994,-539 988,-533 988,-527 988,-527 988,-515 988,-515 988,-509 994,-503 1000,-503 1000,-503 1030,-503 1030,-503 1036,-503 1042,-509 1042,-515 1042,-515 1042,-527 1042,-527 1042,-533 1036,-539 1030,-539\"/>\n<text text-anchor=\"middle\" x=\"1015\" y=\"-517.3\" font-family=\"Helvetica,sans-Serif\" font-size=\"14.00\" fill=\"#000000\">(...)</text>\n</g>\n<!-- 338&#45;&gt;339 -->\n<g id=\"edge33\" class=\"edge\">\n<title>338&#45;&gt;339</title>\n<path fill=\"none\" stroke=\"#000000\" d=\"M941.373,-498.2695C954.0837,-502.1936 966.7604,-506.1072 977.9231,-509.5534\"/>\n<polygon fill=\"#000000\" stroke=\"#000000\" points=\"977.1188,-512.9681 987.7063,-512.5738 979.1838,-506.2796 977.1188,-512.9681\"/>\n</g>\n<!-- 366 -->\n<g id=\"node35\" class=\"node\">\n<title>366</title>\n<path fill=\"#c0c0c0\" stroke=\"#000000\" d=\"M1030,-485C1030,-485 1000,-485 1000,-485 994,-485 988,-479 988,-473 988,-473 988,-461 988,-461 988,-455 994,-449 1000,-449 1000,-449 1030,-449 1030,-449 1036,-449 1042,-455 1042,-461 1042,-461 1042,-473 1042,-473 1042,-479 1036,-485 1030,-485\"/>\n<text text-anchor=\"middle\" x=\"1015\" y=\"-463.3\" font-family=\"Helvetica,sans-Serif\" font-size=\"14.00\" fill=\"#000000\">(...)</text>\n</g>\n<!-- 338&#45;&gt;366 -->\n<g id=\"edge34\" class=\"edge\">\n<title>338&#45;&gt;366</title>\n<path fill=\"none\" stroke=\"#000000\" d=\"M941.373,-470.9531C953.954,-470.2776 966.5017,-469.6039 977.5809,-469.0091\"/>\n<polygon fill=\"#000000\" stroke=\"#000000\" points=\"977.9084,-472.4966 987.7063,-468.4654 977.533,-465.5067 977.9084,-472.4966\"/>\n</g>\n<!-- 470 -->\n<g id=\"node37\" class=\"node\">\n<title>470</title>\n<path fill=\"#46a4e7\" stroke=\"#000000\" d=\"M936,-415.5C936,-415.5 796,-415.5 796,-415.5 790,-415.5 784,-409.5 784,-403.5 784,-403.5 784,-344.5 784,-344.5 784,-338.5 790,-332.5 796,-332.5 796,-332.5 936,-332.5 936,-332.5 942,-332.5 948,-338.5 948,-344.5 948,-344.5 948,-403.5 948,-403.5 948,-409.5 942,-415.5 936,-415.5\"/>\n<text text-anchor=\"middle\" x=\"866\" y=\"-400.3\" font-family=\"Helvetica,sans-Serif\" font-size=\"14.00\" fill=\"#000000\">verbal_fluency &lt;= 15.5</text>\n<text text-anchor=\"middle\" x=\"866\" y=\"-385.3\" font-family=\"Helvetica,sans-Serif\" font-size=\"14.00\" fill=\"#000000\">gini = 0.119</text>\n<text text-anchor=\"middle\" x=\"866\" y=\"-370.3\" font-family=\"Helvetica,sans-Serif\" font-size=\"14.00\" fill=\"#000000\">samples = 79</text>\n<text text-anchor=\"middle\" x=\"866\" y=\"-355.3\" font-family=\"Helvetica,sans-Serif\" font-size=\"14.00\" fill=\"#000000\">value = [5, 74]</text>\n<text text-anchor=\"middle\" x=\"866\" y=\"-340.3\" font-family=\"Helvetica,sans-Serif\" font-size=\"14.00\" fill=\"#000000\">class = Impaired</text>\n</g>\n<!-- 469&#45;&gt;470 -->\n<g id=\"edge36\" class=\"edge\">\n<title>469&#45;&gt;470</title>\n<path fill=\"none\" stroke=\"#000000\" d=\"M723.2067,-374C739.1001,-374 756.5756,-374 773.6844,-374\"/>\n<polygon fill=\"#000000\" stroke=\"#000000\" points=\"773.7007,-377.5001 783.7006,-374 773.7006,-370.5001 773.7007,-377.5001\"/>\n</g>\n<!-- 497 -->\n<g id=\"node40\" class=\"node\">\n<title>497</title>\n<path fill=\"#9ccef2\" stroke=\"#000000\" d=\"M936,-314.5C936,-314.5 796,-314.5 796,-314.5 790,-314.5 784,-308.5 784,-302.5 784,-302.5 784,-243.5 784,-243.5 784,-237.5 790,-231.5 796,-231.5 796,-231.5 936,-231.5 936,-231.5 942,-231.5 948,-237.5 948,-243.5 948,-243.5 948,-302.5 948,-302.5 948,-308.5 942,-314.5 936,-314.5\"/>\n<text text-anchor=\"middle\" x=\"866\" y=\"-299.3\" font-family=\"Helvetica,sans-Serif\" font-size=\"14.00\" fill=\"#000000\">verbal_fluency &lt;= 20.0</text>\n<text text-anchor=\"middle\" x=\"866\" y=\"-284.3\" font-family=\"Helvetica,sans-Serif\" font-size=\"14.00\" fill=\"#000000\">gini = 0.444</text>\n<text text-anchor=\"middle\" x=\"866\" y=\"-269.3\" font-family=\"Helvetica,sans-Serif\" font-size=\"14.00\" fill=\"#000000\">samples = 6</text>\n<text text-anchor=\"middle\" x=\"866\" y=\"-254.3\" font-family=\"Helvetica,sans-Serif\" font-size=\"14.00\" fill=\"#000000\">value = [2, 4]</text>\n<text text-anchor=\"middle\" x=\"866\" y=\"-239.3\" font-family=\"Helvetica,sans-Serif\" font-size=\"14.00\" fill=\"#000000\">class = Impaired</text>\n</g>\n<!-- 469&#45;&gt;497 -->\n<g id=\"edge39\" class=\"edge\">\n<title>469&#45;&gt;497</title>\n<path fill=\"none\" stroke=\"#000000\" d=\"M723.2067,-343.6967C739.3972,-335.6808 757.2295,-326.8521 774.6433,-318.2305\"/>\n<polygon fill=\"#000000\" stroke=\"#000000\" points=\"776.2918,-321.3199 783.7006,-313.7462 773.1859,-315.0466 776.2918,-321.3199\"/>\n</g>\n<!-- 471 -->\n<g id=\"node38\" class=\"node\">\n<title>471</title>\n<path fill=\"#c0c0c0\" stroke=\"#000000\" d=\"M1030,-430C1030,-430 1000,-430 1000,-430 994,-430 988,-424 988,-418 988,-418 988,-406 988,-406 988,-400 994,-394 1000,-394 1000,-394 1030,-394 1030,-394 1036,-394 1042,-400 1042,-406 1042,-406 1042,-418 1042,-418 1042,-424 1036,-430 1030,-430\"/>\n<text text-anchor=\"middle\" x=\"1015\" y=\"-408.3\" font-family=\"Helvetica,sans-Serif\" font-size=\"14.00\" fill=\"#000000\">(...)</text>\n</g>\n<!-- 470&#45;&gt;471 -->\n<g id=\"edge37\" class=\"edge\">\n<title>470&#45;&gt;471</title>\n<path fill=\"none\" stroke=\"#000000\" d=\"M948.3445,-395.0006C958.7114,-397.6445 968.8734,-400.2362 978.0156,-402.5677\"/>\n<polygon fill=\"#000000\" stroke=\"#000000\" points=\"977.3058,-405.9987 987.8606,-405.0785 979.0357,-399.2158 977.3058,-405.9987\"/>\n</g>\n<!-- 472 -->\n<g id=\"node39\" class=\"node\">\n<title>472</title>\n<path fill=\"#c0c0c0\" stroke=\"#000000\" d=\"M1030,-376C1030,-376 1000,-376 1000,-376 994,-376 988,-370 988,-364 988,-364 988,-352 988,-352 988,-346 994,-340 1000,-340 1000,-340 1030,-340 1030,-340 1036,-340 1042,-346 1042,-352 1042,-352 1042,-364 1042,-364 1042,-370 1036,-376 1030,-376\"/>\n<text text-anchor=\"middle\" x=\"1015\" y=\"-354.3\" font-family=\"Helvetica,sans-Serif\" font-size=\"14.00\" fill=\"#000000\">(...)</text>\n</g>\n<!-- 470&#45;&gt;472 -->\n<g id=\"edge38\" class=\"edge\">\n<title>470&#45;&gt;472</title>\n<path fill=\"none\" stroke=\"#000000\" d=\"M948.3445,-365.1576C958.5999,-364.0564 968.6549,-362.9767 977.7203,-362.0032\"/>\n<polygon fill=\"#000000\" stroke=\"#000000\" points=\"978.2915,-365.4621 987.8606,-360.9143 977.544,-358.5021 978.2915,-365.4621\"/>\n</g>\n<!-- 498 -->\n<g id=\"node41\" class=\"node\">\n<title>498</title>\n<path fill=\"#c0c0c0\" stroke=\"#000000\" d=\"M1030,-320C1030,-320 1000,-320 1000,-320 994,-320 988,-314 988,-308 988,-308 988,-296 988,-296 988,-290 994,-284 1000,-284 1000,-284 1030,-284 1030,-284 1036,-284 1042,-290 1042,-296 1042,-296 1042,-308 1042,-308 1042,-314 1036,-320 1030,-320\"/>\n<text text-anchor=\"middle\" x=\"1015\" y=\"-298.3\" font-family=\"Helvetica,sans-Serif\" font-size=\"14.00\" fill=\"#000000\">(...)</text>\n</g>\n<!-- 497&#45;&gt;498 -->\n<g id=\"edge40\" class=\"edge\">\n<title>497&#45;&gt;498</title>\n<path fill=\"none\" stroke=\"#000000\" d=\"M948.3445,-289.0268C958.7114,-291.0445 968.8734,-293.0223 978.0156,-294.8017\"/>\n<polygon fill=\"#000000\" stroke=\"#000000\" points=\"977.3761,-298.2428 987.8606,-296.7178 978.7135,-291.3718 977.3761,-298.2428\"/>\n</g>\n<!-- 499 -->\n<g id=\"node42\" class=\"node\">\n<title>499</title>\n<path fill=\"#c0c0c0\" stroke=\"#000000\" d=\"M1030,-266C1030,-266 1000,-266 1000,-266 994,-266 988,-260 988,-254 988,-254 988,-242 988,-242 988,-236 994,-230 1000,-230 1000,-230 1030,-230 1030,-230 1036,-230 1042,-236 1042,-242 1042,-242 1042,-254 1042,-254 1042,-260 1036,-266 1030,-266\"/>\n<text text-anchor=\"middle\" x=\"1015\" y=\"-244.3\" font-family=\"Helvetica,sans-Serif\" font-size=\"14.00\" fill=\"#000000\">(...)</text>\n</g>\n<!-- 497&#45;&gt;499 -->\n<g id=\"edge41\" class=\"edge\">\n<title>497&#45;&gt;499</title>\n<path fill=\"none\" stroke=\"#000000\" d=\"M948.3445,-259.1838C958.5999,-257.4631 968.6549,-255.776 977.7203,-254.255\"/>\n<polygon fill=\"#000000\" stroke=\"#000000\" points=\"978.5776,-257.6601 987.8606,-252.5536 977.4193,-250.7566 978.5776,-257.6601\"/>\n</g>\n<!-- 501 -->\n<g id=\"node44\" class=\"node\">\n<title>501</title>\n<path fill=\"#e58139\" stroke=\"#000000\" d=\"M706.5,-307C706.5,-307 617.5,-307 617.5,-307 611.5,-307 605.5,-301 605.5,-295 605.5,-295 605.5,-251 605.5,-251 605.5,-245 611.5,-239 617.5,-239 617.5,-239 706.5,-239 706.5,-239 712.5,-239 718.5,-245 718.5,-251 718.5,-251 718.5,-295 718.5,-295 718.5,-301 712.5,-307 706.5,-307\"/>\n<text text-anchor=\"middle\" x=\"662\" y=\"-291.8\" font-family=\"Helvetica,sans-Serif\" font-size=\"14.00\" fill=\"#000000\">gini = 0.0</text>\n<text text-anchor=\"middle\" x=\"662\" y=\"-276.8\" font-family=\"Helvetica,sans-Serif\" font-size=\"14.00\" fill=\"#000000\">samples = 1</text>\n<text text-anchor=\"middle\" x=\"662\" y=\"-261.8\" font-family=\"Helvetica,sans-Serif\" font-size=\"14.00\" fill=\"#000000\">value = [1, 0]</text>\n<text text-anchor=\"middle\" x=\"662\" y=\"-246.8\" font-family=\"Helvetica,sans-Serif\" font-size=\"14.00\" fill=\"#000000\">class = Normal</text>\n</g>\n<!-- 500&#45;&gt;501 -->\n<g id=\"edge43\" class=\"edge\">\n<title>500&#45;&gt;501</title>\n<path fill=\"none\" stroke=\"#000000\" d=\"M525.5561,-273C547.7745,-273 572.7736,-273 595.2453,-273\"/>\n<polygon fill=\"#000000\" stroke=\"#000000\" points=\"595.3733,-276.5001 605.3732,-273 595.3732,-269.5001 595.3733,-276.5001\"/>\n</g>\n<!-- 502 -->\n<g id=\"node45\" class=\"node\">\n<title>502</title>\n<path fill=\"#41a1e6\" stroke=\"#000000\" d=\"M720.5,-213.5C720.5,-213.5 603.5,-213.5 603.5,-213.5 597.5,-213.5 591.5,-207.5 591.5,-201.5 591.5,-201.5 591.5,-142.5 591.5,-142.5 591.5,-136.5 597.5,-130.5 603.5,-130.5 603.5,-130.5 720.5,-130.5 720.5,-130.5 726.5,-130.5 732.5,-136.5 732.5,-142.5 732.5,-142.5 732.5,-201.5 732.5,-201.5 732.5,-207.5 726.5,-213.5 720.5,-213.5\"/>\n<text text-anchor=\"middle\" x=\"662\" y=\"-198.3\" font-family=\"Helvetica,sans-Serif\" font-size=\"14.00\" fill=\"#000000\">moca_orient &lt;= 5.5</text>\n<text text-anchor=\"middle\" x=\"662\" y=\"-183.3\" font-family=\"Helvetica,sans-Serif\" font-size=\"14.00\" fill=\"#000000\">gini = 0.078</text>\n<text text-anchor=\"middle\" x=\"662\" y=\"-168.3\" font-family=\"Helvetica,sans-Serif\" font-size=\"14.00\" fill=\"#000000\">samples = 371</text>\n<text text-anchor=\"middle\" x=\"662\" y=\"-153.3\" font-family=\"Helvetica,sans-Serif\" font-size=\"14.00\" fill=\"#000000\">value = [15, 356]</text>\n<text text-anchor=\"middle\" x=\"662\" y=\"-138.3\" font-family=\"Helvetica,sans-Serif\" font-size=\"14.00\" fill=\"#000000\">class = Impaired</text>\n</g>\n<!-- 500&#45;&gt;502 -->\n<g id=\"edge44\" class=\"edge\">\n<title>500&#45;&gt;502</title>\n<path fill=\"none\" stroke=\"#000000\" d=\"M525.5561,-240.9042C543.5442,-231.8202 563.355,-221.8157 582.1715,-212.3134\"/>\n<polygon fill=\"#000000\" stroke=\"#000000\" points=\"583.9679,-215.3272 591.3165,-207.6951 580.8124,-209.0788 583.9679,-215.3272\"/>\n</g>\n<!-- 503 -->\n<g id=\"node46\" class=\"node\">\n<title>503</title>\n<path fill=\"#3b9ee5\" stroke=\"#000000\" d=\"M924.5,-213.5C924.5,-213.5 807.5,-213.5 807.5,-213.5 801.5,-213.5 795.5,-207.5 795.5,-201.5 795.5,-201.5 795.5,-142.5 795.5,-142.5 795.5,-136.5 801.5,-130.5 807.5,-130.5 807.5,-130.5 924.5,-130.5 924.5,-130.5 930.5,-130.5 936.5,-136.5 936.5,-142.5 936.5,-142.5 936.5,-201.5 936.5,-201.5 936.5,-207.5 930.5,-213.5 924.5,-213.5\"/>\n<text text-anchor=\"middle\" x=\"866\" y=\"-198.3\" font-family=\"Helvetica,sans-Serif\" font-size=\"14.00\" fill=\"#000000\">moca_orient &lt;= 4.5</text>\n<text text-anchor=\"middle\" x=\"866\" y=\"-183.3\" font-family=\"Helvetica,sans-Serif\" font-size=\"14.00\" fill=\"#000000\">gini = 0.019</text>\n<text text-anchor=\"middle\" x=\"866\" y=\"-168.3\" font-family=\"Helvetica,sans-Serif\" font-size=\"14.00\" fill=\"#000000\">samples = 214</text>\n<text text-anchor=\"middle\" x=\"866\" y=\"-153.3\" font-family=\"Helvetica,sans-Serif\" font-size=\"14.00\" fill=\"#000000\">value = [2, 212]</text>\n<text text-anchor=\"middle\" x=\"866\" y=\"-138.3\" font-family=\"Helvetica,sans-Serif\" font-size=\"14.00\" fill=\"#000000\">class = Impaired</text>\n</g>\n<!-- 502&#45;&gt;503 -->\n<g id=\"edge45\" class=\"edge\">\n<title>502&#45;&gt;503</title>\n<path fill=\"none\" stroke=\"#000000\" d=\"M732.7768,-172C749.7077,-172 767.9088,-172 785.2521,-172\"/>\n<polygon fill=\"#000000\" stroke=\"#000000\" points=\"785.3484,-175.5001 795.3483,-172 785.3483,-168.5001 785.3484,-175.5001\"/>\n</g>\n<!-- 516 -->\n<g id=\"node49\" class=\"node\">\n<title>516</title>\n<path fill=\"#4ba6e7\" stroke=\"#000000\" d=\"M916,-112.5C916,-112.5 816,-112.5 816,-112.5 810,-112.5 804,-106.5 804,-100.5 804,-100.5 804,-41.5 804,-41.5 804,-35.5 810,-29.5 816,-29.5 816,-29.5 916,-29.5 916,-29.5 922,-29.5 928,-35.5 928,-41.5 928,-41.5 928,-100.5 928,-100.5 928,-106.5 922,-112.5 916,-112.5\"/>\n<text text-anchor=\"middle\" x=\"866\" y=\"-97.3\" font-family=\"Helvetica,sans-Serif\" font-size=\"14.00\" fill=\"#000000\">faq3 &lt;= 0.5</text>\n<text text-anchor=\"middle\" x=\"866\" y=\"-82.3\" font-family=\"Helvetica,sans-Serif\" font-size=\"14.00\" fill=\"#000000\">gini = 0.152</text>\n<text text-anchor=\"middle\" x=\"866\" y=\"-67.3\" font-family=\"Helvetica,sans-Serif\" font-size=\"14.00\" fill=\"#000000\">samples = 157</text>\n<text text-anchor=\"middle\" x=\"866\" y=\"-52.3\" font-family=\"Helvetica,sans-Serif\" font-size=\"14.00\" fill=\"#000000\">value = [13, 144]</text>\n<text text-anchor=\"middle\" x=\"866\" y=\"-37.3\" font-family=\"Helvetica,sans-Serif\" font-size=\"14.00\" fill=\"#000000\">class = Impaired</text>\n</g>\n<!-- 502&#45;&gt;516 -->\n<g id=\"edge48\" class=\"edge\">\n<title>502&#45;&gt;516</title>\n<path fill=\"none\" stroke=\"#000000\" d=\"M732.7768,-136.9586C752.8355,-127.0275 774.677,-116.2138 794.7628,-106.2694\"/>\n<polygon fill=\"#000000\" stroke=\"#000000\" points=\"796.4462,-109.3415 803.8551,-101.7678 793.3403,-103.0682 796.4462,-109.3415\"/>\n</g>\n<!-- 504 -->\n<g id=\"node47\" class=\"node\">\n<title>504</title>\n<path fill=\"#c0c0c0\" stroke=\"#000000\" d=\"M1030,-207C1030,-207 1000,-207 1000,-207 994,-207 988,-201 988,-195 988,-195 988,-183 988,-183 988,-177 994,-171 1000,-171 1000,-171 1030,-171 1030,-171 1036,-171 1042,-177 1042,-183 1042,-183 1042,-195 1042,-195 1042,-201 1036,-207 1030,-207\"/>\n<text text-anchor=\"middle\" x=\"1015\" y=\"-185.3\" font-family=\"Helvetica,sans-Serif\" font-size=\"14.00\" fill=\"#000000\">(...)</text>\n</g>\n<!-- 503&#45;&gt;504 -->\n<g id=\"edge46\" class=\"edge\">\n<title>503&#45;&gt;504</title>\n<path fill=\"none\" stroke=\"#000000\" d=\"M936.5729,-180.0519C950.7939,-181.6745 965.2063,-183.3188 977.7296,-184.7477\"/>\n<polygon fill=\"#000000\" stroke=\"#000000\" points=\"977.4268,-188.2357 987.7591,-185.892 978.2204,-181.2809 977.4268,-188.2357\"/>\n</g>\n<!-- 505 -->\n<g id=\"node48\" class=\"node\">\n<title>505</title>\n<path fill=\"#c0c0c0\" stroke=\"#000000\" d=\"M1030,-153C1030,-153 1000,-153 1000,-153 994,-153 988,-147 988,-141 988,-141 988,-129 988,-129 988,-123 994,-117 1000,-117 1000,-117 1030,-117 1030,-117 1036,-117 1042,-123 1042,-129 1042,-129 1042,-141 1042,-141 1042,-147 1036,-153 1030,-153\"/>\n<text text-anchor=\"middle\" x=\"1015\" y=\"-131.3\" font-family=\"Helvetica,sans-Serif\" font-size=\"14.00\" fill=\"#000000\">(...)</text>\n</g>\n<!-- 503&#45;&gt;505 -->\n<g id=\"edge47\" class=\"edge\">\n<title>503&#45;&gt;505</title>\n<path fill=\"none\" stroke=\"#000000\" d=\"M936.5729,-154.4752C950.7939,-150.9438 965.2063,-147.3649 977.7296,-144.2551\"/>\n<polygon fill=\"#000000\" stroke=\"#000000\" points=\"978.8974,-147.5714 987.7591,-141.7645 977.2104,-140.7778 978.8974,-147.5714\"/>\n</g>\n<!-- 517 -->\n<g id=\"node50\" class=\"node\">\n<title>517</title>\n<path fill=\"#c0c0c0\" stroke=\"#000000\" d=\"M1030,-90C1030,-90 1000,-90 1000,-90 994,-90 988,-84 988,-78 988,-78 988,-66 988,-66 988,-60 994,-54 1000,-54 1000,-54 1030,-54 1030,-54 1036,-54 1042,-60 1042,-66 1042,-66 1042,-78 1042,-78 1042,-84 1036,-90 1030,-90\"/>\n<text text-anchor=\"middle\" x=\"1015\" y=\"-68.3\" font-family=\"Helvetica,sans-Serif\" font-size=\"14.00\" fill=\"#000000\">(...)</text>\n</g>\n<!-- 516&#45;&gt;517 -->\n<g id=\"edge49\" class=\"edge\">\n<title>516&#45;&gt;517</title>\n<path fill=\"none\" stroke=\"#000000\" d=\"M928.3261,-71.4183C945.0104,-71.5303 962.532,-71.6479 977.4206,-71.7478\"/>\n<polygon fill=\"#000000\" stroke=\"#000000\" points=\"977.7237,-75.2498 987.7469,-71.8171 977.7707,-68.25 977.7237,-75.2498\"/>\n</g>\n<!-- 556 -->\n<g id=\"node51\" class=\"node\">\n<title>556</title>\n<path fill=\"#c0c0c0\" stroke=\"#000000\" d=\"M1030,-36C1030,-36 1000,-36 1000,-36 994,-36 988,-30 988,-24 988,-24 988,-12 988,-12 988,-6 994,0 1000,0 1000,0 1030,0 1030,0 1036,0 1042,-6 1042,-12 1042,-12 1042,-24 1042,-24 1042,-30 1036,-36 1030,-36\"/>\n<text text-anchor=\"middle\" x=\"1015\" y=\"-14.3\" font-family=\"Helvetica,sans-Serif\" font-size=\"14.00\" fill=\"#000000\">(...)</text>\n</g>\n<!-- 516&#45;&gt;556 -->\n<g id=\"edge50\" class=\"edge\">\n<title>516&#45;&gt;556</title>\n<path fill=\"none\" stroke=\"#000000\" d=\"M928.3261,-48.8303C945.3344,-42.7804 963.2128,-36.421 978.2849,-31.0597\"/>\n<polygon fill=\"#000000\" stroke=\"#000000\" points=\"979.4982,-34.343 987.7469,-27.694 977.1522,-27.7479 979.4982,-34.343\"/>\n</g>\n</g>\n</svg>\n"
          },
          "metadata": {
            "tags": []
          },
          "execution_count": 98
        }
      ]
    },
    {
      "cell_type": "markdown",
      "metadata": {
        "id": "6IiVDuVQ75NJ",
        "colab_type": "text"
      },
      "source": [
        "## Row 26: ['q_memory_cg', 'q_memory_pt', 'q_language_cg', 'moca_similarities', 'PTHAND', 'PTRETIRED', 'PTHOME', 'q_attention_pt', 'moca_orient', 'FAMHISTAD', 'q_outsideact_pt', 'q_judgmt_pt', 'MMNAME']"
      ]
    },
    {
      "cell_type": "code",
      "metadata": {
        "id": "zWA-luJ98J7W",
        "colab_type": "code",
        "colab": {}
      },
      "source": [
        "features = df_costsum.iloc[26,3]"
      ],
      "execution_count": 0,
      "outputs": []
    },
    {
      "cell_type": "code",
      "metadata": {
        "colab_type": "code",
        "outputId": "1de78897-ceb3-4352-86f9-838a7fec5eda",
        "id": "qwHYK1ztFbP7",
        "colab": {
          "base_uri": "https://localhost:8080/",
          "height": 289
        }
      },
      "source": [
        "X_train = adni_X.loc[:,features]\n",
        "X_test = clinic_X.loc[:,features]\n",
        "\n",
        "clf = RandomForestClassifier(n_estimators=300, max_features=None, \n",
        "                            min_samples_leaf=30, bootstrap=False, random_state=0)\n",
        "clf.fit(X_train, adni_y.values.ravel())\n",
        "y_pred = clf.predict(X_test)\n",
        "print('AUC: ', roc_auc_score(clinic_y, y_pred))\n",
        "print('\\n')\n",
        "print(classification_report(clinic_y, y_pred, digits=3))\n",
        "print('\\n')\n",
        "print(confusion_matrix(clinic_y, y_pred))"
      ],
      "execution_count": 0,
      "outputs": [
        {
          "output_type": "stream",
          "text": [
            "AUC:  0.8143595505617979\n",
            "\n",
            "\n",
            "              precision    recall  f1-score   support\n",
            "\n",
            "         0.0      0.698     0.904     0.787       125\n",
            "         1.0      0.915     0.725     0.809       178\n",
            "\n",
            "    accuracy                          0.799       303\n",
            "   macro avg      0.806     0.814     0.798       303\n",
            "weighted avg      0.825     0.799     0.800       303\n",
            "\n",
            "\n",
            "\n",
            "[[113  12]\n",
            " [ 49 129]]\n"
          ],
          "name": "stdout"
        }
      ]
    },
    {
      "cell_type": "code",
      "metadata": {
        "colab_type": "code",
        "outputId": "3134eaad-0694-4951-b92a-87b9f43461e5",
        "id": "Q08k8PWqFbP-",
        "colab": {
          "base_uri": "https://localhost:8080/",
          "height": 295
        }
      },
      "source": [
        "adni_proba = clf.predict_proba(X_test)\n",
        "roc = skplt.metrics.plot_roc(clinic_y, adni_proba)\n",
        "# fig = roc.get_figure()\n",
        "# fig.savefig(f'{dir}/Figures/roc_eff_row0_3', dpi=300)"
      ],
      "execution_count": 0,
      "outputs": [
        {
          "output_type": "display_data",
          "data": {
            "image/png": "[encoded data removed]",
            "text/plain": [
              "<Figure size 432x288 with 1 Axes>"
            ]
          },
          "metadata": {
            "tags": []
          }
        }
      ]
    },
    {
      "cell_type": "code",
      "metadata": {
        "colab_type": "code",
        "outputId": "706ef71b-bd90-41da-c1dc-a36070f84939",
        "id": "tynesDz_FbQA",
        "colab": {
          "base_uri": "https://localhost:8080/",
          "height": 308
        }
      },
      "source": [
        "clf = MLPClassifier(hidden_layer_sizes=(105,75,60,15), activation='relu', \n",
        "                      solver='sgd', alpha=.0001, learning_rate_init=.001, \n",
        "                      max_iter=10000, random_state=0)\n",
        "clf.fit(X_train, adni_y.values.ravel())\n",
        "y_pred = clf.predict(X_test)\n",
        "print('AUC: ', roc_auc_score(clinic_y, y_pred))\n",
        "print('\\n')\n",
        "print(classification_report(clinic_y, y_pred, digits=3))\n",
        "print('\\n')\n",
        "print(confusion_matrix(clinic_y, y_pred))"
      ],
      "execution_count": 0,
      "outputs": [
        {
          "output_type": "stream",
          "text": [
            "AUC:  0.7956404494382022\n",
            "\n",
            "\n",
            "              precision    recall  f1-score   support\n",
            "\n",
            "         0.0      0.718     0.816     0.764       125\n",
            "         1.0      0.857     0.775     0.814       178\n",
            "\n",
            "    accuracy                          0.792       303\n",
            "   macro avg      0.788     0.796     0.789       303\n",
            "weighted avg      0.800     0.792     0.793       303\n",
            "\n",
            "\n",
            "\n",
            "[[102  23]\n",
            " [ 40 138]]\n"
          ],
          "name": "stdout"
        }
      ]
    },
    {
      "cell_type": "code",
      "metadata": {
        "colab_type": "code",
        "outputId": "d307dc2a-ca8f-4e42-cf61-f1ebcb18038c",
        "id": "dW1Jl5naFbQE",
        "colab": {
          "base_uri": "https://localhost:8080/",
          "height": 1000
        }
      },
      "source": [
        "from sklearn.tree import DecisionTreeClassifier\n",
        "\n",
        "clf = DecisionTreeClassifier(random_state=0)\n",
        "clf.fit(X_train, adni_y)\n",
        "\n",
        "import graphviz\n",
        "from sklearn.tree import export_graphviz\n",
        "\n",
        "dot = export_graphviz(clf, out_file=None,\n",
        "                     feature_names=features,\n",
        "                     class_names=['Normal','Impaired'],\n",
        "                     filled=True, rounded=True,\n",
        "                     rotate=True, max_depth=3)\n",
        "\n",
        "graph = graphviz.Source(dot)\n",
        "graph.render(filename='eff_tree_row26_13.gv', directory=f'{dir}/Output/', format='pdf')\n",
        "graph"
      ],
      "execution_count": 0,
      "outputs": [
        {
          "output_type": "execute_result",
          "data": {
            "text/plain": [
              "<graphviz.files.Source at 0x7f976eded470>"
            ],
            "image/svg+xml": "<?xml version=\"1.0\" encoding=\"UTF-8\" standalone=\"no\"?>\n<!DOCTYPE svg PUBLIC \"-//W3C//DTD SVG 1.1//EN\"\n \"http://www.w3.org/Graphics/SVG/1.1/DTD/svg11.dtd\">\n<!-- Generated by graphviz version 2.40.1 (20161225.0304)\n -->\n<!-- Title: Tree Pages: 1 -->\n<svg width=\"850pt\" height=\"817pt\"\n viewBox=\"0.00 0.00 850.00 817.00\" xmlns=\"http://www.w3.org/2000/svg\" xmlns:xlink=\"http://www.w3.org/1999/xlink\">\n<g id=\"graph0\" class=\"graph\" transform=\"scale(1 1) rotate(0) translate(4 813)\">\n<title>Tree</title>\n<polygon fill=\"#ffffff\" stroke=\"transparent\" points=\"-4,4 -4,-813 846,-813 846,4 -4,4\"/>\n<!-- 0 -->\n<g id=\"node1\" class=\"node\">\n<title>0</title>\n<path fill=\"#a8d4f4\" stroke=\"#000000\" d=\"M142,-425.5C142,-425.5 12,-425.5 12,-425.5 6,-425.5 0,-419.5 0,-413.5 0,-413.5 0,-354.5 0,-354.5 0,-348.5 6,-342.5 12,-342.5 12,-342.5 142,-342.5 142,-342.5 148,-342.5 154,-348.5 154,-354.5 154,-354.5 154,-413.5 154,-413.5 154,-419.5 148,-425.5 142,-425.5\"/>\n<text text-anchor=\"middle\" x=\"77\" y=\"-410.3\" font-family=\"Helvetica,sans-Serif\" font-size=\"14.00\" fill=\"#000000\">q_memory_cg &lt;= 0.5</text>\n<text text-anchor=\"middle\" x=\"77\" y=\"-395.3\" font-family=\"Helvetica,sans-Serif\" font-size=\"14.00\" fill=\"#000000\">gini = 0.461</text>\n<text text-anchor=\"middle\" x=\"77\" y=\"-380.3\" font-family=\"Helvetica,sans-Serif\" font-size=\"14.00\" fill=\"#000000\">samples = 1167</text>\n<text text-anchor=\"middle\" x=\"77\" y=\"-365.3\" font-family=\"Helvetica,sans-Serif\" font-size=\"14.00\" fill=\"#000000\">value = [420, 747]</text>\n<text text-anchor=\"middle\" x=\"77\" y=\"-350.3\" font-family=\"Helvetica,sans-Serif\" font-size=\"14.00\" fill=\"#000000\">class = Impaired</text>\n</g>\n<!-- 1 -->\n<g id=\"node2\" class=\"node\">\n<title>1</title>\n<path fill=\"#efb489\" stroke=\"#000000\" d=\"M325.5,-526.5C325.5,-526.5 208.5,-526.5 208.5,-526.5 202.5,-526.5 196.5,-520.5 196.5,-514.5 196.5,-514.5 196.5,-455.5 196.5,-455.5 196.5,-449.5 202.5,-443.5 208.5,-443.5 208.5,-443.5 325.5,-443.5 325.5,-443.5 331.5,-443.5 337.5,-449.5 337.5,-455.5 337.5,-455.5 337.5,-514.5 337.5,-514.5 337.5,-520.5 331.5,-526.5 325.5,-526.5\"/>\n<text text-anchor=\"middle\" x=\"267\" y=\"-511.3\" font-family=\"Helvetica,sans-Serif\" font-size=\"14.00\" fill=\"#000000\">moca_orient &lt;= 5.5</text>\n<text text-anchor=\"middle\" x=\"267\" y=\"-496.3\" font-family=\"Helvetica,sans-Serif\" font-size=\"14.00\" fill=\"#000000\">gini = 0.409</text>\n<text text-anchor=\"middle\" x=\"267\" y=\"-481.3\" font-family=\"Helvetica,sans-Serif\" font-size=\"14.00\" fill=\"#000000\">samples = 425</text>\n<text text-anchor=\"middle\" x=\"267\" y=\"-466.3\" font-family=\"Helvetica,sans-Serif\" font-size=\"14.00\" fill=\"#000000\">value = [303, 122]</text>\n<text text-anchor=\"middle\" x=\"267\" y=\"-451.3\" font-family=\"Helvetica,sans-Serif\" font-size=\"14.00\" fill=\"#000000\">class = Normal</text>\n</g>\n<!-- 0&#45;&gt;1 -->\n<g id=\"edge1\" class=\"edge\">\n<title>0&#45;&gt;1</title>\n<path fill=\"none\" stroke=\"#000000\" d=\"M154.0064,-424.935C164.9359,-430.7449 176.1953,-436.7301 187.1769,-442.5677\"/>\n<polygon fill=\"#000000\" stroke=\"#000000\" points=\"185.8499,-445.8261 196.3228,-447.4295 189.1356,-439.6451 185.8499,-445.8261\"/>\n<text text-anchor=\"middle\" x=\"172.4159\" y=\"-451.0412\" font-family=\"Helvetica,sans-Serif\" font-size=\"14.00\" fill=\"#000000\">True</text>\n</g>\n<!-- 262 -->\n<g id=\"node17\" class=\"node\">\n<title>262</title>\n<path fill=\"#5eafea\" stroke=\"#000000\" d=\"M332,-328.5C332,-328.5 202,-328.5 202,-328.5 196,-328.5 190,-322.5 190,-316.5 190,-316.5 190,-257.5 190,-257.5 190,-251.5 196,-245.5 202,-245.5 202,-245.5 332,-245.5 332,-245.5 338,-245.5 344,-251.5 344,-257.5 344,-257.5 344,-316.5 344,-316.5 344,-322.5 338,-328.5 332,-328.5\"/>\n<text text-anchor=\"middle\" x=\"267\" y=\"-313.3\" font-family=\"Helvetica,sans-Serif\" font-size=\"14.00\" fill=\"#000000\">q_memory_cg &lt;= 1.5</text>\n<text text-anchor=\"middle\" x=\"267\" y=\"-298.3\" font-family=\"Helvetica,sans-Serif\" font-size=\"14.00\" fill=\"#000000\">gini = 0.266</text>\n<text text-anchor=\"middle\" x=\"267\" y=\"-283.3\" font-family=\"Helvetica,sans-Serif\" font-size=\"14.00\" fill=\"#000000\">samples = 742</text>\n<text text-anchor=\"middle\" x=\"267\" y=\"-268.3\" font-family=\"Helvetica,sans-Serif\" font-size=\"14.00\" fill=\"#000000\">value = [117, 625]</text>\n<text text-anchor=\"middle\" x=\"267\" y=\"-253.3\" font-family=\"Helvetica,sans-Serif\" font-size=\"14.00\" fill=\"#000000\">class = Impaired</text>\n</g>\n<!-- 0&#45;&gt;262 -->\n<g id=\"edge16\" class=\"edge\">\n<title>0&#45;&gt;262</title>\n<path fill=\"none\" stroke=\"#000000\" d=\"M154.0064,-344.6862C162.8786,-340.1567 171.9681,-335.5163 180.95,-330.9308\"/>\n<polygon fill=\"#000000\" stroke=\"#000000\" points=\"182.569,-334.0341 189.884,-326.3698 179.386,-327.7995 182.569,-334.0341\"/>\n<text text-anchor=\"middle\" x=\"166.1014\" y=\"-314.9632\" font-family=\"Helvetica,sans-Serif\" font-size=\"14.00\" fill=\"#000000\">False</text>\n</g>\n<!-- 2 -->\n<g id=\"node3\" class=\"node\">\n<title>2</title>\n<path fill=\"#8fc8f0\" stroke=\"#000000\" d=\"M525,-678.5C525,-678.5 399,-678.5 399,-678.5 393,-678.5 387,-672.5 387,-666.5 387,-666.5 387,-607.5 387,-607.5 387,-601.5 393,-595.5 399,-595.5 399,-595.5 525,-595.5 525,-595.5 531,-595.5 537,-601.5 537,-607.5 537,-607.5 537,-666.5 537,-666.5 537,-672.5 531,-678.5 525,-678.5\"/>\n<text text-anchor=\"middle\" x=\"462\" y=\"-663.3\" font-family=\"Helvetica,sans-Serif\" font-size=\"14.00\" fill=\"#000000\">q_memory_pt &lt;= 0.5</text>\n<text text-anchor=\"middle\" x=\"462\" y=\"-648.3\" font-family=\"Helvetica,sans-Serif\" font-size=\"14.00\" fill=\"#000000\">gini = 0.422</text>\n<text text-anchor=\"middle\" x=\"462\" y=\"-633.3\" font-family=\"Helvetica,sans-Serif\" font-size=\"14.00\" fill=\"#000000\">samples = 33</text>\n<text text-anchor=\"middle\" x=\"462\" y=\"-618.3\" font-family=\"Helvetica,sans-Serif\" font-size=\"14.00\" fill=\"#000000\">value = [10, 23]</text>\n<text text-anchor=\"middle\" x=\"462\" y=\"-603.3\" font-family=\"Helvetica,sans-Serif\" font-size=\"14.00\" fill=\"#000000\">class = Impaired</text>\n</g>\n<!-- 1&#45;&gt;2 -->\n<g id=\"edge2\" class=\"edge\">\n<title>1&#45;&gt;2</title>\n<path fill=\"none\" stroke=\"#000000\" d=\"M320.2846,-526.5347C345.0106,-545.8083 374.5499,-568.8338 400.2449,-588.8627\"/>\n<polygon fill=\"#000000\" stroke=\"#000000\" points=\"398.4026,-591.8643 408.4413,-595.2517 402.7061,-586.3434 398.4026,-591.8643\"/>\n</g>\n<!-- 31 -->\n<g id=\"node10\" class=\"node\">\n<title>31</title>\n<path fill=\"#eeac7c\" stroke=\"#000000\" d=\"M525,-526.5C525,-526.5 399,-526.5 399,-526.5 393,-526.5 387,-520.5 387,-514.5 387,-514.5 387,-455.5 387,-455.5 387,-449.5 393,-443.5 399,-443.5 399,-443.5 525,-443.5 525,-443.5 531,-443.5 537,-449.5 537,-455.5 537,-455.5 537,-514.5 537,-514.5 537,-520.5 531,-526.5 525,-526.5\"/>\n<text text-anchor=\"middle\" x=\"462\" y=\"-511.3\" font-family=\"Helvetica,sans-Serif\" font-size=\"14.00\" fill=\"#000000\">q_memory_pt &lt;= 1.5</text>\n<text text-anchor=\"middle\" x=\"462\" y=\"-496.3\" font-family=\"Helvetica,sans-Serif\" font-size=\"14.00\" fill=\"#000000\">gini = 0.378</text>\n<text text-anchor=\"middle\" x=\"462\" y=\"-481.3\" font-family=\"Helvetica,sans-Serif\" font-size=\"14.00\" fill=\"#000000\">samples = 392</text>\n<text text-anchor=\"middle\" x=\"462\" y=\"-466.3\" font-family=\"Helvetica,sans-Serif\" font-size=\"14.00\" fill=\"#000000\">value = [293, 99]</text>\n<text text-anchor=\"middle\" x=\"462\" y=\"-451.3\" font-family=\"Helvetica,sans-Serif\" font-size=\"14.00\" fill=\"#000000\">class = Normal</text>\n</g>\n<!-- 1&#45;&gt;31 -->\n<g id=\"edge9\" class=\"edge\">\n<title>1&#45;&gt;31</title>\n<path fill=\"none\" stroke=\"#000000\" d=\"M337.6752,-485C350.3178,-485 363.6129,-485 376.616,-485\"/>\n<polygon fill=\"#000000\" stroke=\"#000000\" points=\"376.9637,-488.5001 386.9636,-485 376.9636,-481.5001 376.9637,-488.5001\"/>\n</g>\n<!-- 3 -->\n<g id=\"node4\" class=\"node\">\n<title>3</title>\n<path fill=\"#f8dbc6\" stroke=\"#000000\" d=\"M724.5,-779.5C724.5,-779.5 607.5,-779.5 607.5,-779.5 601.5,-779.5 595.5,-773.5 595.5,-767.5 595.5,-767.5 595.5,-708.5 595.5,-708.5 595.5,-702.5 601.5,-696.5 607.5,-696.5 607.5,-696.5 724.5,-696.5 724.5,-696.5 730.5,-696.5 736.5,-702.5 736.5,-708.5 736.5,-708.5 736.5,-767.5 736.5,-767.5 736.5,-773.5 730.5,-779.5 724.5,-779.5\"/>\n<text text-anchor=\"middle\" x=\"666\" y=\"-764.3\" font-family=\"Helvetica,sans-Serif\" font-size=\"14.00\" fill=\"#000000\">moca_orient &lt;= 4.5</text>\n<text text-anchor=\"middle\" x=\"666\" y=\"-749.3\" font-family=\"Helvetica,sans-Serif\" font-size=\"14.00\" fill=\"#000000\">gini = 0.486</text>\n<text text-anchor=\"middle\" x=\"666\" y=\"-734.3\" font-family=\"Helvetica,sans-Serif\" font-size=\"14.00\" fill=\"#000000\">samples = 12</text>\n<text text-anchor=\"middle\" x=\"666\" y=\"-719.3\" font-family=\"Helvetica,sans-Serif\" font-size=\"14.00\" fill=\"#000000\">value = [7, 5]</text>\n<text text-anchor=\"middle\" x=\"666\" y=\"-704.3\" font-family=\"Helvetica,sans-Serif\" font-size=\"14.00\" fill=\"#000000\">class = Normal</text>\n</g>\n<!-- 2&#45;&gt;3 -->\n<g id=\"edge3\" class=\"edge\">\n<title>2&#45;&gt;3</title>\n<path fill=\"none\" stroke=\"#000000\" d=\"M537.093,-674.1784C553.0477,-682.0776 569.9484,-690.4451 586.0758,-698.4297\"/>\n<polygon fill=\"#000000\" stroke=\"#000000\" points=\"584.9542,-701.7798 595.4689,-703.0802 588.0601,-695.5066 584.9542,-701.7798\"/>\n</g>\n<!-- 20 -->\n<g id=\"node7\" class=\"node\">\n<title>20</title>\n<path fill=\"#5aade9\" stroke=\"#000000\" d=\"M735,-678.5C735,-678.5 597,-678.5 597,-678.5 591,-678.5 585,-672.5 585,-666.5 585,-666.5 585,-607.5 585,-607.5 585,-601.5 591,-595.5 597,-595.5 597,-595.5 735,-595.5 735,-595.5 741,-595.5 747,-601.5 747,-607.5 747,-607.5 747,-666.5 747,-666.5 747,-672.5 741,-678.5 735,-678.5\"/>\n<text text-anchor=\"middle\" x=\"666\" y=\"-663.3\" font-family=\"Helvetica,sans-Serif\" font-size=\"14.00\" fill=\"#000000\">q_language_cg &lt;= 0.5</text>\n<text text-anchor=\"middle\" x=\"666\" y=\"-648.3\" font-family=\"Helvetica,sans-Serif\" font-size=\"14.00\" fill=\"#000000\">gini = 0.245</text>\n<text text-anchor=\"middle\" x=\"666\" y=\"-633.3\" font-family=\"Helvetica,sans-Serif\" font-size=\"14.00\" fill=\"#000000\">samples = 21</text>\n<text text-anchor=\"middle\" x=\"666\" y=\"-618.3\" font-family=\"Helvetica,sans-Serif\" font-size=\"14.00\" fill=\"#000000\">value = [3, 18]</text>\n<text text-anchor=\"middle\" x=\"666\" y=\"-603.3\" font-family=\"Helvetica,sans-Serif\" font-size=\"14.00\" fill=\"#000000\">class = Impaired</text>\n</g>\n<!-- 2&#45;&gt;20 -->\n<g id=\"edge6\" class=\"edge\">\n<title>2&#45;&gt;20</title>\n<path fill=\"none\" stroke=\"#000000\" d=\"M537.093,-637C549.3741,-637 562.2158,-637 574.8337,-637\"/>\n<polygon fill=\"#000000\" stroke=\"#000000\" points=\"574.8902,-640.5001 584.8901,-637 574.8901,-633.5001 574.8902,-640.5001\"/>\n</g>\n<!-- 4 -->\n<g id=\"node5\" class=\"node\">\n<title>4</title>\n<path fill=\"#c0c0c0\" stroke=\"#000000\" d=\"M830,-809C830,-809 800,-809 800,-809 794,-809 788,-803 788,-797 788,-797 788,-785 788,-785 788,-779 794,-773 800,-773 800,-773 830,-773 830,-773 836,-773 842,-779 842,-785 842,-785 842,-797 842,-797 842,-803 836,-809 830,-809\"/>\n<text text-anchor=\"middle\" x=\"815\" y=\"-787.3\" font-family=\"Helvetica,sans-Serif\" font-size=\"14.00\" fill=\"#000000\">(...)</text>\n</g>\n<!-- 3&#45;&gt;4 -->\n<g id=\"edge4\" class=\"edge\">\n<title>3&#45;&gt;4</title>\n<path fill=\"none\" stroke=\"#000000\" d=\"M736.5729,-763.1031C750.9361,-768.2122 765.4945,-773.3907 778.1047,-777.8762\"/>\n<polygon fill=\"#000000\" stroke=\"#000000\" points=\"777.1644,-781.2565 787.7591,-781.3103 779.5104,-774.6613 777.1644,-781.2565\"/>\n</g>\n<!-- 5 -->\n<g id=\"node6\" class=\"node\">\n<title>5</title>\n<path fill=\"#c0c0c0\" stroke=\"#000000\" d=\"M830,-755C830,-755 800,-755 800,-755 794,-755 788,-749 788,-743 788,-743 788,-731 788,-731 788,-725 794,-719 800,-719 800,-719 830,-719 830,-719 836,-719 842,-725 842,-731 842,-731 842,-743 842,-743 842,-749 836,-755 830,-755\"/>\n<text text-anchor=\"middle\" x=\"815\" y=\"-733.3\" font-family=\"Helvetica,sans-Serif\" font-size=\"14.00\" fill=\"#000000\">(...)</text>\n</g>\n<!-- 3&#45;&gt;5 -->\n<g id=\"edge5\" class=\"edge\">\n<title>3&#45;&gt;5</title>\n<path fill=\"none\" stroke=\"#000000\" d=\"M736.5729,-737.5264C750.7939,-737.4309 765.2063,-737.3342 777.7296,-737.2501\"/>\n<polygon fill=\"#000000\" stroke=\"#000000\" points=\"777.7829,-740.75 787.7591,-737.1828 777.7358,-733.7501 777.7829,-740.75\"/>\n</g>\n<!-- 21 -->\n<g id=\"node8\" class=\"node\">\n<title>21</title>\n<path fill=\"#c0c0c0\" stroke=\"#000000\" d=\"M830,-700C830,-700 800,-700 800,-700 794,-700 788,-694 788,-688 788,-688 788,-676 788,-676 788,-670 794,-664 800,-664 800,-664 830,-664 830,-664 836,-664 842,-670 842,-676 842,-676 842,-688 842,-688 842,-694 836,-700 830,-700\"/>\n<text text-anchor=\"middle\" x=\"815\" y=\"-678.3\" font-family=\"Helvetica,sans-Serif\" font-size=\"14.00\" fill=\"#000000\">(...)</text>\n</g>\n<!-- 20&#45;&gt;21 -->\n<g id=\"edge7\" class=\"edge\">\n<title>20&#45;&gt;21</title>\n<path fill=\"none\" stroke=\"#000000\" d=\"M747.0404,-661.4753C757.8674,-664.7452 768.5089,-667.9591 778.0404,-670.8377\"/>\n<polygon fill=\"#000000\" stroke=\"#000000\" points=\"777.3189,-674.2759 787.9038,-673.8166 779.3428,-667.5748 777.3189,-674.2759\"/>\n</g>\n<!-- 26 -->\n<g id=\"node9\" class=\"node\">\n<title>26</title>\n<path fill=\"#c0c0c0\" stroke=\"#000000\" d=\"M830,-646C830,-646 800,-646 800,-646 794,-646 788,-640 788,-634 788,-634 788,-622 788,-622 788,-616 794,-610 800,-610 800,-610 830,-610 830,-610 836,-610 842,-616 842,-622 842,-622 842,-634 842,-634 842,-640 836,-646 830,-646\"/>\n<text text-anchor=\"middle\" x=\"815\" y=\"-624.3\" font-family=\"Helvetica,sans-Serif\" font-size=\"14.00\" fill=\"#000000\">(...)</text>\n</g>\n<!-- 20&#45;&gt;26 -->\n<g id=\"edge8\" class=\"edge\">\n<title>20&#45;&gt;26</title>\n<path fill=\"none\" stroke=\"#000000\" d=\"M747.0404,-632.1049C757.7523,-631.4579 768.2824,-630.8219 777.7358,-630.2509\"/>\n<polygon fill=\"#000000\" stroke=\"#000000\" points=\"778.1331,-633.7333 787.9038,-629.6367 777.711,-626.7461 778.1331,-633.7333\"/>\n</g>\n<!-- 32 -->\n<g id=\"node11\" class=\"node\">\n<title>32</title>\n<path fill=\"#eca26e\" stroke=\"#000000\" d=\"M729,-577.5C729,-577.5 603,-577.5 603,-577.5 597,-577.5 591,-571.5 591,-565.5 591,-565.5 591,-506.5 591,-506.5 591,-500.5 597,-494.5 603,-494.5 603,-494.5 729,-494.5 729,-494.5 735,-494.5 741,-500.5 741,-506.5 741,-506.5 741,-565.5 741,-565.5 741,-571.5 735,-577.5 729,-577.5\"/>\n<text text-anchor=\"middle\" x=\"666\" y=\"-562.3\" font-family=\"Helvetica,sans-Serif\" font-size=\"14.00\" fill=\"#000000\">q_memory_pt &lt;= 0.5</text>\n<text text-anchor=\"middle\" x=\"666\" y=\"-547.3\" font-family=\"Helvetica,sans-Serif\" font-size=\"14.00\" fill=\"#000000\">gini = 0.332</text>\n<text text-anchor=\"middle\" x=\"666\" y=\"-532.3\" font-family=\"Helvetica,sans-Serif\" font-size=\"14.00\" fill=\"#000000\">samples = 343</text>\n<text text-anchor=\"middle\" x=\"666\" y=\"-517.3\" font-family=\"Helvetica,sans-Serif\" font-size=\"14.00\" fill=\"#000000\">value = [271, 72]</text>\n<text text-anchor=\"middle\" x=\"666\" y=\"-502.3\" font-family=\"Helvetica,sans-Serif\" font-size=\"14.00\" fill=\"#000000\">class = Normal</text>\n</g>\n<!-- 31&#45;&gt;32 -->\n<g id=\"edge10\" class=\"edge\">\n<title>31&#45;&gt;32</title>\n<path fill=\"none\" stroke=\"#000000\" d=\"M537.093,-503.7732C551.3081,-507.327 566.2742,-511.0685 580.7751,-514.6938\"/>\n<polygon fill=\"#000000\" stroke=\"#000000\" points=\"580.1747,-518.1513 590.725,-517.1812 581.8725,-511.3603 580.1747,-518.1513\"/>\n</g>\n<!-- 213 -->\n<g id=\"node14\" class=\"node\">\n<title>213</title>\n<path fill=\"#daedfa\" stroke=\"#000000\" d=\"M724.5,-476.5C724.5,-476.5 607.5,-476.5 607.5,-476.5 601.5,-476.5 595.5,-470.5 595.5,-464.5 595.5,-464.5 595.5,-405.5 595.5,-405.5 595.5,-399.5 601.5,-393.5 607.5,-393.5 607.5,-393.5 724.5,-393.5 724.5,-393.5 730.5,-393.5 736.5,-399.5 736.5,-405.5 736.5,-405.5 736.5,-464.5 736.5,-464.5 736.5,-470.5 730.5,-476.5 724.5,-476.5\"/>\n<text text-anchor=\"middle\" x=\"666\" y=\"-461.3\" font-family=\"Helvetica,sans-Serif\" font-size=\"14.00\" fill=\"#000000\">q_judgmt_pt &lt;= 0.5</text>\n<text text-anchor=\"middle\" x=\"666\" y=\"-446.3\" font-family=\"Helvetica,sans-Serif\" font-size=\"14.00\" fill=\"#000000\">gini = 0.495</text>\n<text text-anchor=\"middle\" x=\"666\" y=\"-431.3\" font-family=\"Helvetica,sans-Serif\" font-size=\"14.00\" fill=\"#000000\">samples = 49</text>\n<text text-anchor=\"middle\" x=\"666\" y=\"-416.3\" font-family=\"Helvetica,sans-Serif\" font-size=\"14.00\" fill=\"#000000\">value = [22, 27]</text>\n<text text-anchor=\"middle\" x=\"666\" y=\"-401.3\" font-family=\"Helvetica,sans-Serif\" font-size=\"14.00\" fill=\"#000000\">class = Impaired</text>\n</g>\n<!-- 31&#45;&gt;213 -->\n<g id=\"edge13\" class=\"edge\">\n<title>31&#45;&gt;213</title>\n<path fill=\"none\" stroke=\"#000000\" d=\"M537.093,-466.5949C552.8986,-462.7209 569.6326,-458.6195 585.6234,-454.7001\"/>\n<polygon fill=\"#000000\" stroke=\"#000000\" points=\"586.5896,-458.067 595.4689,-452.287 584.9232,-451.2682 586.5896,-458.067\"/>\n</g>\n<!-- 33 -->\n<g id=\"node12\" class=\"node\">\n<title>33</title>\n<path fill=\"#c0c0c0\" stroke=\"#000000\" d=\"M830,-591C830,-591 800,-591 800,-591 794,-591 788,-585 788,-579 788,-579 788,-567 788,-567 788,-561 794,-555 800,-555 800,-555 830,-555 830,-555 836,-555 842,-561 842,-567 842,-567 842,-579 842,-579 842,-585 836,-591 830,-591\"/>\n<text text-anchor=\"middle\" x=\"815\" y=\"-569.3\" font-family=\"Helvetica,sans-Serif\" font-size=\"14.00\" fill=\"#000000\">(...)</text>\n</g>\n<!-- 32&#45;&gt;33 -->\n<g id=\"edge11\" class=\"edge\">\n<title>32&#45;&gt;33</title>\n<path fill=\"none\" stroke=\"#000000\" d=\"M741.373,-554.7168C754.0837,-557.8731 766.7604,-561.021 777.9231,-563.793\"/>\n<polygon fill=\"#000000\" stroke=\"#000000\" points=\"777.1575,-567.2091 787.7063,-566.2224 778.8446,-560.4154 777.1575,-567.2091\"/>\n</g>\n<!-- 102 -->\n<g id=\"node13\" class=\"node\">\n<title>102</title>\n<path fill=\"#c0c0c0\" stroke=\"#000000\" d=\"M830,-537C830,-537 800,-537 800,-537 794,-537 788,-531 788,-525 788,-525 788,-513 788,-513 788,-507 794,-501 800,-501 800,-501 830,-501 830,-501 836,-501 842,-507 842,-513 842,-513 842,-525 842,-525 842,-531 836,-537 830,-537\"/>\n<text text-anchor=\"middle\" x=\"815\" y=\"-515.3\" font-family=\"Helvetica,sans-Serif\" font-size=\"14.00\" fill=\"#000000\">(...)</text>\n</g>\n<!-- 32&#45;&gt;102 -->\n<g id=\"edge12\" class=\"edge\">\n<title>32&#45;&gt;102</title>\n<path fill=\"none\" stroke=\"#000000\" d=\"M741.373,-527.4004C753.954,-525.965 766.5017,-524.5334 777.5809,-523.2693\"/>\n<polygon fill=\"#000000\" stroke=\"#000000\" points=\"778.1676,-526.7252 787.7063,-522.114 777.374,-519.7703 778.1676,-526.7252\"/>\n</g>\n<!-- 214 -->\n<g id=\"node15\" class=\"node\">\n<title>214</title>\n<path fill=\"#c0c0c0\" stroke=\"#000000\" d=\"M830,-481C830,-481 800,-481 800,-481 794,-481 788,-475 788,-469 788,-469 788,-457 788,-457 788,-451 794,-445 800,-445 800,-445 830,-445 830,-445 836,-445 842,-451 842,-457 842,-457 842,-469 842,-469 842,-475 836,-481 830,-481\"/>\n<text text-anchor=\"middle\" x=\"815\" y=\"-459.3\" font-family=\"Helvetica,sans-Serif\" font-size=\"14.00\" fill=\"#000000\">(...)</text>\n</g>\n<!-- 213&#45;&gt;214 -->\n<g id=\"edge14\" class=\"edge\">\n<title>213&#45;&gt;214</title>\n<path fill=\"none\" stroke=\"#000000\" d=\"M736.5729,-448.262C750.7939,-450.9344 765.2063,-453.6428 777.7296,-455.9962\"/>\n<polygon fill=\"#000000\" stroke=\"#000000\" points=\"777.2847,-459.4738 787.7591,-457.8809 778.5776,-452.5942 777.2847,-459.4738\"/>\n</g>\n<!-- 239 -->\n<g id=\"node16\" class=\"node\">\n<title>239</title>\n<path fill=\"#c0c0c0\" stroke=\"#000000\" d=\"M830,-427C830,-427 800,-427 800,-427 794,-427 788,-421 788,-415 788,-415 788,-403 788,-403 788,-397 794,-391 800,-391 800,-391 830,-391 830,-391 836,-391 842,-397 842,-403 842,-403 842,-415 842,-415 842,-421 836,-427 830,-427\"/>\n<text text-anchor=\"middle\" x=\"815\" y=\"-405.3\" font-family=\"Helvetica,sans-Serif\" font-size=\"14.00\" fill=\"#000000\">(...)</text>\n</g>\n<!-- 213&#45;&gt;239 -->\n<g id=\"edge15\" class=\"edge\">\n<title>213&#45;&gt;239</title>\n<path fill=\"none\" stroke=\"#000000\" d=\"M736.5729,-422.6853C750.7939,-420.2037 765.2063,-417.6888 777.7296,-415.5036\"/>\n<polygon fill=\"#000000\" stroke=\"#000000\" points=\"778.5097,-418.9204 787.7591,-413.7534 777.3063,-412.0246 778.5097,-418.9204\"/>\n</g>\n<!-- 263 -->\n<g id=\"node18\" class=\"node\">\n<title>263</title>\n<path fill=\"#83c2ef\" stroke=\"#000000\" d=\"M532,-328.5C532,-328.5 392,-328.5 392,-328.5 386,-328.5 380,-322.5 380,-316.5 380,-316.5 380,-257.5 380,-257.5 380,-251.5 386,-245.5 392,-245.5 392,-245.5 532,-245.5 532,-245.5 538,-245.5 544,-251.5 544,-257.5 544,-257.5 544,-316.5 544,-316.5 544,-322.5 538,-328.5 532,-328.5\"/>\n<text text-anchor=\"middle\" x=\"462\" y=\"-313.3\" font-family=\"Helvetica,sans-Serif\" font-size=\"14.00\" fill=\"#000000\">q_outsideact_pt &lt;= 0.5</text>\n<text text-anchor=\"middle\" x=\"462\" y=\"-298.3\" font-family=\"Helvetica,sans-Serif\" font-size=\"14.00\" fill=\"#000000\">gini = 0.397</text>\n<text text-anchor=\"middle\" x=\"462\" y=\"-283.3\" font-family=\"Helvetica,sans-Serif\" font-size=\"14.00\" fill=\"#000000\">samples = 370</text>\n<text text-anchor=\"middle\" x=\"462\" y=\"-268.3\" font-family=\"Helvetica,sans-Serif\" font-size=\"14.00\" fill=\"#000000\">value = [101, 269]</text>\n<text text-anchor=\"middle\" x=\"462\" y=\"-253.3\" font-family=\"Helvetica,sans-Serif\" font-size=\"14.00\" fill=\"#000000\">class = Impaired</text>\n</g>\n<!-- 262&#45;&gt;263 -->\n<g id=\"edge17\" class=\"edge\">\n<title>262&#45;&gt;263</title>\n<path fill=\"none\" stroke=\"#000000\" d=\"M344.0692,-287C352.4859,-287 361.1153,-287 369.691,-287\"/>\n<polygon fill=\"#000000\" stroke=\"#000000\" points=\"369.7176,-290.5001 379.7175,-287 369.7175,-283.5001 369.7176,-290.5001\"/>\n</g>\n<!-- 482 -->\n<g id=\"node25\" class=\"node\">\n<title>482</title>\n<path fill=\"#42a1e6\" stroke=\"#000000\" d=\"M513.5,-180.5C513.5,-180.5 410.5,-180.5 410.5,-180.5 404.5,-180.5 398.5,-174.5 398.5,-168.5 398.5,-168.5 398.5,-109.5 398.5,-109.5 398.5,-103.5 404.5,-97.5 410.5,-97.5 410.5,-97.5 513.5,-97.5 513.5,-97.5 519.5,-97.5 525.5,-103.5 525.5,-109.5 525.5,-109.5 525.5,-168.5 525.5,-168.5 525.5,-174.5 519.5,-180.5 513.5,-180.5\"/>\n<text text-anchor=\"middle\" x=\"462\" y=\"-165.3\" font-family=\"Helvetica,sans-Serif\" font-size=\"14.00\" fill=\"#000000\">MMNAME &lt;= 1.5</text>\n<text text-anchor=\"middle\" x=\"462\" y=\"-150.3\" font-family=\"Helvetica,sans-Serif\" font-size=\"14.00\" fill=\"#000000\">gini = 0.082</text>\n<text text-anchor=\"middle\" x=\"462\" y=\"-135.3\" font-family=\"Helvetica,sans-Serif\" font-size=\"14.00\" fill=\"#000000\">samples = 372</text>\n<text text-anchor=\"middle\" x=\"462\" y=\"-120.3\" font-family=\"Helvetica,sans-Serif\" font-size=\"14.00\" fill=\"#000000\">value = [16, 356]</text>\n<text text-anchor=\"middle\" x=\"462\" y=\"-105.3\" font-family=\"Helvetica,sans-Serif\" font-size=\"14.00\" fill=\"#000000\">class = Impaired</text>\n</g>\n<!-- 262&#45;&gt;482 -->\n<g id=\"edge24\" class=\"edge\">\n<title>262&#45;&gt;482</title>\n<path fill=\"none\" stroke=\"#000000\" d=\"M321.8373,-245.3799C345.8236,-227.1749 374.1009,-205.7132 398.9516,-186.8521\"/>\n<polygon fill=\"#000000\" stroke=\"#000000\" points=\"401.3872,-189.3975 407.2368,-180.5639 397.1552,-183.8216 401.3872,-189.3975\"/>\n</g>\n<!-- 264 -->\n<g id=\"node19\" class=\"node\">\n<title>264</title>\n<path fill=\"#9acdf2\" stroke=\"#000000\" d=\"M740,-375.5C740,-375.5 592,-375.5 592,-375.5 586,-375.5 580,-369.5 580,-363.5 580,-363.5 580,-304.5 580,-304.5 580,-298.5 586,-292.5 592,-292.5 592,-292.5 740,-292.5 740,-292.5 746,-292.5 752,-298.5 752,-304.5 752,-304.5 752,-363.5 752,-363.5 752,-369.5 746,-375.5 740,-375.5\"/>\n<text text-anchor=\"middle\" x=\"666\" y=\"-360.3\" font-family=\"Helvetica,sans-Serif\" font-size=\"14.00\" fill=\"#000000\">moca_similarities &lt;= 1.5</text>\n<text text-anchor=\"middle\" x=\"666\" y=\"-345.3\" font-family=\"Helvetica,sans-Serif\" font-size=\"14.00\" fill=\"#000000\">gini = 0.442</text>\n<text text-anchor=\"middle\" x=\"666\" y=\"-330.3\" font-family=\"Helvetica,sans-Serif\" font-size=\"14.00\" fill=\"#000000\">samples = 285</text>\n<text text-anchor=\"middle\" x=\"666\" y=\"-315.3\" font-family=\"Helvetica,sans-Serif\" font-size=\"14.00\" fill=\"#000000\">value = [94, 191]</text>\n<text text-anchor=\"middle\" x=\"666\" y=\"-300.3\" font-family=\"Helvetica,sans-Serif\" font-size=\"14.00\" fill=\"#000000\">class = Impaired</text>\n</g>\n<!-- 263&#45;&gt;264 -->\n<g id=\"edge18\" class=\"edge\">\n<title>263&#45;&gt;264</title>\n<path fill=\"none\" stroke=\"#000000\" d=\"M544.0928,-305.9135C552.5279,-307.8569 561.152,-309.8438 569.7221,-311.8183\"/>\n<polygon fill=\"#000000\" stroke=\"#000000\" points=\"569.2127,-315.2926 579.7432,-314.1271 570.7843,-308.4713 569.2127,-315.2926\"/>\n</g>\n<!-- 445 -->\n<g id=\"node22\" class=\"node\">\n<title>445</title>\n<path fill=\"#4ba6e7\" stroke=\"#000000\" d=\"M715,-274.5C715,-274.5 617,-274.5 617,-274.5 611,-274.5 605,-268.5 605,-262.5 605,-262.5 605,-203.5 605,-203.5 605,-197.5 611,-191.5 617,-191.5 617,-191.5 715,-191.5 715,-191.5 721,-191.5 727,-197.5 727,-203.5 727,-203.5 727,-262.5 727,-262.5 727,-268.5 721,-274.5 715,-274.5\"/>\n<text text-anchor=\"middle\" x=\"666\" y=\"-259.3\" font-family=\"Helvetica,sans-Serif\" font-size=\"14.00\" fill=\"#000000\">PTHAND &lt;= 1.5</text>\n<text text-anchor=\"middle\" x=\"666\" y=\"-244.3\" font-family=\"Helvetica,sans-Serif\" font-size=\"14.00\" fill=\"#000000\">gini = 0.151</text>\n<text text-anchor=\"middle\" x=\"666\" y=\"-229.3\" font-family=\"Helvetica,sans-Serif\" font-size=\"14.00\" fill=\"#000000\">samples = 85</text>\n<text text-anchor=\"middle\" x=\"666\" y=\"-214.3\" font-family=\"Helvetica,sans-Serif\" font-size=\"14.00\" fill=\"#000000\">value = [7, 78]</text>\n<text text-anchor=\"middle\" x=\"666\" y=\"-199.3\" font-family=\"Helvetica,sans-Serif\" font-size=\"14.00\" fill=\"#000000\">class = Impaired</text>\n</g>\n<!-- 263&#45;&gt;445 -->\n<g id=\"edge21\" class=\"edge\">\n<title>263&#45;&gt;445</title>\n<path fill=\"none\" stroke=\"#000000\" d=\"M544.0928,-265.2696C560.8714,-260.8282 578.3976,-256.1889 594.759,-251.8579\"/>\n<polygon fill=\"#000000\" stroke=\"#000000\" points=\"596.0073,-255.1481 604.7787,-249.2056 594.216,-248.3812 596.0073,-255.1481\"/>\n</g>\n<!-- 265 -->\n<g id=\"node20\" class=\"node\">\n<title>265</title>\n<path fill=\"#c0c0c0\" stroke=\"#000000\" d=\"M830,-368C830,-368 800,-368 800,-368 794,-368 788,-362 788,-356 788,-356 788,-344 788,-344 788,-338 794,-332 800,-332 800,-332 830,-332 830,-332 836,-332 842,-338 842,-344 842,-344 842,-356 842,-356 842,-362 836,-368 830,-368\"/>\n<text text-anchor=\"middle\" x=\"815\" y=\"-346.3\" font-family=\"Helvetica,sans-Serif\" font-size=\"14.00\" fill=\"#000000\">(...)</text>\n</g>\n<!-- 264&#45;&gt;265 -->\n<g id=\"edge19\" class=\"edge\">\n<title>264&#45;&gt;265</title>\n<path fill=\"none\" stroke=\"#000000\" d=\"M752.2424,-343.2609C761.192,-344.222 769.9097,-345.1581 777.8613,-346.0119\"/>\n<polygon fill=\"#000000\" stroke=\"#000000\" points=\"777.5116,-349.4944 787.8281,-347.0822 778.259,-342.5344 777.5116,-349.4944\"/>\n</g>\n<!-- 292 -->\n<g id=\"node21\" class=\"node\">\n<title>292</title>\n<path fill=\"#c0c0c0\" stroke=\"#000000\" d=\"M830,-314C830,-314 800,-314 800,-314 794,-314 788,-308 788,-302 788,-302 788,-290 788,-290 788,-284 794,-278 800,-278 800,-278 830,-278 830,-278 836,-278 842,-284 842,-290 842,-290 842,-302 842,-302 842,-308 836,-314 830,-314\"/>\n<text text-anchor=\"middle\" x=\"815\" y=\"-292.3\" font-family=\"Helvetica,sans-Serif\" font-size=\"14.00\" fill=\"#000000\">(...)</text>\n</g>\n<!-- 264&#45;&gt;292 -->\n<g id=\"edge20\" class=\"edge\">\n<title>264&#45;&gt;292</title>\n<path fill=\"none\" stroke=\"#000000\" d=\"M752.2424,-312.0053C761.2926,-309.6972 770.1056,-307.4496 778.129,-305.4033\"/>\n<polygon fill=\"#000000\" stroke=\"#000000\" points=\"779.0032,-308.7925 787.8281,-302.9297 777.2733,-302.0096 779.0032,-308.7925\"/>\n</g>\n<!-- 446 -->\n<g id=\"node23\" class=\"node\">\n<title>446</title>\n<path fill=\"#c0c0c0\" stroke=\"#000000\" d=\"M830,-251C830,-251 800,-251 800,-251 794,-251 788,-245 788,-239 788,-239 788,-227 788,-227 788,-221 794,-215 800,-215 800,-215 830,-215 830,-215 836,-215 842,-221 842,-227 842,-227 842,-239 842,-239 842,-245 836,-251 830,-251\"/>\n<text text-anchor=\"middle\" x=\"815\" y=\"-229.3\" font-family=\"Helvetica,sans-Serif\" font-size=\"14.00\" fill=\"#000000\">(...)</text>\n</g>\n<!-- 445&#45;&gt;446 -->\n<g id=\"edge22\" class=\"edge\">\n<title>445&#45;&gt;446</title>\n<path fill=\"none\" stroke=\"#000000\" d=\"M727.0339,-233C744.1422,-233 762.2306,-233 777.5266,-233\"/>\n<polygon fill=\"#000000\" stroke=\"#000000\" points=\"777.6237,-236.5001 787.6237,-233 777.6236,-229.5001 777.6237,-236.5001\"/>\n</g>\n<!-- 475 -->\n<g id=\"node24\" class=\"node\">\n<title>475</title>\n<path fill=\"#c0c0c0\" stroke=\"#000000\" d=\"M830,-197C830,-197 800,-197 800,-197 794,-197 788,-191 788,-185 788,-185 788,-173 788,-173 788,-167 794,-161 800,-161 800,-161 830,-161 830,-161 836,-161 842,-167 842,-173 842,-173 842,-185 842,-185 842,-191 836,-197 830,-197\"/>\n<text text-anchor=\"middle\" x=\"815\" y=\"-175.3\" font-family=\"Helvetica,sans-Serif\" font-size=\"14.00\" fill=\"#000000\">(...)</text>\n</g>\n<!-- 445&#45;&gt;475 -->\n<g id=\"edge23\" class=\"edge\">\n<title>445&#45;&gt;475</title>\n<path fill=\"none\" stroke=\"#000000\" d=\"M727.0339,-210.8803C744.3067,-204.6204 762.5785,-197.9984 777.9671,-192.4213\"/>\n<polygon fill=\"#000000\" stroke=\"#000000\" points=\"779.4146,-195.6196 787.6237,-188.9216 777.0295,-189.0384 779.4146,-195.6196\"/>\n</g>\n<!-- 483 -->\n<g id=\"node26\" class=\"node\">\n<title>483</title>\n<path fill=\"#e58139\" stroke=\"#000000\" d=\"M710.5,-173C710.5,-173 621.5,-173 621.5,-173 615.5,-173 609.5,-167 609.5,-161 609.5,-161 609.5,-117 609.5,-117 609.5,-111 615.5,-105 621.5,-105 621.5,-105 710.5,-105 710.5,-105 716.5,-105 722.5,-111 722.5,-117 722.5,-117 722.5,-161 722.5,-161 722.5,-167 716.5,-173 710.5,-173\"/>\n<text text-anchor=\"middle\" x=\"666\" y=\"-157.8\" font-family=\"Helvetica,sans-Serif\" font-size=\"14.00\" fill=\"#000000\">gini = 0.0</text>\n<text text-anchor=\"middle\" x=\"666\" y=\"-142.8\" font-family=\"Helvetica,sans-Serif\" font-size=\"14.00\" fill=\"#000000\">samples = 1</text>\n<text text-anchor=\"middle\" x=\"666\" y=\"-127.8\" font-family=\"Helvetica,sans-Serif\" font-size=\"14.00\" fill=\"#000000\">value = [1, 0]</text>\n<text text-anchor=\"middle\" x=\"666\" y=\"-112.8\" font-family=\"Helvetica,sans-Serif\" font-size=\"14.00\" fill=\"#000000\">class = Normal</text>\n</g>\n<!-- 482&#45;&gt;483 -->\n<g id=\"edge25\" class=\"edge\">\n<title>482&#45;&gt;483</title>\n<path fill=\"none\" stroke=\"#000000\" d=\"M525.7077,-139C549.0282,-139 575.4727,-139 599.067,-139\"/>\n<polygon fill=\"#000000\" stroke=\"#000000\" points=\"599.335,-142.5001 609.335,-139 599.335,-135.5001 599.335,-142.5001\"/>\n</g>\n<!-- 484 -->\n<g id=\"node27\" class=\"node\">\n<title>484</title>\n<path fill=\"#41a1e6\" stroke=\"#000000\" d=\"M724.5,-86.5C724.5,-86.5 607.5,-86.5 607.5,-86.5 601.5,-86.5 595.5,-80.5 595.5,-74.5 595.5,-74.5 595.5,-15.5 595.5,-15.5 595.5,-9.5 601.5,-3.5 607.5,-3.5 607.5,-3.5 724.5,-3.5 724.5,-3.5 730.5,-3.5 736.5,-9.5 736.5,-15.5 736.5,-15.5 736.5,-74.5 736.5,-74.5 736.5,-80.5 730.5,-86.5 724.5,-86.5\"/>\n<text text-anchor=\"middle\" x=\"666\" y=\"-71.3\" font-family=\"Helvetica,sans-Serif\" font-size=\"14.00\" fill=\"#000000\">moca_orient &lt;= 5.5</text>\n<text text-anchor=\"middle\" x=\"666\" y=\"-56.3\" font-family=\"Helvetica,sans-Serif\" font-size=\"14.00\" fill=\"#000000\">gini = 0.078</text>\n<text text-anchor=\"middle\" x=\"666\" y=\"-41.3\" font-family=\"Helvetica,sans-Serif\" font-size=\"14.00\" fill=\"#000000\">samples = 371</text>\n<text text-anchor=\"middle\" x=\"666\" y=\"-26.3\" font-family=\"Helvetica,sans-Serif\" font-size=\"14.00\" fill=\"#000000\">value = [15, 356]</text>\n<text text-anchor=\"middle\" x=\"666\" y=\"-11.3\" font-family=\"Helvetica,sans-Serif\" font-size=\"14.00\" fill=\"#000000\">class = Impaired</text>\n</g>\n<!-- 482&#45;&gt;484 -->\n<g id=\"edge26\" class=\"edge\">\n<title>482&#45;&gt;484</title>\n<path fill=\"none\" stroke=\"#000000\" d=\"M525.7077,-109.6445C544.8685,-100.8155 566.1381,-91.0148 586.2031,-81.7692\"/>\n<polygon fill=\"#000000\" stroke=\"#000000\" points=\"587.708,-84.9295 595.3254,-77.5657 584.7785,-78.572 587.708,-84.9295\"/>\n</g>\n<!-- 485 -->\n<g id=\"node28\" class=\"node\">\n<title>485</title>\n<path fill=\"#c0c0c0\" stroke=\"#000000\" d=\"M830,-90C830,-90 800,-90 800,-90 794,-90 788,-84 788,-78 788,-78 788,-66 788,-66 788,-60 794,-54 800,-54 800,-54 830,-54 830,-54 836,-54 842,-60 842,-66 842,-66 842,-78 842,-78 842,-84 836,-90 830,-90\"/>\n<text text-anchor=\"middle\" x=\"815\" y=\"-68.3\" font-family=\"Helvetica,sans-Serif\" font-size=\"14.00\" fill=\"#000000\">(...)</text>\n</g>\n<!-- 484&#45;&gt;485 -->\n<g id=\"edge27\" class=\"edge\">\n<title>484&#45;&gt;485</title>\n<path fill=\"none\" stroke=\"#000000\" d=\"M736.5729,-57.7884C750.7939,-60.3653 765.2063,-62.977 777.7296,-65.2463\"/>\n<polygon fill=\"#000000\" stroke=\"#000000\" points=\"777.2953,-68.7245 787.7591,-67.0637 778.5435,-61.8367 777.2953,-68.7245\"/>\n</g>\n<!-- 498 -->\n<g id=\"node29\" class=\"node\">\n<title>498</title>\n<path fill=\"#c0c0c0\" stroke=\"#000000\" d=\"M830,-36C830,-36 800,-36 800,-36 794,-36 788,-30 788,-24 788,-24 788,-12 788,-12 788,-6 794,0 800,0 800,0 830,0 830,0 836,0 842,-6 842,-12 842,-12 842,-24 842,-24 842,-30 836,-36 830,-36\"/>\n<text text-anchor=\"middle\" x=\"815\" y=\"-14.3\" font-family=\"Helvetica,sans-Serif\" font-size=\"14.00\" fill=\"#000000\">(...)</text>\n</g>\n<!-- 484&#45;&gt;498 -->\n<g id=\"edge28\" class=\"edge\">\n<title>484&#45;&gt;498</title>\n<path fill=\"none\" stroke=\"#000000\" d=\"M736.5729,-32.2116C750.7939,-29.6347 765.2063,-27.023 777.7296,-24.7537\"/>\n<polygon fill=\"#000000\" stroke=\"#000000\" points=\"778.5435,-28.1633 787.7591,-22.9363 777.2953,-21.2755 778.5435,-28.1633\"/>\n</g>\n</g>\n</svg>\n"
          },
          "metadata": {
            "tags": []
          },
          "execution_count": 420
        }
      ]
    },
    {
      "cell_type": "markdown",
      "metadata": {
        "id": "daXImRewkt4j",
        "colab_type": "text"
      },
      "source": [
        "# Conclusions\n",
        "\n",
        "The most accurate feature set using the constrained cost values happened to also be the most efficient feature set, at four features and 84.2% accuracy (AUC = 0.853)"
      ]
    }
  ]
}